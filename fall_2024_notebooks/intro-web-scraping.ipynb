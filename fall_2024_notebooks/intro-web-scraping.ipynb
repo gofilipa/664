{
 "cells": [
  {
   "cell_type": "code",
   "execution_count": 2,
   "id": "bc634dfa-1fe9-4a8b-9885-b788f55cc5e5",
   "metadata": {},
   "outputs": [],
   "source": [
    "import requests\n",
    "from bs4 import BeautifulSoup"
   ]
  },
  {
   "cell_type": "code",
   "execution_count": 3,
   "id": "0cf8ed30-eed5-4dec-ba0b-8b01312b7049",
   "metadata": {},
   "outputs": [],
   "source": [
    "site = requests.get('https://www.nytimes.com/section/nyregion')\n",
    "html_source = site.content\n",
    "soup = BeautifulSoup(html_source, 'lxml')"
   ]
  },
  {
   "cell_type": "code",
   "execution_count": 4,
   "id": "7117f134-c8c9-4d83-916b-3f4e81ce9d32",
   "metadata": {},
   "outputs": [
    {
     "data": {
      "text/plain": [
       "<title data-rh=\"true\">New York - The New York Times</title>"
      ]
     },
     "execution_count": 4,
     "metadata": {},
     "output_type": "execute_result"
    }
   ],
   "source": [
    "soup.title"
   ]
  },
  {
   "cell_type": "code",
   "execution_count": 36,
   "id": "66a60df1-5be6-4193-a21f-8f8e2f8b3fa2",
   "metadata": {},
   "outputs": [
    {
     "data": {
      "text/plain": [
       "'Advertisement'"
      ]
     },
     "execution_count": 36,
     "metadata": {},
     "output_type": "execute_result"
    }
   ],
   "source": [
    "soup.p.text"
   ]
  },
  {
   "cell_type": "code",
   "execution_count": 11,
   "id": "00bf514f-d9e2-470b-a59e-9a34850a7a29",
   "metadata": {},
   "outputs": [],
   "source": [
    "snippet = soup.find('p', class_='indicate-hover')"
   ]
  },
  {
   "cell_type": "code",
   "execution_count": 12,
   "id": "8e3113d6-eb91-4292-ad8e-d9ba329081ca",
   "metadata": {},
   "outputs": [
    {
     "data": {
      "text/plain": [
       "<p class=\"indicate-hover css-mqqhto\">Mideast Crisis</p>"
      ]
     },
     "execution_count": 12,
     "metadata": {},
     "output_type": "execute_result"
    }
   ],
   "source": [
    "snippet"
   ]
  },
  {
   "cell_type": "code",
   "execution_count": 15,
   "id": "e95442f6-70ab-4282-8073-ec87d633280c",
   "metadata": {},
   "outputs": [],
   "source": [
    "title = soup.title.text"
   ]
  },
  {
   "cell_type": "code",
   "execution_count": 16,
   "id": "a525ac17-48ff-4960-b666-96bf026ebf78",
   "metadata": {},
   "outputs": [
    {
     "data": {
      "text/plain": [
       "'The New York Times - Breaking News, US News, World News and Videos'"
      ]
     },
     "execution_count": 16,
     "metadata": {},
     "output_type": "execute_result"
    }
   ],
   "source": [
    "title"
   ]
  },
  {
   "cell_type": "code",
   "execution_count": 17,
   "id": "6fc0461d-c9b8-4758-95cf-485d218efef8",
   "metadata": {},
   "outputs": [
    {
     "data": {
      "text/plain": [
       "<h3 class=\"css-1nudrh3\" id=\"U.S.-links-column-header\">Sections</h3>"
      ]
     },
     "execution_count": 17,
     "metadata": {},
     "output_type": "execute_result"
    }
   ],
   "source": [
    "soup.h3"
   ]
  },
  {
   "cell_type": "code",
   "execution_count": 24,
   "id": "28bfc018-beb7-406d-b260-432408dcec7b",
   "metadata": {},
   "outputs": [
    {
     "ename": "AttributeError",
     "evalue": "ResultSet object has no attribute 'text'. You're probably treating a list of elements like a single element. Did you call find_all() when you meant to call find()?",
     "output_type": "error",
     "traceback": [
      "\u001b[0;31m---------------------------------------------------------------------------\u001b[0m",
      "\u001b[0;31mAttributeError\u001b[0m                            Traceback (most recent call last)",
      "Cell \u001b[0;32mIn[24], line 1\u001b[0m\n\u001b[0;32m----> 1\u001b[0m soup\u001b[38;5;241m.\u001b[39mfind_all(\u001b[38;5;124m'\u001b[39m\u001b[38;5;124mp\u001b[39m\u001b[38;5;124m'\u001b[39m, class_\u001b[38;5;241m=\u001b[39m\u001b[38;5;124m'\u001b[39m\u001b[38;5;124mindicate-hover css-91bpc3\u001b[39m\u001b[38;5;124m'\u001b[39m)\u001b[38;5;241m.\u001b[39mtext\n",
      "File \u001b[0;32m/opt/anaconda3/lib/python3.11/site-packages/bs4/element.py:2428\u001b[0m, in \u001b[0;36mResultSet.__getattr__\u001b[0;34m(self, key)\u001b[0m\n\u001b[1;32m   2426\u001b[0m \u001b[38;5;28;01mdef\u001b[39;00m \u001b[38;5;21m__getattr__\u001b[39m(\u001b[38;5;28mself\u001b[39m, key):\n\u001b[1;32m   2427\u001b[0m \u001b[38;5;250m    \u001b[39m\u001b[38;5;124;03m\"\"\"Raise a helpful exception to explain a common code fix.\"\"\"\u001b[39;00m\n\u001b[0;32m-> 2428\u001b[0m     \u001b[38;5;28;01mraise\u001b[39;00m \u001b[38;5;167;01mAttributeError\u001b[39;00m(\n\u001b[1;32m   2429\u001b[0m         \u001b[38;5;124m\"\u001b[39m\u001b[38;5;124mResultSet object has no attribute \u001b[39m\u001b[38;5;124m'\u001b[39m\u001b[38;5;132;01m%s\u001b[39;00m\u001b[38;5;124m'\u001b[39m\u001b[38;5;124m. You\u001b[39m\u001b[38;5;124m'\u001b[39m\u001b[38;5;124mre probably treating a list of elements like a single element. Did you call find_all() when you meant to call find()?\u001b[39m\u001b[38;5;124m\"\u001b[39m \u001b[38;5;241m%\u001b[39m key\n\u001b[1;32m   2430\u001b[0m     )\n",
      "\u001b[0;31mAttributeError\u001b[0m: ResultSet object has no attribute 'text'. You're probably treating a list of elements like a single element. Did you call find_all() when you meant to call find()?"
     ]
    }
   ],
   "source": [
    "soup.find_all('p', class_='indicate-hover css-91bpc3').text"
   ]
  },
  {
   "cell_type": "code",
   "execution_count": 44,
   "id": "666c9134-cc06-4468-bae8-45ebc553e96e",
   "metadata": {},
   "outputs": [],
   "source": [
    "divs = soup.find_all('div')"
   ]
  },
  {
   "cell_type": "code",
   "execution_count": 46,
   "id": "4464ad75-7eb6-42bf-8ef1-62d4fb21faab",
   "metadata": {},
   "outputs": [],
   "source": [
    "div_text = []\n",
    "for i in divs:\n",
    "    div_text.append(i.text)"
   ]
  },
  {
   "cell_type": "code",
   "execution_count": 47,
   "id": "d3664a64-77fb-4429-bfb3-2d449bf0d89b",
   "metadata": {},
   "outputs": [
    {
     "data": {
      "text/plain": [
       "['Skip to contentSkip to site indexNew York\\xa0Today’s PaperAdvertisementSKIP ADVERTISEMENTSupported bySKIP ADVERTISEMENTNew YorkEric AdamsKathy HochulBig CityMetropolitan DiarySunday RoutineHighlightsThe Police Called. He Checked the News, and His ‘Heart Dropped.’Gregory Delpeche, a bystander, is in critical condition after being shot by a police officer at a Brooklyn subway station. His friend of decades says it never should have happened.\\xa0By Hurubie Meko and Wesley ParnellCreditDave Sanders for The New York TimesAtlantic City Mayor Indicted on Child Abuse ChargesMarty Small Sr. and his wife, the superintendent of the city’s schools, are accused of beating and punching their teenage daughter.\\xa0By Alyce McFaddenCreditWayne Parry/Associated PressHarvey Weinstein Faces New Sexual Assault Charge in ManhattanThe disgraced Hollywood producer’s 2020 sex-crime conviction was thrown out, but he will be retried on those charges as well.\\xa0By Hurubie MekoCreditMichelle V. Agins/The New York TimesA $336 Million Plan to Build Housing, Retail and an Arts Hub in NewarkNJPAC in Newark is building apartments, retail space and a huge community center. It sees the project as key to its mission — and its future.\\xa0By Tracey TullyCreditJames Estrin/The New York TimesTrump, Hardly New York’s Favorite Son, Brings His Message to Long IslandDonald J. Trump’s rally in Nassau County on Wednesday is another sign of the area’s shift to the right, but some question his choice to spend time in a non-battleground state.\\xa0By Nicholas FandosCreditDoug Mills/The New York TimesM.T.A.’s Financial Needs Grow With Congestion Pricing in PurgatoryTransit leaders proposed a plan on Wednesday to spend more than $65 billion to upgrade New York City’s subway and bus system. Whether they will be able to fully fund it is unclear.\\xa0By Ana LeyCreditLila Barth for The New York TimesWith Trump Sentencing Delayed, It’s an Ordinary WednesdayIn Justice Juan Merchan’s Manhattan courtroom, the wheels of justice keep turning on the day that the former president was to have been sentenced.\\xa0By James BarronCreditJefferson Siegel for The New York TimesNew York TodaySchool Workers’ Families Took Disney Trip Meant for Homeless StudentsNew York City school employees took their children or grandchildren to Disney World and other places through a program intended for homeless students, investigators found.\\xa0By Ed ShanahanCreditJohn Raoux/Associated PressWhy Eric Adams Is Resisting Pressure to Oust Members of His Inner CircleMayor Adams has been loyal to longtime aides despite growing calls for them to resign. It is a trait he has shown through his career.\\xa0By Emma G. FitzsimmonsDana RubinsteinWilliam K. Rashbaum and Jeffery C. MaysCreditKarsten Moran for The New York TimesAdvertisementSKIP ADVERTISEMENTLatestSearchSearchClear this text inputValarie D’Elia, Travel Reporter on TV and Radio, Dies at 64She steered vacationers and business travelers to choice destinations, talked about the best deals, and offered up savvy tips on how to avoid vexation.By Sam Roberts\\xa0Harrison J. Goldin, 88, New York City Comptroller in Fiscal Crisis, Is DeadHe weathered the storm as the city’s chief financial officer for 16 years and jousted with Mayor Koch in a public feud and a losing primary bid to replace him.By Joseph P. Fried\\xa0‘You’re Basically on a Broadway Stage, With New Friends’At the touring dance party Broadway Rave, the playlist is all show tunes. But don’t worry, no house remixes of “I Dreamed a Dream” here.By Annie Aguiar\\xa0Panic! At the Vegan Food FestivalThe New York stop of Vegandale, a roughly 200-vendor event, caused confusion and angered many ticketholders at Citi Field over the weekend.By Priya Krishna\\xa0The King Cole Bar Reopens, Moodier Than BeforeAfter a major renovation, a cozy gathering spot at the St. Regis New York is ready to serve.By Louis Lucero II\\xa0N.Y.C. Schools Chancellor Seeks to Project Stability as Inquiries SwirlDavid C. Banks, whose phone was seized during an investigation related to his brother, largely avoided discussing his current circumstances in his annual State of Our Schools speech.By Claire Fahy\\xa0A Wildly Popular New York Taqueria Nails Its SequelCarnitas Ramírez, the East Village sibling of a hit restaurant in Brooklyn, turns out tacos that hark back to the dish’s working-class roots.By Priya Krishna\\xa0New York TodayWhy Taxpayers Are Funding Cuomo’s Legal BillsThe former governor resigned because of sexual harassment charges, but under the law the public foots the bill for his defense.By James Barron\\xa0Critics Question N.Y.P.D. Shootings After Fare Evasion Stop in SubwayOfficers fired during a clash with a man carrying a knife who was first stopped for fare evasion, police said. Two bystanders, an officer and the man were struck.By Ed Shanahan,\\xa0Ana Ley and Claire Fahy\\xa0Pelosi Blamed New York for House Losses. Hochul Wants Another Chance.The New York governor has rebuilt the state Democratic Party to help flip key swing seats in November. But can she stanch her own political bleeding?By Nicholas Fandos\\xa0Page 1 of 1012345678910AdvertisementSKIP ADVERTISEMENTFollow Us@NYTMetrotwitter page for @NYTMetroAdvertisementSKIP ADVERTISEMENTSite IndexSite Information Navigation©\\xa02024\\xa0The New York Times CompanyNYTCoContact UsAccessibilityWork with usAdvertiseT Brand StudioYour Ad ChoicesPrivacy PolicyTerms of ServiceTerms of SaleSite MapCanadaInternationalHelpSubscriptionsManage Privacy Preferences',\n",
       " 'Skip to contentSkip to site indexNew York\\xa0Today’s Paper',\n",
       " 'Skip to contentSkip to site indexNew York\\xa0Today’s Paper',\n",
       " 'Skip to contentSkip to site index',\n",
       " 'New York',\n",
       " '',\n",
       " '',\n",
       " '\\xa0Today’s Paper',\n",
       " '\\xa0',\n",
       " 'Today’s Paper',\n",
       " '',\n",
       " 'AdvertisementSKIP ADVERTISEMENTSupported bySKIP ADVERTISEMENTNew YorkEric AdamsKathy HochulBig CityMetropolitan DiarySunday RoutineHighlightsThe Police Called. He Checked the News, and His ‘Heart Dropped.’Gregory Delpeche, a bystander, is in critical condition after being shot by a police officer at a Brooklyn subway station. His friend of decades says it never should have happened.\\xa0By Hurubie Meko and Wesley ParnellCreditDave Sanders for The New York TimesAtlantic City Mayor Indicted on Child Abuse ChargesMarty Small Sr. and his wife, the superintendent of the city’s schools, are accused of beating and punching their teenage daughter.\\xa0By Alyce McFaddenCreditWayne Parry/Associated PressHarvey Weinstein Faces New Sexual Assault Charge in ManhattanThe disgraced Hollywood producer’s 2020 sex-crime conviction was thrown out, but he will be retried on those charges as well.\\xa0By Hurubie MekoCreditMichelle V. Agins/The New York TimesA $336 Million Plan to Build Housing, Retail and an Arts Hub in NewarkNJPAC in Newark is building apartments, retail space and a huge community center. It sees the project as key to its mission — and its future.\\xa0By Tracey TullyCreditJames Estrin/The New York TimesTrump, Hardly New York’s Favorite Son, Brings His Message to Long IslandDonald J. Trump’s rally in Nassau County on Wednesday is another sign of the area’s shift to the right, but some question his choice to spend time in a non-battleground state.\\xa0By Nicholas FandosCreditDoug Mills/The New York TimesM.T.A.’s Financial Needs Grow With Congestion Pricing in PurgatoryTransit leaders proposed a plan on Wednesday to spend more than $65 billion to upgrade New York City’s subway and bus system. Whether they will be able to fully fund it is unclear.\\xa0By Ana LeyCreditLila Barth for The New York TimesWith Trump Sentencing Delayed, It’s an Ordinary WednesdayIn Justice Juan Merchan’s Manhattan courtroom, the wheels of justice keep turning on the day that the former president was to have been sentenced.\\xa0By James BarronCreditJefferson Siegel for The New York TimesNew York TodaySchool Workers’ Families Took Disney Trip Meant for Homeless StudentsNew York City school employees took their children or grandchildren to Disney World and other places through a program intended for homeless students, investigators found.\\xa0By Ed ShanahanCreditJohn Raoux/Associated PressWhy Eric Adams Is Resisting Pressure to Oust Members of His Inner CircleMayor Adams has been loyal to longtime aides despite growing calls for them to resign. It is a trait he has shown through his career.\\xa0By Emma G. FitzsimmonsDana RubinsteinWilliam K. Rashbaum and Jeffery C. MaysCreditKarsten Moran for The New York TimesAdvertisementSKIP ADVERTISEMENTLatestSearchSearchClear this text inputValarie D’Elia, Travel Reporter on TV and Radio, Dies at 64She steered vacationers and business travelers to choice destinations, talked about the best deals, and offered up savvy tips on how to avoid vexation.By Sam Roberts\\xa0Harrison J. Goldin, 88, New York City Comptroller in Fiscal Crisis, Is DeadHe weathered the storm as the city’s chief financial officer for 16 years and jousted with Mayor Koch in a public feud and a losing primary bid to replace him.By Joseph P. Fried\\xa0‘You’re Basically on a Broadway Stage, With New Friends’At the touring dance party Broadway Rave, the playlist is all show tunes. But don’t worry, no house remixes of “I Dreamed a Dream” here.By Annie Aguiar\\xa0Panic! At the Vegan Food FestivalThe New York stop of Vegandale, a roughly 200-vendor event, caused confusion and angered many ticketholders at Citi Field over the weekend.By Priya Krishna\\xa0The King Cole Bar Reopens, Moodier Than BeforeAfter a major renovation, a cozy gathering spot at the St. Regis New York is ready to serve.By Louis Lucero II\\xa0N.Y.C. Schools Chancellor Seeks to Project Stability as Inquiries SwirlDavid C. Banks, whose phone was seized during an investigation related to his brother, largely avoided discussing his current circumstances in his annual State of Our Schools speech.By Claire Fahy\\xa0A Wildly Popular New York Taqueria Nails Its SequelCarnitas Ramírez, the East Village sibling of a hit restaurant in Brooklyn, turns out tacos that hark back to the dish’s working-class roots.By Priya Krishna\\xa0New York TodayWhy Taxpayers Are Funding Cuomo’s Legal BillsThe former governor resigned because of sexual harassment charges, but under the law the public foots the bill for his defense.By James Barron\\xa0Critics Question N.Y.P.D. Shootings After Fare Evasion Stop in SubwayOfficers fired during a clash with a man carrying a knife who was first stopped for fare evasion, police said. Two bystanders, an officer and the man were struck.By Ed Shanahan,\\xa0Ana Ley and Claire Fahy\\xa0Pelosi Blamed New York for House Losses. Hochul Wants Another Chance.The New York governor has rebuilt the state Democratic Party to help flip key swing seats in November. But can she stanch her own political bleeding?By Nicholas Fandos\\xa0Page 1 of 1012345678910AdvertisementSKIP ADVERTISEMENTFollow Us@NYTMetrotwitter page for @NYTMetroAdvertisementSKIP ADVERTISEMENTSite IndexSite Information Navigation©\\xa02024\\xa0The New York Times CompanyNYTCoContact UsAccessibilityWork with usAdvertiseT Brand StudioYour Ad ChoicesPrivacy PolicyTerms of ServiceTerms of SaleSite MapCanadaInternationalHelpSubscriptionsManage Privacy Preferences',\n",
       " '',\n",
       " 'AdvertisementSKIP ADVERTISEMENT',\n",
       " 'AdvertisementSKIP ADVERTISEMENT',\n",
       " 'Advertisement',\n",
       " '',\n",
       " '',\n",
       " '',\n",
       " 'Supported bySKIP ADVERTISEMENTNew York',\n",
       " 'Supported bySKIP ADVERTISEMENT',\n",
       " 'Supported bySKIP ADVERTISEMENT',\n",
       " 'Supported bySKIP ADVERTISEMENT',\n",
       " 'Supported by',\n",
       " '',\n",
       " '',\n",
       " '',\n",
       " 'New York',\n",
       " 'New York',\n",
       " 'New York',\n",
       " '',\n",
       " '',\n",
       " '',\n",
       " 'HighlightsThe Police Called. He Checked the News, and His ‘Heart Dropped.’Gregory Delpeche, a bystander, is in critical condition after being shot by a police officer at a Brooklyn subway station. His friend of decades says it never should have happened.\\xa0By Hurubie Meko and Wesley ParnellCreditDave Sanders for The New York TimesAtlantic City Mayor Indicted on Child Abuse ChargesMarty Small Sr. and his wife, the superintendent of the city’s schools, are accused of beating and punching their teenage daughter.\\xa0By Alyce McFaddenCreditWayne Parry/Associated PressHarvey Weinstein Faces New Sexual Assault Charge in ManhattanThe disgraced Hollywood producer’s 2020 sex-crime conviction was thrown out, but he will be retried on those charges as well.\\xa0By Hurubie MekoCreditMichelle V. Agins/The New York TimesA $336 Million Plan to Build Housing, Retail and an Arts Hub in NewarkNJPAC in Newark is building apartments, retail space and a huge community center. It sees the project as key to its mission — and its future.\\xa0By Tracey TullyCreditJames Estrin/The New York TimesTrump, Hardly New York’s Favorite Son, Brings His Message to Long IslandDonald J. Trump’s rally in Nassau County on Wednesday is another sign of the area’s shift to the right, but some question his choice to spend time in a non-battleground state.\\xa0By Nicholas FandosCreditDoug Mills/The New York TimesM.T.A.’s Financial Needs Grow With Congestion Pricing in PurgatoryTransit leaders proposed a plan on Wednesday to spend more than $65 billion to upgrade New York City’s subway and bus system. Whether they will be able to fully fund it is unclear.\\xa0By Ana LeyCreditLila Barth for The New York TimesWith Trump Sentencing Delayed, It’s an Ordinary WednesdayIn Justice Juan Merchan’s Manhattan courtroom, the wheels of justice keep turning on the day that the former president was to have been sentenced.\\xa0By James BarronCreditJefferson Siegel for The New York TimesNew York TodaySchool Workers’ Families Took Disney Trip Meant for Homeless StudentsNew York City school employees took their children or grandchildren to Disney World and other places through a program intended for homeless students, investigators found.\\xa0By Ed ShanahanCreditJohn Raoux/Associated PressWhy Eric Adams Is Resisting Pressure to Oust Members of His Inner CircleMayor Adams has been loyal to longtime aides despite growing calls for them to resign. It is a trait he has shown through his career.\\xa0By Emma G. FitzsimmonsDana RubinsteinWilliam K. Rashbaum and Jeffery C. MaysCreditKarsten Moran for The New York TimesAdvertisementSKIP ADVERTISEMENT',\n",
       " 'HighlightsThe Police Called. He Checked the News, and His ‘Heart Dropped.’Gregory Delpeche, a bystander, is in critical condition after being shot by a police officer at a Brooklyn subway station. His friend of decades says it never should have happened.\\xa0By Hurubie Meko and Wesley ParnellCreditDave Sanders for The New York TimesAtlantic City Mayor Indicted on Child Abuse ChargesMarty Small Sr. and his wife, the superintendent of the city’s schools, are accused of beating and punching their teenage daughter.\\xa0By Alyce McFaddenCreditWayne Parry/Associated PressHarvey Weinstein Faces New Sexual Assault Charge in ManhattanThe disgraced Hollywood producer’s 2020 sex-crime conviction was thrown out, but he will be retried on those charges as well.\\xa0By Hurubie MekoCreditMichelle V. Agins/The New York TimesA $336 Million Plan to Build Housing, Retail and an Arts Hub in NewarkNJPAC in Newark is building apartments, retail space and a huge community center. It sees the project as key to its mission — and its future.\\xa0By Tracey TullyCreditJames Estrin/The New York Times',\n",
       " 'The Police Called. He Checked the News, and His ‘Heart Dropped.’Gregory Delpeche, a bystander, is in critical condition after being shot by a police officer at a Brooklyn subway station. His friend of decades says it never should have happened.\\xa0By Hurubie Meko and Wesley Parnell',\n",
       " '',\n",
       " '',\n",
       " 'Atlantic City Mayor Indicted on Child Abuse ChargesMarty Small Sr. and his wife, the superintendent of the city’s schools, are accused of beating and punching their teenage daughter.\\xa0By Alyce McFadden',\n",
       " '',\n",
       " '',\n",
       " 'Harvey Weinstein Faces New Sexual Assault Charge in ManhattanThe disgraced Hollywood producer’s 2020 sex-crime conviction was thrown out, but he will be retried on those charges as well.\\xa0By Hurubie Meko',\n",
       " 'The disgraced Hollywood producer’s 2020 sex-crime conviction was thrown out, but he will be retried on those charges as well.\\xa0By Hurubie Meko',\n",
       " '',\n",
       " '',\n",
       " 'A $336 Million Plan to Build Housing, Retail and an Arts Hub in NewarkNJPAC in Newark is building apartments, retail space and a huge community center. It sees the project as key to its mission — and its future.\\xa0By Tracey Tully',\n",
       " 'NJPAC in Newark is building apartments, retail space and a huge community center. It sees the project as key to its mission — and its future.\\xa0By Tracey Tully',\n",
       " '',\n",
       " '',\n",
       " 'Trump, Hardly New York’s Favorite Son, Brings His Message to Long IslandDonald J. Trump’s rally in Nassau County on Wednesday is another sign of the area’s shift to the right, but some question his choice to spend time in a non-battleground state.\\xa0By Nicholas FandosCreditDoug Mills/The New York TimesM.T.A.’s Financial Needs Grow With Congestion Pricing in PurgatoryTransit leaders proposed a plan on Wednesday to spend more than $65 billion to upgrade New York City’s subway and bus system. Whether they will be able to fully fund it is unclear.\\xa0By Ana LeyCreditLila Barth for The New York TimesWith Trump Sentencing Delayed, It’s an Ordinary WednesdayIn Justice Juan Merchan’s Manhattan courtroom, the wheels of justice keep turning on the day that the former president was to have been sentenced.\\xa0By James BarronCreditJefferson Siegel for The New York TimesNew York TodaySchool Workers’ Families Took Disney Trip Meant for Homeless StudentsNew York City school employees took their children or grandchildren to Disney World and other places through a program intended for homeless students, investigators found.\\xa0By Ed ShanahanCreditJohn Raoux/Associated PressWhy Eric Adams Is Resisting Pressure to Oust Members of His Inner CircleMayor Adams has been loyal to longtime aides despite growing calls for them to resign. It is a trait he has shown through his career.\\xa0By Emma G. FitzsimmonsDana RubinsteinWilliam K. Rashbaum and Jeffery C. MaysCreditKarsten Moran for The New York Times',\n",
       " 'Trump, Hardly New York’s Favorite Son, Brings His Message to Long IslandDonald J. Trump’s rally in Nassau County on Wednesday is another sign of the area’s shift to the right, but some question his choice to spend time in a non-battleground state.\\xa0By Nicholas FandosCreditDoug Mills/The New York TimesM.T.A.’s Financial Needs Grow With Congestion Pricing in PurgatoryTransit leaders proposed a plan on Wednesday to spend more than $65 billion to upgrade New York City’s subway and bus system. Whether they will be able to fully fund it is unclear.\\xa0By Ana LeyCreditLila Barth for The New York TimesWith Trump Sentencing Delayed, It’s an Ordinary WednesdayIn Justice Juan Merchan’s Manhattan courtroom, the wheels of justice keep turning on the day that the former president was to have been sentenced.\\xa0By James BarronCreditJefferson Siegel for The New York TimesNew York TodaySchool Workers’ Families Took Disney Trip Meant for Homeless StudentsNew York City school employees took their children or grandchildren to Disney World and other places through a program intended for homeless students, investigators found.\\xa0By Ed ShanahanCreditJohn Raoux/Associated PressWhy Eric Adams Is Resisting Pressure to Oust Members of His Inner CircleMayor Adams has been loyal to longtime aides despite growing calls for them to resign. It is a trait he has shown through his career.\\xa0By Emma G. FitzsimmonsDana RubinsteinWilliam K. Rashbaum and Jeffery C. MaysCreditKarsten Moran for The New York Times',\n",
       " 'Trump, Hardly New York’s Favorite Son, Brings His Message to Long IslandDonald J. Trump’s rally in Nassau County on Wednesday is another sign of the area’s shift to the right, but some question his choice to spend time in a non-battleground state.\\xa0By Nicholas FandosCreditDoug Mills/The New York Times',\n",
       " 'Trump, Hardly New York’s Favorite Son, Brings His Message to Long IslandDonald J. Trump’s rally in Nassau County on Wednesday is another sign of the area’s shift to the right, but some question his choice to spend time in a non-battleground state.\\xa0By Nicholas Fandos',\n",
       " '',\n",
       " 'M.T.A.’s Financial Needs Grow With Congestion Pricing in PurgatoryTransit leaders proposed a plan on Wednesday to spend more than $65 billion to upgrade New York City’s subway and bus system. Whether they will be able to fully fund it is unclear.\\xa0By Ana LeyCreditLila Barth for The New York Times',\n",
       " 'M.T.A.’s Financial Needs Grow With Congestion Pricing in PurgatoryTransit leaders proposed a plan on Wednesday to spend more than $65 billion to upgrade New York City’s subway and bus system. Whether they will be able to fully fund it is unclear.\\xa0By Ana Ley',\n",
       " '',\n",
       " 'With Trump Sentencing Delayed, It’s an Ordinary WednesdayIn Justice Juan Merchan’s Manhattan courtroom, the wheels of justice keep turning on the day that the former president was to have been sentenced.\\xa0By James BarronCreditJefferson Siegel for The New York TimesNew York Today',\n",
       " 'With Trump Sentencing Delayed, It’s an Ordinary WednesdayIn Justice Juan Merchan’s Manhattan courtroom, the wheels of justice keep turning on the day that the former president was to have been sentenced.\\xa0By James Barron',\n",
       " '',\n",
       " 'New York Today',\n",
       " 'School Workers’ Families Took Disney Trip Meant for Homeless StudentsNew York City school employees took their children or grandchildren to Disney World and other places through a program intended for homeless students, investigators found.\\xa0By Ed ShanahanCreditJohn Raoux/Associated Press',\n",
       " 'School Workers’ Families Took Disney Trip Meant for Homeless StudentsNew York City school employees took their children or grandchildren to Disney World and other places through a program intended for homeless students, investigators found.\\xa0By Ed Shanahan',\n",
       " '',\n",
       " 'Why Eric Adams Is Resisting Pressure to Oust Members of His Inner CircleMayor Adams has been loyal to longtime aides despite growing calls for them to resign. It is a trait he has shown through his career.\\xa0By Emma G. FitzsimmonsDana RubinsteinWilliam K. Rashbaum and Jeffery C. MaysCreditKarsten Moran for The New York Times',\n",
       " 'Why Eric Adams Is Resisting Pressure to Oust Members of His Inner CircleMayor Adams has been loyal to longtime aides despite growing calls for them to resign. It is a trait he has shown through his career.\\xa0By Emma G. FitzsimmonsDana RubinsteinWilliam K. Rashbaum and Jeffery C. Mays',\n",
       " '',\n",
       " 'AdvertisementSKIP ADVERTISEMENT',\n",
       " 'Advertisement',\n",
       " '',\n",
       " '',\n",
       " 'LatestSearchSearchClear this text inputValarie D’Elia, Travel Reporter on TV and Radio, Dies at 64She steered vacationers and business travelers to choice destinations, talked about the best deals, and offered up savvy tips on how to avoid vexation.By Sam Roberts\\xa0Harrison J. Goldin, 88, New York City Comptroller in Fiscal Crisis, Is DeadHe weathered the storm as the city’s chief financial officer for 16 years and jousted with Mayor Koch in a public feud and a losing primary bid to replace him.By Joseph P. Fried\\xa0‘You’re Basically on a Broadway Stage, With New Friends’At the touring dance party Broadway Rave, the playlist is all show tunes. But don’t worry, no house remixes of “I Dreamed a Dream” here.By Annie Aguiar\\xa0Panic! At the Vegan Food FestivalThe New York stop of Vegandale, a roughly 200-vendor event, caused confusion and angered many ticketholders at Citi Field over the weekend.By Priya Krishna\\xa0The King Cole Bar Reopens, Moodier Than BeforeAfter a major renovation, a cozy gathering spot at the St. Regis New York is ready to serve.By Louis Lucero II\\xa0N.Y.C. Schools Chancellor Seeks to Project Stability as Inquiries SwirlDavid C. Banks, whose phone was seized during an investigation related to his brother, largely avoided discussing his current circumstances in his annual State of Our Schools speech.By Claire Fahy\\xa0A Wildly Popular New York Taqueria Nails Its SequelCarnitas Ramírez, the East Village sibling of a hit restaurant in Brooklyn, turns out tacos that hark back to the dish’s working-class roots.By Priya Krishna\\xa0New York TodayWhy Taxpayers Are Funding Cuomo’s Legal BillsThe former governor resigned because of sexual harassment charges, but under the law the public foots the bill for his defense.By James Barron\\xa0Critics Question N.Y.P.D. Shootings After Fare Evasion Stop in SubwayOfficers fired during a clash with a man carrying a knife who was first stopped for fare evasion, police said. Two bystanders, an officer and the man were struck.By Ed Shanahan,\\xa0Ana Ley and Claire Fahy\\xa0Pelosi Blamed New York for House Losses. Hochul Wants Another Chance.The New York governor has rebuilt the state Democratic Party to help flip key swing seats in November. But can she stanch her own political bleeding?By Nicholas Fandos\\xa0Page 1 of 1012345678910AdvertisementSKIP ADVERTISEMENTFollow Us@NYTMetrotwitter page for @NYTMetroAdvertisementSKIP ADVERTISEMENT',\n",
       " 'LatestSearchSearchClear this text inputValarie D’Elia, Travel Reporter on TV and Radio, Dies at 64She steered vacationers and business travelers to choice destinations, talked about the best deals, and offered up savvy tips on how to avoid vexation.By Sam Roberts\\xa0Harrison J. Goldin, 88, New York City Comptroller in Fiscal Crisis, Is DeadHe weathered the storm as the city’s chief financial officer for 16 years and jousted with Mayor Koch in a public feud and a losing primary bid to replace him.By Joseph P. Fried\\xa0‘You’re Basically on a Broadway Stage, With New Friends’At the touring dance party Broadway Rave, the playlist is all show tunes. But don’t worry, no house remixes of “I Dreamed a Dream” here.By Annie Aguiar\\xa0Panic! At the Vegan Food FestivalThe New York stop of Vegandale, a roughly 200-vendor event, caused confusion and angered many ticketholders at Citi Field over the weekend.By Priya Krishna\\xa0The King Cole Bar Reopens, Moodier Than BeforeAfter a major renovation, a cozy gathering spot at the St. Regis New York is ready to serve.By Louis Lucero II\\xa0N.Y.C. Schools Chancellor Seeks to Project Stability as Inquiries SwirlDavid C. Banks, whose phone was seized during an investigation related to his brother, largely avoided discussing his current circumstances in his annual State of Our Schools speech.By Claire Fahy\\xa0A Wildly Popular New York Taqueria Nails Its SequelCarnitas Ramírez, the East Village sibling of a hit restaurant in Brooklyn, turns out tacos that hark back to the dish’s working-class roots.By Priya Krishna\\xa0New York TodayWhy Taxpayers Are Funding Cuomo’s Legal BillsThe former governor resigned because of sexual harassment charges, but under the law the public foots the bill for his defense.By James Barron\\xa0Critics Question N.Y.P.D. Shootings After Fare Evasion Stop in SubwayOfficers fired during a clash with a man carrying a knife who was first stopped for fare evasion, police said. Two bystanders, an officer and the man were struck.By Ed Shanahan,\\xa0Ana Ley and Claire Fahy\\xa0Pelosi Blamed New York for House Losses. Hochul Wants Another Chance.The New York governor has rebuilt the state Democratic Party to help flip key swing seats in November. But can she stanch her own political bleeding?By Nicholas Fandos\\xa0Page 1 of 1012345678910AdvertisementSKIP ADVERTISEMENTFollow Us@NYTMetrotwitter page for @NYTMetroAdvertisementSKIP ADVERTISEMENT',\n",
       " 'SearchClear this text input',\n",
       " 'Search',\n",
       " 'Clear this text input',\n",
       " 'Valarie D’Elia, Travel Reporter on TV and Radio, Dies at 64She steered vacationers and business travelers to choice destinations, talked about the best deals, and offered up savvy tips on how to avoid vexation.By Sam Roberts\\xa0Harrison J. Goldin, 88, New York City Comptroller in Fiscal Crisis, Is DeadHe weathered the storm as the city’s chief financial officer for 16 years and jousted with Mayor Koch in a public feud and a losing primary bid to replace him.By Joseph P. Fried\\xa0‘You’re Basically on a Broadway Stage, With New Friends’At the touring dance party Broadway Rave, the playlist is all show tunes. But don’t worry, no house remixes of “I Dreamed a Dream” here.By Annie Aguiar\\xa0Panic! At the Vegan Food FestivalThe New York stop of Vegandale, a roughly 200-vendor event, caused confusion and angered many ticketholders at Citi Field over the weekend.By Priya Krishna\\xa0The King Cole Bar Reopens, Moodier Than BeforeAfter a major renovation, a cozy gathering spot at the St. Regis New York is ready to serve.By Louis Lucero II\\xa0N.Y.C. Schools Chancellor Seeks to Project Stability as Inquiries SwirlDavid C. Banks, whose phone was seized during an investigation related to his brother, largely avoided discussing his current circumstances in his annual State of Our Schools speech.By Claire Fahy\\xa0A Wildly Popular New York Taqueria Nails Its SequelCarnitas Ramírez, the East Village sibling of a hit restaurant in Brooklyn, turns out tacos that hark back to the dish’s working-class roots.By Priya Krishna\\xa0New York TodayWhy Taxpayers Are Funding Cuomo’s Legal BillsThe former governor resigned because of sexual harassment charges, but under the law the public foots the bill for his defense.By James Barron\\xa0Critics Question N.Y.P.D. Shootings After Fare Evasion Stop in SubwayOfficers fired during a clash with a man carrying a knife who was first stopped for fare evasion, police said. Two bystanders, an officer and the man were struck.By Ed Shanahan,\\xa0Ana Ley and Claire Fahy\\xa0Pelosi Blamed New York for House Losses. Hochul Wants Another Chance.The New York governor has rebuilt the state Democratic Party to help flip key swing seats in November. But can she stanch her own political bleeding?By Nicholas Fandos\\xa0Page 1 of 1012345678910',\n",
       " '',\n",
       " '',\n",
       " 'Valarie D’Elia, Travel Reporter on TV and Radio, Dies at 64She steered vacationers and business travelers to choice destinations, talked about the best deals, and offered up savvy tips on how to avoid vexation.By Sam Roberts\\xa0',\n",
       " '',\n",
       " '\\xa0',\n",
       " 'Harrison J. Goldin, 88, New York City Comptroller in Fiscal Crisis, Is DeadHe weathered the storm as the city’s chief financial officer for 16 years and jousted with Mayor Koch in a public feud and a losing primary bid to replace him.By Joseph P. Fried\\xa0',\n",
       " '',\n",
       " '\\xa0',\n",
       " '‘You’re Basically on a Broadway Stage, With New Friends’At the touring dance party Broadway Rave, the playlist is all show tunes. But don’t worry, no house remixes of “I Dreamed a Dream” here.By Annie Aguiar\\xa0',\n",
       " '',\n",
       " '\\xa0',\n",
       " 'Panic! At the Vegan Food FestivalThe New York stop of Vegandale, a roughly 200-vendor event, caused confusion and angered many ticketholders at Citi Field over the weekend.By Priya Krishna\\xa0',\n",
       " '',\n",
       " '\\xa0',\n",
       " 'The King Cole Bar Reopens, Moodier Than BeforeAfter a major renovation, a cozy gathering spot at the St. Regis New York is ready to serve.By Louis Lucero II\\xa0',\n",
       " '',\n",
       " '\\xa0',\n",
       " 'N.Y.C. Schools Chancellor Seeks to Project Stability as Inquiries SwirlDavid C. Banks, whose phone was seized during an investigation related to his brother, largely avoided discussing his current circumstances in his annual State of Our Schools speech.By Claire Fahy\\xa0',\n",
       " '',\n",
       " '\\xa0',\n",
       " 'A Wildly Popular New York Taqueria Nails Its SequelCarnitas Ramírez, the East Village sibling of a hit restaurant in Brooklyn, turns out tacos that hark back to the dish’s working-class roots.By Priya Krishna\\xa0',\n",
       " '',\n",
       " '\\xa0',\n",
       " 'New York TodayWhy Taxpayers Are Funding Cuomo’s Legal BillsThe former governor resigned because of sexual harassment charges, but under the law the public foots the bill for his defense.By James Barron\\xa0',\n",
       " '',\n",
       " 'New York Today',\n",
       " '\\xa0',\n",
       " 'Critics Question N.Y.P.D. Shootings After Fare Evasion Stop in SubwayOfficers fired during a clash with a man carrying a knife who was first stopped for fare evasion, police said. Two bystanders, an officer and the man were struck.By Ed Shanahan,\\xa0Ana Ley and Claire Fahy\\xa0',\n",
       " '',\n",
       " '\\xa0',\n",
       " 'Pelosi Blamed New York for House Losses. Hochul Wants Another Chance.The New York governor has rebuilt the state Democratic Party to help flip key swing seats in November. But can she stanch her own political bleeding?By Nicholas Fandos\\xa0',\n",
       " '',\n",
       " '\\xa0',\n",
       " '',\n",
       " 'Page 1 of 1012345678910',\n",
       " 'AdvertisementSKIP ADVERTISEMENTFollow Us@NYTMetrotwitter page for @NYTMetroAdvertisementSKIP ADVERTISEMENT',\n",
       " 'AdvertisementSKIP ADVERTISEMENT',\n",
       " 'Advertisement',\n",
       " '',\n",
       " '',\n",
       " '@NYTMetrotwitter page for @NYTMetro',\n",
       " 'AdvertisementSKIP ADVERTISEMENT',\n",
       " 'Advertisement',\n",
       " '',\n",
       " '',\n",
       " '',\n",
       " '',\n",
       " '',\n",
       " '',\n",
       " '',\n",
       " '']"
      ]
     },
     "execution_count": 47,
     "metadata": {},
     "output_type": "execute_result"
    }
   ],
   "source": [
    "# loop through the new list, and check if headlines contain certain words\n",
    "\n",
    "div_text"
   ]
  },
  {
   "cell_type": "code",
   "execution_count": 63,
   "id": "e2638108-fbcd-45b6-8b13-d1877d7c7ee9",
   "metadata": {},
   "outputs": [
    {
     "name": "stdout",
     "output_type": "stream",
     "text": [
      "The Police Called. He Checked the News, and His ‘Heart Dropped.’Gregory Delpeche, a bystander, is in critical condition after being shot by a police officer at a Brooklyn subway station. His friend of decades says it never should have happened. By Hurubie Meko and Wesley ParnellCreditDave Sanders for The New York Times\n",
      "Critics Question N.Y.P.D. Shootings After Fare Evasion Stop in SubwayOfficers fired during a clash with a man carrying a knife who was first stopped for fare evasion, police said. Two bystanders, an officer and the man were struck.By Ed Shanahan, Ana Ley and Claire Fahy\n"
     ]
    }
   ],
   "source": [
    "for i in header_text:\n",
    "    subway_lower = i.lower()\n",
    "    if \"subway\" in subway_lower:\n",
    "        print(i)"
   ]
  },
  {
   "cell_type": "code",
   "execution_count": 64,
   "id": "eaaf43ee-ceb4-4cd0-88a1-18c185e11612",
   "metadata": {},
   "outputs": [
    {
     "name": "stdout",
     "output_type": "stream",
     "text": [
      "The Police Called. He Checked the News, and His ‘Heart Dropped.’Gregory Delpeche, a bystander, is in critical condition after being shot by a police officer at a Brooklyn subway station. His friend of decades says it never should have happened. By Hurubie Meko and Wesley ParnellCreditDave Sanders for The New York Times\n",
      "Critics Question N.Y.P.D. Shootings After Fare Evasion Stop in SubwayOfficers fired during a clash with a man carrying a knife who was first stopped for fare evasion, police said. Two bystanders, an officer and the man were struck.By Ed Shanahan, Ana Ley and Claire Fahy\n"
     ]
    }
   ],
   "source": [
    "for i in header_text:\n",
    "    police_lower = i.lower()\n",
    "    if \"police\" in police_lower:\n",
    "        print(i)"
   ]
  },
  {
   "cell_type": "code",
   "execution_count": 85,
   "id": "0a070b45-849d-493a-8e9c-7a1cc9b80bbd",
   "metadata": {},
   "outputs": [],
   "source": [
    "site = requests.get('https://www.congress.gov/118/crec/2024/07/11/170/115/modified/CREC-2024-07-11-pt1-PgS4800-2.htm')"
   ]
  },
  {
   "cell_type": "code",
   "execution_count": 86,
   "id": "736e3a15-5449-419e-b6a2-69c7840343db",
   "metadata": {},
   "outputs": [],
   "source": [
    "source = site.content"
   ]
  },
  {
   "cell_type": "code",
   "execution_count": 87,
   "id": "d3d9c7d5-77d2-49e1-802b-90cb639aa2c4",
   "metadata": {},
   "outputs": [],
   "source": [
    "soup = BeautifulSoup(source, 'lxml')"
   ]
  },
  {
   "cell_type": "code",
   "execution_count": 88,
   "id": "ba861c6a-2524-41b5-9123-08b543deee79",
   "metadata": {},
   "outputs": [
    {
     "data": {
      "text/plain": [
       "<html><body><pre>\n",
       "\n",
       "\n",
       "[Pages S4800-S4801]\n",
       "From the Congressional Record Online through the Government Publishing Office [<a href=\"https://www.gpo.gov\">www.gpo.gov</a>]\n",
       "\n",
       "  SA 2476. Mr. RUBIO submitted an amendment intended to be proposed by \n",
       "him to the bill S. 4638, to authorize appropriations for fiscal year \n",
       "2025 for military activities of the Department of Defense, for military \n",
       "construction, and for defense activities of the Department of Energy, \n",
       "to prescribe military personnel strengths for such fiscal year, and for \n",
       "other purposes; which was ordered to lie on the table; as follows:\n",
       "\n",
       "       At the end of title V, add the following:\n",
       "\n",
       "          Subtitle L--Ensuring Military Readiness Act of 2024\n",
       "\n",
       "     SEC. 599E. SHORT TITLE.\n",
       "\n",
       "       This subtitle may be cited as the ``Ensuring Military \n",
       "     Readiness Act of 2024''.\n",
       "\n",
       "     SEC. 599F. LIMITATIONS ON MILITARY SERVICE BY INDIVIDUALS WHO \n",
       "                   IDENTIFY AS TRANSGENDER.\n",
       "\n",
       "       Not later than 90 days after the date of the enactment of \n",
       "     this Act, the Secretary of Defense shall prescribe \n",
       "     regulations regarding service of individuals who identify as \n",
       "     transgender as follows:\n",
       "       (1) Persons who identify as transgender with a history of \n",
       "     diagnosis of gender dysphoria are disqualified from military \n",
       "     service except under the following limited circumstances:\n",
       "       (A) Individuals may serve in the Armed Forces if they have \n",
       "     been stable for 36 consecutive months in their biological sex \n",
       "     prior to accession.\n",
       "       (B) Members of the Armed Forces diagnosed with gender \n",
       "     dysphoria after entering into service may be retained if they \n",
       "     do not undergo gender transition procedures and remain \n",
       "     deployable within applicable retention standards for their \n",
       "     biological sex.\n",
       "       (C) Members of the Armed Forces serving as of the date of \n",
       "     the enactment of this Act who have been diagnosed with gender \n",
       "     dysphoria may continue to serve only in their biological sex, \n",
       "     irrespective of any changes previously made to their gender \n",
       "     marker in the Defense Enrollment Eligibility Reporting System \n",
       "     (DEERS), and receive medically necessary treatment for gender \n",
       "     dysphoria. Such treatment may not include gender transition \n",
       "     procedures.\n",
       "       (2) Persons who identify as transgender who seek or have \n",
       "     undergone gender transition are disqualified from military \n",
       "     service.\n",
       "       (3) Persons who identify as transgender without a history \n",
       "     or diagnosis of gender dysphoria, who are otherwise qualified \n",
       "     for service and meet all physical and mental requirements, \n",
       "     may serve in the Armed Forces in their biological sex.\n",
       "\n",
       "     SEC. 599G. REVISED REGULATIONS REGARDING GENDER MARKINGS.\n",
       "\n",
       "       Not later than 90 days after the date of the enactment of \n",
       "     this Act, the Secretary of Defense shall prescribe \n",
       "     regulations updating the Defense Enrollment Eligibility \n",
       "     Reporting System (DEERS) to require the gender markers for \n",
       "     members of the Armed Forces to match their biological sex, \n",
       "     irrespective of any previous changes allowed.\n",
       "\n",
       "     SEC. 599H. DEFINITIONS.\n",
       "\n",
       "       In this subtitle:\n",
       "       (1) Cross-sex hormones.--The term ``cross-sex hormones'' \n",
       "     means testosterone or other androgens given to biological \n",
       "     females at doses that are profoundly larger or more potent \n",
       "     than would normally occur naturally in healthy biological \n",
       "     females, or estrogen given to biological males at doses that \n",
       "     are profoundly larger or more potent than would normally \n",
       "     occur naturally in healthy biological males.\n",
       "       (2) Gender.--The term ``gender'' means the psychological, \n",
       "     behavioral, social, and cultural aspects of being male or \n",
       "     female.\n",
       "       (3) Gender dysphoria.--The term ``gender dysphoria'' means \n",
       "     a marked incongruence between one's experienced or expressed \n",
       "     gender and biological sex.\n",
       "       (4) Gender transition.--The term ``gender transition'' \n",
       "     means the process by which a person goes from identifying \n",
       "     with and living as a gender that corresponds to his or her \n",
       "     biological sex to identifying with and living as a gender \n",
       "     different from his or her biological sex, and may involve \n",
       "     social, legal, or physical changes.\n",
       "       (5) Gender transition procedures.--The term ``gender \n",
       "     transition procedures''--\n",
       "       (A) means--\n",
       "       (i) any medical or surgical intervention, including \n",
       "     physician's services, inpatient and outpatient hospital \n",
       "     services, or prescribed drugs related to gender transition, \n",
       "     that seeks to alter or remove physical or anatomical \n",
       "     characteristics or features that are typical for the \n",
       "     individual's biological sex or to instill or create \n",
       "     physiological or anatomical characteristics that resemble a \n",
       "     sex different from the individual's birth sex, including \n",
       "     medical services that provide puberty-blocking drugs, cross-\n",
       "     sex hormones, or other mechanisms to promote the development \n",
       "     of feminizing or masculinizing features (in the opposite \n",
       "     sex); and\n",
       "       (ii) genital or non-genital gender transition surgery \n",
       "     performed for the purpose of assisting an individual with a \n",
       "     gender transition; and\n",
       "       (B) does not include--\n",
       "       (i) services to those born with a medically verifiable \n",
       "     disorder of sex development, including a person with external \n",
       "     biological sex characteristics that are irresolvably \n",
       "     ambiguous, such as those born with 46 XX chromosomes with \n",
       "     virilization, 46 XY chromosomes with undervirilization, or \n",
       "     having both ovarian and testicular tissue;\n",
       "       (ii) services provided when a physician has otherwise \n",
       "     diagnosed a disorder of sexual development, in which the \n",
       "     physician has determined through genetic or biochemical \n",
       "     testing that the person does not have normal sex chromosome \n",
       "     structure, sex steroid hormone production, or sex steroid \n",
       "     hormone action for a biological male or biological female; or\n",
       "       (iii) the treatment of any infection, injury, disease, or \n",
       "     disorder that has been caused by or exacerbated by the \n",
       "     performance of gender transition procedures, whether or not \n",
       "     the gender transition procedure was performed in accordance \n",
       "     with State and Federal law or whether or not funding for the \n",
       "     gender transition procedure is permissible.\n",
       "       (6) Gender transition surgery.--The term ``gender \n",
       "     transition surgery'' means any medical or surgical service \n",
       "     that seeks to surgically alter or remove healthy physical or \n",
       "     anatomical characteristics or features that are typical for \n",
       "     the individual's biological sex in order to instill or create \n",
       "     physiological or anatomical characteristics that resemble a \n",
       "     sex different from the individual's birth sex, including \n",
       "     genital or non-genital gender reassignment surgery performed \n",
       "     for the purpose of assisting an individual with a gender \n",
       "     transition.\n",
       "       (7) Genital gender transition surgery.--The term ``genital \n",
       "     gender transition surgery'' includes surgical procedures such \n",
       "     as penectomy, orchiectomy, vaginoplasty, clitoroplasty, or \n",
       "     vulvoplasty for biologically male patients or hysterectomy, \n",
       "     ovariectomy, reconstruction of the fixed part of the urethra \n",
       "     with or without a metoidioplasty or a phalloplasty, \n",
       "     vaginectomy, scrotoplasty, or implantation of erection or \n",
       "     testicular prostheses for biologically female patients, when \n",
       "     performed for the purpose of assisting an individual with a \n",
       "     gender transition.\n",
       "       (8) Non-genital gender transition surgery.--The term ``non-\n",
       "     genital gender transition surgery''--\n",
       "       (A) includes, when performed for the purpose of assisting \n",
       "     an individual with a gender transition--\n",
       "       (i) surgical procedures such as augmentation mammoplasty, \n",
       "     facial feminization surgery, liposuction, lipofilling, voice \n",
       "     surgery, thyroid cartilage reduction, gluteal augmentation \n",
       "     (implants or lipofilling), hair reconstruction, or various \n",
       "     aesthetic procedures for biologically male patients; or\n",
       "       (ii) subcutaneous mastectomy, voice surgery, liposuction, \n",
       "     lipofilling, pectoral implants or various aesthetic \n",
       "     procedures for biologically female patients; and\n",
       "       (B) does not include any procedure undertaken because the \n",
       "     individual suffers from a physical disorder, physical injury, \n",
       "     or physical illness that would, as certified by a physician, \n",
       "     place the individual in imminent danger of death or \n",
       "     impairment of major bodily function unless surgery is \n",
       "     performed, unless the procedure is for the purpose of a \n",
       "     gender transition.\n",
       "       (9) Puberty-blocking drugs.--The term ``puberty-blocking \n",
       "     drugs'' means, when used to delay or suppress pubertal \n",
       "     development in children for the purpose of assisting an \n",
       "     individual with a gender transition--\n",
       "       (A) Gonadotropin-releasing hormone (GnRH) analogues or \n",
       "     other synthetic drugs used in biological males to stop \n",
       "     luteinizing hormone secretion and therefore testosterone \n",
       "     secretion; and\n",
       "       (B) synthetic drugs used in biological females that stop \n",
       "     the production of estrogen and progesterone.\n",
       "       (10) Sex; birth sex; biological sex.--The terms ``sex'', \n",
       "     ``birth sex,'' and ``biological\n",
       "\n",
       "[[Page S4801]]\n",
       "\n",
       "     sex'' refer to the biological indication of male and female \n",
       "     in the context of reproductive potential or capacity, such as \n",
       "     sex chromosomes, naturally occurring sex hormones, gonads, \n",
       "     and non-ambiguous internal and external genitalia present at \n",
       "     birth, without regard to an individual's psychological, \n",
       "     chosen, or subjective experience of gender.\n",
       "                                 ______\n",
       "\n",
       "\n",
       "\n",
       "</pre></body></html>"
      ]
     },
     "execution_count": 88,
     "metadata": {},
     "output_type": "execute_result"
    }
   ],
   "source": [
    "soup"
   ]
  },
  {
   "cell_type": "code",
   "execution_count": null,
   "id": "91ae1a40-9a03-4580-a753-dd71cd743323",
   "metadata": {},
   "outputs": [],
   "source": []
  }
 ],
 "metadata": {
  "kernelspec": {
   "display_name": "Python 3 (ipykernel)",
   "language": "python",
   "name": "python3"
  },
  "language_info": {
   "codemirror_mode": {
    "name": "ipython",
    "version": 3
   },
   "file_extension": ".py",
   "mimetype": "text/x-python",
   "name": "python",
   "nbconvert_exporter": "python",
   "pygments_lexer": "ipython3",
   "version": "3.11.7"
  }
 },
 "nbformat": 4,
 "nbformat_minor": 5
}
