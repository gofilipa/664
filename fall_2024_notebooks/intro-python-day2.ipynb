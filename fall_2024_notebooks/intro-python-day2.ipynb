{
 "cells": [
  {
   "cell_type": "code",
   "execution_count": 1,
   "id": "cb858cb7-3584-492d-9b12-d7cd68847c54",
   "metadata": {},
   "outputs": [],
   "source": [
    "# use list methods to do things to text\n",
    "\n",
    "text = \"If it had not rained on a certain May morning Valancy Stirling’s whole life would have been entirely different. She would have gone, with the rest of her clan, to Aunt Wellington’s engagement picnic and Dr. Trent would have gone to Montreal. But it did rain and you shall hear what happened to her because of it.\"\n"
   ]
  },
  {
   "cell_type": "code",
   "execution_count": 4,
   "id": "2f7ddd16-fbad-4986-b8cd-140d7fda321a",
   "metadata": {},
   "outputs": [],
   "source": [
    "sentences = text.split('.')"
   ]
  },
  {
   "cell_type": "code",
   "execution_count": 5,
   "id": "45676bb2-504a-4e83-b23d-b4c7a159eec5",
   "metadata": {},
   "outputs": [
    {
     "data": {
      "text/plain": [
       "['If it had not rained on a certain May morning Valancy Stirling’s whole life would have been entirely different',\n",
       " ' She would have gone, with the rest of her clan, to Aunt Wellington’s engagement picnic and Dr',\n",
       " ' Trent would have gone to Montreal',\n",
       " ' But it did rain and you shall hear what happened to her because of it',\n",
       " '']"
      ]
     },
     "execution_count": 5,
     "metadata": {},
     "output_type": "execute_result"
    }
   ],
   "source": [
    "sentences"
   ]
  },
  {
   "cell_type": "code",
   "execution_count": 6,
   "id": "ff4bd575-abe9-4d2d-9692-020799588654",
   "metadata": {},
   "outputs": [],
   "source": [
    "sentences.append('And why she regretted it.')"
   ]
  },
  {
   "cell_type": "code",
   "execution_count": 7,
   "id": "dcabadd4-2ef6-42f3-b15d-0dee1bef83aa",
   "metadata": {},
   "outputs": [
    {
     "data": {
      "text/plain": [
       "['If it had not rained on a certain May morning Valancy Stirling’s whole life would have been entirely different',\n",
       " ' She would have gone, with the rest of her clan, to Aunt Wellington’s engagement picnic and Dr',\n",
       " ' Trent would have gone to Montreal',\n",
       " ' But it did rain and you shall hear what happened to her because of it',\n",
       " '',\n",
       " 'And why she regretted it.']"
      ]
     },
     "execution_count": 7,
     "metadata": {},
     "output_type": "execute_result"
    }
   ],
   "source": [
    "sentences"
   ]
  },
  {
   "cell_type": "code",
   "execution_count": 8,
   "id": "9b6efbc0-c3bf-4e1c-a77c-cec61a600bed",
   "metadata": {},
   "outputs": [],
   "source": [
    "sentences.sort()"
   ]
  },
  {
   "cell_type": "code",
   "execution_count": 9,
   "id": "3951f4c4-e095-4a87-9962-09fe03737cb1",
   "metadata": {},
   "outputs": [
    {
     "data": {
      "text/plain": [
       "['',\n",
       " ' But it did rain and you shall hear what happened to her because of it',\n",
       " ' She would have gone, with the rest of her clan, to Aunt Wellington’s engagement picnic and Dr',\n",
       " ' Trent would have gone to Montreal',\n",
       " 'And why she regretted it.',\n",
       " 'If it had not rained on a certain May morning Valancy Stirling’s whole life would have been entirely different']"
      ]
     },
     "execution_count": 9,
     "metadata": {},
     "output_type": "execute_result"
    }
   ],
   "source": [
    "sentences"
   ]
  },
  {
   "cell_type": "code",
   "execution_count": 10,
   "id": "31886e1d-84ff-4b93-9b0e-d46c3d493942",
   "metadata": {},
   "outputs": [
    {
     "data": {
      "text/plain": [
       "'If it had not rained on a certain May morning Valancy Stirling’s whole life would have been entirely different'"
      ]
     },
     "execution_count": 10,
     "metadata": {},
     "output_type": "execute_result"
    }
   ],
   "source": [
    "sentences.pop()"
   ]
  },
  {
   "cell_type": "code",
   "execution_count": 11,
   "id": "df215d9f-1596-45e7-a12d-dcb33573615f",
   "metadata": {},
   "outputs": [
    {
     "data": {
      "text/plain": [
       "['',\n",
       " ' But it did rain and you shall hear what happened to her because of it',\n",
       " ' She would have gone, with the rest of her clan, to Aunt Wellington’s engagement picnic and Dr',\n",
       " ' Trent would have gone to Montreal',\n",
       " 'And why she regretted it.']"
      ]
     },
     "execution_count": 11,
     "metadata": {},
     "output_type": "execute_result"
    }
   ],
   "source": [
    "sentences"
   ]
  },
  {
   "cell_type": "code",
   "execution_count": 12,
   "id": "8c694ef9-231f-4185-8136-165ba7ce16d1",
   "metadata": {},
   "outputs": [
    {
     "data": {
      "text/plain": [
       "int"
      ]
     },
     "execution_count": 12,
     "metadata": {},
     "output_type": "execute_result"
    }
   ],
   "source": [
    "type(1)"
   ]
  },
  {
   "cell_type": "code",
   "execution_count": 13,
   "id": "50643b11-6ff0-4be7-bbe0-fd488d9463d4",
   "metadata": {},
   "outputs": [],
   "source": [
    "x = 'hello'"
   ]
  },
  {
   "cell_type": "code",
   "execution_count": 14,
   "id": "d5881e11-84b9-4e0f-8677-16aa6795c3e6",
   "metadata": {},
   "outputs": [
    {
     "data": {
      "text/plain": [
       "'hello'"
      ]
     },
     "execution_count": 14,
     "metadata": {},
     "output_type": "execute_result"
    }
   ],
   "source": [
    "x"
   ]
  },
  {
   "cell_type": "code",
   "execution_count": 15,
   "id": "e27e1383-a2f7-44e8-a974-856f06c53ad4",
   "metadata": {},
   "outputs": [
    {
     "data": {
      "text/plain": [
       "'hello'"
      ]
     },
     "execution_count": 15,
     "metadata": {},
     "output_type": "execute_result"
    }
   ],
   "source": [
    "'HELLO'.lower()"
   ]
  },
  {
   "cell_type": "code",
   "execution_count": null,
   "id": "5c3fc1ea-95df-4cc1-8c6d-b02a4ca297e0",
   "metadata": {},
   "outputs": [],
   "source": [
    "type()\n",
    "len()\n",
    "print()"
   ]
  },
  {
   "cell_type": "code",
   "execution_count": 16,
   "id": "3a0c1d13-ff1c-4cf9-87c1-83e22b1841d2",
   "metadata": {},
   "outputs": [],
   "source": [
    "# look up the \"insert()\" method in python. \n",
    "# how does it work? \n",
    "# practice using it on a list\n",
    "\n",
    "ninties = ['martin', 'home_improvement', 'seinfeld', 'friends', 'trl', 'x-files', 'walker texas ranger']"
   ]
  },
  {
   "cell_type": "code",
   "execution_count": 17,
   "id": "6cb86b64-8a99-4886-b5e3-0a6c91b78bfe",
   "metadata": {},
   "outputs": [],
   "source": [
    "ninties.sort()"
   ]
  },
  {
   "cell_type": "code",
   "execution_count": 18,
   "id": "abbb5508-52d1-4dd7-8b66-14f6feee7dfe",
   "metadata": {},
   "outputs": [
    {
     "data": {
      "text/plain": [
       "['friends',\n",
       " 'home_improvement',\n",
       " 'martin',\n",
       " 'seinfeld',\n",
       " 'trl',\n",
       " 'walker texas ranger',\n",
       " 'x-files']"
      ]
     },
     "execution_count": 18,
     "metadata": {},
     "output_type": "execute_result"
    }
   ],
   "source": [
    "ninties"
   ]
  },
  {
   "cell_type": "code",
   "execution_count": 19,
   "id": "e0973afe-313b-49bf-a4ba-b2d18145923a",
   "metadata": {},
   "outputs": [],
   "source": [
    "ninties.insert(1, 'golden girls')"
   ]
  },
  {
   "cell_type": "code",
   "execution_count": 20,
   "id": "5ab0c337-c508-46e0-aca1-d1b536bca352",
   "metadata": {},
   "outputs": [
    {
     "data": {
      "text/plain": [
       "['friends',\n",
       " 'golden girls',\n",
       " 'home_improvement',\n",
       " 'martin',\n",
       " 'seinfeld',\n",
       " 'trl',\n",
       " 'walker texas ranger',\n",
       " 'x-files']"
      ]
     },
     "execution_count": 20,
     "metadata": {},
     "output_type": "execute_result"
    }
   ],
   "source": [
    "ninties"
   ]
  },
  {
   "cell_type": "code",
   "execution_count": 21,
   "id": "dabf9f28-ba33-46b7-bbf9-a5a283df3bdd",
   "metadata": {},
   "outputs": [],
   "source": [
    "nineties = ninties"
   ]
  },
  {
   "cell_type": "markdown",
   "id": "19eb6a2c-893a-4e40-895e-aef624c0dc52",
   "metadata": {},
   "source": [
    "# loops\n",
    "A loop is a way of iterating through data"
   ]
  },
  {
   "cell_type": "code",
   "execution_count": 26,
   "id": "a5cdab1c-5068-4d01-97d4-277ee70da1ba",
   "metadata": {},
   "outputs": [
    {
     "name": "stdout",
     "output_type": "stream",
     "text": [
      "friends\n",
      "golden girls\n",
      "home_improvement\n",
      "martin\n",
      "seinfeld\n",
      "trl\n",
      "walker texas ranger\n",
      "x-files\n"
     ]
    }
   ],
   "source": [
    "for item in nineties:\n",
    "    print(item)"
   ]
  },
  {
   "cell_type": "code",
   "execution_count": 27,
   "id": "09d68bc2-a12e-4ad2-b058-046bd86574be",
   "metadata": {},
   "outputs": [
    {
     "data": {
      "text/plain": [
       "'x-files'"
      ]
     },
     "execution_count": 27,
     "metadata": {},
     "output_type": "execute_result"
    }
   ],
   "source": [
    "item"
   ]
  },
  {
   "cell_type": "code",
   "execution_count": 31,
   "id": "43c74e22-1396-42fa-ac79-2469913d1767",
   "metadata": {},
   "outputs": [
    {
     "name": "stdout",
     "output_type": "stream",
     "text": [
      "H\n",
      "E\n",
      "L\n",
      "L\n",
      "O\n"
     ]
    }
   ],
   "source": [
    "# print out each letter uppercase\n",
    "# for loop\n",
    "for letter in 'hello':\n",
    "    character = letter.upper()\n",
    "    print(character)"
   ]
  },
  {
   "cell_type": "code",
   "execution_count": 33,
   "id": "bf712581-b8ff-44b7-84f9-77bf1292abc2",
   "metadata": {},
   "outputs": [
    {
     "name": "stdout",
     "output_type": "stream",
     "text": [
      "FRIENDS\n",
      "GOLDEN GIRLS\n",
      "HOME_IMPROVEMENT\n",
      "MARTIN\n",
      "SEINFELD\n",
      "TRL\n",
      "WALKER TEXAS RANGER\n",
      "X-FILES\n"
     ]
    }
   ],
   "source": [
    "for i in nineties:\n",
    "    print(i.upper())"
   ]
  },
  {
   "cell_type": "code",
   "execution_count": 39,
   "id": "60311e65-a5a3-4717-99e2-8c04cb42629b",
   "metadata": {},
   "outputs": [],
   "source": [
    "nineties_uppercase = []\n",
    "for i in nineties:\n",
    "    uppercase = i.upper()\n",
    "    nineties_uppercase.append(uppercase)"
   ]
  },
  {
   "cell_type": "code",
   "execution_count": 40,
   "id": "c73845cb-2246-4362-9369-49aa4e2d6cb7",
   "metadata": {},
   "outputs": [],
   "source": [
    "## write a loop that counts the number of words in our list of shows\n",
    "## 1. you'll need to set up a \"counter\" variable that starts at zero\n",
    "## 2. you'll need to use the \"+=\" operator"
   ]
  },
  {
   "cell_type": "code",
   "execution_count": 49,
   "id": "ce5c71d0-59f8-4807-bbc7-89cf714619d1",
   "metadata": {},
   "outputs": [
    {
     "name": "stdout",
     "output_type": "stream",
     "text": [
      "1\n",
      "2\n",
      "3\n",
      "4\n",
      "5\n",
      "6\n",
      "7\n",
      "8\n",
      "This is the final number:  8\n"
     ]
    }
   ],
   "source": [
    "n = 0\n",
    "for i in nineties:\n",
    "    n += 1\n",
    "    print(n)\n",
    "    \n",
    "print(\"This is the final number: \", n)"
   ]
  },
  {
   "cell_type": "markdown",
   "id": "23fedf19-9f89-4b6b-a226-c1b0b78bced5",
   "metadata": {},
   "source": [
    "# logic"
   ]
  },
  {
   "cell_type": "code",
   "execution_count": 50,
   "id": "e5d9a691-7bf0-4157-9741-5705738e3693",
   "metadata": {},
   "outputs": [
    {
     "data": {
      "text/plain": [
       "bool"
      ]
     },
     "execution_count": 50,
     "metadata": {},
     "output_type": "execute_result"
    }
   ],
   "source": [
    "type(True)"
   ]
  },
  {
   "cell_type": "code",
   "execution_count": 51,
   "id": "a42b8ab1-0f67-4f62-8016-c05f9c878834",
   "metadata": {},
   "outputs": [
    {
     "data": {
      "text/plain": [
       "bool"
      ]
     },
     "execution_count": 51,
     "metadata": {},
     "output_type": "execute_result"
    }
   ],
   "source": [
    "type(False)"
   ]
  },
  {
   "cell_type": "code",
   "execution_count": 52,
   "id": "cb829170-8122-4917-aa4b-beb5f6dd63ed",
   "metadata": {},
   "outputs": [
    {
     "data": {
      "text/plain": [
       "True"
      ]
     },
     "execution_count": 52,
     "metadata": {},
     "output_type": "execute_result"
    }
   ],
   "source": [
    "10 > 5"
   ]
  },
  {
   "cell_type": "code",
   "execution_count": 53,
   "id": "d25319b9-f14c-4ee4-88ea-5d618f8e6ad7",
   "metadata": {},
   "outputs": [
    {
     "data": {
      "text/plain": [
       "False"
      ]
     },
     "execution_count": 53,
     "metadata": {},
     "output_type": "execute_result"
    }
   ],
   "source": [
    "10 < 5"
   ]
  },
  {
   "cell_type": "code",
   "execution_count": 54,
   "id": "cad162c2-1dba-4d9d-a5ca-1394bbfdc01d",
   "metadata": {},
   "outputs": [
    {
     "data": {
      "text/plain": [
       "5"
      ]
     },
     "execution_count": 54,
     "metadata": {},
     "output_type": "execute_result"
    }
   ],
   "source": [
    "10 - 5"
   ]
  },
  {
   "cell_type": "code",
   "execution_count": 55,
   "id": "7e62ab14-104b-4c3e-a261-8b9bbef4a02c",
   "metadata": {},
   "outputs": [
    {
     "data": {
      "text/plain": [
       "True"
      ]
     },
     "execution_count": 55,
     "metadata": {},
     "output_type": "execute_result"
    }
   ],
   "source": [
    "10 != 5"
   ]
  },
  {
   "cell_type": "code",
   "execution_count": 56,
   "id": "3921bdd0-024d-40ef-b5fb-908fc828efe5",
   "metadata": {},
   "outputs": [],
   "source": [
    "x = 'hello'"
   ]
  },
  {
   "cell_type": "code",
   "execution_count": 57,
   "id": "7eb2b66d-aa68-4d6e-8c77-3a23f25d0a40",
   "metadata": {},
   "outputs": [
    {
     "data": {
      "text/plain": [
       "True"
      ]
     },
     "execution_count": 57,
     "metadata": {},
     "output_type": "execute_result"
    }
   ],
   "source": [
    "10 != x"
   ]
  },
  {
   "cell_type": "code",
   "execution_count": 58,
   "id": "a9fa1b49-3cd5-486a-83ef-852892a91c29",
   "metadata": {},
   "outputs": [
    {
     "data": {
      "text/plain": [
       "False"
      ]
     },
     "execution_count": 58,
     "metadata": {},
     "output_type": "execute_result"
    }
   ],
   "source": [
    "10 == x"
   ]
  },
  {
   "cell_type": "code",
   "execution_count": 61,
   "id": "e78801f4-87e8-4401-b3e7-bd0039caef2d",
   "metadata": {},
   "outputs": [
    {
     "name": "stdout",
     "output_type": "stream",
     "text": [
      "this second expression is true\n"
     ]
    }
   ],
   "source": [
    "if 4 > 5:\n",
    "    print('this expression is true')\n",
    "elif 5 > 3:\n",
    "    print('this second expression is true')\n",
    "else:\n",
    "    print('this expression is false')"
   ]
  },
  {
   "cell_type": "code",
   "execution_count": 64,
   "id": "9645037e-53d7-4783-bbcb-d41bdc293ae8",
   "metadata": {},
   "outputs": [
    {
     "name": "stdout",
     "output_type": "stream",
     "text": [
      "you can rent a car!\n"
     ]
    }
   ],
   "source": [
    "age = 35\n",
    "\n",
    "if age >= 65:\n",
    "    print('you get medicare!')\n",
    "elif age >= 25:\n",
    "    print('you can rent a car!')\n",
    "elif age >= 21:\n",
    "    print('you can drink!')\n",
    "elif age >= 18:\n",
    "    print('you can vote!')\n",
    "else:\n",
    "    print(\"sorry, you're too young\")"
   ]
  },
  {
   "cell_type": "code",
   "execution_count": 66,
   "id": "e52a195d-5688-4005-9daf-943dae0fe876",
   "metadata": {},
   "outputs": [
    {
     "data": {
      "text/plain": [
       "['friends',\n",
       " 'golden girls',\n",
       " 'home_improvement',\n",
       " 'martin',\n",
       " 'seinfeld',\n",
       " 'trl',\n",
       " 'walker texas ranger',\n",
       " 'x-files']"
      ]
     },
     "execution_count": 66,
     "metadata": {},
     "output_type": "execute_result"
    }
   ],
   "source": [
    "nineties"
   ]
  },
  {
   "cell_type": "code",
   "execution_count": 81,
   "id": "70e59ae1-5591-4fde-a9d5-b8e4d2db8be9",
   "metadata": {},
   "outputs": [],
   "source": [
    "no_i_loud = []\n",
    "for item in nineties:\n",
    "    if 'i' not in item:\n",
    "        no_i_loud.append(item.upper())"
   ]
  },
  {
   "cell_type": "code",
   "execution_count": 82,
   "id": "be379b16-7f03-48fd-82be-e1b2c09212e9",
   "metadata": {},
   "outputs": [
    {
     "data": {
      "text/plain": [
       "['TRL', 'WALKER TEXAS RANGER']"
      ]
     },
     "execution_count": 82,
     "metadata": {},
     "output_type": "execute_result"
    }
   ],
   "source": [
    "no_i_loud"
   ]
  },
  {
   "cell_type": "code",
   "execution_count": 99,
   "id": "23ebd6a1-9a88-4fc9-9793-61aa88428fca",
   "metadata": {},
   "outputs": [],
   "source": [
    "favorite_show = 'parks and rec'"
   ]
  },
  {
   "cell_type": "code",
   "execution_count": 104,
   "id": "0a938952-e37d-4651-bc16-9089b8e564b7",
   "metadata": {},
   "outputs": [
    {
     "name": "stdout",
     "output_type": "stream",
     "text": [
      "The length of the 'nineties' list is 8\n"
     ]
    }
   ],
   "source": [
    "print(f\"The length of the 'nineties' list is {len(nineties)}\")"
   ]
  },
  {
   "cell_type": "code",
   "execution_count": 105,
   "id": "7f8333eb-e1be-4264-a9f4-bb0dcffb653d",
   "metadata": {},
   "outputs": [
    {
     "name": "stdout",
     "output_type": "stream",
     "text": [
      "The square of 1 is 1\n",
      "The square of 3 is 9\n",
      "The square of 5 is 25\n",
      "The square of 7 is 49\n",
      "The square of 11 is 121\n"
     ]
    }
   ],
   "source": [
    "# write a loop that prints out the square of the first 5 prime numbers\n",
    "# 1, 3, 5, 7, 11\n",
    "# in a sentence like, the square of 5 is 25\n",
    "\n",
    "prime_numbers = [1, 3, 5, 7, 11]\n",
    "for i in prime_numbers:\n",
    "    print(f\"The square of {i} is {i*i}\")"
   ]
  },
  {
   "cell_type": "code",
   "execution_count": 129,
   "id": "85bed35b-08fd-4aa5-9cf5-53d87b347402",
   "metadata": {},
   "outputs": [
    {
     "name": "stdout",
     "output_type": "stream",
     "text": [
      "Williams, Jumaane Failing to demonstrate compliance with subcontractor reporting and documentation requirements\n",
      "Williams, Jumaane Failing to document transactions\n",
      "Williams, Jumaane Accepting over-the-limit contributions\n",
      "Williams, Jumaane Accepting contributions from corporations, limited liability companies, or partnerships\n",
      "Williams, Jumaane Accepting contributions from unregistered political committees\n",
      "Williams, Jumaane Failing to demonstrate compliance with intermediary reporting and documentation requirements\n",
      "Williams, Jumaane Failing to demonstrate that spending was in furtherance of the campaign\n",
      "Williams, Jumaane Making impermissible post-election expenditures\n",
      "Williams, Jumaane Failing to report transactions\n",
      "Williams, Jumaane Filing late disclosure statements\n",
      "Williams, Jumaane Accpeting over-the-limit contributions\n",
      "Williams, Jumaane Accepting contributions from corporations, limited liability companies, or partnerships\n",
      "Williams, Jumaane Accepting a contribution from an unregistered political action committee\n",
      "Williams, Jumaane Commingling campaign funds with funds accepted for a different election\n",
      "Williams, Jumaane Filing a late response to the Draft Audit Report\n",
      "Williams, Jumaane Failing to report bank and merchant accounts used for campaign purposes\n",
      "Williams, Jumaane Failing to provide bank and merchant account statements\n",
      "Williams, Jumaane Filing a late disclosure statement\n",
      "Williams, Jumaane Accepting contributions from corporations, limited liability companies, or partnerships\n",
      "Williams, Jumaane Accepting contributions from unregistered political committees\n",
      "Williams, Jumaane Failing to document transactions\n",
      "Williams, Jumaane Failing to demonstrate that spending was in furtherance of the campaign\n",
      "Williams, Jumaane Making impermissible post-election expenditures\n",
      "Williams, Jumaane Commingling campaign funds with funds accepted for a different election\n",
      "Williams, Jumaane Repayment: FBB\n",
      "Williams, Godwin Failing to file disclosure statements\n",
      "Williams, Godwin Late response to audit documentation and information requests\n",
      "Williams, Godwin Failing to demonstrate compliance with cash receipts reporting and documentation requirements\n",
      "Williams, Jumaane Accepting an over-the-limit contribution\n",
      "Williams, Jumaane Accepting over-the-limit Doing Business contributions\n",
      "Williams, Jumaane Failing to provide bank statements and merchant account statements\n",
      "Williams, Jumaane Failing to accurately report disbursements, resulting in a 12.12% variance\n",
      "Williams, Jumaane Failing to report and document in-kind contributions\n",
      "Williams, Jumaane Failing to adequately respond to questions regarding expenditures\n",
      "Williams, Jumaane Making cash disbursements in excess of $100\n",
      "Williams, Jumaane Failing to respond timely to the draft audit report\n",
      "Williams, Jumaane Repayment: QED\n"
     ]
    }
   ],
   "source": [
    "# to load files, \"with statement\"\n",
    "import csv\n",
    "erics_mishaps = []\n",
    "with open('violations.csv') as file:\n",
    "    data = csv.reader(file)\n",
    "    for row in data:\n",
    "        if \"Williams\" in row[1]:\n",
    "            print(row[1], row[3])\n",
    "            # erics_mishaps.append(date_violation)"
   ]
  },
  {
   "cell_type": "code",
   "execution_count": null,
   "id": "f0a71c1e-482b-4790-b2e9-43605c37961d",
   "metadata": {},
   "outputs": [],
   "source": []
  },
  {
   "cell_type": "code",
   "execution_count": null,
   "id": "f92a4282-ae78-47bf-bab5-b5891910ad29",
   "metadata": {},
   "outputs": [],
   "source": []
  },
  {
   "cell_type": "code",
   "execution_count": null,
   "id": "76cb3995-a049-4a6d-b6d3-a0a2d8907420",
   "metadata": {},
   "outputs": [],
   "source": []
  },
  {
   "cell_type": "code",
   "execution_count": null,
   "id": "5527425f-2ecc-4d8a-83f1-828471faeb29",
   "metadata": {},
   "outputs": [],
   "source": []
  },
  {
   "cell_type": "code",
   "execution_count": 115,
   "id": "96af48b8-1ccd-495e-8a16-f2f0c3ed2a27",
   "metadata": {},
   "outputs": [
    {
     "name": "stdout",
     "output_type": "stream",
     "text": [
      "['2021T', 'Adams, Eric', '05/15/2023', 'Failing to respond and late response to requests for information or documentation', 'Failing to respond and late response to requests for information or documentation', '$14,400']\n",
      "['2021T', 'Adams, Eric', '05/15/2023', 'Failing to properly wind down TIE activities', 'Failing to properly wind down TIE activities', '$200']\n",
      "['2021T', 'Adams, Eric', '05/15/2023', 'Accepting prohibited donations', 'Accepting prohibited donations', '$5,000']\n",
      "['2017', 'Ulrich, Eric', '07/15/2021', 'Failing to report transactions', 'Failing to report transactions', '$1,352']\n",
      "['2017', 'Ulrich, Eric', '07/15/2021', 'Failing to demonstrate compliance with cash receipts reporting and documentation requirements', 'Failing to demonstrate compliance with cash receipts reporting and documentation requirements', '$75']\n",
      "['2017', 'Ulrich, Eric', '07/15/2021', 'Failing to report transactions in daily pre-election disclosure statements', 'Failing to report transactions in daily pre-election disclosure statements', '$300']\n",
      "['2017', 'Ulrich, Eric', '07/15/2021', 'Failing to document transactions', 'Failing to document transactions', '$300']\n",
      "['2017', 'Ulrich, Eric', '07/15/2021', 'Accepting over-the-limit contributions', 'Accepting over-the-limit contributions', '$3,187']\n",
      "['2017', 'Ulrich, Eric', '07/15/2021', 'Failing to demonstrate compliance with intermediary reporting and documentation requirements', 'Failing to demonstrate compliance with intermediary reporting and documentation requirements', '$100']\n",
      "['2017', 'Ulrich, Eric', '07/15/2021', 'Failing to demonstrate that spending was in furtherance of the campaign', 'Failing to demonstrate that spending was in furtherance of the campaign', '$331']\n",
      "['2017', 'Ulrich, Eric', '07/15/2021', 'Making impermissible post-election expenditures', 'Making impermissible post-election expenditures', '$1,261']\n",
      "['2017', 'Ulrich, Eric', '07/15/2021', 'Exceeding the expenditure limit', 'Exceeding the expenditure limit', '$13,750']\n",
      "['2013', 'Adams, Eric', '06/09/2016', 'Failing to provide merchant account statements', 'Failing to provide bank, credit card, and merchant account statements', '$500']\n",
      "['2013', 'Adams, Eric', '06/09/2016', 'Failing to file daily pre-election disclosure statements', 'Failing to report/late reporting of transactions in daily pre-election disclosure statements', '$250']\n",
      "['2013', 'Adams, Eric', '06/09/2016', 'Accepting an over-the-limit contribution', 'Accepting over-the-limit contributions', '$125']\n",
      "['2013', 'Adams, Eric', '06/09/2016', 'Accepting a corporate contribution', 'Accepting contributions from corporations, limited liability companies, or partnerships', '$70']\n",
      "['2013', 'Adams, Eric', '06/09/2016', 'Accepting two contributions from unregistered political committees', 'Accepting contributions from unregistered political committees', '$225']\n",
      "['2013', 'Adams, Eric', '06/09/2016', 'Failing to demonstrate compliance with intermediary reporting and documentation requirements', 'Failing to demonstrate compliance with intermediary reporting and documentation requirements', 'VNP']\n",
      "['2013', 'Adams, Eric', '06/09/2016', 'Failing to document transactions', 'Failing to document transactions', '$700']\n",
      "['2013', 'Adams, Eric', '06/09/2016', 'Failing to demonstrate spending was in furtherance of the campaign', 'Failing to demonstrate that spending was in furtherance of the campaign', 'VNP']\n",
      "['2009', 'Gioia, Eric', '07/25/2013', 'Accepting over-the-limit contributions', 'Accepting over-the-limit contributions', '$12,875']\n",
      "['2009', 'Gioia, Eric', '07/25/2013', 'Accepting corporate contributions', 'Accepting contributions from corporations, limited liability companies, or partnerships', '$12,125']\n",
      "['2009', 'Gioia, Eric', '07/25/2013', 'Accepting contributions from unregistered political committees', 'Accepting contributions from unregistered political committees', '$750']\n",
      "['2009', 'Gioia, Eric', '07/25/2013', 'Accepting over-the-limit Doing Business contributions', 'Accepting over-the-limit Doing Business contributions', '$10,850']\n",
      "['2009', 'Gioia, Eric', '07/25/2013', 'Filing a disclosure statement eight days late', 'Failing to file/filing late disclosure statements', 'VNP']\n",
      "['2009', 'Gioia, Eric', '07/25/2013', 'Failing to file required daily pre-election disclosure statements', 'Failing to report/late reporting of transactions in daily pre-election disclosure statements', '200']\n",
      "['2009', 'Gioia, Eric', '07/25/2013', 'Failing to provide bank statements', 'Failing to provide bank, credit card, and merchant account statements', '1500']\n",
      "['2009', 'Gioia, Eric', '07/25/2013', 'Failing to report transactions', 'Failing to report transactions', '$1,974']\n",
      "['2009', 'Gioia, Eric', '07/25/2013', 'Failing to accurately report credit card contributions, resulting in an 11.78% variance', 'Failing to demonstrate compliance with reporting requirements for receipts or disbursements', '$1,500']\n",
      "['2009', 'Gioia, Eric', '07/25/2013', 'Failing to provide signed intermediary affirmation statements and failing to respond to questions regarding intermediaries', 'Failing to demonstrate compliance with intermediary reporting and documentation requirements', '$2,600']\n",
      "['2009', 'Gioia, Eric', '07/25/2013', 'Exceeding the expenditure limit', 'Exceeding the expenditure limit', '$29,732']\n",
      "['2009', 'Gioia, Eric', '07/25/2013', 'Making improper post-election expenditures', 'Making impermissible post-election expenditures', '$3,208']\n",
      "['2009', 'Gioia, Eric', '07/25/2013', 'Failing to demonstrate that spending was in furtherance of the campaign', 'Failing to demonstrate that spending was in furtherance of the campaign', '$1,188']\n",
      "['2009', 'Gioia, Eric', '07/25/2013', 'Failing to document transactions', 'Failing to document transactions', '$1,400']\n",
      "['2009', 'Gioia, Eric', '07/25/2013', 'Failing to adequately document transactions', 'Failing to document transactions', '$2,500']\n",
      "['2009', 'Ulrich, Eric A.', '11/18/2010', 'Repayment: unspent campaign funds (surplus)', 'Repayment: unspent campaign funds (surplus)', '$1,320']\n",
      "['2009A', 'Ulrich, Eric A.', '08/12/2010', 'Repayment: unspent campaign funds (surplus)', 'Repayment: unspent campaign funds (surplus)', '$4,189']\n",
      "['2005', 'Blackwell, Eric', '03/13/2008', 'Failing to report in-kind contributions', 'Failing to demonstrate compliance with reporting requirements for receipts or disbursements', '$150']\n",
      "['2005', 'Blackwell, Eric', '03/13/2008', 'Failing to report in-kind contributions', 'Failing to demonstrate compliance with reporting requirements for receipts or disbursements', '$50']\n",
      "['2005', 'Blackwell, Eric', '03/13/2008', 'Failing to report in-kind contributions', 'Failing to demonstrate compliance with reporting requirements for receipts or disbursements', '$50']\n",
      "['2005', 'Blackwell, Eric', '03/13/2008', '225.72% monetary disbursements variance', 'Failing to demonstrate compliance with reporting requirements for receipts or disbursements', '$500']\n",
      "['2005', 'Blackwell, Eric', '03/13/2008', '19.69% monetary receipts variance', 'Failing to demonstrate compliance with reporting requirements for receipts or disbursements', '$500']\n",
      "['2005', 'Blackwell, Eric', '03/13/2008', '20% cash receipts variance', 'Failing to demonstrate compliance with reporting requirements for receipts or disbursements', 'VNP']\n",
      "['2005', 'Blackwell, Eric', '03/13/2008', 'Fraud and misrepresentation', 'Material misrepresentation; fraud; submission of false or ficticious information', 'No violation']\n",
      "['2005', 'Blackwell, Eric', '03/13/2008', 'Breach of certification', 'Breach of certification', 'No violation']\n"
     ]
    }
   ],
   "source": [
    "import csv\n",
    "with open('./664/intro/violations.csv', 'r') as f:\n",
    "    data = csv.reader(f)\n",
    "    for row in data:\n",
    "        if \"Eric\" in row[1]:\n",
    "            print(row)"
   ]
  },
  {
   "cell_type": "code",
   "execution_count": null,
   "id": "7c733f6f-336d-4744-84b9-0033f74f2cdc",
   "metadata": {},
   "outputs": [],
   "source": []
  }
 ],
 "metadata": {
  "kernelspec": {
   "display_name": "Python 3 (ipykernel)",
   "language": "python",
   "name": "python3"
  },
  "language_info": {
   "codemirror_mode": {
    "name": "ipython",
    "version": 3
   },
   "file_extension": ".py",
   "mimetype": "text/x-python",
   "name": "python",
   "nbconvert_exporter": "python",
   "pygments_lexer": "ipython3",
   "version": "3.11.7"
  }
 },
 "nbformat": 4,
 "nbformat_minor": 5
}
