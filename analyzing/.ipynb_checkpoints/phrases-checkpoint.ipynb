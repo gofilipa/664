{
 "cells": [
  {
   "cell_type": "markdown",
   "id": "1942fd5d",
   "metadata": {},
   "source": [
    "# the `PhraseMatcher`\n",
    "The `PhraseMatcher` allows you to write specific phrases or sequences of text to find in the dataset. This is really useful if you already know the kind of thing that you want to pick out, including exact variations of those phrases. But not so useful if you want to account for more than a few variations. For a way to handle more complex variations of phrases, see the token `Matcher` section."
   ]
  },
  {
   "cell_type": "markdown",
   "id": "a4977a62",
   "metadata": {},
   "source": [
    "The process of using the `PhraseMatcher` involves four steps, divided into four sections below.\n",
    "1. write down the exact phrase you're looking for in the text\n",
    "2. code the phrase and pass it into the `PhraseMatcher` object\n",
    "3. run the `PhraseMatcher` on your doc\n",
    "4. print out the matches\n"
   ]
  },
  {
   "cell_type": "markdown",
   "id": "ddbbd9bd",
   "metadata": {},
   "source": [
    "## 1. write down the phrase\n",
    "From close reading the bills dataset (in the [defining gender section](./questions.md)), we saw that the definitions include at least a single quote in the form of a backtick, terms like \"gender\" and \"sex\", and the word \"means\". The `PhraseMatcher` requires that we narrow down to the most common element that appears in all of them. This would be the backtick ` and terms like \"gender\" and \"sex\". I am leaving out everything after the term \"gender\" or \"sex\" because sometimes they are followed by single quotes and sometimes by double quotes, and I want to catch all of the possibilities for now.\n",
    "\n",
    "Our patterns would therefore be the following: \n",
    "\n",
    "```\n",
    "`gender\n",
    "`sex\n",
    "```"
   ]
  },
  {
   "cell_type": "markdown",
   "id": "5177cf34",
   "metadata": {},
   "source": [
    "## 2. code the phrase and pass into PhraseMatcher\n",
    "First, we will import the necessary libraries and load our text through  the `nlp()` pipeline."
   ]
  },
  {
   "cell_type": "code",
   "execution_count": 46,
   "id": "6bc7ad79",
   "metadata": {},
   "outputs": [],
   "source": [
    "import spacy\n",
    "from spacy.matcher import PhraseMatcher\n",
    "import requests # for getting the dataset\n",
    "\n",
    "# loading up the model in english\n",
    "nlp = spacy.load(\"en_core_web_sm\")\n",
    "\n",
    "# loading up our sample text, which is the first million characters\n",
    "# of our cleaned dataset\n",
    "\n",
    "source = requests.get('https://bit.ly/bills_clean')\n",
    "text = source.content"
   ]
  },
  {
   "cell_type": "code",
   "execution_count": 47,
   "id": "e8ca00c2",
   "metadata": {},
   "outputs": [
    {
     "data": {
      "text/plain": [
       "bytes"
      ]
     },
     "execution_count": 47,
     "metadata": {},
     "output_type": "execute_result"
    }
   ],
   "source": [
    "type(text)"
   ]
  },
  {
   "cell_type": "code",
   "execution_count": 48,
   "id": "7b29fe91",
   "metadata": {},
   "outputs": [],
   "source": [
    "decoded = text.decode('utf-8')"
   ]
  },
  {
   "cell_type": "code",
   "execution_count": 49,
   "id": "d1e33983",
   "metadata": {},
   "outputs": [],
   "source": [
    "# passing our dataset into the nlp() function\n",
    "doc = nlp(decoded)"
   ]
  },
  {
   "cell_type": "code",
   "execution_count": 50,
   "id": "cf4b3fe0",
   "metadata": {},
   "outputs": [
    {
     "data": {
      "text/plain": [
       "Congressional Bills 117th CongressFrom the U.S. Government Publishing OfficeH.R. 1112 Introduced in House (IH)&lt;DOC&gt;117th CONGRESS1st SessionH. R. 1112 To require a report on the military coup in Burma, and for otherpurposes.IN THE HOUSE OF REPRESENTATIVES February 18, 2021Mr. Connolly (for himself, Mr. Price of North Carolina, and Mr. Buchanan) introduced the following bill; which was referred to the Committee on Foreign Affairs A BILLTo require a report on the military coup in Burma, and for otherpurposes.Be it enacted by the Senate and House of Representatives of"
      ]
     },
     "execution_count": 50,
     "metadata": {},
     "output_type": "execute_result"
    }
   ],
   "source": [
    "# remember list slicing?\n",
    "\n",
    "doc[:100]"
   ]
  },
  {
   "cell_type": "markdown",
   "id": "0a466e19",
   "metadata": {},
   "source": [
    "Then, we create the `PhraseMatcher` object, code our phrases, and pass them into the object."
   ]
  },
  {
   "cell_type": "code",
   "execution_count": 51,
   "id": "9b53b900",
   "metadata": {},
   "outputs": [],
   "source": [
    "# create a matcher object.\n",
    "# we will then add phrases to the object\n",
    "\n",
    "matcher = PhraseMatcher(nlp.vocab)"
   ]
  },
  {
   "cell_type": "code",
   "execution_count": 52,
   "id": "0227890f",
   "metadata": {},
   "outputs": [],
   "source": [
    "# adding a number of phrases, \"definition\"\n",
    "# also, running each of our phrases through the nlp, to create it's\n",
    "# own \"doc\" object for each one. \n",
    "matcher.add(\"definitions\", [\n",
    "  nlp(\"`gender\"),\n",
    "  nlp(\"`sex\")])"
   ]
  },
  {
   "cell_type": "markdown",
   "id": "f05b0fe6",
   "metadata": {},
   "source": [
    "## 3. run the `PhraseMatcher`\n",
    "Now, we run the `PhraseMatcher` on our `doc`. The results will first appear in a numeric form, but we will convert them to plain text in the next step."
   ]
  },
  {
   "cell_type": "code",
   "execution_count": 53,
   "id": "4c3954db",
   "metadata": {},
   "outputs": [
    {
     "data": {
      "text/plain": [
       "[]"
      ]
     },
     "execution_count": 53,
     "metadata": {},
     "output_type": "execute_result"
    }
   ],
   "source": [
    "# run the matcher on the doc\n",
    "matches = matcher(doc)\n",
    "\n",
    "# printing out the first 10 results.\n",
    "# we get the hash, start and end locations\n",
    "matches[:10]"
   ]
  },
  {
   "cell_type": "code",
   "execution_count": 44,
   "id": "4243b904",
   "metadata": {},
   "outputs": [
    {
     "data": {
      "text/plain": [
       "73"
      ]
     },
     "execution_count": 44,
     "metadata": {},
     "output_type": "execute_result"
    }
   ],
   "source": [
    "# see how many we got total\n",
    "len(matches)"
   ]
  },
  {
   "cell_type": "markdown",
   "id": "ff53f9af",
   "metadata": {},
   "source": [
    "## 4. print the results\n",
    "Finally, we print out the plain text of our results."
   ]
  },
  {
   "cell_type": "code",
   "execution_count": 45,
   "id": "b643a330",
   "metadata": {},
   "outputs": [
    {
     "name": "stdout",
     "output_type": "stream",
     "text": [
      "Gender reassignment medical intervention defined\\n    ``For purposes of this chapter, the term `gender reassignment \\nmedical intervention' means--\\n            ``(1) performing a surgery that sterilizes an individual, \\n        including castration, vasectomy, hysterectomy, oophorectomy, \\n        metoidioplasty, penectomy, phalloplasty, and vaginoplasty, to \\n        change the body of such individual to correspond to a sex that \\n        is discordant with biological sex;\\n            ``(2) performing a mastectomy on an individual for the \\n        purpose described in paragraph (1); and\\n            ``(3) administering or supplying to an individual \\n        medications for the purpose described in paragraph (1), \\n        including--\\n                    ``(A) GnRH agonists or other puberty-blocking drugs \\n                to stop or delay normal puberty;\\n                    ``(B) testosterone or other androgens to biological \\n                females at doses that are supraphysiologic to the \\n                female sex; and\\n                    ``(C) estrogen to biological males at doses that \\n                are supraphysiologic to the male sex.\n",
      "\n",
      "\n",
      "In general.--For purposes of this chapter, \\n                except as provided in subparagraph (B), the term \\n                `gender affirming care' means, with respect to an \\n                individual, any of the following:\\n                            ``(i) Performing any surgery for the \\n                        purpose of changing the body of such individual \\n                        to correspond to a sex that differs from their \\n                        biological sex, including--\\n                                    ``(I) castration;\\n                                    ``(II) orchiectomy;\\n                                    ``(III) scrotoplasty;\\n                                    \n",
      "\n",
      "\n",
      "Gender affirming care defined\\n    ``For purposes of this chapter, the term `gender affirming care' \\nhas the meaning given such term in section 2260B(d)(1) of title 18, \\nUnited States Code.\\n``Sec.\n",
      "\n",
      "\n",
      "IMMIGRATION CONSEQUENCES WITH RESPECT TO PROVIDING GENDER \\n              AFFIRMING CARE.\\n\\n    (a) Definitions.--Section 101(a) of the Immigration and Nationality \\nAct (8 U.S.C. 1101(a)) is amended by adding at the end the following:\\n            ``(53) The term `gender affirming care' shall have the \\n        meaning given such term in section 2260B(d) of title 18, United \\n        States Code.\n",
      "\n",
      "\n",
      "PUBLIC ACCOMMODATIONS.\\n\\n    (a) Prohibition on Discrimination or Segregation in Public \\nAccommodations.--Section 201 of the Civil Rights Act of 1964 (42 U.S.C. \\n2000a) is amended--\\n            (1) in subsection (a), by inserting ``sex (including sexual \\n        orientation and gender identity),'' before ``or national \\n        origin''; and\\n            (2) in subsection (b)--\\n                    (A) in paragraph (3), by striking ``stadium'' and \\n                all that follows and inserting ``stadium or other place \\n                of or establishment that provides exhibition, \\n                entertainment, recreation, exercise, amusement, public \\n                gathering, or public display;'';\\n                    (B) by redesignating paragraph (4) as paragraph \\n                (6); and\\n                    (C) by inserting after paragraph (3) the following:\\n            ``(4) any establishment that provides a good, service, or \\n        program, including a store, shopping center, online retailer or \\n        service provider, salon, bank, gas station, food bank, service \\n        or care center, shelter, travel agency, or funeral parlor, or \\n        establishment that provides health care, accounting, or legal \\n        services;\\n            ``(5) any train service, bus service, car service, taxi \\n        service, airline service, station, depot, or other place of or \\n        establishment that provides transportation service; and''.\\n    (b) Prohibition on Discrimination or Segregation\n",
      "\n",
      "\n",
      "\\nis amended by inserting ``sex (including sexual orientation and gender \\nidentity),'' before ``or national origin''.\\n\\nSEC.\n",
      "\n",
      "\n",
      "6. FEDERAL FUNDING.\\n\\n    Section 601 of the Civil Rights Act of 1964 (42 U.S.C. 2000d) is \\namended by inserting ``sex (including sexual orientation and gender \\nidentity),'' before ``or national origin,''.\\n\\nSEC.\n",
      "\n",
      "\n",
      "''.\\n    (b) Unlawful Employment Practices.--Section 703 of the Civil Rights \\nAct of 1964 (42 U.S.C. 2000e-2) is amended--\\n            (1) in the section header, by striking ``sex,'' and \\n        inserting ``sex (including sexual orientation and gender \\n        identity),'';\\n            (2) except in subsection (e), by striking ``sex,'' each \\n        place it appears and inserting ``sex (including sexual \\n        orientation and gender identity),'';\\n            \n",
      "\n",
      "\n",
      "''.\\n    (b) Unlawful Employment Practices.--Section 703 of the Civil Rights \\nAct of 1964 (42 U.S.C. 2000e-2) is amended--\\n            (1) in the section header, by striking ``sex,'' and \\n        inserting ``sex (including sexual orientation and gender \\n        identity),'';\\n            (2) except in subsection (e), by striking ``sex,'' each \\n        place it appears and inserting ``sex (including sexual \\n        orientation and gender identity),'';\\n            \n",
      "\n",
      "\n",
      "''.\\n    (b) Unlawful Employment Practices.--Section 703 of the Civil Rights \\nAct of 1964 (42 U.S.C. 2000e-2) is amended--\\n            (1) in the section header, by striking ``sex,'' and \\n        inserting ``sex (including sexual orientation and gender \\n        identity),'';\\n            (2) except in subsection (e), by striking ``sex,'' each \\n        place it appears and inserting ``sex (including sexual \\n        orientation and gender identity),'';\\n            \n",
      "\n",
      "\n"
     ]
    }
   ],
   "source": [
    "# to see the actual text, need to write code to access the text\n",
    "# version of that information, like \"text\", \"doc[start]\" and\n",
    "# \"doc[end]\"\n",
    "# we can also print out the whole sentence, with doc.sent\n",
    "\n",
    "for match in matches[:10]:\n",
    "    number, start, end = match\n",
    "    print(doc[start:end].sent)\n",
    "    print('\\n')\n"
   ]
  },
  {
   "cell_type": "markdown",
   "id": "b4e990bd",
   "metadata": {},
   "source": [
    "We can see that we've captured a lot here, even more than what we wanted, which is definitions of our gender terms. \n",
    "For example, we captured phrases like \"striking 'sex'\" and \"inserting 'sex'\". In the token `Matcher` section, we will \n",
    "look at ways of writing patterns that can handle more variations in our results. \n",
    "\n",
    "Let's save the data to a plain text file."
   ]
  },
  {
   "cell_type": "code",
   "execution_count": 17,
   "id": "52bcb399",
   "metadata": {},
   "outputs": [],
   "source": [
    "# first, create an empty list to store our definitions\n",
    "defs = []\n",
    "\n",
    "# then, write a loop that appends our data to that list with some useful labels \n",
    "for match in matches:\n",
    "    number, start, end = match\n",
    "    defs.append(f'Phrase: \"{doc[start:end]}\", ')\n",
    "    defs.append('\\n')\n",
    "    defs.append(f\"Sentence: {doc[start].sent}\")\n",
    "    defs.append('\\n')\n",
    "    defs.append(f'Starts: {start} of {len(doc)}')\n",
    "    defs.append('\\n')\n",
    "    defs.append('\\n')\n",
    "\n",
    " # finally, save that list to a plain text file called 'definitions'\n",
    "with open('./out/definitions.txt', 'w') as f:\n",
    "    for item in defs:\n",
    "        f.write(str(item))"
   ]
  }
 ],
 "metadata": {
  "kernelspec": {
   "display_name": "Python 3 (ipykernel)",
   "language": "python",
   "name": "python3"
  },
  "language_info": {
   "codemirror_mode": {
    "name": "ipython",
    "version": 3
   },
   "file_extension": ".py",
   "mimetype": "text/x-python",
   "name": "python",
   "nbconvert_exporter": "python",
   "pygments_lexer": "ipython3",
   "version": "3.11.0"
  }
 },
 "nbformat": 4,
 "nbformat_minor": 5
}
