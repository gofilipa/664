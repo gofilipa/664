{
 "cells": [
  {
   "cell_type": "markdown",
   "id": "0deef6c7",
   "metadata": {},
   "source": [
    "# saving scraped data\n",
    "For our project, remember that we want to scrape information about each bill contained within the bill cards. \n",
    "\n",
    "And like all good programmers, we broke this our task up into a number of steps, some of which we've already done in the previous notebook:\n",
    "1. isolate the bill_cards data from the rest of the webpage (already done)\n",
    "2. pick out the information we want from the bill cards (already done)\n",
    "3. process our information into lists\n",
    "4. clean up our information\n",
    "5. save that information to a csv file\n",
    "\n",
    "Now, we are on step three, processing elements and saves them into a list. Each of these steps itself contains smaller steps, which we will figure out as we go along. \n",
    "\n",
    "Before continuing our work, we will import the libraries we need and create our `soup` object (that holds our website content), and our `bill_cards` object (which holds our bill card data)."
   ]
  },
  {
   "cell_type": "code",
   "execution_count": 1,
   "id": "2419132e",
   "metadata": {},
   "outputs": [],
   "source": [
    "import requests\n",
    "from bs4 import BeautifulSoup"
   ]
  },
  {
   "cell_type": "code",
   "execution_count": 2,
   "id": "ea364855",
   "metadata": {},
   "outputs": [],
   "source": [
    "site = requests.get('https://translegislation.com/bills/2024/US')\n",
    "html_code = site.content\n",
    "soup = BeautifulSoup(html_code, 'lxml')"
   ]
  },
  {
   "cell_type": "code",
   "execution_count": 3,
   "id": "87f41013",
   "metadata": {},
   "outputs": [],
   "source": [
    "# to get the element and class for the cards, use the inspector\n",
    "\n",
    "bill_cards = soup.find_all('div', class_ ='css-4rck61')"
   ]
  },
  {
   "cell_type": "markdown",
   "id": "519807f5",
   "metadata": {},
   "source": [
    "Now, we can write our loop that grabs all the elements we want. "
   ]
  },
  {
   "cell_type": "code",
   "execution_count": 4,
   "id": "95a1c269",
   "metadata": {},
   "outputs": [
    {
     "name": "stdout",
     "output_type": "stream",
     "text": [
      "US HB1064\n",
      "Ensuring Military Readiness Act of 2023\n",
      "MILITARY\n",
      "To provide requirements related to the eligibility of transgender individuals from serving in the Armed Forces.\n",
      "/bills/2024/US/HB1064\n",
      "US HB1112\n",
      "Ensuring Military Readiness Act of 2023\n",
      "MILITARY\n",
      "To provide requirements related to the eligibility of individuals who identify as transgender from serving in the Armed Forces.\n",
      "/bills/2024/US/HB1112\n",
      "US HB1276\n",
      "Protect Minors from Medical Malpractice Act of 2023\n",
      "HEALTHCARE\n",
      "To protect children from medical malpractice in the form of gender transition procedures.\n",
      "/bills/2024/US/HB1276\n",
      "US HB1399\n",
      "Protect Children’s Innocence Act\n",
      "HEALTHCARE\n",
      "To amend chapter 110 of title 18, United States Code, to prohibit gender affirming care on minors, and for other purposes.\n",
      "/bills/2024/US/HB1399\n",
      "US HB1490\n",
      "Preventing Violence Against Female Inmates Act of 2023\n",
      "INCARCERATION\n",
      "To secure the dignity and safety of incarcerated women.\n",
      "/bills/2024/US/HB1490\n",
      "US HB1585\n",
      "Prohibiting Parental Secrecy Policies In Schools Act of 2023\n",
      "EDUCATION\n",
      "To require a State receiving funds pursuant to title II of the Elementary and Secondary Education Act of 1965 to implement a State policy to prohibit a school employee from conducting certain social gender transition interventions.\n",
      "/bills/2024/US/HB1585\n",
      "US HB216\n",
      "My Child, My Choice Act of 2023\n",
      "EDUCATION\n",
      "To prohibit Federal education funds from being provided to elementary schools that do not require teachers to obtain written parental consent prior to teaching lessons specifically related to gender identity, sexual orientation, or transgender studies, and for other purposes.\n",
      "/bills/2024/US/HB216\n",
      "US HB3101\n",
      "TPA Act Traditional Passport Act\n",
      "OTHER\n",
      "To prohibit the issuance of a passport with any gender designation other than \"male\" or \"female\", and for other purposes.\n",
      "/bills/2024/US/HB3101\n",
      "US HB3102\n",
      "TSA Act Traditional Screening Application Act\n",
      "OTHER\n",
      "To prohibit the Transportation Security Administration from using the \"X\" gender designation in the TSA PreCheck advanced security program, and for other purposes.\n",
      "/bills/2024/US/HB3102\n",
      "US HB3328\n",
      "Protecting Children From Experimentation Act of 2023\n",
      "HEALTHCARE\n",
      "To amend chapter 110 of title 18, United States Code, to prohibit gender transition procedures on minors, and for other purposes.\n",
      "/bills/2024/US/HB3328\n"
     ]
    }
   ],
   "source": [
    "# runs the loop on the bill cards\n",
    "\n",
    "for item in bill_cards[:10]: # only the first ten cards, just to check if it is working\n",
    "    print(item.h3.text) # title\n",
    "    print(item.h2.text) # caption\n",
    "    print(item.span.text) # category\n",
    "    print(item.p.text) # description (if any)\n",
    "    print(item.a['href']) # add https://translegislation.com/bills/2023/US"
   ]
  },
  {
   "cell_type": "markdown",
   "id": "5b38a118",
   "metadata": {},
   "source": [
    "## step 3: process our information into lists\n",
    "Now, the next step is to assign a variable for each item. This allows us to save the data to the variable name, and later, to add it to a list."
   ]
  },
  {
   "cell_type": "code",
   "execution_count": 5,
   "id": "912fe161",
   "metadata": {},
   "outputs": [
    {
     "name": "stdout",
     "output_type": "stream",
     "text": [
      "US HB1064 Ensuring Military Readiness Act of 2023 MILITARY To provide requirements related to the eligibility of transgender individuals from serving in the Armed Forces. https://translegislation.com/bills/2023/passed/bills/2024/US/HB1064\n",
      "US HB1112 Ensuring Military Readiness Act of 2023 MILITARY To provide requirements related to the eligibility of individuals who identify as transgender from serving in the Armed Forces. https://translegislation.com/bills/2023/passed/bills/2024/US/HB1112\n",
      "US HB1276 Protect Minors from Medical Malpractice Act of 2023 HEALTHCARE To protect children from medical malpractice in the form of gender transition procedures. https://translegislation.com/bills/2023/passed/bills/2024/US/HB1276\n",
      "US HB1399 Protect Children’s Innocence Act HEALTHCARE To amend chapter 110 of title 18, United States Code, to prohibit gender affirming care on minors, and for other purposes. https://translegislation.com/bills/2023/passed/bills/2024/US/HB1399\n",
      "US HB1490 Preventing Violence Against Female Inmates Act of 2023 INCARCERATION To secure the dignity and safety of incarcerated women. https://translegislation.com/bills/2023/passed/bills/2024/US/HB1490\n",
      "US HB1585 Prohibiting Parental Secrecy Policies In Schools Act of 2023 EDUCATION To require a State receiving funds pursuant to title II of the Elementary and Secondary Education Act of 1965 to implement a State policy to prohibit a school employee from conducting certain social gender transition interventions. https://translegislation.com/bills/2023/passed/bills/2024/US/HB1585\n",
      "US HB216 My Child, My Choice Act of 2023 EDUCATION To prohibit Federal education funds from being provided to elementary schools that do not require teachers to obtain written parental consent prior to teaching lessons specifically related to gender identity, sexual orientation, or transgender studies, and for other purposes. https://translegislation.com/bills/2023/passed/bills/2024/US/HB216\n",
      "US HB3101 TPA Act Traditional Passport Act OTHER To prohibit the issuance of a passport with any gender designation other than \"male\" or \"female\", and for other purposes. https://translegislation.com/bills/2023/passed/bills/2024/US/HB3101\n",
      "US HB3102 TSA Act Traditional Screening Application Act OTHER To prohibit the Transportation Security Administration from using the \"X\" gender designation in the TSA PreCheck advanced security program, and for other purposes. https://translegislation.com/bills/2023/passed/bills/2024/US/HB3102\n",
      "US HB3328 Protecting Children From Experimentation Act of 2023 HEALTHCARE To amend chapter 110 of title 18, United States Code, to prohibit gender transition procedures on minors, and for other purposes. https://translegislation.com/bills/2023/passed/bills/2024/US/HB3328\n"
     ]
    }
   ],
   "source": [
    "for item in bill_cards[:10]:\n",
    "    title = item.h3.text\n",
    "    caption = item.h2.text\n",
    "    category = item.find('span').text\n",
    "    description = item.p.text\n",
    "    link = 'https://translegislation.com/bills/2023/passed' + item.a['href']\n",
    "    print(title, caption, category, description, link)"
   ]
  },
  {
   "cell_type": "markdown",
   "id": "8e480df5",
   "metadata": {},
   "source": [
    "It works! Now let's save it to lists. "
   ]
  },
  {
   "cell_type": "code",
   "execution_count": 6,
   "id": "10e11cb9",
   "metadata": {},
   "outputs": [
    {
     "ename": "AttributeError",
     "evalue": "'NoneType' object has no attribute 'text'",
     "output_type": "error",
     "traceback": [
      "\u001b[0;31m---------------------------------------------------------------------------\u001b[0m",
      "\u001b[0;31mAttributeError\u001b[0m                            Traceback (most recent call last)",
      "Cell \u001b[0;32mIn[6], line 13\u001b[0m\n\u001b[1;32m     11\u001b[0m category \u001b[38;5;241m=\u001b[39m item\u001b[38;5;241m.\u001b[39mfind(\u001b[38;5;124m'\u001b[39m\u001b[38;5;124mspan\u001b[39m\u001b[38;5;124m'\u001b[39m)\u001b[38;5;241m.\u001b[39mtext\n\u001b[1;32m     12\u001b[0m caption \u001b[38;5;241m=\u001b[39m item\u001b[38;5;241m.\u001b[39mh2\u001b[38;5;241m.\u001b[39mtext\n\u001b[0;32m---> 13\u001b[0m description \u001b[38;5;241m=\u001b[39m item\u001b[38;5;241m.\u001b[39mp\u001b[38;5;241m.\u001b[39mtext\n\u001b[1;32m     14\u001b[0m link \u001b[38;5;241m=\u001b[39m \u001b[38;5;124m'\u001b[39m\u001b[38;5;124mhttps://translegislation.com/bills/2023/passed\u001b[39m\u001b[38;5;124m'\u001b[39m \u001b[38;5;241m+\u001b[39m item\u001b[38;5;241m.\u001b[39ma[\u001b[38;5;124m'\u001b[39m\u001b[38;5;124mhref\u001b[39m\u001b[38;5;124m'\u001b[39m]\n\u001b[1;32m     16\u001b[0m \u001b[38;5;66;03m# adding the items to the empty lists\u001b[39;00m\n",
      "\u001b[0;31mAttributeError\u001b[0m: 'NoneType' object has no attribute 'text'"
     ]
    }
   ],
   "source": [
    "# a bunch of empty lists where we will dump our data\n",
    "titles = []\n",
    "captions = []\n",
    "categories = []\n",
    "descriptions = []\n",
    "links = []\n",
    "\n",
    "# our for loop that saves each item we want from the bill_cards\n",
    "for item in bill_cards:\n",
    "    title = item.h3.text\n",
    "    category = item.find('span').text\n",
    "    caption = item.h2.text\n",
    "    description = item.p.text\n",
    "    link = 'https://translegislation.com/bills/2023/passed' + item.a['href']\n",
    "    \n",
    "    # adding the items to the empty lists\n",
    "    titles.append(title)\n",
    "    categories.append(category)\n",
    "    captions.append(caption)\n",
    "    descriptions.append(description)\n",
    "    links.append(link)"
   ]
  },
  {
   "cell_type": "markdown",
   "id": "6063a9c7-3828-42af-b757-89e6adfff6e0",
   "metadata": {},
   "source": [
    "### individual challenge:\n",
    "Google this error, try to understand what it means. And then try out a solution from Stak Overflow, making sure to change out the variable names."
   ]
  },
  {
   "cell_type": "code",
   "execution_count": 14,
   "id": "a5f53b7b-e850-45d2-8d05-71aa789d0110",
   "metadata": {},
   "outputs": [],
   "source": [
    "# a bunch of empty lists where we will dump our data\n",
    "titles = []\n",
    "captions = []\n",
    "categories = []\n",
    "descriptions = []\n",
    "links = []\n",
    "\n",
    "# our for loop that saves each item we want from the bill_cards\n",
    "for item in bill_cards:\n",
    "    title = item.h3.text\n",
    "    category = item.find('span').text\n",
    "    caption = item.h2.text\n",
    "    if item.h2.text is not None:\n",
    "        description = item.h2.text\n",
    "    else:\n",
    "        description = 'No bill description'\n",
    "    link = 'https://translegislation.com/bills/2023/passed' + item.a['href']\n",
    "    \n",
    "    # adding the items to the empty lists\n",
    "    titles.append(title)\n",
    "    categories.append(category)\n",
    "    captions.append(caption)\n",
    "    descriptions.append(description)\n",
    "    links.append(link)"
   ]
  },
  {
   "cell_type": "markdown",
   "id": "933f4fc8",
   "metadata": {},
   "source": [
    "## step 4: cleaning up our lists\n",
    "Before adding saving our dataset to a spreadsheet, we are going to do a bit more data processing and gathering. This will enable us to make a more robust dataset at the end. Here, we are going to get the link directly to the bill page on LegiScan.\n",
    "\n",
    "Like the previous sections, I'm going to use comments to write some pseudo-code that separates out the steps of the larger task. This is good practice for all programmers. "
   ]
  },
  {
   "cell_type": "code",
   "execution_count": null,
   "id": "a9c2b7eb",
   "metadata": {},
   "outputs": [],
   "source": [
    "## now, we will get the link to state bill, in the following steps:\n",
    "\n",
    "## first, make a list of URLs:\n",
    "## then, for each URL, make a soup.\n",
    "## then, for each soup, get the link to the state bill, called \"extension\"\n",
    "## then, add the link extension to the root, saving it as \"urls\"\n",
    "## finally, add the urls to a new list, called \"legiscan links\""
   ]
  },
  {
   "cell_type": "code",
   "execution_count": 20,
   "id": "9051983f",
   "metadata": {},
   "outputs": [
    {
     "name": "stdout",
     "output_type": "stream",
     "text": [
      "https://translegislation.com//bills/2024/US/HB1064\n",
      "https://translegislation.com//bills/2024/US/HB1112\n",
      "https://translegislation.com//bills/2024/US/HB1276\n",
      "https://translegislation.com//bills/2024/US/HB1399\n",
      "https://translegislation.com//bills/2024/US/HB1490\n",
      "https://translegislation.com//bills/2024/US/HB1585\n",
      "https://translegislation.com//bills/2024/US/HB216\n",
      "https://translegislation.com//bills/2024/US/HB3101\n",
      "https://translegislation.com//bills/2024/US/HB3102\n",
      "https://translegislation.com//bills/2024/US/HB3328\n"
     ]
    }
   ],
   "source": [
    "for item in bill_cards[:10]:\n",
    "    extension = 'https://translegislation.com/' + item.a['href']\n",
    "    print(extension)"
   ]
  },
  {
   "cell_type": "code",
   "execution_count": 21,
   "id": "92bd2f85",
   "metadata": {},
   "outputs": [],
   "source": [
    "urls = []\n",
    "for item in bill_cards:\n",
    "    extension = 'https://translegislation.com/' + item.a['href']\n",
    "    urls.append(extension)"
   ]
  },
  {
   "cell_type": "code",
   "execution_count": 22,
   "id": "b6d9222e",
   "metadata": {},
   "outputs": [
    {
     "data": {
      "text/plain": [
       "['https://translegislation.com//bills/2024/US/HB1064',\n",
       " 'https://translegislation.com//bills/2024/US/HB1112',\n",
       " 'https://translegislation.com//bills/2024/US/HB1276',\n",
       " 'https://translegislation.com//bills/2024/US/HB1399',\n",
       " 'https://translegislation.com//bills/2024/US/HB1490',\n",
       " 'https://translegislation.com//bills/2024/US/HB1585',\n",
       " 'https://translegislation.com//bills/2024/US/HB216',\n",
       " 'https://translegislation.com//bills/2024/US/HB3101',\n",
       " 'https://translegislation.com//bills/2024/US/HB3102',\n",
       " 'https://translegislation.com//bills/2024/US/HB3328']"
      ]
     },
     "execution_count": 22,
     "metadata": {},
     "output_type": "execute_result"
    }
   ],
   "source": [
    "urls[:10]"
   ]
  },
  {
   "cell_type": "code",
   "execution_count": 23,
   "id": "edd8695f",
   "metadata": {},
   "outputs": [],
   "source": [
    "# making a soup object of *every* page that is linked\n",
    "# this may take several seconds\n",
    "\n",
    "soups = []\n",
    "for item in urls:\n",
    "    site = requests.get(item)\n",
    "    html_code = site.content\n",
    "    soup = BeautifulSoup(html_code, 'lxml')\n",
    "    soups.append(soup)"
   ]
  },
  {
   "cell_type": "code",
   "execution_count": 24,
   "id": "e68204d9",
   "metadata": {},
   "outputs": [],
   "source": [
    "legiscan_links = []\n",
    "for item in soups:\n",
    "    # get the url for state url\n",
    "    anchor_tag = item.find('a', class_='chakra-link css-oga2ct')\n",
    "    link = anchor_tag['href']\n",
    "    legiscan_links.append(link)"
   ]
  },
  {
   "cell_type": "code",
   "execution_count": 25,
   "id": "23408a23-ce7f-494b-925d-698aa2e7aa61",
   "metadata": {},
   "outputs": [
    {
     "data": {
      "text/plain": [
       "['https://legiscan.com/US/text/HB1064/id/2737306',\n",
       " 'https://legiscan.com/US/text/HB1112/id/2742708',\n",
       " 'https://legiscan.com/US/text/HB1276/id/2755407',\n",
       " 'https://legiscan.com/US/text/HB1399/id/2796538',\n",
       " 'https://legiscan.com/US/text/HB1490/id/2761146',\n",
       " 'https://legiscan.com/US/text/HB1585/id/2763467',\n",
       " 'https://legiscan.com/US/text/HB216/id/2654610',\n",
       " 'https://legiscan.com/US/text/HB3101/id/2830677',\n",
       " 'https://legiscan.com/US/text/HB3102/id/2815463',\n",
       " 'https://legiscan.com/US/text/HB3328/id/2818358',\n",
       " 'https://legiscan.com/US/text/HB3329/id/2818922',\n",
       " 'https://legiscan.com/US/text/HB3462/id/2827206',\n",
       " 'https://legiscan.com/US/text/HB3887/id/2833147',\n",
       " 'https://legiscan.com/US/text/HB429/id/2674746',\n",
       " 'https://legiscan.com/US/text/HB4365/id/2846650',\n",
       " 'https://legiscan.com/US/text/HB4367/id/2866079',\n",
       " 'https://legiscan.com/US/text/HB4398/id/2835893',\n",
       " 'https://legiscan.com/US/text/HB4665/id/2843997',\n",
       " 'https://legiscan.com/US/text/HB4821/id/2849882',\n",
       " 'https://legiscan.com/US/text/HB5/id/2761423',\n",
       " 'https://legiscan.com/US/text/HB5327/id/2839779',\n",
       " 'https://legiscan.com/US/text/HB5636/id/2842877',\n",
       " 'https://legiscan.com/US/text/HB5893/id/2847457',\n",
       " 'https://legiscan.com/US/text/HB5894/id/2847458',\n",
       " 'https://legiscan.com/US/text/HB6040/id/2847526',\n",
       " 'https://legiscan.com/US/text/HB6258/id/2852634',\n",
       " 'https://legiscan.com/US/text/HB6658/id/2866510',\n",
       " 'https://legiscan.com/US/text/HB6728/id/2866449',\n",
       " 'https://legiscan.com/US/text/HB7183/id/2930086',\n",
       " 'https://legiscan.com/US/text/HB7187/id/2930340',\n",
       " 'https://legiscan.com/US/text/HB734/id/2787793',\n",
       " 'https://legiscan.com/US/text/HB736/id/2758803',\n",
       " 'https://legiscan.com/US/text/HB7725/id/2974064',\n",
       " 'https://legiscan.com/US/text/HB8070/id/3011826',\n",
       " 'https://legiscan.com/US/text/HB8433/id/3012543',\n",
       " 'https://legiscan.com/US/text/HB8580/id/3008798',\n",
       " 'https://legiscan.com/US/text/HB8708/id/3016017',\n",
       " 'https://legiscan.com/US/text/HB8752/id/3013700',\n",
       " 'https://legiscan.com/US/text/HB8771/id/3013260',\n",
       " 'https://legiscan.com/US/text/HB8774/id/3014246',\n",
       " 'https://legiscan.com/US/text/HB8997/id/3014401',\n",
       " 'https://legiscan.com/US/text/HB8998/id/3015728',\n",
       " 'https://legiscan.com/US/text/HB9026/id/3014403',\n",
       " 'https://legiscan.com/US/text/HB9027/id/3014469',\n",
       " 'https://legiscan.com/US/text/HB9028/id/3014468',\n",
       " 'https://legiscan.com/US/text/HB9029/id/3014470',\n",
       " 'https://legiscan.com/US/text/HB9218/id/3019830',\n",
       " 'https://www.congress.gov/bill/118th-congress/house-bill/9586/all-info',\n",
       " 'https://legiscan.com/US/text/HB985/id/2727973',\n",
       " 'https://legiscan.com/US/text/HJR160/id/3003197',\n",
       " 'https://legiscan.com/US/text/HJR165/id/3015576',\n",
       " 'https://legiscan.com/US/text/HR115/id/2692544',\n",
       " 'https://legiscan.com/US/text/HR1223/id/2996410',\n",
       " 'https://legiscan.com/US/text/HR282/id/2773507',\n",
       " 'https://legiscan.com/US/text/HR298/id/2786011',\n",
       " 'https://legiscan.com/US/text/HR518/id/2828339',\n",
       " 'https://legiscan.com/US/text/HR536/id/2830680',\n",
       " 'https://legiscan.com/US/text/HR769/id/2852616',\n",
       " 'https://legiscan.com/US/text/SB1595/id/2819634',\n",
       " 'https://legiscan.com/US/text/SB1597/id/2819703',\n",
       " 'https://legiscan.com/US/text/SB1709/id/2827463',\n",
       " 'https://legiscan.com/US/text/SB187/id/2696929',\n",
       " 'https://legiscan.com/US/text/SB200/id/2702901',\n",
       " 'https://legiscan.com/US/text/SB2357/id/2836565',\n",
       " 'https://legiscan.com/US/text/SB2394/id/2836690',\n",
       " 'https://legiscan.com/US/text/SB2797/id/2841880',\n",
       " 'https://legiscan.com/US/text/SB3035/id/2844163',\n",
       " 'https://legiscan.com/US/text/SB3438/id/2865749',\n",
       " 'https://legiscan.com/US/text/SB3729/id/2927908',\n",
       " 'https://legiscan.com/US/text/SB435/id/2727671',\n",
       " 'https://legiscan.com/US/text/SB457/id/2734132',\n",
       " 'https://legiscan.com/US/text/SB4638/id/3014404',\n",
       " 'https://legiscan.com/US/text/SB613/id/2746832',\n",
       " 'https://legiscan.com/US/text/SB635/id/2752091',\n",
       " 'https://legiscan.com/US/text/SB752/id/2760328',\n",
       " 'https://legiscan.com/US/text/SJR90/id/3003899',\n",
       " 'https://legiscan.com/US/text/SJR96/id/3009679',\n",
       " 'https://legiscan.com/US/text/SR267/id/2831179',\n",
       " 'https://legiscan.com/US/text/SR53/id/2696872',\n",
       " 'https://legiscan.com/US/text/SR669/id/2998369']"
      ]
     },
     "execution_count": 25,
     "metadata": {},
     "output_type": "execute_result"
    }
   ],
   "source": [
    "legiscan_links"
   ]
  },
  {
   "cell_type": "markdown",
   "id": "d12cc727",
   "metadata": {},
   "source": [
    "## step 5: saving our data to a CSV\n",
    "This is the final step. First, we will import two libraries for working with tabular data `pandas` and `csv`. \n",
    "\n",
    "Then, we will add each of our lists into the \"DataFrame\" (the `pandas` term for a tabular type of object), where they will appear as separate columns. Finally, we will save our DataFrame as a .csv file. "
   ]
  },
  {
   "cell_type": "code",
   "execution_count": 26,
   "id": "6f35aa77",
   "metadata": {},
   "outputs": [],
   "source": [
    "# importing the necessary libraries\n",
    "\n",
    "import pandas as pd\n",
    "import csv"
   ]
  },
  {
   "cell_type": "code",
   "execution_count": 28,
   "id": "ad4614dc",
   "metadata": {},
   "outputs": [],
   "source": [
    "# creating empty lists to hold all of our data\n",
    "\n",
    "titles = []\n",
    "captions = []\n",
    "categories = []\n",
    "descriptions = []\n",
    "\n",
    "# extracting the data from the bill cards\n",
    "for item in bill_cards:\n",
    "    title = item.h3.text\n",
    "    category = item.find('span').text\n",
    "    caption = item.h2.text\n",
    "    if item.h2.text is not None:\n",
    "        description = item.h2.text\n",
    "    else:\n",
    "        description = 'No bill description'\n",
    "    \n",
    "    # adding the items to the empty lists\n",
    "    titles.append(title)\n",
    "    categories.append(category)\n",
    "    captions.append(caption)\n",
    "    descriptions.append(description)\n",
    "    # remember that \"legiscan_links\" is already saved as a list, so we don't have to create it here"
   ]
  },
  {
   "cell_type": "code",
   "execution_count": 38,
   "id": "65381e18",
   "metadata": {},
   "outputs": [],
   "source": [
    "# creating a dataframe, with separate columns to hold each of our lists\n",
    "df = pd.DataFrame(\n",
    "    {'title': titles,\n",
    "     'caption': captions,\n",
    "     'category': categories,\n",
    "     'description': descriptions,\n",
    "     'url': urls,\n",
    "     'legiscan': legiscan_links\n",
    "    })"
   ]
  },
  {
   "cell_type": "code",
   "execution_count": 39,
   "id": "6003a39d",
   "metadata": {},
   "outputs": [
    {
     "data": {
      "text/html": [
       "<div>\n",
       "<style scoped>\n",
       "    .dataframe tbody tr th:only-of-type {\n",
       "        vertical-align: middle;\n",
       "    }\n",
       "\n",
       "    .dataframe tbody tr th {\n",
       "        vertical-align: top;\n",
       "    }\n",
       "\n",
       "    .dataframe thead th {\n",
       "        text-align: right;\n",
       "    }\n",
       "</style>\n",
       "<table border=\"1\" class=\"dataframe\">\n",
       "  <thead>\n",
       "    <tr style=\"text-align: right;\">\n",
       "      <th></th>\n",
       "      <th>title</th>\n",
       "      <th>caption</th>\n",
       "      <th>category</th>\n",
       "      <th>description</th>\n",
       "      <th>url</th>\n",
       "      <th>legiscan</th>\n",
       "    </tr>\n",
       "  </thead>\n",
       "  <tbody>\n",
       "    <tr>\n",
       "      <th>0</th>\n",
       "      <td>US HB1064</td>\n",
       "      <td>Ensuring Military Readiness Act of 2023</td>\n",
       "      <td>MILITARY</td>\n",
       "      <td>Ensuring Military Readiness Act of 2023</td>\n",
       "      <td>https://translegislation.com//bills/2024/US/HB...</td>\n",
       "      <td>https://legiscan.com/US/text/HB1064/id/2737306</td>\n",
       "    </tr>\n",
       "    <tr>\n",
       "      <th>1</th>\n",
       "      <td>US HB1112</td>\n",
       "      <td>Ensuring Military Readiness Act of 2023</td>\n",
       "      <td>MILITARY</td>\n",
       "      <td>Ensuring Military Readiness Act of 2023</td>\n",
       "      <td>https://translegislation.com//bills/2024/US/HB...</td>\n",
       "      <td>https://legiscan.com/US/text/HB1112/id/2742708</td>\n",
       "    </tr>\n",
       "    <tr>\n",
       "      <th>2</th>\n",
       "      <td>US HB1276</td>\n",
       "      <td>Protect Minors from Medical Malpractice Act of...</td>\n",
       "      <td>HEALTHCARE</td>\n",
       "      <td>Protect Minors from Medical Malpractice Act of...</td>\n",
       "      <td>https://translegislation.com//bills/2024/US/HB...</td>\n",
       "      <td>https://legiscan.com/US/text/HB1276/id/2755407</td>\n",
       "    </tr>\n",
       "    <tr>\n",
       "      <th>3</th>\n",
       "      <td>US HB1399</td>\n",
       "      <td>Protect Children’s Innocence Act</td>\n",
       "      <td>HEALTHCARE</td>\n",
       "      <td>Protect Children’s Innocence Act</td>\n",
       "      <td>https://translegislation.com//bills/2024/US/HB...</td>\n",
       "      <td>https://legiscan.com/US/text/HB1399/id/2796538</td>\n",
       "    </tr>\n",
       "    <tr>\n",
       "      <th>4</th>\n",
       "      <td>US HB1490</td>\n",
       "      <td>Preventing Violence Against Female Inmates Act...</td>\n",
       "      <td>INCARCERATION</td>\n",
       "      <td>Preventing Violence Against Female Inmates Act...</td>\n",
       "      <td>https://translegislation.com//bills/2024/US/HB...</td>\n",
       "      <td>https://legiscan.com/US/text/HB1490/id/2761146</td>\n",
       "    </tr>\n",
       "  </tbody>\n",
       "</table>\n",
       "</div>"
      ],
      "text/plain": [
       "       title                                            caption  \\\n",
       "0  US HB1064            Ensuring Military Readiness Act of 2023   \n",
       "1  US HB1112            Ensuring Military Readiness Act of 2023   \n",
       "2  US HB1276  Protect Minors from Medical Malpractice Act of...   \n",
       "3  US HB1399                   Protect Children’s Innocence Act   \n",
       "4  US HB1490  Preventing Violence Against Female Inmates Act...   \n",
       "\n",
       "        category                                        description  \\\n",
       "0       MILITARY            Ensuring Military Readiness Act of 2023   \n",
       "1       MILITARY            Ensuring Military Readiness Act of 2023   \n",
       "2     HEALTHCARE  Protect Minors from Medical Malpractice Act of...   \n",
       "3     HEALTHCARE                   Protect Children’s Innocence Act   \n",
       "4  INCARCERATION  Preventing Violence Against Female Inmates Act...   \n",
       "\n",
       "                                                 url  \\\n",
       "0  https://translegislation.com//bills/2024/US/HB...   \n",
       "1  https://translegislation.com//bills/2024/US/HB...   \n",
       "2  https://translegislation.com//bills/2024/US/HB...   \n",
       "3  https://translegislation.com//bills/2024/US/HB...   \n",
       "4  https://translegislation.com//bills/2024/US/HB...   \n",
       "\n",
       "                                         legiscan  \n",
       "0  https://legiscan.com/US/text/HB1064/id/2737306  \n",
       "1  https://legiscan.com/US/text/HB1112/id/2742708  \n",
       "2  https://legiscan.com/US/text/HB1276/id/2755407  \n",
       "3  https://legiscan.com/US/text/HB1399/id/2796538  \n",
       "4  https://legiscan.com/US/text/HB1490/id/2761146  "
      ]
     },
     "execution_count": 39,
     "metadata": {},
     "output_type": "execute_result"
    }
   ],
   "source": [
    "# checking the first 5 lines of the dataframe\n",
    "\n",
    "df.head()"
   ]
  },
  {
   "cell_type": "code",
   "execution_count": 40,
   "id": "6f63d6e8",
   "metadata": {},
   "outputs": [],
   "source": [
    "# saving the dataframe as a csv file\n",
    "\n",
    "df.to_csv('bill_data.csv')"
   ]
  },
  {
   "cell_type": "markdown",
   "id": "e367833f",
   "metadata": {},
   "source": [
    "And that's all! If you are on google colab, check your sidebar under the \"files\" tab. You should see a .csv file containing the data we've scraped from the `translegislation.com` website. Well done!\n",
    "\n",
    "In the next section, we will look at an API method for getting legislative data, and save that data to a CSV file. In that activity, you'll see the differences in handling data acrossn web scraping and API methods."
   ]
  }
 ],
 "metadata": {
  "kernelspec": {
   "display_name": "Python 3 (ipykernel)",
   "language": "python",
   "name": "python3"
  },
  "language_info": {
   "codemirror_mode": {
    "name": "ipython",
    "version": 3
   },
   "file_extension": ".py",
   "mimetype": "text/x-python",
   "name": "python",
   "nbconvert_exporter": "python",
   "pygments_lexer": "ipython3",
   "version": "3.11.7"
  }
 },
 "nbformat": 4,
 "nbformat_minor": 5
}