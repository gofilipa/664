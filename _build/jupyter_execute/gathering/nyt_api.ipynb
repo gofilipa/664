{
 "cells": [
  {
   "cell_type": "markdown",
   "id": "60214551",
   "metadata": {},
   "source": [
    "# NYT API\n",
    "To use the New York Times API, register for an [API key here](https://developer.nytimes.com/).\n",
    "\n",
    "For more detailed explanation on using the API, see this resource:\n",
    "https://nicksubic.medium.com/a-guide-to-querying-the-new-york-times-api-with-python-b621556236f8\n"
   ]
  },
  {
   "cell_type": "code",
   "execution_count": 1,
   "id": "67ea53ce",
   "metadata": {},
   "outputs": [],
   "source": [
    "import requests\n",
    "from time import sleep"
   ]
  },
  {
   "cell_type": "markdown",
   "id": "cbb07b0b",
   "metadata": {},
   "source": [
    "## creating API calls with keys"
   ]
  },
  {
   "cell_type": "code",
   "execution_count": 2,
   "id": "fb6c5bbb",
   "metadata": {},
   "outputs": [],
   "source": [
    "# key\n",
    "key = 'HHhPAjnfEF2EmLtf9PdGsLEQZizR3iQu'\n",
    "\n",
    "# query\n",
    "query = 'migrant'\n",
    "\n",
    "# base URL\n",
    "url = f'https://api.nytimes.com/svc/search/v2/articlesearch.json?&q={query}&api-key={key}'"
   ]
  },
  {
   "cell_type": "code",
   "execution_count": 3,
   "id": "c945b54f",
   "metadata": {},
   "outputs": [],
   "source": [
    "response = requests.get(url)"
   ]
  },
  {
   "cell_type": "code",
   "execution_count": 4,
   "id": "cc491e4d",
   "metadata": {},
   "outputs": [
    {
     "data": {
      "text/plain": [
       "<Response [200]>"
      ]
     },
     "execution_count": 4,
     "metadata": {},
     "output_type": "execute_result"
    }
   ],
   "source": [
    "response"
   ]
  },
  {
   "cell_type": "code",
   "execution_count": 5,
   "id": "57539cab-be0e-44eb-83a2-99e161a20ccc",
   "metadata": {},
   "outputs": [
    {
     "data": {
      "text/plain": [
       "requests.models.Response"
      ]
     },
     "execution_count": 5,
     "metadata": {},
     "output_type": "execute_result"
    }
   ],
   "source": [
    "type(response)"
   ]
  },
  {
   "cell_type": "code",
   "execution_count": 6,
   "id": "33029fc4",
   "metadata": {},
   "outputs": [
    {
     "data": {
      "text/plain": [
       "['__attrs__',\n",
       " '__bool__',\n",
       " '__class__',\n",
       " '__delattr__',\n",
       " '__dict__',\n",
       " '__dir__',\n",
       " '__doc__',\n",
       " '__enter__',\n",
       " '__eq__',\n",
       " '__exit__',\n",
       " '__firstlineno__',\n",
       " '__format__',\n",
       " '__ge__',\n",
       " '__getattribute__',\n",
       " '__getstate__',\n",
       " '__gt__',\n",
       " '__hash__',\n",
       " '__init__',\n",
       " '__init_subclass__',\n",
       " '__iter__',\n",
       " '__le__',\n",
       " '__lt__',\n",
       " '__module__',\n",
       " '__ne__',\n",
       " '__new__',\n",
       " '__nonzero__',\n",
       " '__reduce__',\n",
       " '__reduce_ex__',\n",
       " '__repr__',\n",
       " '__setattr__',\n",
       " '__setstate__',\n",
       " '__sizeof__',\n",
       " '__static_attributes__',\n",
       " '__str__',\n",
       " '__subclasshook__',\n",
       " '__weakref__',\n",
       " '_content',\n",
       " '_content_consumed',\n",
       " '_next',\n",
       " 'apparent_encoding',\n",
       " 'close',\n",
       " 'connection',\n",
       " 'content',\n",
       " 'cookies',\n",
       " 'elapsed',\n",
       " 'encoding',\n",
       " 'headers',\n",
       " 'history',\n",
       " 'is_permanent_redirect',\n",
       " 'is_redirect',\n",
       " 'iter_content',\n",
       " 'iter_lines',\n",
       " 'json',\n",
       " 'links',\n",
       " 'next',\n",
       " 'ok',\n",
       " 'raise_for_status',\n",
       " 'raw',\n",
       " 'reason',\n",
       " 'request',\n",
       " 'status_code',\n",
       " 'text',\n",
       " 'url']"
      ]
     },
     "execution_count": 6,
     "metadata": {},
     "output_type": "execute_result"
    }
   ],
   "source": [
    "dir(response)"
   ]
  },
  {
   "cell_type": "markdown",
   "id": "0a8d4c86-e88e-48d5-90cc-fcb4376d7fbb",
   "metadata": {},
   "source": [
    "## parsing our data\n",
    "\n",
    "We want to turn our response object into a `dict` data structure, which we can more easily explore using Python. "
   ]
  },
  {
   "cell_type": "code",
   "execution_count": 7,
   "id": "734d5e8e",
   "metadata": {},
   "outputs": [],
   "source": [
    "parsed = response.json()"
   ]
  },
  {
   "cell_type": "code",
   "execution_count": 8,
   "id": "71c184d7",
   "metadata": {},
   "outputs": [
    {
     "data": {
      "text/plain": [
       "dict_keys(['status', 'copyright', 'response'])"
      ]
     },
     "execution_count": 8,
     "metadata": {},
     "output_type": "execute_result"
    }
   ],
   "source": [
    "parsed.keys()"
   ]
  },
  {
   "cell_type": "markdown",
   "id": "b0bcf466-d115-4cb6-ad29-882976a0aec1",
   "metadata": {},
   "source": [
    "Use methods like `keys()` to see what is contained within the `parsed` object."
   ]
  },
  {
   "cell_type": "code",
   "execution_count": 9,
   "id": "a6f41c16",
   "metadata": {},
   "outputs": [
    {
     "data": {
      "text/plain": [
       "dict_keys(['docs', 'meta'])"
      ]
     },
     "execution_count": 9,
     "metadata": {},
     "output_type": "execute_result"
    }
   ],
   "source": [
    "parsed['response'].keys()"
   ]
  },
  {
   "cell_type": "markdown",
   "id": "dec1560e-752c-4348-9b5f-c704b12965c3",
   "metadata": {},
   "source": [
    "Use brackets to go deeper into the `dict` structure. First, check out the `meta` key, then the `docs` key."
   ]
  },
  {
   "cell_type": "code",
   "execution_count": 10,
   "id": "df87925c-878c-4743-b035-b3c1a903f0bc",
   "metadata": {},
   "outputs": [
    {
     "data": {
      "text/plain": [
       "dict"
      ]
     },
     "execution_count": 10,
     "metadata": {},
     "output_type": "execute_result"
    }
   ],
   "source": [
    "type(parsed['response']['meta'])"
   ]
  },
  {
   "cell_type": "code",
   "execution_count": 11,
   "id": "74031afd",
   "metadata": {},
   "outputs": [
    {
     "data": {
      "text/plain": [
       "{'hits': 31684, 'offset': 0, 'time': 51}"
      ]
     },
     "execution_count": 11,
     "metadata": {},
     "output_type": "execute_result"
    }
   ],
   "source": [
    "parsed['response']['meta']"
   ]
  },
  {
   "cell_type": "markdown",
   "id": "53c55443-83cf-4126-ae3f-88f5fe8d5445",
   "metadata": {},
   "source": [
    "Inside `docs`, we have a list. "
   ]
  },
  {
   "cell_type": "code",
   "execution_count": 12,
   "id": "4ffadd3d-b51d-424e-ace5-a9d30db7cd61",
   "metadata": {},
   "outputs": [
    {
     "data": {
      "text/plain": [
       "list"
      ]
     },
     "execution_count": 12,
     "metadata": {},
     "output_type": "execute_result"
    }
   ],
   "source": [
    "type(parsed['response']['docs'])"
   ]
  },
  {
   "cell_type": "markdown",
   "id": "e142dff7-ef9f-4773-9df5-ae6f0a8723bd",
   "metadata": {},
   "source": [
    "The data in `docs` is absolutely massive, so we will just print out the first item in that object. "
   ]
  },
  {
   "cell_type": "code",
   "execution_count": 13,
   "id": "9a7aa12c-876f-4f07-b417-cf3dca96898c",
   "metadata": {},
   "outputs": [
    {
     "data": {
      "text/plain": [
       "{'abstract': 'The migrant crisis has emerged as a dominant theme in House races across New York State and even in the presidential race.',\n",
       " 'web_url': 'https://www.nytimes.com/2024/10/29/nyregion/migrants-new-york-elections.html',\n",
       " 'snippet': 'The migrant crisis has emerged as a dominant theme in House races across New York State and even in the presidential race.',\n",
       " 'lead_paragraph': 'Good morning. It’s Tuesday. Today we’ll look at how the migrant crisis in New York City became a campaign issue that candidates from both sides of the aisle in the state are using to attract voters.',\n",
       " 'source': 'The New York Times',\n",
       " 'multimedia': [{'rank': 0,\n",
       "   'subtype': 'xlarge',\n",
       "   'caption': None,\n",
       "   'credit': None,\n",
       "   'type': 'image',\n",
       "   'url': 'images/2024/10/29/multimedia/29nytoday1-gfwc/29nytoday1-gfwc-articleLarge.jpg',\n",
       "   'height': 400,\n",
       "   'width': 600,\n",
       "   'legacy': {'xlarge': 'images/2024/10/29/multimedia/29nytoday1-gfwc/29nytoday1-gfwc-articleLarge.jpg',\n",
       "    'xlargewidth': 600,\n",
       "    'xlargeheight': 400},\n",
       "   'subType': 'xlarge',\n",
       "   'crop_name': 'articleLarge'},\n",
       "  {'rank': 0,\n",
       "   'subtype': 'popup',\n",
       "   'caption': None,\n",
       "   'credit': None,\n",
       "   'type': 'image',\n",
       "   'url': 'images/2024/10/29/multimedia/29nytoday1-gfwc/29nytoday1-gfwc-popup.jpg',\n",
       "   'height': 433,\n",
       "   'width': 650,\n",
       "   'legacy': {},\n",
       "   'subType': 'popup',\n",
       "   'crop_name': 'popup'},\n",
       "  {'rank': 0,\n",
       "   'subtype': 'blog480',\n",
       "   'caption': None,\n",
       "   'credit': None,\n",
       "   'type': 'image',\n",
       "   'url': 'images/2024/10/29/multimedia/29nytoday1-gfwc/29nytoday1-gfwc-blog480.jpg',\n",
       "   'height': 320,\n",
       "   'width': 480,\n",
       "   'legacy': {},\n",
       "   'subType': 'blog480',\n",
       "   'crop_name': 'blog480'},\n",
       "  {'rank': 0,\n",
       "   'subtype': 'blog533',\n",
       "   'caption': None,\n",
       "   'credit': None,\n",
       "   'type': 'image',\n",
       "   'url': 'images/2024/10/29/multimedia/29nytoday1-gfwc/29nytoday1-gfwc-blog533.jpg',\n",
       "   'height': 355,\n",
       "   'width': 533,\n",
       "   'legacy': {},\n",
       "   'subType': 'blog533',\n",
       "   'crop_name': 'blog533'},\n",
       "  {'rank': 0,\n",
       "   'subtype': 'blog427',\n",
       "   'caption': None,\n",
       "   'credit': None,\n",
       "   'type': 'image',\n",
       "   'url': 'images/2024/10/29/multimedia/29nytoday1-gfwc/29nytoday1-gfwc-blog427.jpg',\n",
       "   'height': 285,\n",
       "   'width': 427,\n",
       "   'legacy': {},\n",
       "   'subType': 'blog427',\n",
       "   'crop_name': 'blog427'},\n",
       "  {'rank': 0,\n",
       "   'subtype': 'tmagSF',\n",
       "   'caption': None,\n",
       "   'credit': None,\n",
       "   'type': 'image',\n",
       "   'url': 'images/2024/10/29/multimedia/29nytoday1-gfwc/29nytoday1-gfwc-tmagSF.jpg',\n",
       "   'height': 241,\n",
       "   'width': 362,\n",
       "   'legacy': {},\n",
       "   'subType': 'tmagSF',\n",
       "   'crop_name': 'tmagSF'},\n",
       "  {'rank': 0,\n",
       "   'subtype': 'tmagArticle',\n",
       "   'caption': None,\n",
       "   'credit': None,\n",
       "   'type': 'image',\n",
       "   'url': 'images/2024/10/29/multimedia/29nytoday1-gfwc/29nytoday1-gfwc-tmagArticle.jpg',\n",
       "   'height': 395,\n",
       "   'width': 592,\n",
       "   'legacy': {},\n",
       "   'subType': 'tmagArticle',\n",
       "   'crop_name': 'tmagArticle'},\n",
       "  {'rank': 0,\n",
       "   'subtype': 'slide',\n",
       "   'caption': None,\n",
       "   'credit': None,\n",
       "   'type': 'image',\n",
       "   'url': 'images/2024/10/29/multimedia/29nytoday1-gfwc/29nytoday1-gfwc-slide.jpg',\n",
       "   'height': 400,\n",
       "   'width': 600,\n",
       "   'legacy': {},\n",
       "   'subType': 'slide',\n",
       "   'crop_name': 'slide'},\n",
       "  {'rank': 0,\n",
       "   'subtype': 'jumbo',\n",
       "   'caption': None,\n",
       "   'credit': None,\n",
       "   'type': 'image',\n",
       "   'url': 'images/2024/10/29/multimedia/29nytoday1-gfwc/29nytoday1-gfwc-jumbo.jpg',\n",
       "   'height': 683,\n",
       "   'width': 1024,\n",
       "   'legacy': {},\n",
       "   'subType': 'jumbo',\n",
       "   'crop_name': 'jumbo'},\n",
       "  {'rank': 0,\n",
       "   'subtype': 'superJumbo',\n",
       "   'caption': None,\n",
       "   'credit': None,\n",
       "   'type': 'image',\n",
       "   'url': 'images/2024/10/29/multimedia/29nytoday1-gfwc/29nytoday1-gfwc-superJumbo.jpg',\n",
       "   'height': 1365,\n",
       "   'width': 2048,\n",
       "   'legacy': {},\n",
       "   'subType': 'superJumbo',\n",
       "   'crop_name': 'superJumbo'},\n",
       "  {'rank': 0,\n",
       "   'subtype': 'blog225',\n",
       "   'caption': None,\n",
       "   'credit': None,\n",
       "   'type': 'image',\n",
       "   'url': 'images/2024/10/29/multimedia/29nytoday1-gfwc/29nytoday1-gfwc-blog225.jpg',\n",
       "   'height': 150,\n",
       "   'width': 225,\n",
       "   'legacy': {},\n",
       "   'subType': 'blog225',\n",
       "   'crop_name': 'blog225'},\n",
       "  {'rank': 0,\n",
       "   'subtype': 'master1050',\n",
       "   'caption': None,\n",
       "   'credit': None,\n",
       "   'type': 'image',\n",
       "   'url': 'images/2024/10/29/multimedia/29nytoday1-gfwc/29nytoday1-gfwc-master1050.jpg',\n",
       "   'height': 700,\n",
       "   'width': 1050,\n",
       "   'legacy': {},\n",
       "   'subType': 'master1050',\n",
       "   'crop_name': 'master1050'},\n",
       "  {'rank': 0,\n",
       "   'subtype': 'master675',\n",
       "   'caption': None,\n",
       "   'credit': None,\n",
       "   'type': 'image',\n",
       "   'url': 'images/2024/10/29/multimedia/29nytoday1-gfwc/29nytoday1-gfwc-master675.jpg',\n",
       "   'height': 450,\n",
       "   'width': 675,\n",
       "   'legacy': {},\n",
       "   'subType': 'master675',\n",
       "   'crop_name': 'master675'},\n",
       "  {'rank': 0,\n",
       "   'subtype': 'master495',\n",
       "   'caption': None,\n",
       "   'credit': None,\n",
       "   'type': 'image',\n",
       "   'url': 'images/2024/10/29/multimedia/29nytoday1-gfwc/29nytoday1-gfwc-master495.jpg',\n",
       "   'height': 330,\n",
       "   'width': 495,\n",
       "   'legacy': {},\n",
       "   'subType': 'master495',\n",
       "   'crop_name': 'master495'},\n",
       "  {'rank': 0,\n",
       "   'subtype': 'master180',\n",
       "   'caption': None,\n",
       "   'credit': None,\n",
       "   'type': 'image',\n",
       "   'url': 'images/2024/10/29/multimedia/29nytoday1-gfwc/29nytoday1-gfwc-master180.jpg',\n",
       "   'height': 120,\n",
       "   'width': 180,\n",
       "   'legacy': {},\n",
       "   'subType': 'master180',\n",
       "   'crop_name': 'master180'},\n",
       "  {'rank': 0,\n",
       "   'subtype': 'master315',\n",
       "   'caption': None,\n",
       "   'credit': None,\n",
       "   'type': 'image',\n",
       "   'url': 'images/2024/10/29/multimedia/29nytoday1-gfwc/29nytoday1-gfwc-master315.jpg',\n",
       "   'height': 210,\n",
       "   'width': 315,\n",
       "   'legacy': {},\n",
       "   'subType': 'master315',\n",
       "   'crop_name': 'master315'},\n",
       "  {'rank': 0,\n",
       "   'subtype': 'master768',\n",
       "   'caption': None,\n",
       "   'credit': None,\n",
       "   'type': 'image',\n",
       "   'url': 'images/2024/10/29/multimedia/29nytoday1-gfwc/29nytoday1-gfwc-master768.jpg',\n",
       "   'height': 512,\n",
       "   'width': 768,\n",
       "   'legacy': {},\n",
       "   'subType': 'master768',\n",
       "   'crop_name': 'master768'},\n",
       "  {'rank': 0,\n",
       "   'subtype': 'thumbnail',\n",
       "   'caption': None,\n",
       "   'credit': None,\n",
       "   'type': 'image',\n",
       "   'url': 'images/2024/10/29/multimedia/29nytoday1-gfwc/29nytoday1-gfwc-thumbStandard.jpg',\n",
       "   'height': 75,\n",
       "   'width': 75,\n",
       "   'legacy': {'thumbnail': 'images/2024/10/29/multimedia/29nytoday1-gfwc/29nytoday1-gfwc-thumbStandard.jpg',\n",
       "    'thumbnailwidth': 75,\n",
       "    'thumbnailheight': 75},\n",
       "   'subType': 'thumbnail',\n",
       "   'crop_name': 'thumbStandard'},\n",
       "  {'rank': 0,\n",
       "   'subtype': 'blogSmallThumb',\n",
       "   'caption': None,\n",
       "   'credit': None,\n",
       "   'type': 'image',\n",
       "   'url': 'images/2024/10/29/multimedia/29nytoday1-gfwc/29nytoday1-gfwc-blogSmallThumb.jpg',\n",
       "   'height': 50,\n",
       "   'width': 50,\n",
       "   'legacy': {},\n",
       "   'subType': 'blogSmallThumb',\n",
       "   'crop_name': 'blogSmallThumb'},\n",
       "  {'rank': 0,\n",
       "   'subtype': 'thumbLarge',\n",
       "   'caption': None,\n",
       "   'credit': None,\n",
       "   'type': 'image',\n",
       "   'url': 'images/2024/10/29/multimedia/29nytoday1-gfwc/29nytoday1-gfwc-thumbLarge.jpg',\n",
       "   'height': 150,\n",
       "   'width': 150,\n",
       "   'legacy': {},\n",
       "   'subType': 'thumbLarge',\n",
       "   'crop_name': 'thumbLarge'},\n",
       "  {'rank': 0,\n",
       "   'subtype': 'smallSquare168',\n",
       "   'caption': None,\n",
       "   'credit': None,\n",
       "   'type': 'image',\n",
       "   'url': 'images/2024/10/29/multimedia/29nytoday1-gfwc/29nytoday1-gfwc-smallSquare168.jpg',\n",
       "   'height': 168,\n",
       "   'width': 168,\n",
       "   'legacy': {},\n",
       "   'subType': 'smallSquare168',\n",
       "   'crop_name': 'smallSquare168'},\n",
       "  {'rank': 0,\n",
       "   'subtype': 'smallSquare252',\n",
       "   'caption': None,\n",
       "   'credit': None,\n",
       "   'type': 'image',\n",
       "   'url': 'images/2024/10/29/multimedia/29nytoday1-gfwc/29nytoday1-gfwc-smallSquare252.jpg',\n",
       "   'height': 252,\n",
       "   'width': 252,\n",
       "   'legacy': {},\n",
       "   'subType': 'smallSquare252',\n",
       "   'crop_name': 'smallSquare252'},\n",
       "  {'rank': 0,\n",
       "   'subtype': 'square320',\n",
       "   'caption': None,\n",
       "   'credit': None,\n",
       "   'type': 'image',\n",
       "   'url': 'images/2024/10/29/multimedia/29nytoday1-gfwc/29nytoday1-gfwc-square320.jpg',\n",
       "   'height': 320,\n",
       "   'width': 320,\n",
       "   'legacy': {},\n",
       "   'subType': 'square320',\n",
       "   'crop_name': 'square320'},\n",
       "  {'rank': 0,\n",
       "   'subtype': 'moth',\n",
       "   'caption': None,\n",
       "   'credit': None,\n",
       "   'type': 'image',\n",
       "   'url': 'images/2024/10/29/multimedia/29nytoday1-gfwc/29nytoday1-gfwc-moth.jpg',\n",
       "   'height': 151,\n",
       "   'width': 151,\n",
       "   'legacy': {},\n",
       "   'subType': 'moth',\n",
       "   'crop_name': 'moth'},\n",
       "  {'rank': 0,\n",
       "   'subtype': 'filmstrip',\n",
       "   'caption': None,\n",
       "   'credit': None,\n",
       "   'type': 'image',\n",
       "   'url': 'images/2024/10/29/multimedia/29nytoday1-gfwc/29nytoday1-gfwc-filmstrip.jpg',\n",
       "   'height': 190,\n",
       "   'width': 190,\n",
       "   'legacy': {},\n",
       "   'subType': 'filmstrip',\n",
       "   'crop_name': 'filmstrip'},\n",
       "  {'rank': 0,\n",
       "   'subtype': 'square640',\n",
       "   'caption': None,\n",
       "   'credit': None,\n",
       "   'type': 'image',\n",
       "   'url': 'images/2024/10/29/multimedia/29nytoday1-gfwc/29nytoday1-gfwc-square640.jpg',\n",
       "   'height': 640,\n",
       "   'width': 640,\n",
       "   'legacy': {},\n",
       "   'subType': 'square640',\n",
       "   'crop_name': 'square640'},\n",
       "  {'rank': 0,\n",
       "   'subtype': 'mediumSquare149',\n",
       "   'caption': None,\n",
       "   'credit': None,\n",
       "   'type': 'image',\n",
       "   'url': 'images/2024/10/29/multimedia/29nytoday1-gfwc/29nytoday1-gfwc-mediumSquare149.jpg',\n",
       "   'height': 149,\n",
       "   'width': 149,\n",
       "   'legacy': {},\n",
       "   'subType': 'mediumSquare149',\n",
       "   'crop_name': 'mediumSquare149'},\n",
       "  {'rank': 0,\n",
       "   'subtype': 'mediumSquareAt3X',\n",
       "   'caption': None,\n",
       "   'credit': None,\n",
       "   'type': 'image',\n",
       "   'url': 'images/2024/10/29/multimedia/29nytoday1-gfwc/29nytoday1-gfwc-mediumSquareAt3X.jpg',\n",
       "   'height': 1800,\n",
       "   'width': 1800,\n",
       "   'legacy': {},\n",
       "   'subType': 'mediumSquareAt3X',\n",
       "   'crop_name': 'mediumSquareAt3X'},\n",
       "  {'rank': 0,\n",
       "   'subtype': 'sfSpan',\n",
       "   'caption': None,\n",
       "   'credit': None,\n",
       "   'type': 'image',\n",
       "   'url': 'images/2024/10/29/multimedia/29nytoday1-gfwc/29nytoday1-gfwc-sfSpan.jpg',\n",
       "   'height': 263,\n",
       "   'width': 395,\n",
       "   'legacy': {},\n",
       "   'subType': 'sfSpan',\n",
       "   'crop_name': 'sfSpan'},\n",
       "  {'rank': 0,\n",
       "   'subtype': 'largeHorizontal375',\n",
       "   'caption': None,\n",
       "   'credit': None,\n",
       "   'type': 'image',\n",
       "   'url': 'images/2024/10/29/multimedia/29nytoday1-gfwc/29nytoday1-gfwc-largeHorizontal375.jpg',\n",
       "   'height': 250,\n",
       "   'width': 375,\n",
       "   'legacy': {},\n",
       "   'subType': 'largeHorizontal375',\n",
       "   'crop_name': 'largeHorizontal375'},\n",
       "  {'rank': 0,\n",
       "   'subtype': 'largeHorizontalJumbo',\n",
       "   'caption': None,\n",
       "   'credit': None,\n",
       "   'type': 'image',\n",
       "   'url': 'images/2024/10/29/multimedia/29nytoday1-gfwc/29nytoday1-gfwc-largeHorizontalJumbo.jpg',\n",
       "   'height': 683,\n",
       "   'width': 1024,\n",
       "   'legacy': {},\n",
       "   'subType': 'largeHorizontalJumbo',\n",
       "   'crop_name': 'largeHorizontalJumbo'},\n",
       "  {'rank': 0,\n",
       "   'subtype': 'horizontalMediumAt2X',\n",
       "   'caption': None,\n",
       "   'credit': None,\n",
       "   'type': 'image',\n",
       "   'url': 'images/2024/10/29/multimedia/29nytoday1-gfwc/29nytoday1-gfwc-horizontalMediumAt2X.jpg',\n",
       "   'height': 2000,\n",
       "   'width': 3000,\n",
       "   'legacy': {},\n",
       "   'subType': 'horizontalMediumAt2X',\n",
       "   'crop_name': 'horizontalMediumAt2X'},\n",
       "  {'rank': 0,\n",
       "   'subtype': 'hpLarge',\n",
       "   'caption': None,\n",
       "   'credit': None,\n",
       "   'type': 'image',\n",
       "   'url': 'images/2024/10/29/multimedia/29nytoday1-gfwc/29nytoday1-gfwc-hpLarge.jpg',\n",
       "   'height': 288,\n",
       "   'width': 511,\n",
       "   'legacy': {},\n",
       "   'subType': 'hpLarge',\n",
       "   'crop_name': 'hpLarge'},\n",
       "  {'rank': 0,\n",
       "   'subtype': 'largeWidescreen573',\n",
       "   'caption': None,\n",
       "   'credit': None,\n",
       "   'type': 'image',\n",
       "   'url': 'images/2024/10/29/multimedia/29nytoday1-gfwc/29nytoday1-gfwc-largeWidescreen573.jpg',\n",
       "   'height': 322,\n",
       "   'width': 573,\n",
       "   'legacy': {},\n",
       "   'subType': 'largeWidescreen573',\n",
       "   'crop_name': 'largeWidescreen573'},\n",
       "  {'rank': 0,\n",
       "   'subtype': 'largeWidescreen1050',\n",
       "   'caption': None,\n",
       "   'credit': None,\n",
       "   'type': 'image',\n",
       "   'url': 'images/2024/10/29/multimedia/29nytoday1-gfwc/29nytoday1-gfwc-largeWidescreen1050.jpg',\n",
       "   'height': 591,\n",
       "   'width': 1050,\n",
       "   'legacy': {},\n",
       "   'subType': 'largeWidescreen1050',\n",
       "   'crop_name': 'largeWidescreen1050'},\n",
       "  {'rank': 0,\n",
       "   'subtype': 'wide',\n",
       "   'caption': None,\n",
       "   'credit': None,\n",
       "   'type': 'image',\n",
       "   'url': 'images/2024/10/29/multimedia/29nytoday1-gfwc/29nytoday1-gfwc-thumbWide.jpg',\n",
       "   'height': 126,\n",
       "   'width': 190,\n",
       "   'legacy': {'widewidth': 190,\n",
       "    'wideheight': 126,\n",
       "    'wide': 'images/2024/10/29/multimedia/29nytoday1-gfwc/29nytoday1-gfwc-thumbWide.jpg'},\n",
       "   'subType': 'wide',\n",
       "   'crop_name': 'thumbWide'},\n",
       "  {'rank': 0,\n",
       "   'subtype': 'videoThumb',\n",
       "   'caption': None,\n",
       "   'credit': None,\n",
       "   'type': 'image',\n",
       "   'url': 'images/2024/10/29/multimedia/29nytoday1-gfwc/29nytoday1-gfwc-videoThumb.jpg',\n",
       "   'height': 50,\n",
       "   'width': 75,\n",
       "   'legacy': {},\n",
       "   'subType': 'videoThumb',\n",
       "   'crop_name': 'videoThumb'},\n",
       "  {'rank': 0,\n",
       "   'subtype': 'videoLarge',\n",
       "   'caption': None,\n",
       "   'credit': None,\n",
       "   'type': 'image',\n",
       "   'url': 'images/2024/10/29/multimedia/29nytoday1-gfwc/29nytoday1-gfwc-videoLarge.jpg',\n",
       "   'height': 507,\n",
       "   'width': 768,\n",
       "   'legacy': {},\n",
       "   'subType': 'videoLarge',\n",
       "   'crop_name': 'videoLarge'},\n",
       "  {'rank': 0,\n",
       "   'subtype': 'mediumThreeByTwo210',\n",
       "   'caption': None,\n",
       "   'credit': None,\n",
       "   'type': 'image',\n",
       "   'url': 'images/2024/10/29/multimedia/29nytoday1-gfwc/29nytoday1-gfwc-mediumThreeByTwo210.jpg',\n",
       "   'height': 140,\n",
       "   'width': 210,\n",
       "   'legacy': {},\n",
       "   'subType': 'mediumThreeByTwo210',\n",
       "   'crop_name': 'mediumThreeByTwo210'},\n",
       "  {'rank': 0,\n",
       "   'subtype': 'mediumThreeByTwo225',\n",
       "   'caption': None,\n",
       "   'credit': None,\n",
       "   'type': 'image',\n",
       "   'url': 'images/2024/10/29/multimedia/29nytoday1-gfwc/29nytoday1-gfwc-mediumThreeByTwo225.jpg',\n",
       "   'height': 150,\n",
       "   'width': 225,\n",
       "   'legacy': {},\n",
       "   'subType': 'mediumThreeByTwo225',\n",
       "   'crop_name': 'mediumThreeByTwo225'},\n",
       "  {'rank': 0,\n",
       "   'subtype': 'mediumThreeByTwo440',\n",
       "   'caption': None,\n",
       "   'credit': None,\n",
       "   'type': 'image',\n",
       "   'url': 'images/2024/10/29/multimedia/29nytoday1-gfwc/29nytoday1-gfwc-mediumThreeByTwo440.jpg',\n",
       "   'height': 293,\n",
       "   'width': 440,\n",
       "   'legacy': {},\n",
       "   'subType': 'mediumThreeByTwo440',\n",
       "   'crop_name': 'mediumThreeByTwo440'},\n",
       "  {'rank': 0,\n",
       "   'subtype': 'mediumThreeByTwo252',\n",
       "   'caption': None,\n",
       "   'credit': None,\n",
       "   'type': 'image',\n",
       "   'url': 'images/2024/10/29/multimedia/29nytoday1-gfwc/29nytoday1-gfwc-mediumThreeByTwo252.jpg',\n",
       "   'height': 168,\n",
       "   'width': 252,\n",
       "   'legacy': {},\n",
       "   'subType': 'mediumThreeByTwo252',\n",
       "   'crop_name': 'mediumThreeByTwo252'},\n",
       "  {'rank': 0,\n",
       "   'subtype': 'mediumThreeByTwo378',\n",
       "   'caption': None,\n",
       "   'credit': None,\n",
       "   'type': 'image',\n",
       "   'url': 'images/2024/10/29/multimedia/29nytoday1-gfwc/29nytoday1-gfwc-mediumThreeByTwo378.jpg',\n",
       "   'height': 252,\n",
       "   'width': 378,\n",
       "   'legacy': {},\n",
       "   'subType': 'mediumThreeByTwo378',\n",
       "   'crop_name': 'mediumThreeByTwo378'},\n",
       "  {'rank': 0,\n",
       "   'subtype': 'threeByTwoLargeAt2X',\n",
       "   'caption': None,\n",
       "   'credit': None,\n",
       "   'type': 'image',\n",
       "   'url': 'images/2024/10/29/multimedia/29nytoday1-gfwc/29nytoday1-gfwc-threeByTwoLargeAt2X.jpg',\n",
       "   'height': 2000,\n",
       "   'width': 3000,\n",
       "   'legacy': {},\n",
       "   'subType': 'threeByTwoLargeAt2X',\n",
       "   'crop_name': 'threeByTwoLargeAt2X'},\n",
       "  {'rank': 0,\n",
       "   'subtype': 'threeByTwoMediumAt2X',\n",
       "   'caption': None,\n",
       "   'credit': None,\n",
       "   'type': 'image',\n",
       "   'url': 'images/2024/10/29/multimedia/29nytoday1-gfwc/29nytoday1-gfwc-threeByTwoMediumAt2X.jpg',\n",
       "   'height': 1000,\n",
       "   'width': 1500,\n",
       "   'legacy': {},\n",
       "   'subType': 'threeByTwoMediumAt2X',\n",
       "   'crop_name': 'threeByTwoMediumAt2X'},\n",
       "  {'rank': 0,\n",
       "   'subtype': 'threeByTwoSmallAt2X',\n",
       "   'caption': None,\n",
       "   'credit': None,\n",
       "   'type': 'image',\n",
       "   'url': 'images/2024/10/29/multimedia/29nytoday1-gfwc/29nytoday1-gfwc-threeByTwoSmallAt2X.jpg',\n",
       "   'height': 400,\n",
       "   'width': 600,\n",
       "   'legacy': {},\n",
       "   'subType': 'threeByTwoSmallAt2X',\n",
       "   'crop_name': 'threeByTwoSmallAt2X'},\n",
       "  {'rank': 0,\n",
       "   'subtype': 'articleInline',\n",
       "   'caption': None,\n",
       "   'credit': None,\n",
       "   'type': 'image',\n",
       "   'url': 'images/2024/10/29/multimedia/29nytoday1-gfwc/29nytoday1-gfwc-articleInline.jpg',\n",
       "   'height': 127,\n",
       "   'width': 190,\n",
       "   'legacy': {},\n",
       "   'subType': 'articleInline',\n",
       "   'crop_name': 'articleInline'},\n",
       "  {'rank': 0,\n",
       "   'subtype': 'hpSmall',\n",
       "   'caption': None,\n",
       "   'credit': None,\n",
       "   'type': 'image',\n",
       "   'url': 'images/2024/10/29/multimedia/29nytoday1-gfwc/29nytoday1-gfwc-hpSmall.jpg',\n",
       "   'height': 109,\n",
       "   'width': 163,\n",
       "   'legacy': {},\n",
       "   'subType': 'hpSmall',\n",
       "   'crop_name': 'hpSmall'},\n",
       "  {'rank': 0,\n",
       "   'subtype': 'blogSmallInline',\n",
       "   'caption': None,\n",
       "   'credit': None,\n",
       "   'type': 'image',\n",
       "   'url': 'images/2024/10/29/multimedia/29nytoday1-gfwc/29nytoday1-gfwc-blogSmallInline.jpg',\n",
       "   'height': 101,\n",
       "   'width': 151,\n",
       "   'legacy': {},\n",
       "   'subType': 'blogSmallInline',\n",
       "   'crop_name': 'blogSmallInline'},\n",
       "  {'rank': 0,\n",
       "   'subtype': 'mediumFlexible177',\n",
       "   'caption': None,\n",
       "   'credit': None,\n",
       "   'type': 'image',\n",
       "   'url': 'images/2024/10/29/multimedia/29nytoday1-gfwc/29nytoday1-gfwc-mediumFlexible177.jpg',\n",
       "   'height': 118,\n",
       "   'width': 177,\n",
       "   'legacy': {},\n",
       "   'subType': 'mediumFlexible177',\n",
       "   'crop_name': 'mediumFlexible177'},\n",
       "  {'rank': 0,\n",
       "   'subtype': 'videoSmall',\n",
       "   'caption': None,\n",
       "   'credit': None,\n",
       "   'type': 'image',\n",
       "   'url': 'images/2024/10/29/multimedia/29nytoday1-gfwc/29nytoday1-gfwc-videoSmall.jpg',\n",
       "   'height': 281,\n",
       "   'width': 500,\n",
       "   'legacy': {},\n",
       "   'subType': 'videoSmall',\n",
       "   'crop_name': 'videoSmall'},\n",
       "  {'rank': 0,\n",
       "   'subtype': 'videoHpMedium',\n",
       "   'caption': None,\n",
       "   'credit': None,\n",
       "   'type': 'image',\n",
       "   'url': 'images/2024/10/29/multimedia/29nytoday1-gfwc/29nytoday1-gfwc-videoHpMedium.jpg',\n",
       "   'height': 211,\n",
       "   'width': 375,\n",
       "   'legacy': {},\n",
       "   'subType': 'videoHpMedium',\n",
       "   'crop_name': 'videoHpMedium'},\n",
       "  {'rank': 0,\n",
       "   'subtype': 'videoSixteenByNine600',\n",
       "   'caption': None,\n",
       "   'credit': None,\n",
       "   'type': 'image',\n",
       "   'url': 'images/2024/10/29/multimedia/29nytoday1-gfwc/29nytoday1-gfwc-videoSixteenByNine600.jpg',\n",
       "   'height': 338,\n",
       "   'width': 600,\n",
       "   'legacy': {},\n",
       "   'subType': 'videoSixteenByNine600',\n",
       "   'crop_name': 'videoSixteenByNine600'},\n",
       "  {'rank': 0,\n",
       "   'subtype': 'videoSixteenByNine540',\n",
       "   'caption': None,\n",
       "   'credit': None,\n",
       "   'type': 'image',\n",
       "   'url': 'images/2024/10/29/multimedia/29nytoday1-gfwc/29nytoday1-gfwc-videoSixteenByNine540.jpg',\n",
       "   'height': 304,\n",
       "   'width': 540,\n",
       "   'legacy': {},\n",
       "   'subType': 'videoSixteenByNine540',\n",
       "   'crop_name': 'videoSixteenByNine540'},\n",
       "  {'rank': 0,\n",
       "   'subtype': 'videoSixteenByNine495',\n",
       "   'caption': None,\n",
       "   'credit': None,\n",
       "   'type': 'image',\n",
       "   'url': 'images/2024/10/29/multimedia/29nytoday1-gfwc/29nytoday1-gfwc-videoSixteenByNine495.jpg',\n",
       "   'height': 278,\n",
       "   'width': 495,\n",
       "   'legacy': {},\n",
       "   'subType': 'videoSixteenByNine495',\n",
       "   'crop_name': 'videoSixteenByNine495'},\n",
       "  {'rank': 0,\n",
       "   'subtype': 'videoSixteenByNine390',\n",
       "   'caption': None,\n",
       "   'credit': None,\n",
       "   'type': 'image',\n",
       "   'url': 'images/2024/10/29/multimedia/29nytoday1-gfwc/29nytoday1-gfwc-videoSixteenByNine390.jpg',\n",
       "   'height': 219,\n",
       "   'width': 390,\n",
       "   'legacy': {},\n",
       "   'subType': 'videoSixteenByNine390',\n",
       "   'crop_name': 'videoSixteenByNine390'},\n",
       "  {'rank': 0,\n",
       "   'subtype': 'videoSixteenByNine1050',\n",
       "   'caption': None,\n",
       "   'credit': None,\n",
       "   'type': 'image',\n",
       "   'url': 'images/2024/10/29/multimedia/29nytoday1-gfwc/29nytoday1-gfwc-videoSixteenByNine1050.jpg',\n",
       "   'height': 591,\n",
       "   'width': 1050,\n",
       "   'legacy': {},\n",
       "   'subType': 'videoSixteenByNine1050',\n",
       "   'crop_name': 'videoSixteenByNine1050'},\n",
       "  {'rank': 0,\n",
       "   'subtype': 'videoSixteenByNine480',\n",
       "   'caption': None,\n",
       "   'credit': None,\n",
       "   'type': 'image',\n",
       "   'url': 'images/2024/10/29/multimedia/29nytoday1-gfwc/29nytoday1-gfwc-videoSixteenByNine480.jpg',\n",
       "   'height': 270,\n",
       "   'width': 480,\n",
       "   'legacy': {},\n",
       "   'subType': 'videoSixteenByNine480',\n",
       "   'crop_name': 'videoSixteenByNine480'},\n",
       "  {'rank': 0,\n",
       "   'subtype': 'videoSixteenByNine310',\n",
       "   'caption': None,\n",
       "   'credit': None,\n",
       "   'type': 'image',\n",
       "   'url': 'images/2024/10/29/multimedia/29nytoday1-gfwc/29nytoday1-gfwc-videoSixteenByNine310.jpg',\n",
       "   'height': 174,\n",
       "   'width': 310,\n",
       "   'legacy': {},\n",
       "   'subType': 'videoSixteenByNine310',\n",
       "   'crop_name': 'videoSixteenByNine310'},\n",
       "  {'rank': 0,\n",
       "   'subtype': 'videoSixteenByNine225',\n",
       "   'caption': None,\n",
       "   'credit': None,\n",
       "   'type': 'image',\n",
       "   'url': 'images/2024/10/29/multimedia/29nytoday1-gfwc/29nytoday1-gfwc-videoSixteenByNine225.jpg',\n",
       "   'height': 126,\n",
       "   'width': 225,\n",
       "   'legacy': {},\n",
       "   'subType': 'videoSixteenByNine225',\n",
       "   'crop_name': 'videoSixteenByNine225'},\n",
       "  {'rank': 0,\n",
       "   'subtype': 'videoSixteenByNine96',\n",
       "   'caption': None,\n",
       "   'credit': None,\n",
       "   'type': 'image',\n",
       "   'url': 'images/2024/10/29/multimedia/29nytoday1-gfwc/29nytoday1-gfwc-videoSixteenByNine96.jpg',\n",
       "   'height': 54,\n",
       "   'width': 96,\n",
       "   'legacy': {},\n",
       "   'subType': 'videoSixteenByNine96',\n",
       "   'crop_name': 'videoSixteenByNine96'},\n",
       "  {'rank': 0,\n",
       "   'subtype': 'videoSixteenByNine3000',\n",
       "   'caption': None,\n",
       "   'credit': None,\n",
       "   'type': 'image',\n",
       "   'url': 'images/2024/10/29/multimedia/29nytoday1-gfwc/29nytoday1-gfwc-videoSixteenByNine3000.jpg',\n",
       "   'height': 1688,\n",
       "   'width': 3000,\n",
       "   'legacy': {},\n",
       "   'subType': 'videoSixteenByNine3000',\n",
       "   'crop_name': 'videoSixteenByNine3000'},\n",
       "  {'rank': 0,\n",
       "   'subtype': 'videoSixteenByNine768',\n",
       "   'caption': None,\n",
       "   'credit': None,\n",
       "   'type': 'image',\n",
       "   'url': 'images/2024/10/29/multimedia/29nytoday1-gfwc/29nytoday1-gfwc-videoSixteenByNine768.jpg',\n",
       "   'height': 432,\n",
       "   'width': 768,\n",
       "   'legacy': {},\n",
       "   'subType': 'videoSixteenByNine768',\n",
       "   'crop_name': 'videoSixteenByNine768'},\n",
       "  {'rank': 0,\n",
       "   'subtype': 'videoSixteenByNine150',\n",
       "   'caption': None,\n",
       "   'credit': None,\n",
       "   'type': 'image',\n",
       "   'url': 'images/2024/10/29/multimedia/29nytoday1-gfwc/29nytoday1-gfwc-videoSixteenByNine150.jpg',\n",
       "   'height': 84,\n",
       "   'width': 150,\n",
       "   'legacy': {},\n",
       "   'subType': 'videoSixteenByNine150',\n",
       "   'crop_name': 'videoSixteenByNine150'},\n",
       "  {'rank': 0,\n",
       "   'subtype': 'videoSixteenByNineJumbo1600',\n",
       "   'caption': None,\n",
       "   'credit': None,\n",
       "   'type': 'image',\n",
       "   'url': 'images/2024/10/29/multimedia/29nytoday1-gfwc/29nytoday1-gfwc-videoSixteenByNineJumbo1600.jpg',\n",
       "   'height': 900,\n",
       "   'width': 1600,\n",
       "   'legacy': {},\n",
       "   'subType': 'videoSixteenByNineJumbo1600',\n",
       "   'crop_name': 'videoSixteenByNineJumbo1600'},\n",
       "  {'rank': 0,\n",
       "   'subtype': 'miniMoth',\n",
       "   'caption': None,\n",
       "   'credit': None,\n",
       "   'type': 'image',\n",
       "   'url': 'images/2024/10/29/multimedia/29nytoday1-gfwc/29nytoday1-gfwc-miniMoth.jpg',\n",
       "   'height': 70,\n",
       "   'width': 151,\n",
       "   'legacy': {},\n",
       "   'subType': 'miniMoth',\n",
       "   'crop_name': 'miniMoth'},\n",
       "  {'rank': 0,\n",
       "   'subtype': 'windowsTile336H',\n",
       "   'caption': None,\n",
       "   'credit': None,\n",
       "   'type': 'image',\n",
       "   'url': 'images/2024/10/29/multimedia/29nytoday1-gfwc/29nytoday1-gfwc-windowsTile336H.jpg',\n",
       "   'height': 336,\n",
       "   'width': 694,\n",
       "   'legacy': {},\n",
       "   'subType': 'windowsTile336H',\n",
       "   'crop_name': 'windowsTile336H'},\n",
       "  {'rank': 0,\n",
       "   'subtype': 'videoFifteenBySeven1305',\n",
       "   'caption': None,\n",
       "   'credit': None,\n",
       "   'type': 'image',\n",
       "   'url': 'images/2024/10/29/multimedia/29nytoday1-gfwc/29nytoday1-gfwc-videoFifteenBySeven1305.jpg',\n",
       "   'height': 609,\n",
       "   'width': 1305,\n",
       "   'legacy': {},\n",
       "   'subType': 'videoFifteenBySeven1305',\n",
       "   'crop_name': 'videoFifteenBySeven1305'},\n",
       "  {'rank': 0,\n",
       "   'subtype': 'videoFifteenBySeven2610',\n",
       "   'caption': None,\n",
       "   'credit': None,\n",
       "   'type': 'image',\n",
       "   'url': 'images/2024/10/29/multimedia/29nytoday1-gfwc/29nytoday1-gfwc-videoFifteenBySeven2610.jpg',\n",
       "   'height': 1218,\n",
       "   'width': 2610,\n",
       "   'legacy': {},\n",
       "   'subType': 'videoFifteenBySeven2610',\n",
       "   'crop_name': 'videoFifteenBySeven2610'},\n",
       "  {'rank': 0,\n",
       "   'subtype': 'facebookJumbo',\n",
       "   'caption': None,\n",
       "   'credit': None,\n",
       "   'type': 'image',\n",
       "   'url': 'images/2024/10/29/multimedia/29nytoday1-gfwc/29nytoday1-gfwc-facebookJumbo.jpg',\n",
       "   'height': 550,\n",
       "   'width': 1050,\n",
       "   'legacy': {},\n",
       "   'subType': 'facebookJumbo',\n",
       "   'crop_name': 'facebookJumbo'},\n",
       "  {'rank': 0,\n",
       "   'subtype': 'watch308',\n",
       "   'caption': None,\n",
       "   'credit': None,\n",
       "   'type': 'image',\n",
       "   'url': 'images/2024/10/29/multimedia/29nytoday1-gfwc/29nytoday1-gfwc-watch308.jpg',\n",
       "   'height': 348,\n",
       "   'width': 312,\n",
       "   'legacy': {},\n",
       "   'subType': 'watch308',\n",
       "   'crop_name': 'watch308'},\n",
       "  {'rank': 0,\n",
       "   'subtype': 'watch268',\n",
       "   'caption': None,\n",
       "   'credit': None,\n",
       "   'type': 'image',\n",
       "   'url': 'images/2024/10/29/multimedia/29nytoday1-gfwc/29nytoday1-gfwc-watch268.jpg',\n",
       "   'height': 303,\n",
       "   'width': 272,\n",
       "   'legacy': {},\n",
       "   'subType': 'watch268',\n",
       "   'crop_name': 'watch268'},\n",
       "  {'rank': 0,\n",
       "   'subtype': 'verticalTwoByThree735',\n",
       "   'caption': None,\n",
       "   'credit': None,\n",
       "   'type': 'image',\n",
       "   'url': 'images/2024/10/29/multimedia/29nytoday1-gfwc/29nytoday1-gfwc-verticalTwoByThree735.jpg',\n",
       "   'height': 1102,\n",
       "   'width': 735,\n",
       "   'legacy': {},\n",
       "   'subType': 'verticalTwoByThree735',\n",
       "   'crop_name': 'verticalTwoByThree735'},\n",
       "  {'rank': 0,\n",
       "   'subtype': 'mobileMasterAt3x',\n",
       "   'caption': None,\n",
       "   'credit': None,\n",
       "   'type': 'image',\n",
       "   'url': 'images/2024/10/29/multimedia/29nytoday1-gfwc/29nytoday1-gfwc-mobileMasterAt3x.jpg',\n",
       "   'height': 1800,\n",
       "   'width': 1800,\n",
       "   'legacy': {},\n",
       "   'subType': 'mobileMasterAt3x',\n",
       "   'crop_name': 'mobileMasterAt3x'},\n",
       "  {'rank': 0,\n",
       "   'subtype': 'googleFourByThree',\n",
       "   'caption': None,\n",
       "   'credit': None,\n",
       "   'type': 'image',\n",
       "   'url': 'images/2024/10/29/multimedia/29nytoday1-gfwc/29nytoday1-gfwc-googleFourByThree.jpg',\n",
       "   'height': 600,\n",
       "   'width': 800,\n",
       "   'legacy': {},\n",
       "   'subType': 'googleFourByThree',\n",
       "   'crop_name': 'googleFourByThree'}],\n",
       " 'headline': {'main': 'Migrants in New York Have Become a Campaign Trope',\n",
       "  'kicker': 'New York Today',\n",
       "  'content_kicker': None,\n",
       "  'print_headline': None,\n",
       "  'name': None,\n",
       "  'seo': None,\n",
       "  'sub': None},\n",
       " 'keywords': [{'name': 'glocations',\n",
       "   'value': 'New York City',\n",
       "   'rank': 1,\n",
       "   'major': 'N'},\n",
       "  {'name': 'subject',\n",
       "   'value': 'internal-storyline-no',\n",
       "   'rank': 2,\n",
       "   'major': 'N'},\n",
       "  {'name': 'subject', 'value': 'Illegal Immigration', 'rank': 3, 'major': 'N'},\n",
       "  {'name': 'subject',\n",
       "   'value': 'Presidential Election of 2024',\n",
       "   'rank': 4,\n",
       "   'major': 'N'},\n",
       "  {'name': 'subject',\n",
       "   'value': 'Political Advertising',\n",
       "   'rank': 5,\n",
       "   'major': 'N'},\n",
       "  {'name': 'subject',\n",
       "   'value': 'United States Politics and Government',\n",
       "   'rank': 6,\n",
       "   'major': 'N'},\n",
       "  {'name': 'subject',\n",
       "   'value': 'Elections, House of Representatives',\n",
       "   'rank': 7,\n",
       "   'major': 'N'},\n",
       "  {'name': 'subject',\n",
       "   'value': 'Immigration and Emigration',\n",
       "   'rank': 8,\n",
       "   'major': 'N'},\n",
       "  {'name': 'organizations',\n",
       "   'value': 'House of Representatives',\n",
       "   'rank': 9,\n",
       "   'major': 'N'},\n",
       "  {'name': 'organizations',\n",
       "   'value': 'Republican Party',\n",
       "   'rank': 10,\n",
       "   'major': 'N'},\n",
       "  {'name': 'glocations',\n",
       "   'value': 'Hudson River Valley (NY)',\n",
       "   'rank': 11,\n",
       "   'major': 'N'},\n",
       "  {'name': 'glocations', 'value': 'New York State', 'rank': 12, 'major': 'N'}],\n",
       " 'pub_date': '2024-10-29T09:03:48+0000',\n",
       " 'document_type': 'article',\n",
       " 'news_desk': 'Metro',\n",
       " 'section_name': 'New York',\n",
       " 'byline': {'original': 'By Shayla Colon',\n",
       "  'person': [{'firstname': 'Shayla',\n",
       "    'middlename': None,\n",
       "    'lastname': 'Colon',\n",
       "    'qualifier': None,\n",
       "    'title': None,\n",
       "    'role': 'reported',\n",
       "    'organization': '',\n",
       "    'rank': 1}],\n",
       "  'organization': None},\n",
       " 'type_of_material': 'briefing',\n",
       " '_id': 'nyt://article/19243ad2-9059-5442-9a9f-758a37365305',\n",
       " 'word_count': 1210,\n",
       " 'uri': 'nyt://article/19243ad2-9059-5442-9a9f-758a37365305'}"
      ]
     },
     "execution_count": 13,
     "metadata": {},
     "output_type": "execute_result"
    }
   ],
   "source": [
    "parsed['response']['docs'][0]"
   ]
  },
  {
   "cell_type": "markdown",
   "id": "70e65b99-ea83-405a-8916-e769ed4224a9",
   "metadata": {},
   "source": [
    "The very first item in `docs` appears to be information about a single article."
   ]
  },
  {
   "cell_type": "code",
   "execution_count": 14,
   "id": "f2a2197c-f5b5-4771-bb0a-d7764ea33e0d",
   "metadata": {},
   "outputs": [
    {
     "data": {
      "text/plain": [
       "dict_keys(['abstract', 'web_url', 'snippet', 'lead_paragraph', 'source', 'multimedia', 'headline', 'keywords', 'pub_date', 'document_type', 'news_desk', 'section_name', 'byline', 'type_of_material', '_id', 'word_count', 'uri'])"
      ]
     },
     "execution_count": 14,
     "metadata": {},
     "output_type": "execute_result"
    }
   ],
   "source": [
    "parsed['response']['docs'][0].keys()"
   ]
  },
  {
   "cell_type": "markdown",
   "id": "4364d481-7d86-472a-917a-591a2969f430",
   "metadata": {},
   "source": [
    "Let's save the information in `docs` to a list. That way, we will have an easier time going through the data, and won't have to re-type out all of the keys that our data is nested within."
   ]
  },
  {
   "cell_type": "code",
   "execution_count": 15,
   "id": "9c1c0f04",
   "metadata": {},
   "outputs": [],
   "source": [
    "articles = parsed['response']['docs']"
   ]
  },
  {
   "cell_type": "markdown",
   "id": "f214b824-8f6d-47ba-bcdb-e3db5487384f",
   "metadata": {},
   "source": [
    "We have a list of articles. Let's look at the first one."
   ]
  },
  {
   "cell_type": "code",
   "execution_count": 16,
   "id": "aed3ebb3",
   "metadata": {},
   "outputs": [
    {
     "data": {
      "text/plain": [
       "list"
      ]
     },
     "execution_count": 16,
     "metadata": {},
     "output_type": "execute_result"
    }
   ],
   "source": [
    "type(articles)"
   ]
  },
  {
   "cell_type": "code",
   "execution_count": 17,
   "id": "cb2dc98d",
   "metadata": {},
   "outputs": [
    {
     "data": {
      "text/plain": [
       "dict_keys(['abstract', 'web_url', 'snippet', 'lead_paragraph', 'source', 'multimedia', 'headline', 'keywords', 'pub_date', 'document_type', 'news_desk', 'section_name', 'byline', 'type_of_material', '_id', 'word_count', 'uri'])"
      ]
     },
     "execution_count": 17,
     "metadata": {},
     "output_type": "execute_result"
    }
   ],
   "source": [
    "articles[0].keys()"
   ]
  },
  {
   "cell_type": "markdown",
   "id": "c8f6567d-1f3f-4b9f-8c25-4fad456a9745",
   "metadata": {},
   "source": [
    "## paginating through results\n",
    "\n",
    "We have 10 articles, because the NYTimes API only allows us to get 10 results at a time. We can paginate through the results by adding an `&page=` parameter, combined with a `sleep()` function, which allows us to insert pauses in our request (as to not overload the NYTimes servers). "
   ]
  },
  {
   "cell_type": "code",
   "execution_count": 18,
   "id": "e22a9ed7",
   "metadata": {},
   "outputs": [
    {
     "data": {
      "text/plain": [
       "10"
      ]
     },
     "execution_count": 18,
     "metadata": {},
     "output_type": "execute_result"
    }
   ],
   "source": [
    "len(articles)"
   ]
  },
  {
   "cell_type": "markdown",
   "id": "3d6837e5-dcb0-4a39-9e1e-0d24c2dcaa40",
   "metadata": {},
   "source": [
    "We will write a loop that does the following:\n",
    "- create a url with variables for pagination, query, and our key\n",
    "- make an API call, save our response to `response`\n",
    "- parse our data from the `response`\n",
    "- access the response data we want in `docs`\n",
    "- save it to a list"
   ]
  },
  {
   "cell_type": "code",
   "execution_count": 19,
   "id": "08a07095",
   "metadata": {},
   "outputs": [
    {
     "ename": "KeyError",
     "evalue": "'response'",
     "output_type": "error",
     "traceback": [
      "\u001b[0;31m---------------------------------------------------------------------------\u001b[0m",
      "\u001b[0;31mKeyError\u001b[0m                                  Traceback (most recent call last)",
      "Cell \u001b[0;32mIn[19], line 7\u001b[0m\n\u001b[1;32m      5\u001b[0m response \u001b[38;5;241m=\u001b[39m requests\u001b[38;5;241m.\u001b[39mget(url)\n\u001b[1;32m      6\u001b[0m parsed \u001b[38;5;241m=\u001b[39m response\u001b[38;5;241m.\u001b[39mjson()\n\u001b[0;32m----> 7\u001b[0m articles \u001b[38;5;241m=\u001b[39m \u001b[43mparsed\u001b[49m\u001b[43m[\u001b[49m\u001b[38;5;124;43m'\u001b[39;49m\u001b[38;5;124;43mresponse\u001b[39;49m\u001b[38;5;124;43m'\u001b[39;49m\u001b[43m]\u001b[49m[\u001b[38;5;124m'\u001b[39m\u001b[38;5;124mdocs\u001b[39m\u001b[38;5;124m'\u001b[39m]\n\u001b[1;32m      8\u001b[0m results\u001b[38;5;241m.\u001b[39mappend(articles)\n\u001b[1;32m      9\u001b[0m sleep(\u001b[38;5;241m6\u001b[39m) \u001b[38;5;66;03m# sleep at least 6 seconds not to overload the servers\u001b[39;00m\n",
      "\u001b[0;31mKeyError\u001b[0m: 'response'"
     ]
    }
   ],
   "source": [
    "results = []\n",
    "query = 'migrant'\n",
    "for i in range(0, 5):  \n",
    "    url = f'https://api.nytimes.com/svc/search/v2/articlesearch.json?q={query}&page={i}&api-key={key}'\n",
    "    response = requests.get(url)\n",
    "    parsed = response.json()\n",
    "    articles = parsed['response']['docs']\n",
    "    results.append(articles)\n",
    "    sleep(6) # sleep at least 6 seconds not to overload the servers"
   ]
  },
  {
   "cell_type": "markdown",
   "id": "f3685cea-dbbe-4a55-b79b-fd1499529f22",
   "metadata": {},
   "source": [
    "In the end, we have a list of results, 5 lists to be exact (each list represents one page of articles). Each result (or page) contains information about 10 articles that matched our search."
   ]
  },
  {
   "cell_type": "code",
   "execution_count": 25,
   "id": "ab2007d9",
   "metadata": {},
   "outputs": [
    {
     "data": {
      "text/plain": [
       "list"
      ]
     },
     "execution_count": 25,
     "metadata": {},
     "output_type": "execute_result"
    }
   ],
   "source": [
    "type(results)"
   ]
  },
  {
   "cell_type": "code",
   "execution_count": 26,
   "id": "4cb6decd",
   "metadata": {},
   "outputs": [
    {
     "data": {
      "text/plain": [
       "5"
      ]
     },
     "execution_count": 26,
     "metadata": {},
     "output_type": "execute_result"
    }
   ],
   "source": [
    "len(results)"
   ]
  },
  {
   "cell_type": "code",
   "execution_count": 27,
   "id": "d2b94798",
   "metadata": {},
   "outputs": [
    {
     "data": {
      "text/plain": [
       "list"
      ]
     },
     "execution_count": 27,
     "metadata": {},
     "output_type": "execute_result"
    }
   ],
   "source": [
    "type(results[0])"
   ]
  },
  {
   "cell_type": "code",
   "execution_count": 28,
   "id": "81b87128-1972-4fc9-b020-c4c6a7cf958a",
   "metadata": {},
   "outputs": [
    {
     "data": {
      "text/plain": [
       "10"
      ]
     },
     "execution_count": 28,
     "metadata": {},
     "output_type": "execute_result"
    }
   ],
   "source": [
    "len(results[0])"
   ]
  },
  {
   "cell_type": "markdown",
   "id": "b8a9361b",
   "metadata": {},
   "source": [
    "## pulling articles out of our results\n",
    "Let's try to look at just the first article on the first page. To do that, we need to know what kind of data we are dealing with. Use `type()` and list and dict indexing methods to figure out how to get just the abstract from the first article."
   ]
  },
  {
   "cell_type": "code",
   "execution_count": 24,
   "id": "c0611c0a",
   "metadata": {},
   "outputs": [
    {
     "data": {
      "text/plain": [
       "list"
      ]
     },
     "execution_count": 24,
     "metadata": {},
     "output_type": "execute_result"
    }
   ],
   "source": [
    "type(results)"
   ]
  },
  {
   "cell_type": "code",
   "execution_count": 25,
   "id": "ceb784f7",
   "metadata": {},
   "outputs": [
    {
     "data": {
      "text/plain": [
       "list"
      ]
     },
     "execution_count": 25,
     "metadata": {},
     "output_type": "execute_result"
    }
   ],
   "source": [
    "type(results[0])"
   ]
  },
  {
   "cell_type": "code",
   "execution_count": 26,
   "id": "f4688687",
   "metadata": {},
   "outputs": [
    {
     "data": {
      "text/plain": [
       "dict"
      ]
     },
     "execution_count": 26,
     "metadata": {},
     "output_type": "execute_result"
    }
   ],
   "source": [
    "# we have a dict within a list within a list\n",
    "type(results[0][0])"
   ]
  },
  {
   "cell_type": "code",
   "execution_count": 27,
   "id": "f4ab5601",
   "metadata": {},
   "outputs": [
    {
     "data": {
      "text/plain": [
       "dict_keys(['abstract', 'web_url', 'snippet', 'lead_paragraph', 'print_section', 'print_page', 'source', 'multimedia', 'headline', 'keywords', 'pub_date', 'document_type', 'news_desk', 'section_name', 'subsection_name', 'byline', 'type_of_material', '_id', 'word_count', 'uri'])"
      ]
     },
     "execution_count": 27,
     "metadata": {},
     "output_type": "execute_result"
    }
   ],
   "source": [
    "results[0][0].keys()"
   ]
  },
  {
   "cell_type": "code",
   "execution_count": 28,
   "id": "742512fa",
   "metadata": {},
   "outputs": [
    {
     "data": {
      "text/plain": [
       "'The decision comes as political pressure mounts to cut down on programs that allow migrants to stay in the United States temporarily, even without a visa or green card.'"
      ]
     },
     "execution_count": 28,
     "metadata": {},
     "output_type": "execute_result"
    }
   ],
   "source": [
    "results[0][0]['abstract']"
   ]
  },
  {
   "cell_type": "markdown",
   "id": "fcec9bbc-92fc-4435-bc27-28e2fb64bcbe",
   "metadata": {},
   "source": [
    "We can simplify our life by creating a variable"
   ]
  },
  {
   "cell_type": "code",
   "execution_count": 29,
   "id": "3263c0a4",
   "metadata": {},
   "outputs": [],
   "source": [
    "article = results[0][0]"
   ]
  },
  {
   "cell_type": "markdown",
   "id": "c38e359e-aed5-4d5d-aa4a-f5a7546e64d0",
   "metadata": {},
   "source": [
    "### individual challenge: exploring keys\n",
    "Explore some of the other keys, in this `article` object. Some of them contain more nesting dicts. See if you can access the data inside of them."
   ]
  },
  {
   "cell_type": "code",
   "execution_count": 30,
   "id": "8b10e9a0",
   "metadata": {},
   "outputs": [
    {
     "data": {
      "text/plain": [
       "dict_keys(['abstract', 'web_url', 'snippet', 'lead_paragraph', 'print_section', 'print_page', 'source', 'multimedia', 'headline', 'keywords', 'pub_date', 'document_type', 'news_desk', 'section_name', 'subsection_name', 'byline', 'type_of_material', '_id', 'word_count', 'uri'])"
      ]
     },
     "execution_count": 30,
     "metadata": {},
     "output_type": "execute_result"
    }
   ],
   "source": [
    "article.keys()"
   ]
  },
  {
   "cell_type": "code",
   "execution_count": 31,
   "id": "47b530d5-6cd0-4c47-be5b-f53a7c248903",
   "metadata": {},
   "outputs": [
    {
     "data": {
      "text/plain": [
       "{'original': 'By Hamed Aleaziz',\n",
       " 'person': [{'firstname': 'Hamed',\n",
       "   'middlename': None,\n",
       "   'lastname': 'Aleaziz',\n",
       "   'qualifier': None,\n",
       "   'title': None,\n",
       "   'role': 'reported',\n",
       "   'organization': '',\n",
       "   'rank': 1}],\n",
       " 'organization': None}"
      ]
     },
     "execution_count": 31,
     "metadata": {},
     "output_type": "execute_result"
    }
   ],
   "source": [
    "article['byline']"
   ]
  },
  {
   "cell_type": "code",
   "execution_count": 32,
   "id": "5d58e94f-5dd1-4a04-8f2a-b1ae72a8cff1",
   "metadata": {},
   "outputs": [
    {
     "data": {
      "text/plain": [
       "dict"
      ]
     },
     "execution_count": 32,
     "metadata": {},
     "output_type": "execute_result"
    }
   ],
   "source": [
    "type(article['byline'])"
   ]
  },
  {
   "cell_type": "code",
   "execution_count": 33,
   "id": "fd78413c-28a5-492a-aef7-7f3031fcbe06",
   "metadata": {},
   "outputs": [
    {
     "data": {
      "text/plain": [
       "dict_keys(['original', 'person', 'organization'])"
      ]
     },
     "execution_count": 33,
     "metadata": {},
     "output_type": "execute_result"
    }
   ],
   "source": [
    "article['byline'].keys()"
   ]
  },
  {
   "cell_type": "code",
   "execution_count": 36,
   "id": "fc1b0851-d123-4892-a48d-7b7916aedcac",
   "metadata": {},
   "outputs": [
    {
     "data": {
      "text/plain": [
       "'Hamed'"
      ]
     },
     "execution_count": 36,
     "metadata": {},
     "output_type": "execute_result"
    }
   ],
   "source": [
    "article['byline']['person'][0]['firstname']"
   ]
  },
  {
   "cell_type": "code",
   "execution_count": 37,
   "id": "7e993033-5cf8-44dd-831b-8a3cd2bfbe92",
   "metadata": {},
   "outputs": [
    {
     "data": {
      "text/plain": [
       "'Aleaziz'"
      ]
     },
     "execution_count": 37,
     "metadata": {},
     "output_type": "execute_result"
    }
   ],
   "source": [
    "article['byline']['person'][0]['lastname']"
   ]
  },
  {
   "cell_type": "markdown",
   "id": "82f52a88-bc7b-4388-a988-9113b93100be",
   "metadata": {},
   "source": [
    "## saving our data to lists\n",
    "Now let's say we want just a list of the abstracts. We could write a loop (actually, a loop within a loop!) to pull out the abstract information for each article on each page."
   ]
  },
  {
   "cell_type": "code",
   "execution_count": 38,
   "id": "f436116c",
   "metadata": {},
   "outputs": [
    {
     "name": "stdout",
     "output_type": "stream",
     "text": [
      "The decision comes as political pressure mounts to cut down on programs that allow migrants to stay in the United States temporarily, even without a visa or green card.\n",
      "The country’s defense ministry said the military officers who opened fire might have mistaken the migrants for cartel members.\n",
      "Italy, an aging country, badly needs migrant labor and immigration, but the government has admitted that the pathways for legal entry are rife with abuse.\n",
      "At least nine people are known to have died in a sinking off the Canary Islands and 48 more are missing, the latest disaster on the perilous Atlantic crossing from West Africa.\n",
      "It’s been a year since Mayor Eric Adams made his ominous prediction. City officials should treat the arrival of migrants as an opportunity rather than a catastrophe, advocates say.\n",
      "Reports and interviews shed new light on the holding center, where migrants’ calls with lawyers are monitored and some say they’ve been forced to wear blackout goggles.\n",
      "A group of New York’s most powerful philanthropies will spend millions to help make migrants more self-sufficient.\n",
      "Former President Donald J. Trump has long tried to stoke fear about immigration. Now, he’s doubling down as the presidential race heats up.\n",
      "In his next documentary, Michael P. Nash takes on A.I. and how it might be used to address environmental issues.\n",
      "The former president and his allies, who often decry undocumented immigrants, are targeting programs that allow millions of people to enter the country lawfully.\n",
      "A federal appeals court will consider the future of DACA, which has allowed hundreds of thousands of undocumented young people to live and work in the United States.\n",
      "Donald J. Trump answered preselected questions from a pro-military crowd who echoed his false claims and approved of his vow to conduct massive deportations of undocumented immigrants.\n",
      "Several countries have chartered flights, while others issued warnings and offered assistance.\n",
      "For the former president, removing millions of undocumented immigrants is the solution to most of the nation’s most pressing challenges.\n",
      "An ad from two Democratic groups skates over Kamala Harris’s tough recent stance on border security and instead focuses on her more immigration-friendly plans.\n",
      "Gov. Tim Walz of Minnesota has acted as attack dog for the Harris campaign, and Senator JD Vance of Ohio has stepped in to explain away former President Donald J. Trump’s incendiary remarks.\n",
      "Germany’s unilateral decision to close its borders has angered its neighbors in Europe.\n",
      "Eric Adams gives new meaning to the concept of the frequent-flier program.\n",
      "Vice President Kamala Harris vowed to combat the flow of fentanyl into the country when she visited the border on Friday. Former President Donald J. Trump ratcheted up his false claims in response.\n",
      "Former President Donald J. Trump assailed Vice President Kamala Harris in harshly personal terms in what he conceded was “a dark speech.”\n",
      "The Freedom Party has made itself the country’s most popular party, with calls to bar asylum seekers. It is poised to come out on top in parliamentary elections for the first time.\n",
      "Donald Trump used a pair of events to try to blame Kamala Harris for inflation and the migrant crisis, tapping into themes that helped him win Michigan in 2016.\n",
      "A local official said there was “absolutely no evidence” that Haitian migrants have stolen and eaten pets, an outlandish claim amplified by the Trump campaign on Monday.\n",
      "The change will make what had been a short-term fix, which appears to have led to a drop in border crossings, a central feature of the asylum system.\n",
      "Vowing to carry on President Biden’s crackdown on asylum and to impose order on the southern border, the vice president demonstrated how much the politics of immigration have changed.\n",
      "Visiting the border on Friday in Arizona, the vice president will try to neutralize a key vulnerability, and will demonstrate her party’s harder line on immigration.\n",
      "The Republican vice-presidential nominee acknowledged that an outlandish claim he had amplified about Haitian immigrants stealing and eating pets could “turn out to be false.”\n",
      "In his first interview with Western media since becoming president of Senegal, Bassirou Diomaye Faye said the United Nations has to change to reflect changing world demographics.\n",
      "During a trip to Arizona, Vice President Kamala Harris is expected to make her first visit to the southern border since becoming the Democratic nominee.\n",
      "Mr. Musk described Prime Minister Giorgia Meloni as “authentic, honest and thoughtful.” She used her Atlantic Council spotlight to defend Western values.\n",
      "From calling for mass deportations to spreading false claims about migrants’ eating pets, former President Donald J. Trump and his running mate, Senator JD Vance of Ohio, are taking a hard line.\n",
      "Tren de Aragua’s emergence in New York City and elsewhere has led law enforcement officials to strategize how to stem the gang’s growth.\n",
      "A gallery in a shelter near the Brooklyn Navy Yard is showcasing the work of two migrants. One of them did some of his paintings under the Brooklyn-Queens Expressway.\n",
      "The immigrants are mainly in the United States under temporary protected status, which the executive branch can grant to people whose home countries are in crisis.\n",
      "We cover the presidential candidates’ immigration policies.\n",
      "Margarita Solito and her family fled violence and poverty in El Salvador, hoping to build a better life in San Francisco. The city often wasn’t what they thought it would be.\n",
      "Italian rescuers said that seven Syrian migrants survived a shipwreck about 10 miles from the island of Lampedusa, in the Central Mediterranean. The survivors told officials that 21 fellow travelers, including three minors, had fallen off during the crossing because of rough seas.\n",
      "The Springfield fable is part of a crusade to throw immigrants out of the country.\n",
      "Seven survivors were rescued from the boat that sank after leaving Libya. A crackdown by Italy has reduced migration, but not the high death rates that come with crossing the Mediterranean.\n",
      "Representative Gabe Vasquez, a Democrat in a border district, is under attack by his Republican opponent on immigration policy. Can a pro-abortion access message help him prevail?\n",
      "The former president meandered over 80 minutes from complaints about Tuesday’s debate to elevating baseless claims that have circulated on right-wing social media.\n",
      "Secretary of Homeland Security Alejandro Mayorkas explains what his agency has done to address the challenges at the U.S.-Mexico border.\n",
      "Speaking at an event in Tucson, Ariz., former President Donald J. Trump called for eliminating taxes on overtime pay as he declared Tuesday’s debate a “monumental victory” for him.\n",
      "Binyamin Appelbaum on why Harris’s ill-defined plan is still better than Trump’s.\n",
      "Apparently, this election is about … pets.\n",
      "Over 60 people were crowded into a small boat that “rapidly and brutally” broke apart off the coast of France, authorities said.\n",
      "Our columnists and contributors rate Trump’s and Harris’s debate performances.\n",
      "Former President Donald J. Trump offered a dire portrait of America, often relying on false and debunked claims as he described “a failing nation.”\n",
      "The government said it would expand patrols as part of a ‘hard line’ on illegal migration following two deadly stabbings by rejected asylum seekers and a surge in support for the far right.\n",
      "As the candidates meet for their only scheduled debate on Tuesday night, here is what to be on the lookout for.\n"
     ]
    }
   ],
   "source": [
    "# we need to do nested loops\n",
    "\n",
    "for result in results: # loops through list of pages\n",
    "    for article in result: # loops through list of articles \n",
    "        print(article['abstract']) # grabs abstract of article"
   ]
  },
  {
   "cell_type": "markdown",
   "id": "39261bbd",
   "metadata": {},
   "source": [
    "### group challenge: lists more lists!\n",
    "Go through the article data, and grab the following information:\n",
    "- abstract\n",
    "- publication date \n",
    "- one other detail (check the list of `keys()`) of your choosing\n",
    "\n",
    "Save all of that information to lists. "
   ]
  },
  {
   "cell_type": "code",
   "execution_count": 105,
   "id": "f54590db",
   "metadata": {},
   "outputs": [],
   "source": [
    "abstracts = []\n",
    "dates = []\n",
    "keywords = []\n",
    "for result in results:\n",
    "    for item in result:\n",
    "        abstracts.append(item['abstract'])\n",
    "        dates.append(item['pub_date'])\n",
    "        keywords.append(item['keywords'])"
   ]
  },
  {
   "cell_type": "code",
   "execution_count": 106,
   "id": "dce977ca",
   "metadata": {},
   "outputs": [
    {
     "data": {
      "text/plain": [
       "50"
      ]
     },
     "execution_count": 106,
     "metadata": {},
     "output_type": "execute_result"
    }
   ],
   "source": [
    "len(abstracts)"
   ]
  },
  {
   "cell_type": "code",
   "execution_count": 103,
   "id": "42e4fcf6",
   "metadata": {},
   "outputs": [
    {
     "data": {
      "text/plain": [
       "['The decision comes as political pressure mounts to cut down on programs that allow migrants to stay in the United States temporarily, even without a visa or green card.',\n",
       " 'The country’s defense ministry said the military officers who opened fire might have mistaken the migrants for cartel members.',\n",
       " 'Italy, an aging country, badly needs migrant labor and immigration, but the government has admitted that the pathways for legal entry are rife with abuse.',\n",
       " 'At least nine people are known to have died in a sinking off the Canary Islands and 48 more are missing, the latest disaster on the perilous Atlantic crossing from West Africa.',\n",
       " 'It’s been a year since Mayor Eric Adams made his ominous prediction. City officials should treat the arrival of migrants as an opportunity rather than a catastrophe, advocates say.',\n",
       " 'Reports and interviews shed new light on the holding center, where migrants’ calls with lawyers are monitored and some say they’ve been forced to wear blackout goggles.',\n",
       " 'A group of New York’s most powerful philanthropies will spend millions to help make migrants more self-sufficient.',\n",
       " 'Former President Donald J. Trump has long tried to stoke fear about immigration. Now, he’s doubling down as the presidential race heats up.',\n",
       " 'In his next documentary, Michael P. Nash takes on A.I. and how it might be used to address environmental issues.',\n",
       " 'The former president and his allies, who often decry undocumented immigrants, are targeting programs that allow millions of people to enter the country lawfully.']"
      ]
     },
     "execution_count": 103,
     "metadata": {},
     "output_type": "execute_result"
    }
   ],
   "source": [
    "abstracts[:10]"
   ]
  },
  {
   "cell_type": "markdown",
   "id": "969035d4-0217-4b8b-9b89-37435d157b57",
   "metadata": {},
   "source": [
    "### Bonus: going deep into keywords"
   ]
  },
  {
   "cell_type": "code",
   "execution_count": 146,
   "id": "bd496377-9094-4843-b4ca-131363d4e1e8",
   "metadata": {},
   "outputs": [
    {
     "name": "stdout",
     "output_type": "stream",
     "text": [
      "Biden, Joseph R Jr\n",
      "Chiapas (Mexico)\n",
      "Italy\n",
      "Drownings\n",
      "Illegal Immigration\n",
      "Illegal Immigration\n",
      "Illegal Immigration\n",
      "Illegal Immigration\n",
      "Democracy (Theory and Philosophy)\n",
      "Presidential Election of 2024\n",
      "Illegal Immigration\n",
      "Presidential Election of 2024\n",
      "Evacuations and Evacuees\n",
      "Trump, Donald J\n",
      "Harris, Kamala D\n",
      "Presidential Election of 2024\n",
      "Right-Wing Extremism and Alt-Right\n",
      "Presidential Election of 2024\n",
      "Presidential Election of 2024\n",
      "Polls and Public Opinion\n",
      "Politics and Government\n",
      "Presidential Election of 2024\n",
      "Springfield (Ohio)\n",
      "Illegal Immigration\n",
      "Harris, Kamala D\n",
      "Harris, Kamala D\n",
      "Presidential Election of 2024\n",
      "Faye, Bassirou Diomaye\n",
      "Harris, Kamala D\n",
      "Meloni, Giorgia (1977- )\n",
      "Presidential Election of 2024\n",
      "Tren de Aragua (Gang)\n",
      "New York City\n",
      "Presidential Election of 2024\n",
      "internal-storyline-no\n",
      "Homeless Persons\n",
      "Drownings\n",
      "Haitian-Americans\n",
      "Maritime Accidents and Safety\n",
      "United States Politics and Government\n",
      "Presidential Election of 2024\n",
      "Mayorkas, Alejandro\n",
      "Presidential Election of 2024\n",
      "audio-neutral-informative\n",
      "Presidential Election of 2024\n",
      "Drownings\n",
      "Presidential Election of 2024\n",
      "United States Politics and Government\n",
      "Illegal Immigration\n",
      "Presidential Election of 2024\n"
     ]
    }
   ],
   "source": [
    "for result in results:\n",
    "    for item in result:\n",
    "        print(item['keywords'][0]['value'])"
   ]
  },
  {
   "cell_type": "code",
   "execution_count": 147,
   "id": "b38c3fa4-91e8-48c3-b5e6-e7a47514634b",
   "metadata": {},
   "outputs": [],
   "source": [
    "abstracts = []\n",
    "dates = []\n",
    "keywords = []\n",
    "for result in results:\n",
    "    for item in result:\n",
    "        abstracts.append(item['abstract'])\n",
    "        dates.append(item['pub_date'])\n",
    "        keywords.append(item['keywords'][0]['value'])"
   ]
  },
  {
   "cell_type": "markdown",
   "id": "d26fef39",
   "metadata": {},
   "source": [
    "### individual challenge: to dataframe!\n",
    "make the lists into a dataframe"
   ]
  },
  {
   "cell_type": "code",
   "execution_count": 148,
   "id": "f7ead0f3-b950-40f8-a011-2fd5cefa2a9c",
   "metadata": {},
   "outputs": [],
   "source": [
    "import pandas as pd\n",
    "df = pd.DataFrame({\n",
    "    'date': dates,\n",
    "    'abstract': abstracts,\n",
    "    'keywords': keywords\n",
    "})"
   ]
  },
  {
   "cell_type": "code",
   "execution_count": 149,
   "id": "9d174b2a-c78a-4947-9729-7c9fd8a536ac",
   "metadata": {},
   "outputs": [
    {
     "data": {
      "text/html": [
       "<div>\n",
       "<style scoped>\n",
       "    .dataframe tbody tr th:only-of-type {\n",
       "        vertical-align: middle;\n",
       "    }\n",
       "\n",
       "    .dataframe tbody tr th {\n",
       "        vertical-align: top;\n",
       "    }\n",
       "\n",
       "    .dataframe thead th {\n",
       "        text-align: right;\n",
       "    }\n",
       "</style>\n",
       "<table border=\"1\" class=\"dataframe\">\n",
       "  <thead>\n",
       "    <tr style=\"text-align: right;\">\n",
       "      <th></th>\n",
       "      <th>date</th>\n",
       "      <th>abstract</th>\n",
       "      <th>keywords</th>\n",
       "    </tr>\n",
       "  </thead>\n",
       "  <tbody>\n",
       "    <tr>\n",
       "      <th>0</th>\n",
       "      <td>2024-10-04T18:58:04+0000</td>\n",
       "      <td>The decision comes as political pressure mount...</td>\n",
       "      <td>Biden, Joseph R Jr</td>\n",
       "    </tr>\n",
       "    <tr>\n",
       "      <th>1</th>\n",
       "      <td>2024-10-03T02:49:49+0000</td>\n",
       "      <td>The country’s defense ministry said the milita...</td>\n",
       "      <td>Chiapas (Mexico)</td>\n",
       "    </tr>\n",
       "    <tr>\n",
       "      <th>2</th>\n",
       "      <td>2024-09-28T04:01:18+0000</td>\n",
       "      <td>Italy, an aging country, badly needs migrant l...</td>\n",
       "      <td>Italy</td>\n",
       "    </tr>\n",
       "    <tr>\n",
       "      <th>3</th>\n",
       "      <td>2024-09-30T18:52:57+0000</td>\n",
       "      <td>At least nine people are known to have died in...</td>\n",
       "      <td>Drownings</td>\n",
       "    </tr>\n",
       "    <tr>\n",
       "      <th>4</th>\n",
       "      <td>2024-09-20T07:00:08+0000</td>\n",
       "      <td>It’s been a year since Mayor Eric Adams made h...</td>\n",
       "      <td>Illegal Immigration</td>\n",
       "    </tr>\n",
       "  </tbody>\n",
       "</table>\n",
       "</div>"
      ],
      "text/plain": [
       "                       date  \\\n",
       "0  2024-10-04T18:58:04+0000   \n",
       "1  2024-10-03T02:49:49+0000   \n",
       "2  2024-09-28T04:01:18+0000   \n",
       "3  2024-09-30T18:52:57+0000   \n",
       "4  2024-09-20T07:00:08+0000   \n",
       "\n",
       "                                            abstract             keywords  \n",
       "0  The decision comes as political pressure mount...   Biden, Joseph R Jr  \n",
       "1  The country’s defense ministry said the milita...     Chiapas (Mexico)  \n",
       "2  Italy, an aging country, badly needs migrant l...                Italy  \n",
       "3  At least nine people are known to have died in...            Drownings  \n",
       "4  It’s been a year since Mayor Eric Adams made h...  Illegal Immigration  "
      ]
     },
     "execution_count": 149,
     "metadata": {},
     "output_type": "execute_result"
    }
   ],
   "source": [
    "df.head()"
   ]
  },
  {
   "cell_type": "code",
   "execution_count": 150,
   "id": "b097f034-3142-43eb-8866-8a7a3ef690f7",
   "metadata": {},
   "outputs": [],
   "source": [
    "df.to_csv('nyt_data.csv')"
   ]
  },
  {
   "cell_type": "markdown",
   "id": "e7c0e1bf",
   "metadata": {},
   "source": [
    "## text analysis with spaCy"
   ]
  },
  {
   "cell_type": "code",
   "execution_count": 110,
   "id": "e412874c",
   "metadata": {},
   "outputs": [],
   "source": [
    "import spacy\n",
    "nlp = spacy.load('en_core_web_sm')"
   ]
  },
  {
   "cell_type": "code",
   "execution_count": 111,
   "id": "e62a23e4",
   "metadata": {},
   "outputs": [],
   "source": [
    "docs = list(nlp.pipe(abstracts))"
   ]
  },
  {
   "cell_type": "code",
   "execution_count": 112,
   "id": "acc3960b",
   "metadata": {},
   "outputs": [
    {
     "name": "stdout",
     "output_type": "stream",
     "text": [
      "The decision comes as political pressure mounts to cut down on programs that allow migrants to stay in the United States temporarily, even without a visa or green card.\n",
      "The country’s defense ministry said the military officers who opened fire might have mistaken the migrants for cartel members.\n",
      "Italy, an aging country, badly needs migrant labor and immigration, but the government has admitted that the pathways for legal entry are rife with abuse.\n",
      "At least nine people are known to have died in a sinking off the Canary Islands and 48 more are missing, the latest disaster on the perilous Atlantic crossing from West Africa.\n",
      "It’s been a year since Mayor Eric Adams made his ominous prediction. City officials should treat the arrival of migrants as an opportunity rather than a catastrophe, advocates say.\n",
      "Reports and interviews shed new light on the holding center, where migrants’ calls with lawyers are monitored and some say they’ve been forced to wear blackout goggles.\n",
      "A group of New York’s most powerful philanthropies will spend millions to help make migrants more self-sufficient.\n",
      "Former President Donald J. Trump has long tried to stoke fear about immigration. Now, he’s doubling down as the presidential race heats up.\n",
      "In his next documentary, Michael P. Nash takes on A.I. and how it might be used to address environmental issues.\n",
      "The former president and his allies, who often decry undocumented immigrants, are targeting programs that allow millions of people to enter the country lawfully.\n",
      "A federal appeals court will consider the future of DACA, which has allowed hundreds of thousands of undocumented young people to live and work in the United States.\n",
      "Donald J. Trump answered preselected questions from a pro-military crowd who echoed his false claims and approved of his vow to conduct massive deportations of undocumented immigrants.\n",
      "Several countries have chartered flights, while others issued warnings and offered assistance.\n",
      "For the former president, removing millions of undocumented immigrants is the solution to most of the nation’s most pressing challenges.\n",
      "An ad from two Democratic groups skates over Kamala Harris’s tough recent stance on border security and instead focuses on her more immigration-friendly plans.\n",
      "Gov. Tim Walz of Minnesota has acted as attack dog for the Harris campaign, and Senator JD Vance of Ohio has stepped in to explain away former President Donald J. Trump’s incendiary remarks.\n",
      "Germany’s unilateral decision to close its borders has angered its neighbors in Europe.\n",
      "Eric Adams gives new meaning to the concept of the frequent-flier program.\n",
      "Vice President Kamala Harris vowed to combat the flow of fentanyl into the country when she visited the border on Friday. Former President Donald J. Trump ratcheted up his false claims in response.\n",
      "Former President Donald J. Trump assailed Vice President Kamala Harris in harshly personal terms in what he conceded was “a dark speech.”\n",
      "The Freedom Party has made itself the country’s most popular party, with calls to bar asylum seekers. It is poised to come out on top in parliamentary elections for the first time.\n",
      "Donald Trump used a pair of events to try to blame Kamala Harris for inflation and the migrant crisis, tapping into themes that helped him win Michigan in 2016.\n",
      "A local official said there was “absolutely no evidence” that Haitian migrants have stolen and eaten pets, an outlandish claim amplified by the Trump campaign on Monday.\n",
      "The change will make what had been a short-term fix, which appears to have led to a drop in border crossings, a central feature of the asylum system.\n",
      "Vowing to carry on President Biden’s crackdown on asylum and to impose order on the southern border, the vice president demonstrated how much the politics of immigration have changed.\n",
      "Visiting the border on Friday in Arizona, the vice president will try to neutralize a key vulnerability, and will demonstrate her party’s harder line on immigration.\n",
      "The Republican vice-presidential nominee acknowledged that an outlandish claim he had amplified about Haitian immigrants stealing and eating pets could “turn out to be false.”\n",
      "In his first interview with Western media since becoming president of Senegal, Bassirou Diomaye Faye said the United Nations has to change to reflect changing world demographics.\n",
      "During a trip to Arizona, Vice President Kamala Harris is expected to make her first visit to the southern border since becoming the Democratic nominee.\n",
      "Mr. Musk described Prime Minister Giorgia Meloni as “authentic, honest and thoughtful.” She used her Atlantic Council spotlight to defend Western values.\n",
      "From calling for mass deportations to spreading false claims about migrants’ eating pets, former President Donald J. Trump and his running mate, Senator JD Vance of Ohio, are taking a hard line.\n",
      "Tren de Aragua’s emergence in New York City and elsewhere has led law enforcement officials to strategize how to stem the gang’s growth.\n",
      "A gallery in a shelter near the Brooklyn Navy Yard is showcasing the work of two migrants. One of them did some of his paintings under the Brooklyn-Queens Expressway.\n",
      "The immigrants are mainly in the United States under temporary protected status, which the executive branch can grant to people whose home countries are in crisis.\n",
      "We cover the presidential candidates’ immigration policies.\n",
      "Margarita Solito and her family fled violence and poverty in El Salvador, hoping to build a better life in San Francisco. The city often wasn’t what they thought it would be.\n",
      "Italian rescuers said that seven Syrian migrants survived a shipwreck about 10 miles from the island of Lampedusa, in the Central Mediterranean. The survivors told officials that 21 fellow travelers, including three minors, had fallen off during the crossing because of rough seas.\n",
      "The Springfield fable is part of a crusade to throw immigrants out of the country.\n",
      "Seven survivors were rescued from the boat that sank after leaving Libya. A crackdown by Italy has reduced migration, but not the high death rates that come with crossing the Mediterranean.\n",
      "Representative Gabe Vasquez, a Democrat in a border district, is under attack by his Republican opponent on immigration policy. Can a pro-abortion access message help him prevail?\n",
      "The former president meandered over 80 minutes from complaints about Tuesday’s debate to elevating baseless claims that have circulated on right-wing social media.\n",
      "Secretary of Homeland Security Alejandro Mayorkas explains what his agency has done to address the challenges at the U.S.-Mexico border.\n",
      "Speaking at an event in Tucson, Ariz., former President Donald J. Trump called for eliminating taxes on overtime pay as he declared Tuesday’s debate a “monumental victory” for him.\n",
      "Binyamin Appelbaum on why Harris’s ill-defined plan is still better than Trump’s.\n",
      "Apparently, this election is about … pets.\n",
      "Over 60 people were crowded into a small boat that “rapidly and brutally” broke apart off the coast of France, authorities said.\n",
      "Our columnists and contributors rate Trump’s and Harris’s debate performances.\n",
      "Former President Donald J. Trump offered a dire portrait of America, often relying on false and debunked claims as he described “a failing nation.”\n",
      "The government said it would expand patrols as part of a ‘hard line’ on illegal migration following two deadly stabbings by rejected asylum seekers and a surge in support for the far right.\n",
      "As the candidates meet for their only scheduled debate on Tuesday night, here is what to be on the lookout for.\n"
     ]
    }
   ],
   "source": [
    "for doc in docs:\n",
    "    print(doc)"
   ]
  },
  {
   "cell_type": "markdown",
   "id": "dc38de36",
   "metadata": {},
   "source": [
    "## tokens"
   ]
  },
  {
   "cell_type": "code",
   "execution_count": 113,
   "id": "a1e653de",
   "metadata": {},
   "outputs": [
    {
     "name": "stdout",
     "output_type": "stream",
     "text": [
      "The\n",
      "decision\n",
      "comes\n",
      "as\n",
      "political\n",
      "pressure\n",
      "mounts\n",
      "to\n",
      "cut\n",
      "down\n",
      "on\n",
      "programs\n",
      "that\n",
      "allow\n",
      "migrants\n",
      "to\n",
      "stay\n",
      "in\n",
      "the\n",
      "United\n",
      "States\n",
      "temporarily\n",
      ",\n",
      "even\n",
      "without\n",
      "a\n",
      "visa\n",
      "or\n",
      "green\n",
      "card\n",
      ".\n"
     ]
    }
   ],
   "source": [
    "for token in docs[0]:\n",
    "    print(token) "
   ]
  },
  {
   "cell_type": "code",
   "execution_count": 114,
   "id": "03f00423",
   "metadata": {},
   "outputs": [
    {
     "data": {
      "text/plain": [
       "spacy.tokens.token.Token"
      ]
     },
     "execution_count": 114,
     "metadata": {},
     "output_type": "execute_result"
    }
   ],
   "source": [
    "type(token)"
   ]
  },
  {
   "cell_type": "code",
   "execution_count": 115,
   "id": "d6af4af2",
   "metadata": {},
   "outputs": [
    {
     "data": {
      "text/plain": [
       "['_',\n",
       " '__bytes__',\n",
       " '__class__',\n",
       " '__delattr__',\n",
       " '__dir__',\n",
       " '__doc__',\n",
       " '__eq__',\n",
       " '__format__',\n",
       " '__ge__',\n",
       " '__getattribute__',\n",
       " '__getstate__',\n",
       " '__gt__',\n",
       " '__hash__',\n",
       " '__init__',\n",
       " '__init_subclass__',\n",
       " '__le__',\n",
       " '__len__',\n",
       " '__lt__',\n",
       " '__ne__',\n",
       " '__new__',\n",
       " '__pyx_vtable__',\n",
       " '__reduce__',\n",
       " '__reduce_ex__',\n",
       " '__repr__',\n",
       " '__setattr__',\n",
       " '__sizeof__',\n",
       " '__str__',\n",
       " '__subclasshook__',\n",
       " '__unicode__',\n",
       " 'ancestors',\n",
       " 'check_flag',\n",
       " 'children',\n",
       " 'cluster',\n",
       " 'conjuncts',\n",
       " 'dep',\n",
       " 'dep_',\n",
       " 'doc',\n",
       " 'ent_id',\n",
       " 'ent_id_',\n",
       " 'ent_iob',\n",
       " 'ent_iob_',\n",
       " 'ent_kb_id',\n",
       " 'ent_kb_id_',\n",
       " 'ent_type',\n",
       " 'ent_type_',\n",
       " 'get_extension',\n",
       " 'has_dep',\n",
       " 'has_extension',\n",
       " 'has_head',\n",
       " 'has_morph',\n",
       " 'has_vector',\n",
       " 'head',\n",
       " 'i',\n",
       " 'idx',\n",
       " 'iob_strings',\n",
       " 'is_alpha',\n",
       " 'is_ancestor',\n",
       " 'is_ascii',\n",
       " 'is_bracket',\n",
       " 'is_currency',\n",
       " 'is_digit',\n",
       " 'is_left_punct',\n",
       " 'is_lower',\n",
       " 'is_oov',\n",
       " 'is_punct',\n",
       " 'is_quote',\n",
       " 'is_right_punct',\n",
       " 'is_sent_end',\n",
       " 'is_sent_start',\n",
       " 'is_space',\n",
       " 'is_stop',\n",
       " 'is_title',\n",
       " 'is_upper',\n",
       " 'lang',\n",
       " 'lang_',\n",
       " 'left_edge',\n",
       " 'lefts',\n",
       " 'lemma',\n",
       " 'lemma_',\n",
       " 'lex',\n",
       " 'lex_id',\n",
       " 'like_email',\n",
       " 'like_num',\n",
       " 'like_url',\n",
       " 'lower',\n",
       " 'lower_',\n",
       " 'morph',\n",
       " 'n_lefts',\n",
       " 'n_rights',\n",
       " 'nbor',\n",
       " 'norm',\n",
       " 'norm_',\n",
       " 'orth',\n",
       " 'orth_',\n",
       " 'pos',\n",
       " 'pos_',\n",
       " 'prefix',\n",
       " 'prefix_',\n",
       " 'prob',\n",
       " 'rank',\n",
       " 'remove_extension',\n",
       " 'right_edge',\n",
       " 'rights',\n",
       " 'sent',\n",
       " 'sent_start',\n",
       " 'sentiment',\n",
       " 'set_extension',\n",
       " 'set_morph',\n",
       " 'shape',\n",
       " 'shape_',\n",
       " 'similarity',\n",
       " 'subtree',\n",
       " 'suffix',\n",
       " 'suffix_',\n",
       " 'tag',\n",
       " 'tag_',\n",
       " 'tensor',\n",
       " 'text',\n",
       " 'text_with_ws',\n",
       " 'vector',\n",
       " 'vector_norm',\n",
       " 'vocab',\n",
       " 'whitespace_']"
      ]
     },
     "execution_count": 115,
     "metadata": {},
     "output_type": "execute_result"
    }
   ],
   "source": [
    "# see all the methods for Token objects!\n",
    "dir(token)"
   ]
  },
  {
   "cell_type": "code",
   "execution_count": 116,
   "id": "d9e2a79d",
   "metadata": {},
   "outputs": [
    {
     "name": "stdout",
     "output_type": "stream",
     "text": [
      "The DET det\n",
      "decision NOUN nsubj\n",
      "comes VERB ROOT\n",
      "as ADP prep\n",
      "political ADJ amod\n",
      "pressure NOUN compound\n",
      "mounts NOUN pobj\n",
      "to PART aux\n",
      "cut VERB relcl\n",
      "down ADP prt\n",
      "on ADP prep\n",
      "programs NOUN pobj\n",
      "that PRON nsubj\n",
      "allow VERB relcl\n",
      "migrants NOUN nsubj\n",
      "to PART aux\n",
      "stay VERB ccomp\n",
      "in ADP prep\n",
      "the DET det\n",
      "United PROPN compound\n",
      "States PROPN pobj\n",
      "temporarily ADV advmod\n",
      ", PUNCT punct\n",
      "even ADV advmod\n",
      "without ADP prep\n",
      "a DET det\n",
      "visa NOUN pobj\n",
      "or CCONJ cc\n",
      "green ADJ amod\n",
      "card NOUN conj\n",
      ". PUNCT punct\n"
     ]
    }
   ],
   "source": [
    "for token in docs[0]:\n",
    "    print(token, token.pos_, token.dep_)    "
   ]
  },
  {
   "cell_type": "markdown",
   "id": "5767bae5",
   "metadata": {},
   "source": [
    "## NER"
   ]
  },
  {
   "cell_type": "code",
   "execution_count": 117,
   "id": "81cf7bd8",
   "metadata": {},
   "outputs": [
    {
     "data": {
      "text/plain": [
       "spacy.tokens.doc.Doc"
      ]
     },
     "execution_count": 117,
     "metadata": {},
     "output_type": "execute_result"
    }
   ],
   "source": [
    "# see docs (hah!) on Doc object on this page: https://spacy.io/api/doc\n",
    "\n",
    "type(doc)"
   ]
  },
  {
   "cell_type": "code",
   "execution_count": 118,
   "id": "d076893a",
   "metadata": {},
   "outputs": [
    {
     "data": {
      "text/plain": [
       "['_',\n",
       " '__bytes__',\n",
       " '__class__',\n",
       " '__delattr__',\n",
       " '__dir__',\n",
       " '__doc__',\n",
       " '__eq__',\n",
       " '__format__',\n",
       " '__ge__',\n",
       " '__getattribute__',\n",
       " '__getitem__',\n",
       " '__getstate__',\n",
       " '__gt__',\n",
       " '__hash__',\n",
       " '__init__',\n",
       " '__init_subclass__',\n",
       " '__iter__',\n",
       " '__le__',\n",
       " '__len__',\n",
       " '__lt__',\n",
       " '__ne__',\n",
       " '__new__',\n",
       " '__pyx_vtable__',\n",
       " '__reduce__',\n",
       " '__reduce_ex__',\n",
       " '__repr__',\n",
       " '__setattr__',\n",
       " '__setstate__',\n",
       " '__sizeof__',\n",
       " '__str__',\n",
       " '__subclasshook__',\n",
       " '__unicode__',\n",
       " '_bulk_merge',\n",
       " '_context',\n",
       " '_get_array_attrs',\n",
       " '_realloc',\n",
       " '_vector',\n",
       " '_vector_norm',\n",
       " 'cats',\n",
       " 'char_span',\n",
       " 'copy',\n",
       " 'count_by',\n",
       " 'doc',\n",
       " 'ents',\n",
       " 'extend_tensor',\n",
       " 'from_array',\n",
       " 'from_bytes',\n",
       " 'from_dict',\n",
       " 'from_disk',\n",
       " 'from_docs',\n",
       " 'from_json',\n",
       " 'get_extension',\n",
       " 'get_lca_matrix',\n",
       " 'has_annotation',\n",
       " 'has_extension',\n",
       " 'has_unknown_spaces',\n",
       " 'has_vector',\n",
       " 'is_nered',\n",
       " 'is_parsed',\n",
       " 'is_sentenced',\n",
       " 'is_tagged',\n",
       " 'lang',\n",
       " 'lang_',\n",
       " 'mem',\n",
       " 'noun_chunks',\n",
       " 'noun_chunks_iterator',\n",
       " 'remove_extension',\n",
       " 'retokenize',\n",
       " 'sentiment',\n",
       " 'sents',\n",
       " 'set_ents',\n",
       " 'set_extension',\n",
       " 'similarity',\n",
       " 'spans',\n",
       " 'tensor',\n",
       " 'text',\n",
       " 'text_with_ws',\n",
       " 'to_array',\n",
       " 'to_bytes',\n",
       " 'to_dict',\n",
       " 'to_disk',\n",
       " 'to_json',\n",
       " 'to_utf8_array',\n",
       " 'user_data',\n",
       " 'user_hooks',\n",
       " 'user_span_hooks',\n",
       " 'user_token_hooks',\n",
       " 'vector',\n",
       " 'vector_norm',\n",
       " 'vocab']"
      ]
     },
     "execution_count": 118,
     "metadata": {},
     "output_type": "execute_result"
    }
   ],
   "source": [
    "dir(doc)"
   ]
  },
  {
   "cell_type": "code",
   "execution_count": 119,
   "id": "406dcb94",
   "metadata": {},
   "outputs": [
    {
     "name": "stdout",
     "output_type": "stream",
     "text": [
      "the United States GPE\n",
      "Italy GPE\n",
      "At least nine CARDINAL\n",
      "the Canary Islands LOC\n",
      "48 CARDINAL\n",
      "Atlantic LOC\n",
      "West Africa GPE\n",
      "Eric Adams PERSON\n",
      "New York GPE\n",
      "millions CARDINAL\n",
      "Donald J. Trump PERSON\n",
      "Michael P. Nash PERSON\n",
      "A.I. ORG\n",
      "millions CARDINAL\n",
      "hundreds of thousands CARDINAL\n",
      "the United States GPE\n",
      "Donald J. Trump PERSON\n",
      "millions CARDINAL\n",
      "two CARDINAL\n",
      "Democratic NORP\n",
      "Kamala Harris’s PERSON\n",
      "Tim Walz PERSON\n",
      "Minnesota GPE\n",
      "Harris PERSON\n",
      "JD Vance PERSON\n",
      "Ohio GPE\n",
      "Donald J. Trump’s PERSON\n",
      "Germany GPE\n",
      "Europe LOC\n",
      "Eric Adams PERSON\n",
      "Kamala Harris PERSON\n",
      "Friday DATE\n",
      "Donald J. Trump PERSON\n",
      "Donald J. Trump PERSON\n",
      "Kamala Harris PERSON\n",
      "The Freedom Party ORG\n",
      "first ORDINAL\n",
      "Donald Trump PERSON\n",
      "Kamala Harris PERSON\n",
      "Michigan GPE\n",
      "2016 DATE\n",
      "Haitian NORP\n",
      "Trump ORG\n",
      "Monday DATE\n",
      "Biden PERSON\n",
      "Friday DATE\n",
      "Arizona GPE\n",
      "Republican NORP\n",
      "Haitian NORP\n",
      "first ORDINAL\n",
      "Western NORP\n",
      "Senegal GPE\n",
      "Bassirou Diomaye Faye PERSON\n",
      "the United Nations ORG\n",
      "Arizona GPE\n",
      "Kamala Harris PERSON\n",
      "first ORDINAL\n",
      "Democratic NORP\n",
      "Musk PERSON\n",
      "Giorgia Meloni PERSON\n",
      "Atlantic Council ORG\n",
      "Western NORP\n",
      "Donald J. Trump PERSON\n",
      "JD Vance PERSON\n",
      "Ohio GPE\n",
      "New York City GPE\n",
      "the Brooklyn Navy Yard ORG\n",
      "two CARDINAL\n",
      "One CARDINAL\n",
      "the Brooklyn-Queens Expressway ORG\n",
      "the United States GPE\n",
      "Margarita Solito PERSON\n",
      "El Salvador GPE\n",
      "San Francisco GPE\n",
      "Italian NORP\n",
      "seven CARDINAL\n",
      "Syrian NORP\n",
      "about 10 miles QUANTITY\n",
      "Lampedusa PERSON\n",
      "the Central Mediterranean LOC\n",
      "21 CARDINAL\n",
      "three CARDINAL\n",
      "Springfield GPE\n",
      "Seven CARDINAL\n",
      "Libya GPE\n",
      "Italy GPE\n",
      "Mediterranean LOC\n",
      "Gabe Vasquez PERSON\n",
      "Democrat NORP\n",
      "Republican NORP\n",
      "80 minutes TIME\n",
      "about Tuesday DATE\n",
      "Homeland Security Alejandro Mayorkas ORG\n",
      "U.S.-Mexico ORG\n",
      "Tucson GPE\n",
      "Ariz. GPE\n",
      "Donald J. Trump PERSON\n",
      "Tuesday DATE\n",
      "Binyamin Appelbaum PERSON\n",
      "Harris’s PERSON\n",
      "Trump’s ORG\n",
      "60 CARDINAL\n",
      "France GPE\n",
      "Trump’s ORG\n",
      "Harris PERSON\n",
      "Donald J. Trump PERSON\n",
      "America GPE\n",
      "two CARDINAL\n",
      "Tuesday DATE\n",
      "night TIME\n"
     ]
    }
   ],
   "source": [
    "for doc in docs:\n",
    "    for ent in doc.ents:\n",
    "        print(ent.text, ent.label_)"
   ]
  },
  {
   "cell_type": "markdown",
   "id": "99cb7604",
   "metadata": {},
   "source": [
    "## word frequencies"
   ]
  },
  {
   "cell_type": "code",
   "execution_count": 120,
   "id": "979ca94a",
   "metadata": {},
   "outputs": [
    {
     "name": "stdout",
     "output_type": "stream",
     "text": [
      "[('Trump', 12), ('President', 11), ('migrants', 9), ('Donald', 9), ('J.', 8), ('Harris', 8), ('border', 8), ('immigration', 7), ('country', 6), ('said', 6), ('president', 6), ('immigrants', 6), ('people', 5), ('false', 5), ('claims', 5), ('Kamala', 5), ('United', 4), ('undocumented', 4), ('asylum', 4), ('pets', 4)]\n"
     ]
    }
   ],
   "source": [
    "from collections import Counter\n",
    "\n",
    "words = []\n",
    "for doc in docs:\n",
    "    for token in doc:\n",
    "        if not token.is_stop:\n",
    "            if not token.is_punct:\n",
    "                words.append(token.text)\n",
    "\n",
    "word_freq = Counter(words)\n",
    "common_words = word_freq.most_common(20)\n",
    "print(common_words)"
   ]
  },
  {
   "cell_type": "markdown",
   "id": "12b01890",
   "metadata": {},
   "source": [
    "## dependency "
   ]
  },
  {
   "cell_type": "code",
   "execution_count": 121,
   "id": "031f6fb7",
   "metadata": {},
   "outputs": [
    {
     "data": {
      "text/html": [
       "<span class=\"tex2jax_ignore\"><svg xmlns=\"http://www.w3.org/2000/svg\" xmlns:xlink=\"http://www.w3.org/1999/xlink\" xml:lang=\"en\" id=\"3e495b38bf5a440d8bf89b83da7cc4a8-0\" class=\"displacy\" width=\"5125\" height=\"574.5\" direction=\"ltr\" style=\"max-width: none; height: 574.5px; color: #000000; background: #ffffff; font-family: Arial; direction: ltr\">\n",
       "<text class=\"displacy-token\" fill=\"currentColor\" text-anchor=\"middle\" y=\"484.5\">\n",
       "    <tspan class=\"displacy-word\" fill=\"currentColor\" x=\"50\">The</tspan>\n",
       "    <tspan class=\"displacy-tag\" dy=\"2em\" fill=\"currentColor\" x=\"50\">DET</tspan>\n",
       "</text>\n",
       "\n",
       "<text class=\"displacy-token\" fill=\"currentColor\" text-anchor=\"middle\" y=\"484.5\">\n",
       "    <tspan class=\"displacy-word\" fill=\"currentColor\" x=\"225\">decision</tspan>\n",
       "    <tspan class=\"displacy-tag\" dy=\"2em\" fill=\"currentColor\" x=\"225\">NOUN</tspan>\n",
       "</text>\n",
       "\n",
       "<text class=\"displacy-token\" fill=\"currentColor\" text-anchor=\"middle\" y=\"484.5\">\n",
       "    <tspan class=\"displacy-word\" fill=\"currentColor\" x=\"400\">comes</tspan>\n",
       "    <tspan class=\"displacy-tag\" dy=\"2em\" fill=\"currentColor\" x=\"400\">VERB</tspan>\n",
       "</text>\n",
       "\n",
       "<text class=\"displacy-token\" fill=\"currentColor\" text-anchor=\"middle\" y=\"484.5\">\n",
       "    <tspan class=\"displacy-word\" fill=\"currentColor\" x=\"575\">as</tspan>\n",
       "    <tspan class=\"displacy-tag\" dy=\"2em\" fill=\"currentColor\" x=\"575\">ADP</tspan>\n",
       "</text>\n",
       "\n",
       "<text class=\"displacy-token\" fill=\"currentColor\" text-anchor=\"middle\" y=\"484.5\">\n",
       "    <tspan class=\"displacy-word\" fill=\"currentColor\" x=\"750\">political</tspan>\n",
       "    <tspan class=\"displacy-tag\" dy=\"2em\" fill=\"currentColor\" x=\"750\">ADJ</tspan>\n",
       "</text>\n",
       "\n",
       "<text class=\"displacy-token\" fill=\"currentColor\" text-anchor=\"middle\" y=\"484.5\">\n",
       "    <tspan class=\"displacy-word\" fill=\"currentColor\" x=\"925\">pressure</tspan>\n",
       "    <tspan class=\"displacy-tag\" dy=\"2em\" fill=\"currentColor\" x=\"925\">NOUN</tspan>\n",
       "</text>\n",
       "\n",
       "<text class=\"displacy-token\" fill=\"currentColor\" text-anchor=\"middle\" y=\"484.5\">\n",
       "    <tspan class=\"displacy-word\" fill=\"currentColor\" x=\"1100\">mounts</tspan>\n",
       "    <tspan class=\"displacy-tag\" dy=\"2em\" fill=\"currentColor\" x=\"1100\">NOUN</tspan>\n",
       "</text>\n",
       "\n",
       "<text class=\"displacy-token\" fill=\"currentColor\" text-anchor=\"middle\" y=\"484.5\">\n",
       "    <tspan class=\"displacy-word\" fill=\"currentColor\" x=\"1275\">to</tspan>\n",
       "    <tspan class=\"displacy-tag\" dy=\"2em\" fill=\"currentColor\" x=\"1275\">PART</tspan>\n",
       "</text>\n",
       "\n",
       "<text class=\"displacy-token\" fill=\"currentColor\" text-anchor=\"middle\" y=\"484.5\">\n",
       "    <tspan class=\"displacy-word\" fill=\"currentColor\" x=\"1450\">cut</tspan>\n",
       "    <tspan class=\"displacy-tag\" dy=\"2em\" fill=\"currentColor\" x=\"1450\">VERB</tspan>\n",
       "</text>\n",
       "\n",
       "<text class=\"displacy-token\" fill=\"currentColor\" text-anchor=\"middle\" y=\"484.5\">\n",
       "    <tspan class=\"displacy-word\" fill=\"currentColor\" x=\"1625\">down</tspan>\n",
       "    <tspan class=\"displacy-tag\" dy=\"2em\" fill=\"currentColor\" x=\"1625\">ADP</tspan>\n",
       "</text>\n",
       "\n",
       "<text class=\"displacy-token\" fill=\"currentColor\" text-anchor=\"middle\" y=\"484.5\">\n",
       "    <tspan class=\"displacy-word\" fill=\"currentColor\" x=\"1800\">on</tspan>\n",
       "    <tspan class=\"displacy-tag\" dy=\"2em\" fill=\"currentColor\" x=\"1800\">ADP</tspan>\n",
       "</text>\n",
       "\n",
       "<text class=\"displacy-token\" fill=\"currentColor\" text-anchor=\"middle\" y=\"484.5\">\n",
       "    <tspan class=\"displacy-word\" fill=\"currentColor\" x=\"1975\">programs</tspan>\n",
       "    <tspan class=\"displacy-tag\" dy=\"2em\" fill=\"currentColor\" x=\"1975\">NOUN</tspan>\n",
       "</text>\n",
       "\n",
       "<text class=\"displacy-token\" fill=\"currentColor\" text-anchor=\"middle\" y=\"484.5\">\n",
       "    <tspan class=\"displacy-word\" fill=\"currentColor\" x=\"2150\">that</tspan>\n",
       "    <tspan class=\"displacy-tag\" dy=\"2em\" fill=\"currentColor\" x=\"2150\">PRON</tspan>\n",
       "</text>\n",
       "\n",
       "<text class=\"displacy-token\" fill=\"currentColor\" text-anchor=\"middle\" y=\"484.5\">\n",
       "    <tspan class=\"displacy-word\" fill=\"currentColor\" x=\"2325\">allow</tspan>\n",
       "    <tspan class=\"displacy-tag\" dy=\"2em\" fill=\"currentColor\" x=\"2325\">VERB</tspan>\n",
       "</text>\n",
       "\n",
       "<text class=\"displacy-token\" fill=\"currentColor\" text-anchor=\"middle\" y=\"484.5\">\n",
       "    <tspan class=\"displacy-word\" fill=\"currentColor\" x=\"2500\">migrants</tspan>\n",
       "    <tspan class=\"displacy-tag\" dy=\"2em\" fill=\"currentColor\" x=\"2500\">NOUN</tspan>\n",
       "</text>\n",
       "\n",
       "<text class=\"displacy-token\" fill=\"currentColor\" text-anchor=\"middle\" y=\"484.5\">\n",
       "    <tspan class=\"displacy-word\" fill=\"currentColor\" x=\"2675\">to</tspan>\n",
       "    <tspan class=\"displacy-tag\" dy=\"2em\" fill=\"currentColor\" x=\"2675\">PART</tspan>\n",
       "</text>\n",
       "\n",
       "<text class=\"displacy-token\" fill=\"currentColor\" text-anchor=\"middle\" y=\"484.5\">\n",
       "    <tspan class=\"displacy-word\" fill=\"currentColor\" x=\"2850\">stay</tspan>\n",
       "    <tspan class=\"displacy-tag\" dy=\"2em\" fill=\"currentColor\" x=\"2850\">VERB</tspan>\n",
       "</text>\n",
       "\n",
       "<text class=\"displacy-token\" fill=\"currentColor\" text-anchor=\"middle\" y=\"484.5\">\n",
       "    <tspan class=\"displacy-word\" fill=\"currentColor\" x=\"3025\">in</tspan>\n",
       "    <tspan class=\"displacy-tag\" dy=\"2em\" fill=\"currentColor\" x=\"3025\">ADP</tspan>\n",
       "</text>\n",
       "\n",
       "<text class=\"displacy-token\" fill=\"currentColor\" text-anchor=\"middle\" y=\"484.5\">\n",
       "    <tspan class=\"displacy-word\" fill=\"currentColor\" x=\"3200\">the</tspan>\n",
       "    <tspan class=\"displacy-tag\" dy=\"2em\" fill=\"currentColor\" x=\"3200\">DET</tspan>\n",
       "</text>\n",
       "\n",
       "<text class=\"displacy-token\" fill=\"currentColor\" text-anchor=\"middle\" y=\"484.5\">\n",
       "    <tspan class=\"displacy-word\" fill=\"currentColor\" x=\"3375\">United</tspan>\n",
       "    <tspan class=\"displacy-tag\" dy=\"2em\" fill=\"currentColor\" x=\"3375\">PROPN</tspan>\n",
       "</text>\n",
       "\n",
       "<text class=\"displacy-token\" fill=\"currentColor\" text-anchor=\"middle\" y=\"484.5\">\n",
       "    <tspan class=\"displacy-word\" fill=\"currentColor\" x=\"3550\">States</tspan>\n",
       "    <tspan class=\"displacy-tag\" dy=\"2em\" fill=\"currentColor\" x=\"3550\">PROPN</tspan>\n",
       "</text>\n",
       "\n",
       "<text class=\"displacy-token\" fill=\"currentColor\" text-anchor=\"middle\" y=\"484.5\">\n",
       "    <tspan class=\"displacy-word\" fill=\"currentColor\" x=\"3725\">temporarily,</tspan>\n",
       "    <tspan class=\"displacy-tag\" dy=\"2em\" fill=\"currentColor\" x=\"3725\">ADV</tspan>\n",
       "</text>\n",
       "\n",
       "<text class=\"displacy-token\" fill=\"currentColor\" text-anchor=\"middle\" y=\"484.5\">\n",
       "    <tspan class=\"displacy-word\" fill=\"currentColor\" x=\"3900\">even</tspan>\n",
       "    <tspan class=\"displacy-tag\" dy=\"2em\" fill=\"currentColor\" x=\"3900\">ADV</tspan>\n",
       "</text>\n",
       "\n",
       "<text class=\"displacy-token\" fill=\"currentColor\" text-anchor=\"middle\" y=\"484.5\">\n",
       "    <tspan class=\"displacy-word\" fill=\"currentColor\" x=\"4075\">without</tspan>\n",
       "    <tspan class=\"displacy-tag\" dy=\"2em\" fill=\"currentColor\" x=\"4075\">ADP</tspan>\n",
       "</text>\n",
       "\n",
       "<text class=\"displacy-token\" fill=\"currentColor\" text-anchor=\"middle\" y=\"484.5\">\n",
       "    <tspan class=\"displacy-word\" fill=\"currentColor\" x=\"4250\">a</tspan>\n",
       "    <tspan class=\"displacy-tag\" dy=\"2em\" fill=\"currentColor\" x=\"4250\">DET</tspan>\n",
       "</text>\n",
       "\n",
       "<text class=\"displacy-token\" fill=\"currentColor\" text-anchor=\"middle\" y=\"484.5\">\n",
       "    <tspan class=\"displacy-word\" fill=\"currentColor\" x=\"4425\">visa</tspan>\n",
       "    <tspan class=\"displacy-tag\" dy=\"2em\" fill=\"currentColor\" x=\"4425\">NOUN</tspan>\n",
       "</text>\n",
       "\n",
       "<text class=\"displacy-token\" fill=\"currentColor\" text-anchor=\"middle\" y=\"484.5\">\n",
       "    <tspan class=\"displacy-word\" fill=\"currentColor\" x=\"4600\">or</tspan>\n",
       "    <tspan class=\"displacy-tag\" dy=\"2em\" fill=\"currentColor\" x=\"4600\">CCONJ</tspan>\n",
       "</text>\n",
       "\n",
       "<text class=\"displacy-token\" fill=\"currentColor\" text-anchor=\"middle\" y=\"484.5\">\n",
       "    <tspan class=\"displacy-word\" fill=\"currentColor\" x=\"4775\">green</tspan>\n",
       "    <tspan class=\"displacy-tag\" dy=\"2em\" fill=\"currentColor\" x=\"4775\">ADJ</tspan>\n",
       "</text>\n",
       "\n",
       "<text class=\"displacy-token\" fill=\"currentColor\" text-anchor=\"middle\" y=\"484.5\">\n",
       "    <tspan class=\"displacy-word\" fill=\"currentColor\" x=\"4950\">card.</tspan>\n",
       "    <tspan class=\"displacy-tag\" dy=\"2em\" fill=\"currentColor\" x=\"4950\">NOUN</tspan>\n",
       "</text>\n",
       "\n",
       "<g class=\"displacy-arrow\">\n",
       "    <path class=\"displacy-arc\" id=\"arrow-3e495b38bf5a440d8bf89b83da7cc4a8-0-0\" stroke-width=\"2px\" d=\"M70,439.5 C70,352.0 205.0,352.0 205.0,439.5\" fill=\"none\" stroke=\"currentColor\"/>\n",
       "    <text dy=\"1.25em\" style=\"font-size: 0.8em; letter-spacing: 1px\">\n",
       "        <textPath xlink:href=\"#arrow-3e495b38bf5a440d8bf89b83da7cc4a8-0-0\" class=\"displacy-label\" startOffset=\"50%\" side=\"left\" fill=\"currentColor\" text-anchor=\"middle\">det</textPath>\n",
       "    </text>\n",
       "    <path class=\"displacy-arrowhead\" d=\"M70,441.5 L62,429.5 78,429.5\" fill=\"currentColor\"/>\n",
       "</g>\n",
       "\n",
       "<g class=\"displacy-arrow\">\n",
       "    <path class=\"displacy-arc\" id=\"arrow-3e495b38bf5a440d8bf89b83da7cc4a8-0-1\" stroke-width=\"2px\" d=\"M245,439.5 C245,352.0 380.0,352.0 380.0,439.5\" fill=\"none\" stroke=\"currentColor\"/>\n",
       "    <text dy=\"1.25em\" style=\"font-size: 0.8em; letter-spacing: 1px\">\n",
       "        <textPath xlink:href=\"#arrow-3e495b38bf5a440d8bf89b83da7cc4a8-0-1\" class=\"displacy-label\" startOffset=\"50%\" side=\"left\" fill=\"currentColor\" text-anchor=\"middle\">nsubj</textPath>\n",
       "    </text>\n",
       "    <path class=\"displacy-arrowhead\" d=\"M245,441.5 L237,429.5 253,429.5\" fill=\"currentColor\"/>\n",
       "</g>\n",
       "\n",
       "<g class=\"displacy-arrow\">\n",
       "    <path class=\"displacy-arc\" id=\"arrow-3e495b38bf5a440d8bf89b83da7cc4a8-0-2\" stroke-width=\"2px\" d=\"M420,439.5 C420,352.0 555.0,352.0 555.0,439.5\" fill=\"none\" stroke=\"currentColor\"/>\n",
       "    <text dy=\"1.25em\" style=\"font-size: 0.8em; letter-spacing: 1px\">\n",
       "        <textPath xlink:href=\"#arrow-3e495b38bf5a440d8bf89b83da7cc4a8-0-2\" class=\"displacy-label\" startOffset=\"50%\" side=\"left\" fill=\"currentColor\" text-anchor=\"middle\">prep</textPath>\n",
       "    </text>\n",
       "    <path class=\"displacy-arrowhead\" d=\"M555.0,441.5 L563.0,429.5 547.0,429.5\" fill=\"currentColor\"/>\n",
       "</g>\n",
       "\n",
       "<g class=\"displacy-arrow\">\n",
       "    <path class=\"displacy-arc\" id=\"arrow-3e495b38bf5a440d8bf89b83da7cc4a8-0-3\" stroke-width=\"2px\" d=\"M770,439.5 C770,264.5 1085.0,264.5 1085.0,439.5\" fill=\"none\" stroke=\"currentColor\"/>\n",
       "    <text dy=\"1.25em\" style=\"font-size: 0.8em; letter-spacing: 1px\">\n",
       "        <textPath xlink:href=\"#arrow-3e495b38bf5a440d8bf89b83da7cc4a8-0-3\" class=\"displacy-label\" startOffset=\"50%\" side=\"left\" fill=\"currentColor\" text-anchor=\"middle\">amod</textPath>\n",
       "    </text>\n",
       "    <path class=\"displacy-arrowhead\" d=\"M770,441.5 L762,429.5 778,429.5\" fill=\"currentColor\"/>\n",
       "</g>\n",
       "\n",
       "<g class=\"displacy-arrow\">\n",
       "    <path class=\"displacy-arc\" id=\"arrow-3e495b38bf5a440d8bf89b83da7cc4a8-0-4\" stroke-width=\"2px\" d=\"M945,439.5 C945,352.0 1080.0,352.0 1080.0,439.5\" fill=\"none\" stroke=\"currentColor\"/>\n",
       "    <text dy=\"1.25em\" style=\"font-size: 0.8em; letter-spacing: 1px\">\n",
       "        <textPath xlink:href=\"#arrow-3e495b38bf5a440d8bf89b83da7cc4a8-0-4\" class=\"displacy-label\" startOffset=\"50%\" side=\"left\" fill=\"currentColor\" text-anchor=\"middle\">compound</textPath>\n",
       "    </text>\n",
       "    <path class=\"displacy-arrowhead\" d=\"M945,441.5 L937,429.5 953,429.5\" fill=\"currentColor\"/>\n",
       "</g>\n",
       "\n",
       "<g class=\"displacy-arrow\">\n",
       "    <path class=\"displacy-arc\" id=\"arrow-3e495b38bf5a440d8bf89b83da7cc4a8-0-5\" stroke-width=\"2px\" d=\"M595,439.5 C595,177.0 1090.0,177.0 1090.0,439.5\" fill=\"none\" stroke=\"currentColor\"/>\n",
       "    <text dy=\"1.25em\" style=\"font-size: 0.8em; letter-spacing: 1px\">\n",
       "        <textPath xlink:href=\"#arrow-3e495b38bf5a440d8bf89b83da7cc4a8-0-5\" class=\"displacy-label\" startOffset=\"50%\" side=\"left\" fill=\"currentColor\" text-anchor=\"middle\">pobj</textPath>\n",
       "    </text>\n",
       "    <path class=\"displacy-arrowhead\" d=\"M1090.0,441.5 L1098.0,429.5 1082.0,429.5\" fill=\"currentColor\"/>\n",
       "</g>\n",
       "\n",
       "<g class=\"displacy-arrow\">\n",
       "    <path class=\"displacy-arc\" id=\"arrow-3e495b38bf5a440d8bf89b83da7cc4a8-0-6\" stroke-width=\"2px\" d=\"M1295,439.5 C1295,352.0 1430.0,352.0 1430.0,439.5\" fill=\"none\" stroke=\"currentColor\"/>\n",
       "    <text dy=\"1.25em\" style=\"font-size: 0.8em; letter-spacing: 1px\">\n",
       "        <textPath xlink:href=\"#arrow-3e495b38bf5a440d8bf89b83da7cc4a8-0-6\" class=\"displacy-label\" startOffset=\"50%\" side=\"left\" fill=\"currentColor\" text-anchor=\"middle\">aux</textPath>\n",
       "    </text>\n",
       "    <path class=\"displacy-arrowhead\" d=\"M1295,441.5 L1287,429.5 1303,429.5\" fill=\"currentColor\"/>\n",
       "</g>\n",
       "\n",
       "<g class=\"displacy-arrow\">\n",
       "    <path class=\"displacy-arc\" id=\"arrow-3e495b38bf5a440d8bf89b83da7cc4a8-0-7\" stroke-width=\"2px\" d=\"M1120,439.5 C1120,264.5 1435.0,264.5 1435.0,439.5\" fill=\"none\" stroke=\"currentColor\"/>\n",
       "    <text dy=\"1.25em\" style=\"font-size: 0.8em; letter-spacing: 1px\">\n",
       "        <textPath xlink:href=\"#arrow-3e495b38bf5a440d8bf89b83da7cc4a8-0-7\" class=\"displacy-label\" startOffset=\"50%\" side=\"left\" fill=\"currentColor\" text-anchor=\"middle\">relcl</textPath>\n",
       "    </text>\n",
       "    <path class=\"displacy-arrowhead\" d=\"M1435.0,441.5 L1443.0,429.5 1427.0,429.5\" fill=\"currentColor\"/>\n",
       "</g>\n",
       "\n",
       "<g class=\"displacy-arrow\">\n",
       "    <path class=\"displacy-arc\" id=\"arrow-3e495b38bf5a440d8bf89b83da7cc4a8-0-8\" stroke-width=\"2px\" d=\"M1470,439.5 C1470,352.0 1605.0,352.0 1605.0,439.5\" fill=\"none\" stroke=\"currentColor\"/>\n",
       "    <text dy=\"1.25em\" style=\"font-size: 0.8em; letter-spacing: 1px\">\n",
       "        <textPath xlink:href=\"#arrow-3e495b38bf5a440d8bf89b83da7cc4a8-0-8\" class=\"displacy-label\" startOffset=\"50%\" side=\"left\" fill=\"currentColor\" text-anchor=\"middle\">prt</textPath>\n",
       "    </text>\n",
       "    <path class=\"displacy-arrowhead\" d=\"M1605.0,441.5 L1613.0,429.5 1597.0,429.5\" fill=\"currentColor\"/>\n",
       "</g>\n",
       "\n",
       "<g class=\"displacy-arrow\">\n",
       "    <path class=\"displacy-arc\" id=\"arrow-3e495b38bf5a440d8bf89b83da7cc4a8-0-9\" stroke-width=\"2px\" d=\"M1470,439.5 C1470,264.5 1785.0,264.5 1785.0,439.5\" fill=\"none\" stroke=\"currentColor\"/>\n",
       "    <text dy=\"1.25em\" style=\"font-size: 0.8em; letter-spacing: 1px\">\n",
       "        <textPath xlink:href=\"#arrow-3e495b38bf5a440d8bf89b83da7cc4a8-0-9\" class=\"displacy-label\" startOffset=\"50%\" side=\"left\" fill=\"currentColor\" text-anchor=\"middle\">prep</textPath>\n",
       "    </text>\n",
       "    <path class=\"displacy-arrowhead\" d=\"M1785.0,441.5 L1793.0,429.5 1777.0,429.5\" fill=\"currentColor\"/>\n",
       "</g>\n",
       "\n",
       "<g class=\"displacy-arrow\">\n",
       "    <path class=\"displacy-arc\" id=\"arrow-3e495b38bf5a440d8bf89b83da7cc4a8-0-10\" stroke-width=\"2px\" d=\"M1820,439.5 C1820,352.0 1955.0,352.0 1955.0,439.5\" fill=\"none\" stroke=\"currentColor\"/>\n",
       "    <text dy=\"1.25em\" style=\"font-size: 0.8em; letter-spacing: 1px\">\n",
       "        <textPath xlink:href=\"#arrow-3e495b38bf5a440d8bf89b83da7cc4a8-0-10\" class=\"displacy-label\" startOffset=\"50%\" side=\"left\" fill=\"currentColor\" text-anchor=\"middle\">pobj</textPath>\n",
       "    </text>\n",
       "    <path class=\"displacy-arrowhead\" d=\"M1955.0,441.5 L1963.0,429.5 1947.0,429.5\" fill=\"currentColor\"/>\n",
       "</g>\n",
       "\n",
       "<g class=\"displacy-arrow\">\n",
       "    <path class=\"displacy-arc\" id=\"arrow-3e495b38bf5a440d8bf89b83da7cc4a8-0-11\" stroke-width=\"2px\" d=\"M2170,439.5 C2170,352.0 2305.0,352.0 2305.0,439.5\" fill=\"none\" stroke=\"currentColor\"/>\n",
       "    <text dy=\"1.25em\" style=\"font-size: 0.8em; letter-spacing: 1px\">\n",
       "        <textPath xlink:href=\"#arrow-3e495b38bf5a440d8bf89b83da7cc4a8-0-11\" class=\"displacy-label\" startOffset=\"50%\" side=\"left\" fill=\"currentColor\" text-anchor=\"middle\">nsubj</textPath>\n",
       "    </text>\n",
       "    <path class=\"displacy-arrowhead\" d=\"M2170,441.5 L2162,429.5 2178,429.5\" fill=\"currentColor\"/>\n",
       "</g>\n",
       "\n",
       "<g class=\"displacy-arrow\">\n",
       "    <path class=\"displacy-arc\" id=\"arrow-3e495b38bf5a440d8bf89b83da7cc4a8-0-12\" stroke-width=\"2px\" d=\"M1995,439.5 C1995,264.5 2310.0,264.5 2310.0,439.5\" fill=\"none\" stroke=\"currentColor\"/>\n",
       "    <text dy=\"1.25em\" style=\"font-size: 0.8em; letter-spacing: 1px\">\n",
       "        <textPath xlink:href=\"#arrow-3e495b38bf5a440d8bf89b83da7cc4a8-0-12\" class=\"displacy-label\" startOffset=\"50%\" side=\"left\" fill=\"currentColor\" text-anchor=\"middle\">relcl</textPath>\n",
       "    </text>\n",
       "    <path class=\"displacy-arrowhead\" d=\"M2310.0,441.5 L2318.0,429.5 2302.0,429.5\" fill=\"currentColor\"/>\n",
       "</g>\n",
       "\n",
       "<g class=\"displacy-arrow\">\n",
       "    <path class=\"displacy-arc\" id=\"arrow-3e495b38bf5a440d8bf89b83da7cc4a8-0-13\" stroke-width=\"2px\" d=\"M2520,439.5 C2520,264.5 2835.0,264.5 2835.0,439.5\" fill=\"none\" stroke=\"currentColor\"/>\n",
       "    <text dy=\"1.25em\" style=\"font-size: 0.8em; letter-spacing: 1px\">\n",
       "        <textPath xlink:href=\"#arrow-3e495b38bf5a440d8bf89b83da7cc4a8-0-13\" class=\"displacy-label\" startOffset=\"50%\" side=\"left\" fill=\"currentColor\" text-anchor=\"middle\">nsubj</textPath>\n",
       "    </text>\n",
       "    <path class=\"displacy-arrowhead\" d=\"M2520,441.5 L2512,429.5 2528,429.5\" fill=\"currentColor\"/>\n",
       "</g>\n",
       "\n",
       "<g class=\"displacy-arrow\">\n",
       "    <path class=\"displacy-arc\" id=\"arrow-3e495b38bf5a440d8bf89b83da7cc4a8-0-14\" stroke-width=\"2px\" d=\"M2695,439.5 C2695,352.0 2830.0,352.0 2830.0,439.5\" fill=\"none\" stroke=\"currentColor\"/>\n",
       "    <text dy=\"1.25em\" style=\"font-size: 0.8em; letter-spacing: 1px\">\n",
       "        <textPath xlink:href=\"#arrow-3e495b38bf5a440d8bf89b83da7cc4a8-0-14\" class=\"displacy-label\" startOffset=\"50%\" side=\"left\" fill=\"currentColor\" text-anchor=\"middle\">aux</textPath>\n",
       "    </text>\n",
       "    <path class=\"displacy-arrowhead\" d=\"M2695,441.5 L2687,429.5 2703,429.5\" fill=\"currentColor\"/>\n",
       "</g>\n",
       "\n",
       "<g class=\"displacy-arrow\">\n",
       "    <path class=\"displacy-arc\" id=\"arrow-3e495b38bf5a440d8bf89b83da7cc4a8-0-15\" stroke-width=\"2px\" d=\"M2345,439.5 C2345,177.0 2840.0,177.0 2840.0,439.5\" fill=\"none\" stroke=\"currentColor\"/>\n",
       "    <text dy=\"1.25em\" style=\"font-size: 0.8em; letter-spacing: 1px\">\n",
       "        <textPath xlink:href=\"#arrow-3e495b38bf5a440d8bf89b83da7cc4a8-0-15\" class=\"displacy-label\" startOffset=\"50%\" side=\"left\" fill=\"currentColor\" text-anchor=\"middle\">ccomp</textPath>\n",
       "    </text>\n",
       "    <path class=\"displacy-arrowhead\" d=\"M2840.0,441.5 L2848.0,429.5 2832.0,429.5\" fill=\"currentColor\"/>\n",
       "</g>\n",
       "\n",
       "<g class=\"displacy-arrow\">\n",
       "    <path class=\"displacy-arc\" id=\"arrow-3e495b38bf5a440d8bf89b83da7cc4a8-0-16\" stroke-width=\"2px\" d=\"M2870,439.5 C2870,352.0 3005.0,352.0 3005.0,439.5\" fill=\"none\" stroke=\"currentColor\"/>\n",
       "    <text dy=\"1.25em\" style=\"font-size: 0.8em; letter-spacing: 1px\">\n",
       "        <textPath xlink:href=\"#arrow-3e495b38bf5a440d8bf89b83da7cc4a8-0-16\" class=\"displacy-label\" startOffset=\"50%\" side=\"left\" fill=\"currentColor\" text-anchor=\"middle\">prep</textPath>\n",
       "    </text>\n",
       "    <path class=\"displacy-arrowhead\" d=\"M3005.0,441.5 L3013.0,429.5 2997.0,429.5\" fill=\"currentColor\"/>\n",
       "</g>\n",
       "\n",
       "<g class=\"displacy-arrow\">\n",
       "    <path class=\"displacy-arc\" id=\"arrow-3e495b38bf5a440d8bf89b83da7cc4a8-0-17\" stroke-width=\"2px\" d=\"M3220,439.5 C3220,264.5 3535.0,264.5 3535.0,439.5\" fill=\"none\" stroke=\"currentColor\"/>\n",
       "    <text dy=\"1.25em\" style=\"font-size: 0.8em; letter-spacing: 1px\">\n",
       "        <textPath xlink:href=\"#arrow-3e495b38bf5a440d8bf89b83da7cc4a8-0-17\" class=\"displacy-label\" startOffset=\"50%\" side=\"left\" fill=\"currentColor\" text-anchor=\"middle\">det</textPath>\n",
       "    </text>\n",
       "    <path class=\"displacy-arrowhead\" d=\"M3220,441.5 L3212,429.5 3228,429.5\" fill=\"currentColor\"/>\n",
       "</g>\n",
       "\n",
       "<g class=\"displacy-arrow\">\n",
       "    <path class=\"displacy-arc\" id=\"arrow-3e495b38bf5a440d8bf89b83da7cc4a8-0-18\" stroke-width=\"2px\" d=\"M3395,439.5 C3395,352.0 3530.0,352.0 3530.0,439.5\" fill=\"none\" stroke=\"currentColor\"/>\n",
       "    <text dy=\"1.25em\" style=\"font-size: 0.8em; letter-spacing: 1px\">\n",
       "        <textPath xlink:href=\"#arrow-3e495b38bf5a440d8bf89b83da7cc4a8-0-18\" class=\"displacy-label\" startOffset=\"50%\" side=\"left\" fill=\"currentColor\" text-anchor=\"middle\">compound</textPath>\n",
       "    </text>\n",
       "    <path class=\"displacy-arrowhead\" d=\"M3395,441.5 L3387,429.5 3403,429.5\" fill=\"currentColor\"/>\n",
       "</g>\n",
       "\n",
       "<g class=\"displacy-arrow\">\n",
       "    <path class=\"displacy-arc\" id=\"arrow-3e495b38bf5a440d8bf89b83da7cc4a8-0-19\" stroke-width=\"2px\" d=\"M3045,439.5 C3045,177.0 3540.0,177.0 3540.0,439.5\" fill=\"none\" stroke=\"currentColor\"/>\n",
       "    <text dy=\"1.25em\" style=\"font-size: 0.8em; letter-spacing: 1px\">\n",
       "        <textPath xlink:href=\"#arrow-3e495b38bf5a440d8bf89b83da7cc4a8-0-19\" class=\"displacy-label\" startOffset=\"50%\" side=\"left\" fill=\"currentColor\" text-anchor=\"middle\">pobj</textPath>\n",
       "    </text>\n",
       "    <path class=\"displacy-arrowhead\" d=\"M3540.0,441.5 L3548.0,429.5 3532.0,429.5\" fill=\"currentColor\"/>\n",
       "</g>\n",
       "\n",
       "<g class=\"displacy-arrow\">\n",
       "    <path class=\"displacy-arc\" id=\"arrow-3e495b38bf5a440d8bf89b83da7cc4a8-0-20\" stroke-width=\"2px\" d=\"M2870,439.5 C2870,89.5 3720.0,89.5 3720.0,439.5\" fill=\"none\" stroke=\"currentColor\"/>\n",
       "    <text dy=\"1.25em\" style=\"font-size: 0.8em; letter-spacing: 1px\">\n",
       "        <textPath xlink:href=\"#arrow-3e495b38bf5a440d8bf89b83da7cc4a8-0-20\" class=\"displacy-label\" startOffset=\"50%\" side=\"left\" fill=\"currentColor\" text-anchor=\"middle\">advmod</textPath>\n",
       "    </text>\n",
       "    <path class=\"displacy-arrowhead\" d=\"M3720.0,441.5 L3728.0,429.5 3712.0,429.5\" fill=\"currentColor\"/>\n",
       "</g>\n",
       "\n",
       "<g class=\"displacy-arrow\">\n",
       "    <path class=\"displacy-arc\" id=\"arrow-3e495b38bf5a440d8bf89b83da7cc4a8-0-21\" stroke-width=\"2px\" d=\"M3920,439.5 C3920,352.0 4055.0,352.0 4055.0,439.5\" fill=\"none\" stroke=\"currentColor\"/>\n",
       "    <text dy=\"1.25em\" style=\"font-size: 0.8em; letter-spacing: 1px\">\n",
       "        <textPath xlink:href=\"#arrow-3e495b38bf5a440d8bf89b83da7cc4a8-0-21\" class=\"displacy-label\" startOffset=\"50%\" side=\"left\" fill=\"currentColor\" text-anchor=\"middle\">advmod</textPath>\n",
       "    </text>\n",
       "    <path class=\"displacy-arrowhead\" d=\"M3920,441.5 L3912,429.5 3928,429.5\" fill=\"currentColor\"/>\n",
       "</g>\n",
       "\n",
       "<g class=\"displacy-arrow\">\n",
       "    <path class=\"displacy-arc\" id=\"arrow-3e495b38bf5a440d8bf89b83da7cc4a8-0-22\" stroke-width=\"2px\" d=\"M2870,439.5 C2870,2.0 4075.0,2.0 4075.0,439.5\" fill=\"none\" stroke=\"currentColor\"/>\n",
       "    <text dy=\"1.25em\" style=\"font-size: 0.8em; letter-spacing: 1px\">\n",
       "        <textPath xlink:href=\"#arrow-3e495b38bf5a440d8bf89b83da7cc4a8-0-22\" class=\"displacy-label\" startOffset=\"50%\" side=\"left\" fill=\"currentColor\" text-anchor=\"middle\">prep</textPath>\n",
       "    </text>\n",
       "    <path class=\"displacy-arrowhead\" d=\"M4075.0,441.5 L4083.0,429.5 4067.0,429.5\" fill=\"currentColor\"/>\n",
       "</g>\n",
       "\n",
       "<g class=\"displacy-arrow\">\n",
       "    <path class=\"displacy-arc\" id=\"arrow-3e495b38bf5a440d8bf89b83da7cc4a8-0-23\" stroke-width=\"2px\" d=\"M4270,439.5 C4270,352.0 4405.0,352.0 4405.0,439.5\" fill=\"none\" stroke=\"currentColor\"/>\n",
       "    <text dy=\"1.25em\" style=\"font-size: 0.8em; letter-spacing: 1px\">\n",
       "        <textPath xlink:href=\"#arrow-3e495b38bf5a440d8bf89b83da7cc4a8-0-23\" class=\"displacy-label\" startOffset=\"50%\" side=\"left\" fill=\"currentColor\" text-anchor=\"middle\">det</textPath>\n",
       "    </text>\n",
       "    <path class=\"displacy-arrowhead\" d=\"M4270,441.5 L4262,429.5 4278,429.5\" fill=\"currentColor\"/>\n",
       "</g>\n",
       "\n",
       "<g class=\"displacy-arrow\">\n",
       "    <path class=\"displacy-arc\" id=\"arrow-3e495b38bf5a440d8bf89b83da7cc4a8-0-24\" stroke-width=\"2px\" d=\"M4095,439.5 C4095,264.5 4410.0,264.5 4410.0,439.5\" fill=\"none\" stroke=\"currentColor\"/>\n",
       "    <text dy=\"1.25em\" style=\"font-size: 0.8em; letter-spacing: 1px\">\n",
       "        <textPath xlink:href=\"#arrow-3e495b38bf5a440d8bf89b83da7cc4a8-0-24\" class=\"displacy-label\" startOffset=\"50%\" side=\"left\" fill=\"currentColor\" text-anchor=\"middle\">pobj</textPath>\n",
       "    </text>\n",
       "    <path class=\"displacy-arrowhead\" d=\"M4410.0,441.5 L4418.0,429.5 4402.0,429.5\" fill=\"currentColor\"/>\n",
       "</g>\n",
       "\n",
       "<g class=\"displacy-arrow\">\n",
       "    <path class=\"displacy-arc\" id=\"arrow-3e495b38bf5a440d8bf89b83da7cc4a8-0-25\" stroke-width=\"2px\" d=\"M4445,439.5 C4445,352.0 4580.0,352.0 4580.0,439.5\" fill=\"none\" stroke=\"currentColor\"/>\n",
       "    <text dy=\"1.25em\" style=\"font-size: 0.8em; letter-spacing: 1px\">\n",
       "        <textPath xlink:href=\"#arrow-3e495b38bf5a440d8bf89b83da7cc4a8-0-25\" class=\"displacy-label\" startOffset=\"50%\" side=\"left\" fill=\"currentColor\" text-anchor=\"middle\">cc</textPath>\n",
       "    </text>\n",
       "    <path class=\"displacy-arrowhead\" d=\"M4580.0,441.5 L4588.0,429.5 4572.0,429.5\" fill=\"currentColor\"/>\n",
       "</g>\n",
       "\n",
       "<g class=\"displacy-arrow\">\n",
       "    <path class=\"displacy-arc\" id=\"arrow-3e495b38bf5a440d8bf89b83da7cc4a8-0-26\" stroke-width=\"2px\" d=\"M4795,439.5 C4795,352.0 4930.0,352.0 4930.0,439.5\" fill=\"none\" stroke=\"currentColor\"/>\n",
       "    <text dy=\"1.25em\" style=\"font-size: 0.8em; letter-spacing: 1px\">\n",
       "        <textPath xlink:href=\"#arrow-3e495b38bf5a440d8bf89b83da7cc4a8-0-26\" class=\"displacy-label\" startOffset=\"50%\" side=\"left\" fill=\"currentColor\" text-anchor=\"middle\">amod</textPath>\n",
       "    </text>\n",
       "    <path class=\"displacy-arrowhead\" d=\"M4795,441.5 L4787,429.5 4803,429.5\" fill=\"currentColor\"/>\n",
       "</g>\n",
       "\n",
       "<g class=\"displacy-arrow\">\n",
       "    <path class=\"displacy-arc\" id=\"arrow-3e495b38bf5a440d8bf89b83da7cc4a8-0-27\" stroke-width=\"2px\" d=\"M4445,439.5 C4445,264.5 4935.0,264.5 4935.0,439.5\" fill=\"none\" stroke=\"currentColor\"/>\n",
       "    <text dy=\"1.25em\" style=\"font-size: 0.8em; letter-spacing: 1px\">\n",
       "        <textPath xlink:href=\"#arrow-3e495b38bf5a440d8bf89b83da7cc4a8-0-27\" class=\"displacy-label\" startOffset=\"50%\" side=\"left\" fill=\"currentColor\" text-anchor=\"middle\">conj</textPath>\n",
       "    </text>\n",
       "    <path class=\"displacy-arrowhead\" d=\"M4935.0,441.5 L4943.0,429.5 4927.0,429.5\" fill=\"currentColor\"/>\n",
       "</g>\n",
       "</svg></span>"
      ],
      "text/plain": [
       "<IPython.core.display.HTML object>"
      ]
     },
     "metadata": {},
     "output_type": "display_data"
    }
   ],
   "source": [
    "from spacy import displacy\n",
    "displacy.render(docs[0], style=\"dep\", jupyter=True)"
   ]
  },
  {
   "cell_type": "markdown",
   "id": "5ab688f0",
   "metadata": {},
   "source": [
    "## BONUS: searching text by grammatical dependancy \n",
    "See this tutorial for more info: https://applied-language-technology.mooc.fi/html/notebooks/part_iii/03_pattern_matching.html"
   ]
  },
  {
   "cell_type": "code",
   "execution_count": 122,
   "id": "4ccdec1f",
   "metadata": {},
   "outputs": [],
   "source": [
    "# first, join the docs into one string to process with matcher\n",
    "# then run nlp() again\n",
    "\n",
    "abstracts_string = ' '.join(abstracts)\n",
    "doc = nlp(abstracts_string)"
   ]
  },
  {
   "cell_type": "code",
   "execution_count": 123,
   "id": "7803611b",
   "metadata": {},
   "outputs": [
    {
     "data": {
      "text/plain": [
       "The decision comes as political pressure mounts to cut down on programs that allow migrants to stay in the United States temporarily, even without a visa or green card. The country’s defense ministry said the military officers who opened fire might have mistaken the migrants for cartel"
      ]
     },
     "execution_count": 123,
     "metadata": {},
     "output_type": "execute_result"
    }
   ],
   "source": [
    "doc[:50]"
   ]
  },
  {
   "cell_type": "code",
   "execution_count": 124,
   "id": "f4531901",
   "metadata": {},
   "outputs": [
    {
     "data": {
      "text/plain": [
       "<spacy.matcher.matcher.Matcher at 0x320449cf0>"
      ]
     },
     "execution_count": 124,
     "metadata": {},
     "output_type": "execute_result"
    }
   ],
   "source": [
    "from spacy.matcher import Matcher\n",
    "\n",
    "# Create a Matcher and provide model vocabulary; assign result under the variable 'matcher'\n",
    "matcher = Matcher(nlp.vocab)\n",
    "\n",
    "# Call the variable to examine the object\n",
    "matcher"
   ]
  },
  {
   "cell_type": "code",
   "execution_count": 125,
   "id": "ef71c03b",
   "metadata": {},
   "outputs": [],
   "source": [
    "# Define a list with nested dictionaries that contains the pattern to be matched\n",
    "pronoun_verb = [{'POS': 'PRON'}, {'POS': 'VERB'}]"
   ]
  },
  {
   "cell_type": "code",
   "execution_count": 126,
   "id": "75567e72",
   "metadata": {},
   "outputs": [],
   "source": [
    "# Add the pattern to the matcher under the name 'pronoun+verb'\n",
    "matcher.add(\"pronoun+verb\", patterns=[pronoun_verb])"
   ]
  },
  {
   "cell_type": "code",
   "execution_count": 127,
   "id": "502ab54e",
   "metadata": {},
   "outputs": [],
   "source": [
    "# Apply the Matcher to the Doc object under 'doc'; provide the argument\n",
    "# 'as_spans' and set its value to True to get Spans as output\\\n",
    "\n",
    "matches = matcher(doc)\n",
    "\n",
    "# Call the variable to examine the output\n",
    "# result"
   ]
  },
  {
   "cell_type": "code",
   "execution_count": 128,
   "id": "2d44bdd7",
   "metadata": {},
   "outputs": [
    {
     "data": {
      "text/plain": [
       "[(12298179334642351811, 12, 14),\n",
       " (12298179334642351811, 40, 42),\n",
       " (12298179334642351811, 168, 170),\n",
       " (12298179334642351811, 265, 267),\n",
       " (12298179334642351811, 318, 320),\n",
       " (12298179334642351811, 482, 484),\n",
       " (12298179334642351811, 518, 520),\n",
       " (12298179334642351811, 586, 588),\n",
       " (12298179334642351811, 588, 590),\n",
       " (12298179334642351811, 598, 600),\n",
       " (12298179334642351811, 638, 640),\n",
       " (12298179334642351811, 822, 824),\n",
       " (12298179334642351811, 916, 918),\n",
       " (12298179334642351811, 957, 959),\n",
       " (12298179334642351811, 995, 997),\n",
       " (12298179334642351811, 1072, 1074),\n",
       " (12298179334642351811, 1092, 1094),\n",
       " (12298179334642351811, 1129, 1131),\n",
       " (12298179334642351811, 1202, 1204),\n",
       " (12298179334642351811, 1300, 1302)]"
      ]
     },
     "execution_count": 128,
     "metadata": {},
     "output_type": "execute_result"
    }
   ],
   "source": [
    "matches"
   ]
  },
  {
   "cell_type": "code",
   "execution_count": 129,
   "id": "eba2b577",
   "metadata": {},
   "outputs": [
    {
     "name": "stdout",
     "output_type": "stream",
     "text": [
      "pronoun+verb that allow\n",
      "pronoun+verb who opened\n",
      "pronoun+verb some say\n",
      "pronoun+verb that allow\n",
      "pronoun+verb who echoed\n",
      "pronoun+verb she visited\n",
      "pronoun+verb he conceded\n",
      "pronoun+verb that helped\n",
      "pronoun+verb him win\n",
      "pronoun+verb there was\n",
      "pronoun+verb which appears\n",
      "pronoun+verb She used\n",
      "pronoun+verb them did\n",
      "pronoun+verb We cover\n",
      "pronoun+verb they thought\n",
      "pronoun+verb that sank\n",
      "pronoun+verb that come\n",
      "pronoun+verb him prevail\n",
      "pronoun+verb he declared\n",
      "pronoun+verb he described\n"
     ]
    }
   ],
   "source": [
    "for match_id, start, end in matches:\n",
    "    string_id = doc.vocab.strings[match_id]  # Look up string ID\n",
    "    span = doc[start:end]\n",
    "    print(string_id, span.text)"
   ]
  }
 ],
 "metadata": {
  "kernelspec": {
   "display_name": "Python 3 (ipykernel)",
   "language": "python",
   "name": "python3"
  },
  "language_info": {
   "codemirror_mode": {
    "name": "ipython",
    "version": 3
   },
   "file_extension": ".py",
   "mimetype": "text/x-python",
   "name": "python",
   "nbconvert_exporter": "python",
   "pygments_lexer": "ipython3",
   "version": "3.13.0"
  }
 },
 "nbformat": 4,
 "nbformat_minor": 5
}