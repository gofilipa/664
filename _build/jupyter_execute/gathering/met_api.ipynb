{
 "cells": [
  {
   "cell_type": "markdown",
   "id": "259bc4c7",
   "metadata": {},
   "source": [
    "# The MET API\n",
    "This session examines how to use the MET API in practice to gather and explore data. \n",
    "\n",
    "Through the session, we will:\n",
    "- learn the components of an API request: the root, path, and endpoint\n",
    "- practice with a few handy functions for examining request data\n",
    "    - `type()` and `dir()`\n",
    "- learn about a super important data type, the `dictionary` or `dict`, and how to access items within that structure.\n",
    "- create more requests with that data\n",
    "    - `f-strings`\n",
    "- sort through request data using loops and conditionals\n",
    "- transform our data into a dataframe, for doing simple data analysis"
   ]
  },
  {
   "cell_type": "code",
   "execution_count": 1,
   "id": "b3e6f391",
   "metadata": {},
   "outputs": [],
   "source": [
    "import requests"
   ]
  },
  {
   "cell_type": "code",
   "execution_count": 2,
   "id": "3c6083d9",
   "metadata": {},
   "outputs": [],
   "source": [
    "# the structure of our request: base_url, path, query\n",
    "\n",
    "base_url = \"https://collectionapi.metmuseum.org\"\n",
    "path = \"/public/collection/v1/search\"\n",
    "query = \"?q=woman\""
   ]
  },
  {
   "cell_type": "markdown",
   "id": "60bd8de3",
   "metadata": {},
   "source": [
    "## the anatomy of an API request:\n",
    "- the *root* which consists of the base URL. \n",
    "   - https://collectionapi.metmuseum.org/\n",
    "- the *path* which consists of a directory structure (file structure) where the data is held.\n",
    "   - /public/collection/v1/objects\n",
    "   - /public/collection/v1/departments \n",
    "   - /public/collection/v1/search\n",
    "- the *parameter* or the *endpoint* which is the specific request. For example, a *query parameter* takes a search term following `?q=`, like: \n",
    "   - ?q=woman\n",
    "   - ?q=van+gogh\n",
    "\n",
    "A complete sample request that searches for the \"woman\" keyword would be:\n",
    "- [`https://collectionapi.metmuseum.org/public/collection/v1/search?q=woman`](https://collectionapi.metmuseum.org/public/collection/v1/search?q=woman)\n",
    "  \n",
    "\n",
    "To read more about the MET API, see here: https://metmuseum.github.io/"
   ]
  },
  {
   "cell_type": "code",
   "execution_count": 3,
   "id": "7a12dfd1",
   "metadata": {},
   "outputs": [],
   "source": [
    "# the request, saved to a variable\n",
    "\n",
    "url = f'{base_url}{path}{query}'\n",
    "women = requests.get(url)"
   ]
  },
  {
   "cell_type": "markdown",
   "id": "2b24473e",
   "metadata": {},
   "source": [
    "## inspecting objects: two functions: `type()` and `dir()`\n",
    "Using `type()` and `dir()` to better understand our response data. The end goal is to sift through the data to discover interesting things."
   ]
  },
  {
   "cell_type": "code",
   "execution_count": 4,
   "id": "bdd07d09",
   "metadata": {},
   "outputs": [
    {
     "data": {
      "text/plain": [
       "requests.models.Response"
      ]
     },
     "execution_count": 4,
     "metadata": {},
     "output_type": "execute_result"
    }
   ],
   "source": [
    "# what type of object do we have?\n",
    "\n",
    "type(women)"
   ]
  },
  {
   "cell_type": "markdown",
   "id": "88b36fd6-a7ce-49e7-8ff3-b6bf22fc9459",
   "metadata": {},
   "source": [
    "What can we do with a `Response` object? Spend a couple of minutes exploring the different methods."
   ]
  },
  {
   "cell_type": "code",
   "execution_count": 5,
   "id": "130232ad",
   "metadata": {},
   "outputs": [
    {
     "data": {
      "text/plain": [
       "['__attrs__',\n",
       " '__bool__',\n",
       " '__class__',\n",
       " '__delattr__',\n",
       " '__dict__',\n",
       " '__dir__',\n",
       " '__doc__',\n",
       " '__enter__',\n",
       " '__eq__',\n",
       " '__exit__',\n",
       " '__firstlineno__',\n",
       " '__format__',\n",
       " '__ge__',\n",
       " '__getattribute__',\n",
       " '__getstate__',\n",
       " '__gt__',\n",
       " '__hash__',\n",
       " '__init__',\n",
       " '__init_subclass__',\n",
       " '__iter__',\n",
       " '__le__',\n",
       " '__lt__',\n",
       " '__module__',\n",
       " '__ne__',\n",
       " '__new__',\n",
       " '__nonzero__',\n",
       " '__reduce__',\n",
       " '__reduce_ex__',\n",
       " '__repr__',\n",
       " '__setattr__',\n",
       " '__setstate__',\n",
       " '__sizeof__',\n",
       " '__static_attributes__',\n",
       " '__str__',\n",
       " '__subclasshook__',\n",
       " '__weakref__',\n",
       " '_content',\n",
       " '_content_consumed',\n",
       " '_next',\n",
       " 'apparent_encoding',\n",
       " 'close',\n",
       " 'connection',\n",
       " 'content',\n",
       " 'cookies',\n",
       " 'elapsed',\n",
       " 'encoding',\n",
       " 'headers',\n",
       " 'history',\n",
       " 'is_permanent_redirect',\n",
       " 'is_redirect',\n",
       " 'iter_content',\n",
       " 'iter_lines',\n",
       " 'json',\n",
       " 'links',\n",
       " 'next',\n",
       " 'ok',\n",
       " 'raise_for_status',\n",
       " 'raw',\n",
       " 'reason',\n",
       " 'request',\n",
       " 'status_code',\n",
       " 'text',\n",
       " 'url']"
      ]
     },
     "execution_count": 5,
     "metadata": {},
     "output_type": "execute_result"
    }
   ],
   "source": [
    "dir(women)"
   ]
  },
  {
   "cell_type": "code",
   "execution_count": 6,
   "id": "51cbb556-febc-4e60-99c1-2d5fe2d75378",
   "metadata": {},
   "outputs": [
    {
     "data": {
      "text/plain": [
       "{'Content-Type': 'application/json; charset=UTF-8', 'Vary': 'Origin', 'Access-Control-Allow-Origin': '*', 'X-Powered-By': 'ARR/3.0, ASP.NET', 'Date': 'Wed, 05 Mar 2025 19:18:11 GMT', 'Set-Cookie': 'visid_incap_1662004=G4juSjhIQ725URQ31IESZnOjyGcAAAAAQUIPAAAAAABq7MYDK4nn9RsrICCEnaXU; expires=Thu, 05 Mar 2026 08:54:45 GMT; HttpOnly; path=/; Domain=.metmuseum.org, incap_ses_159_1662004=aQHYIcS4J1wcb7uN6eE0AnOjyGcAAAAAY1Ptdi1blg78zi3KnkJc/g==; path=/; Domain=.metmuseum.org', 'X-CDN': 'Imperva', 'Content-Encoding': 'gzip', 'Transfer-Encoding': 'chunked', 'X-Iinfo': '14-31728906-31728908 NNYN CT(4 17 0) RT(1741202291148 10) q(0 0 0 -1) r(5 5) U12'}"
      ]
     },
     "execution_count": 6,
     "metadata": {},
     "output_type": "execute_result"
    }
   ],
   "source": [
    "women.headers"
   ]
  },
  {
   "cell_type": "code",
   "execution_count": 7,
   "id": "5a831bf2",
   "metadata": {},
   "outputs": [
    {
     "data": {
      "text/plain": [
       "<urllib3.response.HTTPResponse at 0x1057ea8f0>"
      ]
     },
     "execution_count": 7,
     "metadata": {},
     "output_type": "execute_result"
    }
   ],
   "source": [
    "women.raw"
   ]
  },
  {
   "cell_type": "code",
   "execution_count": 8,
   "id": "39571c62",
   "metadata": {},
   "outputs": [
    {
     "data": {
      "text/plain": [
       "datetime.timedelta(microseconds=576337)"
      ]
     },
     "execution_count": 8,
     "metadata": {},
     "output_type": "execute_result"
    }
   ],
   "source": [
    "women.elapsed"
   ]
  },
  {
   "cell_type": "code",
   "execution_count": 9,
   "id": "1b51a767",
   "metadata": {},
   "outputs": [
    {
     "data": {
      "text/plain": [
       "True"
      ]
     },
     "execution_count": 9,
     "metadata": {},
     "output_type": "execute_result"
    }
   ],
   "source": [
    "women.ok"
   ]
  },
  {
   "cell_type": "code",
   "execution_count": 10,
   "id": "4139e4ea-476b-4d95-9e7e-adae1576d214",
   "metadata": {},
   "outputs": [
    {
     "data": {
      "text/plain": [
       "<Response [200]>"
      ]
     },
     "execution_count": 10,
     "metadata": {},
     "output_type": "execute_result"
    }
   ],
   "source": [
    "women"
   ]
  },
  {
   "cell_type": "markdown",
   "id": "48183d1b",
   "metadata": {},
   "source": [
    "## .json() to parse our response object"
   ]
  },
  {
   "cell_type": "code",
   "execution_count": 11,
   "id": "8209936b",
   "metadata": {},
   "outputs": [],
   "source": [
    "# why do we need to add parenthesis? \n",
    "parsed = women.json()"
   ]
  },
  {
   "cell_type": "code",
   "execution_count": 12,
   "id": "f6571d6b",
   "metadata": {},
   "outputs": [
    {
     "data": {
      "text/plain": [
       "dict"
      ]
     },
     "execution_count": 12,
     "metadata": {},
     "output_type": "execute_result"
    }
   ],
   "source": [
    "type(parsed)"
   ]
  },
  {
   "cell_type": "markdown",
   "id": "4cb1ae61",
   "metadata": {},
   "source": [
    "what is a `dict`? 2D data. We will look more closely soon."
   ]
  },
  {
   "cell_type": "code",
   "execution_count": 13,
   "id": "e173d1b7",
   "metadata": {},
   "outputs": [
    {
     "data": {
      "text/plain": [
       "['__class__',\n",
       " '__class_getitem__',\n",
       " '__contains__',\n",
       " '__delattr__',\n",
       " '__delitem__',\n",
       " '__dir__',\n",
       " '__doc__',\n",
       " '__eq__',\n",
       " '__format__',\n",
       " '__ge__',\n",
       " '__getattribute__',\n",
       " '__getitem__',\n",
       " '__getstate__',\n",
       " '__gt__',\n",
       " '__hash__',\n",
       " '__init__',\n",
       " '__init_subclass__',\n",
       " '__ior__',\n",
       " '__iter__',\n",
       " '__le__',\n",
       " '__len__',\n",
       " '__lt__',\n",
       " '__ne__',\n",
       " '__new__',\n",
       " '__or__',\n",
       " '__reduce__',\n",
       " '__reduce_ex__',\n",
       " '__repr__',\n",
       " '__reversed__',\n",
       " '__ror__',\n",
       " '__setattr__',\n",
       " '__setitem__',\n",
       " '__sizeof__',\n",
       " '__str__',\n",
       " '__subclasshook__',\n",
       " 'clear',\n",
       " 'copy',\n",
       " 'fromkeys',\n",
       " 'get',\n",
       " 'items',\n",
       " 'keys',\n",
       " 'pop',\n",
       " 'popitem',\n",
       " 'setdefault',\n",
       " 'update',\n",
       " 'values']"
      ]
     },
     "execution_count": 13,
     "metadata": {},
     "output_type": "execute_result"
    }
   ],
   "source": [
    "dir(parsed)"
   ]
  },
  {
   "cell_type": "code",
   "execution_count": 14,
   "id": "00cb3ec7",
   "metadata": {},
   "outputs": [
    {
     "data": {
      "text/plain": [
       "dict_keys(['total', 'objectIDs'])"
      ]
     },
     "execution_count": 14,
     "metadata": {},
     "output_type": "execute_result"
    }
   ],
   "source": [
    "parsed.keys()"
   ]
  },
  {
   "cell_type": "markdown",
   "id": "defc1444-162b-43fc-a2bf-3aaff6e3e681",
   "metadata": {},
   "source": [
    "We access items from a `dict` with brackets`[]`."
   ]
  },
  {
   "cell_type": "markdown",
   "id": "bdd23e7e",
   "metadata": {},
   "source": [
    "## accessing items from a `dict`\n",
    "What is a `dictionary` anyway?"
   ]
  },
  {
   "cell_type": "code",
   "execution_count": 15,
   "id": "3e47c956",
   "metadata": {},
   "outputs": [],
   "source": [
    "instructor = {\n",
    "    'name': ['filipa calado', 'patrick smyth', 'stephen zweibel'],\n",
    "    'age': [35, 37, 38],\n",
    "    'degree': ['literature', 'literature', 'library science'],\n",
    "    'job': ['digital scholarship specialist', 'startup', 'digital scholarship librarian']\n",
    "}"
   ]
  },
  {
   "cell_type": "code",
   "execution_count": 16,
   "id": "8c05e31f",
   "metadata": {},
   "outputs": [
    {
     "data": {
      "text/plain": [
       "dict_keys(['name', 'age', 'degree', 'job'])"
      ]
     },
     "execution_count": 16,
     "metadata": {},
     "output_type": "execute_result"
    }
   ],
   "source": [
    "# see the keys\n",
    "\n",
    "instructor.keys()"
   ]
  },
  {
   "cell_type": "code",
   "execution_count": 17,
   "id": "572cbb59",
   "metadata": {},
   "outputs": [
    {
     "data": {
      "text/plain": [
       "['filipa calado', 'patrick smyth', 'stephen zweibel']"
      ]
     },
     "execution_count": 17,
     "metadata": {},
     "output_type": "execute_result"
    }
   ],
   "source": [
    "# access items through brackets containing keys\n",
    "\n",
    "instructor['name']"
   ]
  },
  {
   "cell_type": "markdown",
   "id": "60431bf9",
   "metadata": {},
   "source": [
    "### similar to a DataFrame in pandas"
   ]
  },
  {
   "cell_type": "code",
   "execution_count": 18,
   "id": "1d022e06",
   "metadata": {},
   "outputs": [
    {
     "ename": "ModuleNotFoundError",
     "evalue": "No module named 'pandas'",
     "output_type": "error",
     "traceback": [
      "\u001b[0;31m---------------------------------------------------------------------------\u001b[0m",
      "\u001b[0;31mModuleNotFoundError\u001b[0m                       Traceback (most recent call last)",
      "Cell \u001b[0;32mIn[18], line 1\u001b[0m\n\u001b[0;32m----> 1\u001b[0m \u001b[38;5;28;01mimport\u001b[39;00m \u001b[38;5;21;01mpandas\u001b[39;00m \u001b[38;5;28;01mas\u001b[39;00m \u001b[38;5;21;01mpd\u001b[39;00m\n\u001b[1;32m      2\u001b[0m df \u001b[38;5;241m=\u001b[39m pd\u001b[38;5;241m.\u001b[39mDataFrame(instructor)\n",
      "\u001b[0;31mModuleNotFoundError\u001b[0m: No module named 'pandas'"
     ]
    }
   ],
   "source": [
    "import pandas as pd\n",
    "df = pd.DataFrame(instructor)"
   ]
  },
  {
   "cell_type": "code",
   "execution_count": 21,
   "id": "068c2d62",
   "metadata": {},
   "outputs": [
    {
     "data": {
      "text/html": [
       "<div>\n",
       "<style scoped>\n",
       "    .dataframe tbody tr th:only-of-type {\n",
       "        vertical-align: middle;\n",
       "    }\n",
       "\n",
       "    .dataframe tbody tr th {\n",
       "        vertical-align: top;\n",
       "    }\n",
       "\n",
       "    .dataframe thead th {\n",
       "        text-align: right;\n",
       "    }\n",
       "</style>\n",
       "<table border=\"1\" class=\"dataframe\">\n",
       "  <thead>\n",
       "    <tr style=\"text-align: right;\">\n",
       "      <th></th>\n",
       "      <th>name</th>\n",
       "      <th>age</th>\n",
       "      <th>degree</th>\n",
       "      <th>job</th>\n",
       "    </tr>\n",
       "  </thead>\n",
       "  <tbody>\n",
       "    <tr>\n",
       "      <th>0</th>\n",
       "      <td>filipa calado</td>\n",
       "      <td>35</td>\n",
       "      <td>literature</td>\n",
       "      <td>digital scholarship specialist</td>\n",
       "    </tr>\n",
       "    <tr>\n",
       "      <th>1</th>\n",
       "      <td>patrick smyth</td>\n",
       "      <td>37</td>\n",
       "      <td>literature</td>\n",
       "      <td>startup</td>\n",
       "    </tr>\n",
       "    <tr>\n",
       "      <th>2</th>\n",
       "      <td>stephen zweibel</td>\n",
       "      <td>38</td>\n",
       "      <td>library science</td>\n",
       "      <td>digital scholarship librarian</td>\n",
       "    </tr>\n",
       "  </tbody>\n",
       "</table>\n",
       "</div>"
      ],
      "text/plain": [
       "              name  age           degree                             job\n",
       "0    filipa calado   35       literature  digital scholarship specialist\n",
       "1    patrick smyth   37       literature                         startup\n",
       "2  stephen zweibel   38  library science   digital scholarship librarian"
      ]
     },
     "execution_count": 21,
     "metadata": {},
     "output_type": "execute_result"
    }
   ],
   "source": [
    "df"
   ]
  },
  {
   "cell_type": "code",
   "execution_count": 22,
   "id": "b1c25435",
   "metadata": {},
   "outputs": [
    {
     "data": {
      "text/plain": [
       "dict_keys(['total', 'objectIDs'])"
      ]
     },
     "execution_count": 22,
     "metadata": {},
     "output_type": "execute_result"
    }
   ],
   "source": [
    "# let's try with the first object\n",
    "\n",
    "parsed.keys()"
   ]
  },
  {
   "cell_type": "markdown",
   "id": "dca6d332-2bbb-4ace-b06d-437f0dd4e406",
   "metadata": {},
   "source": [
    "We access items from a dict using brackets."
   ]
  },
  {
   "cell_type": "code",
   "execution_count": 12,
   "id": "70b8fccd-b4af-4b3a-bf94-aaf99ba5c2f1",
   "metadata": {},
   "outputs": [
    {
     "data": {
      "text/plain": [
       "[483873,\n",
       " 207162,\n",
       " 247582,\n",
       " 283274,\n",
       " 483877,\n",
       " 685333,\n",
       " 494305,\n",
       " 481438,\n",
       " 374147,\n",
       " 489510]"
      ]
     },
     "execution_count": 12,
     "metadata": {},
     "output_type": "execute_result"
    }
   ],
   "source": [
    "# just printing out the first ten\n",
    "parsed['objectIDs'][:10]"
   ]
  },
  {
   "cell_type": "code",
   "execution_count": 13,
   "id": "26268793-61d1-45e3-bc84-3aec8d0541c8",
   "metadata": {},
   "outputs": [
    {
     "data": {
      "text/plain": [
       "list"
      ]
     },
     "execution_count": 13,
     "metadata": {},
     "output_type": "execute_result"
    }
   ],
   "source": [
    "type(parsed['objectIDs'])"
   ]
  },
  {
   "cell_type": "code",
   "execution_count": 14,
   "id": "33a12650-218c-461c-a30f-d5fc134ac1d4",
   "metadata": {},
   "outputs": [
    {
     "data": {
      "text/plain": [
       "483873"
      ]
     },
     "execution_count": 14,
     "metadata": {},
     "output_type": "execute_result"
    }
   ],
   "source": [
    "parsed['objectIDs'][0]"
   ]
  },
  {
   "cell_type": "markdown",
   "id": "e6b8e092-c4de-4282-808a-07427f149d1a",
   "metadata": {},
   "source": [
    "### individual challenge:\n",
    "Reading the docs for the \"Search\" endpoint, play around with the different parameters. Try do searches for `isHighlight`, or `dateBegin and dateEnd`. You can layer parameters by using the `&` character in between them."
   ]
  },
  {
   "cell_type": "markdown",
   "id": "c8849027",
   "metadata": {},
   "source": [
    "## using the \"objects\" endpoint\n",
    "So far, we have been using the \"search\" endpoint for our requests. Now, we will create a new request using the \"objects\" endpoint\". with data from the original request"
   ]
  },
  {
   "cell_type": "markdown",
   "id": "e7ff3a45-c1eb-49ea-9e19-2010f1cbf195",
   "metadata": {},
   "source": [
    "Now we past the URL for \"object\" (rather than search), and we do it within an f-string, putting the variable \"first\" into curly brackets at the end. "
   ]
  },
  {
   "cell_type": "code",
   "execution_count": 17,
   "id": "7b8240dc-be52-467d-8542-bcc7a9c21258",
   "metadata": {},
   "outputs": [],
   "source": [
    "first = parsed['objectIDs'][0]\n",
    "path = '/public/collection/v1/objects/'"
   ]
  },
  {
   "cell_type": "code",
   "execution_count": 18,
   "id": "c249307e",
   "metadata": {},
   "outputs": [],
   "source": [
    "# the base_url stays the same, so we don't need to change it.\n",
    "\n",
    "url = f\"{base_url}{path}{first}\""
   ]
  },
  {
   "cell_type": "code",
   "execution_count": 19,
   "id": "b2a5254e",
   "metadata": {},
   "outputs": [],
   "source": [
    "# running the request\n",
    "\n",
    "first_object = requests.get(url)"
   ]
  },
  {
   "cell_type": "code",
   "execution_count": 20,
   "id": "ede663b2",
   "metadata": {},
   "outputs": [
    {
     "data": {
      "text/plain": [
       "<Response [200]>"
      ]
     },
     "execution_count": 20,
     "metadata": {},
     "output_type": "execute_result"
    }
   ],
   "source": [
    "# checking the resulting object\n",
    "\n",
    "first_object"
   ]
  },
  {
   "cell_type": "code",
   "execution_count": 21,
   "id": "25c06fcd",
   "metadata": {},
   "outputs": [
    {
     "data": {
      "text/plain": [
       "['__attrs__',\n",
       " '__bool__',\n",
       " '__class__',\n",
       " '__delattr__',\n",
       " '__dict__',\n",
       " '__dir__',\n",
       " '__doc__',\n",
       " '__enter__',\n",
       " '__eq__',\n",
       " '__exit__',\n",
       " '__format__',\n",
       " '__ge__',\n",
       " '__getattribute__',\n",
       " '__getstate__',\n",
       " '__gt__',\n",
       " '__hash__',\n",
       " '__init__',\n",
       " '__init_subclass__',\n",
       " '__iter__',\n",
       " '__le__',\n",
       " '__lt__',\n",
       " '__module__',\n",
       " '__ne__',\n",
       " '__new__',\n",
       " '__nonzero__',\n",
       " '__reduce__',\n",
       " '__reduce_ex__',\n",
       " '__repr__',\n",
       " '__setattr__',\n",
       " '__setstate__',\n",
       " '__sizeof__',\n",
       " '__str__',\n",
       " '__subclasshook__',\n",
       " '__weakref__',\n",
       " '_content',\n",
       " '_content_consumed',\n",
       " '_next',\n",
       " 'apparent_encoding',\n",
       " 'close',\n",
       " 'connection',\n",
       " 'content',\n",
       " 'cookies',\n",
       " 'elapsed',\n",
       " 'encoding',\n",
       " 'headers',\n",
       " 'history',\n",
       " 'is_permanent_redirect',\n",
       " 'is_redirect',\n",
       " 'iter_content',\n",
       " 'iter_lines',\n",
       " 'json',\n",
       " 'links',\n",
       " 'next',\n",
       " 'ok',\n",
       " 'raise_for_status',\n",
       " 'raw',\n",
       " 'reason',\n",
       " 'request',\n",
       " 'status_code',\n",
       " 'text',\n",
       " 'url']"
      ]
     },
     "execution_count": 21,
     "metadata": {},
     "output_type": "execute_result"
    }
   ],
   "source": [
    "dir(first_object)"
   ]
  },
  {
   "cell_type": "markdown",
   "id": "56b01586",
   "metadata": {},
   "source": [
    "look at the json for the first object"
   ]
  },
  {
   "cell_type": "code",
   "execution_count": 22,
   "id": "c53ae78d",
   "metadata": {},
   "outputs": [
    {
     "data": {
      "text/plain": [
       "{'objectID': 483873,\n",
       " 'isHighlight': False,\n",
       " 'accessionNumber': '1984.613.2',\n",
       " 'accessionYear': '1984',\n",
       " 'isPublicDomain': False,\n",
       " 'primaryImage': '',\n",
       " 'primaryImageSmall': '',\n",
       " 'additionalImages': [],\n",
       " 'constituents': [{'constituentID': 161817,\n",
       "   'role': 'Artist',\n",
       "   'name': 'Willem de Kooning',\n",
       "   'constituentULAN_URL': 'http://vocab.getty.edu/page/ulan/500000974',\n",
       "   'constituentWikidata_URL': 'https://www.wikidata.org/wiki/Q132305',\n",
       "   'gender': ''}],\n",
       " 'department': 'Modern and Contemporary Art',\n",
       " 'objectName': 'Painting',\n",
       " 'title': 'Woman',\n",
       " 'culture': '',\n",
       " 'period': '',\n",
       " 'dynasty': '',\n",
       " 'reign': '',\n",
       " 'portfolio': '',\n",
       " 'artistRole': 'Artist',\n",
       " 'artistPrefix': '',\n",
       " 'artistDisplayName': 'Willem de Kooning',\n",
       " 'artistDisplayBio': 'American (born The Netherlands), Rotterdam 1904–1997 East Hampton, New York',\n",
       " 'artistSuffix': '',\n",
       " 'artistAlphaSort': 'De Kooning, Willem',\n",
       " 'artistNationality': 'American, born The Netherlands',\n",
       " 'artistBeginDate': '1904',\n",
       " 'artistEndDate': '1997',\n",
       " 'artistGender': '',\n",
       " 'artistWikidata_URL': 'https://www.wikidata.org/wiki/Q132305',\n",
       " 'artistULAN_URL': 'http://vocab.getty.edu/page/ulan/500000974',\n",
       " 'objectDate': '1944',\n",
       " 'objectBeginDate': 1944,\n",
       " 'objectEndDate': 1944,\n",
       " 'medium': 'Oil and charcoal on canvas',\n",
       " 'dimensions': '45 7/8 × 31 3/4 in. (116.5 × 80.6 cm)',\n",
       " 'measurements': [{'elementName': 'Overall',\n",
       "   'elementDescription': None,\n",
       "   'elementMeasurements': {'Height': 116.522736, 'Width': 80.645164}},\n",
       "  {'elementName': 'Frame',\n",
       "   'elementDescription': 'F.1.1984.613.2 Brown wood float frame-AR Pexi',\n",
       "   'elementMeasurements': {'Depth': 9.207519,\n",
       "    'Height': 125.730255,\n",
       "    'Width': 90.80518}}],\n",
       " 'creditLine': 'From the Collection of Thomas B. Hess, Gift of the heirs of Thomas B. Hess, 1984',\n",
       " 'geographyType': '',\n",
       " 'city': '',\n",
       " 'state': '',\n",
       " 'county': '',\n",
       " 'country': '',\n",
       " 'region': '',\n",
       " 'subregion': '',\n",
       " 'locale': '',\n",
       " 'locus': '',\n",
       " 'excavation': '',\n",
       " 'river': '',\n",
       " 'classification': 'Paintings',\n",
       " 'rightsAndReproduction': '© 2025 Artists Rights Society (ARS), New York',\n",
       " 'linkResource': '',\n",
       " 'metadataDate': '2025-01-31T04:54:36.6Z',\n",
       " 'repository': 'Metropolitan Museum of Art, New York, NY',\n",
       " 'objectURL': 'https://www.metmuseum.org/art/collection/search/483873',\n",
       " 'tags': [{'term': 'Women',\n",
       "   'AAT_URL': 'http://vocab.getty.edu/page/aat/300025943',\n",
       "   'Wikidata_URL': 'https://www.wikidata.org/wiki/Q467'}],\n",
       " 'objectWikidata_URL': 'https://www.wikidata.org/wiki/Q20189686',\n",
       " 'isTimelineWork': False,\n",
       " 'GalleryNumber': ''}"
      ]
     },
     "execution_count": 22,
     "metadata": {},
     "output_type": "execute_result"
    }
   ],
   "source": [
    "# all of the data about this object\n",
    "# look at the URL! \n",
    "\n",
    "first_object.json()"
   ]
  },
  {
   "cell_type": "code",
   "execution_count": 23,
   "id": "ca96db3c",
   "metadata": {},
   "outputs": [],
   "source": [
    "# now we can save this first object to its own variable. \n",
    "# will make it easier to do more things to it!\n",
    "\n",
    "first_json = first_object.json()"
   ]
  },
  {
   "cell_type": "markdown",
   "id": "57e67751",
   "metadata": {},
   "source": [
    "### individual practice:\n",
    "Take a few minutes to inspect the dataset by using different keys.\n",
    "\n",
    "Why do you think there's no gender?"
   ]
  },
  {
   "cell_type": "code",
   "execution_count": 24,
   "id": "8ec24154",
   "metadata": {},
   "outputs": [
    {
     "data": {
      "text/plain": [
       "''"
      ]
     },
     "execution_count": 24,
     "metadata": {},
     "output_type": "execute_result"
    }
   ],
   "source": [
    "# no result!\n",
    "\n",
    "first_json['artistGender']"
   ]
  },
  {
   "cell_type": "code",
   "execution_count": 25,
   "id": "c1718911",
   "metadata": {},
   "outputs": [
    {
     "data": {
      "text/plain": [
       "'Modern and Contemporary Art'"
      ]
     },
     "execution_count": 25,
     "metadata": {},
     "output_type": "execute_result"
    }
   ],
   "source": [
    "first_json['department']"
   ]
  },
  {
   "cell_type": "code",
   "execution_count": 26,
   "id": "c142f128",
   "metadata": {},
   "outputs": [
    {
     "data": {
      "text/plain": [
       "''"
      ]
     },
     "execution_count": 26,
     "metadata": {},
     "output_type": "execute_result"
    }
   ],
   "source": [
    "first_json['culture']"
   ]
  },
  {
   "cell_type": "markdown",
   "id": "6e169a95",
   "metadata": {},
   "source": [
    "## looping through our objects\n",
    "We are going to create a larger collection of object information (the metadata about each art object in the search results), so that we can loop through the objects to find out more about the artist's gender."
   ]
  },
  {
   "cell_type": "markdown",
   "id": "af1dba62",
   "metadata": {},
   "source": [
    "## making a list of ids"
   ]
  },
  {
   "cell_type": "code",
   "execution_count": 27,
   "id": "391f264f",
   "metadata": {},
   "outputs": [
    {
     "data": {
      "text/plain": [
       "[483873,\n",
       " 207162,\n",
       " 247582,\n",
       " 283274,\n",
       " 483877,\n",
       " 685333,\n",
       " 494305,\n",
       " 481438,\n",
       " 374147,\n",
       " 489510]"
      ]
     },
     "execution_count": 27,
     "metadata": {},
     "output_type": "execute_result"
    }
   ],
   "source": [
    "# first, print out the first 10 items in the objectIDs list\n",
    "parsed['objectIDs'][:10]"
   ]
  },
  {
   "cell_type": "code",
   "execution_count": 28,
   "id": "270c4522",
   "metadata": {},
   "outputs": [],
   "source": [
    "ids = parsed['objectIDs'][:10]"
   ]
  },
  {
   "cell_type": "code",
   "execution_count": 29,
   "id": "332952c1",
   "metadata": {},
   "outputs": [
    {
     "name": "stdout",
     "output_type": "stream",
     "text": [
      "483873\n",
      "207162\n",
      "247582\n",
      "283274\n",
      "483877\n",
      "685333\n",
      "494305\n",
      "481438\n",
      "374147\n",
      "489510\n"
     ]
    }
   ],
   "source": [
    "# remember we can slice our list, to get just the first ten\n",
    "\n",
    "for item in ids:\n",
    "    print(item)"
   ]
  },
  {
   "cell_type": "code",
   "execution_count": 30,
   "id": "bfbc5654",
   "metadata": {},
   "outputs": [
    {
     "data": {
      "text/plain": [
       "list"
      ]
     },
     "execution_count": 30,
     "metadata": {},
     "output_type": "execute_result"
    }
   ],
   "source": [
    "type(ids)"
   ]
  },
  {
   "cell_type": "code",
   "execution_count": 31,
   "id": "775d6117",
   "metadata": {},
   "outputs": [
    {
     "data": {
      "text/plain": [
       "10"
      ]
     },
     "execution_count": 31,
     "metadata": {},
     "output_type": "execute_result"
    }
   ],
   "source": [
    "len(ids)"
   ]
  },
  {
   "cell_type": "markdown",
   "id": "cf9a0cf8",
   "metadata": {},
   "source": [
    "Now let's go back to the original list, and pull out all the info for the results. "
   ]
  },
  {
   "cell_type": "markdown",
   "id": "251d1445-d42e-41ae-95f6-0a6bc38cff7a",
   "metadata": {},
   "source": [
    "### making a new request\n",
    "\n",
    "Remember how to make a new request, using an `f-string`\n",
    "\n",
    "`url = f'{base_url}{path}{item}`\n",
    "\n",
    "Now, add that request to your loop so you make a new request for the first ten items on the list of object IDs. Once you get the response, parse it (with `json()`) and append that item to a new list. "
   ]
  },
  {
   "cell_type": "code",
   "execution_count": 32,
   "id": "a4ee6b95",
   "metadata": {},
   "outputs": [],
   "source": [
    "first_ten = []\n",
    "for item in ids:\n",
    "    # passing the objectID variable into the URL\n",
    "    base_url = 'https://collectionapi.metmuseum.org'\n",
    "    path = '/public/collection/v1/objects/'\n",
    "    url = f'{base_url}{path}{item}'\n",
    "    # grabbing our response for that object\n",
    "    response = requests.get(url)\n",
    "    # parsing our response with json\n",
    "    parsed = response.json()\n",
    "    # appending the response to our new list\n",
    "    first_ten.append(parsed)"
   ]
  },
  {
   "cell_type": "code",
   "execution_count": 33,
   "id": "9cff2890",
   "metadata": {},
   "outputs": [
    {
     "data": {
      "text/plain": [
       "{'objectID': 489510,\n",
       " 'isHighlight': False,\n",
       " 'accessionNumber': '66.75.2',\n",
       " 'accessionYear': '1966',\n",
       " 'isPublicDomain': False,\n",
       " 'primaryImage': '',\n",
       " 'primaryImageSmall': '',\n",
       " 'additionalImages': [],\n",
       " 'constituents': [{'constituentID': 161734,\n",
       "   'role': 'Artist',\n",
       "   'name': 'Alexander Calder',\n",
       "   'constituentULAN_URL': 'http://vocab.getty.edu/page/ulan/500007824',\n",
       "   'constituentWikidata_URL': 'https://www.wikidata.org/wiki/Q151580',\n",
       "   'gender': ''}],\n",
       " 'department': 'Modern and Contemporary Art',\n",
       " 'objectName': 'Sculpture',\n",
       " 'title': 'Woman',\n",
       " 'culture': '',\n",
       " 'period': '',\n",
       " 'dynasty': '',\n",
       " 'reign': '',\n",
       " 'portfolio': '',\n",
       " 'artistRole': 'Artist',\n",
       " 'artistPrefix': '',\n",
       " 'artistDisplayName': 'Alexander Calder',\n",
       " 'artistDisplayBio': 'American, Philadelphia, Pennsylvania 1898–1976 New York',\n",
       " 'artistSuffix': '',\n",
       " 'artistAlphaSort': 'Calder, Alexander',\n",
       " 'artistNationality': 'American',\n",
       " 'artistBeginDate': '1898',\n",
       " 'artistEndDate': '1976',\n",
       " 'artistGender': '',\n",
       " 'artistWikidata_URL': 'https://www.wikidata.org/wiki/Q151580',\n",
       " 'artistULAN_URL': 'http://vocab.getty.edu/page/ulan/500007824',\n",
       " 'objectDate': 'ca. 1926',\n",
       " 'objectBeginDate': 1926,\n",
       " 'objectEndDate': 1926,\n",
       " 'medium': 'Stained wood',\n",
       " 'dimensions': '19 9/16 × 6 7/8 × 6 in., 10.9 lb. (49.7 × 17.5 × 15.3 cm, 4.9 kg)',\n",
       " 'measurements': [{'elementName': 'Overall',\n",
       "   'elementDescription': None,\n",
       "   'elementMeasurements': {'Depth': 15.3,\n",
       "    'Height': 49.7,\n",
       "    'Weight': 4.9442077,\n",
       "    'Width': 17.5}}],\n",
       " 'creditLine': 'Gift of Charles Oppenheim Jr., 1966',\n",
       " 'geographyType': '',\n",
       " 'city': '',\n",
       " 'state': '',\n",
       " 'county': '',\n",
       " 'country': '',\n",
       " 'region': '',\n",
       " 'subregion': '',\n",
       " 'locale': '',\n",
       " 'locus': '',\n",
       " 'excavation': '',\n",
       " 'river': '',\n",
       " 'classification': 'Sculpture',\n",
       " 'rightsAndReproduction': '© 2025 Artists Rights Society (ARS), New York',\n",
       " 'linkResource': '',\n",
       " 'metadataDate': '2025-01-08T04:53:43.917Z',\n",
       " 'repository': 'Metropolitan Museum of Art, New York, NY',\n",
       " 'objectURL': 'https://www.metmuseum.org/art/collection/search/489510',\n",
       " 'tags': [{'term': 'Women',\n",
       "   'AAT_URL': 'http://vocab.getty.edu/page/aat/300025943',\n",
       "   'Wikidata_URL': 'https://www.wikidata.org/wiki/Q467'}],\n",
       " 'objectWikidata_URL': '',\n",
       " 'isTimelineWork': False,\n",
       " 'GalleryNumber': ''}"
      ]
     },
     "execution_count": 33,
     "metadata": {},
     "output_type": "execute_result"
    }
   ],
   "source": [
    "# because we already know the first, let's check the last item\n",
    "\n",
    "first_ten[-1]"
   ]
  },
  {
   "cell_type": "markdown",
   "id": "3e160870",
   "metadata": {},
   "source": [
    "now guess what type of data we have for `first_ten`?"
   ]
  },
  {
   "cell_type": "code",
   "execution_count": 34,
   "id": "97c74b64",
   "metadata": {},
   "outputs": [
    {
     "data": {
      "text/plain": [
       "list"
      ]
     },
     "execution_count": 34,
     "metadata": {},
     "output_type": "execute_result"
    }
   ],
   "source": [
    "type(first_ten)"
   ]
  },
  {
   "cell_type": "markdown",
   "id": "e2051e7c-bb45-4cd2-9e91-e9851356e0b3",
   "metadata": {},
   "source": [
    "### group challenge:\n",
    "Write a loop to print out information about some of the keys for each object. For example, print out the value of `artistDisplayName`."
   ]
  },
  {
   "cell_type": "code",
   "execution_count": 38,
   "id": "522254cb-945f-4bf6-8971-3f45db6bc04e",
   "metadata": {},
   "outputs": [
    {
     "name": "stdout",
     "output_type": "stream",
     "text": [
      "Willem de Kooning\n",
      "Royal Porcelain Manufactory, Naples\n",
      "Woman Painter\n",
      "Man Ray\n",
      "Willem de Kooning\n"
     ]
    },
    {
     "ename": "KeyError",
     "evalue": "'artistDisplayName'",
     "output_type": "error",
     "traceback": [
      "\u001b[0;31m---------------------------------------------------------------------------\u001b[0m",
      "\u001b[0;31mKeyError\u001b[0m                                  Traceback (most recent call last)",
      "Cell \u001b[0;32mIn[38], line 2\u001b[0m\n\u001b[1;32m      1\u001b[0m \u001b[38;5;28;01mfor\u001b[39;00m item \u001b[38;5;129;01min\u001b[39;00m first_ten:\n\u001b[0;32m----> 2\u001b[0m     \u001b[38;5;28mprint\u001b[39m(item[\u001b[38;5;124m'\u001b[39m\u001b[38;5;124martistDisplayName\u001b[39m\u001b[38;5;124m'\u001b[39m])\n",
      "\u001b[0;31mKeyError\u001b[0m: 'artistDisplayName'"
     ]
    }
   ],
   "source": [
    "for item in first_ten:\n",
    "    print(item['artistDisplayName'])"
   ]
  },
  {
   "cell_type": "markdown",
   "id": "0a26cd39",
   "metadata": {},
   "source": [
    "let's look at some of the values"
   ]
  },
  {
   "cell_type": "code",
   "execution_count": 39,
   "id": "14c8cf0e",
   "metadata": {},
   "outputs": [
    {
     "name": "stdout",
     "output_type": "stream",
     "text": [
      "Woman\n",
      "Woman\n",
      "Terracotta lekythos (oil flask)\n",
      "Woman\n",
      "Woman\n"
     ]
    },
    {
     "ename": "KeyError",
     "evalue": "'title'",
     "output_type": "error",
     "traceback": [
      "\u001b[0;31m---------------------------------------------------------------------------\u001b[0m",
      "\u001b[0;31mKeyError\u001b[0m                                  Traceback (most recent call last)",
      "Cell \u001b[0;32mIn[39], line 2\u001b[0m\n\u001b[1;32m      1\u001b[0m \u001b[38;5;28;01mfor\u001b[39;00m item \u001b[38;5;129;01min\u001b[39;00m first_ten:\n\u001b[0;32m----> 2\u001b[0m     \u001b[38;5;28mprint\u001b[39m(item[\u001b[38;5;124m'\u001b[39m\u001b[38;5;124mtitle\u001b[39m\u001b[38;5;124m'\u001b[39m])\n",
      "\u001b[0;31mKeyError\u001b[0m: 'title'"
     ]
    }
   ],
   "source": [
    "for item in first_ten:\n",
    "    print(item['title'])"
   ]
  },
  {
   "cell_type": "markdown",
   "id": "86dad7d9-90e1-448c-84b0-fcf23fdc9751",
   "metadata": {},
   "source": [
    "There's another way to grab items from a `dict`, using the `get()` method."
   ]
  },
  {
   "cell_type": "code",
   "execution_count": 54,
   "id": "89d5a0c7-0805-44c6-b2e2-0b54114eaa3e",
   "metadata": {},
   "outputs": [
    {
     "data": {
      "text/plain": [
       "['__class__',\n",
       " '__class_getitem__',\n",
       " '__contains__',\n",
       " '__delattr__',\n",
       " '__delitem__',\n",
       " '__dir__',\n",
       " '__doc__',\n",
       " '__eq__',\n",
       " '__format__',\n",
       " '__ge__',\n",
       " '__getattribute__',\n",
       " '__getitem__',\n",
       " '__getstate__',\n",
       " '__gt__',\n",
       " '__hash__',\n",
       " '__init__',\n",
       " '__init_subclass__',\n",
       " '__ior__',\n",
       " '__iter__',\n",
       " '__le__',\n",
       " '__len__',\n",
       " '__lt__',\n",
       " '__ne__',\n",
       " '__new__',\n",
       " '__or__',\n",
       " '__reduce__',\n",
       " '__reduce_ex__',\n",
       " '__repr__',\n",
       " '__reversed__',\n",
       " '__ror__',\n",
       " '__setattr__',\n",
       " '__setitem__',\n",
       " '__sizeof__',\n",
       " '__str__',\n",
       " '__subclasshook__',\n",
       " 'clear',\n",
       " 'copy',\n",
       " 'fromkeys',\n",
       " 'get',\n",
       " 'items',\n",
       " 'keys',\n",
       " 'pop',\n",
       " 'popitem',\n",
       " 'setdefault',\n",
       " 'update',\n",
       " 'values']"
      ]
     },
     "execution_count": 54,
     "metadata": {},
     "output_type": "execute_result"
    }
   ],
   "source": [
    "dir(item)"
   ]
  },
  {
   "cell_type": "code",
   "execution_count": 36,
   "id": "e4e9d4c4-0221-47f4-87b1-527636d6ba26",
   "metadata": {},
   "outputs": [
    {
     "name": "stdout",
     "output_type": "stream",
     "text": [
      "Willem de Kooning\n",
      "Royal Porcelain Manufactory, Naples\n",
      "Woman Painter\n",
      "Man Ray\n",
      "Willem de Kooning\n",
      "Joan Miró\n",
      "Willem de Kooning\n",
      "Harold Anchel\n",
      "Alexander Calder\n"
     ]
    }
   ],
   "source": [
    "for item in first_ten:\n",
    "    if item.get('artistDisplayName'):\n",
    "        print(item['artistDisplayName'])"
   ]
  },
  {
   "cell_type": "code",
   "execution_count": 37,
   "id": "b2b964e0",
   "metadata": {},
   "outputs": [
    {
     "name": "stdout",
     "output_type": "stream",
     "text": [
      "Willem de Kooning\n",
      "Royal Porcelain Manufactory, Naples\n",
      "Woman Painter\n",
      "Man Ray\n",
      "Willem de Kooning\n",
      "None\n",
      "Joan Miró\n",
      "Willem de Kooning\n",
      "Harold Anchel\n",
      "Alexander Calder\n"
     ]
    }
   ],
   "source": [
    "for item in first_ten:\n",
    "    title = item.get('artistDisplayName')\n",
    "    print(title)"
   ]
  },
  {
   "cell_type": "markdown",
   "id": "67e882ef",
   "metadata": {},
   "source": [
    "## about \"women\"\n",
    "Let's make our dataset bigger, with 50 works."
   ]
  },
  {
   "cell_type": "code",
   "execution_count": null,
   "id": "be88fd8a-5ae5-4efd-875e-457a29586947",
   "metadata": {},
   "outputs": [],
   "source": [
    "first_fifty = []\n",
    "for item in parsed['objectIDs'][:50]:\n",
    "    url = f'https://collectionapi.metmuseum.org/public/collection/v1/objects/{item}'\n",
    "    response = requests.get(url)\n",
    "    parsed = response.json()\n",
    "    first_fifty.append(parsed)"
   ]
  },
  {
   "cell_type": "code",
   "execution_count": null,
   "id": "49c14101-5aa3-45b7-80e5-bd4e6ecdcaf6",
   "metadata": {},
   "outputs": [],
   "source": [
    "# combine get() with conditional to get rid of the None's\n",
    "\n",
    "for item in first_fifty:\n",
    "    if item.get('artistDisplayName'):\n",
    "        print(item['artistDisplayName'])"
   ]
  },
  {
   "cell_type": "code",
   "execution_count": 61,
   "id": "ec6185c3",
   "metadata": {},
   "outputs": [
    {
     "name": "stdout",
     "output_type": "stream",
     "text": [
      "\n",
      "\n",
      "\n",
      "\n",
      "\n",
      "None\n",
      "\n",
      "\n",
      "None\n",
      "\n",
      "\n",
      "\n",
      "\n",
      "\n",
      "None\n",
      "\n",
      "\n",
      "\n",
      "\n",
      "\n",
      "\n",
      "\n",
      "\n",
      "\n",
      "None\n",
      "\n",
      "\n",
      "\n",
      "\n",
      "\n",
      "\n",
      "\n",
      "\n",
      "\n",
      "\n",
      "\n",
      "\n",
      "\n",
      "\n",
      "\n",
      "\n",
      "\n",
      "\n",
      "\n",
      "\n",
      "\n",
      "\n",
      "\n",
      "\n",
      "\n",
      "\n",
      "\n",
      "\n",
      "\n",
      "\n",
      "\n",
      "\n",
      "\n",
      "\n",
      "\n",
      "\n",
      "\n",
      "Female\n",
      "\n",
      "\n",
      "\n",
      "\n",
      "\n",
      "\n",
      "\n",
      "\n",
      "\n",
      "\n",
      "\n",
      "\n",
      "\n",
      "\n",
      "Female\n",
      "\n",
      "\n",
      "\n",
      "Female\n",
      "\n",
      "\n",
      "\n",
      "\n",
      "\n",
      "\n",
      "\n",
      "\n",
      "\n",
      "\n",
      "\n",
      "\n",
      "\n",
      "\n",
      "\n",
      "\n",
      "\n",
      "\n"
     ]
    }
   ],
   "source": [
    "# or, if we want to show the value, even if empty or None\n",
    "\n",
    "for item in first_hundred:\n",
    "    gender = item.get('artistGender')\n",
    "    print(gender)"
   ]
  },
  {
   "cell_type": "markdown",
   "id": "431ce8f6-0fc3-41e6-964c-0e59e44224ed",
   "metadata": {},
   "source": [
    "Let's use `get()` combined with `f-strings` to print both the name and the gender."
   ]
  },
  {
   "cell_type": "code",
   "execution_count": 56,
   "id": "e7d0e7d6",
   "metadata": {},
   "outputs": [
    {
     "name": "stdout",
     "output_type": "stream",
     "text": [
      "artist name: Willem de Kooning\n",
      "artist gender: \n",
      "artist name: Royal Porcelain Manufactory, Naples\n",
      "artist gender: \n",
      "artist name: Woman Painter\n",
      "artist gender: \n",
      "artist name: Man Ray\n",
      "artist gender: \n",
      "artist name: Willem de Kooning\n",
      "artist gender: \n",
      "artist name: Joan Miró\n",
      "artist gender: \n",
      "artist name: Willem de Kooning\n",
      "artist gender: \n",
      "artist name: Alexander Calder\n",
      "artist gender: \n",
      "artist name: Harold Anchel\n",
      "artist gender: \n",
      "artist name: Malick Sidibé\n",
      "artist gender: \n",
      "artist name: Joan Miró\n",
      "artist gender: \n",
      "artist name: Joan Miró\n",
      "artist gender: \n",
      "artist name: Lorenzo Mosca\n",
      "artist gender: \n",
      "artist name: Bow Porcelain Factory\n",
      "artist gender: \n",
      "artist name: Royal Porcelain Manufactory, Berlin\n",
      "artist gender: \n",
      "artist name: Vienna\n",
      "artist gender: \n",
      "artist name: Edgar Degas\n",
      "artist gender: \n",
      "artist name: Gaston Lachaise\n",
      "artist gender: \n",
      "artist name: Fernand Léger\n",
      "artist gender: \n",
      "artist name: Edgar Degas\n",
      "artist gender: \n",
      "artist name: Frans Hals\n",
      "artist gender: \n",
      "artist name: Jean Dubuffet\n",
      "artist gender: \n",
      "artist name: Edgar Degas\n",
      "artist gender: \n",
      "artist name: Fra Filippo Lippi\n",
      "artist gender: \n",
      "artist name: Rembrandt (Rembrandt van Rijn)\n",
      "artist gender: \n",
      "artist name: Gustave Courbet\n",
      "artist gender: \n",
      "artist name: Quinten Massys\n",
      "artist gender: \n",
      "artist name: Jean-François Millet\n",
      "artist gender: \n",
      "artist name: Henri Fantin-Latour\n",
      "artist gender: \n",
      "artist name: Charles-Henri-Joseph Cordier\n",
      "artist gender: \n",
      "artist name: Louis Anquetin\n",
      "artist gender: \n",
      "artist name: Pablo Picasso\n",
      "artist gender: \n",
      "artist name: Bastis Master\n",
      "artist gender: \n",
      "artist name: Ruth Ava Lyons\n",
      "artist gender: Female\n",
      "artist name: Christian Julia\n",
      "artist gender: \n",
      "artist name: Johannes Vermeer\n",
      "artist gender: \n",
      "artist name: Georges Braque\n",
      "artist gender: \n",
      "artist name: Gustave Courbet\n",
      "artist gender: \n",
      "artist name: Johannes Vermeer\n",
      "artist gender: \n",
      "artist name: Orazio Borgianni\n",
      "artist gender: \n",
      "artist name: Antoine Watteau\n",
      "artist gender: \n",
      "artist name: Johannes Vermeer\n",
      "artist gender: \n",
      "artist name: Berthe Morisot\n",
      "artist gender: Female\n",
      "artist name: Charles-Henri-Joseph Cordier\n",
      "artist gender: \n",
      "artist name: Gustave Courbet\n",
      "artist gender: \n",
      "artist name: Louise Bourgeois\n",
      "artist gender: Female\n",
      "artist name: Edgar Degas\n",
      "artist gender: \n",
      "artist name: Rembrandt (Rembrandt van Rijn)\n",
      "artist gender: \n",
      "artist name: Petrus Christus\n",
      "artist gender: \n",
      "artist name: Léon Bonnat\n",
      "artist gender: \n",
      "artist name: Pablo Picasso\n",
      "artist gender: \n",
      "artist name: Master of Rimini\n",
      "artist gender: \n"
     ]
    }
   ],
   "source": [
    "# why do you think we see only female?\n",
    "\n",
    "for item in first_fifty:\n",
    "    if item.get('artistDisplayName'):\n",
    "        print(f\"artist name: {item['artistDisplayName']}\")\n",
    "        print(f\"artist gender: {item['artistGender']}\")"
   ]
  },
  {
   "cell_type": "markdown",
   "id": "1dab224e",
   "metadata": {},
   "source": [
    "## saving to DataFrame"
   ]
  },
  {
   "cell_type": "code",
   "execution_count": 60,
   "id": "dc3944f1",
   "metadata": {},
   "outputs": [
    {
     "data": {
      "text/plain": [
       "{'objectID': 483873,\n",
       " 'isHighlight': False,\n",
       " 'accessionNumber': '1984.613.2',\n",
       " 'accessionYear': '1984',\n",
       " 'isPublicDomain': False,\n",
       " 'primaryImage': '',\n",
       " 'primaryImageSmall': '',\n",
       " 'additionalImages': [],\n",
       " 'constituents': [{'constituentID': 161817,\n",
       "   'role': 'Artist',\n",
       "   'name': 'Willem de Kooning',\n",
       "   'constituentULAN_URL': 'http://vocab.getty.edu/page/ulan/500000974',\n",
       "   'constituentWikidata_URL': 'https://www.wikidata.org/wiki/Q132305',\n",
       "   'gender': ''}],\n",
       " 'department': 'Modern and Contemporary Art',\n",
       " 'objectName': 'Painting',\n",
       " 'title': 'Woman',\n",
       " 'culture': '',\n",
       " 'period': '',\n",
       " 'dynasty': '',\n",
       " 'reign': '',\n",
       " 'portfolio': '',\n",
       " 'artistRole': 'Artist',\n",
       " 'artistPrefix': '',\n",
       " 'artistDisplayName': 'Willem de Kooning',\n",
       " 'artistDisplayBio': 'American (born The Netherlands), Rotterdam 1904–1997 East Hampton, New York',\n",
       " 'artistSuffix': '',\n",
       " 'artistAlphaSort': 'De Kooning, Willem',\n",
       " 'artistNationality': 'American, born The Netherlands',\n",
       " 'artistBeginDate': '1904',\n",
       " 'artistEndDate': '1997',\n",
       " 'artistGender': '',\n",
       " 'artistWikidata_URL': 'https://www.wikidata.org/wiki/Q132305',\n",
       " 'artistULAN_URL': 'http://vocab.getty.edu/page/ulan/500000974',\n",
       " 'objectDate': '1944',\n",
       " 'objectBeginDate': 1944,\n",
       " 'objectEndDate': 1944,\n",
       " 'medium': 'Oil and charcoal on canvas',\n",
       " 'dimensions': '45 7/8 × 31 3/4 in. (116.5 × 80.6 cm)',\n",
       " 'measurements': [{'elementName': 'Overall',\n",
       "   'elementDescription': None,\n",
       "   'elementMeasurements': {'Height': 116.522736, 'Width': 80.645164}},\n",
       "  {'elementName': 'Frame',\n",
       "   'elementDescription': 'F.1.1984.613.2 Brown wood float frame-AR Pexi',\n",
       "   'elementMeasurements': {'Depth': 9.207519,\n",
       "    'Height': 125.730255,\n",
       "    'Width': 90.80518}}],\n",
       " 'creditLine': 'From the Collection of Thomas B. Hess, Gift of the heirs of Thomas B. Hess, 1984',\n",
       " 'geographyType': '',\n",
       " 'city': '',\n",
       " 'state': '',\n",
       " 'county': '',\n",
       " 'country': '',\n",
       " 'region': '',\n",
       " 'subregion': '',\n",
       " 'locale': '',\n",
       " 'locus': '',\n",
       " 'excavation': '',\n",
       " 'river': '',\n",
       " 'classification': 'Paintings',\n",
       " 'rightsAndReproduction': '© 2024 Artists Rights Society (ARS), New York',\n",
       " 'linkResource': '',\n",
       " 'metadataDate': '2024-09-21T04:53:05.127Z',\n",
       " 'repository': 'Metropolitan Museum of Art, New York, NY',\n",
       " 'objectURL': 'https://www.metmuseum.org/art/collection/search/483873',\n",
       " 'tags': [{'term': 'Women',\n",
       "   'AAT_URL': 'http://vocab.getty.edu/page/aat/300025943',\n",
       "   'Wikidata_URL': 'https://www.wikidata.org/wiki/Q467'}],\n",
       " 'objectWikidata_URL': 'https://www.wikidata.org/wiki/Q20189686',\n",
       " 'isTimelineWork': False,\n",
       " 'GalleryNumber': ''}"
      ]
     },
     "execution_count": 60,
     "metadata": {},
     "output_type": "execute_result"
    }
   ],
   "source": [
    "# look again at the first object\n",
    "first_fifty[0]"
   ]
  },
  {
   "cell_type": "code",
   "execution_count": 62,
   "id": "883c0957",
   "metadata": {},
   "outputs": [],
   "source": [
    "# let's get a bunch of this data into lists\n",
    "\n",
    "titles = []\n",
    "names = []\n",
    "genders = []\n",
    "depts = []\n",
    "countries = []\n",
    "urls = []\n",
    "\n",
    "for item in first_fifty:\n",
    "    title = item.get('artistGender')\n",
    "    titles.append(title)\n",
    "    name = item.get('artistDisplayName')\n",
    "    names.append(name)\n",
    "    gender = item.get('artistGender')\n",
    "    genders.append(gender)\n",
    "    dept = item.get('department')\n",
    "    depts.append(dept)\n",
    "    country = item.get('country')\n",
    "    countries.append(country)\n",
    "    url = item.get('objectURL')\n",
    "    urls.append(url)"
   ]
  },
  {
   "cell_type": "code",
   "execution_count": 64,
   "id": "b85594aa",
   "metadata": {},
   "outputs": [
    {
     "data": {
      "text/plain": [
       "['',\n",
       " '',\n",
       " '',\n",
       " '',\n",
       " '',\n",
       " None,\n",
       " '',\n",
       " '',\n",
       " None,\n",
       " '',\n",
       " '',\n",
       " 'Mali',\n",
       " '',\n",
       " '',\n",
       " None,\n",
       " '',\n",
       " '',\n",
       " '',\n",
       " '',\n",
       " '',\n",
       " '',\n",
       " '',\n",
       " '',\n",
       " '',\n",
       " None,\n",
       " 'Egypt',\n",
       " 'Egypt',\n",
       " '',\n",
       " '',\n",
       " '',\n",
       " '',\n",
       " '',\n",
       " '',\n",
       " '',\n",
       " '',\n",
       " '',\n",
       " '',\n",
       " '',\n",
       " '',\n",
       " '',\n",
       " '',\n",
       " '',\n",
       " 'Egypt',\n",
       " '',\n",
       " '',\n",
       " '',\n",
       " '',\n",
       " '',\n",
       " '',\n",
       " '',\n",
       " '',\n",
       " '',\n",
       " 'France',\n",
       " '',\n",
       " 'Egypt',\n",
       " '',\n",
       " 'Egypt',\n",
       " '',\n",
       " '',\n",
       " '',\n",
       " '',\n",
       " '',\n",
       " '',\n",
       " '',\n",
       " 'Turkey',\n",
       " '',\n",
       " '',\n",
       " 'Byzantine Egypt',\n",
       " 'Egypt',\n",
       " '',\n",
       " '',\n",
       " 'Egypt',\n",
       " '',\n",
       " '',\n",
       " '',\n",
       " '',\n",
       " 'Egypt',\n",
       " '',\n",
       " '',\n",
       " '',\n",
       " '',\n",
       " '',\n",
       " '',\n",
       " 'Egypt',\n",
       " 'Egypt',\n",
       " '',\n",
       " 'Egypt',\n",
       " 'Egypt',\n",
       " 'Egypt',\n",
       " '',\n",
       " 'Egypt',\n",
       " 'Egypt',\n",
       " '',\n",
       " 'Egypt',\n",
       " '',\n",
       " 'Egypt',\n",
       " '',\n",
       " '',\n",
       " '',\n",
       " 'Egypt']"
      ]
     },
     "execution_count": 64,
     "metadata": {},
     "output_type": "execute_result"
    }
   ],
   "source": [
    "countries"
   ]
  },
  {
   "cell_type": "code",
   "execution_count": 65,
   "id": "201a797a",
   "metadata": {},
   "outputs": [
    {
     "data": {
      "text/plain": [
       "['Modern and Contemporary Art',\n",
       " 'European Sculpture and Decorative Arts',\n",
       " 'Greek and Roman Art',\n",
       " 'Photographs',\n",
       " 'Modern and Contemporary Art',\n",
       " None,\n",
       " 'Modern and Contemporary Art',\n",
       " 'Modern and Contemporary Art',\n",
       " None,\n",
       " 'Modern and Contemporary Art',\n",
       " 'Drawings and Prints',\n",
       " 'The Michael C. Rockefeller Wing',\n",
       " 'Modern and Contemporary Art',\n",
       " 'Modern and Contemporary Art',\n",
       " None,\n",
       " 'European Sculpture and Decorative Arts',\n",
       " 'European Sculpture and Decorative Arts',\n",
       " 'European Sculpture and Decorative Arts',\n",
       " 'European Sculpture and Decorative Arts',\n",
       " 'European Sculpture and Decorative Arts',\n",
       " 'European Sculpture and Decorative Arts',\n",
       " 'European Sculpture and Decorative Arts',\n",
       " 'European Paintings',\n",
       " 'Modern and Contemporary Art',\n",
       " None,\n",
       " 'Egyptian Art',\n",
       " 'Egyptian Art',\n",
       " 'Greek and Roman Art',\n",
       " 'Modern and Contemporary Art',\n",
       " 'Medieval Art',\n",
       " 'European Sculpture and Decorative Arts',\n",
       " 'European Paintings',\n",
       " 'Greek and Roman Art',\n",
       " 'Greek and Roman Art',\n",
       " 'Egyptian Art',\n",
       " 'Modern and Contemporary Art',\n",
       " 'European Paintings',\n",
       " 'European Paintings',\n",
       " 'Egyptian Art',\n",
       " 'European Paintings',\n",
       " 'European Paintings',\n",
       " 'Greek and Roman Art',\n",
       " 'Egyptian Art',\n",
       " 'European Paintings',\n",
       " 'Greek and Roman Art',\n",
       " 'Greek and Roman Art',\n",
       " 'Greek and Roman Art',\n",
       " 'Greek and Roman Art',\n",
       " 'Greek and Roman Art',\n",
       " 'European Paintings',\n",
       " 'European Paintings',\n",
       " 'European Sculpture and Decorative Arts',\n",
       " 'Drawings and Prints',\n",
       " 'Modern and Contemporary Art',\n",
       " 'Egyptian Art',\n",
       " 'Greek and Roman Art',\n",
       " 'Egyptian Art',\n",
       " 'Greek and Roman Art',\n",
       " 'Egyptian Art',\n",
       " 'Greek and Roman Art',\n",
       " 'Greek and Roman Art',\n",
       " 'Greek and Roman Art',\n",
       " 'Drawings and Prints',\n",
       " 'Drawings and Prints',\n",
       " 'Islamic Art',\n",
       " 'European Paintings',\n",
       " 'Modern and Contemporary Art',\n",
       " 'Medieval Art',\n",
       " 'Egyptian Art',\n",
       " 'European Paintings',\n",
       " 'European Paintings',\n",
       " 'Egyptian Art',\n",
       " 'European Paintings',\n",
       " 'Greek and Roman Art',\n",
       " 'Robert Lehman Collection',\n",
       " 'European Paintings',\n",
       " 'Egyptian Art',\n",
       " 'European Paintings',\n",
       " 'European Sculpture and Decorative Arts',\n",
       " 'European Paintings',\n",
       " 'Greek and Roman Art',\n",
       " 'Drawings and Prints',\n",
       " 'European Sculpture and Decorative Arts',\n",
       " 'Egyptian Art',\n",
       " 'Egyptian Art',\n",
       " 'European Paintings',\n",
       " 'Egyptian Art',\n",
       " 'Egyptian Art',\n",
       " 'Egyptian Art',\n",
       " 'Robert Lehman Collection',\n",
       " 'Egyptian Art',\n",
       " 'Egyptian Art',\n",
       " 'European Paintings',\n",
       " 'Egyptian Art',\n",
       " 'Greek and Roman Art',\n",
       " 'Egyptian Art',\n",
       " 'Modern and Contemporary Art',\n",
       " 'The Cloisters',\n",
       " 'Medieval Art',\n",
       " 'Egyptian Art']"
      ]
     },
     "execution_count": 65,
     "metadata": {},
     "output_type": "execute_result"
    }
   ],
   "source": [
    "depts"
   ]
  },
  {
   "cell_type": "code",
   "execution_count": 66,
   "id": "013dbe47",
   "metadata": {},
   "outputs": [
    {
     "data": {
      "text/plain": [
       "['https://www.metmuseum.org/art/collection/search/483873',\n",
       " 'https://www.metmuseum.org/art/collection/search/207162',\n",
       " 'https://www.metmuseum.org/art/collection/search/247582',\n",
       " 'https://www.metmuseum.org/art/collection/search/283274',\n",
       " 'https://www.metmuseum.org/art/collection/search/483877',\n",
       " None,\n",
       " 'https://www.metmuseum.org/art/collection/search/494305',\n",
       " 'https://www.metmuseum.org/art/collection/search/481438',\n",
       " None,\n",
       " 'https://www.metmuseum.org/art/collection/search/489510',\n",
       " 'https://www.metmuseum.org/art/collection/search/374147',\n",
       " 'https://www.metmuseum.org/art/collection/search/515811',\n",
       " 'https://www.metmuseum.org/art/collection/search/492892',\n",
       " 'https://www.metmuseum.org/art/collection/search/486510',\n",
       " None,\n",
       " 'https://www.metmuseum.org/art/collection/search/204181',\n",
       " 'https://www.metmuseum.org/art/collection/search/205376',\n",
       " 'https://www.metmuseum.org/art/collection/search/193453',\n",
       " 'https://www.metmuseum.org/art/collection/search/195502',\n",
       " 'https://www.metmuseum.org/art/collection/search/193045',\n",
       " 'https://www.metmuseum.org/art/collection/search/200897',\n",
       " 'https://www.metmuseum.org/art/collection/search/208482',\n",
       " 'https://www.metmuseum.org/art/collection/search/436173',\n",
       " 'https://www.metmuseum.org/art/collection/search/483484',\n",
       " None,\n",
       " 'https://www.metmuseum.org/art/collection/search/548584',\n",
       " 'https://www.metmuseum.org/art/collection/search/551500',\n",
       " 'https://www.metmuseum.org/art/collection/search/253505',\n",
       " 'https://www.metmuseum.org/art/collection/search/486423',\n",
       " 'https://www.metmuseum.org/art/collection/search/467700',\n",
       " 'https://www.metmuseum.org/art/collection/search/196462',\n",
       " 'https://www.metmuseum.org/art/collection/search/436616',\n",
       " 'https://www.metmuseum.org/art/collection/search/255391',\n",
       " 'https://www.metmuseum.org/art/collection/search/251428',\n",
       " 'https://www.metmuseum.org/art/collection/search/547202',\n",
       " 'https://www.metmuseum.org/art/collection/search/486578',\n",
       " 'https://www.metmuseum.org/art/collection/search/436121',\n",
       " 'https://www.metmuseum.org/art/collection/search/436896',\n",
       " 'https://www.metmuseum.org/art/collection/search/547334',\n",
       " 'https://www.metmuseum.org/art/collection/search/437402',\n",
       " 'https://www.metmuseum.org/art/collection/search/436002',\n",
       " 'https://www.metmuseum.org/art/collection/search/254469',\n",
       " 'https://www.metmuseum.org/art/collection/search/560727',\n",
       " 'https://www.metmuseum.org/art/collection/search/436986',\n",
       " 'https://www.metmuseum.org/art/collection/search/254597',\n",
       " 'https://www.metmuseum.org/art/collection/search/253135',\n",
       " 'https://www.metmuseum.org/art/collection/search/249222',\n",
       " 'https://www.metmuseum.org/art/collection/search/253050',\n",
       " 'https://www.metmuseum.org/art/collection/search/248132',\n",
       " 'https://www.metmuseum.org/art/collection/search/437099',\n",
       " 'https://www.metmuseum.org/art/collection/search/436295',\n",
       " 'https://www.metmuseum.org/art/collection/search/232047',\n",
       " 'https://www.metmuseum.org/art/collection/search/334249',\n",
       " 'https://www.metmuseum.org/art/collection/search/486845',\n",
       " 'https://www.metmuseum.org/art/collection/search/544210',\n",
       " 'https://www.metmuseum.org/art/collection/search/252452',\n",
       " 'https://www.metmuseum.org/art/collection/search/587759',\n",
       " 'https://www.metmuseum.org/art/collection/search/249091',\n",
       " 'https://www.metmuseum.org/art/collection/search/547257',\n",
       " 'https://www.metmuseum.org/art/collection/search/255417',\n",
       " 'https://www.metmuseum.org/art/collection/search/255275',\n",
       " 'https://www.metmuseum.org/art/collection/search/248689',\n",
       " 'https://www.metmuseum.org/art/collection/search/389226',\n",
       " 'https://www.metmuseum.org/art/collection/search/839042',\n",
       " 'https://www.metmuseum.org/art/collection/search/451943',\n",
       " 'https://www.metmuseum.org/art/collection/search/437881',\n",
       " 'https://www.metmuseum.org/art/collection/search/486742',\n",
       " 'https://www.metmuseum.org/art/collection/search/464456',\n",
       " 'https://www.metmuseum.org/art/collection/search/550970',\n",
       " 'https://www.metmuseum.org/art/collection/search/436024',\n",
       " 'https://www.metmuseum.org/art/collection/search/437879',\n",
       " 'https://www.metmuseum.org/art/collection/search/544689',\n",
       " 'https://www.metmuseum.org/art/collection/search/441024',\n",
       " 'https://www.metmuseum.org/art/collection/search/247004',\n",
       " 'https://www.metmuseum.org/art/collection/search/459192',\n",
       " 'https://www.metmuseum.org/art/collection/search/437880',\n",
       " 'https://www.metmuseum.org/art/collection/search/547860',\n",
       " 'https://www.metmuseum.org/art/collection/search/437160',\n",
       " 'https://www.metmuseum.org/art/collection/search/231788',\n",
       " 'https://www.metmuseum.org/art/collection/search/436004',\n",
       " 'https://www.metmuseum.org/art/collection/search/249223',\n",
       " 'https://www.metmuseum.org/art/collection/search/371017',\n",
       " 'https://www.metmuseum.org/art/collection/search/196452',\n",
       " 'https://www.metmuseum.org/art/collection/search/555567',\n",
       " 'https://www.metmuseum.org/art/collection/search/554337',\n",
       " 'https://www.metmuseum.org/art/collection/search/437390',\n",
       " 'https://www.metmuseum.org/art/collection/search/546746',\n",
       " 'https://www.metmuseum.org/art/collection/search/547758',\n",
       " 'https://www.metmuseum.org/art/collection/search/547476',\n",
       " 'https://www.metmuseum.org/art/collection/search/459052',\n",
       " 'https://www.metmuseum.org/art/collection/search/547820',\n",
       " 'https://www.metmuseum.org/art/collection/search/543905',\n",
       " 'https://www.metmuseum.org/art/collection/search/435711',\n",
       " 'https://www.metmuseum.org/art/collection/search/566713',\n",
       " 'https://www.metmuseum.org/art/collection/search/255697',\n",
       " 'https://www.metmuseum.org/art/collection/search/568194',\n",
       " 'https://www.metmuseum.org/art/collection/search/500194',\n",
       " 'https://www.metmuseum.org/art/collection/search/468716',\n",
       " 'https://www.metmuseum.org/art/collection/search/466235',\n",
       " 'https://www.metmuseum.org/art/collection/search/550158']"
      ]
     },
     "execution_count": 66,
     "metadata": {},
     "output_type": "execute_result"
    }
   ],
   "source": [
    "urls"
   ]
  },
  {
   "cell_type": "markdown",
   "id": "a0f2bd93",
   "metadata": {},
   "source": [
    "## data anlaysis with pandas"
   ]
  },
  {
   "cell_type": "code",
   "execution_count": 67,
   "id": "7a92d761",
   "metadata": {},
   "outputs": [],
   "source": [
    "import pandas as pd"
   ]
  },
  {
   "cell_type": "code",
   "execution_count": 68,
   "id": "c49f8458",
   "metadata": {},
   "outputs": [],
   "source": [
    "df = pd.DataFrame({\n",
    "    'title': titles,\n",
    "    'name': names,\n",
    "    'gender': genders,\n",
    "    'department': depts,\n",
    "    'country': countries,\n",
    "    'link': urls\n",
    "})"
   ]
  },
  {
   "cell_type": "code",
   "execution_count": 69,
   "id": "9c426850",
   "metadata": {},
   "outputs": [
    {
     "data": {
      "text/html": [
       "<div>\n",
       "<style scoped>\n",
       "    .dataframe tbody tr th:only-of-type {\n",
       "        vertical-align: middle;\n",
       "    }\n",
       "\n",
       "    .dataframe tbody tr th {\n",
       "        vertical-align: top;\n",
       "    }\n",
       "\n",
       "    .dataframe thead th {\n",
       "        text-align: right;\n",
       "    }\n",
       "</style>\n",
       "<table border=\"1\" class=\"dataframe\">\n",
       "  <thead>\n",
       "    <tr style=\"text-align: right;\">\n",
       "      <th></th>\n",
       "      <th>title</th>\n",
       "      <th>name</th>\n",
       "      <th>gender</th>\n",
       "      <th>department</th>\n",
       "      <th>country</th>\n",
       "      <th>link</th>\n",
       "    </tr>\n",
       "  </thead>\n",
       "  <tbody>\n",
       "    <tr>\n",
       "      <th>0</th>\n",
       "      <td></td>\n",
       "      <td>Willem de Kooning</td>\n",
       "      <td></td>\n",
       "      <td>Modern and Contemporary Art</td>\n",
       "      <td></td>\n",
       "      <td>https://www.metmuseum.org/art/collection/searc...</td>\n",
       "    </tr>\n",
       "    <tr>\n",
       "      <th>1</th>\n",
       "      <td></td>\n",
       "      <td>Royal Porcelain Manufactory, Naples</td>\n",
       "      <td></td>\n",
       "      <td>European Sculpture and Decorative Arts</td>\n",
       "      <td></td>\n",
       "      <td>https://www.metmuseum.org/art/collection/searc...</td>\n",
       "    </tr>\n",
       "    <tr>\n",
       "      <th>2</th>\n",
       "      <td></td>\n",
       "      <td>Woman Painter</td>\n",
       "      <td></td>\n",
       "      <td>Greek and Roman Art</td>\n",
       "      <td></td>\n",
       "      <td>https://www.metmuseum.org/art/collection/searc...</td>\n",
       "    </tr>\n",
       "    <tr>\n",
       "      <th>3</th>\n",
       "      <td></td>\n",
       "      <td>Man Ray</td>\n",
       "      <td></td>\n",
       "      <td>Photographs</td>\n",
       "      <td></td>\n",
       "      <td>https://www.metmuseum.org/art/collection/searc...</td>\n",
       "    </tr>\n",
       "    <tr>\n",
       "      <th>4</th>\n",
       "      <td></td>\n",
       "      <td>Willem de Kooning</td>\n",
       "      <td></td>\n",
       "      <td>Modern and Contemporary Art</td>\n",
       "      <td></td>\n",
       "      <td>https://www.metmuseum.org/art/collection/searc...</td>\n",
       "    </tr>\n",
       "    <tr>\n",
       "      <th>...</th>\n",
       "      <td>...</td>\n",
       "      <td>...</td>\n",
       "      <td>...</td>\n",
       "      <td>...</td>\n",
       "      <td>...</td>\n",
       "      <td>...</td>\n",
       "    </tr>\n",
       "    <tr>\n",
       "      <th>95</th>\n",
       "      <td></td>\n",
       "      <td></td>\n",
       "      <td></td>\n",
       "      <td>Egyptian Art</td>\n",
       "      <td>Egypt</td>\n",
       "      <td>https://www.metmuseum.org/art/collection/searc...</td>\n",
       "    </tr>\n",
       "    <tr>\n",
       "      <th>96</th>\n",
       "      <td></td>\n",
       "      <td>Pablo Picasso</td>\n",
       "      <td></td>\n",
       "      <td>Modern and Contemporary Art</td>\n",
       "      <td></td>\n",
       "      <td>https://www.metmuseum.org/art/collection/searc...</td>\n",
       "    </tr>\n",
       "    <tr>\n",
       "      <th>97</th>\n",
       "      <td></td>\n",
       "      <td></td>\n",
       "      <td></td>\n",
       "      <td>The Cloisters</td>\n",
       "      <td></td>\n",
       "      <td>https://www.metmuseum.org/art/collection/searc...</td>\n",
       "    </tr>\n",
       "    <tr>\n",
       "      <th>98</th>\n",
       "      <td></td>\n",
       "      <td>Master of Rimini</td>\n",
       "      <td></td>\n",
       "      <td>Medieval Art</td>\n",
       "      <td></td>\n",
       "      <td>https://www.metmuseum.org/art/collection/searc...</td>\n",
       "    </tr>\n",
       "    <tr>\n",
       "      <th>99</th>\n",
       "      <td></td>\n",
       "      <td></td>\n",
       "      <td></td>\n",
       "      <td>Egyptian Art</td>\n",
       "      <td>Egypt</td>\n",
       "      <td>https://www.metmuseum.org/art/collection/searc...</td>\n",
       "    </tr>\n",
       "  </tbody>\n",
       "</table>\n",
       "<p>100 rows × 6 columns</p>\n",
       "</div>"
      ],
      "text/plain": [
       "   title                                 name gender  \\\n",
       "0                           Willem de Kooning          \n",
       "1         Royal Porcelain Manufactory, Naples          \n",
       "2                               Woman Painter          \n",
       "3                                     Man Ray          \n",
       "4                           Willem de Kooning          \n",
       "..   ...                                  ...    ...   \n",
       "95                                                     \n",
       "96                              Pablo Picasso          \n",
       "97                                                     \n",
       "98                           Master of Rimini          \n",
       "99                                                     \n",
       "\n",
       "                                department country  \\\n",
       "0              Modern and Contemporary Art           \n",
       "1   European Sculpture and Decorative Arts           \n",
       "2                      Greek and Roman Art           \n",
       "3                              Photographs           \n",
       "4              Modern and Contemporary Art           \n",
       "..                                     ...     ...   \n",
       "95                            Egyptian Art   Egypt   \n",
       "96             Modern and Contemporary Art           \n",
       "97                           The Cloisters           \n",
       "98                            Medieval Art           \n",
       "99                            Egyptian Art   Egypt   \n",
       "\n",
       "                                                 link  \n",
       "0   https://www.metmuseum.org/art/collection/searc...  \n",
       "1   https://www.metmuseum.org/art/collection/searc...  \n",
       "2   https://www.metmuseum.org/art/collection/searc...  \n",
       "3   https://www.metmuseum.org/art/collection/searc...  \n",
       "4   https://www.metmuseum.org/art/collection/searc...  \n",
       "..                                                ...  \n",
       "95  https://www.metmuseum.org/art/collection/searc...  \n",
       "96  https://www.metmuseum.org/art/collection/searc...  \n",
       "97  https://www.metmuseum.org/art/collection/searc...  \n",
       "98  https://www.metmuseum.org/art/collection/searc...  \n",
       "99  https://www.metmuseum.org/art/collection/searc...  \n",
       "\n",
       "[100 rows x 6 columns]"
      ]
     },
     "execution_count": 69,
     "metadata": {},
     "output_type": "execute_result"
    }
   ],
   "source": [
    "df"
   ]
  },
  {
   "cell_type": "code",
   "execution_count": 70,
   "id": "c3934d3b-4c1b-4ee3-a508-f784f3a9b352",
   "metadata": {},
   "outputs": [
    {
     "name": "stdout",
     "output_type": "stream",
     "text": [
      "<class 'pandas.core.frame.DataFrame'>\n",
      "RangeIndex: 100 entries, 0 to 99\n",
      "Data columns (total 6 columns):\n",
      " #   Column      Non-Null Count  Dtype \n",
      "---  ------      --------------  ----- \n",
      " 0   title       96 non-null     object\n",
      " 1   name        96 non-null     object\n",
      " 2   gender      96 non-null     object\n",
      " 3   department  96 non-null     object\n",
      " 4   country     96 non-null     object\n",
      " 5   link        96 non-null     object\n",
      "dtypes: object(6)\n",
      "memory usage: 4.8+ KB\n"
     ]
    }
   ],
   "source": [
    "df.info()"
   ]
  },
  {
   "cell_type": "code",
   "execution_count": 71,
   "id": "73a4386d",
   "metadata": {},
   "outputs": [
    {
     "data": {
      "text/plain": [
       "department\n",
       "Egyptian Art                              21\n",
       "European Paintings                        18\n",
       "Greek and Roman Art                       18\n",
       "Modern and Contemporary Art               13\n",
       "European Sculpture and Decorative Arts    12\n",
       "Drawings and Prints                        5\n",
       "Medieval Art                               3\n",
       "Robert Lehman Collection                   2\n",
       "Islamic Art                                1\n",
       "Photographs                                1\n",
       "The Cloisters                              1\n",
       "The Michael C. Rockefeller Wing            1\n",
       "Name: count, dtype: int64"
      ]
     },
     "execution_count": 71,
     "metadata": {},
     "output_type": "execute_result"
    }
   ],
   "source": [
    "df.value_counts('department')"
   ]
  },
  {
   "cell_type": "code",
   "execution_count": 72,
   "id": "7bbf2a90",
   "metadata": {},
   "outputs": [
    {
     "data": {
      "text/plain": [
       "<Axes: ylabel='department'>"
      ]
     },
     "execution_count": 72,
     "metadata": {},
     "output_type": "execute_result"
    },
    {
     "data": {
      "image/png": "[encoded data removed]",
      "text/plain": [
       "<Figure size 640x480 with 1 Axes>"
      ]
     },
     "metadata": {},
     "output_type": "display_data"
    }
   ],
   "source": [
    "df.department.value_counts().plot(kind = 'barh')"
   ]
  },
  {
   "cell_type": "code",
   "execution_count": 73,
   "id": "68c6b5bd",
   "metadata": {},
   "outputs": [
    {
     "data": {
      "text/plain": [
       "<Axes: ylabel='count'>"
      ]
     },
     "execution_count": 73,
     "metadata": {},
     "output_type": "execute_result"
    },
    {
     "data": {
      "image/png": "[encoded data removed]",
      "text/plain": [
       "<Figure size 640x480 with 1 Axes>"
      ]
     },
     "metadata": {},
     "output_type": "display_data"
    }
   ],
   "source": [
    "df.department.value_counts().plot(kind = 'pie')"
   ]
  },
  {
   "cell_type": "code",
   "execution_count": null,
   "id": "faa9e026",
   "metadata": {},
   "outputs": [],
   "source": []
  }
 ],
 "metadata": {
  "kernelspec": {
   "display_name": "Python 3 (ipykernel)",
   "language": "python",
   "name": "python3"
  },
  "language_info": {
   "codemirror_mode": {
    "name": "ipython",
    "version": 3
   },
   "file_extension": ".py",
   "mimetype": "text/x-python",
   "name": "python",
   "nbconvert_exporter": "python",
   "pygments_lexer": "ipython3",
   "version": "3.13.0"
  }
 },
 "nbformat": 4,
 "nbformat_minor": 5
}