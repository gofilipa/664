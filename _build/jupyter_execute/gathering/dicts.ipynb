{
 "cells": [
  {
   "cell_type": "markdown",
   "id": "b07e2ba5-c93b-4f1f-99e8-42b5e0e3c8cb",
   "metadata": {},
   "source": [
    "# dictionaries\n",
    "What is a dictionary? Information organized into key:value pairs."
   ]
  },
  {
   "cell_type": "code",
   "execution_count": 1,
   "id": "55f923dd-b3b2-4418-be8b-42e7441a1152",
   "metadata": {},
   "outputs": [],
   "source": [
    "filipa = {\n",
    "    'name': ['filipa', 'da gama', 'calado'],\n",
    "    'age': 35,\n",
    "    'degree': 'literature',\n",
    "    'jobs': ['professor', 'digital scholarship specialist', 'student']\n",
    "}"
   ]
  },
  {
   "cell_type": "markdown",
   "id": "93463c20-01e3-462a-bfe2-3983037cbc82",
   "metadata": {},
   "source": [
    "How do we access items within a column? With brackets."
   ]
  },
  {
   "cell_type": "code",
   "execution_count": 2,
   "id": "b075e38b-ebf9-4884-9435-7f7143e477c8",
   "metadata": {},
   "outputs": [
    {
     "data": {
      "text/plain": [
       "['professor', 'digital scholarship specialist', 'student']"
      ]
     },
     "execution_count": 2,
     "metadata": {},
     "output_type": "execute_result"
    }
   ],
   "source": [
    "filipa['jobs']"
   ]
  },
  {
   "cell_type": "code",
   "execution_count": 3,
   "id": "f6db0d19-4f66-4b17-8bb0-ae49ebe3f326",
   "metadata": {},
   "outputs": [
    {
     "data": {
      "text/plain": [
       "35"
      ]
     },
     "execution_count": 3,
     "metadata": {},
     "output_type": "execute_result"
    }
   ],
   "source": [
    "filipa['age']"
   ]
  },
  {
   "cell_type": "markdown",
   "id": "56d7d11e-9f5c-426e-a55e-eb61e8cfe606",
   "metadata": {},
   "source": [
    "How do we access items within a column? With list indexing."
   ]
  },
  {
   "cell_type": "code",
   "execution_count": 4,
   "id": "2864ec27-785a-4008-b906-327f7f84f644",
   "metadata": {},
   "outputs": [
    {
     "data": {
      "text/plain": [
       "'filipa'"
      ]
     },
     "execution_count": 4,
     "metadata": {},
     "output_type": "execute_result"
    }
   ],
   "source": [
    "filipa['name'][0]"
   ]
  },
  {
   "cell_type": "markdown",
   "id": "6be99a3f-e4bd-40d2-a614-36c57edfab7c",
   "metadata": {},
   "source": [
    "Don't worry if this looks wonky to you now. We will have plenty of time to practice in the next few lessons on APIs."
   ]
  }
 ],
 "metadata": {
  "kernelspec": {
   "display_name": "Python 3 (ipykernel)",
   "language": "python",
   "name": "python3"
  },
  "language_info": {
   "codemirror_mode": {
    "name": "ipython",
    "version": 3
   },
   "file_extension": ".py",
   "mimetype": "text/x-python",
   "name": "python",
   "nbconvert_exporter": "python",
   "pygments_lexer": "ipython3",
   "version": "3.13.0"
  }
 },
 "nbformat": 4,
 "nbformat_minor": 5
}