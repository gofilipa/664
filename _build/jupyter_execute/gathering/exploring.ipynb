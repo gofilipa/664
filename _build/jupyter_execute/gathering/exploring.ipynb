{
 "cells": [
  {
   "cell_type": "markdown",
   "id": "fd60d730-5a8c-44fb-b1ad-d37088e756aa",
   "metadata": {},
   "source": [
    "# exploring `bs4`\n",
    "\n",
    "## what is `bs4?`\n",
    "\n",
    "bs4 is short for `BeautifulSoup4`, a python package for parsing HTML data. bs4's power comes from using python syntax to access and manipulate HTML elements. This means that it uses the python language and its syntax to get information from pages written in the web's main computer lanugage, HTML.\n",
    "\n",
    "I explain what the code below does in \"comments\" contained within each cell. Comments in Python are written on lines that begin with a hashtag `#`. They are like annotations for the code. The `#` which starts the comment line indicates to the computer that it should ignore that line (in other words, that the line is meant for human readers)."
   ]
  },
  {
   "cell_type": "markdown",
   "id": "0ff8c6f0-6123-432f-a09c-f331d6b1d33f",
   "metadata": {},
   "source": [
    "## how to scrape a website with 6 lines of code"
   ]
  },
  {
   "cell_type": "code",
   "execution_count": 1,
   "id": "282c826b-0dd1-4c41-a641-9483f61025e5",
   "metadata": {},
   "outputs": [],
   "source": [
    "# import the following libraries for our web scraping project\n",
    "\n",
    "import requests # to make https requests\n",
    "from bs4 import BeautifulSoup # our web scraping library\n",
    "import lxml # a parser for working with html data"
   ]
  },
  {
   "cell_type": "code",
   "execution_count": 2,
   "id": "0f04623a-afd9-4866-9dd5-cc035ec3833f",
   "metadata": {},
   "outputs": [],
   "source": [
    "# save the data from the website as a \"soup\" object\n",
    "\n",
    "site = requests.get('https://www.nytimes.com/section/nyregion') # gets the URL\n",
    "html_code = site.content # saves the HTML code\n",
    "soup = BeautifulSoup(html_code, 'lxml') # creates a soup object"
   ]
  },
  {
   "cell_type": "markdown",
   "id": "0245e40b-546b-48bc-a165-b46fd130f25b",
   "metadata": {},
   "source": [
    "*NOTE:*\n",
    "If you get an error with importing one of the above libraries, make sure you have them installed. On Jupyter, that means running the following in your Command Line program (like Terminal or Gitbash):\n",
    "```console\n",
    "pip install requests\n",
    "pip install bs4\n",
    "pip install lxml\n",
    "```\n",
    "On colab, run the same code, but put an exclamation before `pip`, like: \n",
    "```console\n",
    "!pip install requests\n",
    "!pip install bs4\n",
    "!pip install lxml\n",
    "```"
   ]
  },
  {
   "cell_type": "markdown",
   "id": "5f32280c-1f8b-4c00-9791-d73bc2000b5a",
   "metadata": {},
   "source": [
    "## the `soup` object\n",
    "\n",
    "This word \"object\" in Python is something you'll hear often. It means a collection of data and functions that can work on that data. You can think of it as a way of representing real world objects (like this web page) that is organized and accessible, so you can search and manipulate that information with Python.\n",
    "\n",
    "Let's take an initial look into what this beautiful soup object allows us to do. It takes the HTML source, the specific HTML elements or \"tags,\" and makes it possible for us to access those tags using python syntax -- specifically, the dot syntax."
   ]
  },
  {
   "cell_type": "code",
   "execution_count": 3,
   "id": "89b6ef75-a142-4f13-af8f-f1092d74b034",
   "metadata": {},
   "outputs": [
    {
     "data": {
      "text/plain": [
       "<title data-rh=\"true\">New York - The New York Times</title>"
      ]
     },
     "execution_count": 3,
     "metadata": {},
     "output_type": "execute_result"
    }
   ],
   "source": [
    "soup.title"
   ]
  },
  {
   "cell_type": "code",
   "execution_count": 4,
   "id": "80b7336f-f7ab-4e09-badb-8c623ab442d8",
   "metadata": {},
   "outputs": [
    {
     "data": {
      "text/plain": [
       "<h1 class=\"css-14dhlt9 e16wpn5v0\" data-component-name=\"collection-header\">New York</h1>"
      ]
     },
     "execution_count": 4,
     "metadata": {},
     "output_type": "execute_result"
    }
   ],
   "source": [
    "soup.h1"
   ]
  },
  {
   "cell_type": "code",
   "execution_count": 5,
   "id": "27e4f7e5-ffe1-4e62-9a28-9a0441d448a2",
   "metadata": {},
   "outputs": [
    {
     "data": {
      "text/plain": [
       "<a class=\"css-kgn7zc\" href=\"#site-content\">Skip to content</a>"
      ]
     },
     "execution_count": 5,
     "metadata": {},
     "output_type": "execute_result"
    }
   ],
   "source": [
    "soup.a"
   ]
  },
  {
   "cell_type": "markdown",
   "id": "161c7f12-2512-4c53-8a0c-cf846fa1a458",
   "metadata": {},
   "source": [
    "## getting text\n",
    "\n",
    "Let's go a little deeper than the element. We can access the text within each tag, getting rid of tags like `<p>` or `<h3>`, by using the `text` property."
   ]
  },
  {
   "cell_type": "code",
   "execution_count": 6,
   "id": "d748fa51-ca6e-435b-8bbd-9d723e7edc41",
   "metadata": {},
   "outputs": [
    {
     "data": {
      "text/plain": [
       "'New York - The New York Times'"
      ]
     },
     "execution_count": 6,
     "metadata": {},
     "output_type": "execute_result"
    }
   ],
   "source": [
    "# append the text property after the title property\n",
    "\n",
    "soup.title.text"
   ]
  },
  {
   "cell_type": "markdown",
   "id": "125de183-6684-443e-80bb-d80f5b375e63",
   "metadata": {},
   "source": [
    "What is the element to get a headline? Use the inspector to find it."
   ]
  },
  {
   "cell_type": "code",
   "execution_count": 7,
   "id": "999a2f79-2b49-4720-96d9-6169dbb21b94",
   "metadata": {},
   "outputs": [],
   "source": [
    "# saving the text from the level 3 header element to \"bill_title\"\n",
    "\n",
    "headline = soup.h3.text"
   ]
  },
  {
   "cell_type": "code",
   "execution_count": 8,
   "id": "914a6d05-49c2-42c2-84b5-e84eaeb9ed3d",
   "metadata": {},
   "outputs": [
    {
     "data": {
      "text/plain": [
       "'Her Pension Checks Vanished. The Doorman Stole Them, Prosecutors Say.'"
      ]
     },
     "execution_count": 8,
     "metadata": {},
     "output_type": "execute_result"
    }
   ],
   "source": [
    "headline"
   ]
  },
  {
   "cell_type": "code",
   "execution_count": 9,
   "id": "c3355643-7339-4cca-986c-cbc67eeca9d3",
   "metadata": {},
   "outputs": [
    {
     "data": {
      "text/plain": [
       "<p>Advertisement</p>"
      ]
     },
     "execution_count": 9,
     "metadata": {},
     "output_type": "execute_result"
    }
   ],
   "source": [
    "soup.p"
   ]
  },
  {
   "cell_type": "markdown",
   "id": "27edb84f-f0df-4df6-a0b6-1bc65b66f396",
   "metadata": {},
   "source": [
    "## getting attributes\n",
    "In addition to text, we can also get the HTML attributes. [HTML attributes](https://www.w3schools.com/html/html_attributes.asp) contain additional inforamation about HTML tag. A popular attribute is `href`, which stands for hyperlink reference, and it contains the link's URL address. To access the attributes like `href`, we use the syntax: `tag['attr']`."
   ]
  },
  {
   "cell_type": "code",
   "execution_count": 10,
   "id": "54bdd6e2-ebe8-4283-ae45-fd9b25eb8a0c",
   "metadata": {},
   "outputs": [
    {
     "data": {
      "text/plain": [
       "['css-1ykb5sd', 'e1hr934v2']"
      ]
     },
     "execution_count": 10,
     "metadata": {},
     "output_type": "execute_result"
    }
   ],
   "source": [
    "# note that this prints the value of each attribute (like the name of the class), not\n",
    "# the actual text contained within the larger element. For that, use the `text` property\n",
    "# on the element by itself.\n",
    "\n",
    "soup.h3['class']"
   ]
  },
  {
   "cell_type": "code",
   "execution_count": 11,
   "id": "3dcda58a-35d3-4f55-ae13-1dfcdd928d5d",
   "metadata": {},
   "outputs": [],
   "source": [
    "link_location = soup.a['href']"
   ]
  },
  {
   "cell_type": "code",
   "execution_count": 12,
   "id": "bc98c3e9-a32a-4efc-9a38-20fd3e5d7fda",
   "metadata": {},
   "outputs": [
    {
     "data": {
      "text/plain": [
       "'#site-content'"
      ]
     },
     "execution_count": 12,
     "metadata": {},
     "output_type": "execute_result"
    }
   ],
   "source": [
    "link_location"
   ]
  },
  {
   "cell_type": "markdown",
   "id": "4dc3d7a0-e950-4883-b392-5d6e212019c3",
   "metadata": {},
   "source": [
    "## more granular searching with `find()`\n",
    "What if you wanted to find an element by a class's value? You would use the `find()` method. This is useful when there are a lot of objects with the same element, and you want more specificity. "
   ]
  },
  {
   "cell_type": "code",
   "execution_count": 13,
   "id": "857cbdfb-5e1b-4b4d-8210-e5a3dbc4728f",
   "metadata": {},
   "outputs": [
    {
     "data": {
      "text/plain": [
       "<div class=\"css-14ee9cx\"><article class=\"css-1l4spti\"><figure aria-label=\"media\" class=\"css-8izaxg\" role=\"group\"><div class=\"css-79elbk\" data-testid=\"imageContainer-children-Image\"><img alt=\"\" class=\"css-rq4mmj\" decoding=\"async\" height=\"100\" sizes=\"(min-width: 1024px) 205px, 150px\" src=\"https://static01.nyt.com/images/2024/10/02/multimedia/02Gold-02-vmbz/02Gold-02-vmbz-thumbWide.jpg?quality=75&amp;auto=webp&amp;disable=upscale\" srcset=\"https://static01.nyt.com/images/2024/10/02/multimedia/02Gold-02-vmbz/02Gold-02-vmbz-thumbWide.jpg?quality=100&amp;auto=webp 190w,https://static01.nyt.com/images/2024/10/02/multimedia/02Gold-02-vmbz/02Gold-02-vmbz-videoThumb.jpg?quality=100&amp;auto=webp 75w,https://static01.nyt.com/images/2024/10/02/multimedia/02Gold-02-vmbz/02Gold-02-vmbz-videoLarge.jpg?quality=100&amp;auto=webp 768w,https://static01.nyt.com/images/2024/10/02/multimedia/02Gold-02-vmbz/02Gold-02-vmbz-mediumThreeByTwo210.jpg?quality=100&amp;auto=webp 210w,https://static01.nyt.com/images/2024/10/02/multimedia/02Gold-02-vmbz/02Gold-02-vmbz-mediumThreeByTwo225.jpg?quality=100&amp;auto=webp 225w,https://static01.nyt.com/images/2024/10/02/multimedia/02Gold-02-vmbz/02Gold-02-vmbz-mediumThreeByTwo440.jpg?quality=100&amp;auto=webp 440w,https://static01.nyt.com/images/2024/10/02/multimedia/02Gold-02-vmbz/02Gold-02-vmbz-mediumThreeByTwo252.jpg?quality=100&amp;auto=webp 252w,https://static01.nyt.com/images/2024/10/02/multimedia/02Gold-02-vmbz/02Gold-02-vmbz-mediumThreeByTwo378.jpg?quality=100&amp;auto=webp 378w,https://static01.nyt.com/images/2024/10/02/multimedia/02Gold-02-vmbz/02Gold-02-vmbz-threeByTwoLargeAt2X.jpg?quality=100&amp;auto=webp 1936w,https://static01.nyt.com/images/2024/10/02/multimedia/02Gold-02-vmbz/02Gold-02-vmbz-threeByTwoMediumAt2X.jpg?quality=100&amp;auto=webp 1500w,https://static01.nyt.com/images/2024/10/02/multimedia/02Gold-02-vmbz/02Gold-02-vmbz-threeByTwoSmallAt2X.jpg?quality=100&amp;auto=webp 600w\" width=\"150\"/></div><figcaption class=\"css-ktho12 e3rygrp0\" data-testid=\"photoviewer-children-ImageCaption\"></figcaption></figure><a class=\"css-8hzhxf\" href=\"/2024/10/02/nyregion/eugene-gold-dead.html\"><h3 class=\"css-1j88qqx e15t083i0\">Eugene Gold, Brooklyn D.A. Who Led the ‘Son of Sam’ Case, Dies at 100</h3></a><p class=\"css-1pga48a e15t083i1\">He prosecuted high-profile cases in the 1970s and championed Soviet Jews, but, after retiring, he ran afoul of the law himself, charged with a sex offense.</p><p class=\"css-1y3ykdt e140qd2t0\">By <span class=\"css-1n7hynb\">Joseph P. Fried</span></p></article><div class=\"css-agsgss e15t083i3\"><span class=\"css-1wj8chu\"> </span></div></div>"
      ]
     },
     "execution_count": 13,
     "metadata": {},
     "output_type": "execute_result"
    }
   ],
   "source": [
    "soup.find('div', class_='css-14ee9cx')"
   ]
  },
  {
   "cell_type": "code",
   "execution_count": 14,
   "id": "1819f44e-f804-4503-bf56-4f0bd635e1a5",
   "metadata": {},
   "outputs": [
    {
     "data": {
      "text/plain": [
       "'Eugene Gold, Brooklyn D.A. Who Led the ‘Son of Sam’ Case, Dies at 100He prosecuted high-profile cases in the 1970s and championed Soviet Jews, but, after retiring, he ran afoul of the law himself, charged with a sex offense.By Joseph P. Fried\\xa0'"
      ]
     },
     "execution_count": 14,
     "metadata": {},
     "output_type": "execute_result"
    }
   ],
   "source": [
    "# we can append text to the end of the find() call\n",
    "soup.find('div', class_='css-14ee9cx').text"
   ]
  },
  {
   "cell_type": "markdown",
   "id": "b57e17ff-e6ed-482d-92b9-c6cfc49cf7e6",
   "metadata": {},
   "source": [
    "## challenge: \n",
    "How do you print out all of the elements by a specific tag, like `h3`?"
   ]
  },
  {
   "cell_type": "markdown",
   "id": "f62197cc-5ae7-425d-aa5b-6473142f03ba",
   "metadata": {},
   "source": [
    "## `find_all()`\n",
    "\n",
    "Want to print out all tags of a specific element? Then we use `find_all()`"
   ]
  },
  {
   "cell_type": "code",
   "execution_count": 15,
   "id": "d84ed19d-5f8b-4e7c-a8de-000798224d67",
   "metadata": {},
   "outputs": [
    {
     "data": {
      "text/plain": [
       "[<h3 class=\"css-1ykb5sd e1hr934v2\"><a class=\"css-1u3p7j1\" data-rref=\"\" href=\"/2024/10/02/nyregion/nyc-doorman-steals-money-from-teacher.html\">Her Pension Checks Vanished. The Doorman Stole Them, Prosecutors Say.</a></h3>,\n",
       " <h3 class=\"css-1ykb5sd e1hr934v2\"><a class=\"css-1u3p7j1\" data-rref=\"\" href=\"/2024/10/02/nyregion/penn-station-gateway.html\">Penn Station Takes Up Two Blocks. Railroads Say They Must Have More.</a></h3>,\n",
       " <h3 class=\"css-1ykb5sd e1hr934v2\"><a class=\"css-1u3p7j1\" data-rref=\"\" href=\"/2024/10/02/nyregion/eric-adams-black-voters.html\">What Black Voters Are Saying About Eric Adams Since His Indictment</a></h3>,\n",
       " <h3 class=\"css-1ykb5sd e1hr934v2\"><a class=\"css-1u3p7j1\" data-rref=\"\" href=\"/2024/10/02/nyregion/adams-return-federal-court.html\">Prosecutors Warn of More Charges and Defendants in Adams Graft Case</a></h3>,\n",
       " <h3 class=\"css-1j88qqx e15t083i0\">Eugene Gold, Brooklyn D.A. Who Led the ‘Son of Sam’ Case, Dies at 100</h3>,\n",
       " <h3 class=\"css-1j88qqx e15t083i0\">Sarah Snook to Make Broadway Debut in One-Woman ‘Dorian Gray’</h3>,\n",
       " <h3 class=\"css-1j88qqx e15t083i0\">Truckers See Ports Turn Into Ghost Towns, and Worry About Their Future</h3>,\n",
       " <h3 class=\"css-1j88qqx e15t083i0\">Halloween in New York: Things to Do in October</h3>,\n",
       " <h3 class=\"css-1j88qqx e15t083i0\">‘Water for Elephants’ to Close on Broadway</h3>,\n",
       " <h3 class=\"css-1j88qqx e15t083i0\">Alicia Keys, LaChanze and Kristin Chenoweth Gather to Support Black Theater</h3>,\n",
       " <h3 class=\"css-1j88qqx e15t083i0\">Donna Henes,‘Urban Shaman’ Who Heralded the Seasons, Dies at 79</h3>,\n",
       " <h3 class=\"css-1j88qqx e15t083i0\">Read Eric Adams’s Legal Filing</h3>,\n",
       " <h3 class=\"css-1j88qqx e15t083i0\">3 Ambitious Song Cycles, but Only One Connects Mind and Heart</h3>,\n",
       " <h3 class=\"css-1j88qqx e15t083i0\">Adams Accuses Prosecutors of Leaking Investigation Details to News Media</h3>]"
      ]
     },
     "execution_count": 15,
     "metadata": {},
     "output_type": "execute_result"
    }
   ],
   "source": [
    "soup.find_all('h3')"
   ]
  },
  {
   "cell_type": "markdown",
   "id": "96904e80-a091-423f-acfb-63a56e4406d9",
   "metadata": {},
   "source": [
    "Now, how would we print out just the text from these elements? Check the error closely."
   ]
  },
  {
   "cell_type": "code",
   "execution_count": 16,
   "id": "9b7c0035-9795-4d91-9b4d-80da919ed11d",
   "metadata": {},
   "outputs": [
    {
     "ename": "AttributeError",
     "evalue": "ResultSet object has no attribute 'text'. You're probably treating a list of elements like a single element. Did you call find_all() when you meant to call find()?",
     "output_type": "error",
     "traceback": [
      "\u001b[0;31m---------------------------------------------------------------------------\u001b[0m",
      "\u001b[0;31mAttributeError\u001b[0m                            Traceback (most recent call last)",
      "Cell \u001b[0;32mIn[16], line 1\u001b[0m\n\u001b[0;32m----> 1\u001b[0m soup\u001b[38;5;241m.\u001b[39mfind_all(\u001b[38;5;124m'\u001b[39m\u001b[38;5;124mh3\u001b[39m\u001b[38;5;124m'\u001b[39m)\u001b[38;5;241m.\u001b[39mtext\n",
      "File \u001b[0;32m/opt/anaconda3/lib/python3.11/site-packages/bs4/element.py:2428\u001b[0m, in \u001b[0;36mResultSet.__getattr__\u001b[0;34m(self, key)\u001b[0m\n\u001b[1;32m   2426\u001b[0m \u001b[38;5;28;01mdef\u001b[39;00m \u001b[38;5;21m__getattr__\u001b[39m(\u001b[38;5;28mself\u001b[39m, key):\n\u001b[1;32m   2427\u001b[0m \u001b[38;5;250m    \u001b[39m\u001b[38;5;124;03m\"\"\"Raise a helpful exception to explain a common code fix.\"\"\"\u001b[39;00m\n\u001b[0;32m-> 2428\u001b[0m     \u001b[38;5;28;01mraise\u001b[39;00m \u001b[38;5;167;01mAttributeError\u001b[39;00m(\n\u001b[1;32m   2429\u001b[0m         \u001b[38;5;124m\"\u001b[39m\u001b[38;5;124mResultSet object has no attribute \u001b[39m\u001b[38;5;124m'\u001b[39m\u001b[38;5;132;01m%s\u001b[39;00m\u001b[38;5;124m'\u001b[39m\u001b[38;5;124m. You\u001b[39m\u001b[38;5;124m'\u001b[39m\u001b[38;5;124mre probably treating a list of elements like a single element. Did you call find_all() when you meant to call find()?\u001b[39m\u001b[38;5;124m\"\u001b[39m \u001b[38;5;241m%\u001b[39m key\n\u001b[1;32m   2430\u001b[0m     )\n",
      "\u001b[0;31mAttributeError\u001b[0m: ResultSet object has no attribute 'text'. You're probably treating a list of elements like a single element. Did you call find_all() when you meant to call find()?"
     ]
    }
   ],
   "source": [
    "soup.find_all('h3').text"
   ]
  },
  {
   "cell_type": "code",
   "execution_count": 3,
   "id": "3100e1dd-a2da-4d9e-a42f-bb56743b77ad",
   "metadata": {},
   "outputs": [],
   "source": [
    "headers = soup.find_all('h3')"
   ]
  },
  {
   "cell_type": "code",
   "execution_count": 4,
   "id": "2a9b0386-5b66-49e2-a773-657a422d4ccc",
   "metadata": {},
   "outputs": [
    {
     "name": "stdout",
     "output_type": "stream",
     "text": [
      "Emails Suggest Cuomo Undersold His Role in Altering Covid Report\n",
      "How to Make $6,000 a Month by Moving Citi Bikes Around the Block\n",
      "As Public Support for Migrants Fades, Private Donors Confront the Crisis\n",
      "Police Officials Defend Subway Shooting That Gravely Wounded Bystander\n",
      "‘Eh, Whatever.’ Angelenos Shrug at Recent Quakes, Decades After the Last ‘Big One.’\n",
      "A Trip to the Many Worlds of Hellboy’s Creator\n",
      "Homes for Sale in New York and New Jersey\n",
      "Homes for Sale in Manhattan and Queens\n",
      "Valarie D’Elia, Travel Reporter on TV and Radio, Dies at 64\n",
      "Harrison J. Goldin, 88, New York City Comptroller in Fiscal Crisis, Is Dead\n",
      "M.T.A.’s Financial Needs Grow With Congestion Pricing in Purgatory\n",
      "‘You’re Basically on a Broadway Stage, With New Friends’\n",
      "Panic! At the Vegan Food Festival\n",
      "With Trump Sentencing Delayed, It’s an Ordinary Wednesday\n"
     ]
    }
   ],
   "source": [
    "for item in headers:\n",
    "    print(item.text)"
   ]
  },
  {
   "cell_type": "markdown",
   "id": "b6b63993-e101-40ab-a02b-dd79c8dccfeb",
   "metadata": {},
   "source": [
    "Now, how would I save that data to a list? "
   ]
  },
  {
   "cell_type": "code",
   "execution_count": 18,
   "id": "0ef486d8-d4cb-483d-a57a-9065d853fd69",
   "metadata": {},
   "outputs": [],
   "source": [
    "header_text = []\n",
    "for item in headers:\n",
    "    header_text.append(item.text)"
   ]
  },
  {
   "cell_type": "code",
   "execution_count": 19,
   "id": "e1276294-0bea-4644-acbd-89def2d61f77",
   "metadata": {},
   "outputs": [
    {
     "data": {
      "text/plain": [
       "['Emails Suggest Cuomo Undersold His Role in Altering Covid Report',\n",
       " 'How to Make $6,000 a Month by Moving Citi Bikes Around the Block',\n",
       " 'As Public Support for Migrants Fades, Private Donors Confront the Crisis',\n",
       " 'Police Officials Defend Subway Shooting That Gravely Wounded Bystander',\n",
       " '‘Eh, Whatever.’ Angelenos Shrug at Recent Quakes, Decades After the Last ‘Big One.’',\n",
       " 'A Trip to the Many Worlds of Hellboy’s Creator',\n",
       " 'Homes for Sale in New York and New Jersey',\n",
       " 'Homes for Sale in Manhattan and Queens',\n",
       " 'Valarie D’Elia, Travel Reporter on TV and Radio, Dies at 64',\n",
       " 'Harrison J. Goldin, 88, New York City Comptroller in Fiscal Crisis, Is Dead',\n",
       " 'M.T.A.’s Financial Needs Grow With Congestion Pricing in Purgatory',\n",
       " '‘You’re Basically on a Broadway Stage, With New Friends’',\n",
       " 'Panic! At the Vegan Food Festival',\n",
       " 'With Trump Sentencing Delayed, It’s an Ordinary Wednesday']"
      ]
     },
     "execution_count": 19,
     "metadata": {},
     "output_type": "execute_result"
    }
   ],
   "source": [
    "header_text"
   ]
  },
  {
   "cell_type": "markdown",
   "id": "ed52b411-ce97-41d3-a770-3d3e6bb1b0b4",
   "metadata": {},
   "source": [
    "## group challenge\n",
    "Write a loop that pulls out all descriptions below the headlines. Then, do something with the results, like loop through them to get the text or to filter them by some condition (like if they contain a word). Save the output to a list. "
   ]
  },
  {
   "cell_type": "code",
   "execution_count": 22,
   "id": "5a6815c9-76ec-41ba-82ba-0184a8f13fd7",
   "metadata": {},
   "outputs": [],
   "source": [
    "# before we filter out the headlines by word, we will lowercase each word so that we don't have to account for\n",
    "# capital words vs lowercase words. It's a way of regularizing the text.\n",
    "\n",
    "police = []\n",
    "for i in header_text:\n",
    "    # lowercasing each word\n",
    "    lower = i.lower()\n",
    "    if \"police\" in lower:\n",
    "        police.append(i)"
   ]
  },
  {
   "cell_type": "code",
   "execution_count": 23,
   "id": "28d900e5-0d47-4d79-b060-d86e22aba027",
   "metadata": {},
   "outputs": [
    {
     "data": {
      "text/plain": [
       "['Police Officials Defend Subway Shooting That Gravely Wounded Bystander']"
      ]
     },
     "execution_count": 23,
     "metadata": {},
     "output_type": "execute_result"
    }
   ],
   "source": [
    "police"
   ]
  }
 ],
 "metadata": {
  "kernelspec": {
   "display_name": "Python 3 (ipykernel)",
   "language": "python",
   "name": "python3"
  },
  "language_info": {
   "codemirror_mode": {
    "name": "ipython",
    "version": 3
   },
   "file_extension": ".py",
   "mimetype": "text/x-python",
   "name": "python",
   "nbconvert_exporter": "python",
   "pygments_lexer": "ipython3",
   "version": "3.11.7"
  }
 },
 "nbformat": 4,
 "nbformat_minor": 5
}