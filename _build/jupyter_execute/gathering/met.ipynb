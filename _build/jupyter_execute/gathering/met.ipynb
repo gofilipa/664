{
 "cells": [
  {
   "cell_type": "markdown",
   "id": "1e18d642-3587-49da-9fc4-caf20d1d9853",
   "metadata": {},
   "source": [
    "# the MET API\n",
    "## the anatomy of a URL\n",
    "My favorite API is the [Met API](https://metmuseum.github.io/), from the Metropolitan Museum of Art in New York City. I like this API because it is free, open, and requires no sign-up or authentication codes. \n",
    "\n",
    "To give more of a sense of how an API gets data from a server, I will explain the \"anatomy\" of a URL. APIs use URL *endpoints* to get data from servers. You can think of a URL as a series of folders that each contain data. The folder which contains the data you want is the endpoint. Here's how the Met uses URLs in its API:\n",
    "- the *root* consists of the base URL. \n",
    "   - https://collectionapi.metmuseum.org/\n",
    "- the *path* which consists of a directory structure (file structure) where the data is held: \n",
    "   - /public/collection/v1/objects\n",
    "   - /public/collection/v1/departments \n",
    "   - /public/collection/v1/search\n",
    "- the *query parameter* or the *endpoint* which is the specific request.\n",
    "   - ?q=SearchTerm\n",
    "   - ?q=Berthe+Morisot\n",
    "\n",
    "So, to search for objects that match the name of the painter \"Berthe Morisot,\" one would use the following request URL:\n",
    "`https://collectionapi.metmuseum.org/public/collection/v1/search?q=Berthe+Morisot`\n",
    "\n",
    "The results would appear as a list of object IDs in a JSON format. Then, one would use the objects path to search for a specific object. The result is the catalog information for that item in JSON format. Put the above URL in the browser to see it for yourself!\n",
    "\n",
    "`https://collectionapi.metmuseum.org/public/collection/v1/objects/438009`\n",
    "\n",
    "At the end of the workshop, we will look more deeply at the [Legiscan API](https://legiscan.com/legiscan). "
   ]
  },
  {
   "cell_type": "code",
   "execution_count": null,
   "id": "3e571f0f-2c1c-4db9-928f-7f061d9369bc",
   "metadata": {},
   "outputs": [],
   "source": []
  }
 ],
 "metadata": {
  "kernelspec": {
   "display_name": "Python 3 (ipykernel)",
   "language": "python",
   "name": "python3"
  },
  "language_info": {
   "codemirror_mode": {
    "name": "ipython",
    "version": 3
   },
   "file_extension": ".py",
   "mimetype": "text/x-python",
   "name": "python",
   "nbconvert_exporter": "python",
   "pygments_lexer": "ipython3",
   "version": "3.11.7"
  }
 },
 "nbformat": 4,
 "nbformat_minor": 5
}