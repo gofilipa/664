{
 "cells": [
  {
   "cell_type": "code",
   "execution_count": 1,
   "id": "0fd49c04-a6c0-4103-8cb5-fb06c2b08599",
   "metadata": {},
   "outputs": [],
   "source": [
    "# string - 'any characters between quotes'\n",
    "# integer - a whole number: 1\n",
    "# float - a decimal number: 1.0\n",
    "# list - a series of objects, between commas, and brackets\n",
    "# boolean - true or false value"
   ]
  },
  {
   "cell_type": "code",
   "execution_count": 2,
   "id": "d37fe284-65b3-424b-b88b-b332cb1543ab",
   "metadata": {},
   "outputs": [
    {
     "data": {
      "text/plain": [
       "str"
      ]
     },
     "execution_count": 2,
     "metadata": {},
     "output_type": "execute_result"
    }
   ],
   "source": [
    "type('hello world!')"
   ]
  },
  {
   "cell_type": "code",
   "execution_count": 3,
   "id": "c00487ac-9c3a-484b-aa0b-aaa565c69dc7",
   "metadata": {},
   "outputs": [],
   "source": [
    "greeting = 'hello world!'"
   ]
  },
  {
   "cell_type": "code",
   "execution_count": 4,
   "id": "d4645904-cef6-4142-b2fe-85204475f522",
   "metadata": {},
   "outputs": [],
   "source": [
    "lunch = ['fries', 'burrito', \"chili's\", 'applebees', 'sandwich']"
   ]
  },
  {
   "cell_type": "code",
   "execution_count": 5,
   "id": "d612d152-9d3c-49ff-ae82-f732ba0d01bb",
   "metadata": {},
   "outputs": [
    {
     "data": {
      "text/plain": [
       "'fries'"
      ]
     },
     "execution_count": 5,
     "metadata": {},
     "output_type": "execute_result"
    }
   ],
   "source": [
    "lunch[0]"
   ]
  },
  {
   "cell_type": "code",
   "execution_count": 6,
   "id": "a2ae1362-6471-4bc6-a167-ad94c2aa95ac",
   "metadata": {},
   "outputs": [
    {
     "data": {
      "text/plain": [
       "'sandwich'"
      ]
     },
     "execution_count": 6,
     "metadata": {},
     "output_type": "execute_result"
    }
   ],
   "source": [
    "lunch[-1]"
   ]
  },
  {
   "cell_type": "code",
   "execution_count": 7,
   "id": "93828790-e102-4038-860e-4ce7b2b52f67",
   "metadata": {},
   "outputs": [
    {
     "data": {
      "text/plain": [
       "['burrito', \"chili's\", 'applebees']"
      ]
     },
     "execution_count": 7,
     "metadata": {},
     "output_type": "execute_result"
    }
   ],
   "source": [
    "lunch[1:4]"
   ]
  },
  {
   "cell_type": "code",
   "execution_count": 8,
   "id": "a0a38d5b-251b-4968-8e11-9e3e3cca757f",
   "metadata": {},
   "outputs": [
    {
     "ename": "NameError",
     "evalue": "name 'data' is not defined",
     "output_type": "error",
     "traceback": [
      "\u001b[0;31m---------------------------------------------------------------------------\u001b[0m",
      "\u001b[0;31mNameError\u001b[0m                                 Traceback (most recent call last)",
      "Cell \u001b[0;32mIn[8], line 4\u001b[0m\n\u001b[1;32m      1\u001b[0m \u001b[38;5;66;03m# functions: type(data)\u001b[39;00m\n\u001b[1;32m      2\u001b[0m \u001b[38;5;66;03m# methods: just like functions, but with \"dot syntax\"\u001b[39;00m\n\u001b[0;32m----> 4\u001b[0m \u001b[38;5;28mtype\u001b[39m(data)\n\u001b[1;32m      5\u001b[0m greeting\u001b[38;5;241m.\u001b[39mupper()\n",
      "\u001b[0;31mNameError\u001b[0m: name 'data' is not defined"
     ]
    }
   ],
   "source": [
    "# functions: type(data)\n",
    "# methods: just like functions, but with \"dot syntax\"\n",
    "\n",
    "type(data)\n",
    "greeting.upper()"
   ]
  },
  {
   "cell_type": "code",
   "execution_count": 17,
   "id": "5f73e0dc-85f8-4ecc-b252-2797d134bbe6",
   "metadata": {},
   "outputs": [
    {
     "data": {
      "text/plain": [
       "['hello ', 'orld!']"
      ]
     },
     "execution_count": 17,
     "metadata": {},
     "output_type": "execute_result"
    }
   ],
   "source": [
    "greeting.split('w')"
   ]
  },
  {
   "cell_type": "code",
   "execution_count": 18,
   "id": "1829a99a-419e-4519-bf8e-8a08ed12761e",
   "metadata": {},
   "outputs": [],
   "source": [
    "text = '''\n",
    "I am by birth a Genevese, and my family is one of the most distinguished of \n",
    "that republic. My ancestors had been for many years counsellors and syndics, \n",
    "and my father had filled several public situations with honour and reputation. \n",
    "He was respected by all who knew him for his integrity and indefatigable \n",
    "attention to public business. He passed his younger days perpetually occupied \n",
    "by the affairs of his country; a variety of circumstances had prevented \n",
    "his marrying early, nor was it until the decline of life that he became \n",
    "a husband and the father of a family.\n",
    "\n",
    "As the circumstances of his marriage illustrate his character, I cannot \n",
    "refrain from relating them. One of his most intimate friends was a merchant\n",
    "who, from a flourishing state, fell, through numerous mischances, into poverty. \n",
    "This man, whose name was Beaufort, was of a proud and unbending disposition and \n",
    "could not bear to live in poverty and oblivion in the same country where he had \n",
    "formerly been distinguished for his rank and magnificence. Having paid his debts, \n",
    "therefore, in the most honourable manner, he retreated with his daughter to the \n",
    "town of Lucerne, where he lived unknown and in wretchedness. My father loved \n",
    "Beaufort with the truest friendship and was deeply grieved by his retreat in \n",
    "these unfortunate circumstances. He bitterly deplored the false pride which \n",
    "led his friend to a conduct so little worthy of the affection that united them. \n",
    "He lost no time in endeavouring to seek him out, with the hope of persuading \n",
    "him to begin the world again through his credit and assistance. '''"
   ]
  },
  {
   "cell_type": "code",
   "execution_count": 19,
   "id": "962af3ab-2a4d-466f-884e-f69304447e43",
   "metadata": {},
   "outputs": [
    {
     "data": {
      "text/plain": [
       "str"
      ]
     },
     "execution_count": 19,
     "metadata": {},
     "output_type": "execute_result"
    }
   ],
   "source": [
    "type(text)"
   ]
  },
  {
   "cell_type": "code",
   "execution_count": 20,
   "id": "0500a278-70e2-4b7e-833a-66c22cf67b45",
   "metadata": {},
   "outputs": [
    {
     "data": {
      "text/plain": [
       "'\\nI am by birth a Genevese, and my family is one of the most distinguished of \\nthat republic. My ancestors had been for many years counsellors and syndics, \\nand my father had filled several public situations with honour and reputation. \\nHe was respected by all who knew him for his integrity and indefatigable \\nattention to public business. He passed his younger days perpetually occupied \\nby the affairs of his country; a variety of circumstances had prevented \\nhis marrying early, nor was it until the decline of life that he became \\na husband and the father of a family.\\n\\nAs the circumstances of his marriage illustrate his character, I cannot \\nrefrain from relating them. One of his most intimate friends was a merchant\\nwho, from a flourishing state, fell, through numerous mischances, into poverty. \\nThis man, whose name was Beaufort, was of a proud and unbending disposition and \\ncould not bear to live in poverty and oblivion in the same country where he had \\nformerly been distinguished for his rank and magnificence. Having paid his debts, \\ntherefore, in the most honourable manner, he retreated with his daughter to the \\ntown of Lucerne, where he lived unknown and in wretchedness. My father loved \\nBeaufort with the truest friendship and was deeply grieved by his retreat in \\nthese unfortunate circumstances. He bitterly deplored the false pride which \\nled his friend to a conduct so little worthy of the affection that united them. \\nHe lost no time in endeavouring to seek him out, with the hope of persuading \\nhim to begin the world again through his credit and assistance. '"
      ]
     },
     "execution_count": 20,
     "metadata": {},
     "output_type": "execute_result"
    }
   ],
   "source": [
    "text"
   ]
  },
  {
   "cell_type": "code",
   "execution_count": 22,
   "id": "41760678-242e-425b-b4a2-3cb0ea91a19f",
   "metadata": {},
   "outputs": [
    {
     "data": {
      "text/plain": [
       "'m out, with the hope of persuading \\nhim to begin the world again through his credit and assistance. '"
      ]
     },
     "execution_count": 22,
     "metadata": {},
     "output_type": "execute_result"
    }
   ],
   "source": [
    "text[-100:]"
   ]
  },
  {
   "cell_type": "code",
   "execution_count": 25,
   "id": "e14f8699-99f3-4049-a06b-36060983e1f1",
   "metadata": {},
   "outputs": [],
   "source": [
    "words = text.split()"
   ]
  },
  {
   "cell_type": "code",
   "execution_count": 31,
   "id": "113d308a-d32c-49a9-807d-f29e0c8d2806",
   "metadata": {},
   "outputs": [],
   "source": [
    "words.sort()"
   ]
  },
  {
   "cell_type": "code",
   "execution_count": 32,
   "id": "ae1994a3-314f-4be6-afe4-19caede4a3e9",
   "metadata": {},
   "outputs": [
    {
     "data": {
      "text/plain": [
       "['As',\n",
       " 'Beaufort',\n",
       " 'Beaufort,',\n",
       " 'Genevese,',\n",
       " 'Having',\n",
       " 'He',\n",
       " 'He',\n",
       " 'He',\n",
       " 'He',\n",
       " 'I',\n",
       " 'I',\n",
       " 'Lucerne,',\n",
       " 'My',\n",
       " 'My',\n",
       " 'One',\n",
       " 'This',\n",
       " 'a',\n",
       " 'a',\n",
       " 'a',\n",
       " 'a',\n",
       " 'a',\n",
       " 'a',\n",
       " 'a',\n",
       " 'a',\n",
       " 'affairs',\n",
       " 'affection',\n",
       " 'again',\n",
       " 'all',\n",
       " 'am',\n",
       " 'ancestors',\n",
       " 'and',\n",
       " 'and',\n",
       " 'and',\n",
       " 'and',\n",
       " 'and',\n",
       " 'and',\n",
       " 'and',\n",
       " 'and',\n",
       " 'and',\n",
       " 'and',\n",
       " 'and',\n",
       " 'and',\n",
       " 'and',\n",
       " 'assistance.',\n",
       " 'attention',\n",
       " 'bear',\n",
       " 'became',\n",
       " 'been',\n",
       " 'been',\n",
       " 'begin',\n",
       " 'birth',\n",
       " 'bitterly',\n",
       " 'business.',\n",
       " 'by',\n",
       " 'by',\n",
       " 'by',\n",
       " 'by',\n",
       " 'cannot',\n",
       " 'character,',\n",
       " 'circumstances',\n",
       " 'circumstances',\n",
       " 'circumstances.',\n",
       " 'conduct',\n",
       " 'could',\n",
       " 'counsellors',\n",
       " 'country',\n",
       " 'country;',\n",
       " 'credit',\n",
       " 'daughter',\n",
       " 'days',\n",
       " 'debts,',\n",
       " 'decline',\n",
       " 'deeply',\n",
       " 'deplored',\n",
       " 'disposition',\n",
       " 'distinguished',\n",
       " 'distinguished',\n",
       " 'early,',\n",
       " 'endeavouring',\n",
       " 'false',\n",
       " 'family',\n",
       " 'family.',\n",
       " 'father',\n",
       " 'father',\n",
       " 'father',\n",
       " 'fell,',\n",
       " 'filled',\n",
       " 'flourishing',\n",
       " 'for',\n",
       " 'for',\n",
       " 'for',\n",
       " 'formerly',\n",
       " 'friend',\n",
       " 'friends',\n",
       " 'friendship',\n",
       " 'from',\n",
       " 'from',\n",
       " 'grieved',\n",
       " 'had',\n",
       " 'had',\n",
       " 'had',\n",
       " 'had',\n",
       " 'he',\n",
       " 'he',\n",
       " 'he',\n",
       " 'he',\n",
       " 'him',\n",
       " 'him',\n",
       " 'him',\n",
       " 'his',\n",
       " 'his',\n",
       " 'his',\n",
       " 'his',\n",
       " 'his',\n",
       " 'his',\n",
       " 'his',\n",
       " 'his',\n",
       " 'his',\n",
       " 'his',\n",
       " 'his',\n",
       " 'his',\n",
       " 'his',\n",
       " 'honour',\n",
       " 'honourable',\n",
       " 'hope',\n",
       " 'husband',\n",
       " 'illustrate',\n",
       " 'in',\n",
       " 'in',\n",
       " 'in',\n",
       " 'in',\n",
       " 'in',\n",
       " 'in',\n",
       " 'indefatigable',\n",
       " 'integrity',\n",
       " 'intimate',\n",
       " 'into',\n",
       " 'is',\n",
       " 'it',\n",
       " 'knew',\n",
       " 'led',\n",
       " 'life',\n",
       " 'little',\n",
       " 'live',\n",
       " 'lived',\n",
       " 'lost',\n",
       " 'loved',\n",
       " 'magnificence.',\n",
       " 'man,',\n",
       " 'manner,',\n",
       " 'many',\n",
       " 'marriage',\n",
       " 'marrying',\n",
       " 'merchant',\n",
       " 'mischances,',\n",
       " 'most',\n",
       " 'most',\n",
       " 'most',\n",
       " 'my',\n",
       " 'my',\n",
       " 'name',\n",
       " 'no',\n",
       " 'nor',\n",
       " 'not',\n",
       " 'numerous',\n",
       " 'oblivion',\n",
       " 'occupied',\n",
       " 'of',\n",
       " 'of',\n",
       " 'of',\n",
       " 'of',\n",
       " 'of',\n",
       " 'of',\n",
       " 'of',\n",
       " 'of',\n",
       " 'of',\n",
       " 'of',\n",
       " 'of',\n",
       " 'of',\n",
       " 'one',\n",
       " 'out,',\n",
       " 'paid',\n",
       " 'passed',\n",
       " 'perpetually',\n",
       " 'persuading',\n",
       " 'poverty',\n",
       " 'poverty.',\n",
       " 'prevented',\n",
       " 'pride',\n",
       " 'proud',\n",
       " 'public',\n",
       " 'public',\n",
       " 'rank',\n",
       " 'refrain',\n",
       " 'relating',\n",
       " 'republic.',\n",
       " 'reputation.',\n",
       " 'respected',\n",
       " 'retreat',\n",
       " 'retreated',\n",
       " 'same',\n",
       " 'seek',\n",
       " 'several',\n",
       " 'situations',\n",
       " 'so',\n",
       " 'state,',\n",
       " 'syndics,',\n",
       " 'that',\n",
       " 'that',\n",
       " 'that',\n",
       " 'the',\n",
       " 'the',\n",
       " 'the',\n",
       " 'the',\n",
       " 'the',\n",
       " 'the',\n",
       " 'the',\n",
       " 'the',\n",
       " 'the',\n",
       " 'the',\n",
       " 'the',\n",
       " 'the',\n",
       " 'the',\n",
       " 'them.',\n",
       " 'them.',\n",
       " 'therefore,',\n",
       " 'these',\n",
       " 'through',\n",
       " 'through',\n",
       " 'time',\n",
       " 'to',\n",
       " 'to',\n",
       " 'to',\n",
       " 'to',\n",
       " 'to',\n",
       " 'to',\n",
       " 'town',\n",
       " 'truest',\n",
       " 'unbending',\n",
       " 'unfortunate',\n",
       " 'united',\n",
       " 'unknown',\n",
       " 'until',\n",
       " 'variety',\n",
       " 'was',\n",
       " 'was',\n",
       " 'was',\n",
       " 'was',\n",
       " 'was',\n",
       " 'was',\n",
       " 'where',\n",
       " 'where',\n",
       " 'which',\n",
       " 'who',\n",
       " 'who,',\n",
       " 'whose',\n",
       " 'with',\n",
       " 'with',\n",
       " 'with',\n",
       " 'with',\n",
       " 'world',\n",
       " 'worthy',\n",
       " 'wretchedness.',\n",
       " 'years',\n",
       " 'younger']"
      ]
     },
     "execution_count": 32,
     "metadata": {},
     "output_type": "execute_result"
    }
   ],
   "source": [
    "words"
   ]
  },
  {
   "cell_type": "code",
   "execution_count": 35,
   "id": "d833068d-615b-43ca-be55-e22367b6bff0",
   "metadata": {},
   "outputs": [],
   "source": [
    "words.append('monster')"
   ]
  },
  {
   "cell_type": "code",
   "execution_count": 36,
   "id": "1e39986e-faef-44c9-b051-fe1943276fc2",
   "metadata": {},
   "outputs": [
    {
     "data": {
      "text/plain": [
       "['As',\n",
       " 'Beaufort',\n",
       " 'Beaufort,',\n",
       " 'Genevese,',\n",
       " 'Having',\n",
       " 'He',\n",
       " 'He',\n",
       " 'He',\n",
       " 'He',\n",
       " 'I',\n",
       " 'I',\n",
       " 'Lucerne,',\n",
       " 'My',\n",
       " 'My',\n",
       " 'One',\n",
       " 'This',\n",
       " 'a',\n",
       " 'a',\n",
       " 'a',\n",
       " 'a',\n",
       " 'a',\n",
       " 'a',\n",
       " 'a',\n",
       " 'a',\n",
       " 'affairs',\n",
       " 'affection',\n",
       " 'again',\n",
       " 'all',\n",
       " 'am',\n",
       " 'ancestors',\n",
       " 'and',\n",
       " 'and',\n",
       " 'and',\n",
       " 'and',\n",
       " 'and',\n",
       " 'and',\n",
       " 'and',\n",
       " 'and',\n",
       " 'and',\n",
       " 'and',\n",
       " 'and',\n",
       " 'and',\n",
       " 'and',\n",
       " 'assistance.',\n",
       " 'attention',\n",
       " 'bear',\n",
       " 'became',\n",
       " 'been',\n",
       " 'been',\n",
       " 'begin',\n",
       " 'birth',\n",
       " 'bitterly',\n",
       " 'business.',\n",
       " 'by',\n",
       " 'by',\n",
       " 'by',\n",
       " 'by',\n",
       " 'cannot',\n",
       " 'character,',\n",
       " 'circumstances',\n",
       " 'circumstances',\n",
       " 'circumstances.',\n",
       " 'conduct',\n",
       " 'could',\n",
       " 'counsellors',\n",
       " 'country',\n",
       " 'country;',\n",
       " 'credit',\n",
       " 'daughter',\n",
       " 'days',\n",
       " 'debts,',\n",
       " 'decline',\n",
       " 'deeply',\n",
       " 'deplored',\n",
       " 'disposition',\n",
       " 'distinguished',\n",
       " 'distinguished',\n",
       " 'early,',\n",
       " 'endeavouring',\n",
       " 'false',\n",
       " 'family',\n",
       " 'family.',\n",
       " 'father',\n",
       " 'father',\n",
       " 'father',\n",
       " 'fell,',\n",
       " 'filled',\n",
       " 'flourishing',\n",
       " 'for',\n",
       " 'for',\n",
       " 'for',\n",
       " 'formerly',\n",
       " 'friend',\n",
       " 'friends',\n",
       " 'friendship',\n",
       " 'from',\n",
       " 'from',\n",
       " 'grieved',\n",
       " 'had',\n",
       " 'had',\n",
       " 'had',\n",
       " 'had',\n",
       " 'he',\n",
       " 'he',\n",
       " 'he',\n",
       " 'he',\n",
       " 'him',\n",
       " 'him',\n",
       " 'him',\n",
       " 'his',\n",
       " 'his',\n",
       " 'his',\n",
       " 'his',\n",
       " 'his',\n",
       " 'his',\n",
       " 'his',\n",
       " 'his',\n",
       " 'his',\n",
       " 'his',\n",
       " 'his',\n",
       " 'his',\n",
       " 'his',\n",
       " 'honour',\n",
       " 'honourable',\n",
       " 'hope',\n",
       " 'husband',\n",
       " 'illustrate',\n",
       " 'in',\n",
       " 'in',\n",
       " 'in',\n",
       " 'in',\n",
       " 'in',\n",
       " 'in',\n",
       " 'indefatigable',\n",
       " 'integrity',\n",
       " 'intimate',\n",
       " 'into',\n",
       " 'is',\n",
       " 'it',\n",
       " 'knew',\n",
       " 'led',\n",
       " 'life',\n",
       " 'little',\n",
       " 'live',\n",
       " 'lived',\n",
       " 'lost',\n",
       " 'loved',\n",
       " 'magnificence.',\n",
       " 'man,',\n",
       " 'manner,',\n",
       " 'many',\n",
       " 'marriage',\n",
       " 'marrying',\n",
       " 'merchant',\n",
       " 'mischances,',\n",
       " 'most',\n",
       " 'most',\n",
       " 'most',\n",
       " 'my',\n",
       " 'my',\n",
       " 'name',\n",
       " 'no',\n",
       " 'nor',\n",
       " 'not',\n",
       " 'numerous',\n",
       " 'oblivion',\n",
       " 'occupied',\n",
       " 'of',\n",
       " 'of',\n",
       " 'of',\n",
       " 'of',\n",
       " 'of',\n",
       " 'of',\n",
       " 'of',\n",
       " 'of',\n",
       " 'of',\n",
       " 'of',\n",
       " 'of',\n",
       " 'of',\n",
       " 'one',\n",
       " 'out,',\n",
       " 'paid',\n",
       " 'passed',\n",
       " 'perpetually',\n",
       " 'persuading',\n",
       " 'poverty',\n",
       " 'poverty.',\n",
       " 'prevented',\n",
       " 'pride',\n",
       " 'proud',\n",
       " 'public',\n",
       " 'public',\n",
       " 'rank',\n",
       " 'refrain',\n",
       " 'relating',\n",
       " 'republic.',\n",
       " 'reputation.',\n",
       " 'respected',\n",
       " 'retreat',\n",
       " 'retreated',\n",
       " 'same',\n",
       " 'seek',\n",
       " 'several',\n",
       " 'situations',\n",
       " 'so',\n",
       " 'state,',\n",
       " 'syndics,',\n",
       " 'that',\n",
       " 'that',\n",
       " 'that',\n",
       " 'the',\n",
       " 'the',\n",
       " 'the',\n",
       " 'the',\n",
       " 'the',\n",
       " 'the',\n",
       " 'the',\n",
       " 'the',\n",
       " 'the',\n",
       " 'the',\n",
       " 'the',\n",
       " 'the',\n",
       " 'the',\n",
       " 'them.',\n",
       " 'them.',\n",
       " 'therefore,',\n",
       " 'these',\n",
       " 'through',\n",
       " 'through',\n",
       " 'time',\n",
       " 'to',\n",
       " 'to',\n",
       " 'to',\n",
       " 'to',\n",
       " 'to',\n",
       " 'to',\n",
       " 'town',\n",
       " 'truest',\n",
       " 'unbending',\n",
       " 'unfortunate',\n",
       " 'united',\n",
       " 'unknown',\n",
       " 'until',\n",
       " 'variety',\n",
       " 'was',\n",
       " 'was',\n",
       " 'was',\n",
       " 'was',\n",
       " 'was',\n",
       " 'was',\n",
       " 'where',\n",
       " 'where',\n",
       " 'which',\n",
       " 'who',\n",
       " 'who,',\n",
       " 'whose',\n",
       " 'with',\n",
       " 'with',\n",
       " 'with',\n",
       " 'with',\n",
       " 'world',\n",
       " 'worthy',\n",
       " 'wretchedness.',\n",
       " 'years',\n",
       " 'younger',\n",
       " 'monster']"
      ]
     },
     "execution_count": 36,
     "metadata": {},
     "output_type": "execute_result"
    }
   ],
   "source": [
    "words"
   ]
  },
  {
   "cell_type": "code",
   "execution_count": 37,
   "id": "8e6a9238-3fc2-4439-a949-4901bd5b9a27",
   "metadata": {},
   "outputs": [],
   "source": [
    "words.sort(reverse=True)"
   ]
  },
  {
   "cell_type": "code",
   "execution_count": 38,
   "id": "74e59686-090d-4199-8295-70247dac6022",
   "metadata": {},
   "outputs": [
    {
     "data": {
      "text/plain": [
       "['younger',\n",
       " 'years',\n",
       " 'wretchedness.',\n",
       " 'worthy',\n",
       " 'world',\n",
       " 'with',\n",
       " 'with',\n",
       " 'with',\n",
       " 'with',\n",
       " 'whose',\n",
       " 'who,',\n",
       " 'who',\n",
       " 'which',\n",
       " 'where',\n",
       " 'where',\n",
       " 'was',\n",
       " 'was',\n",
       " 'was',\n",
       " 'was',\n",
       " 'was',\n",
       " 'was',\n",
       " 'variety',\n",
       " 'until',\n",
       " 'unknown',\n",
       " 'united',\n",
       " 'unfortunate',\n",
       " 'unbending',\n",
       " 'truest',\n",
       " 'town',\n",
       " 'to',\n",
       " 'to',\n",
       " 'to',\n",
       " 'to',\n",
       " 'to',\n",
       " 'to',\n",
       " 'time',\n",
       " 'through',\n",
       " 'through',\n",
       " 'these',\n",
       " 'therefore,',\n",
       " 'them.',\n",
       " 'them.',\n",
       " 'the',\n",
       " 'the',\n",
       " 'the',\n",
       " 'the',\n",
       " 'the',\n",
       " 'the',\n",
       " 'the',\n",
       " 'the',\n",
       " 'the',\n",
       " 'the',\n",
       " 'the',\n",
       " 'the',\n",
       " 'the',\n",
       " 'that',\n",
       " 'that',\n",
       " 'that',\n",
       " 'syndics,',\n",
       " 'state,',\n",
       " 'so',\n",
       " 'situations',\n",
       " 'several',\n",
       " 'seek',\n",
       " 'same',\n",
       " 'retreated',\n",
       " 'retreat',\n",
       " 'respected',\n",
       " 'reputation.',\n",
       " 'republic.',\n",
       " 'relating',\n",
       " 'refrain',\n",
       " 'rank',\n",
       " 'public',\n",
       " 'public',\n",
       " 'proud',\n",
       " 'pride',\n",
       " 'prevented',\n",
       " 'poverty.',\n",
       " 'poverty',\n",
       " 'persuading',\n",
       " 'perpetually',\n",
       " 'passed',\n",
       " 'paid',\n",
       " 'out,',\n",
       " 'one',\n",
       " 'of',\n",
       " 'of',\n",
       " 'of',\n",
       " 'of',\n",
       " 'of',\n",
       " 'of',\n",
       " 'of',\n",
       " 'of',\n",
       " 'of',\n",
       " 'of',\n",
       " 'of',\n",
       " 'of',\n",
       " 'occupied',\n",
       " 'oblivion',\n",
       " 'numerous',\n",
       " 'not',\n",
       " 'nor',\n",
       " 'no',\n",
       " 'name',\n",
       " 'my',\n",
       " 'my',\n",
       " 'most',\n",
       " 'most',\n",
       " 'most',\n",
       " 'monster',\n",
       " 'mischances,',\n",
       " 'merchant',\n",
       " 'marrying',\n",
       " 'marriage',\n",
       " 'many',\n",
       " 'manner,',\n",
       " 'man,',\n",
       " 'magnificence.',\n",
       " 'loved',\n",
       " 'lost',\n",
       " 'lived',\n",
       " 'live',\n",
       " 'little',\n",
       " 'life',\n",
       " 'led',\n",
       " 'knew',\n",
       " 'it',\n",
       " 'is',\n",
       " 'into',\n",
       " 'intimate',\n",
       " 'integrity',\n",
       " 'indefatigable',\n",
       " 'in',\n",
       " 'in',\n",
       " 'in',\n",
       " 'in',\n",
       " 'in',\n",
       " 'in',\n",
       " 'illustrate',\n",
       " 'husband',\n",
       " 'hope',\n",
       " 'honourable',\n",
       " 'honour',\n",
       " 'his',\n",
       " 'his',\n",
       " 'his',\n",
       " 'his',\n",
       " 'his',\n",
       " 'his',\n",
       " 'his',\n",
       " 'his',\n",
       " 'his',\n",
       " 'his',\n",
       " 'his',\n",
       " 'his',\n",
       " 'his',\n",
       " 'him',\n",
       " 'him',\n",
       " 'him',\n",
       " 'he',\n",
       " 'he',\n",
       " 'he',\n",
       " 'he',\n",
       " 'had',\n",
       " 'had',\n",
       " 'had',\n",
       " 'had',\n",
       " 'grieved',\n",
       " 'from',\n",
       " 'from',\n",
       " 'friendship',\n",
       " 'friends',\n",
       " 'friend',\n",
       " 'formerly',\n",
       " 'for',\n",
       " 'for',\n",
       " 'for',\n",
       " 'flourishing',\n",
       " 'filled',\n",
       " 'fell,',\n",
       " 'father',\n",
       " 'father',\n",
       " 'father',\n",
       " 'family.',\n",
       " 'family',\n",
       " 'false',\n",
       " 'endeavouring',\n",
       " 'early,',\n",
       " 'distinguished',\n",
       " 'distinguished',\n",
       " 'disposition',\n",
       " 'deplored',\n",
       " 'deeply',\n",
       " 'decline',\n",
       " 'debts,',\n",
       " 'days',\n",
       " 'daughter',\n",
       " 'credit',\n",
       " 'country;',\n",
       " 'country',\n",
       " 'counsellors',\n",
       " 'could',\n",
       " 'conduct',\n",
       " 'circumstances.',\n",
       " 'circumstances',\n",
       " 'circumstances',\n",
       " 'character,',\n",
       " 'cannot',\n",
       " 'by',\n",
       " 'by',\n",
       " 'by',\n",
       " 'by',\n",
       " 'business.',\n",
       " 'bitterly',\n",
       " 'birth',\n",
       " 'begin',\n",
       " 'been',\n",
       " 'been',\n",
       " 'became',\n",
       " 'bear',\n",
       " 'attention',\n",
       " 'assistance.',\n",
       " 'and',\n",
       " 'and',\n",
       " 'and',\n",
       " 'and',\n",
       " 'and',\n",
       " 'and',\n",
       " 'and',\n",
       " 'and',\n",
       " 'and',\n",
       " 'and',\n",
       " 'and',\n",
       " 'and',\n",
       " 'and',\n",
       " 'ancestors',\n",
       " 'am',\n",
       " 'all',\n",
       " 'again',\n",
       " 'affection',\n",
       " 'affairs',\n",
       " 'a',\n",
       " 'a',\n",
       " 'a',\n",
       " 'a',\n",
       " 'a',\n",
       " 'a',\n",
       " 'a',\n",
       " 'a',\n",
       " 'This',\n",
       " 'One',\n",
       " 'My',\n",
       " 'My',\n",
       " 'Lucerne,',\n",
       " 'I',\n",
       " 'I',\n",
       " 'He',\n",
       " 'He',\n",
       " 'He',\n",
       " 'He',\n",
       " 'Having',\n",
       " 'Genevese,',\n",
       " 'Beaufort,',\n",
       " 'Beaufort',\n",
       " 'As']"
      ]
     },
     "execution_count": 38,
     "metadata": {},
     "output_type": "execute_result"
    }
   ],
   "source": [
    "words"
   ]
  },
  {
   "cell_type": "code",
   "execution_count": 39,
   "id": "26650714-f316-4789-8543-6cbd42475eee",
   "metadata": {},
   "outputs": [
    {
     "data": {
      "text/plain": [
       "'hello world!'"
      ]
     },
     "execution_count": 39,
     "metadata": {},
     "output_type": "execute_result"
    }
   ],
   "source": [
    "greeting"
   ]
  },
  {
   "cell_type": "code",
   "execution_count": 46,
   "id": "871325f1-660f-438d-a708-9e993c53cd48",
   "metadata": {},
   "outputs": [],
   "source": [
    "greeting = 'hello', 'world!'"
   ]
  },
  {
   "cell_type": "code",
   "execution_count": 48,
   "id": "380d339d-0998-4429-9ece-632398f66b4b",
   "metadata": {},
   "outputs": [
    {
     "data": {
      "text/plain": [
       "tuple"
      ]
     },
     "execution_count": 48,
     "metadata": {},
     "output_type": "execute_result"
    }
   ],
   "source": [
    "type(greeting)"
   ]
  },
  {
   "cell_type": "code",
   "execution_count": 40,
   "id": "2f55645c-4c6a-4297-9233-62f13ba3b659",
   "metadata": {},
   "outputs": [
    {
     "name": "stdout",
     "output_type": "stream",
     "text": [
      "h\n",
      "e\n",
      "l\n",
      "l\n",
      "o\n",
      " \n",
      "w\n",
      "o\n",
      "r\n",
      "l\n",
      "d\n",
      "!\n"
     ]
    }
   ],
   "source": [
    "# LOOPS - a way of doing things to collections of data\n",
    "\n",
    "for item in greeting:\n",
    "    print(item)"
   ]
  },
  {
   "cell_type": "code",
   "execution_count": 41,
   "id": "33c0ee9c-bb33-4fbd-80fa-18561dc15f95",
   "metadata": {},
   "outputs": [
    {
     "name": "stdout",
     "output_type": "stream",
     "text": [
      "fries\n",
      "burrito\n",
      "chili's\n",
      "applebees\n",
      "sandwich\n"
     ]
    }
   ],
   "source": [
    "for item in lunch:\n",
    "    print(item)"
   ]
  },
  {
   "cell_type": "code",
   "execution_count": 45,
   "id": "68e761a9-baff-4da4-8e23-f04704264aea",
   "metadata": {},
   "outputs": [
    {
     "name": "stdout",
     "output_type": "stream",
     "text": [
      "FRIES\n",
      "BURRITO\n",
      "CHILI'S\n",
      "APPLEBEES\n",
      "SANDWICH\n"
     ]
    }
   ],
   "source": [
    "for item in lunch:\n",
    "    print(item.upper())"
   ]
  },
  {
   "cell_type": "code",
   "execution_count": 49,
   "id": "26455152-6e76-41cf-b5dd-35979d4a43cb",
   "metadata": {},
   "outputs": [],
   "source": [
    "y = ['the matrix', 'the matrix reloaded', 'the matrix resurrection']"
   ]
  },
  {
   "cell_type": "code",
   "execution_count": 50,
   "id": "d9e17081-7f69-436c-9c86-2ab5c68f8a28",
   "metadata": {},
   "outputs": [
    {
     "data": {
      "text/plain": [
       "['the matrix', 'the matrix reloaded', 'the matrix resurrection']"
      ]
     },
     "execution_count": 50,
     "metadata": {},
     "output_type": "execute_result"
    }
   ],
   "source": [
    "y"
   ]
  },
  {
   "cell_type": "code",
   "execution_count": 57,
   "id": "e30f476e-5067-4bef-a6b7-448d31692b40",
   "metadata": {},
   "outputs": [
    {
     "name": "stdout",
     "output_type": "stream",
     "text": [
      "the matrix\n",
      "the matrix reloaded\n",
      "the matrix resurrection\n"
     ]
    }
   ],
   "source": [
    "for z in y:\n",
    "    print(z)"
   ]
  },
  {
   "cell_type": "code",
   "execution_count": 54,
   "id": "7d3faff7-d5fc-4505-b573-980dbab3bc42",
   "metadata": {},
   "outputs": [
    {
     "data": {
      "text/plain": [
       "'the matrix resurrection'"
      ]
     },
     "execution_count": 54,
     "metadata": {},
     "output_type": "execute_result"
    }
   ],
   "source": [
    "x"
   ]
  },
  {
   "cell_type": "code",
   "execution_count": 58,
   "id": "b213aa8a-3110-491e-92dd-a56a0f7e0489",
   "metadata": {},
   "outputs": [
    {
     "data": {
      "text/plain": [
       "'the matrix resurrection'"
      ]
     },
     "execution_count": 58,
     "metadata": {},
     "output_type": "execute_result"
    }
   ],
   "source": [
    "z"
   ]
  },
  {
   "cell_type": "code",
   "execution_count": 59,
   "id": "06699c79-c8da-444a-a4df-3f965a5ebf78",
   "metadata": {},
   "outputs": [
    {
     "data": {
      "text/plain": [
       "['fries', 'burrito', \"chili's\", 'applebees', 'sandwich']"
      ]
     },
     "execution_count": 59,
     "metadata": {},
     "output_type": "execute_result"
    }
   ],
   "source": [
    "lunch"
   ]
  },
  {
   "cell_type": "code",
   "execution_count": 60,
   "id": "0e98bfa6-38f8-40d8-bb1d-dc45c87f65f3",
   "metadata": {},
   "outputs": [],
   "source": [
    "lunch.append('enchiladas')"
   ]
  },
  {
   "cell_type": "code",
   "execution_count": 61,
   "id": "e5e1ce2b-f402-45bc-90c8-fa2ac7206e73",
   "metadata": {},
   "outputs": [
    {
     "data": {
      "text/plain": [
       "['fries', 'burrito', \"chili's\", 'applebees', 'sandwich', 'enchiladas']"
      ]
     },
     "execution_count": 61,
     "metadata": {},
     "output_type": "execute_result"
    }
   ],
   "source": [
    "lunch"
   ]
  },
  {
   "cell_type": "code",
   "execution_count": 62,
   "id": "03c57bb1-6de0-4cc9-93bc-73c92518ab1a",
   "metadata": {},
   "outputs": [],
   "source": [
    "loud_lunch = []"
   ]
  },
  {
   "cell_type": "code",
   "execution_count": 63,
   "id": "937c7fc6-ead6-42cf-93da-931af208f133",
   "metadata": {},
   "outputs": [
    {
     "data": {
      "text/plain": [
       "list"
      ]
     },
     "execution_count": 63,
     "metadata": {},
     "output_type": "execute_result"
    }
   ],
   "source": [
    "type(loud_lunch)"
   ]
  },
  {
   "cell_type": "code",
   "execution_count": 77,
   "id": "8b639602-f2fe-4eb8-8b34-e45c485eb31a",
   "metadata": {},
   "outputs": [
    {
     "name": "stdout",
     "output_type": "stream",
     "text": [
      "The item is now: FRIES\n",
      "The item is now: BURRITO\n",
      "The item is now: CHILI'S\n",
      "The item is now: APPLEBEES\n",
      "The item is now: SANDWICH\n",
      "The item is now: ENCHILADAS\n"
     ]
    }
   ],
   "source": [
    "# creating a list of lunch items\n",
    "lunch = ['fries', 'burrito', \"chili's\", 'applebees', 'sandwich', 'enchiladas']\n",
    "\n",
    "# creating an empty list to drop our items later\n",
    "loud_lunch = []\n",
    "\n",
    "# looping through lunch, uppercasing items, appending to loud_lunch\n",
    "for item in lunch:\n",
    "    uppercase = item.upper()\n",
    "    print(f'The item is now: {uppercase}')\n",
    "    loud_lunch.append(uppercase)"
   ]
  },
  {
   "cell_type": "code",
   "execution_count": 79,
   "id": "af7db77f-534d-4293-89a4-de5b40bbad1f",
   "metadata": {},
   "outputs": [
    {
     "name": "stdout",
     "output_type": "stream",
     "text": [
      "The item is now: FRIES\n",
      "The item is now: BURRITO\n",
      "The item is now: CHILI'S\n",
      "The item is now: APPLEBEES\n",
      "The item is now: SANDWICH\n",
      "The item is now: ENCHILADAS\n"
     ]
    }
   ],
   "source": [
    "# looping through lunch, uppercasing items, appending to loud_lunch\n",
    "for item in lunch:\n",
    "    loud_lunch.append(item.upper())\n",
    "    print(f'The item is now: {item.upper()}')"
   ]
  },
  {
   "cell_type": "code",
   "execution_count": 74,
   "id": "3e53509c-ec98-4586-a510-8f125f202145",
   "metadata": {},
   "outputs": [
    {
     "name": "stdout",
     "output_type": "stream",
     "text": [
      "This is a string with ('hello', 'world!')\n"
     ]
    }
   ],
   "source": [
    "# f-strings\n",
    "\n",
    "print(f'This is a string with {greeting}')"
   ]
  },
  {
   "cell_type": "code",
   "execution_count": 81,
   "id": "752ecb03-4dfc-4628-90bd-ef3338d75559",
   "metadata": {},
   "outputs": [
    {
     "name": "stdout",
     "output_type": "stream",
     "text": [
      "The square of 1 is 1\n",
      "The square of 5 is 25\n",
      "The square of 7 is 49\n",
      "The square of 11 is 121\n",
      "The square of 13 is 169\n"
     ]
    }
   ],
   "source": [
    "prime_numbers = [1, 5, 7, 11, 13]\n",
    "\n",
    "for number in prime_numbers:\n",
    "    print(f'The square of {number} is {number*number}')"
   ]
  },
  {
   "cell_type": "code",
   "execution_count": 82,
   "id": "6952dc26-735f-4c49-9180-da4dea064391",
   "metadata": {},
   "outputs": [
    {
     "data": {
      "text/plain": [
       "bool"
      ]
     },
     "execution_count": 82,
     "metadata": {},
     "output_type": "execute_result"
    }
   ],
   "source": [
    "# logic \n",
    "\n",
    "type(True)"
   ]
  },
  {
   "cell_type": "code",
   "execution_count": 83,
   "id": "7f1955d6-5a1a-4c2a-875b-8005aaec7990",
   "metadata": {},
   "outputs": [
    {
     "data": {
      "text/plain": [
       "bool"
      ]
     },
     "execution_count": 83,
     "metadata": {},
     "output_type": "execute_result"
    }
   ],
   "source": [
    "type(False)"
   ]
  },
  {
   "cell_type": "code",
   "execution_count": 84,
   "id": "e16bdca3-3806-4679-8808-38223aa87cf2",
   "metadata": {},
   "outputs": [
    {
     "data": {
      "text/plain": [
       "True"
      ]
     },
     "execution_count": 84,
     "metadata": {},
     "output_type": "execute_result"
    }
   ],
   "source": [
    "10 > 5"
   ]
  },
  {
   "cell_type": "code",
   "execution_count": 85,
   "id": "2ac8f057-a964-473b-8b41-d1bb23a76929",
   "metadata": {},
   "outputs": [
    {
     "data": {
      "text/plain": [
       "False"
      ]
     },
     "execution_count": 85,
     "metadata": {},
     "output_type": "execute_result"
    }
   ],
   "source": [
    "10 < 5"
   ]
  },
  {
   "cell_type": "code",
   "execution_count": 86,
   "id": "ba7d0401-a732-47d3-9e78-21e307915cc5",
   "metadata": {},
   "outputs": [
    {
     "data": {
      "text/plain": [
       "False"
      ]
     },
     "execution_count": 86,
     "metadata": {},
     "output_type": "execute_result"
    }
   ],
   "source": [
    "10 == 5"
   ]
  },
  {
   "cell_type": "code",
   "execution_count": 101,
   "id": "11eb4336-f528-437e-9674-d904f2f42b73",
   "metadata": {},
   "outputs": [],
   "source": [
    "license = False"
   ]
  },
  {
   "cell_type": "code",
   "execution_count": 97,
   "id": "8dfb51a9-3d83-4b2b-a431-113a20f62d13",
   "metadata": {},
   "outputs": [
    {
     "data": {
      "text/plain": [
       "True"
      ]
     },
     "execution_count": 97,
     "metadata": {},
     "output_type": "execute_result"
    }
   ],
   "source": [
    "license"
   ]
  },
  {
   "cell_type": "code",
   "execution_count": 102,
   "id": "b8681a2d-60bf-4853-bc49-22701e115e3d",
   "metadata": {},
   "outputs": [
    {
     "name": "stdout",
     "output_type": "stream",
     "text": [
      "You can vote\n"
     ]
    }
   ],
   "source": [
    "age = 26\n",
    "license = False\n",
    "if age > 25 and license:\n",
    "    print('You can rent a car, vote, and drive.')\n",
    "elif age > 18:\n",
    "    print('You can vote')\n",
    "elif age > 15:\n",
    "    print('You can drive a car')\n",
    "else:\n",
    "    print('You are too young')"
   ]
  },
  {
   "cell_type": "code",
   "execution_count": 103,
   "id": "ff80af7e-8a19-498f-8dae-aef9c4a6aafe",
   "metadata": {},
   "outputs": [
    {
     "data": {
      "text/plain": [
       "['fries', 'burrito', \"chili's\", 'applebees', 'sandwich', 'enchiladas']"
      ]
     },
     "execution_count": 103,
     "metadata": {},
     "output_type": "execute_result"
    }
   ],
   "source": [
    "lunch"
   ]
  },
  {
   "cell_type": "code",
   "execution_count": 105,
   "id": "92c90934-f310-41c0-8dea-38723b07f076",
   "metadata": {},
   "outputs": [
    {
     "name": "stdout",
     "output_type": "stream",
     "text": [
      "burrito\n"
     ]
    }
   ],
   "source": [
    "for item in lunch:\n",
    "    if item == 'burrito':\n",
    "        print(item)"
   ]
  },
  {
   "cell_type": "code",
   "execution_count": 106,
   "id": "b44d5c67-7504-4edf-8eb2-e50fe39f3455",
   "metadata": {},
   "outputs": [
    {
     "name": "stdout",
     "output_type": "stream",
     "text": [
      "burrito\n"
     ]
    }
   ],
   "source": [
    "for item in lunch: \n",
    "    if 'burrito' in item:\n",
    "        print(item)"
   ]
  },
  {
   "cell_type": "code",
   "execution_count": 107,
   "id": "8c24b8f9-0749-4b74-8368-d2fbe806ddcd",
   "metadata": {},
   "outputs": [],
   "source": [
    "press = '''\n",
    "Removing Gender Ideology and Restoring the EEOC’s Role of Protecting Women in the Workplace\n",
    "\n",
    "WASHINGTON -- Today, U.S. Equal Employment Opportunity Commission (EEOC) Acting Chair Andrea Lucas announced that the agency is returning to its mission of protecting women from sexual harassment and sex-based discrimination in the workplace by rolling back the Biden administration’s gender identity agenda.\n",
    "\n",
    "One of President Trump’s first executive orders was Executive Order 14168, “Defending Women From Gender Ideology Extremism and Restoring Biological Truth to the Federal Government.” Among other things, the executive order directed federal agencies to enforce laws governing sex-based rights, protections, opportunities, and accommodations to protect men and women as biologically distinct sexes, and to remove all statements, policies, regulations, forms, communications, or other internal and external messages promoting gender ideology.\n",
    "\n",
    "Pursuant to Executive Order 14168, Acting Chair Lucas has taken the following actions to date:\n",
    "\n",
    "    Announced that one of her priorities—for compliance, investigations, and litigation—is to defend the biological and binary reality of sex and related rights, including women’s rights to single-sex spaces at work.\n",
    "    Removed the agency’s “pronoun app,” a feature in employees’ Microsoft 365 profiles, which allowed an employee to opt to identify pronouns, content which then appeared alongside the employee’s display name across all Microsoft 365 platforms, including Outlook and Teams. This content was displayed both to internal and external parties with whom EEOC employees communicated.\n",
    "    Ended the use of the “X” gender marker during the intake process for filing a charge of discrimination.\n",
    "    Directed the modification of the charge of discrimination and related forms to remove “Mx.” from the list of prefix options.\n",
    "    Commenced review of the content of EEOC’s “Know Your Rights” poster, which all covered employers are required by law to post in their workplaces.\n",
    "    Removed materials promoting gender ideology on the Commission’s internal and external websites and documents, including webpages, statements, social media platforms, forms, trainings, and others. The agency’s review and removal of such materials remains ongoing. Where a publicly accessible item cannot be immediately removed or revised, a banner has been added to explain why the item has not yet been brought into compliance.\n",
    "\n",
    "When issuing certain documents, the Commission acts by majority vote. Based on her existing authority, the Acting Chair cannot unilaterally remove or modify certain “gender identity”-related documents subject to the President’s directives in the executive order. Those documents include the Commission’s Enforcement Guidance on Harassment in the Workplace (issued by a 3-2 vote in 2024); the EEOC Strategic Plan 2022-2026 (issued by a 3-2 vote in 2023); and the EEOC Strategic Enforcement Plan Fiscal Years 2024-2028 (issued by a 3-2 vote in 2023).\n",
    "\n",
    "Acting Chair Lucas voted against each of these documents. In particular, Acting Chair Lucas has been vocal in her opposition to portions of EEOC’s harassment guidance that took the enforcement position that harassing conduct under Title VII includes “denial of access to a bathroom or other sex-segregated facility consistent with [an] individual’s gender identity;” and that harassing conduct includes “repeated and intentional use of a name or pronoun inconsistent with [an] individual’s known gender identity.”\n",
    "\n",
    "Although Acting Chair Lucas currently cannot rescind portions of the agency’s harassment guidance that are inconsistent with Executive Order 14168, Acting Chair Lucas remains opposed to those portions of the guidance.\n",
    "\n",
    "“Biology is not bigotry. Biological sex is real, and it matters,” Lucas said. “Sex is binary (male and female) and immutable. It is not harassment to acknowledge these truths—or to use language like pronouns that flow from these realities, even repeatedly.”\n",
    "\n",
    "Lucas emphasized, “Because of biological realities, each sex has its own, unique privacy interests, and women have additional safety interests, that warrant certain single-sex facilities at work and other spaces outside the home. It is neither harassment nor discrimination for a business to draw distinctions between the sexes in providing single-sex bathrooms or other similar facilities which implicate these significant privacy and safety interests. And the Supreme Court’s decision in Bostock v. Clayton County does not demand otherwise: the Court explicitly stated that it did ‘not purport to address bathrooms, locker rooms, or anything else of the kind.’”\n",
    "\n",
    "Lucas contended that the EEOC betrayed its mission by issuing the “gender identity” portions of the Enforcement Guidance on Harassment in the Workplace: “The same agency that in the 1960s and 70s fought to ensure women had the right to their own restrooms, locker rooms, sleeping quarters, and other sex-specific workplace facilities—and established that it would be sex discrimination not to provide such women-only facilities—betrayed women by attacking their sex-based rights in the workplace. That must end.”\n",
    "\n",
    "“The Commission’s harassment guidance was fundamentally flawed,” said Lucas. “It ignored biological reality, effectively eliminated single-sex workplace facilities, and impinged on all employees’ rights to freedom of speech and belief. In unlawfully expanding past Bostock’s dictates, the EEOC exceeded its authority. The EEOC must rescind the guidance and protect the sex-based privacy and safety needs of women.”\n",
    "\n",
    "The EEOC is the sole federal agency authorized to investigate and litigate against businesses and other private employers for violations of federal laws prohibiting employment discrimination, including sexual harassment. For public employers, the EEOC shares jurisdiction with the Department of Justice’s Civil Rights Division; the EEOC is responsible for investigating charges against state and local government employers before referring them to DOJ for potential litigation. The EEOC also is responsible for coordinating the federal government’s employment antidiscrimination effort. More information about the EEOC is available at www.eeoc.gov. Stay connected with the latest EEOC news by subscribing to our email updates.\n",
    "\n",
    "'''"
   ]
  },
  {
   "cell_type": "code",
   "execution_count": 108,
   "id": "9dbf7256-9b0a-4093-a72b-7fecb030075b",
   "metadata": {},
   "outputs": [
    {
     "data": {
      "text/plain": [
       "'\\nRemoving Gender Ideology and Restoring the EEOC’s Role of Protecting Women in the Workplace\\n\\nWASHINGTON -- Today, U.S. Equal Employment Opportunity Commission (EEOC) Acting Chair Andrea Lucas announced that the agency is returning to its mission of protecting women from sexual harassment and sex-based discrimination in the workplace by rolling back the Biden administration’s gender identity agenda.\\n\\nOne of President Trump’s first executive orders was Executive Order 14168, “Defending Women From Gender Ideology Extremism and Restoring Biological Truth to the Federal Government.” Among other things, the executive order directed federal agencies to enforce laws governing sex-based rights, protections, opportunities, and accommodations to protect men and women as biologically distinct sexes, and to remove all statements, policies, regulations, forms, communications, or other internal and external messages promoting gender ideology.\\n\\nPursuant to Executive Order 14168, Acting Chair Lucas has taken the following actions to date:\\n\\n    Announced that one of her priorities—for compliance, investigations, and litigation—is to defend the biological and binary reality of sex and related rights, including women’s rights to single-sex spaces at work.\\n    Removed the agency’s “pronoun app,” a feature in employees’ Microsoft 365 profiles, which allowed an employee to opt to identify pronouns, content which then appeared alongside the employee’s display name across all Microsoft 365 platforms, including Outlook and Teams. This content was displayed both to internal and external parties with whom EEOC employees communicated.\\n    Ended the use of the “X” gender marker during the intake process for filing a charge of discrimination.\\n    Directed the modification of the charge of discrimination and related forms to remove “Mx.” from the list of prefix options.\\n    Commenced review of the content of EEOC’s “Know Your Rights” poster, which all covered employers are required by law to post in their workplaces.\\n    Removed materials promoting gender ideology on the Commission’s internal and external websites and documents, including webpages, statements, social media platforms, forms, trainings, and others. The agency’s review and removal of such materials remains ongoing. Where a publicly accessible item cannot be immediately removed or revised, a banner has been added to explain why the item has not yet been brought into compliance.\\n\\nWhen issuing certain documents, the Commission acts by majority vote. Based on her existing authority, the Acting Chair cannot unilaterally remove or modify certain “gender identity”-related documents subject to the President’s directives in the executive order. Those documents include the Commission’s Enforcement Guidance on Harassment in the Workplace (issued by a 3-2 vote in 2024); the EEOC Strategic Plan 2022-2026 (issued by a 3-2 vote in 2023); and the EEOC Strategic Enforcement Plan Fiscal Years 2024-2028 (issued by a 3-2 vote in 2023).\\n\\nActing Chair Lucas voted against each of these documents. In particular, Acting Chair Lucas has been vocal in her opposition to portions of EEOC’s harassment guidance that took the enforcement position that harassing conduct under Title VII includes “denial of access to a bathroom or other sex-segregated facility consistent with [an] individual’s gender identity;” and that harassing conduct includes “repeated and intentional use of a name or pronoun inconsistent with [an] individual’s known gender identity.”\\n\\nAlthough Acting Chair Lucas currently cannot rescind portions of the agency’s harassment guidance that are inconsistent with Executive Order 14168, Acting Chair Lucas remains opposed to those portions of the guidance.\\n\\n“Biology is not bigotry. Biological sex is real, and it matters,” Lucas said. “Sex is binary (male and female) and immutable. It is not harassment to acknowledge these truths—or to use language like pronouns that flow from these realities, even repeatedly.”\\n\\nLucas emphasized, “Because of biological realities, each sex has its own, unique privacy interests, and women have additional safety interests, that warrant certain single-sex facilities at work and other spaces outside the home. It is neither harassment nor discrimination for a business to draw distinctions between the sexes in providing single-sex bathrooms or other similar facilities which implicate these significant privacy and safety interests. And the Supreme Court’s decision in Bostock v. Clayton County does not demand otherwise: the Court explicitly stated that it did ‘not purport to address bathrooms, locker rooms, or anything else of the kind.’”\\n\\nLucas contended that the EEOC betrayed its mission by issuing the “gender identity” portions of the Enforcement Guidance on Harassment in the Workplace: “The same agency that in the 1960s and 70s fought to ensure women had the right to their own restrooms, locker rooms, sleeping quarters, and other sex-specific workplace facilities—and established that it would be sex discrimination not to provide such women-only facilities—betrayed women by attacking their sex-based rights in the workplace. That must end.”\\n\\n“The Commission’s harassment guidance was fundamentally flawed,” said Lucas. “It ignored biological reality, effectively eliminated single-sex workplace facilities, and impinged on all employees’ rights to freedom of speech and belief. In unlawfully expanding past Bostock’s dictates, the EEOC exceeded its authority. The EEOC must rescind the guidance and protect the sex-based privacy and safety needs of women.”\\n\\nThe EEOC is the sole federal agency authorized to investigate and litigate against businesses and other private employers for violations of federal laws prohibiting employment discrimination, including sexual harassment. For public employers, the EEOC shares jurisdiction with the Department of Justice’s Civil Rights Division; the EEOC is responsible for investigating charges against state and local government employers before referring them to DOJ for potential litigation. The EEOC also is responsible for coordinating the federal government’s employment antidiscrimination effort. More information about the EEOC is available at www.eeoc.gov. Stay connected with the latest EEOC news by subscribing to our email updates.\\n\\n'"
      ]
     },
     "execution_count": 108,
     "metadata": {},
     "output_type": "execute_result"
    }
   ],
   "source": [
    "press"
   ]
  },
  {
   "cell_type": "code",
   "execution_count": 115,
   "id": "a915bd7d-1405-4d56-9b2c-1ba3a9e5b800",
   "metadata": {},
   "outputs": [],
   "source": [
    "sentences = press.split('.')"
   ]
  },
  {
   "cell_type": "code",
   "execution_count": 116,
   "id": "eee1ac12-9a0c-4aac-b586-b6bc1dcc47ae",
   "metadata": {},
   "outputs": [
    {
     "data": {
      "text/plain": [
       "['\\nRemoving Gender Ideology and Restoring the EEOC’s Role of Protecting Women in the Workplace\\n\\nWASHINGTON -- Today, U',\n",
       " 'S',\n",
       " ' Equal Employment Opportunity Commission (EEOC) Acting Chair Andrea Lucas announced that the agency is returning to its mission of protecting women from sexual harassment and sex-based discrimination in the workplace by rolling back the Biden administration’s gender identity agenda',\n",
       " '\\n\\nOne of President Trump’s first executive orders was Executive Order 14168, “Defending Women From Gender Ideology Extremism and Restoring Biological Truth to the Federal Government',\n",
       " '” Among other things, the executive order directed federal agencies to enforce laws governing sex-based rights, protections, opportunities, and accommodations to protect men and women as biologically distinct sexes, and to remove all statements, policies, regulations, forms, communications, or other internal and external messages promoting gender ideology',\n",
       " '\\n\\nPursuant to Executive Order 14168, Acting Chair Lucas has taken the following actions to date:\\n\\n    Announced that one of her priorities—for compliance, investigations, and litigation—is to defend the biological and binary reality of sex and related rights, including women’s rights to single-sex spaces at work',\n",
       " '\\n    Removed the agency’s “pronoun app,” a feature in employees’ Microsoft 365 profiles, which allowed an employee to opt to identify pronouns, content which then appeared alongside the employee’s display name across all Microsoft 365 platforms, including Outlook and Teams',\n",
       " ' This content was displayed both to internal and external parties with whom EEOC employees communicated',\n",
       " '\\n    Ended the use of the “X” gender marker during the intake process for filing a charge of discrimination',\n",
       " '\\n    Directed the modification of the charge of discrimination and related forms to remove “Mx',\n",
       " '” from the list of prefix options',\n",
       " '\\n    Commenced review of the content of EEOC’s “Know Your Rights” poster, which all covered employers are required by law to post in their workplaces',\n",
       " '\\n    Removed materials promoting gender ideology on the Commission’s internal and external websites and documents, including webpages, statements, social media platforms, forms, trainings, and others',\n",
       " ' The agency’s review and removal of such materials remains ongoing',\n",
       " ' Where a publicly accessible item cannot be immediately removed or revised, a banner has been added to explain why the item has not yet been brought into compliance',\n",
       " '\\n\\nWhen issuing certain documents, the Commission acts by majority vote',\n",
       " ' Based on her existing authority, the Acting Chair cannot unilaterally remove or modify certain “gender identity”-related documents subject to the President’s directives in the executive order',\n",
       " ' Those documents include the Commission’s Enforcement Guidance on Harassment in the Workplace (issued by a 3-2 vote in 2024); the EEOC Strategic Plan 2022-2026 (issued by a 3-2 vote in 2023); and the EEOC Strategic Enforcement Plan Fiscal Years 2024-2028 (issued by a 3-2 vote in 2023)',\n",
       " '\\n\\nActing Chair Lucas voted against each of these documents',\n",
       " ' In particular, Acting Chair Lucas has been vocal in her opposition to portions of EEOC’s harassment guidance that took the enforcement position that harassing conduct under Title VII includes “denial of access to a bathroom or other sex-segregated facility consistent with [an] individual’s gender identity;” and that harassing conduct includes “repeated and intentional use of a name or pronoun inconsistent with [an] individual’s known gender identity',\n",
       " '”\\n\\nAlthough Acting Chair Lucas currently cannot rescind portions of the agency’s harassment guidance that are inconsistent with Executive Order 14168, Acting Chair Lucas remains opposed to those portions of the guidance',\n",
       " '\\n\\n“Biology is not bigotry',\n",
       " ' Biological sex is real, and it matters,” Lucas said',\n",
       " ' “Sex is binary (male and female) and immutable',\n",
       " ' It is not harassment to acknowledge these truths—or to use language like pronouns that flow from these realities, even repeatedly',\n",
       " '”\\n\\nLucas emphasized, “Because of biological realities, each sex has its own, unique privacy interests, and women have additional safety interests, that warrant certain single-sex facilities at work and other spaces outside the home',\n",
       " ' It is neither harassment nor discrimination for a business to draw distinctions between the sexes in providing single-sex bathrooms or other similar facilities which implicate these significant privacy and safety interests',\n",
       " ' And the Supreme Court’s decision in Bostock v',\n",
       " ' Clayton County does not demand otherwise: the Court explicitly stated that it did ‘not purport to address bathrooms, locker rooms, or anything else of the kind',\n",
       " '’”\\n\\nLucas contended that the EEOC betrayed its mission by issuing the “gender identity” portions of the Enforcement Guidance on Harassment in the Workplace: “The same agency that in the 1960s and 70s fought to ensure women had the right to their own restrooms, locker rooms, sleeping quarters, and other sex-specific workplace facilities—and established that it would be sex discrimination not to provide such women-only facilities—betrayed women by attacking their sex-based rights in the workplace',\n",
       " ' That must end',\n",
       " '”\\n\\n“The Commission’s harassment guidance was fundamentally flawed,” said Lucas',\n",
       " ' “It ignored biological reality, effectively eliminated single-sex workplace facilities, and impinged on all employees’ rights to freedom of speech and belief',\n",
       " ' In unlawfully expanding past Bostock’s dictates, the EEOC exceeded its authority',\n",
       " ' The EEOC must rescind the guidance and protect the sex-based privacy and safety needs of women',\n",
       " '”\\n\\nThe EEOC is the sole federal agency authorized to investigate and litigate against businesses and other private employers for violations of federal laws prohibiting employment discrimination, including sexual harassment',\n",
       " ' For public employers, the EEOC shares jurisdiction with the Department of Justice’s Civil Rights Division; the EEOC is responsible for investigating charges against state and local government employers before referring them to DOJ for potential litigation',\n",
       " ' The EEOC also is responsible for coordinating the federal government’s employment antidiscrimination effort',\n",
       " ' More information about the EEOC is available at www',\n",
       " 'eeoc',\n",
       " 'gov',\n",
       " ' Stay connected with the latest EEOC news by subscribing to our email updates',\n",
       " '\\n\\n']"
      ]
     },
     "execution_count": 116,
     "metadata": {},
     "output_type": "execute_result"
    }
   ],
   "source": [
    "sentences"
   ]
  },
  {
   "cell_type": "code",
   "execution_count": 119,
   "id": "966b5948-65ed-47bd-b887-2f7d377d65c7",
   "metadata": {},
   "outputs": [
    {
     "name": "stdout",
     "output_type": "stream",
     "text": [
      " Equal Employment Opportunity Commission (EEOC) Acting Chair Andrea Lucas announced that the agency is returning to its mission of protecting women from sexual harassment and sex-based discrimination in the workplace by rolling back the Biden administration’s gender identity agenda\n",
      "” Among other things, the executive order directed federal agencies to enforce laws governing sex-based rights, protections, opportunities, and accommodations to protect men and women as biologically distinct sexes, and to remove all statements, policies, regulations, forms, communications, or other internal and external messages promoting gender ideology\n",
      " The EEOC must rescind the guidance and protect the sex-based privacy and safety needs of women\n"
     ]
    }
   ],
   "source": [
    "for item in sentences:\n",
    "    if 'protect' in item:\n",
    "        print(item)"
   ]
  },
  {
   "cell_type": "code",
   "execution_count": 123,
   "id": "bd81e1dc-4365-4b4a-9531-3eb9903a507f",
   "metadata": {},
   "outputs": [
    {
     "name": "stdout",
     "output_type": "stream",
     "text": [
      " Equal Employment Opportunity Commission (EEOC) Acting Chair Andrea Lucas announced that the agency is returning to its mission of protecting women from sexual harassment and sex-based discrimination in the workplace by rolling back the Biden administration’s gender identity agenda\n",
      "” Among other things, the executive order directed federal agencies to enforce laws governing sex-based rights, protections, opportunities, and accommodations to protect men and women as biologically distinct sexes, and to remove all statements, policies, regulations, forms, communications, or other internal and external messages promoting gender ideology\n",
      " The EEOC must rescind the guidance and protect the sex-based privacy and safety needs of women\n"
     ]
    }
   ],
   "source": [
    "protection = []\n",
    "\n",
    "for item in sentences:\n",
    "    if 'protect' in item:\n",
    "        protection.append(item)\n",
    "        print(item)"
   ]
  },
  {
   "cell_type": "code",
   "execution_count": 121,
   "id": "f5393af3-19ea-40ea-98d8-ea7c351d392f",
   "metadata": {},
   "outputs": [
    {
     "data": {
      "text/plain": [
       "[' Equal Employment Opportunity Commission (EEOC) Acting Chair Andrea Lucas announced that the agency is returning to its mission of protecting women from sexual harassment and sex-based discrimination in the workplace by rolling back the Biden administration’s gender identity agenda',\n",
       " '” Among other things, the executive order directed federal agencies to enforce laws governing sex-based rights, protections, opportunities, and accommodations to protect men and women as biologically distinct sexes, and to remove all statements, policies, regulations, forms, communications, or other internal and external messages promoting gender ideology',\n",
       " ' The EEOC must rescind the guidance and protect the sex-based privacy and safety needs of women']"
      ]
     },
     "execution_count": 121,
     "metadata": {},
     "output_type": "execute_result"
    }
   ],
   "source": [
    "protection"
   ]
  },
  {
   "cell_type": "code",
   "execution_count": null,
   "id": "2f08921d-c9ae-4c1d-94c1-43873e464a5a",
   "metadata": {},
   "outputs": [],
   "source": []
  }
 ],
 "metadata": {
  "kernelspec": {
   "display_name": "Python 3 (ipykernel)",
   "language": "python",
   "name": "python3"
  },
  "language_info": {
   "codemirror_mode": {
    "name": "ipython",
    "version": 3
   },
   "file_extension": ".py",
   "mimetype": "text/x-python",
   "name": "python",
   "nbconvert_exporter": "python",
   "pygments_lexer": "ipython3",
   "version": "3.11.12"
  }
 },
 "nbformat": 4,
 "nbformat_minor": 5
}