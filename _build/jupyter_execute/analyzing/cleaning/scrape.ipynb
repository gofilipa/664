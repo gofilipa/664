{
 "cells": [
  {
   "cell_type": "markdown",
   "id": "6a17585d",
   "metadata": {},
   "source": [
    "# scraping our text"
   ]
  },
  {
   "cell_type": "markdown",
   "id": "a16154e2",
   "metadata": {},
   "source": [
    "Here I show how we can use web scraping to get bill data from congress.gov servers. FYI - I tried using the congress.gov API to get this dataset, which is always the right thing to do! But it doesn't offer the full text of the bill, so that's why I turned to scraping. For future reference, you can request an API key here: https://api.congress.gov/\n"
   ]
  },
  {
   "cell_type": "code",
   "execution_count": 1,
   "id": "3dcb5cd7",
   "metadata": {},
   "outputs": [
    {
     "ename": "FileNotFoundError",
     "evalue": "[Errno 2] No such file or directory: '../gathering/bill_data.csv'",
     "output_type": "error",
     "traceback": [
      "\u001b[0;31m---------------------------------------------------------------------------\u001b[0m",
      "\u001b[0;31mFileNotFoundError\u001b[0m                         Traceback (most recent call last)",
      "Cell \u001b[0;32mIn[1], line 8\u001b[0m\n\u001b[1;32m      3\u001b[0m \u001b[38;5;28;01mimport\u001b[39;00m\u001b[38;5;250m \u001b[39m\u001b[38;5;21;01mcsv\u001b[39;00m \u001b[38;5;66;03m# also for working with tabular data, in csv format\u001b[39;00m\n\u001b[1;32m      5\u001b[0m \u001b[38;5;66;03m# this grabs the CSV from the previous section. If you get a file\u001b[39;00m\n\u001b[1;32m      6\u001b[0m \u001b[38;5;66;03m# not found error make sure you go through the previous section to \u001b[39;00m\n\u001b[1;32m      7\u001b[0m \u001b[38;5;66;03m# save that csv\u001b[39;00m\n\u001b[0;32m----> 8\u001b[0m bills \u001b[38;5;241m=\u001b[39m pd\u001b[38;5;241m.\u001b[39mread_csv(\u001b[38;5;124m'\u001b[39m\u001b[38;5;124m../gathering/bill_data.csv\u001b[39m\u001b[38;5;124m'\u001b[39m)\n\u001b[1;32m     10\u001b[0m df \u001b[38;5;241m=\u001b[39m pd\u001b[38;5;241m.\u001b[39mDataFrame(bills)\n",
      "File \u001b[0;32m~/.conda/envs/jb/lib/python3.11/site-packages/pandas/io/parsers/readers.py:1026\u001b[0m, in \u001b[0;36mread_csv\u001b[0;34m(filepath_or_buffer, sep, delimiter, header, names, index_col, usecols, dtype, engine, converters, true_values, false_values, skipinitialspace, skiprows, skipfooter, nrows, na_values, keep_default_na, na_filter, verbose, skip_blank_lines, parse_dates, infer_datetime_format, keep_date_col, date_parser, date_format, dayfirst, cache_dates, iterator, chunksize, compression, thousands, decimal, lineterminator, quotechar, quoting, doublequote, escapechar, comment, encoding, encoding_errors, dialect, on_bad_lines, delim_whitespace, low_memory, memory_map, float_precision, storage_options, dtype_backend)\u001b[0m\n\u001b[1;32m   1013\u001b[0m kwds_defaults \u001b[38;5;241m=\u001b[39m _refine_defaults_read(\n\u001b[1;32m   1014\u001b[0m     dialect,\n\u001b[1;32m   1015\u001b[0m     delimiter,\n\u001b[0;32m   (...)\u001b[0m\n\u001b[1;32m   1022\u001b[0m     dtype_backend\u001b[38;5;241m=\u001b[39mdtype_backend,\n\u001b[1;32m   1023\u001b[0m )\n\u001b[1;32m   1024\u001b[0m kwds\u001b[38;5;241m.\u001b[39mupdate(kwds_defaults)\n\u001b[0;32m-> 1026\u001b[0m \u001b[38;5;28;01mreturn\u001b[39;00m _read(filepath_or_buffer, kwds)\n",
      "File \u001b[0;32m~/.conda/envs/jb/lib/python3.11/site-packages/pandas/io/parsers/readers.py:620\u001b[0m, in \u001b[0;36m_read\u001b[0;34m(filepath_or_buffer, kwds)\u001b[0m\n\u001b[1;32m    617\u001b[0m _validate_names(kwds\u001b[38;5;241m.\u001b[39mget(\u001b[38;5;124m\"\u001b[39m\u001b[38;5;124mnames\u001b[39m\u001b[38;5;124m\"\u001b[39m, \u001b[38;5;28;01mNone\u001b[39;00m))\n\u001b[1;32m    619\u001b[0m \u001b[38;5;66;03m# Create the parser.\u001b[39;00m\n\u001b[0;32m--> 620\u001b[0m parser \u001b[38;5;241m=\u001b[39m TextFileReader(filepath_or_buffer, \u001b[38;5;241m*\u001b[39m\u001b[38;5;241m*\u001b[39mkwds)\n\u001b[1;32m    622\u001b[0m \u001b[38;5;28;01mif\u001b[39;00m chunksize \u001b[38;5;129;01mor\u001b[39;00m iterator:\n\u001b[1;32m    623\u001b[0m     \u001b[38;5;28;01mreturn\u001b[39;00m parser\n",
      "File \u001b[0;32m~/.conda/envs/jb/lib/python3.11/site-packages/pandas/io/parsers/readers.py:1620\u001b[0m, in \u001b[0;36mTextFileReader.__init__\u001b[0;34m(self, f, engine, **kwds)\u001b[0m\n\u001b[1;32m   1617\u001b[0m     \u001b[38;5;28mself\u001b[39m\u001b[38;5;241m.\u001b[39moptions[\u001b[38;5;124m\"\u001b[39m\u001b[38;5;124mhas_index_names\u001b[39m\u001b[38;5;124m\"\u001b[39m] \u001b[38;5;241m=\u001b[39m kwds[\u001b[38;5;124m\"\u001b[39m\u001b[38;5;124mhas_index_names\u001b[39m\u001b[38;5;124m\"\u001b[39m]\n\u001b[1;32m   1619\u001b[0m \u001b[38;5;28mself\u001b[39m\u001b[38;5;241m.\u001b[39mhandles: IOHandles \u001b[38;5;241m|\u001b[39m \u001b[38;5;28;01mNone\u001b[39;00m \u001b[38;5;241m=\u001b[39m \u001b[38;5;28;01mNone\u001b[39;00m\n\u001b[0;32m-> 1620\u001b[0m \u001b[38;5;28mself\u001b[39m\u001b[38;5;241m.\u001b[39m_engine \u001b[38;5;241m=\u001b[39m \u001b[38;5;28mself\u001b[39m\u001b[38;5;241m.\u001b[39m_make_engine(f, \u001b[38;5;28mself\u001b[39m\u001b[38;5;241m.\u001b[39mengine)\n",
      "File \u001b[0;32m~/.conda/envs/jb/lib/python3.11/site-packages/pandas/io/parsers/readers.py:1880\u001b[0m, in \u001b[0;36mTextFileReader._make_engine\u001b[0;34m(self, f, engine)\u001b[0m\n\u001b[1;32m   1878\u001b[0m     \u001b[38;5;28;01mif\u001b[39;00m \u001b[38;5;124m\"\u001b[39m\u001b[38;5;124mb\u001b[39m\u001b[38;5;124m\"\u001b[39m \u001b[38;5;129;01mnot\u001b[39;00m \u001b[38;5;129;01min\u001b[39;00m mode:\n\u001b[1;32m   1879\u001b[0m         mode \u001b[38;5;241m+\u001b[39m\u001b[38;5;241m=\u001b[39m \u001b[38;5;124m\"\u001b[39m\u001b[38;5;124mb\u001b[39m\u001b[38;5;124m\"\u001b[39m\n\u001b[0;32m-> 1880\u001b[0m \u001b[38;5;28mself\u001b[39m\u001b[38;5;241m.\u001b[39mhandles \u001b[38;5;241m=\u001b[39m get_handle(\n\u001b[1;32m   1881\u001b[0m     f,\n\u001b[1;32m   1882\u001b[0m     mode,\n\u001b[1;32m   1883\u001b[0m     encoding\u001b[38;5;241m=\u001b[39m\u001b[38;5;28mself\u001b[39m\u001b[38;5;241m.\u001b[39moptions\u001b[38;5;241m.\u001b[39mget(\u001b[38;5;124m\"\u001b[39m\u001b[38;5;124mencoding\u001b[39m\u001b[38;5;124m\"\u001b[39m, \u001b[38;5;28;01mNone\u001b[39;00m),\n\u001b[1;32m   1884\u001b[0m     compression\u001b[38;5;241m=\u001b[39m\u001b[38;5;28mself\u001b[39m\u001b[38;5;241m.\u001b[39moptions\u001b[38;5;241m.\u001b[39mget(\u001b[38;5;124m\"\u001b[39m\u001b[38;5;124mcompression\u001b[39m\u001b[38;5;124m\"\u001b[39m, \u001b[38;5;28;01mNone\u001b[39;00m),\n\u001b[1;32m   1885\u001b[0m     memory_map\u001b[38;5;241m=\u001b[39m\u001b[38;5;28mself\u001b[39m\u001b[38;5;241m.\u001b[39moptions\u001b[38;5;241m.\u001b[39mget(\u001b[38;5;124m\"\u001b[39m\u001b[38;5;124mmemory_map\u001b[39m\u001b[38;5;124m\"\u001b[39m, \u001b[38;5;28;01mFalse\u001b[39;00m),\n\u001b[1;32m   1886\u001b[0m     is_text\u001b[38;5;241m=\u001b[39mis_text,\n\u001b[1;32m   1887\u001b[0m     errors\u001b[38;5;241m=\u001b[39m\u001b[38;5;28mself\u001b[39m\u001b[38;5;241m.\u001b[39moptions\u001b[38;5;241m.\u001b[39mget(\u001b[38;5;124m\"\u001b[39m\u001b[38;5;124mencoding_errors\u001b[39m\u001b[38;5;124m\"\u001b[39m, \u001b[38;5;124m\"\u001b[39m\u001b[38;5;124mstrict\u001b[39m\u001b[38;5;124m\"\u001b[39m),\n\u001b[1;32m   1888\u001b[0m     storage_options\u001b[38;5;241m=\u001b[39m\u001b[38;5;28mself\u001b[39m\u001b[38;5;241m.\u001b[39moptions\u001b[38;5;241m.\u001b[39mget(\u001b[38;5;124m\"\u001b[39m\u001b[38;5;124mstorage_options\u001b[39m\u001b[38;5;124m\"\u001b[39m, \u001b[38;5;28;01mNone\u001b[39;00m),\n\u001b[1;32m   1889\u001b[0m )\n\u001b[1;32m   1890\u001b[0m \u001b[38;5;28;01massert\u001b[39;00m \u001b[38;5;28mself\u001b[39m\u001b[38;5;241m.\u001b[39mhandles \u001b[38;5;129;01mis\u001b[39;00m \u001b[38;5;129;01mnot\u001b[39;00m \u001b[38;5;28;01mNone\u001b[39;00m\n\u001b[1;32m   1891\u001b[0m f \u001b[38;5;241m=\u001b[39m \u001b[38;5;28mself\u001b[39m\u001b[38;5;241m.\u001b[39mhandles\u001b[38;5;241m.\u001b[39mhandle\n",
      "File \u001b[0;32m~/.conda/envs/jb/lib/python3.11/site-packages/pandas/io/common.py:873\u001b[0m, in \u001b[0;36mget_handle\u001b[0;34m(path_or_buf, mode, encoding, compression, memory_map, is_text, errors, storage_options)\u001b[0m\n\u001b[1;32m    868\u001b[0m \u001b[38;5;28;01melif\u001b[39;00m \u001b[38;5;28misinstance\u001b[39m(handle, \u001b[38;5;28mstr\u001b[39m):\n\u001b[1;32m    869\u001b[0m     \u001b[38;5;66;03m# Check whether the filename is to be opened in binary mode.\u001b[39;00m\n\u001b[1;32m    870\u001b[0m     \u001b[38;5;66;03m# Binary mode does not support 'encoding' and 'newline'.\u001b[39;00m\n\u001b[1;32m    871\u001b[0m     \u001b[38;5;28;01mif\u001b[39;00m ioargs\u001b[38;5;241m.\u001b[39mencoding \u001b[38;5;129;01mand\u001b[39;00m \u001b[38;5;124m\"\u001b[39m\u001b[38;5;124mb\u001b[39m\u001b[38;5;124m\"\u001b[39m \u001b[38;5;129;01mnot\u001b[39;00m \u001b[38;5;129;01min\u001b[39;00m ioargs\u001b[38;5;241m.\u001b[39mmode:\n\u001b[1;32m    872\u001b[0m         \u001b[38;5;66;03m# Encoding\u001b[39;00m\n\u001b[0;32m--> 873\u001b[0m         handle \u001b[38;5;241m=\u001b[39m \u001b[38;5;28mopen\u001b[39m(\n\u001b[1;32m    874\u001b[0m             handle,\n\u001b[1;32m    875\u001b[0m             ioargs\u001b[38;5;241m.\u001b[39mmode,\n\u001b[1;32m    876\u001b[0m             encoding\u001b[38;5;241m=\u001b[39mioargs\u001b[38;5;241m.\u001b[39mencoding,\n\u001b[1;32m    877\u001b[0m             errors\u001b[38;5;241m=\u001b[39merrors,\n\u001b[1;32m    878\u001b[0m             newline\u001b[38;5;241m=\u001b[39m\u001b[38;5;124m\"\u001b[39m\u001b[38;5;124m\"\u001b[39m,\n\u001b[1;32m    879\u001b[0m         )\n\u001b[1;32m    880\u001b[0m     \u001b[38;5;28;01melse\u001b[39;00m:\n\u001b[1;32m    881\u001b[0m         \u001b[38;5;66;03m# Binary mode\u001b[39;00m\n\u001b[1;32m    882\u001b[0m         handle \u001b[38;5;241m=\u001b[39m \u001b[38;5;28mopen\u001b[39m(handle, ioargs\u001b[38;5;241m.\u001b[39mmode)\n",
      "\u001b[0;31mFileNotFoundError\u001b[0m: [Errno 2] No such file or directory: '../gathering/bill_data.csv'"
     ]
    }
   ],
   "source": [
    "import requests # for making http (web) requests\n",
    "import pandas as pd # for working with tabular (spreadsheet) data\n",
    "import csv # also for working with tabular data, in csv format\n",
    "\n",
    "# this grabs the CSV from the previous section. If you get a file\n",
    "# not found error make sure you go through the previous section to \n",
    "# save that csv\n",
    "bills = pd.read_csv('../gathering/bill_data.csv')\n",
    "\n",
    "df = pd.DataFrame(bills)"
   ]
  },
  {
   "cell_type": "code",
   "execution_count": 3,
   "id": "43063f6b",
   "metadata": {},
   "outputs": [
    {
     "name": "stdout",
     "output_type": "stream",
     "text": [
      "<class 'pandas.core.frame.DataFrame'>\n",
      "RangeIndex: 80 entries, 0 to 79\n",
      "Data columns (total 8 columns):\n",
      " #   Column       Non-Null Count  Dtype \n",
      "---  ------       --------------  ----- \n",
      " 0   Unnamed: 0   80 non-null     int64 \n",
      " 1   title        80 non-null     object\n",
      " 2   caption      80 non-null     object\n",
      " 3   category     80 non-null     object\n",
      " 4   description  80 non-null     object\n",
      " 5   url          80 non-null     object\n",
      " 6   legiscan     80 non-null     object\n",
      " 7   congress     80 non-null     object\n",
      "dtypes: int64(1), object(7)\n",
      "memory usage: 5.1+ KB\n"
     ]
    }
   ],
   "source": [
    "df.info()"
   ]
  },
  {
   "cell_type": "code",
   "execution_count": 48,
   "id": "d4578868-2b8d-4e95-9617-4919dd0e87c3",
   "metadata": {},
   "outputs": [
    {
     "data": {
      "text/html": [
       "<div>\n",
       "<style scoped>\n",
       "    .dataframe tbody tr th:only-of-type {\n",
       "        vertical-align: middle;\n",
       "    }\n",
       "\n",
       "    .dataframe tbody tr th {\n",
       "        vertical-align: top;\n",
       "    }\n",
       "\n",
       "    .dataframe thead th {\n",
       "        text-align: right;\n",
       "    }\n",
       "</style>\n",
       "<table border=\"1\" class=\"dataframe\">\n",
       "  <thead>\n",
       "    <tr style=\"text-align: right;\">\n",
       "      <th></th>\n",
       "      <th>Unnamed: 0</th>\n",
       "      <th>title</th>\n",
       "      <th>caption</th>\n",
       "      <th>category</th>\n",
       "      <th>description</th>\n",
       "      <th>url</th>\n",
       "      <th>legiscan</th>\n",
       "      <th>congress</th>\n",
       "    </tr>\n",
       "  </thead>\n",
       "  <tbody>\n",
       "    <tr>\n",
       "      <th>0</th>\n",
       "      <td>0</td>\n",
       "      <td>US HB1064</td>\n",
       "      <td>Ensuring Military Readiness Act of 2023</td>\n",
       "      <td>MILITARY</td>\n",
       "      <td>Ensuring Military Readiness Act of 2023</td>\n",
       "      <td>https://translegislation.com//bills/2024/US/HB...</td>\n",
       "      <td>https://legiscan.com/US/text/HB1064/id/2737306</td>\n",
       "      <td>https://www.congress.gov/bill/118th-congress/h...</td>\n",
       "    </tr>\n",
       "    <tr>\n",
       "      <th>1</th>\n",
       "      <td>1</td>\n",
       "      <td>US HB1112</td>\n",
       "      <td>Ensuring Military Readiness Act of 2023</td>\n",
       "      <td>MILITARY</td>\n",
       "      <td>Ensuring Military Readiness Act of 2023</td>\n",
       "      <td>https://translegislation.com//bills/2024/US/HB...</td>\n",
       "      <td>https://legiscan.com/US/text/HB1112/id/2742708</td>\n",
       "      <td>https://www.congress.gov/bill/118th-congress/h...</td>\n",
       "    </tr>\n",
       "    <tr>\n",
       "      <th>2</th>\n",
       "      <td>2</td>\n",
       "      <td>US HB1276</td>\n",
       "      <td>Protect Minors from Medical Malpractice Act of...</td>\n",
       "      <td>HEALTHCARE</td>\n",
       "      <td>Protect Minors from Medical Malpractice Act of...</td>\n",
       "      <td>https://translegislation.com//bills/2024/US/HB...</td>\n",
       "      <td>https://legiscan.com/US/text/HB1276/id/2755407</td>\n",
       "      <td>https://www.congress.gov/bill/118th-congress/h...</td>\n",
       "    </tr>\n",
       "    <tr>\n",
       "      <th>3</th>\n",
       "      <td>3</td>\n",
       "      <td>US HB1399</td>\n",
       "      <td>Protect Children’s Innocence Act</td>\n",
       "      <td>HEALTHCARE</td>\n",
       "      <td>Protect Children’s Innocence Act</td>\n",
       "      <td>https://translegislation.com//bills/2024/US/HB...</td>\n",
       "      <td>https://legiscan.com/US/text/HB1399/id/2796538</td>\n",
       "      <td>https://www.congress.gov/bill/118th-congress/h...</td>\n",
       "    </tr>\n",
       "    <tr>\n",
       "      <th>4</th>\n",
       "      <td>4</td>\n",
       "      <td>US HB1490</td>\n",
       "      <td>Preventing Violence Against Female Inmates Act...</td>\n",
       "      <td>INCARCERATION</td>\n",
       "      <td>Preventing Violence Against Female Inmates Act...</td>\n",
       "      <td>https://translegislation.com//bills/2024/US/HB...</td>\n",
       "      <td>https://legiscan.com/US/text/HB1490/id/2761146</td>\n",
       "      <td>https://www.congress.gov/bill/118th-congress/h...</td>\n",
       "    </tr>\n",
       "    <tr>\n",
       "      <th>...</th>\n",
       "      <td>...</td>\n",
       "      <td>...</td>\n",
       "      <td>...</td>\n",
       "      <td>...</td>\n",
       "      <td>...</td>\n",
       "      <td>...</td>\n",
       "      <td>...</td>\n",
       "      <td>...</td>\n",
       "    </tr>\n",
       "    <tr>\n",
       "      <th>75</th>\n",
       "      <td>75</td>\n",
       "      <td>US SJR90</td>\n",
       "      <td>A joint resolution providing for congressional...</td>\n",
       "      <td>HEALTHCARE</td>\n",
       "      <td>A joint resolution providing for congressional...</td>\n",
       "      <td>https://translegislation.com//bills/2024/US/SJR90</td>\n",
       "      <td>https://legiscan.com/US/text/SJR90/id/3003899</td>\n",
       "      <td>https://www.congress.gov/bill/118th-congress/s...</td>\n",
       "    </tr>\n",
       "    <tr>\n",
       "      <th>76</th>\n",
       "      <td>76</td>\n",
       "      <td>US SJR96</td>\n",
       "      <td>A joint resolution providing for congressional...</td>\n",
       "      <td>EDUCATION</td>\n",
       "      <td>A joint resolution providing for congressional...</td>\n",
       "      <td>https://translegislation.com//bills/2024/US/SJR96</td>\n",
       "      <td>https://legiscan.com/US/text/SJR96/id/3009679</td>\n",
       "      <td>https://www.congress.gov/bill/118th-congress/s...</td>\n",
       "    </tr>\n",
       "    <tr>\n",
       "      <th>77</th>\n",
       "      <td>77</td>\n",
       "      <td>US SR267</td>\n",
       "      <td>A resolution supporting the designation of the...</td>\n",
       "      <td>SPORTS</td>\n",
       "      <td>A resolution supporting the designation of the...</td>\n",
       "      <td>https://translegislation.com//bills/2024/US/SR267</td>\n",
       "      <td>https://legiscan.com/US/text/SR267/id/2831179</td>\n",
       "      <td>https://www.congress.gov/bill/118th-congress/s...</td>\n",
       "    </tr>\n",
       "    <tr>\n",
       "      <th>78</th>\n",
       "      <td>78</td>\n",
       "      <td>US SR53</td>\n",
       "      <td>A resolution establishing a Women's Bill of Ri...</td>\n",
       "      <td>CIVIL RIGHTS</td>\n",
       "      <td>A resolution establishing a Women's Bill of Ri...</td>\n",
       "      <td>https://translegislation.com//bills/2024/US/SR53</td>\n",
       "      <td>https://legiscan.com/US/text/SR53/id/2696872</td>\n",
       "      <td>https://www.congress.gov/bill/118th-congress/s...</td>\n",
       "    </tr>\n",
       "    <tr>\n",
       "      <th>79</th>\n",
       "      <td>79</td>\n",
       "      <td>US SR669</td>\n",
       "      <td>A resolution designating October 10, 2024, as ...</td>\n",
       "      <td>SPORTS</td>\n",
       "      <td>A resolution designating October 10, 2024, as ...</td>\n",
       "      <td>https://translegislation.com//bills/2024/US/SR669</td>\n",
       "      <td>https://legiscan.com/US/text/SR669/id/2998369</td>\n",
       "      <td>https://www.congress.gov/bill/118th-congress/s...</td>\n",
       "    </tr>\n",
       "  </tbody>\n",
       "</table>\n",
       "<p>80 rows × 8 columns</p>\n",
       "</div>"
      ],
      "text/plain": [
       "    Unnamed: 0      title                                            caption  \\\n",
       "0            0  US HB1064            Ensuring Military Readiness Act of 2023   \n",
       "1            1  US HB1112            Ensuring Military Readiness Act of 2023   \n",
       "2            2  US HB1276  Protect Minors from Medical Malpractice Act of...   \n",
       "3            3  US HB1399                   Protect Children’s Innocence Act   \n",
       "4            4  US HB1490  Preventing Violence Against Female Inmates Act...   \n",
       "..         ...        ...                                                ...   \n",
       "75          75   US SJR90  A joint resolution providing for congressional...   \n",
       "76          76   US SJR96  A joint resolution providing for congressional...   \n",
       "77          77   US SR267  A resolution supporting the designation of the...   \n",
       "78          78    US SR53  A resolution establishing a Women's Bill of Ri...   \n",
       "79          79   US SR669  A resolution designating October 10, 2024, as ...   \n",
       "\n",
       "         category                                        description  \\\n",
       "0        MILITARY            Ensuring Military Readiness Act of 2023   \n",
       "1        MILITARY            Ensuring Military Readiness Act of 2023   \n",
       "2      HEALTHCARE  Protect Minors from Medical Malpractice Act of...   \n",
       "3      HEALTHCARE                   Protect Children’s Innocence Act   \n",
       "4   INCARCERATION  Preventing Violence Against Female Inmates Act...   \n",
       "..            ...                                                ...   \n",
       "75     HEALTHCARE  A joint resolution providing for congressional...   \n",
       "76      EDUCATION  A joint resolution providing for congressional...   \n",
       "77         SPORTS  A resolution supporting the designation of the...   \n",
       "78   CIVIL RIGHTS  A resolution establishing a Women's Bill of Ri...   \n",
       "79         SPORTS  A resolution designating October 10, 2024, as ...   \n",
       "\n",
       "                                                  url  \\\n",
       "0   https://translegislation.com//bills/2024/US/HB...   \n",
       "1   https://translegislation.com//bills/2024/US/HB...   \n",
       "2   https://translegislation.com//bills/2024/US/HB...   \n",
       "3   https://translegislation.com//bills/2024/US/HB...   \n",
       "4   https://translegislation.com//bills/2024/US/HB...   \n",
       "..                                                ...   \n",
       "75  https://translegislation.com//bills/2024/US/SJR90   \n",
       "76  https://translegislation.com//bills/2024/US/SJR96   \n",
       "77  https://translegislation.com//bills/2024/US/SR267   \n",
       "78   https://translegislation.com//bills/2024/US/SR53   \n",
       "79  https://translegislation.com//bills/2024/US/SR669   \n",
       "\n",
       "                                          legiscan  \\\n",
       "0   https://legiscan.com/US/text/HB1064/id/2737306   \n",
       "1   https://legiscan.com/US/text/HB1112/id/2742708   \n",
       "2   https://legiscan.com/US/text/HB1276/id/2755407   \n",
       "3   https://legiscan.com/US/text/HB1399/id/2796538   \n",
       "4   https://legiscan.com/US/text/HB1490/id/2761146   \n",
       "..                                             ...   \n",
       "75   https://legiscan.com/US/text/SJR90/id/3003899   \n",
       "76   https://legiscan.com/US/text/SJR96/id/3009679   \n",
       "77   https://legiscan.com/US/text/SR267/id/2831179   \n",
       "78    https://legiscan.com/US/text/SR53/id/2696872   \n",
       "79   https://legiscan.com/US/text/SR669/id/2998369   \n",
       "\n",
       "                                             congress  \n",
       "0   https://www.congress.gov/bill/118th-congress/h...  \n",
       "1   https://www.congress.gov/bill/118th-congress/h...  \n",
       "2   https://www.congress.gov/bill/118th-congress/h...  \n",
       "3   https://www.congress.gov/bill/118th-congress/h...  \n",
       "4   https://www.congress.gov/bill/118th-congress/h...  \n",
       "..                                                ...  \n",
       "75  https://www.congress.gov/bill/118th-congress/s...  \n",
       "76  https://www.congress.gov/bill/118th-congress/s...  \n",
       "77  https://www.congress.gov/bill/118th-congress/s...  \n",
       "78  https://www.congress.gov/bill/118th-congress/s...  \n",
       "79  https://www.congress.gov/bill/118th-congress/s...  \n",
       "\n",
       "[80 rows x 8 columns]"
      ]
     },
     "execution_count": 48,
     "metadata": {},
     "output_type": "execute_result"
    }
   ],
   "source": [
    "df"
   ]
  },
  {
   "cell_type": "markdown",
   "id": "9b507ad0",
   "metadata": {},
   "source": [
    "## extracting the bill number\n",
    "In order to scrape the bill text, we need just the bill number. In order to get that, we need to go through the `Legislation Number` column and extract just the number."
   ]
  },
  {
   "cell_type": "code",
   "execution_count": 5,
   "id": "9605b590",
   "metadata": {},
   "outputs": [
    {
     "data": {
      "text/plain": [
       "0     US HB1064\n",
       "1     US HB1112\n",
       "2     US HB1276\n",
       "3     US HB1399\n",
       "4     US HB1490\n",
       "        ...    \n",
       "75     US SJR90\n",
       "76     US SJR96\n",
       "77     US SR267\n",
       "78      US SR53\n",
       "79     US SR669\n",
       "Name: title, Length: 80, dtype: object"
      ]
     },
     "execution_count": 5,
     "metadata": {},
     "output_type": "execute_result"
    }
   ],
   "source": [
    "df['title']"
   ]
  },
  {
   "cell_type": "code",
   "execution_count": 6,
   "id": "00f8c038",
   "metadata": {},
   "outputs": [
    {
     "data": {
      "text/plain": [
       "['US', 'HB1064']"
      ]
     },
     "execution_count": 6,
     "metadata": {},
     "output_type": "execute_result"
    }
   ],
   "source": [
    "# we can use the split() method to split up the single string\n",
    "# into two strings, by the empty space in between them\n",
    "\n",
    "bill = \"US HB1064\"\n",
    "bill.split(' ')"
   ]
  },
  {
   "cell_type": "code",
   "execution_count": 36,
   "id": "9f684307-c78c-45b0-b9f0-ce046ace8576",
   "metadata": {},
   "outputs": [],
   "source": [
    "# save our variable, which is a list of two items \n",
    "\n",
    "bill = \"US HB1064\"\n",
    "splitted = bill.split(' ')"
   ]
  },
  {
   "cell_type": "code",
   "execution_count": 37,
   "id": "74036898-ea5d-4fa3-8f93-3b72634eb598",
   "metadata": {},
   "outputs": [
    {
     "data": {
      "text/plain": [
       "'HB1064'"
      ]
     },
     "execution_count": 37,
     "metadata": {},
     "output_type": "execute_result"
    }
   ],
   "source": [
    "# now we focus on the second item in the new list \n",
    "\n",
    "splitted[1]"
   ]
  },
  {
   "cell_type": "markdown",
   "id": "78821061-d1cb-4b89-95fb-7fe677b26d5c",
   "metadata": {},
   "source": [
    "Now let's do it to all of them!"
   ]
  },
  {
   "cell_type": "code",
   "execution_count": 39,
   "id": "90725df8-4190-4c1a-9ed4-d39d80bbe62c",
   "metadata": {},
   "outputs": [],
   "source": [
    "titles = []\n",
    "for item in df['title']:\n",
    "    bill_title = item.split(' ')\n",
    "    titles.append(bill_title[1])"
   ]
  },
  {
   "cell_type": "code",
   "execution_count": 34,
   "id": "144f2b75-2ce0-429b-b05f-729634571b35",
   "metadata": {},
   "outputs": [
    {
     "data": {
      "text/plain": [
       "['HB1064',\n",
       " 'HB1112',\n",
       " 'HB1276',\n",
       " 'HB1399',\n",
       " 'HB1490',\n",
       " 'HB1585',\n",
       " 'HB216',\n",
       " 'HB3101',\n",
       " 'HB3102',\n",
       " 'HB3328',\n",
       " 'HB3329',\n",
       " 'HB3462',\n",
       " 'HB3887',\n",
       " 'HB429',\n",
       " 'HB4365',\n",
       " 'HB4367',\n",
       " 'HB4398',\n",
       " 'HB4665',\n",
       " 'HB4821',\n",
       " 'HB5',\n",
       " 'HB5327',\n",
       " 'HB5636',\n",
       " 'HB5893',\n",
       " 'HB5894',\n",
       " 'HB6040',\n",
       " 'HB6258',\n",
       " 'HB6658',\n",
       " 'HB6728',\n",
       " 'HB7183',\n",
       " 'HB7187',\n",
       " 'HB734',\n",
       " 'HB736',\n",
       " 'HB7725',\n",
       " 'HB8070',\n",
       " 'HB8433',\n",
       " 'HB8580',\n",
       " 'HB8708',\n",
       " 'HB8752',\n",
       " 'HB8771',\n",
       " 'HB8774',\n",
       " 'HB8997',\n",
       " 'HB8998',\n",
       " 'HB9026',\n",
       " 'HB9027',\n",
       " 'HB9028',\n",
       " 'HB9029',\n",
       " 'HB9218',\n",
       " 'HB9586',\n",
       " 'HB985',\n",
       " 'HJR160',\n",
       " 'HJR165',\n",
       " 'HR115',\n",
       " 'HR1223',\n",
       " 'HR282',\n",
       " 'HR298',\n",
       " 'HR518',\n",
       " 'HR536',\n",
       " 'HR769',\n",
       " 'SB1595',\n",
       " 'SB1597',\n",
       " 'SB1709',\n",
       " 'SB187',\n",
       " 'SB200',\n",
       " 'SB2357',\n",
       " 'SB2394',\n",
       " 'SB2797',\n",
       " 'SB3035',\n",
       " 'SB3438',\n",
       " 'SB3729',\n",
       " 'SB435',\n",
       " 'SB457',\n",
       " 'SB4638',\n",
       " 'SB613',\n",
       " 'SB635',\n",
       " 'SB752',\n",
       " 'SJR90',\n",
       " 'SJR96',\n",
       " 'SR267',\n",
       " 'SR53',\n",
       " 'SR669']"
      ]
     },
     "execution_count": 34,
     "metadata": {},
     "output_type": "execute_result"
    }
   ],
   "source": [
    "titles"
   ]
  },
  {
   "cell_type": "code",
   "execution_count": 63,
   "id": "7fc16444-180b-4f5f-a590-a930aa78f2b0",
   "metadata": {},
   "outputs": [
    {
     "data": {
      "text/plain": [
       "['1064',\n",
       " '1112',\n",
       " '1276',\n",
       " '1399',\n",
       " '1490',\n",
       " '1585',\n",
       " '216',\n",
       " '3101',\n",
       " '3102',\n",
       " '3328',\n",
       " '3329',\n",
       " '3462',\n",
       " '3887',\n",
       " '429',\n",
       " '4365',\n",
       " '4367',\n",
       " '4398',\n",
       " '4665',\n",
       " '4821',\n",
       " '5',\n",
       " '5327',\n",
       " '5636',\n",
       " '5893',\n",
       " '5894',\n",
       " '6040',\n",
       " '6258',\n",
       " '6658',\n",
       " '6728',\n",
       " '7183',\n",
       " '7187',\n",
       " '734',\n",
       " '736',\n",
       " '7725',\n",
       " '8070',\n",
       " '8433',\n",
       " '8580',\n",
       " '8708',\n",
       " '8752',\n",
       " '8771',\n",
       " '8774',\n",
       " '8997',\n",
       " '8998',\n",
       " '9026',\n",
       " '9027',\n",
       " '9028',\n",
       " '9029',\n",
       " '9218',\n",
       " '9586',\n",
       " '985',\n",
       " '160',\n",
       " '165',\n",
       " '115',\n",
       " '1223',\n",
       " '282',\n",
       " '298',\n",
       " '518',\n",
       " '536',\n",
       " '769',\n",
       " '1595',\n",
       " '1597',\n",
       " '1709',\n",
       " '187',\n",
       " '200',\n",
       " '2357',\n",
       " '2394',\n",
       " '2797',\n",
       " '3035',\n",
       " '3438',\n",
       " '3729',\n",
       " '435',\n",
       " '457',\n",
       " '4638',\n",
       " '613',\n",
       " '635',\n",
       " '752',\n",
       " '90',\n",
       " '96',\n",
       " '267',\n",
       " '53',\n",
       " '669']"
      ]
     },
     "execution_count": 63,
     "metadata": {},
     "output_type": "execute_result"
    }
   ],
   "source": [
    "## a very complicated piece of code that goes into each bill title to pull out just the numbers\n",
    "## feel free to skip --- this is advanced stuff!\n",
    "\n",
    "title_numbers = []\n",
    "title_body = []\n",
    "for i in titles:\n",
    "    text = ''\n",
    "    numbers = ''\n",
    "    for char in i:\n",
    "        if(char.isalpha()):\n",
    "            text += char\n",
    "        else:\n",
    "            numbers += char\n",
    "    title_body.append(text)\n",
    "    title_numbers.append(numbers)\n",
    "title_numbers"
   ]
  },
  {
   "cell_type": "markdown",
   "id": "3d96f9d5",
   "metadata": {},
   "source": [
    "## scraping the bill text\n",
    "Using that list of numbers as input, we will write a function that scrapes the bill text."
   ]
  },
  {
   "cell_type": "code",
   "execution_count": 9,
   "id": "4b292b96",
   "metadata": {},
   "outputs": [],
   "source": [
    "# here we are introducing \"f-strings\", which is way of writing \"formatted strings\"\n",
    "# in python that allows us to input variables, like a bill number, in this case\n",
    "\n",
    "def scrape_bill_text(numbers):\n",
    "    bills_text = []\n",
    "    for item in numbers:\n",
    "        # f-string is used to add the specific bill number to the URL\n",
    "        url = (f'https://www.congress.gov/117/bills/hr{item}/BILLS-117hr{item}ih.htm')\n",
    "        # requests library to scrape the URL, which is formatted for each bill number\n",
    "        response = requests.get(url)\n",
    "        content = response.content\n",
    "        bills_text.append(content)\n",
    "    return bills_text"
   ]
  },
  {
   "cell_type": "markdown",
   "id": "a6f8b5e1",
   "metadata": {},
   "source": [
    "Calling the function and saving the results to `sample`"
   ]
  },
  {
   "cell_type": "code",
   "execution_count": 10,
   "id": "7b253ab3",
   "metadata": {},
   "outputs": [],
   "source": [
    "# so we don't overload the website, we will scrape just a sample of\n",
    "# the first 10 bills. This will be more than enough data for us to\n",
    "# practice cleaning.\n",
    "\n",
    "sample = scrape_bill_text(numbers[:10])"
   ]
  },
  {
   "cell_type": "code",
   "execution_count": 11,
   "id": "fa94da06",
   "metadata": {},
   "outputs": [
    {
     "data": {
      "text/plain": [
       "147"
      ]
     },
     "execution_count": 11,
     "metadata": {},
     "output_type": "execute_result"
    }
   ],
   "source": [
    "len(sample)"
   ]
  },
  {
   "cell_type": "code",
   "execution_count": 12,
   "id": "01493861",
   "metadata": {},
   "outputs": [
    {
     "data": {
      "text/plain": [
       "b\"<html><body><pre>\\n[Congressional Bills 117th Congress]\\n[From the U.S. Government Publishing Office]\\n[H.R. 1112 Introduced in House (IH)]\\n\\n&lt;DOC&gt;\\n\\n\\n\\n\\n\\n\\n117th CONGRESS\\n  1st Session\\n                                H. R. 1112\\n\\n   To require a report on the military coup in Burma, and for other \\n                               purposes.\\n\\n\\n_______________________________________________________________________\\n\\n\\n                    IN THE HOUSE OF REPRESENTATIVES\\n\\n                           February 18, 2021\\n\\n    Mr. Connolly (for himself, Mr. Price of North Carolina, and Mr. \\n  Buchanan) introduced the following bill; which was referred to the \\n                      Committee on Foreign Affairs\\n\\n_______________________________________________________________________\\n\\n                                 A BILL\\n\\n\\n \\n   To require a report on the military coup in Burma, and for other \\n                               purposes.\\n\\n    Be it enacted by the Senate and House of Representatives of the \\nUnited States of America in Congress assembled,\\n\\nSECTION 1. SHORT TITLE.\\n\\n    This Act may be cited as the ``Protect Democracy in Burma Act of \\n2021''.\\n\\nSEC. 2. FINDINGS.\\n\\n    Congress finds the following:\\n            (1) On March 14, 2005, the House of Representatives agreed \\n        to H. Res. 135, which established the House Democracy \\n        Assistance Commission (later changed to the House Democracy \\n        Partnership, hereafter referred to as ``HDP'') to work directly \\n        with parliaments around the world to support the development of \\n        effective, independent, and responsive legislative \\n        institutions.\\n            (2) HDP approved a legislative strengthening partnership \\n        with Burma in 2016 and organized the first congressional \\n        delegation to meet with the new civilian-led government, led by \\n        State Counselor Aung San Suu Kyi, and civil society leaders in \\n        May 2016.\\n            (3) On February 2, 2021, the U.S. Department of State \\n        assessed that Daw Aung San Suu Kyi, the leader of Burma's \\n        ruling party, and President Win Myint, the duly elected head of \\n        government, were deposed in a military coup on February 1, \\n        2021.\\n            (4) As part of the military coup, the Burmese military \\n        declared martial law, suspended the civilian-led government, \\n        and detained newly elected Members of Parliament in the \\n        capitol, Naypyidaw, thereby usurping the role of the \\n        democratically elected government and parliament.\\n\\nSEC. 3. SENSE OF CONGRESS.\\n\\n    It is the sense of Congress that--\\n            (1) due to the Burmese military's seizure of government \\n        through the detention of State Counsellor Aung San Suu Kyi, \\n        President Win Myint, and other government leaders, Burma is not \\n        represented by a democratically elected government;\\n            (2) the inability of newly elected Members of Parliament to \\n        begin their official mandate due to the Burmese military's \\n        actions directly threatens the democratic trajectory of Burma's \\n        Parliament, and thereby the country;\\n            (3) the will and determination of those duly-elected \\n        Members of Parliament who are taking it upon themselves to \\n        continue serving as representatives of the people through \\n        alternative methods of communicating and convening should be \\n        lauded; and\\n            (4) by preventing the Parliament from completing its work, \\n        the Burmese military has rendered impossible and effectively \\n        nullified the international collaborative relationships that \\n        have supported and strengthened the institution, including the \\n        Burmese parliament's partnership with HDP.\\n\\nSEC. 4. STATEMENT OF POLICY.\\n\\n    It is the policy of the United States to--\\n            (1) engage with the Association of Southeast Asian Nations \\n        (ASEAN) and ASEAN member states to--\\n                    (A) condemn the military coup in Burma;\\n                    (B) urge the unconditional release of detained \\n                democratically elected leaders and civil society \\n                members; and\\n                    (C) support a return to Burma's democratic \\n                transition; and\\n            (2) instruct, as appropriate, representatives of the United \\n        States Government to use the voice, vote, and influence of the \\n        United States at the United Nations to hold accountable those \\n        responsible for the military coup in Burma.\\n\\nSEC. 5. REPORT.\\n\\n    Not later than 90 days after the date of the enactment of this Act, \\nthe Secretary of State shall submit to the Committee on Foreign Affairs \\nand the Committee on Appropriations of the House of Representatives and \\nthe Committee on Foreign Relations and the Committee on Appropriations \\nof the Senate a report on the military coup in Burma, including a \\ndescription of efforts to implement the policy specified in section 4.\\n                                 &lt;all&gt;\\n</pre></body></html>\\n\""
      ]
     },
     "execution_count": 12,
     "metadata": {},
     "output_type": "execute_result"
    }
   ],
   "source": [
    "# let's check out our first item (the first bill text) in the list \n",
    "\n",
    "sample[0]"
   ]
  },
  {
   "cell_type": "markdown",
   "id": "a59e423a",
   "metadata": {},
   "source": [
    "## decoding text from bytes to string\n",
    "We will \"decode\" the bytes type of data into a string, so we can eventually save it as a string format. "
   ]
  },
  {
   "cell_type": "code",
   "execution_count": 13,
   "id": "c351a0f1",
   "metadata": {},
   "outputs": [
    {
     "data": {
      "text/plain": [
       "list"
      ]
     },
     "execution_count": 13,
     "metadata": {},
     "output_type": "execute_result"
    }
   ],
   "source": [
    "# Use type() to see what kind of data we are working with.\n",
    "# list type \n",
    "\n",
    "type(sample)"
   ]
  },
  {
   "cell_type": "code",
   "execution_count": 14,
   "id": "2e221184",
   "metadata": {},
   "outputs": [
    {
     "data": {
      "text/plain": [
       "bytes"
      ]
     },
     "execution_count": 14,
     "metadata": {},
     "output_type": "execute_result"
    }
   ],
   "source": [
    "# within the list, bytes type\n",
    "\n",
    "type(sample[0])"
   ]
  },
  {
   "cell_type": "code",
   "execution_count": 15,
   "id": "d5e226ef",
   "metadata": {},
   "outputs": [],
   "source": [
    "# turn bytes into string using decode()\n",
    "decoded = []\n",
    "for item in sample:\n",
    "    decoded.append(item.decode('utf-8'))"
   ]
  },
  {
   "cell_type": "code",
   "execution_count": 16,
   "id": "19211761",
   "metadata": {},
   "outputs": [
    {
     "data": {
      "text/plain": [
       "str"
      ]
     },
     "execution_count": 16,
     "metadata": {},
     "output_type": "execute_result"
    }
   ],
   "source": [
    "type(decoded[0])"
   ]
  },
  {
   "cell_type": "code",
   "execution_count": 17,
   "id": "933950e7",
   "metadata": {},
   "outputs": [
    {
     "data": {
      "text/plain": [
       "\"<html><body><pre>\\n[Congressional Bills 117th Congress]\\n[From the U.S. Government Publishing Office]\\n[H.R. 1112 Introduced in House (IH)]\\n\\n&lt;DOC&gt;\\n\\n\\n\\n\\n\\n\\n117th CONGRESS\\n  1st Session\\n                                H. R. 1112\\n\\n   To require a report on the military coup in Burma, and for other \\n                               purposes.\\n\\n\\n_______________________________________________________________________\\n\\n\\n                    IN THE HOUSE OF REPRESENTATIVES\\n\\n                           February 18, 2021\\n\\n    Mr. Connolly (for himself, Mr. Price of North Carolina, and Mr. \\n  Buchanan) introduced the following bill; which was referred to the \\n                      Committee on Foreign Affairs\\n\\n_______________________________________________________________________\\n\\n                                 A BILL\\n\\n\\n \\n   To require a report on the military coup in Burma, and for other \\n                               purposes.\\n\\n    Be it enacted by the Senate and House of Representatives of the \\nUnited States of America in Congress assembled,\\n\\nSECTION 1. SHORT TITLE.\\n\\n    This Act may be cited as the ``Protect Democracy in Burma Act of \\n2021''.\\n\\nSEC. 2. FINDINGS.\\n\\n    Congress finds the following:\\n            (1) On March 14, 2005, the House of Representatives agreed \\n        to H. Res. 135, which established the House Democracy \\n        Assistance Commission (later changed to the House Democracy \\n        Partnership, hereafter referred to as ``HDP'') to work directly \\n        with parliaments around the world to support the development of \\n        effective, independent, and responsive legislative \\n        institutions.\\n            (2) HDP approved a legislative strengthening partnership \\n        with Burma in 2016 and organized the first congressional \\n        delegation to meet with the new civilian-led government, led by \\n        State Counselor Aung San Suu Kyi, and civil society leaders in \\n        May 2016.\\n            (3) On February 2, 2021, the U.S. Department of State \\n        assessed that Daw Aung San Suu Kyi, the leader of Burma's \\n        ruling party, and President Win Myint, the duly elected head of \\n        government, were deposed in a military coup on February 1, \\n        2021.\\n            (4) As part of the military coup, the Burmese military \\n        declared martial law, suspended the civilian-led government, \\n        and detained newly elected Members of Parliament in the \\n        capitol, Naypyidaw, thereby usurping the role of the \\n        democratically elected government and parliament.\\n\\nSEC. 3. SENSE OF CONGRESS.\\n\\n    It is the sense of Congress that--\\n            (1) due to the Burmese military's seizure of government \\n        through the detention of State Counsellor Aung San Suu Kyi, \\n        President Win Myint, and other government leaders, Burma is not \\n        represented by a democratically elected government;\\n            (2) the inability of newly elected Members of Parliament to \\n        begin their official mandate due to the Burmese military's \\n        actions directly threatens the democratic trajectory of Burma's \\n        Parliament, and thereby the country;\\n            (3) the will and determination of those duly-elected \\n        Members of Parliament who are taking it upon themselves to \\n        continue serving as representatives of the people through \\n        alternative methods of communicating and convening should be \\n        lauded; and\\n            (4) by preventing the Parliament from completing its work, \\n        the Burmese military has rendered impossible and effectively \\n        nullified the international collaborative relationships that \\n        have supported and strengthened the institution, including the \\n        Burmese parliament's partnership with HDP.\\n\\nSEC. 4. STATEMENT OF POLICY.\\n\\n    It is the policy of the United States to--\\n            (1) engage with the Association of Southeast Asian Nations \\n        (ASEAN) and ASEAN member states to--\\n                    (A) condemn the military coup in Burma;\\n                    (B) urge the unconditional release of detained \\n                democratically elected leaders and civil society \\n                members; and\\n                    (C) support a return to Burma's democratic \\n                transition; and\\n            (2) instruct, as appropriate, representatives of the United \\n        States Government to use the voice, vote, and influence of the \\n        United States at the United Nations to hold accountable those \\n        responsible for the military coup in Burma.\\n\\nSEC. 5. REPORT.\\n\\n    Not later than 90 days after the date of the enactment of this Act, \\nthe Secretary of State shall submit to the Committee on Foreign Affairs \\nand the Committee on Appropriations of the House of Representatives and \\nthe Committee on Foreign Relations and the Committee on Appropriations \\nof the Senate a report on the military coup in Burma, including a \\ndescription of efforts to implement the policy specified in section 4.\\n                                 &lt;all&gt;\\n</pre></body></html>\\n\""
      ]
     },
     "execution_count": 17,
     "metadata": {},
     "output_type": "execute_result"
    }
   ],
   "source": [
    "decoded[0]"
   ]
  },
  {
   "cell_type": "code",
   "execution_count": 18,
   "id": "cfac21e5",
   "metadata": {},
   "outputs": [],
   "source": [
    "with open('sample.txt', 'w') as f:\n",
    "    for item in decoded:\n",
    "        f.write(item)"
   ]
  },
  {
   "cell_type": "code",
   "execution_count": null,
   "id": "1888da88",
   "metadata": {},
   "outputs": [],
   "source": []
  }
 ],
 "metadata": {
  "kernelspec": {
   "display_name": "Python 3 (ipykernel)",
   "language": "python",
   "name": "python3"
  },
  "language_info": {
   "codemirror_mode": {
    "name": "ipython",
    "version": 3
   },
   "file_extension": ".py",
   "mimetype": "text/x-python",
   "name": "python",
   "nbconvert_exporter": "python",
   "pygments_lexer": "ipython3",
   "version": "3.11.12"
  }
 },
 "nbformat": 4,
 "nbformat_minor": 5
}