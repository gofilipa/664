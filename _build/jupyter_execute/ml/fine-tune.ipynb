{
 "cells": [
  {
   "cell_type": "markdown",
   "id": "c191ca2c",
   "metadata": {},
   "source": [
    "# fine-tuning"
   ]
  },
  {
   "cell_type": "code",
   "execution_count": 1,
   "id": "10d47361",
   "metadata": {},
   "outputs": [],
   "source": [
    "# %%capture\n",
    "# %pip install transformers trl"
   ]
  },
  {
   "cell_type": "code",
   "execution_count": 2,
   "id": "cf058b05",
   "metadata": {},
   "outputs": [
    {
     "ename": "ModuleNotFoundError",
     "evalue": "No module named 'datasets'",
     "output_type": "error",
     "traceback": [
      "\u001b[0;31m---------------------------------------------------------------------------\u001b[0m",
      "\u001b[0;31mModuleNotFoundError\u001b[0m                       Traceback (most recent call last)",
      "Cell \u001b[0;32mIn[2], line 1\u001b[0m\n\u001b[0;32m----> 1\u001b[0m \u001b[38;5;28;01mfrom\u001b[39;00m \u001b[38;5;21;01mdatasets\u001b[39;00m \u001b[38;5;28;01mimport\u001b[39;00m load_dataset\n\u001b[1;32m      2\u001b[0m \u001b[38;5;28;01mfrom\u001b[39;00m \u001b[38;5;21;01mtransformers\u001b[39;00m \u001b[38;5;28;01mimport\u001b[39;00m (\n\u001b[1;32m      3\u001b[0m     AutoModelForCausalLM,\n\u001b[1;32m      4\u001b[0m     AutoTokenizer,\n\u001b[1;32m      5\u001b[0m     TrainingArguments,\n\u001b[1;32m      6\u001b[0m     pipeline\n\u001b[1;32m      7\u001b[0m )\n\u001b[1;32m      8\u001b[0m \u001b[38;5;28;01mfrom\u001b[39;00m \u001b[38;5;21;01mtrl\u001b[39;00m \u001b[38;5;28;01mimport\u001b[39;00m SFTTrainer\n",
      "\u001b[0;31mModuleNotFoundError\u001b[0m: No module named 'datasets'"
     ]
    }
   ],
   "source": [
    "from datasets import load_dataset\n",
    "from transformers import (\n",
    "    AutoModelForCausalLM,\n",
    "    AutoTokenizer,\n",
    "    TrainingArguments,\n",
    "    pipeline\n",
    ")\n",
    "from trl import SFTTrainer"
   ]
  },
  {
   "cell_type": "code",
   "execution_count": 3,
   "id": "507fd22f",
   "metadata": {},
   "outputs": [],
   "source": [
    "tokenizer = AutoTokenizer.from_pretrained(\"EleutherAI/gpt-neo-125m\")\n",
    "model = AutoModelForCausalLM.from_pretrained(\"EleutherAI/gpt-neo-125m\")"
   ]
  },
  {
   "cell_type": "code",
   "execution_count": 15,
   "id": "d49a1c43",
   "metadata": {},
   "outputs": [],
   "source": [
    "dataset = load_dataset(\"gofilipa/bedtime_stories\")"
   ]
  },
  {
   "cell_type": "markdown",
   "id": "16523909",
   "metadata": {},
   "source": [
    "Padding is necessary to account for different sizes of text in our dataset. \n",
    "\n",
    "*From the [docs on 🤗](https://huggingface.co/docs/transformers/en/pad_truncation): \n",
    "Batched inputs are often different lengths, so they can’t be converted to fixed-size tensors. Padding and truncation are strategies for dealing with this problem, to create rectangular tensors from batches of varying lengths. Padding adds a special padding token to ensure shorter sequences will have the same length as either the longest sequence in a batch or the maximum length accepted by the model. Truncation works in the other direction by truncating long sequences. In most cases, padding your batch to the length of the longest sequence and truncating to the maximum length a model can accept works pretty well.*"
   ]
  },
  {
   "cell_type": "code",
   "execution_count": 6,
   "id": "7bdbeb5c",
   "metadata": {},
   "outputs": [],
   "source": [
    "tokenizer.pad_token = tokenizer.eos_token\n",
    "tokenizer.padding_side = \"right\""
   ]
  },
  {
   "cell_type": "code",
   "execution_count": 7,
   "id": "f9fa6fcb",
   "metadata": {},
   "outputs": [],
   "source": [
    "training_params = TrainingArguments(\n",
    "    output_dir=\"./results\",\n",
    "    num_train_epochs = 3, # how many times we iterate over the dataset as a whole\n",
    "    learning_rate = 2e-4, # how many \"steps\" we take in adjusting the parameters to make up for loss\n",
    "    weight_decay = 0.001, # way of regularizing the parameters\n",
    "    report_to=\"none\" # this is a new param, to avoid a login to W&B\n",
    ")"
   ]
  },
  {
   "cell_type": "code",
   "execution_count": 20,
   "id": "fb85b88a",
   "metadata": {},
   "outputs": [],
   "source": [
    "trainer = SFTTrainer(\n",
    "    model = model,\n",
    "    train_dataset = dataset['train'],\n",
    "    dataset_text_field = \"stories\",\n",
    "    tokenizer = tokenizer,\n",
    "    args = training_params\n",
    ")"
   ]
  },
  {
   "cell_type": "markdown",
   "id": "3a4ec264",
   "metadata": {},
   "source": [
    "<!--this cell is in markdown to avoid actually training a model when building the book-->\n",
    "```python\n",
    "trainer.train()\n",
    "```"
   ]
  },
  {
   "cell_type": "markdown",
   "id": "d3cc7f50",
   "metadata": {},
   "source": [
    "What's happening in the training process? Basically the process includes three functions:\n",
    "- hypothesis function that makes a guess as to what word to generate following a given word\n",
    "- loss function that calculates the difference between the guess and the actual word\n",
    "- gradient descent that very slowly updates numbers as to minimize the loss"
   ]
  },
  {
   "cell_type": "markdown",
   "id": "8649823b",
   "metadata": {},
   "source": [
    "```python\n",
    "trainer.model.save_pretrained(\"models\")\n",
    "trainer.tokenizer.save_pretrained(\"models\")\n",
    "```"
   ]
  },
  {
   "cell_type": "markdown",
   "id": "a35f86dd",
   "metadata": {},
   "source": [
    "```python\n",
    "model = AutoModelForCausalLM.from_pretrained(\"./models\")\n",
    "tokenizer = AutoTokenizer.from_pretrained(\"./models\")\n",
    "```"
   ]
  },
  {
   "cell_type": "markdown",
   "id": "835dc367",
   "metadata": {},
   "source": [
    "```python\n",
    "pipe = pipeline('text-generation', model=model, tokenizer=tokenizer, max_length=50)\n",
    "```"
   ]
  },
  {
   "cell_type": "markdown",
   "id": "29c94cb4",
   "metadata": {},
   "source": [
    "```python\n",
    "pipe(\"There once was a little girl named Filipa and\")\n",
    "```"
   ]
  }
 ],
 "metadata": {
  "kernelspec": {
   "display_name": "Python 3 (ipykernel)",
   "language": "python",
   "name": "python3"
  },
  "language_info": {
   "codemirror_mode": {
    "name": "ipython",
    "version": 3
   },
   "file_extension": ".py",
   "mimetype": "text/x-python",
   "name": "python",
   "nbconvert_exporter": "python",
   "pygments_lexer": "ipython3",
   "version": "3.13.0"
  }
 },
 "nbformat": 4,
 "nbformat_minor": 5
}