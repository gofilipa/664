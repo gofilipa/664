{
 "cells": [
  {
   "cell_type": "code",
   "execution_count": 1,
   "id": "918c8474-609c-46ce-acfd-d7e3ce32af10",
   "metadata": {},
   "outputs": [],
   "source": [
    "import requests # http requests over the internet\n",
    "from bs4 import BeautifulSoup"
   ]
  },
  {
   "cell_type": "code",
   "execution_count": 2,
   "id": "2bb51c90-b620-471a-b58e-ff5a56c8a260",
   "metadata": {},
   "outputs": [],
   "source": [
    "site = requests.get('https://translegislation.com/bills/2024/US')\n",
    "html_source_code = site.content\n",
    "soup = BeautifulSoup(html_source_code, 'lxml')"
   ]
  },
  {
   "cell_type": "code",
   "execution_count": 3,
   "id": "4d6db45d-3add-42da-ad86-9c207d1d379f",
   "metadata": {},
   "outputs": [
    {
     "data": {
      "text/plain": [
       "<title>United States Bills | Anti-trans legislation</title>"
      ]
     },
     "execution_count": 3,
     "metadata": {},
     "output_type": "execute_result"
    }
   ],
   "source": [
    "soup.title"
   ]
  },
  {
   "cell_type": "code",
   "execution_count": 4,
   "id": "4546a58e-96a1-4153-97f7-e54cf5efc451",
   "metadata": {},
   "outputs": [
    {
     "data": {
      "text/plain": [
       "['chakra-heading', 'css-1vygpf9']"
      ]
     },
     "execution_count": 4,
     "metadata": {},
     "output_type": "execute_result"
    }
   ],
   "source": [
    "soup.h3['class']"
   ]
  },
  {
   "cell_type": "code",
   "execution_count": 5,
   "id": "1143d781-522c-43c5-8450-2afc24649fcb",
   "metadata": {},
   "outputs": [
    {
     "data": {
      "text/plain": [
       "'US HB1064'"
      ]
     },
     "execution_count": 5,
     "metadata": {},
     "output_type": "execute_result"
    }
   ],
   "source": [
    "soup.find('h3', class_='css-1vygpf9').text"
   ]
  },
  {
   "cell_type": "code",
   "execution_count": 6,
   "id": "7c514275-e570-434e-9c2a-cbd4cfc42847",
   "metadata": {},
   "outputs": [],
   "source": [
    "titles = soup.find_all('h3', class_='css-1vygpf9')"
   ]
  },
  {
   "cell_type": "code",
   "execution_count": 7,
   "id": "2fe3d098-e64c-4e94-bb2c-4e9f5d453000",
   "metadata": {},
   "outputs": [],
   "source": [
    "# for i in titles:\n",
    "#     print(i.text)"
   ]
  },
  {
   "cell_type": "code",
   "execution_count": 8,
   "id": "80083200-c967-433c-af0f-2875ac748c4b",
   "metadata": {},
   "outputs": [
    {
     "data": {
      "text/plain": [
       "'/bills/2024/US/HB1064'"
      ]
     },
     "execution_count": 8,
     "metadata": {},
     "output_type": "execute_result"
    }
   ],
   "source": [
    "soup.h3.a['href']"
   ]
  },
  {
   "cell_type": "code",
   "execution_count": 9,
   "id": "77be71fc-5eb5-486b-8736-7f1581ce484d",
   "metadata": {},
   "outputs": [],
   "source": [
    "extention = soup.h3.a['href']"
   ]
  },
  {
   "cell_type": "code",
   "execution_count": 10,
   "id": "0b32123e-607f-4e29-8d61-ca0b69ebcc43",
   "metadata": {},
   "outputs": [],
   "source": [
    "# f-strings\n",
    "\n",
    "url = 'https://translegislation.com'"
   ]
  },
  {
   "cell_type": "code",
   "execution_count": 11,
   "id": "fe09eb0e-2bff-42e6-bfa0-89ef5c0c031d",
   "metadata": {},
   "outputs": [
    {
     "data": {
      "text/plain": [
       "'https://translegislation.com/bills/2024/US/HB1064'"
      ]
     },
     "execution_count": 11,
     "metadata": {},
     "output_type": "execute_result"
    }
   ],
   "source": [
    "url + extention"
   ]
  },
  {
   "cell_type": "code",
   "execution_count": 12,
   "id": "9fbd3088-cfed-4828-a4c3-f4c78940cbb2",
   "metadata": {},
   "outputs": [],
   "source": [
    "### Goal: scrape each item from each bill card, save it to a CSV\n",
    "\n",
    "# 1. identify the HTML element that encompasses all the bill cards\n",
    "# 2. identify the specific elements within each bill card\n",
    "# 3. process our data into lists\n",
    "# 4. save our data as a csv file"
   ]
  },
  {
   "cell_type": "code",
   "execution_count": 13,
   "id": "8a7ae37a-0e8f-423f-bdbf-1f9866137638",
   "metadata": {},
   "outputs": [],
   "source": [
    "cards = soup.find('div', class_='css-1ftdpv0')"
   ]
  },
  {
   "cell_type": "code",
   "execution_count": 14,
   "id": "3c659727-485a-485f-8aca-f31308ce1967",
   "metadata": {},
   "outputs": [
    {
     "data": {
      "text/plain": [
       "'US HB1064MILITARYINTRODUCEDEnsuring Military Readiness Act of 2023To provide requirements related to the eligibility of transgender individuals from serving in the Armed Forces.Transgender persons who require or have undergone gender transition are disqualified from military service.View BillUS HB1112MILITARYINTRODUCEDEnsuring Military Readiness Act of 2023To provide requirements related to the eligibility of individuals who identify as transgender from serving in the Armed Forces.View BillUS HB1276HEALTHCAREINTRODUCEDProtect Minors from Medical Malpractice Act of 2023To protect children from medical malpractice in the form of gender transition procedures.A medical practitioner, in any circumstance described in subsection (c), who performs a gender-transition procedure on an individual who is less than 18 years of age shall, as described in subsection (b), be liable to the individual if injured (including any physical, psychological, emotional, or physiological harms) by such procedure, related treatment, or the after effects of the procedure or treatment.View BillUS HB1399HEALTHCAREINTRODUCEDProtect Children’s Innocence ActTo amend chapter 110 of title 18, United States Code, to prohibit gender affirming care on minors, and for other purposes.Whoever, in any circumstance described in subsection (e), knowingly performs any gender-affirming care on a minor is guilty of a class C felony.View BillUS HB1490INCARCERATIONINTRODUCEDPreventing Violence Against Female Inmates Act of 2023To secure the dignity and safety of incarcerated women.The Bureau of Prisons— shall not co-locate in detention facilities persons charged with or convicted of offenses [...] if those persons are not of the same biological sex.View BillUS HB1585EDUCATIONINTRODUCEDProhibiting Parental Secrecy Policies In Schools Act of 2023To require a State receiving funds pursuant to title II of the Elementary and Secondary Education Act of 1965 to implement a State policy to prohibit a school employee from conducting certain social gender transition interventions.prohibiting a school employee from (1) using pronouns for a minor that are inconsistent with the minor’s biological sex [...] without the consent of a custodial parent or legal guardian; (2) providing, promoting, referring to, or otherwise [...] promote changes to the minor‚ physical appearance so that it aligns with the opposite biological sex for the purpose of recognizing or promoting a self-professed identity that is incongruent with their biological sex, without the consent of a custodial parent or legal guardianView BillUS HB216EDUCATIONINTRODUCEDMy Child, My Choice Act of 2023To prohibit Federal education funds from being provided to elementary schools that do not require teachers to obtain written parental consent prior to teaching lessons specifically related to gender identity, sexual orientation, or transgender studies, and for other purposes.View BillUS HB3101OTHERINTRODUCEDTPA Act Traditional Passport ActTo prohibit the issuance of a passport with any gender designation other than \"male\" or \"female\", and for other purposes.The Secretary of State may not issue any passport that contains a gender designation other than \"male\" or \"female\", and may permit applicants for passports to select, between such designations, only the designation that matches the biological gender of the applicant.View BillUS HB3102OTHERINTRODUCEDTSA Act Traditional Screening Application ActTo prohibit the Transportation Security Administration from using the \"X\" gender designation in the TSA PreCheck advanced security program, and for other purposes.The Administrator of the Transportation Security Administration may not use the \"X\" gender designation in the TSA PreCheck advanced security program. The Administrator may permit applicants to and participants in such program to select from only \"Male\" or \"Female\".View BillUS HB3328HEALTHCAREINTRODUCEDProtecting Children From Experimentation Act of 2023To amend chapter 110 of title 18, United States Code, to prohibit gender transition procedures on minors, and for other purposes.Any physical or mental healthcare professional who knowingly performs or provides a referral for any gender transition procedure on a minor shall be fined under this title, imprisoned not more than 5 years, or both.View BillUS HB3329HEALTHCAREINTRODUCEDEnd Taxpayer Funding of Gender Experimentation Act of 2023To prohibit taxpayer-funded gender transition procedures, and for other purposes.No funds authorized or appropriated by Federal law, and none of the funds in any trust fund to which funds are authorized or appropriated by Federal law, shall be expended for any gender transition procedures [or...] for health benefits coverage that includes coverage of gender transition procedures.View BillUS HB3462EDUCATIONINTRODUCEDEmpower Parents to Protect Their Kids Act of 2023To require elementary schools and secondary schools that receive Federal funds to obtain parental consent before facilitating a child\\'s gender transition in any form, and for other purposes.Contrary to the unfounded assertions of activists, \"socially transitioning\" a child is not an evidence-based practice and it is not a neutral or uncontroversial decision. This practice is an experimental social and psychological intervention that has immediate effects on a child\\'s psychology and a high likelihood of changing the life path of a child. A \"social gender transition\" may make it more difficult  for a child to reverse course later on, thereby increasing the likelihood that the child will continue on to a \"medical transition\", resulting in life-changing, irreversible consequences. (4) Any policies that attempt to circumvent parental authority are a violation of parents\\' constitutionally protected rights to direct the care, custody, and upbringing of their children as recognized by the Supreme Court.View BillUS HB3887HEALTHCAREINTRODUCEDChildren’s Hospital GME Support Reauthorization Act of 2023To amend title III of the Public Health Service Act to reauthorize the program of payments to children\\'s hospitals that operate graduate medical education programs, and for other purposes.No payment may be made under this section to a children’s hospital for a fiscal year [...] if, at any point during the preceding fiscal year, such hospital furnished gender-affirming care [...] to an individual under 18 years of age.View BillUS HB429HEALTHCAREINTRODUCEDNo Tax Breaks for Radical Corporate Activism ActTo amend the Internal Revenue Code of 1986 to deny the trade or business expense deduction for the reimbursement of employee costs of child gender transition procedure or travel to obtain an abortion.No deduction shall be allowed under this chapter to an employer for any amount paid or incurred to reimburse an employee for, or to otherwise pay, expenses in connection with [...] any gender transition procedure for a minor child of the employee.View BillUS HB4365HEALTHCAREENGROSSEDDepartment of Defense Appropriations Act, 2024Making appropriations for the Department of Defense for the fiscal year ending September 30, 2024, and for other purposes.None of the funds made available by this Act may be used for surgical procedures or hormone therapies for the purposes of gender affirming care.View BillUS HB4367HEALTHCAREINTRODUCEDDepartment of Homeland Security Appropriations Act, 2024Making appropriations for the Department of Homeland Security for the fiscal year ending September 30, 2024, and for other purposes.None of the funds appropriated or otherwise made available by this Act may be made available to administer hormone therapy medication or perform or facilitate any surgery for any person in custody of U.S. Immigration and Customs Enforcement for the purpose of gender-affirming care.View BillUS HB4398OTHERINTRODUCEDPatriotism Not Pride ActTo prohibit certain Federal activity with respect to the promotion of Lesbian, Gay, Bisexual, Transgender, Queer, and Intersex Pride Month and the display of flags representing sexual orientation or gender identity on Federal property or grounds, and for other purposes.No Federal funds may be used by an agency to develop, organize, administer, engage in, promote, or endorse any activity, including any event, initiative, official communication, social media post, educational program, or public campaign, that aims to promote or recognize Lesbian, Gay, Bisexual, Transgender, Queer, and Intersex Pride Month or any event with a similar theme.View BillUS HB4665HEALTHCAREENGROSSEDDepartment of State, Foreign Operations, and Related Programs Appropriations Act, 2024Making appropriations for the Department of State, foreign operations, and related programs for the fiscal year ending September 30, 2024, and for other purposes.None of the funds made available by this Act or any other Act shall be used or transferred to another Federal Agency, board, or commission to fund any domestic or international non-governmental organization or any other program, organization, or association coordinated or operated by such non-governmental organization that either offers counseling regarding sex change surgeries, promotes sex change surgeries for any reason as an option, conducts or subsidizes sex change surgeries, promotes the use of medications or other substances to halt the onset of puberty or sexual development of minors, or otherwise promotes transgenderism.View BillUS HB4821OTHERENGROSSEDDepartment of the Interior, Environment, and Related Agencies Appropriations Act, 2024Making appropriations for the Department of the Interior, environment, and related agencies for the fiscal year ending September 30, 2024, and for other purposes.SEC. 454. None of the funds appropriated or otherwise made available by this Act may be made available to implement, administer, apply, enforce, or carry out Executive Order No. 13985 of January 20, 2021 (86 Fed. Reg. 7009, relating to advancing racial equity and support for underserved communities through the Federal Government), Executive Order No. 14035 of June 25, 2021 (86 Fed. Reg. 34593, relating to diversity, equity, inclusion, and accessibility in the Federal workforce), or Executive Order No. 14091 of February 16, 2023 (88 Fed. Reg. 10825, relating to further advancing racial equity and support for underserved communities through the Federal Government).View BillUS HB5EDUCATIONENGROSSEDParents Bill of Rights ActTo ensure the rights of parents are honored and protected in the Nation\\'s public schools.View BillUS HB5327EDUCATIONINTRODUCEDEmpowering Parents ActTo establish a private right of action for parents with respect to the teaching of racial discrimination theory and other actions by covered schools, and for other purposes.A covered school shall not [...] intentionally expose a student to radical gender theory; A covered school shall not [...] require a biological woman and a biological man to share a private facility; [shall prohibit] instruct or require an employee of such school to refer to a student using a pronoun not as associated with the biological sex of such student, without obtaining consent to do so from a parent of such student.View BillUS HB5636HEALTHCAREINTRODUCEDProtect Children’s Innocence ActTo amend chapter 110 of title 18, United States Code, to prohibit gender affirming care on minors.Whoever [...] knowingly performs any gender affirming care on a minor is guilty of a class C felony.View BillUS HB5893CIVIL RIGHTSINTRODUCEDCommerce, Justice, Science, and Related Agencies Appropriations Act, 2024Making appropriations for the Departments of Commerce and Justice, Science, and Related Agencies for the fiscal year ending September 30, 2024, and for other purposes.SEC. 581. None of the funds made available by this Act may be used to sue any State or local government over any law relating to transgender issues, or to intervene or file an amicus brief in such a case.View BillUS HB5894HEALTHCAREINTRODUCEDDepartment of Education Appropriations Act, 2024 Department of Health and Human Services Appropriations Act, 2024 Department of Labor Appropriations Act, 2024Making appropriations for the Departments of Labor, Health and Human Services, and Education, and related agencies for the fiscal year ending September 30, 2024, and for other purposes.None of the funds in this Act may be used to implement, administer, or enforce Executive Order 13988, entitled ‘Preventing and Combating Discrimination on the Basis of Gender Identity or Sexual Orientation,’ published by the Executive Office of the President on January 25, 2021 (86 Fed. Reg. 7023).View BillUS HB6040HEALTHCAREINTRODUCEDProtecting Our Kids from Harmful Research ActTo prohibit the use of Federal funds for gender transition in minors.No Federal funds may be used to fund research or publications relating to gender transition in individuals under the age of 18, including any observational studies that gather evidence on the provision of hormonal treatments or surgical procedures on minors, for the purpose of— (1) affirming a minor’s perception of his or her sex, if that perception is incongruent with such minor’s sex; or (2) affirming a minor’s asserted identity, if the asserted identity is incongruent with such minor’s sex.View BillUS HB6258HEALTHCAREINTRODUCEDGUARD Act Guaranteeing Unalienable and Anatomical Rights for Dependents ActTo amend the Child Abuse Prevention and Treatment Act to disqualify any State that discriminates against parents or guardians who oppose medical, surgical, pharmacological, psychological treatment, or clothing and social changes related to affirming the subjective claims of gender identity expressed by any minor if such claimed identity is inconsistent with such minor\\'s biological sex from receiving funding under such Act.No State may receive funding under this Act if such State takes any adverse action or otherwise discriminates against parents, guardians, or legal representatives who oppose medical, surgical, pharmacological, psychological treatment, or other medical intervention, or clothing, name or pronoun use, or other social changes or practices related to transitioning to or affirming the claims or expressions of gender identity of any minor under the charge, care, or supervision of the parent, guardian, or legal representative, if such gender identity is inconsistent, in such parent’s, guardian’s, or legal representative’s estimation, with such minor’s biological sex, as determined definitively at or before birth, regardless of any medical diagnosis or indication of gender dysphoria, body dysphoria, dissociative identity disorder, or social anxiety disorder.View BillUS HB6658OTHERINTRODUCEDSAFE Home Act Sensible Adoption For Every Home ActTo prohibit entities receiving Federal assistance that are involved in adoption or foster care placements from delaying or denying placements under certain conditions.Prohibits any entity that receives Federal assistance and is involved in adoption or foster care placements from delaying or denying the placement of a minor child for adoption or into foster care, or otherwise discriminating in making a placement decision with a prospective or actual adoptive or foster parent, for any of the following reasons:View BillUS HB6728SPORTSINTRODUCEDSave Women’s Sports Act of 2023To require public school, and public institution of higher education, athletic teams and clubs to be designated for membership based on biological sex, and for other purposes.An intercollegiate, intramural, or club athletic team or sport that is sponsored by a public school, or a public institution of higher education, or that is a competing team or sport sponsored by a non-public school or institution, and that receives Federal financial assistance, shall be expressly designated as, and composed of students of, only 1 of the following  categories of team or club members based on biological sex at birth: (1) Males.  (2) Females. (3) Coed members described in paragraphs (1) and (2). [...] REQUIREMENT. The membership of athletic  teams or sports designated only for females shall only be open to biological females at birth.View BillUS HB7183HEALTHCAREINTRODUCEDPROTECTS Act of 2024 Protecting Resources Of Taxpayers to Eliminate Childhood Transgender Surgeries Act of 2024To prohibit Federal funds from being used to provide certain gender transition procedures to minors.PROHIBITING FEDERAL FUNDS FROM BEING USED TO PROVIDE CERTAIN GENDER TRANSITION PROCEDURES TO MINORS.View BillUS HB7187SPORTSINTRODUCEDProtection of Women in Olympic and Amateur Sports ActTo modify eligibility requirements for amateur sports governing organizations.To modify eligibility requirements for amateur sports governing organizations.View BillUS HB734SPORTSENGROSSEDProtection of Women and Girls in Sports Act of 2023To amend the Education Amendments of 1972 to provide that for purposes of determining compliance with title IX of such Act in athletics, sex shall be recognized based solely on a person\\'s reproductive biology and genetics at birth.View BillUS HB736EDUCATIONINTRODUCEDPROTECT Kids Act Parental Rights Over The Education and Care of Their Kids ActTo require elementary and middle schools that receive Federal funds to obtain parental consent before changing a minor child\\'s gender markers, pronouns, or preferred name on any school form or allowing a child to change the child\\'s sex-based accommodations, including locker rooms or bathrooms.View BillUS HB7725EDUCATIONINTRODUCEDTo amend the Higher Education Act of 1965 to prohibit graduate medical schools from receiving Federal financial assistance if such schools adopt certain policies and requirements relating to diversity, equity, and inclusion.No graduate medical school at an institution of higher education shall be eligible to receive funds or any other form of financial assistance under any Federal program, including participation in any federally funded or guaranteed student loan program, unless the institution certifies to the Secretary that the institution does not, and will not, do any of the following: [...] (4) Establish, maintain, or contract with a diversity, equity, and inclusion office, or any other functional equivalent of such an office, to serve the medical school. (5) Require or incentivize an individual to complete a diversity statement professing or adhering to diversity, equity, and inclusion as a condition of, or benefit in, admission or employment at such school.View BillUS HB8070HEALTHCAREENGROSSEDServicemember Quality of Life Improvement and National Defense Authorization Act for Fiscal Year 2025To authorize appropriations for fiscal year 2025 for military activities of the Department of Defense, for military construction, and for defense activities of the Department of Energy, to prescribe military personnel strengths for such fiscal year, and for other purposes.PROHIBITION ON [...] RADICAL GENDER IDEOLOGY. —None of the funds authorized to be appropriated by this Act or otherwise mad available for fiscal year 2025 or any fiscal year thereafter for the Department of Defense Education Activity may be obligated or expended to purchase, maintain, or display in a school library or classroom— [...] (2) any material that espouses, advocates, or promotes radical gender ideology.View BillUS HB8433EDUCATIONINTRODUCEDAbolishing Woke Awards for Research and Development Act of 2024To amend the Public Health Service Act to require the National Institutes of Health to select awardees based on merit, and for other purposes.The National Institutes of Health (including any officer thereof)— [...] (2) shall not mandate the use of diversity statements or any other diversity, equity, and inclusion material or documentation as a qualification for, or condition of receipt of, an award.View BillUS HB8580HEALTHCAREENGROSSEDMilitary Construction, Veterans Affairs, and Related Agencies Appropriations Act, 2025Making appropriations for military construction, the Department of Veterans Affairs, and related agencies for the fiscal year ending September 30, 2025, and for other purposes.None of the funds made available by this Act may be used for surgical procedures or hormone therapies for the purposes of gender affirming care.View BillUS HB8708EDUCATIONINTRODUCEDEliminate DEI in Colleges ActTo prohibit Federal funding for institutions of higher education that carry out diversity, equity, and inclusion initiatives, and for other purposes.View BillUS HB8752HEALTHCAREINTRODUCEDDepartment of Homeland Security Appropriations Act, 2025Making appropriations for the Department of Homeland Security for the fiscal year ending September 30, 2025, and for other purposes.None of the funds appropriated or otherwise made available by this Act may be made available to administer hormone therapy medication or perform or facilitate any surgery for any person in custody of U.S. Immigration and Customs Enforcement for the purpose of gender-affirming care.View BillUS HB8771HEALTHCAREENGROSSEDDepartment of State, Foreign Operations, and Related Programs Appropriations Act, 2025Making appropriations for the Department of State, foreign operations, and related programs for the fiscal year ending September 30, 2025, and for other purposes.None of the funds made available by this Act or any other Act shall be used or transferred to another Federal Agency, board, or commission to fund any domestic or international non-governmental organization or any other program, organization, or association coordinated or operated by such non-governmental organization that either offers counseling regarding sex change surgeries, promotes sex change surgeries for any reason as an option, conducts or subsidizes sex change surgeries, promotes the use of medications or other substances to halt the onset of puberty or sexual development of minors, or otherwise promotes transgenderism.View BillUS HB8774HEALTHCAREENGROSSEDDepartment of Defense Appropriations Act, 2025Making appropriations for the Department of Defense for the fiscal year ending September 30, 2025, and for other purposes.None of the funds appropriated or otherwise made available by this Act may be used, with regards to a member of the Armed Forces with a minor dependent child enrolled in an Exceptional Family Member Program (EFMP)— (1) to provide gender transition procedures, including surgery or medication, to such child through such EFMP; (2) to provide a referral for a procedure described in paragraph (1) to such child through such EFMP; or (3) to approve a change of duty station for such member through such EFMP for the purpose of providing such child with access to procedures described in paragraph (1).View BillUS HB8997MARRIAGEINTRODUCEDEnergy and Water Development and Related Agencies Appropriations Act, 2025Making appropriations for energy and water development and related agencies for the fiscal year ending September 30, 2025, and for other purposes.None of the funds provided by this Act, or previous appropriations Acts, shall be used in whole or in part to take any discriminatory action against a person, wholly or partially, on the basis that such person speaks, or acts, in accordance with a sincerely held religious belief, or moral conviction, that marriage is, or should be recognized as, a union of one man and one woman.View BillUS HB8998MARRIAGEENGROSSEDDepartment of the Interior, Environment, and Related Agencies Appropriations Act, 2025Making appropriations for the Department of the Interior, environment, and related agencies for the fiscal year ending September 30, 2025, and for other purposes.None of the funds provided by this Act, or previous appropriations Acts, shall be used in whole or in part to take any discriminatory action against a person, wholly or partially, on the basis that such person speaks, or acts, in accordance with a sincerely held religious belief, or moral conviction, that marriage is, or should be recognized as, a union of one man and one woman.View BillUS HB9026HEALTHCAREINTRODUCEDScience Appropriations Act, 2025 Department of Justice Appropriations Act, 2025 Department of Commerce Appropriations Act, 2025Making appropriations for the Departments of Commerce and Justice, Science, and Related Agencies for the fiscal year ending September 30, 2025, and for other purposes.SEC. 565. None of the funds made available by this or any other Act may be used to investigate, litigate, or advocate against any person or recipient, as currently defined at section 106.2 of title 34, Code of Federal Regulations, for defining ‘‘sex’’ as currently used in, inter alia, section 1681 of title 20, United States Code, and sections 106.21, 22, 23, 30, 31, 32, 33, 34, 35, 37, 39, 40, 41, 44, and 45 of title 34, Code of Federal Regulations, to mean biological sex, male or female, as determined by the type of gamete an individual produces; and for defining \"boys and girls\" to mean only biological boys, whose DNA consists of one X sex chromosome and one Y sex chromosome, and biological girls, whose DNA consists of two X sex chromosomes.View BillUS HB9027MARRIAGEINTRODUCEDAgriculture, Rural Development, Food and Drug Administration, and Related Agencies Appropriations Act, 2025Making appropriations for Agriculture, Rural Development, Food and Drug Administration, and Related Agencies programs for the fiscal year ending September 30, 2025, and for other purposes.None of the funds provided by this Act, or previous appropriations Acts, shall be used in whole or in part to take any discriminatory action against a person, wholly or partially, on the basis that such person speaks, or acts, in accordance with a sincerely held religious belief, or moral conviction, that marriage is, or should be recognized as, a union of one man and one woman.View BillUS HB9028MARRIAGEINTRODUCEDDepartment of Transportation Appropriations Act, 2025 Department of Housing and Urban Development Appropriations Act, 2025Making appropriations for the Departments of Transportation, and Housing and Urban Development, and related agencies for the fiscal year ending September 30, 2025, and for other purposes.None of the funds provided by this Act, or previous appropriations Acts, shall be used in whole or in part to take any discriminatory action against a person, wholly or partially, on the basis that such person speaks, or acts, in accordance with a sincerely held religious belief, or moral conviction, that marriage is, or should be recognized as, a union of one man and one woman.View BillUS HB9029HEALTHCAREINTRODUCEDDepartment of Education Appropriations Act, 2025 Department of Health and Human Services Appropriations Act, 2025 Department of Labor Appropriations Act, 2025Making appropriations for the Departments of Labor, Health and Human Services, and Education, and related agencies for the fiscal year ending September 30, 2025, and for other purposes.None of the funds made available by this Act may be used to implement, administer, or enforce Executive Order 13988, entitled \"Preventing and Combating Discrimination on the Basis of Gender Identity or Sexual Orientation,\" published by the Executive Office of the President on January 25, 2021 (86 Fed. Reg. 7023). SEC. 247.View BillUS HB9218CIVIL RIGHTSINTRODUCEDDefining Male and Female Act of 2024To establish a clear and consistent biological definition of male and female.View BillUS HB9586HEALTHCAREINTRODUCEDTo prohibit Federal funds from being used to provide certain gender transition procedures to individuals in the custody of the Department of Homeland Security and the Department of Health and Human Services.PROHIBITING FEDERAL FUNDS FROM BEING USED TO PROVIDE CERTAIN GENDER TRANSITION PROCEDURES. [...] no Federal funds may be used or otherwise made available to provide or refer for a specified gender transition procedure to an individual in the custody of the Department of Homeland Security or the Department of Health and Human Services or to reimburse any entity for providing such a procedure to such an individual.View BillUS HB985OTHERINTRODUCEDProductivity Over Pronouns ActTo prohibit the use of Federal funds in any program, project, or activity of any agency in the Executive Branch to provide principles, resources, or specific suggestions for gender neutral or inclusive language or inclusive communication principles to help inform an inclusive approach to carrying out any such program, project, and activity.Amounts may not be appropriated for use in any program, project, or activity of any agency, and funds made available [...] to provide principles, resources, or specific suggestions for gender neutral or inclusive language or inclusive communication principles to help inform an inclusive approach to carrying out any such program, project, and activity.View BillUS HJR160HEALTHCAREINTRODUCEDProviding for congressional disapproval under chapter 8 of title 5, United States Code, of the rule submitted by the Department of Health and Human Services relating to \"Nondiscrimination in Health Programs and Activities\".Resolved by the Senate and House of Representatives of the United States of America in Congress assembled, That Congress disapproves the rule submitted by the Department of Health and Human Services relating to \"Nondiscrimination in Health Programs and Activities\" (89 Fed. Reg. 37522 (May 6, 2024)), and such rule shall have no force or effect.View BillUS HJR165EDUCATIONENGROSSEDProviding for congressional disapproval under chapter 8 of title 5, United States Code, of the rule submitted by the Department of Education relating to \"Nondiscrimination on the Basis of Sex in Education Programs or Activities Receiving Federal Financial Assistance\".That Congress disapproves the rule submitted by the Department of Education relating to \"Nondiscrimination on the Basis of Sex in Education Programs or Activities Receiving Federal Financial Assistance\" (89 Fed. Reg. 33474; published April 29, 2024), and such rule shall have no force or effect.View BillUS HR115CIVIL RIGHTSINTRODUCEDEstablishing a Women\\'s Bill of Rights to reaffirm legal protections afforded to women under Federal law.View BillUS HR1223SPORTSINTRODUCEDDesignating October, 10, 2024, as \"American Girls in Sports Day\".Whereas October 10th, as represented by the Roman numerals \"XX\", signifies the female XX chromosomes: Now, therefore, be it Resolved, That the Senate—  (1) recognizes October 10, 2024, as \"American 2 Girls in Sports Day\" [...] calls on sports-governing bodies in the United States and abroad to protect biological women and girls in sports.View BillUS HR282EDUCATIONINTRODUCEDExpressing that compelled political litmus tests used by public institutions to require individuals to identify with specific ideological views are directly at odds with the principles of academic freedom and free speech and in violation of the First Amendment of the Constitution.That the House of Representatives condemns public institutions of higher education for conditioning admission to any student applicant, or the hiring, reappointment, or promotion of any faculty member, on the applicant or faculty member [...] making a pledge or statement regarding diversity, equity, and inclusion, or related topicsView BillUS HR298SPORTSINTRODUCEDProviding for consideration of the bill (H.R. 734) to amend the Education Amendments of 1972 to provide that for purposes of determining compliance with title IX of such Act in athletics, sex shall be recognized based solely on a person\\'s reproductive biology and genetics at birth, and providing for consideration of the joint resolution (H.J. Res. 42) disapproving the action of the District of Columbia Council in approving the Comprehensive Policing and Justice Reform Amendment Act of 2022.Providing for consideration of the bill (H.R. 734) to amend the Education Amendments of 1972 to provide that for purposes of determining compliance with title IX of such Act in athletics, sex shall be recognized based solely on a person’s reproductive biology and genetics at birthView BillUS HR518EDUCATIONINTRODUCEDPushing back against the labeling of attempts by parents to ensure school curriculum and sports are age and sex appropriate as extreme.Pushing back against the labeling of attempts by parents to ensure school curriculum and sports are age and sex appropriate as extreme. Whereas all students should feel welcome in their classroom, but radical far-left ideas inappropriate for minors should not; Whereas it is not extreme or hateful to believe children as young as 6 should not be subject to discussion about sexual orientation or gender ideology in the classroom; Whereas it is not extreme or hateful to believe biological men should not compete against biological women in sports;View BillUS HR536SPORTSINTRODUCEDSupporting the designation of the week including June 23, 2023, as \"National Women\\'s Sports Week\" to celebrate the anniversary of the passage of title IX and the growth of women\\'s sports.Whereas title IX’s purpose and benefit are negated for women whenever men claiming to be women are granted access to female sports;View BillUS HR769CIVIL RIGHTSINTRODUCEDExpressing support for the designation of October 10, 2023, as \"Real Women\\'s Day\".Whereas October 10th is symbolized by the Roman numerals \"XX\": Now, therefore, be it Resolved, That the House of Representatives— (1) opposes forcing biological women and girls to compete against biological boys and men in girls\\' and women\\'s sports; (2) opposes the weakening of Title IX protections; and (3) supports the designation of a \"Real Women\\'s Day\".View BillUS SB1595HEALTHCAREINTRODUCEDEnd Taxpayer Funding of Gender Experimentation Act of 2023A bill to prohibit taxpayer-funded gender transition procedures, and for other purposes.No funds authorized or appropriated by Federal law, and none of the funds in any trust fund to which funds are authorized or appropriated by Federal law, shall be expended for any gender transition procedures [or...] for health benefits coverage that includes coverage of gender transition procedures.View BillUS SB1597HEALTHCAREINTRODUCEDProtecting Children From Experimentation Act of 2023A bill to amend chapter 110 of title 18, United States Code, to prohibit gender transition procedures on minors, and for other purposes.Any physical or mental healthcare professional who knowingly performs or provides a referral for any gender transition procedure on a minor shall be fined under this title, imprisoned not more than 5 years, or both.View BillUS SB1709EDUCATIONINTRODUCEDEmpower Parents to Protect Their Kids Act of 2023A bill to require elementary schools and secondary schools that receive Federal funds to obtain parental consent before facilitating a child\\'s gender transition in any form, and for other purposes.Contrary to the unfounded assertions of activists, \"socially transitioning\" a child is not an evidence-based practice and it is not a neutral or uncontroversial decision. This practice is an experimental social and psychological intervention that has immediate effects on a child\\'s psychology and a high likelihood of changing the life path of a child. A \"social gender transition\" may make it more difficult  for a child to reverse course later on, thereby increasing the likelihood that the child will continue on to a \"medical transition\", resulting in life-changing, irreversible consequences. (4) Any policies that attempt to circumvent parental authority are a violation of parents\\' constitutionally protected rights to direct the care, custody, and upbringing of their children as recognized by the Supreme Court.View BillUS SB187HEALTHCAREINTRODUCEDNo Tax Breaks for Radical Corporate Activism Act of 2023A bill to amend the Internal Revenue Code of 1986 to deny the trade or business expense deduction for the reimbursement of employee costs of child gender transition procedure or travel to obtain an abortion.No deduction shall be allowed under this chapter to an employer for any amount paid or incurred to reimburse an employee for, or to otherwise pay, expenses in connection with [...] any gender transition procedure for a minor child of the employee.View BillUS SB200EDUCATIONINTRODUCEDPROTECT Kids Act Parental Rights Over The Education and Care of Their Kids ActA bill to require elementary and middle schools that receive Federal funds to obtain parental consent before changing a minor child\\'s gender markers, pronouns, or preferred name on any school form or allowing a child to change the child\\'s sex-based accommodations, including locker rooms or bathrooms.View BillUS SB2357HEALTHCAREINTRODUCEDProtect Children’s Innocence ActA bill to amend chapter 110 of title 18, United States Code, to prohibit gender-affirming care on minors, and for other purposes.Whoever, in any circumstance described in subsection (e), knowingly performs any gender-affirming care on a minor is guilty of a class C felony.View BillUS SB2394HEALTHCAREINTRODUCEDGUARD Act Guaranteeing Unalienable and Anatomical Rights for DependentsA bill to amend the Child Abuse Prevention and Treatment Act to disqualify any State that discriminates against parents or guardians who oppose medical, surgical, pharmacological, psychological treatment, or clothing and social changes related to affirming the subjective claims of gender identity expressed by any minor if such claimed identity is inconsistent with such minor\\'s biological sex from receiving funding under such Act.No State may receive funding under this Act if such State takes any adverse action or otherwise discriminates against parents, guardians, or legal representatives who oppose medical, surgical, pharmacological, psychological treatment, or other medical intervention, or clothing, name or pronoun use, or other social changes or practices related to transitioning to or affirming the claims or expressions of gender identity of any minor under the charge, care, or supervision of the parent, guardian, or legal representative, if such gender identity is inconsistent, in such parent’s, guardian’s, or legal representative’s estimation, with such minor’s biological sex, as determined definitively at or before birth, regardless of any medical diagnosis or indication of gender dysphoria, body dysphoria, dissociative identity disorder, or social anxiety disorder.View BillUS SB2797HEALTHCAREINTRODUCEDProtecting Conscience in Our Health Care ActA bill to ensure religious freedom and rights of conscience for health care workers and other government employees, and to protect health care workers and other government employees from various forms of compelled speech.No Federal or State government or agency, or covered entity shall: (1) require an employee to participate in a seminar, workshop, training, or other educational or professional activity, or in using a curriculum, that advocates for the idea that an individual can have an identity that is incongruent with their sex; (2) require an employee to attend or participate in an event or activity affirming, celebrating, or supporting an identity that is incongruent with an individual\\'s sex; [...] (6) require an employee to affirm and use preferred pronouns of another, including a medical patient, without regard for whether those pronouns conflict with the employee\\'s religious or moral beliefs, or the employee\\'s understanding of the relationship between sex and identity; (7) require an employee to share the employee\\'s preferred pronouns upon meeting or interacting with another individual or patient.View BillUS SB3035HEALTHCAREINTRODUCEDProtecting Our Kids from Harmful Research ActA bill to prohibit the use of Federal funds for gender transition in minors.No Federal funds may be used to fund research or publications relating to gender transition in individuals under the age of 18, including any observational studies that gather evidence on the provision of hormonal treatments or surgical procedures on minors, for the purpose of— (1) affirming a minor’s perception of his or her sex, if that perception is incongruent with such minor’s sex; or (2) affirming a minor’s asserted identity, if the asserted identity is incongruent with such minor’s sex.View BillUS SB3438OTHERINTRODUCEDSAFE Home Act Sensible Adoption For Every Home ActA bill to prohibit entities receiving Federal assistance that are involved in adoption or foster care placements from delaying or denying placements under certain conditions.Prohibits any entity that receives Federal assistance and is involved in adoption or foster care placements from delaying or denying the placement of a minor child for adoption or into foster care, or otherwise discriminating in making a placement decision with a prospective or actual adoptive or foster parent, for any of the following reasons:View BillUS SB3729SPORTSINTRODUCEDProtection of Women in Olympic and Amateur Sports ActA bill to modify eligibility requirements for amateur sports governing organizations.To modify eligibility requirements for amateur sports governing organizations.View BillUS SB435MILITARYINTRODUCEDEnsuring Military Readiness Act of 2023A bill to provide requirements related to the eligibility of individuals who identify as transgender from serving in the Armed Forces.View BillUS SB457HEALTHCAREINTRODUCEDProtecting Our Kids from Child Abuse ActA bill to establish a Federal tort against pediatric gender clinics and other entities pushing gender-transition procedures that cause bodily injury to children or harm the mental health of children.The following individuals and entities shall be liable in accordance with this section to any individual who suffers bodily injury or harm to mental health (including any physical, psychological, emotional, or physiological harm) that is attributable, in whole or in part, to a gender-transition procedure performed on the individual when the individual was a minor: (1) A pediatric gender clinic where the gender18 transition procedure was provided. (2) Any medical practitioner who administered health care, at the time of the particular procedure, at the pediatric gender clinic where the gender-transition procedure was provided. (3) An institution of higher education that hosts, operates, partners with, provides funding to, or is otherwise affiliated with the pediatric gender clinic where the gender-transition procedure was provided. (4) A hospital that hosts, operates, partners with, provides funding to, or is otherwise affiliated with the pediatric gender clinic where the gender6 transition procedure was provided. (5) Any medical practitioner who performed the gender-transition procedure on the individual.View BillUS SB4638HEALTHCAREINTRODUCEDMilitary Construction Authorization Act for Fiscal Year 2025A bill to authorize appropriations for fiscal year 2025 for military activities of the Department of Defense, for military construction, and for defense activities of the Department of Energy, to prescribe military personnel strengths for such fiscal year, and for other purposes.PROHIBITION OF COVERAGE UNDER TRICARE PROGRAM OF CERTAIN MEDICAL PROCEDURES FOR CHILDREN THAT COULD RESULT IN STERILIZATION. Section 1079(a) of title 10, United States Code, is amended by adding at the end the following new paragraph: \"(20) Affirming hormone therapy, puberty blockers, and other medical interventions for the treatment of gender dysphoria that could result in sterilization may not be provided to a child under the age of 18.\"View BillUS SB613SPORTSINTRODUCEDProtection of Women and Girls in Sports Act of 2023A bill to provide that for purposes of determining compliance with title IX of the Education Amendments of 1972 in athletics, sex shall be recognized based solely on a person\\'s reproductive biology and genetics at birth.It shall be a violation of subsection (a) for a recipient of Federal funds who operates, sponsors, or facilitates athletic programs or activities to permit a person whose sex is male to participate in an athletic program or activity that is designated for women or girls. For purposes of this subsection, sex shall be recognized based solely on a person’s reproductive biology and genetics at birth.View BillUS SB635HEALTHCAREINTRODUCEDProtecting Minors from Medical Malpractice Act of 2023A bill to protect children from medical malpractice in the form of gender transition procedures.A medical practitioner, in any circumstance described in subsection (c), who performs a gender-transition procedure on an individual who is less than 18 years of age shall, as described in subsection (b), be liable to the individual if injured (including any physical, psychological, emotional, or physiological harms) by such procedure, related treatment, or the aftereffects of the procedure or treatment.View BillUS SB752INCARCERATIONINTRODUCEDPreventing Violence Against Female Inmates Act of 2023A bill to secure the dignity and safety of incarcerated women.The Bureau of Prisons‚ (A) shall use the biological sex of persons charged with or convicted of offenses against the United States in making determinations regarding housing such persons; and [...] shall not co-locate in detention facilities persons charged with or convicted of offenses against the United States if those persons are not of the same biological sex.View BillUS SJR90HEALTHCAREINTRODUCEDA joint resolution providing for congressional disapproval under chapter 8 of title 5, United States Code, of the rule submitted by the Department of Health and Human Services relating to \"Nondiscrimination in Health Programs and Activities\".Resolved by the Senate and House of Representatives of the United States of America in Congress assembled, That Congress disapproves the rule submitted by the Department of Health and Human Services relating to \"Nondiscrimination in Health Programs and Activities\" (89 Fed. Reg. 37522 (May 6, 2024)), and such rule shall have no force or effect.View BillUS SJR96EDUCATIONINTRODUCEDA joint resolution providing for congressional disapproval under chapter 8 of title 5, United States Code, of the rule submitted by the Department of Education relating to \"Nondiscrimination on the Basis of Sex in Education Programs or Activities Receiving Federal Financial Assistance\".Resolved by the Senate and House of Representatives of the United States of America in Congress assembled That Congress disapproves the rule submitted by the Department of Education relating to \"Nondiscrimination on the Basis of Sex in Education Programs or Activities Receiving Federal Financial Assistance\" (89 Fed. Reg. 33474 (April 29, 2024)), and such rule shall have no force or effect.View BillUS SR267SPORTSINTRODUCEDA resolution supporting the designation of the week of June 18 through June 24, 2023, as \"National Women\\'s Sports Week\" to celebrate the anniversary of the enactment of title IX of the Education Amendments of 1972 and the growth of women\\'s sports.Whereas the purposes and benefits of title IX are negated for women whenever men claiming to be women are granted access to female sports;View BillUS SR53CIVIL RIGHTSINTRODUCEDA resolution establishing a Women\\'s Bill of Rights to reaffirm legal protections afforded to women under Federal law.View BillUS SR669SPORTSINTRODUCEDA resolution designating October 10, 2024, as \"American Girls in Sports Day\".Whereas October 10th, as represented by the Roman numerals \"XX\", signifies the female XX chromosomes: Now, therefore, be it Resolved, That the Senate—  (1) recognizes October 10, 2024, as \"American 2 Girls in Sports Day\" [...] calls on sports-governing bodies in the United States and abroad to protect biological women and girls in sports.View Bill'"
      ]
     },
     "execution_count": 14,
     "metadata": {},
     "output_type": "execute_result"
    }
   ],
   "source": [
    "cards.text"
   ]
  },
  {
   "cell_type": "code",
   "execution_count": 15,
   "id": "6f90ebf2-d73d-4905-93d6-75fdaf606f5a",
   "metadata": {},
   "outputs": [
    {
     "data": {
      "text/plain": [
       "bs4.element.Tag"
      ]
     },
     "execution_count": 15,
     "metadata": {},
     "output_type": "execute_result"
    }
   ],
   "source": [
    "type(cards)"
   ]
  },
  {
   "cell_type": "code",
   "execution_count": 16,
   "id": "996091a6-2790-40df-8d0b-9db700fb8cc2",
   "metadata": {},
   "outputs": [],
   "source": [
    "# grabbing all of the cards individually using \"find_all()\"\n",
    "cards = soup.find_all('div', class_ = 'css-4rck61')"
   ]
  },
  {
   "cell_type": "code",
   "execution_count": 17,
   "id": "f61bcac7-b9c5-4b01-8340-44901dcd6559",
   "metadata": {},
   "outputs": [],
   "source": [
    "titles = []\n",
    "categories = []\n",
    "captions = []\n",
    "descriptions = []\n",
    "links = []\n",
    "\n",
    "for card in cards:\n",
    "    title = card.h3.text # print the title\n",
    "    category = card.span.text # category\n",
    "    caption = card.h2.text # caption\n",
    "    if card.p: # description\n",
    "        description = card.p.text\n",
    "    else:\n",
    "        description = 'N/a'\n",
    "    link = f\"https://translegislation.com{card.a['href']}\"\n",
    "\n",
    "    titles.append(title)\n",
    "    categories.append(category)\n",
    "    captions.append(caption)\n",
    "    descriptions.append(description)\n",
    "    links.append(link)"
   ]
  },
  {
   "cell_type": "code",
   "execution_count": 18,
   "id": "c1d9acfc-9570-4ab1-a3bd-8e494a699c43",
   "metadata": {},
   "outputs": [],
   "source": [
    "import pandas as pd"
   ]
  },
  {
   "cell_type": "code",
   "execution_count": 19,
   "id": "ecafa388-6345-4be2-ab0d-7614f48d551e",
   "metadata": {},
   "outputs": [],
   "source": [
    "df = pd.DataFrame({\n",
    "    'title': titles,\n",
    "    'category': categories,\n",
    "    'caption': captions,\n",
    "    'description': descriptions,\n",
    "    'link': links\n",
    "})"
   ]
  },
  {
   "cell_type": "code",
   "execution_count": 20,
   "id": "429f0af6-3123-4379-95dc-7a3d4e944a5b",
   "metadata": {},
   "outputs": [
    {
     "name": "stdout",
     "output_type": "stream",
     "text": [
      "<class 'pandas.core.frame.DataFrame'>\n",
      "RangeIndex: 80 entries, 0 to 79\n",
      "Data columns (total 5 columns):\n",
      " #   Column       Non-Null Count  Dtype \n",
      "---  ------       --------------  ----- \n",
      " 0   title        80 non-null     object\n",
      " 1   category     80 non-null     object\n",
      " 2   caption      80 non-null     object\n",
      " 3   description  80 non-null     object\n",
      " 4   link         80 non-null     object\n",
      "dtypes: object(5)\n",
      "memory usage: 3.3+ KB\n"
     ]
    }
   ],
   "source": [
    "df.info()"
   ]
  },
  {
   "cell_type": "code",
   "execution_count": 21,
   "id": "9478ee23-50e5-4c9f-ad27-f1a3c76b3154",
   "metadata": {},
   "outputs": [],
   "source": [
    "df.to_csv('data.csv')"
   ]
  },
  {
   "cell_type": "code",
   "execution_count": 22,
   "id": "f51a5c6f-bd54-45ae-8ac7-d3310efc3f0b",
   "metadata": {},
   "outputs": [],
   "source": [
    "site = requests.get('https://www.moma.org/collection/?classifications=any&date_begin=Pre-1850&date_end=2024&include_uncataloged_works=false&on_view=false&q=van+gogh&recent_acquisitions=false&with_images=true')\n",
    "source = site.content\n",
    "soup = BeautifulSoup(source, 'lxml')"
   ]
  },
  {
   "cell_type": "code",
   "execution_count": 23,
   "id": "a837fe37-0c67-4b79-b3b3-87d07eef89f1",
   "metadata": {},
   "outputs": [
    {
     "data": {
      "text/plain": [
       "<!DOCTYPE html>\n",
       "<!--[if lt IE 7]> <html class=\"no-js ie6 oldie\" lang=\"en-US\"> <![endif]--><!--[if IE 7]>    <html class=\"no-js ie7 oldie\" lang=\"en-US\"> <![endif]--><!--[if IE 8]>    <html class=\"no-js ie8 oldie\" lang=\"en-US\"> <![endif]--><!--[if gt IE 8]><!--><html class=\"no-js\" lang=\"en-US\"> <!--<![endif]-->\n",
       "<head>\n",
       "<title>Attention Required! | Cloudflare</title>\n",
       "<meta charset=\"utf-8\"/>\n",
       "<meta content=\"text/html; charset=utf-8\" http-equiv=\"Content-Type\"/>\n",
       "<meta content=\"IE=Edge\" http-equiv=\"X-UA-Compatible\"/>\n",
       "<meta content=\"noindex, nofollow\" name=\"robots\"/>\n",
       "<meta content=\"width=device-width,initial-scale=1\" name=\"viewport\"/>\n",
       "<link href=\"/cdn-cgi/styles/cf.errors.css\" id=\"cf_styles-css\" rel=\"stylesheet\"/>\n",
       "<!--[if lt IE 9]><link rel=\"stylesheet\" id='cf_styles-ie-css' href=\"/cdn-cgi/styles/cf.errors.ie.css\" /><![endif]-->\n",
       "<style>body{margin:0;padding:0}</style>\n",
       "<!--[if gte IE 10]><!-->\n",
       "<script>\n",
       "  if (!navigator.cookieEnabled) {\n",
       "    window.addEventListener('DOMContentLoaded', function () {\n",
       "      var cookieEl = document.getElementById('cookie-alert');\n",
       "      cookieEl.style.display = 'block';\n",
       "    })\n",
       "  }\n",
       "</script>\n",
       "<!--<![endif]-->\n",
       "</head>\n",
       "<body>\n",
       "<div id=\"cf-wrapper\">\n",
       "<div class=\"cf-alert cf-alert-error cf-cookie-error\" data-translate=\"enable_cookies\" id=\"cookie-alert\">Please enable cookies.</div>\n",
       "<div class=\"cf-error-details-wrapper\" id=\"cf-error-details\">\n",
       "<div class=\"cf-wrapper cf-header cf-error-overview\">\n",
       "<h1 data-translate=\"block_headline\">Sorry, you have been blocked</h1>\n",
       "<h2 class=\"cf-subheadline\"><span data-translate=\"unable_to_access\">You are unable to access</span> moma.org</h2>\n",
       "</div><!-- /.header -->\n",
       "<div class=\"cf-section cf-highlight\">\n",
       "<div class=\"cf-wrapper\">\n",
       "<div class=\"cf-screenshot-container cf-screenshot-full\">\n",
       "<span class=\"cf-no-screenshot error\"></span>\n",
       "</div>\n",
       "</div>\n",
       "</div><!-- /.captcha-container -->\n",
       "<div class=\"cf-section cf-wrapper\">\n",
       "<div class=\"cf-columns two\">\n",
       "<div class=\"cf-column\">\n",
       "<h2 data-translate=\"blocked_why_headline\">Why have I been blocked?</h2>\n",
       "<p data-translate=\"blocked_why_detail\">This website is using a security service to protect itself from online attacks. The action you just performed triggered the security solution. There are several actions that could trigger this block including submitting a certain word or phrase, a SQL command or malformed data.</p>\n",
       "</div>\n",
       "<div class=\"cf-column\">\n",
       "<h2 data-translate=\"blocked_resolve_headline\">What can I do to resolve this?</h2>\n",
       "<p data-translate=\"blocked_resolve_detail\">You can email the site owner to let them know you were blocked. Please include what you were doing when this page came up and the Cloudflare Ray ID found at the bottom of this page.</p>\n",
       "</div>\n",
       "</div>\n",
       "</div><!-- /.section -->\n",
       "<div class=\"cf-error-footer cf-wrapper w-240 lg:w-full py-10 sm:py-4 sm:px-8 mx-auto text-center sm:text-left border-solid border-0 border-t border-gray-300\">\n",
       "<p class=\"text-13\">\n",
       "<span class=\"cf-footer-item sm:block sm:mb-1\">Cloudflare Ray ID: <strong class=\"font-semibold\">8cb47eaf5db043f9</strong></span>\n",
       "<span class=\"cf-footer-separator sm:hidden\">•</span>\n",
       "<span class=\"cf-footer-item hidden sm:block sm:mb-1\" id=\"cf-footer-item-ip\">\n",
       "      Your IP:\n",
       "      <button class=\"cf-footer-ip-reveal-btn\" id=\"cf-footer-ip-reveal\" type=\"button\">Click to reveal</button>\n",
       "<span class=\"hidden\" id=\"cf-footer-ip\">2603:7000:3d00:1b00:257b:2993:1d17:b0e4</span>\n",
       "<span class=\"cf-footer-separator sm:hidden\">•</span>\n",
       "</span>\n",
       "<span class=\"cf-footer-item sm:block sm:mb-1\"><span>Performance &amp; security by</span> <a href=\"https://www.cloudflare.com/5xx-error-landing\" id=\"brand_link\" rel=\"noopener noreferrer\" target=\"_blank\">Cloudflare</a></span>\n",
       "</p>\n",
       "<script>(function(){function d(){var b=a.getElementById(\"cf-footer-item-ip\"),c=a.getElementById(\"cf-footer-ip-reveal\");b&&\"classList\"in b&&(b.classList.remove(\"hidden\"),c.addEventListener(\"click\",function(){c.classList.add(\"hidden\");a.getElementById(\"cf-footer-ip\").classList.remove(\"hidden\")}))}var a=document;document.addEventListener&&a.addEventListener(\"DOMContentLoaded\",d)})();</script>\n",
       "</div><!-- /.error-footer -->\n",
       "</div><!-- /#cf-error-details -->\n",
       "</div><!-- /#cf-wrapper -->\n",
       "<script>\n",
       "  window._cf_translation = {};\n",
       "  \n",
       "  \n",
       "</script>\n",
       "<script>(function(){function c(){var b=a.contentDocument||a.contentWindow.document;if(b){var d=b.createElement('script');d.innerHTML=\"window.__CF$cv$params={r:'8cb47eaf5db043f9',t:'MTcyNzcwMjI2NC4wMDAwMDA='};var a=document.createElement('script');a.nonce='';a.src='/cdn-cgi/challenge-platform/scripts/jsd/main.js';document.getElementsByTagName('head')[0].appendChild(a);\";b.getElementsByTagName('head')[0].appendChild(d)}}if(document.body){var a=document.createElement('iframe');a.height=1;a.width=1;a.style.position='absolute';a.style.top=0;a.style.left=0;a.style.border='none';a.style.visibility='hidden';document.body.appendChild(a);if('loading'!==document.readyState)c();else if(window.addEventListener)document.addEventListener('DOMContentLoaded',c);else{var e=document.onreadystatechange||function(){};document.onreadystatechange=function(b){e(b);'loading'!==document.readyState&&(document.onreadystatechange=e,c())}}}})();</script></body>\n",
       "</html>"
      ]
     },
     "execution_count": 23,
     "metadata": {},
     "output_type": "execute_result"
    }
   ],
   "source": [
    "soup"
   ]
  },
  {
   "cell_type": "code",
   "execution_count": null,
   "id": "90332e86-c641-4620-b635-4cb0da042de4",
   "metadata": {},
   "outputs": [],
   "source": []
  }
 ],
 "metadata": {
  "kernelspec": {
   "display_name": "Python 3 (ipykernel)",
   "language": "python",
   "name": "python3"
  },
  "language_info": {
   "codemirror_mode": {
    "name": "ipython",
    "version": 3
   },
   "file_extension": ".py",
   "mimetype": "text/x-python",
   "name": "python",
   "nbconvert_exporter": "python",
   "pygments_lexer": "ipython3",
   "version": "3.11.7"
  }
 },
 "nbformat": 4,
 "nbformat_minor": 5
}