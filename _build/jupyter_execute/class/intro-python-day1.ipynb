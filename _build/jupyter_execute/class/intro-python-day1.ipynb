{
 "cells": [
  {
   "cell_type": "code",
   "execution_count": 1,
   "id": "6cd996fc-8178-4295-89b7-e06a9275b7df",
   "metadata": {},
   "outputs": [
    {
     "data": {
      "text/plain": [
       "float"
      ]
     },
     "execution_count": 1,
     "metadata": {},
     "output_type": "execute_result"
    }
   ],
   "source": [
    "type(.1)"
   ]
  },
  {
   "cell_type": "code",
   "execution_count": 2,
   "id": "40eed21d-d2d1-4045-94c5-ff579a984b8a",
   "metadata": {},
   "outputs": [
    {
     "data": {
      "text/plain": [
       "str"
      ]
     },
     "execution_count": 2,
     "metadata": {},
     "output_type": "execute_result"
    }
   ],
   "source": [
    "type(\"1%#$!%$@^$#@')\")"
   ]
  },
  {
   "cell_type": "code",
   "execution_count": 3,
   "id": "b2b97607-68e2-4afb-940e-7ab7fa69cb40",
   "metadata": {},
   "outputs": [
    {
     "data": {
      "text/plain": [
       "bool"
      ]
     },
     "execution_count": 3,
     "metadata": {},
     "output_type": "execute_result"
    }
   ],
   "source": [
    "type(True)"
   ]
  },
  {
   "cell_type": "code",
   "execution_count": 4,
   "id": "34253823-c531-4f7e-8166-6696a76d40f5",
   "metadata": {},
   "outputs": [
    {
     "data": {
      "text/plain": [
       "bool"
      ]
     },
     "execution_count": 4,
     "metadata": {},
     "output_type": "execute_result"
    }
   ],
   "source": [
    "type(False)"
   ]
  },
  {
   "cell_type": "code",
   "execution_count": 5,
   "id": "ff611ce7-077d-4ae7-95f8-6b0426ddcd58",
   "metadata": {},
   "outputs": [
    {
     "data": {
      "text/plain": [
       "list"
      ]
     },
     "execution_count": 5,
     "metadata": {},
     "output_type": "execute_result"
    }
   ],
   "source": [
    "type(['bagel', 'oatmeal', 'greek yogurt', 'croissant', 'coffee'])"
   ]
  },
  {
   "cell_type": "code",
   "execution_count": 6,
   "id": "4c939363-fb19-49e9-aa1b-ea4051051a2f",
   "metadata": {},
   "outputs": [
    {
     "data": {
      "text/plain": [
       "list"
      ]
     },
     "execution_count": 6,
     "metadata": {},
     "output_type": "execute_result"
    }
   ],
   "source": [
    "type([True, 2, 3, 4, 'oatmeal'])"
   ]
  },
  {
   "cell_type": "code",
   "execution_count": 7,
   "id": "18721d22-97dd-4204-a565-769ce94b19d9",
   "metadata": {},
   "outputs": [],
   "source": [
    "x = 5"
   ]
  },
  {
   "cell_type": "code",
   "execution_count": 8,
   "id": "d209730c-af56-45e7-bac1-449af1f2c456",
   "metadata": {},
   "outputs": [
    {
     "data": {
      "text/plain": [
       "5"
      ]
     },
     "execution_count": 8,
     "metadata": {},
     "output_type": "execute_result"
    }
   ],
   "source": [
    "x"
   ]
  },
  {
   "cell_type": "code",
   "execution_count": 9,
   "id": "0c7f16fe-d6ed-448e-b49f-00863cbc1705",
   "metadata": {},
   "outputs": [],
   "source": [
    "y = 10"
   ]
  },
  {
   "cell_type": "code",
   "execution_count": 10,
   "id": "0a6986da-d8b7-4278-b345-4c72c1d80c21",
   "metadata": {},
   "outputs": [
    {
     "data": {
      "text/plain": [
       "15"
      ]
     },
     "execution_count": 10,
     "metadata": {},
     "output_type": "execute_result"
    }
   ],
   "source": [
    "x + y"
   ]
  },
  {
   "cell_type": "code",
   "execution_count": 11,
   "id": "cff5d3a9-7b86-419f-bb19-1920bc46a4db",
   "metadata": {},
   "outputs": [],
   "source": [
    "x = 'hello '\n",
    "y = 'world!'"
   ]
  },
  {
   "cell_type": "code",
   "execution_count": 12,
   "id": "43a8fa31-e48f-49bb-9bdc-afe0114aea72",
   "metadata": {},
   "outputs": [
    {
     "data": {
      "text/plain": [
       "'hello '"
      ]
     },
     "execution_count": 12,
     "metadata": {},
     "output_type": "execute_result"
    }
   ],
   "source": [
    "x"
   ]
  },
  {
   "cell_type": "code",
   "execution_count": 13,
   "id": "ef9d7e73-2198-4501-b7c1-5eb5875609fb",
   "metadata": {},
   "outputs": [
    {
     "data": {
      "text/plain": [
       "'world!'"
      ]
     },
     "execution_count": 13,
     "metadata": {},
     "output_type": "execute_result"
    }
   ],
   "source": [
    "y"
   ]
  },
  {
   "cell_type": "code",
   "execution_count": 14,
   "id": "771f94e5-73d2-47d8-898a-595371eb081a",
   "metadata": {},
   "outputs": [
    {
     "data": {
      "text/plain": [
       "'hello world!'"
      ]
     },
     "execution_count": 14,
     "metadata": {},
     "output_type": "execute_result"
    }
   ],
   "source": [
    "x + y"
   ]
  },
  {
   "cell_type": "code",
   "execution_count": 15,
   "id": "f029069d-a847-43c1-a596-12b6ce487374",
   "metadata": {},
   "outputs": [],
   "source": [
    "greeting = 'hello world!'"
   ]
  },
  {
   "cell_type": "code",
   "execution_count": 16,
   "id": "f2d3eb21-d0a7-4b10-ad31-0180975f3205",
   "metadata": {},
   "outputs": [],
   "source": [
    "lunch = ['pizzabac' 'alhauchicken' 'andbroccoli']"
   ]
  },
  {
   "cell_type": "code",
   "execution_count": 17,
   "id": "b718fa2d-d8d9-4b6b-bc29-46d658086bd7",
   "metadata": {},
   "outputs": [
    {
     "data": {
      "text/plain": [
       "['pizzabacalhauchickenandbroccoli']"
      ]
     },
     "execution_count": 17,
     "metadata": {},
     "output_type": "execute_result"
    }
   ],
   "source": [
    "lunch"
   ]
  },
  {
   "cell_type": "code",
   "execution_count": 18,
   "id": "9fc7230d-bacb-41e6-a833-cd83d8274da0",
   "metadata": {},
   "outputs": [
    {
     "data": {
      "text/plain": [
       "list"
      ]
     },
     "execution_count": 18,
     "metadata": {},
     "output_type": "execute_result"
    }
   ],
   "source": [
    "type(lunch)"
   ]
  },
  {
   "cell_type": "code",
   "execution_count": 19,
   "id": "c93b7061-726e-4fce-bd53-a5054e0a4dad",
   "metadata": {},
   "outputs": [],
   "source": [
    "favorite_color = 'blue'"
   ]
  },
  {
   "cell_type": "code",
   "execution_count": 20,
   "id": "294ad5e9-a037-421a-89f4-8d5a27d49715",
   "metadata": {},
   "outputs": [
    {
     "ename": "SyntaxError",
     "evalue": "unterminated string literal (detected at line 1) (3330815605.py, line 1)",
     "output_type": "error",
     "traceback": [
      "\u001b[0;36m  Cell \u001b[0;32mIn[20], line 1\u001b[0;36m\u001b[0m\n\u001b[0;31m    test = \"\u001b[0m\n\u001b[0m           ^\u001b[0m\n\u001b[0;31mSyntaxError\u001b[0m\u001b[0;31m:\u001b[0m unterminated string literal (detected at line 1)\n"
     ]
    }
   ],
   "source": [
    "test = \"\n",
    "Hello\n",
    "World\n",
    "!\n",
    "\""
   ]
  },
  {
   "cell_type": "code",
   "execution_count": 67,
   "id": "6be62fc5-e2d2-438a-83ab-3c2d05342af7",
   "metadata": {},
   "outputs": [
    {
     "data": {
      "text/plain": [
       "list"
      ]
     },
     "execution_count": 67,
     "metadata": {},
     "output_type": "execute_result"
    }
   ],
   "source": [
    "type(lunch)"
   ]
  },
  {
   "cell_type": "code",
   "execution_count": 68,
   "id": "fccaebf9-0670-4efb-bcdb-0ef14b128e44",
   "metadata": {},
   "outputs": [
    {
     "data": {
      "text/plain": [
       "str"
      ]
     },
     "execution_count": 68,
     "metadata": {},
     "output_type": "execute_result"
    }
   ],
   "source": [
    "type(greeting)"
   ]
  },
  {
   "cell_type": "code",
   "execution_count": 69,
   "id": "77c6b952-9780-4f08-be58-0f57116833ee",
   "metadata": {},
   "outputs": [
    {
     "data": {
      "text/plain": [
       "'hello world!'"
      ]
     },
     "execution_count": 69,
     "metadata": {},
     "output_type": "execute_result"
    }
   ],
   "source": [
    "greeting"
   ]
  },
  {
   "cell_type": "code",
   "execution_count": 70,
   "id": "17ad1022-45db-4aac-8859-2483c8dd28c7",
   "metadata": {},
   "outputs": [
    {
     "data": {
      "text/plain": [
       "'HELLO WORLD!'"
      ]
     },
     "execution_count": 70,
     "metadata": {},
     "output_type": "execute_result"
    }
   ],
   "source": [
    "greeting.upper()"
   ]
  },
  {
   "cell_type": "code",
   "execution_count": 71,
   "id": "400c7d1d-b04d-4576-b8c5-21122b8144d2",
   "metadata": {},
   "outputs": [
    {
     "data": {
      "text/plain": [
       "['pizzabacalhauchickenandbroccoli']"
      ]
     },
     "execution_count": 71,
     "metadata": {},
     "output_type": "execute_result"
    }
   ],
   "source": [
    "lunch"
   ]
  },
  {
   "cell_type": "code",
   "execution_count": 83,
   "id": "fbfd0e2b-b228-424b-9378-d5d36c84a530",
   "metadata": {},
   "outputs": [],
   "source": [
    "shouting = 'my name is filipa'.upper()"
   ]
  },
  {
   "cell_type": "code",
   "execution_count": 78,
   "id": "28a10629-7a29-4dde-93d3-2e2e53737dcf",
   "metadata": {},
   "outputs": [
    {
     "data": {
      "text/plain": [
       "'MY NAME IS FILIPA'"
      ]
     },
     "execution_count": 78,
     "metadata": {},
     "output_type": "execute_result"
    }
   ],
   "source": [
    "shouting"
   ]
  },
  {
   "cell_type": "code",
   "execution_count": 79,
   "id": "704cfeb4-f9ec-4422-8719-423fcd48f49d",
   "metadata": {},
   "outputs": [
    {
     "data": {
      "text/plain": [
       "'my name is filipa'"
      ]
     },
     "execution_count": 79,
     "metadata": {},
     "output_type": "execute_result"
    }
   ],
   "source": [
    "shouting.lower()"
   ]
  },
  {
   "cell_type": "code",
   "execution_count": 92,
   "id": "2efb8d73-c37f-4c05-a50b-2ec619cb7fa8",
   "metadata": {},
   "outputs": [],
   "source": [
    "loud = shouting.split()"
   ]
  },
  {
   "cell_type": "code",
   "execution_count": 93,
   "id": "d7d9fa17-71f4-47fa-b9fb-bab005b2f6a7",
   "metadata": {},
   "outputs": [
    {
     "data": {
      "text/plain": [
       "['MY', 'NAME', 'IS', 'FILIPA']"
      ]
     },
     "execution_count": 93,
     "metadata": {},
     "output_type": "execute_result"
    }
   ],
   "source": [
    "loud"
   ]
  },
  {
   "cell_type": "code",
   "execution_count": 84,
   "id": "ce24358a-94ce-4acb-90c9-6e2d1d6a69c0",
   "metadata": {},
   "outputs": [
    {
     "data": {
      "text/plain": [
       "['bagel', 'oatmeal', 'greek yogurt', 'croissant', 'coffee']"
      ]
     },
     "execution_count": 84,
     "metadata": {},
     "output_type": "execute_result"
    }
   ],
   "source": [
    "breakfast"
   ]
  },
  {
   "cell_type": "code",
   "execution_count": 85,
   "id": "581a1426-c53d-4205-a853-36f577252f93",
   "metadata": {},
   "outputs": [],
   "source": [
    "breakfast.append('chocolate donut')"
   ]
  },
  {
   "cell_type": "code",
   "execution_count": 86,
   "id": "80fa1292-8b7c-4927-8c19-fc9284c1be3a",
   "metadata": {},
   "outputs": [
    {
     "data": {
      "text/plain": [
       "['bagel', 'oatmeal', 'greek yogurt', 'croissant', 'coffee', 'chocolate donut']"
      ]
     },
     "execution_count": 86,
     "metadata": {},
     "output_type": "execute_result"
    }
   ],
   "source": [
    "breakfast"
   ]
  },
  {
   "cell_type": "code",
   "execution_count": 87,
   "id": "77dffd6d-f28a-425b-8c04-11a44b573291",
   "metadata": {},
   "outputs": [],
   "source": [
    "breakfast.sort()"
   ]
  },
  {
   "cell_type": "code",
   "execution_count": 88,
   "id": "4f999265-c3a8-4e3f-8d96-37f3c88ef474",
   "metadata": {},
   "outputs": [
    {
     "data": {
      "text/plain": [
       "['bagel', 'chocolate donut', 'coffee', 'croissant', 'greek yogurt', 'oatmeal']"
      ]
     },
     "execution_count": 88,
     "metadata": {},
     "output_type": "execute_result"
    }
   ],
   "source": [
    "breakfast"
   ]
  },
  {
   "cell_type": "code",
   "execution_count": 89,
   "id": "f7fed9a3-92de-4641-9f7d-490c1c44954f",
   "metadata": {},
   "outputs": [
    {
     "ename": "AttributeError",
     "evalue": "'str' object has no attribute 'sort'",
     "output_type": "error",
     "traceback": [
      "\u001b[0;31m---------------------------------------------------------------------------\u001b[0m",
      "\u001b[0;31mAttributeError\u001b[0m                            Traceback (most recent call last)",
      "Cell \u001b[0;32mIn[89], line 1\u001b[0m\n\u001b[0;32m----> 1\u001b[0m shouting\u001b[38;5;241m.\u001b[39msort()\n",
      "\u001b[0;31mAttributeError\u001b[0m: 'str' object has no attribute 'sort'"
     ]
    }
   ],
   "source": [
    "shouting.sort()"
   ]
  },
  {
   "cell_type": "code",
   "execution_count": 90,
   "id": "8d2b942d-232b-4e67-a566-7ef66a2d2eb2",
   "metadata": {},
   "outputs": [
    {
     "data": {
      "text/plain": [
       "6"
      ]
     },
     "execution_count": 90,
     "metadata": {},
     "output_type": "execute_result"
    }
   ],
   "source": [
    "len(breakfast)"
   ]
  },
  {
   "cell_type": "code",
   "execution_count": 103,
   "id": "2051be27-2348-41f9-9b55-b3cfa877db26",
   "metadata": {},
   "outputs": [],
   "source": [
    "breakfast.append('eggs')"
   ]
  },
  {
   "cell_type": "code",
   "execution_count": 104,
   "id": "a133716a-c43d-43bc-97f4-594f55df9c5f",
   "metadata": {},
   "outputs": [
    {
     "data": {
      "text/plain": [
       "'bagel'"
      ]
     },
     "execution_count": 104,
     "metadata": {},
     "output_type": "execute_result"
    }
   ],
   "source": [
    "# list indexing\n",
    "\n",
    "breakfast[0]"
   ]
  },
  {
   "cell_type": "code",
   "execution_count": 105,
   "id": "83449008-2b5a-4363-bd9d-9d26f21ff076",
   "metadata": {},
   "outputs": [
    {
     "data": {
      "text/plain": [
       "'chocolate donut'"
      ]
     },
     "execution_count": 105,
     "metadata": {},
     "output_type": "execute_result"
    }
   ],
   "source": [
    "breakfast[1]"
   ]
  },
  {
   "cell_type": "code",
   "execution_count": 106,
   "id": "ef0fb1b6-43de-4abf-a1c4-4ba1ad7fd895",
   "metadata": {},
   "outputs": [
    {
     "data": {
      "text/plain": [
       "7"
      ]
     },
     "execution_count": 106,
     "metadata": {},
     "output_type": "execute_result"
    }
   ],
   "source": [
    "len(breakfast)"
   ]
  },
  {
   "cell_type": "code",
   "execution_count": 101,
   "id": "d866adc3-4cbd-4cc7-92c0-a25d1aa5aefe",
   "metadata": {},
   "outputs": [
    {
     "data": {
      "text/plain": [
       "'oatmeal'"
      ]
     },
     "execution_count": 101,
     "metadata": {},
     "output_type": "execute_result"
    }
   ],
   "source": [
    "breakfast[5]"
   ]
  },
  {
   "cell_type": "code",
   "execution_count": 102,
   "id": "de623cfe-0dd3-4b55-9ae7-e5a2cb67d7bd",
   "metadata": {},
   "outputs": [
    {
     "data": {
      "text/plain": [
       "'oatmeal'"
      ]
     },
     "execution_count": 102,
     "metadata": {},
     "output_type": "execute_result"
    }
   ],
   "source": [
    "breakfast[-1]"
   ]
  },
  {
   "cell_type": "code",
   "execution_count": 107,
   "id": "67dae8ec-3293-4507-a558-7686075fc5ec",
   "metadata": {},
   "outputs": [
    {
     "data": {
      "text/plain": [
       "['bagel',\n",
       " 'chocolate donut',\n",
       " 'coffee',\n",
       " 'croissant',\n",
       " 'greek yogurt',\n",
       " 'oatmeal',\n",
       " 'eggs']"
      ]
     },
     "execution_count": 107,
     "metadata": {},
     "output_type": "execute_result"
    }
   ],
   "source": [
    "breakfast"
   ]
  },
  {
   "cell_type": "code",
   "execution_count": 108,
   "id": "27f29e5d-c078-4b76-a343-07aec15da5db",
   "metadata": {},
   "outputs": [
    {
     "data": {
      "text/plain": [
       "'croissant'"
      ]
     },
     "execution_count": 108,
     "metadata": {},
     "output_type": "execute_result"
    }
   ],
   "source": [
    "breakfast[3]"
   ]
  },
  {
   "cell_type": "code",
   "execution_count": 109,
   "id": "9c3c7c3e-8a0b-4c9b-ac57-7ed5be702495",
   "metadata": {},
   "outputs": [
    {
     "data": {
      "text/plain": [
       "['bagel', 'chocolate donut', 'coffee', 'croissant']"
      ]
     },
     "execution_count": 109,
     "metadata": {},
     "output_type": "execute_result"
    }
   ],
   "source": [
    "# list slicing\n",
    "\n",
    "breakfast[0:4]"
   ]
  },
  {
   "cell_type": "code",
   "execution_count": 111,
   "id": "5549d134-b54a-4928-8baf-7254342e041f",
   "metadata": {},
   "outputs": [
    {
     "data": {
      "text/plain": [
       "['greek yogurt', 'oatmeal', 'eggs']"
      ]
     },
     "execution_count": 111,
     "metadata": {},
     "output_type": "execute_result"
    }
   ],
   "source": [
    "breakfast[4:]"
   ]
  },
  {
   "cell_type": "code",
   "execution_count": null,
   "id": "29f81814-60e1-49e3-bb46-a9d6d1c98745",
   "metadata": {},
   "outputs": [],
   "source": [
    "# create a list that is 7 items long. \n",
    "# write a slice that grabs the middle 3 items."
   ]
  },
  {
   "cell_type": "code",
   "execution_count": 112,
   "id": "741d94f6-4921-4540-afeb-603b4365fa41",
   "metadata": {},
   "outputs": [
    {
     "data": {
      "text/plain": [
       "['coffee', 'croissant', 'greek yogurt']"
      ]
     },
     "execution_count": 112,
     "metadata": {},
     "output_type": "execute_result"
    }
   ],
   "source": [
    "breakfast[2:5]"
   ]
  },
  {
   "cell_type": "code",
   "execution_count": null,
   "id": "39906fcd-07c4-431f-9c3e-abb0864c1368",
   "metadata": {},
   "outputs": [],
   "source": []
  },
  {
   "cell_type": "code",
   "execution_count": null,
   "id": "7f771c6e-817f-4a32-8831-b07d88ca2e4d",
   "metadata": {},
   "outputs": [],
   "source": []
  },
  {
   "cell_type": "code",
   "execution_count": null,
   "id": "05ffdf0b-2fa8-4f54-916f-5eede8f45de0",
   "metadata": {},
   "outputs": [],
   "source": []
  },
  {
   "cell_type": "code",
   "execution_count": null,
   "id": "d1f57661-2f66-4c52-84eb-779178d424a4",
   "metadata": {},
   "outputs": [],
   "source": []
  },
  {
   "cell_type": "code",
   "execution_count": null,
   "id": "ab995a59-4e31-4975-b79c-508594ed050f",
   "metadata": {},
   "outputs": [],
   "source": []
  },
  {
   "cell_type": "code",
   "execution_count": null,
   "id": "76e695b2-87bc-42f2-add6-5fbb76711ce0",
   "metadata": {},
   "outputs": [],
   "source": [
    "# copy a paragraph from a book on project gutenberg, save it to a string\n",
    "# use the split() method to make the string into a list\n",
    "# use the len() function and list slicing, to print out the words in the first half \n",
    "# of the paragraph"
   ]
  },
  {
   "cell_type": "code",
   "execution_count": 113,
   "id": "db76f126-9949-4e45-af1d-f348b7b762b1",
   "metadata": {},
   "outputs": [],
   "source": [
    "text = \"I am by birth a Genevese, and my family is one of the most distinguished of that republic. My ancestors had been for many years counsellors and syndics, and my father had filled several public situations with honour and reputation. He was respected by all who knew him for his integrity and indefatigable attention to public business. He passed his younger days perpetually occupied by the affairs of his country; a variety of circumstances had prevented his marrying early, nor was it until the decline of life that he became a husband and the father of a family.\" "
   ]
  },
  {
   "cell_type": "code",
   "execution_count": 114,
   "id": "02793395-1f13-42ff-9142-734dc3e5bd24",
   "metadata": {},
   "outputs": [
    {
     "data": {
      "text/plain": [
       "'I am by birth a Genevese, and my family is one of the most distinguished of that republic. My ancestors had been for many years counsellors and syndics, and my father had filled several public situations with honour and reputation. He was respected by all who knew him for his integrity and indefatigable attention to public business. He passed his younger days perpetually occupied by the affairs of his country; a variety of circumstances had prevented his marrying early, nor was it until the decline of life that he became a husband and the father of a family.'"
      ]
     },
     "execution_count": 114,
     "metadata": {},
     "output_type": "execute_result"
    }
   ],
   "source": [
    "text"
   ]
  },
  {
   "cell_type": "code",
   "execution_count": 126,
   "id": "db3611d1-2677-4505-b41e-ec7684c8c43d",
   "metadata": {},
   "outputs": [
    {
     "data": {
      "text/plain": [
       "str"
      ]
     },
     "execution_count": 126,
     "metadata": {},
     "output_type": "execute_result"
    }
   ],
   "source": [
    "type(text)"
   ]
  },
  {
   "cell_type": "code",
   "execution_count": 124,
   "id": "732395b6-1d84-4447-a887-e581abc2febf",
   "metadata": {},
   "outputs": [],
   "source": [
    "splitted = text.split()"
   ]
  },
  {
   "cell_type": "code",
   "execution_count": 125,
   "id": "9d4bb2c9-4b35-4eaa-a0f9-53c4afbf03cc",
   "metadata": {},
   "outputs": [
    {
     "data": {
      "text/plain": [
       "list"
      ]
     },
     "execution_count": 125,
     "metadata": {},
     "output_type": "execute_result"
    }
   ],
   "source": [
    "type(splitted)"
   ]
  },
  {
   "cell_type": "code",
   "execution_count": 127,
   "id": "53397d43-71fb-4c12-8317-c97ae5ac0134",
   "metadata": {},
   "outputs": [
    {
     "data": {
      "text/plain": [
       "98"
      ]
     },
     "execution_count": 127,
     "metadata": {},
     "output_type": "execute_result"
    }
   ],
   "source": [
    "len(splitted)"
   ]
  },
  {
   "cell_type": "code",
   "execution_count": 128,
   "id": "f82e7007-fb76-4220-87c6-21572a3ebb9e",
   "metadata": {},
   "outputs": [
    {
     "data": {
      "text/plain": [
       "49.0"
      ]
     },
     "execution_count": 128,
     "metadata": {},
     "output_type": "execute_result"
    }
   ],
   "source": [
    "98/2"
   ]
  },
  {
   "cell_type": "code",
   "execution_count": 130,
   "id": "58429e77-5a4e-431b-8b19-301e777d9561",
   "metadata": {},
   "outputs": [
    {
     "data": {
      "text/plain": [
       "['I',\n",
       " 'am',\n",
       " 'by',\n",
       " 'birth',\n",
       " 'a',\n",
       " 'Genevese,',\n",
       " 'and',\n",
       " 'my',\n",
       " 'family',\n",
       " 'is',\n",
       " 'one',\n",
       " 'of',\n",
       " 'the',\n",
       " 'most',\n",
       " 'distinguished',\n",
       " 'of',\n",
       " 'that',\n",
       " 'republic.',\n",
       " 'My',\n",
       " 'ancestors',\n",
       " 'had',\n",
       " 'been',\n",
       " 'for',\n",
       " 'many',\n",
       " 'years',\n",
       " 'counsellors',\n",
       " 'and',\n",
       " 'syndics,',\n",
       " 'and',\n",
       " 'my',\n",
       " 'father',\n",
       " 'had',\n",
       " 'filled',\n",
       " 'several',\n",
       " 'public',\n",
       " 'situations',\n",
       " 'with',\n",
       " 'honour',\n",
       " 'and',\n",
       " 'reputation.',\n",
       " 'He',\n",
       " 'was',\n",
       " 'respected',\n",
       " 'by',\n",
       " 'all',\n",
       " 'who',\n",
       " 'knew',\n",
       " 'him']"
      ]
     },
     "execution_count": 130,
     "metadata": {},
     "output_type": "execute_result"
    }
   ],
   "source": [
    "splitted[:48]"
   ]
  },
  {
   "cell_type": "code",
   "execution_count": null,
   "id": "1de59139-53a8-4d56-9a21-09a37c3ea14a",
   "metadata": {},
   "outputs": [],
   "source": []
  }
 ],
 "metadata": {
  "kernelspec": {
   "display_name": "Python 3 (ipykernel)",
   "language": "python",
   "name": "python3"
  },
  "language_info": {
   "codemirror_mode": {
    "name": "ipython",
    "version": 3
   },
   "file_extension": ".py",
   "mimetype": "text/x-python",
   "name": "python",
   "nbconvert_exporter": "python",
   "pygments_lexer": "ipython3",
   "version": "3.13.0"
  }
 },
 "nbformat": 4,
 "nbformat_minor": 5
}