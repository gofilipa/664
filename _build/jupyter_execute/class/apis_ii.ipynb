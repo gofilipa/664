{
 "cells": [
  {
   "cell_type": "code",
   "execution_count": 1,
   "id": "f62c27ef-7d8d-4d9f-9f7a-8c8259b52976",
   "metadata": {},
   "outputs": [],
   "source": [
    "import requests"
   ]
  },
  {
   "cell_type": "code",
   "execution_count": 2,
   "id": "47d23385-fe69-43fd-9e37-69a8cb478cf4",
   "metadata": {},
   "outputs": [],
   "source": [
    "# (1) the API \"call\" \n",
    "root = 'https://collectionapi.metmuseum.org/'\n",
    "path = 'public/collection/v1/search'\n",
    "query = '?q=harlem&hasImages=true&dateBegin=1800&dateEnd=2000'\n",
    "url = root + path + query\n",
    "response = requests.get(url)"
   ]
  },
  {
   "cell_type": "code",
   "execution_count": 3,
   "id": "333ac0f5-0eda-4b95-9564-98d05f518dde",
   "metadata": {},
   "outputs": [],
   "source": [
    "#(2) inspect and parse: json()\n",
    "parsed = response.json()"
   ]
  },
  {
   "cell_type": "code",
   "execution_count": 4,
   "id": "1a0aedd7-0f59-489f-a7ba-77082d9a91ad",
   "metadata": {},
   "outputs": [
    {
     "data": {
      "text/plain": [
       "dict"
      ]
     },
     "execution_count": 4,
     "metadata": {},
     "output_type": "execute_result"
    }
   ],
   "source": [
    "type(parsed)"
   ]
  },
  {
   "cell_type": "code",
   "execution_count": 5,
   "id": "271fb400-ece3-4b1d-98ed-5534ab5db1ae",
   "metadata": {},
   "outputs": [
    {
     "data": {
      "text/plain": [
       "dict_keys(['total', 'objectIDs'])"
      ]
     },
     "execution_count": 5,
     "metadata": {},
     "output_type": "execute_result"
    }
   ],
   "source": [
    "parsed.keys()"
   ]
  },
  {
   "cell_type": "code",
   "execution_count": 6,
   "id": "60aa2505-4dbb-4e8d-949e-e1be2335dd1f",
   "metadata": {},
   "outputs": [
    {
     "data": {
      "text/plain": [
       "26"
      ]
     },
     "execution_count": 6,
     "metadata": {},
     "output_type": "execute_result"
    }
   ],
   "source": [
    "parsed['total']"
   ]
  },
  {
   "cell_type": "code",
   "execution_count": 7,
   "id": "b5873041-4434-4a40-91f8-630ab1f98bfb",
   "metadata": {},
   "outputs": [
    {
     "data": {
      "text/plain": [
       "list"
      ]
     },
     "execution_count": 7,
     "metadata": {},
     "output_type": "execute_result"
    }
   ],
   "source": [
    "type(parsed['objectIDs'])"
   ]
  },
  {
   "cell_type": "code",
   "execution_count": 8,
   "id": "a43c606a-2489-49a0-a14e-1ea444089677",
   "metadata": {},
   "outputs": [],
   "source": [
    "objectids = parsed['objectIDs']"
   ]
  },
  {
   "cell_type": "code",
   "execution_count": 9,
   "id": "29d958eb-2a44-4c03-8328-df82d071048a",
   "metadata": {},
   "outputs": [],
   "source": [
    "# go through list of objectIDs, and make a call\n",
    "# using \"object\" path for each one\n",
    "objects = 'public/collection/v1/objects/'\n",
    "results = []\n",
    "\n",
    "for i in objectids:\n",
    "    url = f'{root}{objects}{i}'\n",
    "    response = requests.get(url)\n",
    "    if response.status_code == 200:\n",
    "        parsed = response.json()\n",
    "        results.append(parsed)"
   ]
  },
  {
   "cell_type": "code",
   "execution_count": 10,
   "id": "dcada4a4-09d4-4a5b-8600-b37ae1da05ff",
   "metadata": {},
   "outputs": [
    {
     "data": {
      "text/plain": [
       "26"
      ]
     },
     "execution_count": 10,
     "metadata": {},
     "output_type": "execute_result"
    }
   ],
   "source": [
    "len(results)"
   ]
  },
  {
   "cell_type": "code",
   "execution_count": 11,
   "id": "0cecbbef-9b97-4bcb-a0f5-bfda59fedb19",
   "metadata": {},
   "outputs": [
    {
     "data": {
      "text/plain": [
       "dict"
      ]
     },
     "execution_count": 11,
     "metadata": {},
     "output_type": "execute_result"
    }
   ],
   "source": [
    "type(results[0])"
   ]
  },
  {
   "cell_type": "code",
   "execution_count": 12,
   "id": "a6087733-4d4a-4186-ae01-c0653da185f6",
   "metadata": {},
   "outputs": [
    {
     "data": {
      "text/plain": [
       "dict_keys(['objectID', 'isHighlight', 'accessionNumber', 'accessionYear', 'isPublicDomain', 'primaryImage', 'primaryImageSmall', 'additionalImages', 'constituents', 'department', 'objectName', 'title', 'culture', 'period', 'dynasty', 'reign', 'portfolio', 'artistRole', 'artistPrefix', 'artistDisplayName', 'artistDisplayBio', 'artistSuffix', 'artistAlphaSort', 'artistNationality', 'artistBeginDate', 'artistEndDate', 'artistGender', 'artistWikidata_URL', 'artistULAN_URL', 'objectDate', 'objectBeginDate', 'objectEndDate', 'medium', 'dimensions', 'measurements', 'creditLine', 'geographyType', 'city', 'state', 'county', 'country', 'region', 'subregion', 'locale', 'locus', 'excavation', 'river', 'classification', 'rightsAndReproduction', 'linkResource', 'metadataDate', 'repository', 'objectURL', 'tags', 'objectWikidata_URL', 'isTimelineWork', 'GalleryNumber'])"
      ]
     },
     "execution_count": 12,
     "metadata": {},
     "output_type": "execute_result"
    }
   ],
   "source": [
    "results[0].keys()"
   ]
  },
  {
   "cell_type": "code",
   "execution_count": 13,
   "id": "6c22177c-f587-415b-baef-2579cc1ac645",
   "metadata": {},
   "outputs": [],
   "source": [
    "titles = []\n",
    "names = []\n",
    "genders = []\n",
    "nationality = []\n",
    "culture = []\n",
    "gallery = []\n",
    "\n",
    "for i in results:\n",
    "    titles.append(i['title'])\n",
    "    names.append(i['artistDisplayName'])\n",
    "    gender = i.get('artistGender') # get() will return the values for a key\n",
    "    genders.append(gender)\n",
    "    nationality.append(i['artistNationality'])\n",
    "    if i['culture']:\n",
    "        culture.append(i['culture'])\n",
    "    gallery.append(i['GalleryNumber'])"
   ]
  },
  {
   "cell_type": "code",
   "execution_count": 14,
   "id": "eda96363-2e09-4258-b5d1-73b2c386df17",
   "metadata": {},
   "outputs": [
    {
     "ename": "ModuleNotFoundError",
     "evalue": "No module named 'pandas'",
     "output_type": "error",
     "traceback": [
      "\u001b[0;31m---------------------------------------------------------------------------\u001b[0m",
      "\u001b[0;31mModuleNotFoundError\u001b[0m                       Traceback (most recent call last)",
      "Cell \u001b[0;32mIn[14], line 1\u001b[0m\n\u001b[0;32m----> 1\u001b[0m \u001b[38;5;28;01mimport\u001b[39;00m \u001b[38;5;21;01mpandas\u001b[39;00m \u001b[38;5;28;01mas\u001b[39;00m \u001b[38;5;21;01mpd\u001b[39;00m\n\u001b[1;32m      2\u001b[0m df \u001b[38;5;241m=\u001b[39m pd\u001b[38;5;241m.\u001b[39mDataFrame({\n\u001b[1;32m      3\u001b[0m     \u001b[38;5;124m'\u001b[39m\u001b[38;5;124mtitle\u001b[39m\u001b[38;5;124m'\u001b[39m: titles,\n\u001b[1;32m      4\u001b[0m     \u001b[38;5;124m'\u001b[39m\u001b[38;5;124martist name\u001b[39m\u001b[38;5;124m'\u001b[39m: names,\n\u001b[0;32m   (...)\u001b[0m\n\u001b[1;32m      8\u001b[0m     \u001b[38;5;124m'\u001b[39m\u001b[38;5;124mgallery location\u001b[39m\u001b[38;5;124m'\u001b[39m: gallery\n\u001b[1;32m      9\u001b[0m })\n",
      "\u001b[0;31mModuleNotFoundError\u001b[0m: No module named 'pandas'"
     ]
    }
   ],
   "source": [
    "import pandas as pd\n",
    "df = pd.DataFrame({\n",
    "    'title': titles,\n",
    "    'artist name': names,\n",
    "    'artist gender': genders,\n",
    "    'artist nationality': nationality,\n",
    "    'artist culture': culture,\n",
    "    'gallery location': gallery\n",
    "})"
   ]
  },
  {
   "cell_type": "code",
   "execution_count": null,
   "id": "0da1e697-a44f-4065-b8cb-7bc800213c2c",
   "metadata": {},
   "outputs": [],
   "source": []
  }
 ],
 "metadata": {
  "kernelspec": {
   "display_name": "Python 3 (ipykernel)",
   "language": "python",
   "name": "python3"
  },
  "language_info": {
   "codemirror_mode": {
    "name": "ipython",
    "version": 3
   },
   "file_extension": ".py",
   "mimetype": "text/x-python",
   "name": "python",
   "nbconvert_exporter": "python",
   "pygments_lexer": "ipython3",
   "version": "3.13.0"
  }
 },
 "nbformat": 4,
 "nbformat_minor": 5
}