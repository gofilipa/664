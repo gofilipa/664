{
 "cells": [
  {
   "cell_type": "markdown",
   "id": "156d8a55-bee6-478a-a9e5-438d0c6d8a83",
   "metadata": {},
   "source": [
    "# the `csv` module\n",
    "The dataset we will be using consists of campaign finance violations by New York City political candidates, officially titled \"[Enforcement Actions Board Determinations and Penalties](https://data.cityofnewyork.us/City-Government/Enforcement-Actions-Board-Determinations-and-Penal/xrxs-qn95/about_data),\" which can be found on [NYC Open Data](https://opendata.cityofnewyork.us/)."
   ]
  },
  {
   "cell_type": "code",
   "execution_count": 1,
   "id": "5dd02e7d-d003-4290-a039-caf9fa6b54f6",
   "metadata": {},
   "outputs": [],
   "source": [
    "import csv"
   ]
  },
  {
   "cell_type": "markdown",
   "id": "b9adf5f5-765f-422f-b91e-3f12af4b3c09",
   "metadata": {},
   "source": [
    "The CSV module allows you to import `.csv` files into your python notebook. Then, you can use methods like `reader()` to load up the data."
   ]
  },
  {
   "cell_type": "code",
   "execution_count": 2,
   "id": "47b77108-15d5-4373-af81-c97014ba76e4",
   "metadata": {},
   "outputs": [
    {
     "name": "stdout",
     "output_type": "stream",
     "text": [
      "['\\ufeffElection Cycle ', 'Candidate', 'Board Meeting Date', 'Violation', 'Current Violation Name', 'Final Board Determination']\n",
      "['2019A', 'Espinal, Rafael', '8/31/23', 'Failing to report transactions in daily pre-election disclosure statements', 'Failing to report transactions in daily pre-election disclosure statements', '$250 ']\n",
      "['2019A', 'Espinal, Rafael', '8/31/23', 'Accepting over-the-limit contributions', 'Accepting over-the-limit contributions', '$5,050 ']\n",
      "['2019A', 'Espinal, Rafael', '8/31/23', 'Accepting contributions from corporations and a limited liabilty company', 'Accepting contributions from corporations and a limited liabilty company', '$1,000 ']\n",
      "['2019A', 'Blake, Michael', '8/31/23', 'Failing to document transactions', 'Failing to document transactions', '$100 ']\n",
      "['2019A', 'Blake, Michael', '8/31/23', 'Failing to report transactions in daily pre-election disclosure statements', 'Failing to report transactions in daily pre-election disclosure statements', '$250 ']\n",
      "['2019A', 'Blake, Michael', '9/1/23', 'Failing to demonstrate compliance with intermediary reporting and documentation requirements', 'Failing to demonstrate compliance with intermediary reporting and documentation requirements', 'VNP']\n",
      "['2019A', 'Blake, Michael', '8/31/23', 'Failing to demonstrate that spending was in furtherance of the campaign', 'Failing to demonstrate that spending was in furtherance of the campaign', '$125 ']\n",
      "['2019A', 'Blake, Michael', '8/31/23', 'Making impermissable post-election expenditures', 'Making impermissable post-election expenditures', '$1,184 ']\n",
      "['2019', 'Borelli, Joseph', '7/17/23', 'Failing to disclose a merchant account', 'Failing to disclose a merchant account', '$100 ']\n",
      "['2019', 'Borelli, Joseph', '7/17/23', 'Failing to provide bank and merchant account statements', 'Failing to provide bank and merchant account statements', '$650 ']\n",
      "['2019', 'Borelli, Joseph', '7/17/23', 'Accepting a contribution from an unregistered political committee', 'Accepting a contribution from an unregistered political committee', '$275 ']\n",
      "['2019A', 'Sheikh, Helal', '7/17/23', 'Failing to report transactions', 'Failing to report transactions', '$101 ']\n",
      "['2019A', 'Sheikh, Helal', '7/17/23', 'Failing to respond to Draft Audit Report', 'Failing to respond to Draft Audit Report', '$500 ']\n",
      "['2019B', 'Rose, Xamayla', '6/2/23', 'Failing to document transactions', 'Failing to document transactions', '$149 ']\n",
      "['2019B', 'Rose, Xamayla', '6/2/23', 'Accepting over-the-limit contributions', 'Accepting over-the-limit contributions', '$375 ']\n",
      "['2019B', 'Rose, Xamayla', '6/2/23', 'Accepting contributions from corporations, limited liability companies, or partnerships', 'Accepting contributions from corporations, limited liability companies, or partnerships', '$6,770 ']\n",
      "['2019B', 'Rose, Xamayla', '6/2/23', 'Failing to demonstrate that spending was in furtherance of the campagin', 'Failing to demonstrate that spending was in furtherance of the campagin', 'VNP']\n",
      "['2019B', 'Rose, Xamayla', '6/2/23', 'Making impermissable post-election expenditures', 'Making impermissable post-election expenditures', '$1,804 ']\n",
      "['2019A', 'Walker, Latrice', '6/2/23', 'Failing to disclose a political committee', 'Failing to disclose a political committee', '$100 ']\n"
     ]
    }
   ],
   "source": [
    "# print each row in the dataset\n",
    "with open ('violations_sample.csv', 'r') as f:\n",
    "    data = csv.reader(f)\n",
    "    for row in data:\n",
    "        print(row)"
   ]
  },
  {
   "cell_type": "code",
   "execution_count": 3,
   "id": "216e29c6-03bf-4eea-aa08-797bbdd110ec",
   "metadata": {},
   "outputs": [
    {
     "data": {
      "text/plain": [
       "_csv.reader"
      ]
     },
     "execution_count": 3,
     "metadata": {},
     "output_type": "execute_result"
    }
   ],
   "source": [
    "# check our data type\n",
    "type(data)"
   ]
  },
  {
   "cell_type": "code",
   "execution_count": 4,
   "id": "fbc98a22-5bbd-4391-ae7c-51db8bfc7929",
   "metadata": {},
   "outputs": [
    {
     "data": {
      "text/plain": [
       "list"
      ]
     },
     "execution_count": 4,
     "metadata": {},
     "output_type": "execute_result"
    }
   ],
   "source": [
    "type(row)"
   ]
  },
  {
   "cell_type": "code",
   "execution_count": 5,
   "id": "16c3b932-10aa-4c29-9804-c462a1b3e7d8",
   "metadata": {},
   "outputs": [
    {
     "name": "stdout",
     "output_type": "stream",
     "text": [
      "Candidate\n",
      "Espinal, Rafael\n",
      "Espinal, Rafael\n",
      "Espinal, Rafael\n",
      "Blake, Michael\n",
      "Blake, Michael\n",
      "Blake, Michael\n",
      "Blake, Michael\n",
      "Blake, Michael\n",
      "Borelli, Joseph\n",
      "Borelli, Joseph\n",
      "Borelli, Joseph\n",
      "Sheikh, Helal\n",
      "Sheikh, Helal\n",
      "Rose, Xamayla\n",
      "Rose, Xamayla\n",
      "Rose, Xamayla\n",
      "Rose, Xamayla\n",
      "Rose, Xamayla\n",
      "Walker, Latrice\n"
     ]
    }
   ],
   "source": [
    "# how do we get items from a list?\n",
    "# print the value for the second column (candidate) \n",
    "# on each row of the dataset\n",
    "\n",
    "with open ('violations_sample.csv', 'r') as f:\n",
    "    data = csv.reader(f)\n",
    "    for row in data:\n",
    "        print(row[1])"
   ]
  },
  {
   "cell_type": "markdown",
   "id": "ec453d8d-715a-4c1a-bb90-51ad22d34b5c",
   "metadata": {},
   "source": [
    "Let's combine loops with logic. Print out all of the rows that contain the word \"Eric\" in the second column (`Candidate`) in the dataset."
   ]
  },
  {
   "cell_type": "code",
   "execution_count": 6,
   "id": "b068835c-35c5-43fe-93f5-bedc4de35edd",
   "metadata": {},
   "outputs": [
    {
     "name": "stdout",
     "output_type": "stream",
     "text": [
      "['2021T', 'Adams, Eric', '05/15/2023', 'Failing to respond and late response to requests for information or documentation', 'Failing to respond and late response to requests for information or documentation', '$14,400']\n",
      "['2021T', 'Adams, Eric', '05/15/2023', 'Failing to properly wind down TIE activities', 'Failing to properly wind down TIE activities', '$200']\n",
      "['2021T', 'Adams, Eric', '05/15/2023', 'Accepting prohibited donations', 'Accepting prohibited donations', '$5,000']\n",
      "['2017', 'Ulrich, Eric', '07/15/2021', 'Failing to report transactions', 'Failing to report transactions', '$1,352']\n",
      "['2017', 'Ulrich, Eric', '07/15/2021', 'Failing to demonstrate compliance with cash receipts reporting and documentation requirements', 'Failing to demonstrate compliance with cash receipts reporting and documentation requirements', '$75']\n",
      "['2017', 'Ulrich, Eric', '07/15/2021', 'Failing to report transactions in daily pre-election disclosure statements', 'Failing to report transactions in daily pre-election disclosure statements', '$300']\n",
      "['2017', 'Ulrich, Eric', '07/15/2021', 'Failing to document transactions', 'Failing to document transactions', '$300']\n",
      "['2017', 'Ulrich, Eric', '07/15/2021', 'Accepting over-the-limit contributions', 'Accepting over-the-limit contributions', '$3,187']\n",
      "['2017', 'Ulrich, Eric', '07/15/2021', 'Failing to demonstrate compliance with intermediary reporting and documentation requirements', 'Failing to demonstrate compliance with intermediary reporting and documentation requirements', '$100']\n",
      "['2017', 'Ulrich, Eric', '07/15/2021', 'Failing to demonstrate that spending was in furtherance of the campaign', 'Failing to demonstrate that spending was in furtherance of the campaign', '$331']\n",
      "['2017', 'Ulrich, Eric', '07/15/2021', 'Making impermissible post-election expenditures', 'Making impermissible post-election expenditures', '$1,261']\n",
      "['2017', 'Ulrich, Eric', '07/15/2021', 'Exceeding the expenditure limit', 'Exceeding the expenditure limit', '$13,750']\n",
      "['2013', 'Adams, Eric', '06/09/2016', 'Failing to provide merchant account statements', 'Failing to provide bank, credit card, and merchant account statements', '$500']\n",
      "['2013', 'Adams, Eric', '06/09/2016', 'Failing to file daily pre-election disclosure statements', 'Failing to report/late reporting of transactions in daily pre-election disclosure statements', '$250']\n",
      "['2013', 'Adams, Eric', '06/09/2016', 'Accepting an over-the-limit contribution', 'Accepting over-the-limit contributions', '$125']\n",
      "['2013', 'Adams, Eric', '06/09/2016', 'Accepting a corporate contribution', 'Accepting contributions from corporations, limited liability companies, or partnerships', '$70']\n",
      "['2013', 'Adams, Eric', '06/09/2016', 'Accepting two contributions from unregistered political committees', 'Accepting contributions from unregistered political committees', '$225']\n",
      "['2013', 'Adams, Eric', '06/09/2016', 'Failing to demonstrate compliance with intermediary reporting and documentation requirements', 'Failing to demonstrate compliance with intermediary reporting and documentation requirements', 'VNP']\n",
      "['2013', 'Adams, Eric', '06/09/2016', 'Failing to document transactions', 'Failing to document transactions', '$700']\n",
      "['2013', 'Adams, Eric', '06/09/2016', 'Failing to demonstrate spending was in furtherance of the campaign', 'Failing to demonstrate that spending was in furtherance of the campaign', 'VNP']\n",
      "['2009', 'Gioia, Eric', '07/25/2013', 'Accepting over-the-limit contributions', 'Accepting over-the-limit contributions', '$12,875']\n",
      "['2009', 'Gioia, Eric', '07/25/2013', 'Accepting corporate contributions', 'Accepting contributions from corporations, limited liability companies, or partnerships', '$12,125']\n",
      "['2009', 'Gioia, Eric', '07/25/2013', 'Accepting contributions from unregistered political committees', 'Accepting contributions from unregistered political committees', '$750']\n",
      "['2009', 'Gioia, Eric', '07/25/2013', 'Accepting over-the-limit Doing Business contributions', 'Accepting over-the-limit Doing Business contributions', '$10,850']\n",
      "['2009', 'Gioia, Eric', '07/25/2013', 'Filing a disclosure statement eight days late', 'Failing to file/filing late disclosure statements', 'VNP']\n",
      "['2009', 'Gioia, Eric', '07/25/2013', 'Failing to file required daily pre-election disclosure statements', 'Failing to report/late reporting of transactions in daily pre-election disclosure statements', '200']\n",
      "['2009', 'Gioia, Eric', '07/25/2013', 'Failing to provide bank statements', 'Failing to provide bank, credit card, and merchant account statements', '1500']\n",
      "['2009', 'Gioia, Eric', '07/25/2013', 'Failing to report transactions', 'Failing to report transactions', '$1,974']\n",
      "['2009', 'Gioia, Eric', '07/25/2013', 'Failing to accurately report credit card contributions, resulting in an 11.78% variance', 'Failing to demonstrate compliance with reporting requirements for receipts or disbursements', '$1,500']\n",
      "['2009', 'Gioia, Eric', '07/25/2013', 'Failing to provide signed intermediary affirmation statements and failing to respond to questions regarding intermediaries', 'Failing to demonstrate compliance with intermediary reporting and documentation requirements', '$2,600']\n",
      "['2009', 'Gioia, Eric', '07/25/2013', 'Exceeding the expenditure limit', 'Exceeding the expenditure limit', '$29,732']\n",
      "['2009', 'Gioia, Eric', '07/25/2013', 'Making improper post-election expenditures', 'Making impermissible post-election expenditures', '$3,208']\n",
      "['2009', 'Gioia, Eric', '07/25/2013', 'Failing to demonstrate that spending was in furtherance of the campaign', 'Failing to demonstrate that spending was in furtherance of the campaign', '$1,188']\n",
      "['2009', 'Gioia, Eric', '07/25/2013', 'Failing to document transactions', 'Failing to document transactions', '$1,400']\n",
      "['2009', 'Gioia, Eric', '07/25/2013', 'Failing to adequately document transactions', 'Failing to document transactions', '$2,500']\n",
      "['2009', 'Ulrich, Eric A.', '11/18/2010', 'Repayment: unspent campaign funds (surplus)', 'Repayment: unspent campaign funds (surplus)', '$1,320']\n",
      "['2009A', 'Ulrich, Eric A.', '08/12/2010', 'Repayment: unspent campaign funds (surplus)', 'Repayment: unspent campaign funds (surplus)', '$4,189']\n",
      "['2005', 'Blackwell, Eric', '03/13/2008', 'Failing to report in-kind contributions', 'Failing to demonstrate compliance with reporting requirements for receipts or disbursements', '$150']\n",
      "['2005', 'Blackwell, Eric', '03/13/2008', 'Failing to report in-kind contributions', 'Failing to demonstrate compliance with reporting requirements for receipts or disbursements', '$50']\n",
      "['2005', 'Blackwell, Eric', '03/13/2008', 'Failing to report in-kind contributions', 'Failing to demonstrate compliance with reporting requirements for receipts or disbursements', '$50']\n",
      "['2005', 'Blackwell, Eric', '03/13/2008', '225.72% monetary disbursements variance', 'Failing to demonstrate compliance with reporting requirements for receipts or disbursements', '$500']\n",
      "['2005', 'Blackwell, Eric', '03/13/2008', '19.69% monetary receipts variance', 'Failing to demonstrate compliance with reporting requirements for receipts or disbursements', '$500']\n",
      "['2005', 'Blackwell, Eric', '03/13/2008', '20% cash receipts variance', 'Failing to demonstrate compliance with reporting requirements for receipts or disbursements', 'VNP']\n",
      "['2005', 'Blackwell, Eric', '03/13/2008', 'Fraud and misrepresentation', 'Material misrepresentation; fraud; submission of false or ficticious information', 'No violation']\n",
      "['2005', 'Blackwell, Eric', '03/13/2008', 'Breach of certification', 'Breach of certification', 'No violation']\n"
     ]
    }
   ],
   "source": [
    "with open('violations.csv', 'r') as f:\n",
    "    data = csv.reader(f)\n",
    "    for row in data:\n",
    "        if \"Eric\" in row[1]:\n",
    "            print(row)"
   ]
  },
  {
   "cell_type": "markdown",
   "id": "82c2da8e-8f5a-47e1-a092-a535f700ebbb",
   "metadata": {},
   "source": [
    "## group challenge:\n",
    "Write a loop that prints out the Candidate's name and Violation if that violation contains the word \"contribution\" in it. Use f-strings so that you can format the answer the following:\n",
    "\n",
    "Name: [candidate name], Violation: [candidate violation]\n",
    "\n",
    "Here's the answer, but don't look until you've spent at least 5 mintues working on it!\n",
    "\n",
    "```python\n",
    "with open ('violations.csv', 'r') as f:\n",
    "    dict_reader = csv.reader(f)\n",
    "    for row in dict_reader:\n",
    "        violation = row[3]\n",
    "        if \"contribution\" in violation:\n",
    "            candidate = row[1]\n",
    "            print(f'Name: {candidate}, Violation: {violation}')\n",
    "```"
   ]
  },
  {
   "cell_type": "markdown",
   "id": "66f214c1-623f-4b22-969f-2446bd9e5f69",
   "metadata": {},
   "source": [
    "## the end\n",
    "\n",
    "Congratulations on making it through the workshop! You are officially a beginner now.\n",
    "\n",
    "In the next workshop, we build on these skills in the practice of web scraping and APIs. We will create a dataset that we will clean, process, and analyze in future sessions."
   ]
  }
 ],
 "metadata": {
  "kernelspec": {
   "display_name": "Python 3 (ipykernel)",
   "language": "python",
   "name": "python3"
  },
  "language_info": {
   "codemirror_mode": {
    "name": "ipython",
    "version": 3
   },
   "file_extension": ".py",
   "mimetype": "text/x-python",
   "name": "python",
   "nbconvert_exporter": "python",
   "pygments_lexer": "ipython3",
   "version": "3.13.0"
  }
 },
 "nbformat": 4,
 "nbformat_minor": 5
}