{
 "cells": [
  {
   "cell_type": "markdown",
   "metadata": {},
   "source": [
    "# loops\n",
    "\n",
    "Loops are probably one of the more conceptually difficult concepts for\n",
    "new programmers, but once they are used a bit in practice, it becomes\n",
    "easier to grasp. \n",
    "\n",
    "Loops are ways of working with collections of data\n",
    "(like lists) by isolating each item from the list, one at a time. A loop\n",
    "will go through each item in a list, like a list of breakfast\n",
    "items, to do a specific action to each item, like to display the item."
   ]
  },
  {
   "cell_type": "code",
   "execution_count": 1,
   "metadata": {
    "vscode": {
     "languageId": "plaintext"
    }
   },
   "outputs": [
    {
     "name": "stdout",
     "output_type": "stream",
     "text": [
      "egg sandwich\n",
      "coffee\n",
      "biscuits and gravy\n",
      "strawberries\n",
      "omelette\n"
     ]
    }
   ],
   "source": [
    "breakfast = ['egg sandwich', 'coffee', 'biscuits and gravy', 'strawberries', 'omelette']\n",
    "\n",
    "for item in breakfast:\n",
    "  print(item)"
   ]
  },
  {
   "cell_type": "markdown",
   "metadata": {},
   "source": [
    "\n",
    "Here, we\\'ve also introduced a new function, `print()`. This function\n",
    "will \\\"print,\\\" or display, whatever data you pass into the parentheses.\n",
    "\n",
    "*Some historical context for the name of the `print()` function: it comes\n",
    "from a time before screens, when computers literally **printed** the\n",
    "output of their computations.*\n",
    "\n",
    "Loops work with strings as well. We might print each character (or\n",
    "letter) from a string like \\\"hello\\\":"
   ]
  },
  {
   "cell_type": "code",
   "execution_count": 2,
   "metadata": {
    "vscode": {
     "languageId": "plaintext"
    }
   },
   "outputs": [
    {
     "name": "stdout",
     "output_type": "stream",
     "text": [
      "h\n",
      "e\n",
      "l\n",
      "l\n",
      "o\n"
     ]
    }
   ],
   "source": [
    "for letter in 'hello':\n",
    "  print(letter)"
   ]
  },
  {
   "cell_type": "markdown",
   "metadata": {},
   "source": [
    "The syntax for writing a loop contains two lines. The first line\n",
    "identifies one item from a collection of items, such as a list. You can\n",
    "think of the first line saying something like \\\"for (each) item (inside\n",
    "this) breakfast (list).\\\" Then, the second line specifies the action\n",
    "done to that item, in this case, the instruction to print that item."
   ]
  },
  {
   "cell_type": "code",
   "execution_count": 3,
   "metadata": {
    "vscode": {
     "languageId": "plaintext"
    }
   },
   "outputs": [
    {
     "name": "stdout",
     "output_type": "stream",
     "text": [
      "egg sandwich\n",
      "coffee\n",
      "biscuits and gravy\n",
      "strawberries\n",
      "omelette\n"
     ]
    }
   ],
   "source": [
    "for item in breakfast:\n",
    "    print(item)"
   ]
  },
  {
   "cell_type": "markdown",
   "metadata": {},
   "source": [
    "```python\n",
    "for each item inside breakfast:\n",
    "  display each item\n",
    "  ```"
   ]
  },
  {
   "cell_type": "markdown",
   "metadata": {},
   "source": [
    "## a note on variable names\n",
    "\n",
    "The variable which indicates each individual item (`item`) can be\n",
    "assigned to any name. That\\'s because the variable is assigned on the\n",
    "fly, *as the loop is being executed*. This goes against usual practices\n",
    "with variable assignments, which always need to be assigned beforehand,\n",
    "or there will be a `NameError` because the variable hasn\\'t been\n",
    "defined."
   ]
  },
  {
   "cell_type": "code",
   "execution_count": 4,
   "metadata": {
    "vscode": {
     "languageId": "plaintext"
    }
   },
   "outputs": [
    {
     "name": "stdout",
     "output_type": "stream",
     "text": [
      "h\n",
      "e\n",
      "l\n",
      "l\n",
      "o\n"
     ]
    }
   ],
   "source": [
    "y = 'hello'\n",
    "\n",
    "for x in y:\n",
    "    print(x)"
   ]
  },
  {
   "cell_type": "markdown",
   "metadata": {},
   "source": [
    "For example, we could name the individual item x, or any other\n",
    "letter, and the loop would run just fine. However, it\\'s helpful to give\n",
    "as meaningful names as possible, to avoid code that gives\n",
    "no indication about the data contained in the variables. This will be\n",
    "really useful for other people reading your code as well. The idea is\n",
    "to be semantically meaningful while keeping your code as concise as\n",
    "possible.\n",
    "\n",
    "When using variables in loops, the convention is to use the letter `i` as\n",
    "shorthand for indicating an item from a list."
   ]
  },
  {
   "cell_type": "code",
   "execution_count": 5,
   "metadata": {
    "vscode": {
     "languageId": "plaintext"
    }
   },
   "outputs": [
    {
     "name": "stdout",
     "output_type": "stream",
     "text": [
      "egg sandwich\n",
      "coffee\n",
      "biscuits and gravy\n",
      "strawberries\n",
      "omelette\n"
     ]
    }
   ],
   "source": [
    "for i in breakfast:\n",
    "    print(i)"
   ]
  },
  {
   "cell_type": "markdown",
   "metadata": {},
   "source": [
    "## `string` methods\n",
    "\n",
    "Loops are great ways to do things en masse to data, such as to\n",
    "individual words within a text, in other words, to `string` type data\n",
    "that is contained within a `list`.\n",
    "\n",
    "For example, you\n",
    "might want to lowercase all of the letters from our dataset to prepare it for analysis (explained in further detail in the \"Text Cleaning\" workshop). To do that, use the `lower()` method."
   ]
  },
  {
   "cell_type": "code",
   "execution_count": 6,
   "metadata": {
    "vscode": {
     "languageId": "plaintext"
    }
   },
   "outputs": [
    {
     "data": {
      "text/plain": [
       "'hello'"
      ]
     },
     "execution_count": 6,
     "metadata": {},
     "output_type": "execute_result"
    }
   ],
   "source": [
    "'HELLO'.lower()"
   ]
  },
  {
   "cell_type": "markdown",
   "metadata": {},
   "source": [
    "Now, let\\'s combine this `string` method with what we know about loops.\n",
    "Let\\'s try it on a list of items with varying levels of capitalization."
   ]
  },
  {
   "cell_type": "code",
   "execution_count": 7,
   "metadata": {
    "vscode": {
     "languageId": "plaintext"
    }
   },
   "outputs": [
    {
     "name": "stdout",
     "output_type": "stream",
     "text": [
      "lisbon\n",
      "setubal\n",
      "alcacer do sal\n",
      "lagos\n"
     ]
    }
   ],
   "source": [
    "cities = ['Lisbon', 'Setubal', 'Alcacer do Sal', 'Lagos']\n",
    "for city in cities:\n",
    "   print(city.lower())"
   ]
  },
  {
   "cell_type": "markdown",
   "metadata": {},
   "source": [
    "\n",
    "Here, the loop goes through each item in the list of \\\"cities,\\\" and\n",
    "lowercases that item while also printing it (remember the `print()`\n",
    "function?). Here, the `lower()` method is attached to the \\\"city\\\"\n",
    "variable, which is assigned to each item, or city name, in the list.\n",
    "\n",
    "Let\\'s try to do the same with a longer list, like the text from the\n",
    "\\\"Feminist Data Manifest-NO\\\". First, though, we need to split our\n",
    "`text`, which is currently one long string, into individual strings\n",
    "within a list. For that, we use the string method, `split()`, which we\n",
    "saw briefly above when we talked about list methods."
   ]
  },
  {
   "cell_type": "code",
   "execution_count": 8,
   "metadata": {
    "vscode": {
     "languageId": "plaintext"
    }
   },
   "outputs": [
    {
     "data": {
      "text/plain": [
       "['1.',\n",
       " 'We',\n",
       " 'refuse',\n",
       " 'to',\n",
       " 'operate',\n",
       " 'under',\n",
       " 'the',\n",
       " 'assumption',\n",
       " 'that',\n",
       " 'risk']"
      ]
     },
     "execution_count": 8,
     "metadata": {},
     "output_type": "execute_result"
    }
   ],
   "source": [
    "text = ''' \n",
    "  1. We refuse to operate under the assumption that risk and harm\n",
    "  associated with data practices can be bounded to  mean the same\n",
    "  thing for everyone, everywhere, at every time. We commit to\n",
    "  acknowledging how historical and systemic patterns of violence \n",
    "  and exploitation produce differential vulnerabilities for \n",
    "  communities.\n",
    "  2. We refuse to be disciplined by data, devices, and practices \n",
    "  that seek to shape and normalize racialized, gendered, and \n",
    "  differently-abled bodies in ways that make us available to be \n",
    "  tracked, monitored, and surveilled. We commit to taking back \n",
    "  control over the ways we behave, live, and engage with data and \n",
    "  its technologies.\n",
    "  3. We refuse the use of data about people in perpetuity. We \n",
    "  commit to embracing agency and working with intentionality, \n",
    "  preparing bodies or corpuses of data to be laid to rest when they \n",
    "  are not being used in service to the people about whom they were \n",
    "  created.\n",
    "  4. We refuse to understand data as disembodied and thereby \n",
    "  dehumanized and departicularized. We commit to understanding \n",
    "  data as always and variously attached to bodies; we vow to \n",
    "  interrogate the biopolitical implications of data with a keen \n",
    "  eye to gender, race, sexuality, class, disability, nationality, \n",
    "  and other forms of embodied difference.\n",
    "  5. We refuse any code of phony “ethics” and false proclamations of \n",
    "  transparency that are wielded as cover, as tools of power, as forms \n",
    "  for escape that let the people who create systems off the hook from \n",
    "  accountability or responsibility. We commit to a feminist data \n",
    "  ethics that explicitly seeks equity and demands justice by helping \n",
    "  us understand and shift how power works.'''\n",
    "\n",
    "words = text.split()\n",
    "\n",
    "# print out just the first 10 words\n",
    "words[:10]"
   ]
  },
  {
   "cell_type": "markdown",
   "metadata": {},
   "source": [
    "\n",
    "We can see our text as a list of strings, saved to the variable\n",
    "\\\"words.\\\" Now, we can do things programmatically to each `string` in\n",
    "the `list`, like lowercase the items."
   ]
  },
  {
   "cell_type": "code",
   "execution_count": 9,
   "metadata": {
    "vscode": {
     "languageId": "plaintext"
    }
   },
   "outputs": [
    {
     "data": {
      "text/plain": [
       "['1.',\n",
       " 'we',\n",
       " 'refuse',\n",
       " 'to',\n",
       " 'operate',\n",
       " 'under',\n",
       " 'the',\n",
       " 'assumption',\n",
       " 'that',\n",
       " 'risk',\n",
       " 'and',\n",
       " 'harm',\n",
       " 'associated',\n",
       " 'with',\n",
       " 'data',\n",
       " 'practices',\n",
       " 'can',\n",
       " 'be',\n",
       " 'bounded',\n",
       " 'to',\n",
       " 'mean',\n",
       " 'the',\n",
       " 'same',\n",
       " 'thing',\n",
       " 'for',\n",
       " 'everyone,',\n",
       " 'everywhere,',\n",
       " 'at',\n",
       " 'every',\n",
       " 'time.',\n",
       " 'we',\n",
       " 'commit',\n",
       " 'to',\n",
       " 'acknowledging',\n",
       " 'how',\n",
       " 'historical',\n",
       " 'and',\n",
       " 'systemic',\n",
       " 'patterns',\n",
       " 'of',\n",
       " 'violence',\n",
       " 'and',\n",
       " 'exploitation',\n",
       " 'produce',\n",
       " 'differential',\n",
       " 'vulnerabilities',\n",
       " 'for',\n",
       " 'communities.',\n",
       " '2.',\n",
       " 'we',\n",
       " 'refuse',\n",
       " 'to',\n",
       " 'be',\n",
       " 'disciplined',\n",
       " 'by',\n",
       " 'data,',\n",
       " 'devices,',\n",
       " 'and',\n",
       " 'practices',\n",
       " 'that',\n",
       " 'seek',\n",
       " 'to',\n",
       " 'shape',\n",
       " 'and',\n",
       " 'normalize',\n",
       " 'racialized,',\n",
       " 'gendered,',\n",
       " 'and',\n",
       " 'differently-abled',\n",
       " 'bodies',\n",
       " 'in',\n",
       " 'ways',\n",
       " 'that',\n",
       " 'make',\n",
       " 'us',\n",
       " 'available',\n",
       " 'to',\n",
       " 'be',\n",
       " 'tracked,',\n",
       " 'monitored,',\n",
       " 'and',\n",
       " 'surveilled.',\n",
       " 'we',\n",
       " 'commit',\n",
       " 'to',\n",
       " 'taking',\n",
       " 'back',\n",
       " 'control',\n",
       " 'over',\n",
       " 'the',\n",
       " 'ways',\n",
       " 'we',\n",
       " 'behave,',\n",
       " 'live,',\n",
       " 'and',\n",
       " 'engage',\n",
       " 'with',\n",
       " 'data',\n",
       " 'and',\n",
       " 'its',\n",
       " 'technologies.',\n",
       " '3.',\n",
       " 'we',\n",
       " 'refuse',\n",
       " 'the',\n",
       " 'use',\n",
       " 'of',\n",
       " 'data',\n",
       " 'about',\n",
       " 'people',\n",
       " 'in',\n",
       " 'perpetuity.',\n",
       " 'we',\n",
       " 'commit',\n",
       " 'to',\n",
       " 'embracing',\n",
       " 'agency',\n",
       " 'and',\n",
       " 'working',\n",
       " 'with',\n",
       " 'intentionality,',\n",
       " 'preparing',\n",
       " 'bodies',\n",
       " 'or',\n",
       " 'corpuses',\n",
       " 'of',\n",
       " 'data',\n",
       " 'to',\n",
       " 'be',\n",
       " 'laid',\n",
       " 'to',\n",
       " 'rest',\n",
       " 'when',\n",
       " 'they',\n",
       " 'are',\n",
       " 'not',\n",
       " 'being',\n",
       " 'used',\n",
       " 'in',\n",
       " 'service',\n",
       " 'to',\n",
       " 'the',\n",
       " 'people',\n",
       " 'about',\n",
       " 'whom',\n",
       " 'they',\n",
       " 'were',\n",
       " 'created.',\n",
       " '4.',\n",
       " 'we',\n",
       " 'refuse',\n",
       " 'to',\n",
       " 'understand',\n",
       " 'data',\n",
       " 'as',\n",
       " 'disembodied',\n",
       " 'and',\n",
       " 'thereby',\n",
       " 'dehumanized',\n",
       " 'and',\n",
       " 'departicularized.',\n",
       " 'we',\n",
       " 'commit',\n",
       " 'to',\n",
       " 'understanding',\n",
       " 'data',\n",
       " 'as',\n",
       " 'always',\n",
       " 'and',\n",
       " 'variously',\n",
       " 'attached',\n",
       " 'to',\n",
       " 'bodies;',\n",
       " 'we',\n",
       " 'vow',\n",
       " 'to',\n",
       " 'interrogate',\n",
       " 'the',\n",
       " 'biopolitical',\n",
       " 'implications',\n",
       " 'of',\n",
       " 'data',\n",
       " 'with',\n",
       " 'a',\n",
       " 'keen',\n",
       " 'eye',\n",
       " 'to',\n",
       " 'gender,',\n",
       " 'race,',\n",
       " 'sexuality,',\n",
       " 'class,',\n",
       " 'disability,',\n",
       " 'nationality,',\n",
       " 'and',\n",
       " 'other',\n",
       " 'forms',\n",
       " 'of',\n",
       " 'embodied',\n",
       " 'difference.',\n",
       " '5.',\n",
       " 'we',\n",
       " 'refuse',\n",
       " 'any',\n",
       " 'code',\n",
       " 'of',\n",
       " 'phony',\n",
       " '“ethics”',\n",
       " 'and',\n",
       " 'false',\n",
       " 'proclamations',\n",
       " 'of',\n",
       " 'transparency',\n",
       " 'that',\n",
       " 'are',\n",
       " 'wielded',\n",
       " 'as',\n",
       " 'cover,',\n",
       " 'as',\n",
       " 'tools',\n",
       " 'of',\n",
       " 'power,',\n",
       " 'as',\n",
       " 'forms',\n",
       " 'for',\n",
       " 'escape',\n",
       " 'that',\n",
       " 'let',\n",
       " 'the',\n",
       " 'people',\n",
       " 'who',\n",
       " 'create',\n",
       " 'systems',\n",
       " 'off',\n",
       " 'the',\n",
       " 'hook',\n",
       " 'from',\n",
       " 'accountability',\n",
       " 'or',\n",
       " 'responsibility.',\n",
       " 'we',\n",
       " 'commit',\n",
       " 'to',\n",
       " 'a',\n",
       " 'feminist',\n",
       " 'data',\n",
       " 'ethics',\n",
       " 'that',\n",
       " 'explicitly',\n",
       " 'seeks',\n",
       " 'equity',\n",
       " 'and',\n",
       " 'demands',\n",
       " 'justice',\n",
       " 'by',\n",
       " 'helping',\n",
       " 'us',\n",
       " 'understand',\n",
       " 'and',\n",
       " 'shift',\n",
       " 'how',\n",
       " 'power',\n",
       " 'works.']"
      ]
     },
     "execution_count": 9,
     "metadata": {},
     "output_type": "execute_result"
    }
   ],
   "source": [
    "words_lower = []\n",
    "for i in words:\n",
    "  words_lower.append(i.lower())\n",
    "\n",
    "words_lower"
   ]
  },
  {
   "cell_type": "markdown",
   "metadata": {},
   "source": [
    "This loop goes through each item in the list of words, lowercases it,\n",
    "then adds that word to a new list, called `words_lower`.\n",
    "\n",
    "Notice here that I\\'ve introduced a few new things:\n",
    "\n",
    "1.  Above the loop, I\\'ve created an empty list, called\n",
    "    `words_lower` where we will eventually drop our lowercased\n",
    "    words.\n",
    "2.  The first line of the loop uses the `i` variable to stand in for\n",
    "    each \"item\" in the list, which is a popular convention.\n",
    "3.  The last line of the loop uses a `list` method to add data to our\n",
    "    empty list. Notice that the list method `append()` is attached to a\n",
    "    list object, while the string method `lower()` is attached to a\n",
    "    string object.\n"
   ]
  },
  {
   "cell_type": "markdown",
   "metadata": {},
   "source": [
    "## group challenge\n",
    "First, look up `f-strings` in python. Then, write a loop that prints out the square of the first 5 prime numbers (1, 3, 5, 7, 11), in individual strings like, \"the square of 1 is 1\". \n",
    "\n",
    "Solution (but don't look unless you've tried to solve the challenge for 5 minutes!):\n",
    "\n",
    "```python\n",
    "prime_numbers = [1, 3, 5, 7, 11]\n",
    "for i in prime_numbers:\n",
    "    print(f'the square of {i} is {i*i}')"
   ]
  }
 ],
 "metadata": {
  "kernelspec": {
   "display_name": "Python 3 (ipykernel)",
   "language": "python",
   "name": "python3"
  },
  "language_info": {
   "codemirror_mode": {
    "name": "ipython",
    "version": 3
   },
   "file_extension": ".py",
   "mimetype": "text/x-python",
   "name": "python",
   "nbconvert_exporter": "python",
   "pygments_lexer": "ipython3",
   "version": "3.13.0"
  }
 },
 "nbformat": 4,
 "nbformat_minor": 4
}