{
 "cells": [
  {
   "cell_type": "code",
   "execution_count": 1,
   "id": "e68ccf74-881f-4e20-8240-8f3fe26c0b36",
   "metadata": {},
   "outputs": [],
   "source": [
    "astrology = {\n",
    "    'names': ['filipa', 'alexa', 'youyuan', 'alice', 'makeda', 'christine', 'sofie', 'james', 'andrew'],\n",
    "    'signs': ['gemini', 'scorpio', 'virgo', 'sagittarius', 'taurus', 'aries', 'cancer', 'gemini', 'taurus']\n",
    "}"
   ]
  },
  {
   "cell_type": "code",
   "execution_count": 2,
   "id": "9978f331-0f3a-436a-94e2-5a88411ab2b6",
   "metadata": {},
   "outputs": [
    {
     "data": {
      "text/plain": [
       "dict"
      ]
     },
     "execution_count": 2,
     "metadata": {},
     "output_type": "execute_result"
    }
   ],
   "source": [
    "type(astrology)"
   ]
  },
  {
   "cell_type": "code",
   "execution_count": 3,
   "id": "139b4dd0-a29b-4d81-babd-16c5964242a9",
   "metadata": {},
   "outputs": [
    {
     "data": {
      "text/plain": [
       "['filipa',\n",
       " 'alexa',\n",
       " 'youyuan',\n",
       " 'alice',\n",
       " 'makeda',\n",
       " 'christine',\n",
       " 'sofie',\n",
       " 'james',\n",
       " 'andrew']"
      ]
     },
     "execution_count": 3,
     "metadata": {},
     "output_type": "execute_result"
    }
   ],
   "source": [
    "astrology['names']"
   ]
  },
  {
   "cell_type": "code",
   "execution_count": 4,
   "id": "525b10e3-4713-4bb2-94d4-8592be2c0990",
   "metadata": {},
   "outputs": [
    {
     "data": {
      "text/plain": [
       "list"
      ]
     },
     "execution_count": 4,
     "metadata": {},
     "output_type": "execute_result"
    }
   ],
   "source": [
    "type(astrology['names'])"
   ]
  },
  {
   "cell_type": "code",
   "execution_count": 6,
   "id": "02d406e2-b268-4084-a41e-5a3c4733d792",
   "metadata": {},
   "outputs": [
    {
     "data": {
      "text/plain": [
       "'sagittarius'"
      ]
     },
     "execution_count": 6,
     "metadata": {},
     "output_type": "execute_result"
    }
   ],
   "source": [
    "astrology['signs'][3]"
   ]
  },
  {
   "cell_type": "code",
   "execution_count": 7,
   "id": "94bc7aaf-3c54-4e93-8b18-389a88529f6a",
   "metadata": {},
   "outputs": [
    {
     "data": {
      "text/plain": [
       "{'names': ['filipa',\n",
       "  'alexa',\n",
       "  'youyuan',\n",
       "  'alice',\n",
       "  'makeda',\n",
       "  'christine',\n",
       "  'sofie',\n",
       "  'james',\n",
       "  'andrew'],\n",
       " 'signs': ['gemini',\n",
       "  'scorpio',\n",
       "  'virgo',\n",
       "  'sagittarius',\n",
       "  'taurus',\n",
       "  'aries',\n",
       "  'cancer',\n",
       "  'gemini',\n",
       "  'taurus']}"
      ]
     },
     "execution_count": 7,
     "metadata": {},
     "output_type": "execute_result"
    }
   ],
   "source": [
    "astrology"
   ]
  },
  {
   "cell_type": "code",
   "execution_count": 9,
   "id": "ed58ef71-816e-4155-9495-a3edc5e53d29",
   "metadata": {},
   "outputs": [],
   "source": [
    "import pandas as pd\n",
    "\n",
    "df = pd.DataFrame(astrology)"
   ]
  },
  {
   "cell_type": "code",
   "execution_count": 10,
   "id": "4a8f5bf7-cdb0-47f4-ad5c-bb0d57515400",
   "metadata": {},
   "outputs": [
    {
     "data": {
      "text/html": [
       "<div>\n",
       "<style scoped>\n",
       "    .dataframe tbody tr th:only-of-type {\n",
       "        vertical-align: middle;\n",
       "    }\n",
       "\n",
       "    .dataframe tbody tr th {\n",
       "        vertical-align: top;\n",
       "    }\n",
       "\n",
       "    .dataframe thead th {\n",
       "        text-align: right;\n",
       "    }\n",
       "</style>\n",
       "<table border=\"1\" class=\"dataframe\">\n",
       "  <thead>\n",
       "    <tr style=\"text-align: right;\">\n",
       "      <th></th>\n",
       "      <th>names</th>\n",
       "      <th>signs</th>\n",
       "    </tr>\n",
       "  </thead>\n",
       "  <tbody>\n",
       "    <tr>\n",
       "      <th>0</th>\n",
       "      <td>filipa</td>\n",
       "      <td>gemini</td>\n",
       "    </tr>\n",
       "    <tr>\n",
       "      <th>1</th>\n",
       "      <td>alexa</td>\n",
       "      <td>scorpio</td>\n",
       "    </tr>\n",
       "    <tr>\n",
       "      <th>2</th>\n",
       "      <td>youyuan</td>\n",
       "      <td>virgo</td>\n",
       "    </tr>\n",
       "    <tr>\n",
       "      <th>3</th>\n",
       "      <td>alice</td>\n",
       "      <td>sagittarius</td>\n",
       "    </tr>\n",
       "    <tr>\n",
       "      <th>4</th>\n",
       "      <td>makeda</td>\n",
       "      <td>taurus</td>\n",
       "    </tr>\n",
       "    <tr>\n",
       "      <th>5</th>\n",
       "      <td>christine</td>\n",
       "      <td>aries</td>\n",
       "    </tr>\n",
       "    <tr>\n",
       "      <th>6</th>\n",
       "      <td>sofie</td>\n",
       "      <td>cancer</td>\n",
       "    </tr>\n",
       "    <tr>\n",
       "      <th>7</th>\n",
       "      <td>james</td>\n",
       "      <td>gemini</td>\n",
       "    </tr>\n",
       "    <tr>\n",
       "      <th>8</th>\n",
       "      <td>andrew</td>\n",
       "      <td>taurus</td>\n",
       "    </tr>\n",
       "  </tbody>\n",
       "</table>\n",
       "</div>"
      ],
      "text/plain": [
       "       names        signs\n",
       "0     filipa       gemini\n",
       "1      alexa      scorpio\n",
       "2    youyuan        virgo\n",
       "3      alice  sagittarius\n",
       "4     makeda       taurus\n",
       "5  christine        aries\n",
       "6      sofie       cancer\n",
       "7      james       gemini\n",
       "8     andrew       taurus"
      ]
     },
     "execution_count": 10,
     "metadata": {},
     "output_type": "execute_result"
    }
   ],
   "source": [
    "df"
   ]
  },
  {
   "cell_type": "code",
   "execution_count": null,
   "id": "5974be6a-2281-49fe-a2d9-0609154f695b",
   "metadata": {},
   "outputs": [],
   "source": [
    "# .json is a dictionary structure\n",
    "# dataframes are a dictionary structure"
   ]
  },
  {
   "cell_type": "code",
   "execution_count": 11,
   "id": "f054ed01-41dc-4ac8-af8b-3b159c0e77b8",
   "metadata": {},
   "outputs": [],
   "source": [
    "import requests"
   ]
  },
  {
   "cell_type": "code",
   "execution_count": 12,
   "id": "38f1e34e-ce6e-4f2e-8b9d-fa0b4ccfe9e0",
   "metadata": {},
   "outputs": [],
   "source": [
    "# base_url, path, query/parameters/endpoints\n",
    "\n",
    "base_url = 'https://collectionapi.metmuseum.org' # root\n",
    "path = '/public/collection/v1/search'\n",
    "query = '?q=spirit'\n",
    "\n",
    "r = requests.get(f'{base_url}{path}{query}')"
   ]
  },
  {
   "cell_type": "code",
   "execution_count": 13,
   "id": "2d47353a-5d71-485f-8bf1-d0e6f8856fb0",
   "metadata": {},
   "outputs": [
    {
     "data": {
      "text/plain": [
       "<Response [200]>"
      ]
     },
     "execution_count": 13,
     "metadata": {},
     "output_type": "execute_result"
    }
   ],
   "source": [
    "r"
   ]
  },
  {
   "cell_type": "code",
   "execution_count": 14,
   "id": "b66f2058-6eea-49f9-92b9-9e3416f64ede",
   "metadata": {},
   "outputs": [
    {
     "data": {
      "text/plain": [
       "requests.models.Response"
      ]
     },
     "execution_count": 14,
     "metadata": {},
     "output_type": "execute_result"
    }
   ],
   "source": [
    "type(r)"
   ]
  },
  {
   "cell_type": "code",
   "execution_count": 15,
   "id": "81527ec6-c265-4427-8e05-dc6f62f7e2ea",
   "metadata": {},
   "outputs": [
    {
     "data": {
      "text/plain": [
       "['__attrs__',\n",
       " '__bool__',\n",
       " '__class__',\n",
       " '__delattr__',\n",
       " '__dict__',\n",
       " '__dir__',\n",
       " '__doc__',\n",
       " '__enter__',\n",
       " '__eq__',\n",
       " '__exit__',\n",
       " '__format__',\n",
       " '__ge__',\n",
       " '__getattribute__',\n",
       " '__getstate__',\n",
       " '__gt__',\n",
       " '__hash__',\n",
       " '__init__',\n",
       " '__init_subclass__',\n",
       " '__iter__',\n",
       " '__le__',\n",
       " '__lt__',\n",
       " '__module__',\n",
       " '__ne__',\n",
       " '__new__',\n",
       " '__nonzero__',\n",
       " '__reduce__',\n",
       " '__reduce_ex__',\n",
       " '__repr__',\n",
       " '__setattr__',\n",
       " '__setstate__',\n",
       " '__sizeof__',\n",
       " '__str__',\n",
       " '__subclasshook__',\n",
       " '__weakref__',\n",
       " '_content',\n",
       " '_content_consumed',\n",
       " '_next',\n",
       " 'apparent_encoding',\n",
       " 'close',\n",
       " 'connection',\n",
       " 'content',\n",
       " 'cookies',\n",
       " 'elapsed',\n",
       " 'encoding',\n",
       " 'headers',\n",
       " 'history',\n",
       " 'is_permanent_redirect',\n",
       " 'is_redirect',\n",
       " 'iter_content',\n",
       " 'iter_lines',\n",
       " 'json',\n",
       " 'links',\n",
       " 'next',\n",
       " 'ok',\n",
       " 'raise_for_status',\n",
       " 'raw',\n",
       " 'reason',\n",
       " 'request',\n",
       " 'status_code',\n",
       " 'text',\n",
       " 'url']"
      ]
     },
     "execution_count": 15,
     "metadata": {},
     "output_type": "execute_result"
    }
   ],
   "source": [
    "dir(r)"
   ]
  },
  {
   "cell_type": "code",
   "execution_count": 16,
   "id": "33bfde57-57a6-419d-8d45-cbb5eb1947cf",
   "metadata": {},
   "outputs": [
    {
     "data": {
      "text/plain": [
       "{'Content-Type': 'application/json; charset=UTF-8', 'Vary': 'Origin', 'Access-Control-Allow-Origin': '*', 'X-Powered-By': 'ARR/3.0, ASP.NET', 'Date': 'Wed, 05 Mar 2025 20:40:10 GMT', 'Set-Cookie': 'visid_incap_1662004=wPED/27oRMe7T3JXGLHY9qq2yGcAAAAAQUIPAAAAAADOKx9ZkK2ZdeG0gxiPuaF3; expires=Thu, 05 Mar 2026 08:54:47 GMT; HttpOnly; path=/; Domain=.metmuseum.org, incap_ses_159_1662004=a9P5SC6P10tPLs+N6eE0Aqq2yGcAAAAAEs+c+imc24aDLKvDot2KrA==; path=/; Domain=.metmuseum.org', 'X-CDN': 'Imperva', 'Content-Encoding': 'gzip', 'Transfer-Encoding': 'chunked', 'X-Iinfo': '9-8687502-8687505 NNYY CT(6 6 0) RT(1741207209977 18) q(0 0 0 -1) r(2 2) U12'}"
      ]
     },
     "execution_count": 16,
     "metadata": {},
     "output_type": "execute_result"
    }
   ],
   "source": [
    "r.headers"
   ]
  },
  {
   "cell_type": "code",
   "execution_count": 18,
   "id": "c1b7e2eb-2d44-4ccd-a1d8-703d56f8da07",
   "metadata": {},
   "outputs": [
    {
     "data": {
      "text/plain": [
       "requests.models.Response"
      ]
     },
     "execution_count": 18,
     "metadata": {},
     "output_type": "execute_result"
    }
   ],
   "source": [
    "type(r)"
   ]
  },
  {
   "cell_type": "code",
   "execution_count": 19,
   "id": "9148ee27-ef24-4b5f-ab4c-496b30978399",
   "metadata": {},
   "outputs": [],
   "source": [
    "parsed = r.json()"
   ]
  },
  {
   "cell_type": "code",
   "execution_count": 20,
   "id": "a5224347-056d-45d9-b02b-b1a87b2f6aa8",
   "metadata": {},
   "outputs": [
    {
     "data": {
      "text/plain": [
       "dict"
      ]
     },
     "execution_count": 20,
     "metadata": {},
     "output_type": "execute_result"
    }
   ],
   "source": [
    "type(parsed)"
   ]
  },
  {
   "cell_type": "code",
   "execution_count": 21,
   "id": "25678426-c79e-4363-99ee-7ee8d3258487",
   "metadata": {},
   "outputs": [
    {
     "data": {
      "text/plain": [
       "['__class__',\n",
       " '__class_getitem__',\n",
       " '__contains__',\n",
       " '__delattr__',\n",
       " '__delitem__',\n",
       " '__dir__',\n",
       " '__doc__',\n",
       " '__eq__',\n",
       " '__format__',\n",
       " '__ge__',\n",
       " '__getattribute__',\n",
       " '__getitem__',\n",
       " '__getstate__',\n",
       " '__gt__',\n",
       " '__hash__',\n",
       " '__init__',\n",
       " '__init_subclass__',\n",
       " '__ior__',\n",
       " '__iter__',\n",
       " '__le__',\n",
       " '__len__',\n",
       " '__lt__',\n",
       " '__ne__',\n",
       " '__new__',\n",
       " '__or__',\n",
       " '__reduce__',\n",
       " '__reduce_ex__',\n",
       " '__repr__',\n",
       " '__reversed__',\n",
       " '__ror__',\n",
       " '__setattr__',\n",
       " '__setitem__',\n",
       " '__sizeof__',\n",
       " '__str__',\n",
       " '__subclasshook__',\n",
       " 'clear',\n",
       " 'copy',\n",
       " 'fromkeys',\n",
       " 'get',\n",
       " 'items',\n",
       " 'keys',\n",
       " 'pop',\n",
       " 'popitem',\n",
       " 'setdefault',\n",
       " 'update',\n",
       " 'values']"
      ]
     },
     "execution_count": 21,
     "metadata": {},
     "output_type": "execute_result"
    }
   ],
   "source": [
    "dir(parsed)"
   ]
  },
  {
   "cell_type": "code",
   "execution_count": 28,
   "id": "ec4a5d00-e9c7-47cd-9e7c-53a235d6f128",
   "metadata": {},
   "outputs": [
    {
     "data": {
      "text/plain": [
       "dict_keys(['total', 'objectIDs'])"
      ]
     },
     "execution_count": 28,
     "metadata": {},
     "output_type": "execute_result"
    }
   ],
   "source": [
    "parsed.keys()"
   ]
  },
  {
   "cell_type": "code",
   "execution_count": 68,
   "id": "a2abdf54-72b1-4c34-aec3-85a018186de8",
   "metadata": {},
   "outputs": [
    {
     "data": {
      "text/plain": [
       "38379"
      ]
     },
     "execution_count": 68,
     "metadata": {},
     "output_type": "execute_result"
    }
   ],
   "source": [
    "parsed['objectIDs'][1]"
   ]
  },
  {
   "cell_type": "code",
   "execution_count": 70,
   "id": "4effbc20-19d8-458e-9d30-2ec089d23c16",
   "metadata": {},
   "outputs": [],
   "source": [
    "second = parsed['objectIDs'][1]"
   ]
  },
  {
   "cell_type": "code",
   "execution_count": 45,
   "id": "55862ad8-47a5-4bca-a4d8-1d4263863194",
   "metadata": {},
   "outputs": [
    {
     "data": {
      "text/plain": [
       "('https://collectionapi.metmuseum.org',\n",
       " '/public/collection/v1/search',\n",
       " '?q=spirit')"
      ]
     },
     "execution_count": 45,
     "metadata": {},
     "output_type": "execute_result"
    }
   ],
   "source": [
    "base_url, path, query"
   ]
  },
  {
   "cell_type": "code",
   "execution_count": 97,
   "id": "6357c4f9-321c-4669-b73d-7f0beb7d86cb",
   "metadata": {},
   "outputs": [],
   "source": [
    "objects_path = '/public/collection/v1/objects/'"
   ]
  },
  {
   "cell_type": "code",
   "execution_count": 98,
   "id": "198e637a-3674-4d72-b7e7-ac9f1c5e7be0",
   "metadata": {},
   "outputs": [],
   "source": [
    "r2 = requests.get(f'{base_url}{objects_path}{second}')"
   ]
  },
  {
   "cell_type": "code",
   "execution_count": 99,
   "id": "d6138fc2-93a4-48db-bb47-8e74acffbaec",
   "metadata": {},
   "outputs": [
    {
     "data": {
      "text/plain": [
       "<Response [200]>"
      ]
     },
     "execution_count": 99,
     "metadata": {},
     "output_type": "execute_result"
    }
   ],
   "source": [
    "r2"
   ]
  },
  {
   "cell_type": "code",
   "execution_count": 73,
   "id": "dc871072-4461-485c-9b72-8f99d1b30fb4",
   "metadata": {},
   "outputs": [],
   "source": [
    "parsed2 = r2.json()"
   ]
  },
  {
   "cell_type": "code",
   "execution_count": 74,
   "id": "ed37d954-7dc9-4001-8d4c-6cc454323cc7",
   "metadata": {},
   "outputs": [
    {
     "data": {
      "text/plain": [
       "{'objectID': 38379,\n",
       " 'isHighlight': True,\n",
       " 'accessionNumber': '27.186',\n",
       " 'accessionYear': '1927',\n",
       " 'isPublicDomain': True,\n",
       " 'primaryImage': 'https://images.metmuseum.org/CRDImages/as/original/DP251641.jpg',\n",
       " 'primaryImageSmall': 'https://images.metmuseum.org/CRDImages/as/web-large/DP251641.jpg',\n",
       " 'additionalImages': ['https://images.metmuseum.org/CRDImages/as/original/DP251652.jpg'],\n",
       " 'constituents': None,\n",
       " 'department': 'Asian Art',\n",
       " 'objectName': 'Bracket',\n",
       " 'title': 'Tree Spirit Deity (Yakshi)',\n",
       " 'culture': 'India (Uttar Pradesh, Mathura region)',\n",
       " 'period': '',\n",
       " 'dynasty': '',\n",
       " 'reign': '',\n",
       " 'portfolio': '',\n",
       " 'artistRole': '',\n",
       " 'artistPrefix': '',\n",
       " 'artistDisplayName': '',\n",
       " 'artistDisplayBio': '',\n",
       " 'artistSuffix': '',\n",
       " 'artistAlphaSort': '',\n",
       " 'artistNationality': '',\n",
       " 'artistBeginDate': '',\n",
       " 'artistEndDate': '',\n",
       " 'artistGender': '',\n",
       " 'artistWikidata_URL': '',\n",
       " 'artistULAN_URL': '',\n",
       " 'objectDate': '1st–2nd century',\n",
       " 'objectBeginDate': 1,\n",
       " 'objectEndDate': 199,\n",
       " 'medium': 'Red sandstone',\n",
       " 'dimensions': 'H. 13 3/4 in. (34.9 cm); W. 12 1/2 in. (31.8 cm); D. 5 in. (12.7 cm)',\n",
       " 'measurements': [{'elementName': 'Overall',\n",
       "   'elementDescription': None,\n",
       "   'elementMeasurements': {'Depth': 12.7, 'Height': 34.9, 'Width': 31.8}}],\n",
       " 'creditLine': 'Rogers Fund, 1927',\n",
       " 'geographyType': '',\n",
       " 'city': '',\n",
       " 'state': '',\n",
       " 'county': '',\n",
       " 'country': '',\n",
       " 'region': '',\n",
       " 'subregion': '',\n",
       " 'locale': '',\n",
       " 'locus': '',\n",
       " 'excavation': '',\n",
       " 'river': '',\n",
       " 'classification': 'Sculpture',\n",
       " 'rightsAndReproduction': '',\n",
       " 'linkResource': '',\n",
       " 'metadataDate': '2024-09-27T04:53:43.14Z',\n",
       " 'repository': 'Metropolitan Museum of Art, New York, NY',\n",
       " 'objectURL': 'https://www.metmuseum.org/art/collection/search/38379',\n",
       " 'tags': [{'term': 'Kushan',\n",
       "   'AAT_URL': 'http://vocab.getty.edu/page/aat/300018886',\n",
       "   'Wikidata_URL': None},\n",
       "  {'term': 'Mathura',\n",
       "   'AAT_URL': 'http://vocab.getty.edu/page/aat/300106864',\n",
       "   'Wikidata_URL': None},\n",
       "  {'term': 'Deities',\n",
       "   'AAT_URL': 'http://vocab.getty.edu/page/aat/300343850',\n",
       "   'Wikidata_URL': 'https://www.wikidata.org/wiki/Q178885'}],\n",
       " 'objectWikidata_URL': 'https://www.wikidata.org/wiki/Q116377033',\n",
       " 'isTimelineWork': False,\n",
       " 'GalleryNumber': '235'}"
      ]
     },
     "execution_count": 74,
     "metadata": {},
     "output_type": "execute_result"
    }
   ],
   "source": [
    "parsed2"
   ]
  },
  {
   "cell_type": "code",
   "execution_count": 75,
   "id": "2108fd48-e23b-4ab5-9059-833929f3d3ca",
   "metadata": {},
   "outputs": [
    {
     "data": {
      "text/plain": [
       "'https://collectionapi.metmuseum.org'"
      ]
     },
     "execution_count": 75,
     "metadata": {},
     "output_type": "execute_result"
    }
   ],
   "source": [
    "base_url"
   ]
  },
  {
   "cell_type": "code",
   "execution_count": 76,
   "id": "b19db5a6-1440-4e25-ae38-38cd3597bf0c",
   "metadata": {},
   "outputs": [
    {
     "data": {
      "text/plain": [
       "'/public/collection/v1/search'"
      ]
     },
     "execution_count": 76,
     "metadata": {},
     "output_type": "execute_result"
    }
   ],
   "source": [
    "path"
   ]
  },
  {
   "cell_type": "code",
   "execution_count": 77,
   "id": "1e90ceb3-38d5-46bf-ba41-68824d6675fa",
   "metadata": {},
   "outputs": [],
   "source": [
    "query = '?q=women&isHighlight=True'"
   ]
  },
  {
   "cell_type": "code",
   "execution_count": 140,
   "id": "9768a7e6-ce71-487c-9d85-1c80b5268134",
   "metadata": {},
   "outputs": [],
   "source": [
    "women = requests.get(f'{base_url}{path}{query}')"
   ]
  },
  {
   "cell_type": "code",
   "execution_count": 141,
   "id": "255c4d1c-56cb-4f06-83d3-2e99f013945b",
   "metadata": {},
   "outputs": [
    {
     "data": {
      "text/plain": [
       "<Response [200]>"
      ]
     },
     "execution_count": 141,
     "metadata": {},
     "output_type": "execute_result"
    }
   ],
   "source": [
    "women"
   ]
  },
  {
   "cell_type": "code",
   "execution_count": 142,
   "id": "b6d7a692-cb5e-44e1-b219-f656485e3524",
   "metadata": {},
   "outputs": [],
   "source": [
    "parsed = women.json()"
   ]
  },
  {
   "cell_type": "code",
   "execution_count": 93,
   "id": "d34ecf34-86b8-407a-99ab-fb5db3fcd3db",
   "metadata": {},
   "outputs": [],
   "source": [
    "first = parsed['objectIDs'][0]"
   ]
  },
  {
   "cell_type": "code",
   "execution_count": 94,
   "id": "abacf55c-44e0-4d0b-9890-77a69a648bc3",
   "metadata": {},
   "outputs": [],
   "source": [
    "first_object = requests.get(f'{base_url}{objects_path}{first}')"
   ]
  },
  {
   "cell_type": "code",
   "execution_count": 95,
   "id": "a9fe6a14-3399-484e-b5ba-cbf34c8e889a",
   "metadata": {},
   "outputs": [
    {
     "data": {
      "text/plain": [
       "'/public/collection/v1/objects/'"
      ]
     },
     "execution_count": 95,
     "metadata": {},
     "output_type": "execute_result"
    }
   ],
   "source": [
    "objects_path"
   ]
  },
  {
   "cell_type": "code",
   "execution_count": 96,
   "id": "94c1fc8b-ae89-46ee-bf5f-c6360406cf7a",
   "metadata": {},
   "outputs": [
    {
     "data": {
      "text/plain": [
       "11157"
      ]
     },
     "execution_count": 96,
     "metadata": {},
     "output_type": "execute_result"
    }
   ],
   "source": [
    "first"
   ]
  },
  {
   "cell_type": "code",
   "execution_count": 85,
   "id": "7f79f713-c9a9-4a99-989f-7d46e570f2b7",
   "metadata": {},
   "outputs": [
    {
     "data": {
      "text/plain": [
       "<Response [200]>"
      ]
     },
     "execution_count": 85,
     "metadata": {},
     "output_type": "execute_result"
    }
   ],
   "source": [
    "first_object"
   ]
  },
  {
   "cell_type": "code",
   "execution_count": 109,
   "id": "1f0b3108-9318-4f91-b480-f9118becf6c0",
   "metadata": {},
   "outputs": [],
   "source": [
    "example = first_object.json()"
   ]
  },
  {
   "cell_type": "code",
   "execution_count": 116,
   "id": "ee39178b-6d81-4029-8648-e32f5a7d2181",
   "metadata": {},
   "outputs": [
    {
     "data": {
      "text/plain": [
       "'Harriet Goodhue Hosmer'"
      ]
     },
     "execution_count": 116,
     "metadata": {},
     "output_type": "execute_result"
    }
   ],
   "source": [
    "example['constituents'][0]['name']"
   ]
  },
  {
   "cell_type": "code",
   "execution_count": 118,
   "id": "ce5a8118-806e-4944-a8f7-aba22d99b7c6",
   "metadata": {},
   "outputs": [
    {
     "data": {
      "text/plain": [
       "'Daphne'"
      ]
     },
     "execution_count": 118,
     "metadata": {},
     "output_type": "execute_result"
    }
   ],
   "source": [
    "example['title']"
   ]
  },
  {
   "cell_type": "code",
   "execution_count": 143,
   "id": "08ce57c6-85d5-4bdc-870a-ef4c7eaf69ec",
   "metadata": {},
   "outputs": [],
   "source": [
    "hundred = parsed['objectIDs'][:100]"
   ]
  },
  {
   "cell_type": "code",
   "execution_count": 144,
   "id": "e881a6ea-2338-4924-8d1e-617d324e8ebd",
   "metadata": {},
   "outputs": [],
   "source": [
    "\n",
    "# for item in objectIDs\n",
    "# make a request on objects_path\n",
    "# parse the response\n",
    "# add response to list\n",
    "\n",
    "objects = []\n",
    "for item in hundred:\n",
    "    r = requests.get(f'{base_url}{objects_path}{item}')\n",
    "    parsed = r.json()\n",
    "    objects.append(parsed)"
   ]
  },
  {
   "cell_type": "code",
   "execution_count": 147,
   "id": "04b579a6-8872-414b-8906-e5702b567a1d",
   "metadata": {},
   "outputs": [
    {
     "data": {
      "text/plain": [
       "100"
      ]
     },
     "execution_count": 147,
     "metadata": {},
     "output_type": "execute_result"
    }
   ],
   "source": [
    "len(objects)"
   ]
  },
  {
   "cell_type": "code",
   "execution_count": 148,
   "id": "b6670e2a-2a57-4311-9ced-41d49833201b",
   "metadata": {},
   "outputs": [
    {
     "name": "stdout",
     "output_type": "stream",
     "text": [
      "Object title is: Daphne\n",
      "Artist gender: Female\n",
      "Dynasty: \n",
      "Harriet Goodhue Hosmer\n",
      "Object title is: Gold funerary wreath\n",
      "Artist gender: \n",
      "Dynasty: \n",
      "\n",
      "Object title is: Statuette of the Goddess Taweret\n",
      "Artist gender: \n",
      "Dynasty: \n",
      "\n",
      "Object title is: The Hall\n",
      "Artist gender: \n",
      "Dynasty: \n",
      "Antonia Nell\n",
      "Object title is: Celia's Arbor\n",
      "Artist gender: Female\n",
      "Dynasty: \n",
      "Lilian Westcott Hale\n",
      "Object title is: Yuny and His Wife Renenutet\n",
      "Artist gender: \n",
      "Dynasty: Dynasty 19\n",
      "\n",
      "Object title is: Saber\n",
      "Artist gender: \n",
      "Dynasty: \n",
      "\n",
      "Object title is: Marble sarcophagus with the Triumph of Dionysos and the Seasons\n",
      "Artist gender: \n",
      "Dynasty: \n",
      "\n",
      "Object title is: Queen Victoria\n",
      "Artist gender: \n",
      "Dynasty: \n",
      "Thomas Sully\n",
      "Object title is: 3-part Garden landscape window for Linden Hall\n",
      "Artist gender: Female\n",
      "Dynasty: \n",
      "Agnes F. Northrop\n",
      "Object title is: Circular box\n",
      "Artist gender: \n",
      "Dynasty: \n",
      "Daniel Brush\n",
      "Object title is: Cylindrical box\n",
      "Artist gender: \n",
      "Dynasty: \n",
      "Daniel Brush\n",
      "Object title is: Canopic Jar of Manuwai\n",
      "Artist gender: \n",
      "Dynasty: Dynasty 18\n",
      "\n",
      "Object title is: Christ Blessing the Children\n",
      "Artist gender: \n",
      "Dynasty: \n",
      "Lucas Cranach the Younger and Workshop\n",
      "Object title is: Coffin of the Noble Lady, Shep\n",
      "Artist gender: \n",
      "Dynasty: Dynasty 25–26\n",
      "\n",
      "Object title is: Madame Charles Maurice de Talleyrand Périgord (1761–1835)\n",
      "Artist gender: \n",
      "Dynasty: \n",
      "baron François Gérard\n",
      "Object title is: \"Butterfly\"\n",
      "Artist gender: \n",
      "Dynasty: \n",
      "Charles James\n",
      "Object title is: Evening dress\n",
      "Artist gender: \n",
      "Dynasty: \n",
      "Charles James\n",
      "Object title is: Box\n",
      "Artist gender: \n",
      "Dynasty: \n",
      "Daniel Brush\n",
      "Object title is: Young Woman with a Lute\n",
      "Artist gender: \n",
      "Dynasty: \n",
      "Johannes Vermeer\n",
      "Object title is: The Birth of the Virgin\n",
      "Artist gender: \n",
      "Dynasty: \n",
      "Fra Carnevale (Bartolomeo di Giovanni Corradini)\n",
      "Object title is: Commode à vantaux\n",
      "Artist gender: \n",
      "Dynasty: \n",
      "David Roentgen\n",
      "Object title is: Fragment of a Floor Mosaic with a Personification of Ktisis\n",
      "Artist gender: \n",
      "Dynasty: \n",
      "\n",
      "Object title is: Terracotta statuette of a standing woman\n",
      "Artist gender: \n",
      "Dynasty: \n",
      "\n",
      "Object title is: Music Lovers\n",
      "Artist gender: Female\n",
      "Dynasty: \n",
      "Theresa Bernstein\n",
      "Object title is: The Penitence of Saint Jerome\n",
      "Artist gender: \n",
      "Dynasty: \n",
      "Joachim Patinir\n",
      "Object title is: Ia Orana Maria (Hail Mary)\n",
      "Artist gender: \n",
      "Dynasty: \n",
      "Paul Gauguin\n",
      "Object title is: Part of the shrine of Queen Henhenet\n",
      "Artist gender: \n",
      "Dynasty: Dynasty 11\n",
      "\n",
      "Object title is: Portrait of Alvise Contarini(?); (verso) A Tethered Roebuck\n",
      "Artist gender: \n",
      "Dynasty: \n",
      "Jacometto (Jacometto Veneziano)\n",
      "Object title is: Portrait of a Woman, Possibly a Nun of San Secondo; (verso) Scene in Grisaille\n",
      "Artist gender: \n",
      "Dynasty: \n",
      "Jacometto (Jacometto Veneziano)\n",
      "Object title is: Inferno\n",
      "Artist gender: \n",
      "Dynasty: \n",
      "Franz von Stuck\n",
      "Object title is: Oedipus and the Sphinx\n",
      "Artist gender: \n",
      "Dynasty: \n",
      "Gustave Moreau\n",
      "Object title is: Thong sandals\n",
      "Artist gender: \n",
      "Dynasty: \n",
      "Dal Co'\n",
      "Object title is: The Annunciation\n",
      "Artist gender: \n",
      "Dynasty: \n",
      "Hans Memling\n",
      "Object title is: Map sampler made at Pleasent Valley Quaker Boarding School\n",
      "Artist gender: Female\n",
      "Dynasty: \n",
      "Polly Platt\n",
      "Object title is: \n",
      "Artist gender: \n",
      "Dynasty: \n",
      "Gorham Manufacturing Company\n",
      "Object title is: Crimes against Women\n",
      "Artist gender: Female\n",
      "Dynasty: \n",
      "Lala Rukh\n",
      "Object title is: Judith with the Head of Holofernes\n",
      "Artist gender: \n",
      "Dynasty: \n",
      "Lucas Cranach the Elder\n",
      "Object title is: Double Cup\n",
      "Artist gender: \n",
      "Dynasty: \n",
      "\n",
      "Object title is: Saint Bridget of Sweden Receiving the Rule of Her Order\n",
      "Artist gender: \n",
      "Dynasty: \n",
      "Agostino d'Antonio di Duccio\n",
      "Object title is: Terracotta vase in the form of a Black African youth's head\n",
      "Artist gender: \n",
      "Dynasty: \n",
      "Negro Boy Group\n",
      "Object title is: Virgin and Child with Four Angels\n",
      "Artist gender: \n",
      "Dynasty: \n",
      "Gerard David\n",
      "Object title is: Cows Crossing a Ford\n",
      "Artist gender: \n",
      "Dynasty: \n",
      "Jules Dupré\n",
      "Object title is: Famous Women\n",
      "Artist gender: \n",
      "Dynasty: \n",
      "Gai Qi\n",
      "Object title is: Six Jewel Rivers from Various Provinces\n",
      "Artist gender: \n",
      "Dynasty: \n",
      "Utagawa Hiroshige\n",
      "Object title is: Standing shelf (one of a pair)\n",
      "Artist gender: \n",
      "Dynasty: \n",
      "William Linnell\n",
      "Object title is: Figure from a Reliquary Ensemble: Seated Female\n",
      "Artist gender: \n",
      "Dynasty: \n",
      "\n",
      "Object title is: Women Near a River\n",
      "Artist gender: \n",
      "Dynasty: \n",
      "Utagawa Kuniyoshi\n",
      "Object title is: Hearts for the Year 1800\n",
      "Artist gender: \n",
      "Dynasty: \n",
      "Thomas Rowlandson\n",
      "Object title is: A Woman with a Dog\n",
      "Artist gender: \n",
      "Dynasty: \n",
      "Giacomo Ceruti\n",
      "Object title is: “Udumbara Flowers” (Udonge) Temple Plaque\n",
      "Artist gender: \n",
      "Dynasty: \n",
      "Yinyuan Longqi (Ingen Ryūki)\n",
      "Object title is: Head of Christ (Ecce Homo)\n",
      "Artist gender: \n",
      "Dynasty: \n",
      "Petrus Christus\n",
      "Object title is: A River in a Meadow\n",
      "Artist gender: \n",
      "Dynasty: \n",
      "Théodore Rousseau\n",
      "Object title is: Allegory of Music\n",
      "Artist gender: \n",
      "Dynasty: \n",
      "Laurent de La Hyre\n",
      "Object title is: The Chess Players\n",
      "Artist gender: \n",
      "Dynasty: \n",
      "Liberale da Verona\n",
      "Object title is: Scene from a Novella\n",
      "Artist gender: \n",
      "Dynasty: \n",
      "Liberale da Verona\n",
      "Object title is: Tile from a Squinch\n",
      "Artist gender: \n",
      "Dynasty: \n",
      "\n",
      "Object title is: Street Story Quilt\n",
      "Artist gender: Female\n",
      "Dynasty: \n",
      "Faith Ringgold\n",
      "Object title is: Circus Sideshow (Parade de cirque)\n",
      "Artist gender: \n",
      "Dynasty: \n",
      "Georges Seurat\n",
      "Object title is: Tommaso di Folco Portinari (1428–1501); Maria Portinari (Maria Maddalena Baroncelli, born 1456)\n",
      "Artist gender: \n",
      "Dynasty: \n",
      "Hans Memling\n",
      "Object title is: Two-tiered box with Oribe glaze\n",
      "Artist gender: \n",
      "Dynasty: \n",
      "Suzuki Gorō\n",
      "Object title is: Evening dress\n",
      "Artist gender: \n",
      "Dynasty: \n",
      "Charles James\n",
      "Object title is: Springtime\n",
      "Artist gender: \n",
      "Dynasty: \n",
      "Pierre-Auguste Cot\n",
      "Object title is: Pumps\n",
      "Artist gender: \n",
      "Dynasty: \n",
      "Dal Co'\n",
      "Object title is: Pumps\n",
      "Artist gender: \n",
      "Dynasty: \n",
      "Zecchi\n",
      "Object title is: Henri Fantin-Latour (1836–1904)\n",
      "Artist gender: \n",
      "Dynasty: \n",
      "Carolus-Duran (Charles-Auguste-Emile Durant)\n",
      "Object title is: The Storm\n",
      "Artist gender: \n",
      "Dynasty: \n",
      "Pierre-Auguste Cot\n",
      "Object title is: Female Politicians\n",
      "Artist gender: \n",
      "Dynasty: \n",
      "Thomas Rowlandson\n",
      "Object title is: Female Politicians\n",
      "Artist gender: \n",
      "Dynasty: \n",
      "Thomas Rowlandson\n",
      "Object title is: Draped Model\n",
      "Artist gender: \n",
      "Dynasty: \n",
      "Albert Joseph Moore\n",
      "Object title is: Woman's valuable (Toluk)\n",
      "Artist gender: \n",
      "Dynasty: \n",
      "\n",
      "Object title is: Portrait of a Young Man; (reverse) Girl Making a Garland\n",
      "Artist gender: \n",
      "Dynasty: \n",
      "Hans Süss von Kulmbach\n",
      "Object title is: Virgin and Child with Angels\n",
      "Artist gender: \n",
      "Dynasty: \n",
      "Bernard van Orley\n",
      "Object title is: Salvator Mundi\n",
      "Artist gender: \n",
      "Dynasty: \n",
      "Hans Memling\n",
      "Object title is: Christ Bearing the Cross\n",
      "Artist gender: \n",
      "Dynasty: \n",
      "North Netherlandish (Bruges) Painter\n",
      "Object title is: Karakoto of Chojiya on Parade\n",
      "Artist gender: \n",
      "Dynasty: \n",
      "Chōbunsai Eishi\n",
      "Object title is: Shoe prototype\n",
      "Artist gender: \n",
      "Dynasty: \n",
      "Mondial Shoe\n",
      "Object title is: Petticoat\n",
      "Artist gender: \n",
      "Dynasty: \n",
      "\n",
      "Object title is: Boots\n",
      "Artist gender: \n",
      "Dynasty: \n",
      "\n",
      "Object title is: Funerary mask\n",
      "Artist gender: \n",
      "Dynasty: \n",
      "Lambayeque (Sicán) artist(s)\n"
     ]
    },
    {
     "ename": "KeyError",
     "evalue": "'title'",
     "output_type": "error",
     "traceback": [
      "\u001b[0;31m---------------------------------------------------------------------------\u001b[0m",
      "\u001b[0;31mKeyError\u001b[0m                                  Traceback (most recent call last)",
      "Cell \u001b[0;32mIn[148], line 4\u001b[0m\n\u001b[1;32m      1\u001b[0m \u001b[38;5;66;03m# go through the list of objects, and pull out the titles\u001b[39;00m\n\u001b[1;32m      3\u001b[0m \u001b[38;5;28;01mfor\u001b[39;00m item \u001b[38;5;129;01min\u001b[39;00m objects:\n\u001b[0;32m----> 4\u001b[0m     \u001b[38;5;28mprint\u001b[39m(\u001b[38;5;124mf\u001b[39m\u001b[38;5;124m\"\u001b[39m\u001b[38;5;124mObject title is: \u001b[39m\u001b[38;5;132;01m{\u001b[39;00mitem[\u001b[38;5;124m'\u001b[39m\u001b[38;5;124mtitle\u001b[39m\u001b[38;5;124m'\u001b[39m]\u001b[38;5;132;01m}\u001b[39;00m\u001b[38;5;124m\"\u001b[39m)\n\u001b[1;32m      5\u001b[0m     \u001b[38;5;28mprint\u001b[39m(\u001b[38;5;124mf\u001b[39m\u001b[38;5;124m\"\u001b[39m\u001b[38;5;124mArtist gender: \u001b[39m\u001b[38;5;132;01m{\u001b[39;00mitem[\u001b[38;5;124m'\u001b[39m\u001b[38;5;124martistGender\u001b[39m\u001b[38;5;124m'\u001b[39m]\u001b[38;5;132;01m}\u001b[39;00m\u001b[38;5;124m\"\u001b[39m)\n\u001b[1;32m      6\u001b[0m     \u001b[38;5;28mprint\u001b[39m(\u001b[38;5;124mf\u001b[39m\u001b[38;5;124m\"\u001b[39m\u001b[38;5;124mDynasty: \u001b[39m\u001b[38;5;132;01m{\u001b[39;00mitem[\u001b[38;5;124m'\u001b[39m\u001b[38;5;124mdynasty\u001b[39m\u001b[38;5;124m'\u001b[39m]\u001b[38;5;132;01m}\u001b[39;00m\u001b[38;5;124m\"\u001b[39m)\n",
      "\u001b[0;31mKeyError\u001b[0m: 'title'"
     ]
    }
   ],
   "source": [
    "# go through the list of objects, and pull out the titles\n",
    "\n",
    "for item in objects:\n",
    "    print(f\"Object title is: {item['title']}\")\n",
    "    print(f\"Artist gender: {item['artistGender']}\")\n",
    "    print(f\"Dynasty: {item['dynasty']}\")\n",
    "    print(item['artistDisplayName'])"
   ]
  },
  {
   "cell_type": "code",
   "execution_count": 122,
   "id": "728cd2cd-8121-4fa5-bd2f-2e42c7cc7863",
   "metadata": {},
   "outputs": [
    {
     "data": {
      "text/plain": [
       "dict_keys(['objectID', 'isHighlight', 'accessionNumber', 'accessionYear', 'isPublicDomain', 'primaryImage', 'primaryImageSmall', 'additionalImages', 'constituents', 'department', 'objectName', 'title', 'culture', 'period', 'dynasty', 'reign', 'portfolio', 'artistRole', 'artistPrefix', 'artistDisplayName', 'artistDisplayBio', 'artistSuffix', 'artistAlphaSort', 'artistNationality', 'artistBeginDate', 'artistEndDate', 'artistGender', 'artistWikidata_URL', 'artistULAN_URL', 'objectDate', 'objectBeginDate', 'objectEndDate', 'medium', 'dimensions', 'measurements', 'creditLine', 'geographyType', 'city', 'state', 'county', 'country', 'region', 'subregion', 'locale', 'locus', 'excavation', 'river', 'classification', 'rightsAndReproduction', 'linkResource', 'metadataDate', 'repository', 'objectURL', 'tags', 'objectWikidata_URL', 'isTimelineWork', 'GalleryNumber'])"
      ]
     },
     "execution_count": 122,
     "metadata": {},
     "output_type": "execute_result"
    }
   ],
   "source": [
    "objects[0].keys()"
   ]
  },
  {
   "cell_type": "code",
   "execution_count": 150,
   "id": "6edffef7-38da-4722-9549-460ad09dd94e",
   "metadata": {},
   "outputs": [],
   "source": [
    "# title, artist name, gender, culture, period, medium, dynasty\n",
    "\n",
    "titles = []\n",
    "names = []\n",
    "genders = []\n",
    "cultures = []\n",
    "periods = []\n",
    "media = []\n",
    "dynasties = []\n",
    "\n",
    "for item in objects[:10]:\n",
    "    titles.append(item['title'])\n",
    "    names.append(item['artistDisplayName'])\n",
    "    genders.append(item['artistGender'])\n",
    "    cultures.append(item['culture'])\n",
    "    periods.append(item['period'])\n",
    "    media.append(item['medium'])\n",
    "    dynasties.append(item['dynasty'])"
   ]
  },
  {
   "cell_type": "code",
   "execution_count": 159,
   "id": "a5a210ec-57f3-41eb-a654-4bb8d5cb64c8",
   "metadata": {},
   "outputs": [],
   "source": [
    "df = pd.DataFrame({\n",
    "    'title': titles,\n",
    "    'names': names,\n",
    "    'genders': genders,\n",
    "    'cultures': cultures,\n",
    "    'periods': periods,\n",
    "    'media': media,\n",
    "    'dynasties': dynasties\n",
    "})"
   ]
  },
  {
   "cell_type": "code",
   "execution_count": 160,
   "id": "208e260b-158b-43cb-9d3e-bce62e2461e5",
   "metadata": {},
   "outputs": [
    {
     "data": {
      "text/html": [
       "<div>\n",
       "<style scoped>\n",
       "    .dataframe tbody tr th:only-of-type {\n",
       "        vertical-align: middle;\n",
       "    }\n",
       "\n",
       "    .dataframe tbody tr th {\n",
       "        vertical-align: top;\n",
       "    }\n",
       "\n",
       "    .dataframe thead th {\n",
       "        text-align: right;\n",
       "    }\n",
       "</style>\n",
       "<table border=\"1\" class=\"dataframe\">\n",
       "  <thead>\n",
       "    <tr style=\"text-align: right;\">\n",
       "      <th></th>\n",
       "      <th>title</th>\n",
       "      <th>names</th>\n",
       "      <th>genders</th>\n",
       "      <th>cultures</th>\n",
       "      <th>periods</th>\n",
       "      <th>media</th>\n",
       "      <th>dynasties</th>\n",
       "    </tr>\n",
       "  </thead>\n",
       "  <tbody>\n",
       "    <tr>\n",
       "      <th>0</th>\n",
       "      <td>Daphne</td>\n",
       "      <td>Harriet Goodhue Hosmer</td>\n",
       "      <td>Female</td>\n",
       "      <td>American</td>\n",
       "      <td></td>\n",
       "      <td>Marble</td>\n",
       "      <td></td>\n",
       "    </tr>\n",
       "    <tr>\n",
       "      <th>1</th>\n",
       "      <td>Gold funerary wreath</td>\n",
       "      <td></td>\n",
       "      <td></td>\n",
       "      <td>Roman</td>\n",
       "      <td>Imperial</td>\n",
       "      <td>Gold</td>\n",
       "      <td></td>\n",
       "    </tr>\n",
       "    <tr>\n",
       "      <th>2</th>\n",
       "      <td>Statuette of the Goddess Taweret</td>\n",
       "      <td></td>\n",
       "      <td></td>\n",
       "      <td></td>\n",
       "      <td>Ptolemaic Period</td>\n",
       "      <td>Glassy faience</td>\n",
       "      <td></td>\n",
       "    </tr>\n",
       "    <tr>\n",
       "      <th>3</th>\n",
       "      <td>The Hall</td>\n",
       "      <td>Antonia Nell</td>\n",
       "      <td></td>\n",
       "      <td>American</td>\n",
       "      <td></td>\n",
       "      <td>Watercolor on paper board</td>\n",
       "      <td></td>\n",
       "    </tr>\n",
       "    <tr>\n",
       "      <th>4</th>\n",
       "      <td>Celia's Arbor</td>\n",
       "      <td>Lilian Westcott Hale</td>\n",
       "      <td>Female</td>\n",
       "      <td>American</td>\n",
       "      <td></td>\n",
       "      <td>Oil on canvas</td>\n",
       "      <td></td>\n",
       "    </tr>\n",
       "    <tr>\n",
       "      <th>5</th>\n",
       "      <td>Yuny and His Wife Renenutet</td>\n",
       "      <td></td>\n",
       "      <td></td>\n",
       "      <td></td>\n",
       "      <td>New Kingdom, Ramesside</td>\n",
       "      <td>Limestone, paint</td>\n",
       "      <td>Dynasty 19</td>\n",
       "    </tr>\n",
       "    <tr>\n",
       "      <th>6</th>\n",
       "      <td>Saber</td>\n",
       "      <td></td>\n",
       "      <td></td>\n",
       "      <td>Turkish, probably Istanbul</td>\n",
       "      <td></td>\n",
       "      <td>Steel, gold, fish skin, wood</td>\n",
       "      <td></td>\n",
       "    </tr>\n",
       "    <tr>\n",
       "      <th>7</th>\n",
       "      <td>Marble sarcophagus with the Triumph of Dionyso...</td>\n",
       "      <td></td>\n",
       "      <td></td>\n",
       "      <td>Roman</td>\n",
       "      <td>Late Imperial, Gallienic</td>\n",
       "      <td>Marble</td>\n",
       "      <td></td>\n",
       "    </tr>\n",
       "    <tr>\n",
       "      <th>8</th>\n",
       "      <td>Queen Victoria</td>\n",
       "      <td>Thomas Sully</td>\n",
       "      <td></td>\n",
       "      <td>American</td>\n",
       "      <td></td>\n",
       "      <td>Oil on canvas</td>\n",
       "      <td></td>\n",
       "    </tr>\n",
       "    <tr>\n",
       "      <th>9</th>\n",
       "      <td>3-part Garden landscape window for Linden Hall</td>\n",
       "      <td>Agnes F. Northrop</td>\n",
       "      <td>Female</td>\n",
       "      <td></td>\n",
       "      <td></td>\n",
       "      <td>Leaded Favrile glass</td>\n",
       "      <td></td>\n",
       "    </tr>\n",
       "  </tbody>\n",
       "</table>\n",
       "</div>"
      ],
      "text/plain": [
       "                                               title                   names  \\\n",
       "0                                             Daphne  Harriet Goodhue Hosmer   \n",
       "1                               Gold funerary wreath                           \n",
       "2                   Statuette of the Goddess Taweret                           \n",
       "3                                           The Hall            Antonia Nell   \n",
       "4                                      Celia's Arbor    Lilian Westcott Hale   \n",
       "5                        Yuny and His Wife Renenutet                           \n",
       "6                                              Saber                           \n",
       "7  Marble sarcophagus with the Triumph of Dionyso...                           \n",
       "8                                     Queen Victoria            Thomas Sully   \n",
       "9     3-part Garden landscape window for Linden Hall       Agnes F. Northrop   \n",
       "\n",
       "  genders                    cultures                   periods  \\\n",
       "0  Female                    American                             \n",
       "1                               Roman                  Imperial   \n",
       "2                                              Ptolemaic Period   \n",
       "3                            American                             \n",
       "4  Female                    American                             \n",
       "5                                        New Kingdom, Ramesside   \n",
       "6          Turkish, probably Istanbul                             \n",
       "7                               Roman  Late Imperial, Gallienic   \n",
       "8                            American                             \n",
       "9  Female                                                         \n",
       "\n",
       "                          media   dynasties  \n",
       "0                        Marble              \n",
       "1                          Gold              \n",
       "2                Glassy faience              \n",
       "3     Watercolor on paper board              \n",
       "4                 Oil on canvas              \n",
       "5              Limestone, paint  Dynasty 19  \n",
       "6  Steel, gold, fish skin, wood              \n",
       "7                        Marble              \n",
       "8                 Oil on canvas              \n",
       "9          Leaded Favrile glass              "
      ]
     },
     "execution_count": 160,
     "metadata": {},
     "output_type": "execute_result"
    }
   ],
   "source": [
    "df"
   ]
  },
  {
   "cell_type": "code",
   "execution_count": null,
   "id": "a431b15f-8e5d-44c3-8f3d-18f78c519b57",
   "metadata": {},
   "outputs": [],
   "source": []
  }
 ],
 "metadata": {
  "kernelspec": {
   "display_name": "Python 3 (ipykernel)",
   "language": "python",
   "name": "python3"
  },
  "language_info": {
   "codemirror_mode": {
    "name": "ipython",
    "version": 3
   },
   "file_extension": ".py",
   "mimetype": "text/x-python",
   "name": "python",
   "nbconvert_exporter": "python",
   "pygments_lexer": "ipython3",
   "version": "3.11.7"
  }
 },
 "nbformat": 4,
 "nbformat_minor": 5
}
