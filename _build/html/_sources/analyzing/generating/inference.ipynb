{
 "cells": [
  {
   "cell_type": "markdown",
   "id": "be4f7c7c",
   "metadata": {},
   "source": [
    "# running inference\n",
    "Now that you have a sense of how things work on the HF website, we are\n",
    "going to practice running inference on Google Colab.\n",
    "\n",
    "Our goal is to create a text generator, using Python code, taking the\n",
    "following steps: \n",
    "- Will use the model, \"[gpt-neo-125m](https://huggingface.co/EleutherAI/gpt-neo-125m)\", importing this\n",
    "  model into the colab coding space.\n",
    "- Then we will write code that processes an input text to generate an output, a continuation.\n",
    "- Finally, we will import a dataset from the library and practice running inference with it.\n",
    "  \n",
    "We'll talk about some programming concepts along the way, like variables and data types, and how to access data from different types and structures. We will grapple with a new data type, a `dict`, and how to access or manipulate data from that type.\n"
   ]
  },
  {
   "cell_type": "markdown",
   "id": "e4f158c7",
   "metadata": {},
   "source": [
    "## Installations"
   ]
  },
  {
   "cell_type": "markdown",
   "id": "b7802279-f818-4848-a4c1-8638be7a0eb6",
   "metadata": {},
   "source": [
    "## on google colab\n",
    "First, on the toolbar, where it says RAM DISK, change the hardware accelator\n",
    "to GPU.\n",
    "\n",
    "Then, download the below libraries to your colab environment:\n",
    "\n",
    "```python\n",
    "%% capture\n",
    "%pip install transformers trl\n",
    "```"
   ]
  },
  {
   "cell_type": "markdown",
   "id": "ee99df4f-f5ac-4a7c-8d01-ca0718cab82f",
   "metadata": {},
   "source": [
    "## on jupyter\n",
    "\n",
    "Run this in your terminal to download and install transformers with: \n",
    "\n",
    "```console\n",
    "conda install transformers datasets\n",
    "pip3 install trl torch\n",
    "```\n",
    "\n",
    "If installing with conda doesn't work, you can install all packages using just pip:\n",
    "\n",
    "```console\n",
    "pip3 install transformers datasets trl torch\n",
    "```\n",
    "\n",
    "And if that doesn't work (perhaps because you're on a CPU-only system), try:\n",
    "\n",
    "```console\n",
    "pip install transformers[torch] datasets trl\n",
    "```\n",
    "\n",
    "Read more about installations here: https://huggingface.co/docs/transformers/installation "
   ]
  },
  {
   "cell_type": "code",
   "execution_count": 1,
   "id": "f7760e37-142b-4907-85ef-34dd65d7175a",
   "metadata": {},
   "outputs": [
    {
     "name": "stdout",
     "output_type": "stream",
     "text": [
      "No model was supplied, defaulted to distilbert/distilbert-base-uncased-finetuned-sst-2-english and revision 714eb0f (https://huggingface.co/distilbert/distilbert-base-uncased-finetuned-sst-2-english).\n",
      "Using a pipeline without specifying a model name and revision in production is not recommended.\n",
      "Device set to use mps:0\n",
      "[{'label': 'POSITIVE', 'score': 0.9997895359992981}]\n"
     ]
    }
   ],
   "source": [
    "# to check that you've installed correctly, run:\n",
    "\n",
    "!python3 -c \"from transformers import pipeline; print(pipeline('sentiment-analysis')('Filipa is the coolest prof ever'))\""
   ]
  },
  {
   "cell_type": "markdown",
   "id": "ed3ed39a",
   "metadata": {},
   "source": [
    "After installing, go back to the models page. Search for gpt-neo, select 125m. On the top right, click on \"Use in\n",
    "Transformers.\" Copy that code, and paste it to your notebook."
   ]
  },
  {
   "cell_type": "code",
   "execution_count": 13,
   "id": "967758b6",
   "metadata": {},
   "outputs": [
    {
     "name": "stderr",
     "output_type": "stream",
     "text": [
      "Device set to use mps:1\n"
     ]
    }
   ],
   "source": [
    "from transformers import pipeline\n",
    "\n",
    "# if you have a GPU (Mac M1 chip)\n",
    "pipe = pipeline(\"text-generation\", model=\"EleutherAI/gpt-neo-125m\", device = 1)\n",
    "\n",
    "# if you do not have a GPU\n",
    "# pipe = pipeline(\"text-generation\", model=\"EleutherAI/gpt-neo-125m\")"
   ]
  },
  {
   "cell_type": "markdown",
   "id": "602ca5bc",
   "metadata": {},
   "source": [
    "Here we have a function, called `pipeline()`, which takes parameters (a\n",
    "fancy word for input).\n",
    "\n",
    "The parameters specify the task and the model that we will be using.\n",
    "\n",
    "We save the function to a variable called `pipe`, which we will later\n",
    "use to process our prompt. "
   ]
  },
  {
   "cell_type": "markdown",
   "id": "8b452d6a",
   "metadata": {},
   "source": [
    "## inference\n",
    "\n",
    "Now we are going to \"run inference.\"\n",
    "\n",
    "First, we will type up a prompt, and save it to a variable prompt. Then we will pass that prompt to the pipe variable that we created before, saving the output to a new variable, called output. "
   ]
  },
  {
   "cell_type": "code",
   "execution_count": 14,
   "id": "1add24d4",
   "metadata": {},
   "outputs": [
    {
     "name": "stderr",
     "output_type": "stream",
     "text": [
      "Truncation was not explicitly activated but `max_length` is provided a specific value, please use `truncation=True` to explicitly truncate examples to max length. Defaulting to 'longest_first' truncation strategy. If you encode pairs of sequences (GLUE-style) with the tokenizer you can select this strategy more precisely by providing a specific strategy to `truncation`.\n",
      "Setting `pad_token_id` to `eos_token_id`:50256 for open-end generation.\n"
     ]
    },
    {
     "data": {
      "text/plain": [
       "[{'generated_text': \"Hello, my name is Filipa and I'm a newbie in the world of web development. I'm a newbie in the world of web development. I'm a newbie in the world of web development. I'm a newbie in\"}]"
      ]
     },
     "execution_count": 14,
     "metadata": {},
     "output_type": "execute_result"
    }
   ],
   "source": [
    "prompt = \"Hello, my name is Filipa and\"\n",
    "\n",
    "pipe(prompt, max_length = 50)"
   ]
  },
  {
   "cell_type": "code",
   "execution_count": 15,
   "id": "d602d387",
   "metadata": {},
   "outputs": [
    {
     "name": "stderr",
     "output_type": "stream",
     "text": [
      "Setting `pad_token_id` to `eos_token_id`:50256 for open-end generation.\n"
     ]
    }
   ],
   "source": [
    "# saving the output\n",
    "\n",
    "output = pipe(prompt, max_length = 50)"
   ]
  },
  {
   "cell_type": "markdown",
   "id": "7d1a7c05",
   "metadata": {},
   "source": [
    "Now let's look at the response, and inspect the data structure contained within it, which is a `list`.\n",
    "\n",
    "list is a collection of objects, or bits of information. So our output is saved as this collection type of object. "
   ]
  },
  {
   "cell_type": "code",
   "execution_count": 16,
   "id": "6c06fd66",
   "metadata": {},
   "outputs": [
    {
     "data": {
      "text/plain": [
       "[{'generated_text': \"Hello, my name is Filipa and I'm a newbie in the world of web development. I'm a newbie in the world of web development. I'm a newbie in the world of web development. I'm a newbie in\"}]"
      ]
     },
     "execution_count": 16,
     "metadata": {},
     "output_type": "execute_result"
    }
   ],
   "source": [
    "output"
   ]
  },
  {
   "cell_type": "code",
   "execution_count": 17,
   "id": "30e866a3",
   "metadata": {},
   "outputs": [
    {
     "data": {
      "text/plain": [
       "list"
      ]
     },
     "execution_count": 17,
     "metadata": {},
     "output_type": "execute_result"
    }
   ],
   "source": [
    "type(output)"
   ]
  },
  {
   "cell_type": "markdown",
   "id": "fd85f3cf",
   "metadata": {},
   "source": [
    "What if we wanted to extract just the output text, not the rest of the data, how would we go about it? We use list indexing. When we check the type, we find out the first item of the list is inside another data type, a `dict`."
   ]
  },
  {
   "cell_type": "code",
   "execution_count": 18,
   "id": "09e4bc41",
   "metadata": {},
   "outputs": [
    {
     "data": {
      "text/plain": [
       "{'generated_text': \"Hello, my name is Filipa and I'm a newbie in the world of web development. I'm a newbie in the world of web development. I'm a newbie in the world of web development. I'm a newbie in\"}"
      ]
     },
     "execution_count": 18,
     "metadata": {},
     "output_type": "execute_result"
    }
   ],
   "source": [
    "output[0]"
   ]
  },
  {
   "cell_type": "code",
   "execution_count": 19,
   "id": "d63a588d",
   "metadata": {},
   "outputs": [
    {
     "data": {
      "text/plain": [
       "dict"
      ]
     },
     "execution_count": 19,
     "metadata": {},
     "output_type": "execute_result"
    }
   ],
   "source": [
    "type(output[0])"
   ]
  },
  {
   "cell_type": "markdown",
   "id": "c83ca726",
   "metadata": {},
   "source": [
    " To get items from a dict, you use a different method, accessing them by their keys. "
   ]
  },
  {
   "cell_type": "code",
   "execution_count": 20,
   "id": "15f4f28c",
   "metadata": {},
   "outputs": [
    {
     "data": {
      "text/plain": [
       "\"Hello, my name is Filipa and I'm a newbie in the world of web development. I'm a newbie in the world of web development. I'm a newbie in the world of web development. I'm a newbie in\""
      ]
     },
     "execution_count": 20,
     "metadata": {},
     "output_type": "execute_result"
    }
   ],
   "source": [
    "output[0]['generated_text']"
   ]
  },
  {
   "cell_type": "markdown",
   "id": "6106270c",
   "metadata": {},
   "source": [
    "## accessing data from datasets:\n",
    "\n",
    "Now we will practice what we've learned about accessing data on the Datasets library from HF. "
   ]
  },
  {
   "cell_type": "code",
   "execution_count": 21,
   "id": "27fcf31b-6206-4ce5-a6f8-70e344f53c86",
   "metadata": {},
   "outputs": [],
   "source": [
    "import datasets"
   ]
  },
  {
   "cell_type": "code",
   "execution_count": 22,
   "id": "912fdf20",
   "metadata": {},
   "outputs": [],
   "source": [
    "# install the library and import dataset loader\n",
    "# %%capture\n",
    "# !pip install datasets\n",
    "from datasets import load_dataset"
   ]
  },
  {
   "cell_type": "code",
   "execution_count": 23,
   "id": "484939a5",
   "metadata": {},
   "outputs": [
    {
     "data": {
      "text/plain": [
       "DatasetDict({\n",
       "    train: Dataset({\n",
       "        features: ['stories'],\n",
       "        num_rows: 199\n",
       "    })\n",
       "})"
      ]
     },
     "execution_count": 23,
     "metadata": {},
     "output_type": "execute_result"
    }
   ],
   "source": [
    "# load the dataset and its subset\n",
    "dataset = load_dataset(\"gofilipa/bedtime_stories\")\n",
    "\n",
    "# check the dataset object\n",
    "dataset"
   ]
  },
  {
   "cell_type": "code",
   "execution_count": 24,
   "id": "ea958341",
   "metadata": {},
   "outputs": [
    {
     "data": {
      "text/plain": [
       "datasets.dataset_dict.DatasetDict"
      ]
     },
     "execution_count": 24,
     "metadata": {},
     "output_type": "execute_result"
    }
   ],
   "source": [
    "type(dataset)"
   ]
  },
  {
   "cell_type": "code",
   "execution_count": 25,
   "id": "75e33e4f",
   "metadata": {},
   "outputs": [
    {
     "data": {
      "text/plain": [
       "Dataset({\n",
       "    features: ['stories'],\n",
       "    num_rows: 199\n",
       "})"
      ]
     },
     "execution_count": 25,
     "metadata": {},
     "output_type": "execute_result"
    }
   ],
   "source": [
    "# how do we get items from a dict? by the key\n",
    "\n",
    "dataset['train']"
   ]
  },
  {
   "cell_type": "code",
   "execution_count": 26,
   "id": "110d9d87",
   "metadata": {},
   "outputs": [
    {
     "data": {
      "text/plain": [
       "'The stars twinkled in the night sky as little Eva lay in her bed dreaming of adventures. She imagined flying on the back of a dragon across the clouds, soaring over the tallest mountains. Just then, Eva heard a gentle whisper that seemed to come from everywhere. It said, \"It\\'s time for beddy-byes now, dream sweetly little one.\" Eva smiled and snuggled into her cozy blankets, dreaming of more magical places.'"
      ]
     },
     "execution_count": 26,
     "metadata": {},
     "output_type": "execute_result"
    }
   ],
   "source": [
    "# how would we get the second row from this dataset?\n",
    "\n",
    "dataset['train']['stories'][0]"
   ]
  },
  {
   "cell_type": "code",
   "execution_count": 27,
   "id": "90e41ab0",
   "metadata": {},
   "outputs": [
    {
     "name": "stderr",
     "output_type": "stream",
     "text": [
      "Setting `pad_token_id` to `eos_token_id`:50256 for open-end generation.\n",
      "Setting `pad_token_id` to `eos_token_id`:50256 for open-end generation.\n",
      "Setting `pad_token_id` to `eos_token_id`:50256 for open-end generation.\n",
      "Setting `pad_token_id` to `eos_token_id`:50256 for open-end generation.\n",
      "Setting `pad_token_id` to `eos_token_id`:50256 for open-end generation.\n"
     ]
    }
   ],
   "source": [
    "outputs = []\n",
    "for i in dataset['train']['stories'][:5]:\n",
    "    out = pipe(i, max_new_tokens=100)\n",
    "    outputs.append(out)"
   ]
  },
  {
   "cell_type": "code",
   "execution_count": 28,
   "id": "d3393c42-3c90-4201-9dd9-18332a9e86fc",
   "metadata": {},
   "outputs": [
    {
     "data": {
      "text/plain": [
       "[[{'generated_text': 'The stars twinkled in the night sky as little Eva lay in her bed dreaming of adventures. She imagined flying on the back of a dragon across the clouds, soaring over the tallest mountains. Just then, Eva heard a gentle whisper that seemed to come from everywhere. It said, \"It\\'s time for beddy-byes now, dream sweetly little one.\" Eva smiled and snuggled into her cozy blankets, dreaming of more magical places.\\n\\nThe next morning, Eva woke up with a start. She was in the middle of a dream, and she was in the middle of a dream. She was in the middle of a dream. She was in the middle of a dream. She was in the middle of a dream. She was in the middle of a dream. She was in the middle of a dream. She was in the middle of a dream. She was in the middle of a dream. She was in the middle'}],\n",
       " [{'generated_text': \"Once upon a time there was a little girl named Sam. Every night she snuggled into her warm bed for a cozy sleep. One night, while snuggling with her teddy bear, Sam heard a gentle voice coming from the window. She got up to investigate and saw a soft, glowing light outside. It was a fairy with a big smile who asked Sam to join her on a magical adventure. They flew around the night sky, visiting different planets and galaxies. When the sun began to rise they returned back to Sam's window. The magical fairy gave Sam a hug and Sam went back to bed filled with wonderful memories.\\n\\nThe next morning, Sam woke up with a strange feeling. She was in a dream. She was in a dream. She was in a dream. She was in a dream. She was in a dream. She was in a dream. She was in a dream. She was in a dream. She was in a dream. She was in a dream. She was in a dream. She was in a dream. She was in a dream. She was in a dream. She was\"}],\n",
       " [{'generated_text': \"Alice was so excited for her first sleepover at her best friend's house. After playing all night and eating delicious snacks, they both got into their pajamas and laid down in the bed. They discussed all their favorite stories until their eyes got heavy and they both drifted off to dreamland while the stars shimmered above them. As they slowly fell asleep, Alice and her friend were filled with joy knowing they'd have more adventures to come.\\n\\nAlice was so excited for her first sleepover at her best friend's house. After playing all night and eating delicious snacks, they both got into their pajamas and lay down in the bed. They discussed all their favorite stories until their eyes got heavy and they both drifted off to dreamland while the stars shimmered above them. As they slowly fell asleep, Alice and her friend were filled with joy knowing they'd have more adventures to come.\\n\\nAlice was so excited for\"}],\n",
       " [{'generated_text': 'Once upon a time, there lived two best friends, a squirrel and a rabbit. Every day they spent playing together in the meadow, chasing each other around the tall grass and laughing with glee. At night, they snuggled together in a cozy nook of a tree, dreaming about their next adventure. One night, when the stars shone like little diamonds in the sky, they heard a magical song from a mysterious musician. As they followed the music, they discovered a small pond, full of fireflies that lit up the water and filled the air with even more wondrous tunes. From that day forward, every night before bed, they’d sit by the pond and listen to the enchanting song, until their dreams were over.\\n\\nThe next day, they’d wake up and find themselves in the middle of a forest, surrounded by a huge, beautiful, and beautiful world. They’d sit on the ground and listen to the song, and then they’d sit on the grass and dream about the world.\\n\\nThe next day, they’d wake up and find themselves in the middle of a forest, surrounded by a huge, beautiful, and beautiful world.'}],\n",
       " [{'generated_text': 'Max loved the stars. Every night he would lay in bed and count each and every one. One night, he wished on the brightest star. When the morning came, a surprise was waiting for him at his doorstep! Max opened the package to find a jar of stars – millions of them! He now had all the stars he ever wanted!\\n\\nHe took the jar and opened it. The stars were there, but they were not there. He opened the jar and found a tiny star. He opened the jar and found a tiny star. He opened the jar and found a tiny star. He opened the jar and found a tiny star. He opened the jar and found a tiny star. He opened the jar and found a tiny star. He opened the jar and found a tiny star. He opened the jar and found a tiny star'}]]"
      ]
     },
     "execution_count": 28,
     "metadata": {},
     "output_type": "execute_result"
    }
   ],
   "source": [
    "outputs"
   ]
  },
  {
   "cell_type": "code",
   "execution_count": 29,
   "id": "057160fa-3e20-44f1-a7cd-1112a9fe6bde",
   "metadata": {},
   "outputs": [],
   "source": [
    "outs = []\n",
    "for i in outputs:\n",
    "    out = i[0]['generated_text']\n",
    "    outs.append(out)"
   ]
  },
  {
   "cell_type": "code",
   "execution_count": 30,
   "id": "cfe0bb90-f27b-4244-bfbb-97424197a1f1",
   "metadata": {},
   "outputs": [
    {
     "data": {
      "text/plain": [
       "['The stars twinkled in the night sky as little Eva lay in her bed dreaming of adventures. She imagined flying on the back of a dragon across the clouds, soaring over the tallest mountains. Just then, Eva heard a gentle whisper that seemed to come from everywhere. It said, \"It\\'s time for beddy-byes now, dream sweetly little one.\" Eva smiled and snuggled into her cozy blankets, dreaming of more magical places.\\n\\nThe next morning, Eva woke up with a start. She was in the middle of a dream, and she was in the middle of a dream. She was in the middle of a dream. She was in the middle of a dream. She was in the middle of a dream. She was in the middle of a dream. She was in the middle of a dream. She was in the middle of a dream. She was in the middle of a dream. She was in the middle',\n",
       " \"Once upon a time there was a little girl named Sam. Every night she snuggled into her warm bed for a cozy sleep. One night, while snuggling with her teddy bear, Sam heard a gentle voice coming from the window. She got up to investigate and saw a soft, glowing light outside. It was a fairy with a big smile who asked Sam to join her on a magical adventure. They flew around the night sky, visiting different planets and galaxies. When the sun began to rise they returned back to Sam's window. The magical fairy gave Sam a hug and Sam went back to bed filled with wonderful memories.\\n\\nThe next morning, Sam woke up with a strange feeling. She was in a dream. She was in a dream. She was in a dream. She was in a dream. She was in a dream. She was in a dream. She was in a dream. She was in a dream. She was in a dream. She was in a dream. She was in a dream. She was in a dream. She was in a dream. She was in a dream. She was\",\n",
       " \"Alice was so excited for her first sleepover at her best friend's house. After playing all night and eating delicious snacks, they both got into their pajamas and laid down in the bed. They discussed all their favorite stories until their eyes got heavy and they both drifted off to dreamland while the stars shimmered above them. As they slowly fell asleep, Alice and her friend were filled with joy knowing they'd have more adventures to come.\\n\\nAlice was so excited for her first sleepover at her best friend's house. After playing all night and eating delicious snacks, they both got into their pajamas and lay down in the bed. They discussed all their favorite stories until their eyes got heavy and they both drifted off to dreamland while the stars shimmered above them. As they slowly fell asleep, Alice and her friend were filled with joy knowing they'd have more adventures to come.\\n\\nAlice was so excited for\",\n",
       " 'Once upon a time, there lived two best friends, a squirrel and a rabbit. Every day they spent playing together in the meadow, chasing each other around the tall grass and laughing with glee. At night, they snuggled together in a cozy nook of a tree, dreaming about their next adventure. One night, when the stars shone like little diamonds in the sky, they heard a magical song from a mysterious musician. As they followed the music, they discovered a small pond, full of fireflies that lit up the water and filled the air with even more wondrous tunes. From that day forward, every night before bed, they’d sit by the pond and listen to the enchanting song, until their dreams were over.\\n\\nThe next day, they’d wake up and find themselves in the middle of a forest, surrounded by a huge, beautiful, and beautiful world. They’d sit on the ground and listen to the song, and then they’d sit on the grass and dream about the world.\\n\\nThe next day, they’d wake up and find themselves in the middle of a forest, surrounded by a huge, beautiful, and beautiful world.',\n",
       " 'Max loved the stars. Every night he would lay in bed and count each and every one. One night, he wished on the brightest star. When the morning came, a surprise was waiting for him at his doorstep! Max opened the package to find a jar of stars – millions of them! He now had all the stars he ever wanted!\\n\\nHe took the jar and opened it. The stars were there, but they were not there. He opened the jar and found a tiny star. He opened the jar and found a tiny star. He opened the jar and found a tiny star. He opened the jar and found a tiny star. He opened the jar and found a tiny star. He opened the jar and found a tiny star. He opened the jar and found a tiny star. He opened the jar and found a tiny star']"
      ]
     },
     "execution_count": 30,
     "metadata": {},
     "output_type": "execute_result"
    }
   ],
   "source": [
    "outs"
   ]
  },
  {
   "cell_type": "code",
   "execution_count": null,
   "id": "abee0a65-2c7f-4781-8550-d0997b50db6a",
   "metadata": {},
   "outputs": [],
   "source": []
  }
 ],
 "metadata": {
  "kernelspec": {
   "display_name": "Python 3 (ipykernel)",
   "language": "python",
   "name": "python3"
  },
  "language_info": {
   "codemirror_mode": {
    "name": "ipython",
    "version": 3
   },
   "file_extension": ".py",
   "mimetype": "text/x-python",
   "name": "python",
   "nbconvert_exporter": "python",
   "pygments_lexer": "ipython3",
   "version": "3.11.11"
  }
 },
 "nbformat": 4,
 "nbformat_minor": 5
}
