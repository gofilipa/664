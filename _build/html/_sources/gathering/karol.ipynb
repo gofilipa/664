{
 "cells": [
  {
   "cell_type": "markdown",
   "id": "a66cf61a-1bd1-4aec-99cd-b65705fbd442",
   "metadata": {},
   "source": [
    "# Genius API\n",
    "This API requires authentication, and here's an example of how that works. "
   ]
  },
  {
   "cell_type": "code",
   "execution_count": 2,
   "id": "54390c06-8c10-4fc1-9cb9-08d6d5067b1b",
   "metadata": {},
   "outputs": [],
   "source": [
    "import requests\n",
    "\n",
    "# get an access token \n",
    "access = 't_5_qC1yaHVuFRV0YKc6-QyiT1J5D-iMTRCYCuTLtgbdqLyIjdOqXxRUAVqiw1is'\n",
    "\n",
    "# pass your access token as a variable into a \"headers\" dict\n",
    "headers = {'Authorization': f'Bearer {access}'}"
   ]
  },
  {
   "cell_type": "markdown",
   "id": "1c1108cb-9df0-4111-9d77-c6dc8cc1ee89",
   "metadata": {},
   "source": [
    "Here I'm using the \"[Artists](https://docs.genius.com/#artists-h2)\" endpoint, which means I already have an artist ID number on hand, by using the \n",
    "\n",
    "This endpoint returns data about the artist, and you need the artist ID to access it."
   ]
  },
  {
   "cell_type": "code",
   "execution_count": 12,
   "id": "40cab4b9-9803-487f-94f4-d976ab0b0b53",
   "metadata": {},
   "outputs": [],
   "source": [
    "# pass your headers dict into the get() request\n",
    "r = requests.get('https://api.genius.com/artists/530703', headers=headers)"
   ]
  },
  {
   "cell_type": "code",
   "execution_count": 13,
   "id": "bf3c9dee-20fc-4ad1-b334-2692397ee12e",
   "metadata": {},
   "outputs": [
    {
     "data": {
      "text/plain": [
       "<Response [200]>"
      ]
     },
     "execution_count": 13,
     "metadata": {},
     "output_type": "execute_result"
    }
   ],
   "source": [
    "r"
   ]
  },
  {
   "cell_type": "code",
   "execution_count": 14,
   "id": "363c1a50-9c7c-46ac-9f83-b2485d328862",
   "metadata": {},
   "outputs": [],
   "source": [
    "parsed = r.json()"
   ]
  },
  {
   "cell_type": "code",
   "execution_count": 15,
   "id": "de6260b4-30ba-42e6-881c-dbc6fa848d7b",
   "metadata": {},
   "outputs": [
    {
     "data": {
      "text/plain": [
       "dict_keys(['meta', 'response'])"
      ]
     },
     "execution_count": 15,
     "metadata": {},
     "output_type": "execute_result"
    }
   ],
   "source": [
    "parsed.keys()"
   ]
  },
  {
   "cell_type": "code",
   "execution_count": 9,
   "id": "4f52fb2d-894a-4d0d-a8e7-2064c3af9510",
   "metadata": {},
   "outputs": [
    {
     "data": {
      "text/plain": [
       "dict_keys(['alternate_names', 'api_path', 'description', 'facebook_name', 'followers_count', 'header_image_url', 'id', 'image_url', 'instagram_name', 'is_meme_verified', 'is_verified', 'name', 'translation_artist', 'twitter_name', 'url', 'current_user_metadata', 'iq', 'description_annotation', 'user'])"
      ]
     },
     "execution_count": 9,
     "metadata": {},
     "output_type": "execute_result"
    }
   ],
   "source": [
    "parsed['response']['artist'].keys()"
   ]
  },
  {
   "cell_type": "code",
   "execution_count": 10,
   "id": "13c01063-747c-475b-a9b3-16d528074fab",
   "metadata": {},
   "outputs": [
    {
     "data": {
      "text/plain": [
       "'KAROL G'"
      ]
     },
     "execution_count": 10,
     "metadata": {},
     "output_type": "execute_result"
    }
   ],
   "source": [
    "parsed['response']['artist']['name']"
   ]
  },
  {
   "cell_type": "markdown",
   "id": "a45df01b-300f-490d-bcce-8685c9eb9542",
   "metadata": {},
   "source": [
    "Using the \"songs\" endpoint now, to get data about the song"
   ]
  },
  {
   "cell_type": "code",
   "execution_count": 16,
   "id": "2055674a-0386-4279-9e00-408df1698c38",
   "metadata": {},
   "outputs": [],
   "source": [
    "# path for the songs endpoint: /artists/:id/songs\n",
    "\n",
    "url = 'https://api.genius.com/artists/530703/songs'"
   ]
  },
  {
   "cell_type": "code",
   "execution_count": 17,
   "id": "ce3e9c29-1c2b-412d-83e2-b500d3b1ecca",
   "metadata": {},
   "outputs": [],
   "source": [
    "r = requests.get(url, headers=headers)"
   ]
  },
  {
   "cell_type": "code",
   "execution_count": 18,
   "id": "b9553a51-6e5f-4254-b2f1-08d2da4bcae6",
   "metadata": {},
   "outputs": [
    {
     "data": {
      "text/plain": [
       "<Response [200]>"
      ]
     },
     "execution_count": 18,
     "metadata": {},
     "output_type": "execute_result"
    }
   ],
   "source": [
    "r"
   ]
  },
  {
   "cell_type": "code",
   "execution_count": 19,
   "id": "029b4f82-d494-41c6-b4c2-11b1c2ef02e2",
   "metadata": {},
   "outputs": [],
   "source": [
    "parsed = r.json()"
   ]
  },
  {
   "cell_type": "code",
   "execution_count": 20,
   "id": "df9161d4-fd8c-4903-82fb-7f8857291681",
   "metadata": {},
   "outputs": [
    {
     "data": {
      "text/plain": [
       "dict_keys(['songs', 'next_page'])"
      ]
     },
     "execution_count": 20,
     "metadata": {},
     "output_type": "execute_result"
    }
   ],
   "source": [
    "parsed['response'].keys()"
   ]
  },
  {
   "cell_type": "code",
   "execution_count": 21,
   "id": "1769245a-ea9a-48b5-8afa-69e54c60ed00",
   "metadata": {},
   "outputs": [
    {
     "data": {
      "text/plain": [
       "{'annotation_count': 0,\n",
       " 'api_path': '/songs/8719369',\n",
       " 'artist_names': \"Q' Lokura & Banda Mix\",\n",
       " 'full_title': \"200 Copas by\\xa0Q'\\xa0Lokura & Banda Mix\",\n",
       " 'header_image_thumbnail_url': 'https://images.genius.com/54b7e1a701572b780907f1cd0e5c1b30.300x300x1.jpg',\n",
       " 'header_image_url': 'https://images.genius.com/54b7e1a701572b780907f1cd0e5c1b30.1000x1000x1.jpg',\n",
       " 'id': 8719369,\n",
       " 'lyrics_owner_id': 9433615,\n",
       " 'lyrics_state': 'complete',\n",
       " 'path': '/Q-lokura-and-banda-mix-200-copas-lyrics',\n",
       " 'primary_artist_names': \"Q' Lokura & Banda Mix\",\n",
       " 'pyongs_count': None,\n",
       " 'relationships_index_url': 'https://genius.com/Q-lokura-and-banda-mix-200-copas-sample',\n",
       " 'release_date_components': {'year': 2021, 'month': 11, 'day': 10},\n",
       " 'release_date_for_display': 'November 10, 2021',\n",
       " 'release_date_with_abbreviated_month_for_display': 'Nov. 10, 2021',\n",
       " 'song_art_image_thumbnail_url': 'https://images.genius.com/54b7e1a701572b780907f1cd0e5c1b30.300x300x1.jpg',\n",
       " 'song_art_image_url': 'https://images.genius.com/54b7e1a701572b780907f1cd0e5c1b30.1000x1000x1.jpg',\n",
       " 'stats': {'unreviewed_annotations': 0, 'hot': False},\n",
       " 'title': '200 Copas',\n",
       " 'title_with_featured': '200 Copas',\n",
       " 'url': 'https://genius.com/Q-lokura-and-banda-mix-200-copas-lyrics',\n",
       " 'featured_artists': [],\n",
       " 'primary_artist': {'api_path': '/artists/3404931',\n",
       "  'header_image_url': 'https://assets.genius.com/images/default_avatar_300.png?1729626412',\n",
       "  'id': 3404931,\n",
       "  'image_url': 'https://assets.genius.com/images/default_avatar_300.png?1729626412',\n",
       "  'is_meme_verified': False,\n",
       "  'is_verified': False,\n",
       "  'name': 'Q’ Lokura & Banda Mix',\n",
       "  'url': 'https://genius.com/artists/Q-lokura-and-banda-mix'},\n",
       " 'primary_artists': [{'api_path': '/artists/3404931',\n",
       "   'header_image_url': 'https://assets.genius.com/images/default_avatar_300.png?1729626412',\n",
       "   'id': 3404931,\n",
       "   'image_url': 'https://assets.genius.com/images/default_avatar_300.png?1729626412',\n",
       "   'is_meme_verified': False,\n",
       "   'is_verified': False,\n",
       "   'name': 'Q’ Lokura & Banda Mix',\n",
       "   'url': 'https://genius.com/artists/Q-lokura-and-banda-mix'}]}"
      ]
     },
     "execution_count": 21,
     "metadata": {},
     "output_type": "execute_result"
    }
   ],
   "source": [
    "parsed['response']['songs'][0]"
   ]
  },
  {
   "cell_type": "code",
   "execution_count": 22,
   "id": "2ca92b7f-8572-4f64-a0d6-8d0db56f742f",
   "metadata": {},
   "outputs": [],
   "source": [
    "id = parsed['response']['songs'][0]['id']"
   ]
  },
  {
   "cell_type": "code",
   "execution_count": 23,
   "id": "1938374e-f40b-4c9d-8203-63c26eea72d1",
   "metadata": {},
   "outputs": [],
   "source": [
    "url = f'https://api.genius.com/songs/{id}'"
   ]
  },
  {
   "cell_type": "code",
   "execution_count": 24,
   "id": "cb59cfeb-a90a-4c6d-9d0c-582b4381539a",
   "metadata": {},
   "outputs": [],
   "source": [
    "r = requests.get(url, headers=headers)"
   ]
  },
  {
   "cell_type": "code",
   "execution_count": 25,
   "id": "7b5b18d5-668c-4d98-a835-02ab21737588",
   "metadata": {},
   "outputs": [],
   "source": [
    "parsed = r.json()"
   ]
  },
  {
   "cell_type": "code",
   "execution_count": 26,
   "id": "6b30b1a7-6e89-4ccb-93d6-a43ab665cfa9",
   "metadata": {},
   "outputs": [
    {
     "data": {
      "text/plain": [
       "dict_keys(['annotation_count', 'api_path', 'apple_music_id', 'apple_music_player_url', 'artist_names', 'description', 'embed_content', 'featured_video', 'full_title', 'header_image_thumbnail_url', 'header_image_url', 'id', 'language', 'lyrics_owner_id', 'lyrics_placeholder_reason', 'lyrics_state', 'path', 'primary_artist_names', 'pyongs_count', 'recording_location', 'relationships_index_url', 'release_date', 'release_date_for_display', 'release_date_with_abbreviated_month_for_display', 'song_art_image_thumbnail_url', 'song_art_image_url', 'stats', 'title', 'title_with_featured', 'url', 'current_user_metadata', 'song_art_primary_color', 'song_art_secondary_color', 'song_art_text_color', 'album', 'custom_performances', 'description_annotation', 'featured_artists', 'lyrics_marked_complete_by', 'lyrics_marked_staff_approved_by', 'media', 'primary_artist', 'primary_artists', 'producer_artists', 'song_relationships', 'translation_songs', 'verified_annotations_by', 'verified_contributors', 'verified_lyrics_by', 'writer_artists'])"
      ]
     },
     "execution_count": 26,
     "metadata": {},
     "output_type": "execute_result"
    }
   ],
   "source": [
    "parsed['response']['song'].keys()"
   ]
  },
  {
   "cell_type": "code",
   "execution_count": 27,
   "id": "606e36f2-06a6-4a06-9676-c908ced07b9f",
   "metadata": {},
   "outputs": [
    {
     "data": {
      "text/plain": [
       "{'_type': 'referent',\n",
       " 'annotator_id': 17336116,\n",
       " 'annotator_login': 'Fri',\n",
       " 'api_path': '/referents/27535384',\n",
       " 'classification': 'needs_exegesis',\n",
       " 'fragment': '200 Copas',\n",
       " 'id': 27535384,\n",
       " 'is_description': True,\n",
       " 'path': '/27535384/Q-lokura-and-banda-mix-200-copas/200-copas',\n",
       " 'range': {'content': '200 Copas'},\n",
       " 'song_id': 8719369,\n",
       " 'url': 'https://genius.com/27535384/Q-lokura-and-banda-mix-200-copas/200-copas',\n",
       " 'verified_annotator_ids': [],\n",
       " 'annotatable': {'api_path': '/songs/8719369',\n",
       "  'client_timestamps': {'updated_by_human_at': 1673467250,\n",
       "   'lyrics_updated_at': 1673467189},\n",
       "  'context': \"Q' Lokura & Banda Mix\",\n",
       "  'id': 8719369,\n",
       "  'image_url': 'https://images.genius.com/54b7e1a701572b780907f1cd0e5c1b30.1000x1000x1.jpg',\n",
       "  'link_title': '200 Copas by\\xa0Q’\\xa0Lokura & Banda Mix',\n",
       "  'title': '200 Copas',\n",
       "  'type': 'Song',\n",
       "  'url': 'https://genius.com/Q-lokura-and-banda-mix-200-copas-lyrics'},\n",
       " 'annotations': [{'api_path': '/annotations/27535384',\n",
       "   'body': {'dom': {'tag': 'root'}},\n",
       "   'comment_count': 0,\n",
       "   'community': True,\n",
       "   'custom_preview': None,\n",
       "   'has_voters': False,\n",
       "   'id': 27535384,\n",
       "   'pinned': False,\n",
       "   'share_url': 'https://genius.com/27535384',\n",
       "   'source': None,\n",
       "   'state': 'needs_exegesis',\n",
       "   'url': 'https://genius.com/27535384/Q-lokura-and-banda-mix-200-copas/200-copas',\n",
       "   'verified': False,\n",
       "   'votes_total': 0,\n",
       "   'current_user_metadata': {'permissions': [],\n",
       "    'excluded_permissions': ['vote',\n",
       "     'edit',\n",
       "     'cosign',\n",
       "     'uncosign',\n",
       "     'destroy',\n",
       "     'accept',\n",
       "     'reject',\n",
       "     'see_unreviewed',\n",
       "     'clear_votes',\n",
       "     'propose_edit_to',\n",
       "     'pin_to_profile',\n",
       "     'unpin_from_profile',\n",
       "     'update_source',\n",
       "     'edit_custom_preview',\n",
       "     'create_comment'],\n",
       "    'interactions': {'cosign': False, 'pyong': False, 'vote': None},\n",
       "    'iq_by_action': {}},\n",
       "   'authors': [{'attribution': 1.0,\n",
       "     'pinned_role': None,\n",
       "     'user': {'api_path': '/users/17336116',\n",
       "      'avatar': {'tiny': {'url': 'https://images.genius.com/avatars/tiny/9f94a554d3adc5275af111246f2bd29a',\n",
       "        'bounding_box': {'width': 16, 'height': 16}},\n",
       "       'thumb': {'url': 'https://images.genius.com/avatars/thumb/9f94a554d3adc5275af111246f2bd29a',\n",
       "        'bounding_box': {'width': 32, 'height': 32}},\n",
       "       'small': {'url': 'https://images.genius.com/avatars/small/9f94a554d3adc5275af111246f2bd29a',\n",
       "        'bounding_box': {'width': 100, 'height': 100}},\n",
       "       'medium': {'url': 'https://images.genius.com/avatars/medium/9f94a554d3adc5275af111246f2bd29a',\n",
       "        'bounding_box': {'width': 300, 'height': 400}}},\n",
       "      'header_image_url': 'https://images.genius.com/a3f3e4fae808e9426937a2b4180993bf.640x908x1.jpg',\n",
       "      'human_readable_role_for_display': 'Moderator',\n",
       "      'id': 17336116,\n",
       "      'iq': 1209351,\n",
       "      'login': 'Fri',\n",
       "      'name': 'Fri',\n",
       "      'role_for_display': 'moderator',\n",
       "      'url': 'https://genius.com/Fri',\n",
       "      'current_user_metadata': {'permissions': [],\n",
       "       'excluded_permissions': ['follow'],\n",
       "       'interactions': {'following': False}}}}],\n",
       "   'cosigned_by': [],\n",
       "   'rejection_comment': None,\n",
       "   'verified_by': None}]}"
      ]
     },
     "execution_count": 27,
     "metadata": {},
     "output_type": "execute_result"
    }
   ],
   "source": [
    "parsed['response']['song']['description_annotation']"
   ]
  },
  {
   "cell_type": "code",
   "execution_count": null,
   "id": "5cde2d12-e14f-4249-bf63-0e62e84817ec",
   "metadata": {},
   "outputs": [],
   "source": []
  },
  {
   "cell_type": "code",
   "execution_count": null,
   "id": "ab681b02-af5f-492e-a37b-7a8d0b150dcb",
   "metadata": {},
   "outputs": [],
   "source": []
  }
 ],
 "metadata": {
  "kernelspec": {
   "display_name": "Python 3 (ipykernel)",
   "language": "python",
   "name": "python3"
  },
  "language_info": {
   "codemirror_mode": {
    "name": "ipython",
    "version": 3
   },
   "file_extension": ".py",
   "mimetype": "text/x-python",
   "name": "python",
   "nbconvert_exporter": "python",
   "pygments_lexer": "ipython3",
   "version": "3.11.7"
  }
 },
 "nbformat": 4,
 "nbformat_minor": 5
}
