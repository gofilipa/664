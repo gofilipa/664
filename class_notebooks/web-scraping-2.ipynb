{
 "cells": [
  {
   "cell_type": "code",
   "execution_count": null,
   "id": "5f880b98-8ca8-45e1-9f75-5b038b8aba89",
   "metadata": {},
   "outputs": [],
   "source": [
    "import requests\n",
    "from bs4 import BeautifulSoup\n",
    "import lxml # parser"
   ]
  },
  {
   "cell_type": "code",
   "execution_count": 16,
   "id": "5a9c0091-edbc-44cd-a706-76dbe97c14eb",
   "metadata": {},
   "outputs": [],
   "source": [
    "site = requests.get('https://translegislation.com/bills/2025/US')\n",
    "source_code = site.content\n",
    "ramen = BeautifulSoup(source_code, 'lxml')"
   ]
  },
  {
   "cell_type": "code",
   "execution_count": 17,
   "id": "72714a26-f3d5-4e3c-b0b4-f9b37d92d180",
   "metadata": {},
   "outputs": [
    {
     "data": {
      "text/plain": [
       "<title>United States Bills | Anti-trans legislation</title>"
      ]
     },
     "execution_count": 17,
     "metadata": {},
     "output_type": "execute_result"
    }
   ],
   "source": [
    "ramen.title"
   ]
  },
  {
   "cell_type": "code",
   "execution_count": 18,
   "id": "066fc769-1c69-4f17-87c4-cc9035e4ff4d",
   "metadata": {},
   "outputs": [
    {
     "data": {
      "text/plain": [
       "'United States Bills | Anti-trans legislation'"
      ]
     },
     "execution_count": 18,
     "metadata": {},
     "output_type": "execute_result"
    }
   ],
   "source": [
    "ramen.title.text"
   ]
  },
  {
   "cell_type": "code",
   "execution_count": 19,
   "id": "b65a58a3-a971-4183-a645-692f01fd5755",
   "metadata": {},
   "outputs": [
    {
     "data": {
      "text/plain": [
       "<h3 class=\"chakra-heading css-1vygpf9\"><style data-emotion=\"css f4h6uy\">.css-f4h6uy{transition-property:var(--chakra-transition-property-common);transition-duration:var(--chakra-transition-duration-fast);transition-timing-function:var(--chakra-transition-easing-ease-out);cursor:pointer;-webkit-text-decoration:none;text-decoration:none;outline:2px solid transparent;outline-offset:2px;color:inherit;}.css-f4h6uy:hover,.css-f4h6uy[data-hover]{-webkit-text-decoration:underline;text-decoration:underline;}.css-f4h6uy:focus,.css-f4h6uy[data-focus]{box-shadow:var(--chakra-shadows-outline);}</style><a class=\"chakra-link css-f4h6uy\" href=\"/bills/2025/US/HB1015\">US<!-- --> <!-- -->HB1015</a></h3>"
      ]
     },
     "execution_count": 19,
     "metadata": {},
     "output_type": "execute_result"
    }
   ],
   "source": [
    "ramen.find('h3')"
   ]
  },
  {
   "cell_type": "code",
   "execution_count": 20,
   "id": "122dc0e7-151c-4f19-88d2-dcf7c384475a",
   "metadata": {},
   "outputs": [
    {
     "data": {
      "text/plain": [
       "'US HB1015'"
      ]
     },
     "execution_count": 20,
     "metadata": {},
     "output_type": "execute_result"
    }
   ],
   "source": [
    "ramen.find('h3').text"
   ]
  },
  {
   "cell_type": "code",
   "execution_count": null,
   "id": "d7a2cf9e-407f-450f-990b-d513ebe43281",
   "metadata": {},
   "outputs": [],
   "source": []
  },
  {
   "cell_type": "code",
   "execution_count": 21,
   "id": "b724168b-4487-4315-80b9-86c95186f70b",
   "metadata": {},
   "outputs": [],
   "source": [
    "bill_numbers = ramen.find_all('h3')"
   ]
  },
  {
   "cell_type": "code",
   "execution_count": 22,
   "id": "7aa91e24-a614-45ab-8965-f8c25296a6e5",
   "metadata": {},
   "outputs": [
    {
     "data": {
      "text/plain": [
       "bs4.element.ResultSet"
      ]
     },
     "execution_count": 22,
     "metadata": {},
     "output_type": "execute_result"
    }
   ],
   "source": [
    "type(bill_numbers)"
   ]
  },
  {
   "cell_type": "code",
   "execution_count": 23,
   "id": "e11cf701-053f-46de-bee4-0f7c382c486b",
   "metadata": {},
   "outputs": [
    {
     "ename": "AttributeError",
     "evalue": "ResultSet object has no attribute 'text'. You're probably treating a list of elements like a single element. Did you call find_all() when you meant to call find()?",
     "output_type": "error",
     "traceback": [
      "\u001b[0;31m---------------------------------------------------------------------------\u001b[0m",
      "\u001b[0;31mAttributeError\u001b[0m                            Traceback (most recent call last)",
      "Cell \u001b[0;32mIn[23], line 1\u001b[0m\n\u001b[0;32m----> 1\u001b[0m bill_numbers\u001b[38;5;241m.\u001b[39mtext\n",
      "File \u001b[0;32m/opt/anaconda3/lib/python3.11/site-packages/bs4/element.py:2428\u001b[0m, in \u001b[0;36mResultSet.__getattr__\u001b[0;34m(self, key)\u001b[0m\n\u001b[1;32m   2426\u001b[0m \u001b[38;5;28;01mdef\u001b[39;00m \u001b[38;5;21m__getattr__\u001b[39m(\u001b[38;5;28mself\u001b[39m, key):\n\u001b[1;32m   2427\u001b[0m \u001b[38;5;250m    \u001b[39m\u001b[38;5;124;03m\"\"\"Raise a helpful exception to explain a common code fix.\"\"\"\u001b[39;00m\n\u001b[0;32m-> 2428\u001b[0m     \u001b[38;5;28;01mraise\u001b[39;00m \u001b[38;5;167;01mAttributeError\u001b[39;00m(\n\u001b[1;32m   2429\u001b[0m         \u001b[38;5;124m\"\u001b[39m\u001b[38;5;124mResultSet object has no attribute \u001b[39m\u001b[38;5;124m'\u001b[39m\u001b[38;5;132;01m%s\u001b[39;00m\u001b[38;5;124m'\u001b[39m\u001b[38;5;124m. You\u001b[39m\u001b[38;5;124m'\u001b[39m\u001b[38;5;124mre probably treating a list of elements like a single element. Did you call find_all() when you meant to call find()?\u001b[39m\u001b[38;5;124m\"\u001b[39m \u001b[38;5;241m%\u001b[39m key\n\u001b[1;32m   2430\u001b[0m     )\n",
      "\u001b[0;31mAttributeError\u001b[0m: ResultSet object has no attribute 'text'. You're probably treating a list of elements like a single element. Did you call find_all() when you meant to call find()?"
     ]
    }
   ],
   "source": [
    "bill_numbers.text"
   ]
  },
  {
   "cell_type": "code",
   "execution_count": 77,
   "id": "376dbe70-ec14-48fe-8ebd-0d69df7439de",
   "metadata": {},
   "outputs": [],
   "source": [
    "# expand the loop to also print out: bill category, bill caption\n",
    "# save these items to lists\n",
    "\n",
    "bill_cards = ramen.find_all('div', class_ = 'css-4rck61')\n",
    "\n",
    "numbers = []\n",
    "categories = []\n",
    "captions = []\n",
    "descriptions = []\n",
    "\n",
    "for item in bill_cards:\n",
    "    numbers.append(item.h3.text)\n",
    "    categories.append(item.span.text)\n",
    "    captions.append(item.h2.text)\n",
    "    description = item.find('div', class_ = 'css-bxak8j').p\n",
    "    if description is not None:\n",
    "        descriptions.append(description.text)\n",
    "    else:\n",
    "        descriptions.append('There is no description')"
   ]
  },
  {
   "cell_type": "code",
   "execution_count": 78,
   "id": "deb4eb9b-267d-4d12-a51d-03e92a9a549a",
   "metadata": {},
   "outputs": [],
   "source": [
    "import pandas as pd"
   ]
  },
  {
   "cell_type": "code",
   "execution_count": 79,
   "id": "2ba8a898-8531-4bc7-92a7-283cd58be074",
   "metadata": {},
   "outputs": [],
   "source": [
    "data = pd.DataFrame({\n",
    "    'bill number': numbers,\n",
    "    'caption': captions,\n",
    "    'category': categories,\n",
    "    'description': descriptions\n",
    "})"
   ]
  },
  {
   "cell_type": "code",
   "execution_count": 81,
   "id": "cc7620cc-05a6-473f-9a99-09dab164b166",
   "metadata": {},
   "outputs": [
    {
     "data": {
      "text/plain": [
       "pandas.core.frame.DataFrame"
      ]
     },
     "execution_count": 81,
     "metadata": {},
     "output_type": "execute_result"
    }
   ],
   "source": [
    "type(data)"
   ]
  },
  {
   "cell_type": "code",
   "execution_count": 115,
   "id": "096f17bf-c2e7-4081-8322-23c4f6b28961",
   "metadata": {},
   "outputs": [
    {
     "data": {
      "text/html": [
       "<div>\n",
       "<style scoped>\n",
       "    .dataframe tbody tr th:only-of-type {\n",
       "        vertical-align: middle;\n",
       "    }\n",
       "\n",
       "    .dataframe tbody tr th {\n",
       "        vertical-align: top;\n",
       "    }\n",
       "\n",
       "    .dataframe thead th {\n",
       "        text-align: right;\n",
       "    }\n",
       "</style>\n",
       "<table border=\"1\" class=\"dataframe\">\n",
       "  <thead>\n",
       "    <tr style=\"text-align: right;\">\n",
       "      <th></th>\n",
       "      <th>bill number</th>\n",
       "      <th>caption</th>\n",
       "      <th>category</th>\n",
       "      <th>description</th>\n",
       "    </tr>\n",
       "  </thead>\n",
       "  <tbody>\n",
       "    <tr>\n",
       "      <th>0</th>\n",
       "      <td>US HB1015</td>\n",
       "      <td>To amend title 18, United States Code, to prov...</td>\n",
       "      <td>HEALTHCARE</td>\n",
       "      <td>To amend title 18, United States Code, to prov...</td>\n",
       "    </tr>\n",
       "    <tr>\n",
       "      <th>1</th>\n",
       "      <td>US HB1016</td>\n",
       "      <td>To prohibit individuals from accessing or usin...</td>\n",
       "      <td>BATHROOM</td>\n",
       "      <td>To prohibit individuals from accessing or usin...</td>\n",
       "    </tr>\n",
       "    <tr>\n",
       "      <th>2</th>\n",
       "      <td>US HB1017</td>\n",
       "      <td>To prohibit an entity from receiving Federal f...</td>\n",
       "      <td>BATHROOM</td>\n",
       "      <td>To prohibit an entity from receiving Federal f...</td>\n",
       "    </tr>\n",
       "    <tr>\n",
       "      <th>3</th>\n",
       "      <td>US HB1028</td>\n",
       "      <td>To modify eligibility requirements for amateur...</td>\n",
       "      <td>SPORTS</td>\n",
       "      <td>There is no description</td>\n",
       "    </tr>\n",
       "    <tr>\n",
       "      <th>4</th>\n",
       "      <td>US HB1139</td>\n",
       "      <td>To prohibit the Secretary of State from issuin...</td>\n",
       "      <td>BIRTH CERTIFICATES</td>\n",
       "      <td>There is no description</td>\n",
       "    </tr>\n",
       "    <tr>\n",
       "      <th>5</th>\n",
       "      <td>US HB1282</td>\n",
       "      <td>To prohibit Federal funding for institutions o...</td>\n",
       "      <td>EDUCATION</td>\n",
       "      <td>There is no description</td>\n",
       "    </tr>\n",
       "    <tr>\n",
       "      <th>6</th>\n",
       "      <td>US HB28</td>\n",
       "      <td>Protection of Women and Girls in Sports Act of...</td>\n",
       "      <td>SPORTS</td>\n",
       "      <td>To amend the Education Amendments of 1972 to p...</td>\n",
       "    </tr>\n",
       "    <tr>\n",
       "      <th>7</th>\n",
       "      <td>US HB461</td>\n",
       "      <td>Eliminate DEI in the Military Act</td>\n",
       "      <td>MILITARY</td>\n",
       "      <td>To prohibit the use of Federal funds for any D...</td>\n",
       "    </tr>\n",
       "    <tr>\n",
       "      <th>8</th>\n",
       "      <td>US HB498</td>\n",
       "      <td>Do No Harm in Medicaid Act</td>\n",
       "      <td>HEALTHCARE</td>\n",
       "      <td>To amend title XIX of the Social Security Act ...</td>\n",
       "    </tr>\n",
       "    <tr>\n",
       "      <th>9</th>\n",
       "      <td>US HB600</td>\n",
       "      <td>WHO is Accountable Act</td>\n",
       "      <td>HEALTHCARE</td>\n",
       "      <td>To prohibit the use of funds to seek membershi...</td>\n",
       "    </tr>\n",
       "    <tr>\n",
       "      <th>10</th>\n",
       "      <td>US HB653</td>\n",
       "      <td>Protect Minors from Medical Malpractice Act of...</td>\n",
       "      <td>HEALTHCARE</td>\n",
       "      <td>To protect children from medical malpractice i...</td>\n",
       "    </tr>\n",
       "    <tr>\n",
       "      <th>11</th>\n",
       "      <td>US HB742</td>\n",
       "      <td>To prohibit Federal funds from being used to p...</td>\n",
       "      <td>HEALTHCARE</td>\n",
       "      <td>There is no description</td>\n",
       "    </tr>\n",
       "    <tr>\n",
       "      <th>12</th>\n",
       "      <td>US HB800</td>\n",
       "      <td>To enact into law the executive order relating...</td>\n",
       "      <td>OTHER</td>\n",
       "      <td>To enact into law the executive order relating...</td>\n",
       "    </tr>\n",
       "    <tr>\n",
       "      <th>13</th>\n",
       "      <td>US HR26</td>\n",
       "      <td>Deeming certain conduct of members of Antifa a...</td>\n",
       "      <td>OTHER</td>\n",
       "      <td>Deeming certain conduct of members of Antifa a...</td>\n",
       "    </tr>\n",
       "    <tr>\n",
       "      <th>14</th>\n",
       "      <td>US HR47</td>\n",
       "      <td>Concerning the National Collegiate Athletic As...</td>\n",
       "      <td>SPORTS</td>\n",
       "      <td>The House of Representatives (1) calls on the ...</td>\n",
       "    </tr>\n",
       "    <tr>\n",
       "      <th>15</th>\n",
       "      <td>US SB209</td>\n",
       "      <td>A bill to protect children from medical malpra...</td>\n",
       "      <td>HEALTHCARE</td>\n",
       "      <td>There is no description</td>\n",
       "    </tr>\n",
       "    <tr>\n",
       "      <th>16</th>\n",
       "      <td>US SB312</td>\n",
       "      <td>A bill to establish a Federal tort against ped...</td>\n",
       "      <td>HEALTHCARE</td>\n",
       "      <td>There is no description</td>\n",
       "    </tr>\n",
       "    <tr>\n",
       "      <th>17</th>\n",
       "      <td>US SB74</td>\n",
       "      <td>Fair Play for Girls Act</td>\n",
       "      <td>SPORTS</td>\n",
       "      <td>A bill to require the Attorney General to subm...</td>\n",
       "    </tr>\n",
       "    <tr>\n",
       "      <th>18</th>\n",
       "      <td>US SB9</td>\n",
       "      <td>Protection of Women and Girls in Sports Act of...</td>\n",
       "      <td>SPORTS</td>\n",
       "      <td>A bill to provide that for purposes of determi...</td>\n",
       "    </tr>\n",
       "    <tr>\n",
       "      <th>19</th>\n",
       "      <td>US SR21</td>\n",
       "      <td>A resolution designating October 10, 2025, as ...</td>\n",
       "      <td>SPORTS</td>\n",
       "      <td>Whereas the National Association of Intercolle...</td>\n",
       "    </tr>\n",
       "    <tr>\n",
       "      <th>20</th>\n",
       "      <td>US SR22</td>\n",
       "      <td>A resolution concerning the National Collegiat...</td>\n",
       "      <td>SPORTS</td>\n",
       "      <td>The House of Representatives (1) calls on the ...</td>\n",
       "    </tr>\n",
       "  </tbody>\n",
       "</table>\n",
       "</div>"
      ],
      "text/plain": [
       "   bill number                                            caption  \\\n",
       "0    US HB1015  To amend title 18, United States Code, to prov...   \n",
       "1    US HB1016  To prohibit individuals from accessing or usin...   \n",
       "2    US HB1017  To prohibit an entity from receiving Federal f...   \n",
       "3    US HB1028  To modify eligibility requirements for amateur...   \n",
       "4    US HB1139  To prohibit the Secretary of State from issuin...   \n",
       "5    US HB1282  To prohibit Federal funding for institutions o...   \n",
       "6      US HB28  Protection of Women and Girls in Sports Act of...   \n",
       "7     US HB461                  Eliminate DEI in the Military Act   \n",
       "8     US HB498                         Do No Harm in Medicaid Act   \n",
       "9     US HB600                             WHO is Accountable Act   \n",
       "10    US HB653  Protect Minors from Medical Malpractice Act of...   \n",
       "11    US HB742  To prohibit Federal funds from being used to p...   \n",
       "12    US HB800  To enact into law the executive order relating...   \n",
       "13     US HR26  Deeming certain conduct of members of Antifa a...   \n",
       "14     US HR47  Concerning the National Collegiate Athletic As...   \n",
       "15    US SB209  A bill to protect children from medical malpra...   \n",
       "16    US SB312  A bill to establish a Federal tort against ped...   \n",
       "17     US SB74                            Fair Play for Girls Act   \n",
       "18      US SB9  Protection of Women and Girls in Sports Act of...   \n",
       "19     US SR21  A resolution designating October 10, 2025, as ...   \n",
       "20     US SR22  A resolution concerning the National Collegiat...   \n",
       "\n",
       "              category                                        description  \n",
       "0           HEALTHCARE  To amend title 18, United States Code, to prov...  \n",
       "1             BATHROOM  To prohibit individuals from accessing or usin...  \n",
       "2             BATHROOM  To prohibit an entity from receiving Federal f...  \n",
       "3               SPORTS                            There is no description  \n",
       "4   BIRTH CERTIFICATES                            There is no description  \n",
       "5            EDUCATION                            There is no description  \n",
       "6               SPORTS  To amend the Education Amendments of 1972 to p...  \n",
       "7             MILITARY  To prohibit the use of Federal funds for any D...  \n",
       "8           HEALTHCARE  To amend title XIX of the Social Security Act ...  \n",
       "9           HEALTHCARE  To prohibit the use of funds to seek membershi...  \n",
       "10          HEALTHCARE  To protect children from medical malpractice i...  \n",
       "11          HEALTHCARE                            There is no description  \n",
       "12               OTHER  To enact into law the executive order relating...  \n",
       "13               OTHER  Deeming certain conduct of members of Antifa a...  \n",
       "14              SPORTS  The House of Representatives (1) calls on the ...  \n",
       "15          HEALTHCARE                            There is no description  \n",
       "16          HEALTHCARE                            There is no description  \n",
       "17              SPORTS  A bill to require the Attorney General to subm...  \n",
       "18              SPORTS  A bill to provide that for purposes of determi...  \n",
       "19              SPORTS  Whereas the National Association of Intercolle...  \n",
       "20              SPORTS  The House of Representatives (1) calls on the ...  "
      ]
     },
     "execution_count": 115,
     "metadata": {},
     "output_type": "execute_result"
    }
   ],
   "source": [
    "data"
   ]
  },
  {
   "cell_type": "code",
   "execution_count": 85,
   "id": "06a4a4f0-08e3-432b-ba65-7f2f8b40ddcb",
   "metadata": {},
   "outputs": [],
   "source": [
    "data.to_csv('bill_data.csv')"
   ]
  },
  {
   "cell_type": "code",
   "execution_count": 111,
   "id": "86dd2e8f-6902-4bb9-aa23-41fbea604534",
   "metadata": {},
   "outputs": [],
   "source": [
    "site = requests.get('https://www.pratt.edu/people/?live_global_search_people%5BrefinementList%5D%5Bperson_type%5D%5B0%5D=Faculty')"
   ]
  },
  {
   "cell_type": "code",
   "execution_count": 112,
   "id": "1bfe7873-abb4-4209-9144-24d4599a38c4",
   "metadata": {},
   "outputs": [],
   "source": [
    "source = site.content"
   ]
  },
  {
   "cell_type": "code",
   "execution_count": 113,
   "id": "96f7d27a-3d76-41f7-899f-a4ee580a49ed",
   "metadata": {},
   "outputs": [],
   "source": [
    "soup = BeautifulSoup(source, 'lxml')"
   ]
  },
  {
   "cell_type": "code",
   "execution_count": 114,
   "id": "61764452-55c4-4b6f-81e6-3bbc3cd89237",
   "metadata": {},
   "outputs": [],
   "source": [
    "soup.find('div', class_ = 'person-hit ')"
   ]
  },
  {
   "cell_type": "code",
   "execution_count": null,
   "id": "41f2a9e4-4d7a-4d6c-8d9c-9eab29b869eb",
   "metadata": {},
   "outputs": [],
   "source": []
  }
 ],
 "metadata": {
  "kernelspec": {
   "display_name": "Python 3 (ipykernel)",
   "language": "python",
   "name": "python3"
  },
  "language_info": {
   "codemirror_mode": {
    "name": "ipython",
    "version": 3
   },
   "file_extension": ".py",
   "mimetype": "text/x-python",
   "name": "python",
   "nbconvert_exporter": "python",
   "pygments_lexer": "ipython3",
   "version": "3.11.7"
  }
 },
 "nbformat": 4,
 "nbformat_minor": 5
}
