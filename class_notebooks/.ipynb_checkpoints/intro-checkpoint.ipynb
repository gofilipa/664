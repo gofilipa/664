{
 "cells": [
  {
   "cell_type": "code",
   "execution_count": 1,
   "id": "14bb05b0-7c91-4e09-b0b5-850039f903aa",
   "metadata": {},
   "outputs": [
    {
     "data": {
      "text/plain": [
       "2"
      ]
     },
     "execution_count": 1,
     "metadata": {},
     "output_type": "execute_result"
    }
   ],
   "source": [
    "1 + 1"
   ]
  },
  {
   "cell_type": "code",
   "execution_count": 2,
   "id": "888faaf6-f818-4d78-a20d-04872a1d8ad8",
   "metadata": {},
   "outputs": [
    {
     "data": {
      "text/plain": [
       "45"
      ]
     },
     "execution_count": 2,
     "metadata": {},
     "output_type": "execute_result"
    }
   ],
   "source": [
    "5 * 9"
   ]
  },
  {
   "cell_type": "code",
   "execution_count": 3,
   "id": "fb916da3-e171-42cf-8ac9-cd6c03f1084a",
   "metadata": {},
   "outputs": [
    {
     "data": {
      "text/plain": [
       "10.0"
      ]
     },
     "execution_count": 3,
     "metadata": {},
     "output_type": "execute_result"
    }
   ],
   "source": [
    "10/1"
   ]
  },
  {
   "cell_type": "code",
   "execution_count": 4,
   "id": "292746d6-a69b-43cd-b98e-7ea342b84dea",
   "metadata": {},
   "outputs": [
    {
     "data": {
      "text/plain": [
       "80"
      ]
     },
     "execution_count": 4,
     "metadata": {},
     "output_type": "execute_result"
    }
   ],
   "source": [
    "89 - 9"
   ]
  },
  {
   "cell_type": "code",
   "execution_count": 5,
   "id": "e7ccf638-8c90-4c93-9bec-b63ee69b6e18",
   "metadata": {},
   "outputs": [
    {
     "data": {
      "text/plain": [
       "int"
      ]
     },
     "execution_count": 5,
     "metadata": {},
     "output_type": "execute_result"
    }
   ],
   "source": [
    "# functions - a way of doing things. \n",
    "\n",
    "type(1)"
   ]
  },
  {
   "cell_type": "code",
   "execution_count": 9,
   "id": "13e29a44-591c-49a1-8036-35adcc714d07",
   "metadata": {},
   "outputs": [
    {
     "data": {
      "text/plain": [
       "str"
      ]
     },
     "execution_count": 9,
     "metadata": {},
     "output_type": "execute_result"
    }
   ],
   "source": [
    "type(\"hello')\")"
   ]
  },
  {
   "cell_type": "code",
   "execution_count": 10,
   "id": "63a96f1c-16cf-497c-b18b-98f840ef6ad8",
   "metadata": {},
   "outputs": [
    {
     "data": {
      "text/plain": [
       "float"
      ]
     },
     "execution_count": 10,
     "metadata": {},
     "output_type": "execute_result"
    }
   ],
   "source": [
    "type(1.0)"
   ]
  },
  {
   "cell_type": "code",
   "execution_count": 12,
   "id": "64999f22-4764-429f-954f-4c56be641e0d",
   "metadata": {},
   "outputs": [
    {
     "data": {
      "text/plain": [
       "str"
      ]
     },
     "execution_count": 12,
     "metadata": {},
     "output_type": "execute_result"
    }
   ],
   "source": [
    "type('1')"
   ]
  },
  {
   "cell_type": "code",
   "execution_count": 13,
   "id": "d4768d78-3ebe-4f37-bb23-ed3d8d5aeefe",
   "metadata": {},
   "outputs": [
    {
     "data": {
      "text/plain": [
       "bool"
      ]
     },
     "execution_count": 13,
     "metadata": {},
     "output_type": "execute_result"
    }
   ],
   "source": [
    "type(True)"
   ]
  },
  {
   "cell_type": "code",
   "execution_count": 14,
   "id": "14ea7dc2-83c7-4819-9cb0-e28bd6560b19",
   "metadata": {},
   "outputs": [
    {
     "data": {
      "text/plain": [
       "bool"
      ]
     },
     "execution_count": 14,
     "metadata": {},
     "output_type": "execute_result"
    }
   ],
   "source": [
    "type(False)"
   ]
  },
  {
   "cell_type": "code",
   "execution_count": 15,
   "id": "ac02dc6a-6e05-48e7-8847-3f7c003dcd77",
   "metadata": {},
   "outputs": [
    {
     "data": {
      "text/plain": [
       "list"
      ]
     },
     "execution_count": 15,
     "metadata": {},
     "output_type": "execute_result"
    }
   ],
   "source": [
    "type(['pizza', 'chicken sandwich', 'tangerine', 'burrito', 'salad'])"
   ]
  },
  {
   "cell_type": "code",
   "execution_count": 16,
   "id": "463d8fdb-96a2-4c4a-840d-0c31c9190ee9",
   "metadata": {},
   "outputs": [
    {
     "data": {
      "text/plain": [
       "list"
      ]
     },
     "execution_count": 16,
     "metadata": {},
     "output_type": "execute_result"
    }
   ],
   "source": [
    "type([1, 99, 35, 22])"
   ]
  },
  {
   "cell_type": "code",
   "execution_count": 17,
   "id": "65534b95-5783-41ac-9f2a-9711cc27bc51",
   "metadata": {},
   "outputs": [],
   "source": [
    "# variables\n",
    "\n",
    "x = 35"
   ]
  },
  {
   "cell_type": "code",
   "execution_count": 18,
   "id": "fdf9475d-3ed3-4dea-a204-580edebc9bc1",
   "metadata": {},
   "outputs": [],
   "source": [
    "y = 14"
   ]
  },
  {
   "cell_type": "code",
   "execution_count": 19,
   "id": "81689a88-fac1-4710-9268-74a3a0fb3d0f",
   "metadata": {},
   "outputs": [
    {
     "data": {
      "text/plain": [
       "49"
      ]
     },
     "execution_count": 19,
     "metadata": {},
     "output_type": "execute_result"
    }
   ],
   "source": [
    "x + y"
   ]
  },
  {
   "cell_type": "code",
   "execution_count": 26,
   "id": "f32f182b-ae2b-49ea-a6ce-74cf0c543b9c",
   "metadata": {},
   "outputs": [],
   "source": [
    "x = 'hello '"
   ]
  },
  {
   "cell_type": "code",
   "execution_count": 21,
   "id": "63f78463-1732-4d46-81ba-5756e1e8e49f",
   "metadata": {},
   "outputs": [],
   "source": [
    "y='goodbye'"
   ]
  },
  {
   "cell_type": "code",
   "execution_count": 28,
   "id": "7e2925e4-cef7-4c83-8d01-2d90e8ae8dd5",
   "metadata": {},
   "outputs": [
    {
     "data": {
      "text/plain": [
       "'hello goodbye'"
      ]
     },
     "execution_count": 28,
     "metadata": {},
     "output_type": "execute_result"
    }
   ],
   "source": [
    "x+y"
   ]
  },
  {
   "cell_type": "code",
   "execution_count": 27,
   "id": "dc1c1867-b6e5-4dc8-b02f-440746bbb11b",
   "metadata": {},
   "outputs": [
    {
     "data": {
      "text/plain": [
       "'hello '"
      ]
     },
     "execution_count": 27,
     "metadata": {},
     "output_type": "execute_result"
    }
   ],
   "source": [
    "x"
   ]
  },
  {
   "cell_type": "code",
   "execution_count": 29,
   "id": "f3e42677-a7f7-41d3-87c1-06a503cab1fe",
   "metadata": {},
   "outputs": [],
   "source": [
    "breakfast = ['oatmeal', 'coffee', 'cigarette', 'diet coke']"
   ]
  },
  {
   "cell_type": "code",
   "execution_count": 30,
   "id": "525fc9bf-60ec-4fd3-b1be-d88a848e9c37",
   "metadata": {},
   "outputs": [
    {
     "data": {
      "text/plain": [
       "list"
      ]
     },
     "execution_count": 30,
     "metadata": {},
     "output_type": "execute_result"
    }
   ],
   "source": [
    "type(breakfast)"
   ]
  },
  {
   "cell_type": "code",
   "execution_count": 31,
   "id": "7fc42638-7277-4203-ad23-ce8afc0632a0",
   "metadata": {},
   "outputs": [],
   "source": [
    "greeting = 'hello and goodbye'"
   ]
  },
  {
   "cell_type": "code",
   "execution_count": 32,
   "id": "465b5d23-e77d-4209-baf8-b9bc23c7c1bb",
   "metadata": {},
   "outputs": [
    {
     "data": {
      "text/plain": [
       "'hello and goodbye'"
      ]
     },
     "execution_count": 32,
     "metadata": {},
     "output_type": "execute_result"
    }
   ],
   "source": [
    "greeting"
   ]
  },
  {
   "cell_type": "code",
   "execution_count": 33,
   "id": "4a8a4914-b6e8-4d24-b96b-3546e6710d51",
   "metadata": {},
   "outputs": [
    {
     "data": {
      "text/plain": [
       "'HELLO AND GOODBYE'"
      ]
     },
     "execution_count": 33,
     "metadata": {},
     "output_type": "execute_result"
    }
   ],
   "source": [
    "greeting.upper()"
   ]
  },
  {
   "cell_type": "code",
   "execution_count": 34,
   "id": "8ef3b5e3-b30b-442a-a33c-ee0319183cee",
   "metadata": {},
   "outputs": [
    {
     "data": {
      "text/plain": [
       "'hello and goodbye'"
      ]
     },
     "execution_count": 34,
     "metadata": {},
     "output_type": "execute_result"
    }
   ],
   "source": [
    "greeting.lower()"
   ]
  },
  {
   "cell_type": "code",
   "execution_count": 35,
   "id": "0e22194f-0cfc-424a-856f-738acdbfb140",
   "metadata": {},
   "outputs": [
    {
     "data": {
      "text/plain": [
       "['oatmeal', 'coffee', 'cigarette', 'diet coke']"
      ]
     },
     "execution_count": 35,
     "metadata": {},
     "output_type": "execute_result"
    }
   ],
   "source": [
    "breakfast"
   ]
  },
  {
   "cell_type": "code",
   "execution_count": 36,
   "id": "57c5d01e-453d-4d31-ae82-79ddd6d6202c",
   "metadata": {},
   "outputs": [
    {
     "ename": "AttributeError",
     "evalue": "'list' object has no attribute 'upper'",
     "output_type": "error",
     "traceback": [
      "\u001b[0;31m---------------------------------------------------------------------------\u001b[0m",
      "\u001b[0;31mAttributeError\u001b[0m                            Traceback (most recent call last)",
      "Cell \u001b[0;32mIn[36], line 1\u001b[0m\n\u001b[0;32m----> 1\u001b[0m breakfast\u001b[38;5;241m.\u001b[39mupper()\n",
      "\u001b[0;31mAttributeError\u001b[0m: 'list' object has no attribute 'upper'"
     ]
    }
   ],
   "source": [
    "breakfast.upper()"
   ]
  },
  {
   "cell_type": "code",
   "execution_count": 39,
   "id": "a188f63e-b936-40e7-90b5-4cb772954ffa",
   "metadata": {},
   "outputs": [],
   "source": [
    "z = greeting.split()"
   ]
  },
  {
   "cell_type": "code",
   "execution_count": 40,
   "id": "d205009f-497b-42bd-9b55-065bed3cb5a8",
   "metadata": {},
   "outputs": [
    {
     "data": {
      "text/plain": [
       "'hello and goodbye'"
      ]
     },
     "execution_count": 40,
     "metadata": {},
     "output_type": "execute_result"
    }
   ],
   "source": [
    "greeting"
   ]
  },
  {
   "cell_type": "code",
   "execution_count": 41,
   "id": "eb1079a2-e452-4315-920d-2c51ddd8ca82",
   "metadata": {},
   "outputs": [
    {
     "data": {
      "text/plain": [
       "['hello', 'and', 'goodbye']"
      ]
     },
     "execution_count": 41,
     "metadata": {},
     "output_type": "execute_result"
    }
   ],
   "source": [
    "z"
   ]
  },
  {
   "cell_type": "code",
   "execution_count": 42,
   "id": "3bc3ef61-8f09-46ba-862c-8d2402cc0f2b",
   "metadata": {},
   "outputs": [
    {
     "data": {
      "text/plain": [
       "4"
      ]
     },
     "execution_count": 42,
     "metadata": {},
     "output_type": "execute_result"
    }
   ],
   "source": [
    "# len() - counts the length of an object\n",
    "\n",
    "len(breakfast)"
   ]
  },
  {
   "cell_type": "code",
   "execution_count": 43,
   "id": "6f5c3f65-3629-4b51-9408-1bd957167a4b",
   "metadata": {},
   "outputs": [
    {
     "data": {
      "text/plain": [
       "17"
      ]
     },
     "execution_count": 43,
     "metadata": {},
     "output_type": "execute_result"
    }
   ],
   "source": [
    "len(greeting)"
   ]
  },
  {
   "cell_type": "code",
   "execution_count": 44,
   "id": "52163680-d65f-4f7e-ad65-77a31ab8ec6e",
   "metadata": {},
   "outputs": [
    {
     "data": {
      "text/plain": [
       "3"
      ]
     },
     "execution_count": 44,
     "metadata": {},
     "output_type": "execute_result"
    }
   ],
   "source": [
    "len(z)"
   ]
  },
  {
   "cell_type": "code",
   "execution_count": 45,
   "id": "744f0241-5a5d-4949-91d5-f0aaba66f215",
   "metadata": {},
   "outputs": [],
   "source": [
    "length = len(z)"
   ]
  },
  {
   "cell_type": "code",
   "execution_count": 46,
   "id": "645dc164-9579-44e5-a94b-3482a3f189bc",
   "metadata": {},
   "outputs": [
    {
     "data": {
      "text/plain": [
       "3"
      ]
     },
     "execution_count": 46,
     "metadata": {},
     "output_type": "execute_result"
    }
   ],
   "source": [
    "length"
   ]
  },
  {
   "cell_type": "code",
   "execution_count": 52,
   "id": "daf7edce-cc23-49df-84fe-c25b2c26240a",
   "metadata": {},
   "outputs": [],
   "source": [
    "text = ''' \n",
    "  1. We refuse to operate under the assumption that risk and harm\n",
    "  associated with data practices can be bounded to  mean the same\n",
    "  thing for everyone, everywhere, at every time. We commit to\n",
    "  acknowledging how historical and systemic patterns of violence \n",
    "  and exploitation produce differential vulnerabilities for \n",
    "  communities.\n",
    "  2. We refuse to be disciplined by data, devices, and practices \n",
    "  that seek to shape and normalize racialized, gendered, and \n",
    "  differently-abled bodies in ways that make us available to be \n",
    "  tracked, monitored, and surveilled. We commit to taking back \n",
    "  control over the ways we behave, live, and engage with data and \n",
    "  its technologies.\n",
    "  3. We refuse the use of data about people in perpetuity. We \n",
    "  commit to embracing agency and working with intentionality, \n",
    "  preparing bodies or corpuses of data to be laid to rest when they \n",
    "  are not being used in service to the people about whom they were \n",
    "  created.\n",
    "  4. We refuse to understand data as disembodied and thereby \n",
    "  dehumanized and departicularized. We commit to understanding \n",
    "  data as always and variously attached to bodies; we vow to \n",
    "  interrogate the biopolitical implications of data with a keen \n",
    "  eye to gender, race, sexuality, class, disability, nationality, \n",
    "  and other forms of embodied difference.\n",
    "  5. We refuse any code of phony “ethics” and false proclamations of \n",
    "  transparency that are wielded as cover, as tools of power, as forms \n",
    "  for escape that let the people who create systems off the hook from \n",
    "  accountability or responsibility. We commit to a feminist data \n",
    "  ethics that explicitly seeks equity and demands justice by helping \n",
    "  us understand and shift how power works.'''\n",
    "\n",
    "sentences = text.split('.')"
   ]
  },
  {
   "cell_type": "code",
   "execution_count": 54,
   "id": "9251f61d-49f8-4827-ba49-4ffcc890cd6c",
   "metadata": {},
   "outputs": [
    {
     "name": "stdout",
     "output_type": "stream",
     "text": [
      "[' \\n  1', ' We refuse to operate under the assumption that risk and harm\\n  associated with data practices can be bounded to  mean the same\\n  thing for everyone, everywhere, at every time', ' We commit to\\n  acknowledging how historical and systemic patterns of violence \\n  and exploitation produce differential vulnerabilities for \\n  communities', '\\n  2', ' We refuse to be disciplined by data, devices, and practices \\n  that seek to shape and normalize racialized, gendered, and \\n  differently-abled bodies in ways that make us available to be \\n  tracked, monitored, and surveilled', ' We commit to taking back \\n  control over the ways we behave, live, and engage with data and \\n  its technologies', '\\n  3', ' We refuse the use of data about people in perpetuity', ' We \\n  commit to embracing agency and working with intentionality, \\n  preparing bodies or corpuses of data to be laid to rest when they \\n  are not being used in service to the people about whom they were \\n  created', '\\n  4', ' We refuse to understand data as disembodied and thereby \\n  dehumanized and departicularized', ' We commit to understanding \\n  data as always and variously attached to bodies; we vow to \\n  interrogate the biopolitical implications of data with a keen \\n  eye to gender, race, sexuality, class, disability, nationality, \\n  and other forms of embodied difference', '\\n  5', ' We refuse any code of phony “ethics” and false proclamations of \\n  transparency that are wielded as cover, as tools of power, as forms \\n  for escape that let the people who create systems off the hook from \\n  accountability or responsibility', ' We commit to a feminist data \\n  ethics that explicitly seeks equity and demands justice by helping \\n  us understand and shift how power works', '']\n"
     ]
    }
   ],
   "source": [
    "len()\n",
    "type()\n",
    "upper()\n",
    "split()\n",
    "print()\n",
    "\n",
    "print(sentences)"
   ]
  },
  {
   "cell_type": "code",
   "execution_count": 55,
   "id": "db4617d8-3cde-4288-9da0-6fbd3051389f",
   "metadata": {},
   "outputs": [
    {
     "data": {
      "text/plain": [
       "[' \\n  1',\n",
       " ' We refuse to operate under the assumption that risk and harm\\n  associated with data practices can be bounded to  mean the same\\n  thing for everyone, everywhere, at every time',\n",
       " ' We commit to\\n  acknowledging how historical and systemic patterns of violence \\n  and exploitation produce differential vulnerabilities for \\n  communities',\n",
       " '\\n  2',\n",
       " ' We refuse to be disciplined by data, devices, and practices \\n  that seek to shape and normalize racialized, gendered, and \\n  differently-abled bodies in ways that make us available to be \\n  tracked, monitored, and surveilled',\n",
       " ' We commit to taking back \\n  control over the ways we behave, live, and engage with data and \\n  its technologies',\n",
       " '\\n  3',\n",
       " ' We refuse the use of data about people in perpetuity',\n",
       " ' We \\n  commit to embracing agency and working with intentionality, \\n  preparing bodies or corpuses of data to be laid to rest when they \\n  are not being used in service to the people about whom they were \\n  created',\n",
       " '\\n  4',\n",
       " ' We refuse to understand data as disembodied and thereby \\n  dehumanized and departicularized',\n",
       " ' We commit to understanding \\n  data as always and variously attached to bodies; we vow to \\n  interrogate the biopolitical implications of data with a keen \\n  eye to gender, race, sexuality, class, disability, nationality, \\n  and other forms of embodied difference',\n",
       " '\\n  5',\n",
       " ' We refuse any code of phony “ethics” and false proclamations of \\n  transparency that are wielded as cover, as tools of power, as forms \\n  for escape that let the people who create systems off the hook from \\n  accountability or responsibility',\n",
       " ' We commit to a feminist data \\n  ethics that explicitly seeks equity and demands justice by helping \\n  us understand and shift how power works',\n",
       " '']"
      ]
     },
     "execution_count": 55,
     "metadata": {},
     "output_type": "execute_result"
    }
   ],
   "source": [
    "sentences"
   ]
  },
  {
   "cell_type": "code",
   "execution_count": 56,
   "id": "2142b6d6-18d1-43f2-b216-730390a0a904",
   "metadata": {},
   "outputs": [],
   "source": [
    "# data types - how python classifies data\n",
    "# functions - ways of doing things to do data (type, len, print, etc)\n",
    "# variables - how we store and label data\n",
    "# abstraction - how we layer functions and variables on each other to transform data\n",
    "# lists\n",
    "# loops"
   ]
  },
  {
   "cell_type": "code",
   "execution_count": 57,
   "id": "83f2b019-2658-455c-bdf1-e34ac517d608",
   "metadata": {},
   "outputs": [
    {
     "data": {
      "text/plain": [
       "['oatmeal', 'coffee', 'cigarette', 'diet coke']"
      ]
     },
     "execution_count": 57,
     "metadata": {},
     "output_type": "execute_result"
    }
   ],
   "source": [
    "breakfast"
   ]
  },
  {
   "cell_type": "code",
   "execution_count": 58,
   "id": "f2c693f5-e3d6-48b6-91c0-9295c87918e2",
   "metadata": {},
   "outputs": [
    {
     "data": {
      "text/plain": [
       "'cigarette'"
      ]
     },
     "execution_count": 58,
     "metadata": {},
     "output_type": "execute_result"
    }
   ],
   "source": [
    "breakfast[2]"
   ]
  },
  {
   "cell_type": "code",
   "execution_count": 59,
   "id": "19d99a4c-16c5-4b22-870f-477f7d27e2a2",
   "metadata": {},
   "outputs": [
    {
     "data": {
      "text/plain": [
       "'oatmeal'"
      ]
     },
     "execution_count": 59,
     "metadata": {},
     "output_type": "execute_result"
    }
   ],
   "source": [
    "breakfast[0]"
   ]
  },
  {
   "cell_type": "code",
   "execution_count": 60,
   "id": "c801482f-a3e6-4f57-a885-3ca777988264",
   "metadata": {},
   "outputs": [
    {
     "data": {
      "text/plain": [
       "'diet coke'"
      ]
     },
     "execution_count": 60,
     "metadata": {},
     "output_type": "execute_result"
    }
   ],
   "source": [
    "breakfast[3]"
   ]
  },
  {
   "cell_type": "code",
   "execution_count": 61,
   "id": "e70249f4-f023-4bb8-b5c6-8335b328aa0d",
   "metadata": {},
   "outputs": [
    {
     "data": {
      "text/plain": [
       "'diet coke'"
      ]
     },
     "execution_count": 61,
     "metadata": {},
     "output_type": "execute_result"
    }
   ],
   "source": [
    "breakfast[-1]"
   ]
  },
  {
   "cell_type": "code",
   "execution_count": 62,
   "id": "0ab53ee7-6d1f-4da2-922d-7d5983220e88",
   "metadata": {},
   "outputs": [
    {
     "data": {
      "text/plain": [
       "['oatmeal', 'coffee']"
      ]
     },
     "execution_count": 62,
     "metadata": {},
     "output_type": "execute_result"
    }
   ],
   "source": [
    "# slice\n",
    "\n",
    "# first number is inclusive, second number is exclusive\n",
    "breakfast[0:2]"
   ]
  },
  {
   "cell_type": "code",
   "execution_count": 63,
   "id": "bc535964-9011-4b37-bc15-eb869bae3a89",
   "metadata": {},
   "outputs": [],
   "source": [
    "breakfast = ['oatmeal', 'coffee', 'cigarette', 'diet coke', 'eggs', 'chia', 'banana']"
   ]
  },
  {
   "cell_type": "code",
   "execution_count": 64,
   "id": "22109e15-a46b-4763-a81f-e5c7b6fd7f32",
   "metadata": {},
   "outputs": [
    {
     "data": {
      "text/plain": [
       "['eggs', 'chia', 'banana']"
      ]
     },
     "execution_count": 64,
     "metadata": {},
     "output_type": "execute_result"
    }
   ],
   "source": [
    "breakfast[4:7]"
   ]
  },
  {
   "cell_type": "code",
   "execution_count": 66,
   "id": "47e65008-5828-4d1b-94a3-d91839961ecd",
   "metadata": {},
   "outputs": [
    {
     "data": {
      "text/plain": [
       "['eggs', 'chia', 'banana']"
      ]
     },
     "execution_count": 66,
     "metadata": {},
     "output_type": "execute_result"
    }
   ],
   "source": [
    "breakfast[-3:]"
   ]
  },
  {
   "cell_type": "code",
   "execution_count": 67,
   "id": "c51f4bfa-5e9a-465e-9247-968d6a43e560",
   "metadata": {},
   "outputs": [
    {
     "data": {
      "text/plain": [
       "['oatmeal', 'coffee', 'cigarette', 'diet coke', 'eggs']"
      ]
     },
     "execution_count": 67,
     "metadata": {},
     "output_type": "execute_result"
    }
   ],
   "source": [
    "breakfast[:5]"
   ]
  },
  {
   "cell_type": "code",
   "execution_count": 68,
   "id": "a6c7c02b-19c4-41c3-bd10-dc10cd921ff8",
   "metadata": {},
   "outputs": [
    {
     "data": {
      "text/plain": [
       "['cigarette', 'diet coke', 'eggs']"
      ]
     },
     "execution_count": 68,
     "metadata": {},
     "output_type": "execute_result"
    }
   ],
   "source": [
    "# write a slice that prints the middle three items from 'breakfast'\n",
    "breakfast[2:5]"
   ]
  },
  {
   "cell_type": "code",
   "execution_count": 69,
   "id": "b522c62b-bd32-4519-b3b4-d0965986d434",
   "metadata": {},
   "outputs": [],
   "source": [
    "# list methods/functions\n",
    "\n",
    "breakfast.append('bagel')"
   ]
  },
  {
   "cell_type": "code",
   "execution_count": 70,
   "id": "1d07cb61-dce4-40e7-ad13-9b83ea47cd5a",
   "metadata": {},
   "outputs": [
    {
     "data": {
      "text/plain": [
       "['oatmeal',\n",
       " 'coffee',\n",
       " 'cigarette',\n",
       " 'diet coke',\n",
       " 'eggs',\n",
       " 'chia',\n",
       " 'banana',\n",
       " 'bagel']"
      ]
     },
     "execution_count": 70,
     "metadata": {},
     "output_type": "execute_result"
    }
   ],
   "source": [
    "breakfast"
   ]
  },
  {
   "cell_type": "code",
   "execution_count": 71,
   "id": "3e1a37db-b784-4498-bd1a-26d44380c5d8",
   "metadata": {},
   "outputs": [],
   "source": [
    "breakfast.sort()"
   ]
  },
  {
   "cell_type": "code",
   "execution_count": 72,
   "id": "f17c9dc7-e3f3-46f5-a96d-043ec4960be5",
   "metadata": {},
   "outputs": [
    {
     "data": {
      "text/plain": [
       "['bagel',\n",
       " 'banana',\n",
       " 'chia',\n",
       " 'cigarette',\n",
       " 'coffee',\n",
       " 'diet coke',\n",
       " 'eggs',\n",
       " 'oatmeal']"
      ]
     },
     "execution_count": 72,
     "metadata": {},
     "output_type": "execute_result"
    }
   ],
   "source": [
    "breakfast"
   ]
  },
  {
   "cell_type": "raw",
   "id": "33372082-fac7-4a52-a03a-f11e1e2355ed",
   "metadata": {},
   "source": [
    "breakfast.pop()"
   ]
  },
  {
   "cell_type": "code",
   "execution_count": 74,
   "id": "2ce46d47-e9bf-45cc-b1f1-193381513ae6",
   "metadata": {},
   "outputs": [
    {
     "data": {
      "text/plain": [
       "['bagel', 'banana', 'chia', 'cigarette', 'coffee', 'diet coke', 'eggs']"
      ]
     },
     "execution_count": 74,
     "metadata": {},
     "output_type": "execute_result"
    }
   ],
   "source": [
    "breakfast"
   ]
  },
  {
   "cell_type": "code",
   "execution_count": 75,
   "id": "f4402937-19c2-4286-abfd-8d5bef21ded2",
   "metadata": {},
   "outputs": [],
   "source": [
    "breakfast.reverse()"
   ]
  },
  {
   "cell_type": "code",
   "execution_count": 76,
   "id": "65b34880-cd3e-4adb-896b-aa02fa8d5c3a",
   "metadata": {},
   "outputs": [
    {
     "data": {
      "text/plain": [
       "['eggs', 'diet coke', 'coffee', 'cigarette', 'chia', 'banana', 'bagel']"
      ]
     },
     "execution_count": 76,
     "metadata": {},
     "output_type": "execute_result"
    }
   ],
   "source": [
    "breakfast"
   ]
  },
  {
   "cell_type": "code",
   "execution_count": 77,
   "id": "70b2c615-134e-4aef-9bda-a06e1e8ba398",
   "metadata": {},
   "outputs": [],
   "source": [
    "propaganda = '''\n",
    "WASHINGTON -- Today, U.S. Equal Employment Opportunity Commission (EEOC) Acting Chair Andrea Lucas announced that the agency is returning to its mission of protecting women from sexual harassment and sex-based discrimination in the workplace by rolling back the Biden administration’s gender identity agenda.\n",
    "\n",
    "One of President Trump’s first executive orders was Executive Order 14168, “Defending Women From Gender Ideology Extremism and Restoring Biological Truth to the Federal Government.” Among other things, the executive order directed federal agencies to enforce laws governing sex-based rights, protections, opportunities, and accommodations to protect men and women as biologically distinct sexes, and to remove all statements, policies, regulations, forms, communications, or other internal and external messages promoting gender ideology.'''"
   ]
  },
  {
   "cell_type": "code",
   "execution_count": 78,
   "id": "7fd7f3f9-e45a-4e58-9ce6-34213aeb6e7e",
   "metadata": {},
   "outputs": [
    {
     "data": {
      "text/plain": [
       "'\\nWASHINGTON -- Today, U.S. Equal Employment Opportunity Commission (EEOC) Acting Chair Andrea Lucas announced that the agency is returning to its mission of protecting women from sexual harassment and sex-based discrimination in the workplace by rolling back the Biden administration’s gender identity agenda.\\n\\nOne of President Trump’s first executive orders was Executive Order 14168, “Defending Women From Gender Ideology Extremism and Restoring Biological Truth to the Federal Government.” Among other things, the executive order directed federal agencies to enforce laws governing sex-based rights, protections, opportunities, and accommodations to protect men and women as biologically distinct sexes, and to remove all statements, policies, regulations, forms, communications, or other internal and external messages promoting gender ideology.'"
      ]
     },
     "execution_count": 78,
     "metadata": {},
     "output_type": "execute_result"
    }
   ],
   "source": [
    "propaganda"
   ]
  },
  {
   "cell_type": "code",
   "execution_count": 91,
   "id": "d7663a16-00db-4ed4-9518-d54b7960438f",
   "metadata": {},
   "outputs": [],
   "source": [
    "propaganda_lower = propaganda.lower()"
   ]
  },
  {
   "cell_type": "code",
   "execution_count": 92,
   "id": "ebeeba9e-e902-47ac-8b62-867329cddcec",
   "metadata": {},
   "outputs": [
    {
     "data": {
      "text/plain": [
       "'\\nwashington -- today, u.s. equal employment opportunity commission (eeoc) acting chair andrea lucas announced that the agency is returning to its mission of protecting women from sexual harassment and sex-based discrimination in the workplace by rolling back the biden administration’s gender identity agenda.\\n\\none of president trump’s first executive orders was executive order 14168, “defending women from gender ideology extremism and restoring biological truth to the federal government.” among other things, the executive order directed federal agencies to enforce laws governing sex-based rights, protections, opportunities, and accommodations to protect men and women as biologically distinct sexes, and to remove all statements, policies, regulations, forms, communications, or other internal and external messages promoting gender ideology.'"
      ]
     },
     "execution_count": 92,
     "metadata": {},
     "output_type": "execute_result"
    }
   ],
   "source": [
    "propaganda_lower"
   ]
  },
  {
   "cell_type": "code",
   "execution_count": 93,
   "id": "6cf43dcd-998e-487d-903f-edb17dea8dab",
   "metadata": {},
   "outputs": [],
   "source": [
    "splitted = propaganda_lower.split()"
   ]
  },
  {
   "cell_type": "code",
   "execution_count": 94,
   "id": "e6487409-8cf2-4848-b01c-ff9ca00a0d7f",
   "metadata": {},
   "outputs": [],
   "source": [
    "splitted.sort()"
   ]
  },
  {
   "cell_type": "code",
   "execution_count": 95,
   "id": "0559dbb0-cf83-4ba6-8c98-f55fd00fffdd",
   "metadata": {},
   "outputs": [
    {
     "data": {
      "text/plain": [
       "['(eeoc)',\n",
       " '--',\n",
       " '14168,',\n",
       " 'accommodations',\n",
       " 'acting',\n",
       " 'administration’s',\n",
       " 'agencies',\n",
       " 'agency',\n",
       " 'agenda.',\n",
       " 'all',\n",
       " 'among',\n",
       " 'and',\n",
       " 'and',\n",
       " 'and',\n",
       " 'and',\n",
       " 'and',\n",
       " 'and',\n",
       " 'andrea',\n",
       " 'announced',\n",
       " 'as',\n",
       " 'back',\n",
       " 'biden',\n",
       " 'biological',\n",
       " 'biologically',\n",
       " 'by',\n",
       " 'chair',\n",
       " 'commission',\n",
       " 'communications,',\n",
       " 'directed',\n",
       " 'discrimination',\n",
       " 'distinct',\n",
       " 'employment',\n",
       " 'enforce',\n",
       " 'equal',\n",
       " 'executive',\n",
       " 'executive',\n",
       " 'executive',\n",
       " 'external',\n",
       " 'extremism',\n",
       " 'federal',\n",
       " 'federal',\n",
       " 'first',\n",
       " 'forms,',\n",
       " 'from',\n",
       " 'from',\n",
       " 'gender',\n",
       " 'gender',\n",
       " 'gender',\n",
       " 'governing',\n",
       " 'government.”',\n",
       " 'harassment',\n",
       " 'identity',\n",
       " 'ideology',\n",
       " 'ideology.',\n",
       " 'in',\n",
       " 'internal',\n",
       " 'is',\n",
       " 'its',\n",
       " 'laws',\n",
       " 'lucas',\n",
       " 'men',\n",
       " 'messages',\n",
       " 'mission',\n",
       " 'of',\n",
       " 'of',\n",
       " 'one',\n",
       " 'opportunities,',\n",
       " 'opportunity',\n",
       " 'or',\n",
       " 'order',\n",
       " 'order',\n",
       " 'orders',\n",
       " 'other',\n",
       " 'other',\n",
       " 'policies,',\n",
       " 'president',\n",
       " 'promoting',\n",
       " 'protect',\n",
       " 'protecting',\n",
       " 'protections,',\n",
       " 'regulations,',\n",
       " 'remove',\n",
       " 'restoring',\n",
       " 'returning',\n",
       " 'rights,',\n",
       " 'rolling',\n",
       " 'sex-based',\n",
       " 'sex-based',\n",
       " 'sexes,',\n",
       " 'sexual',\n",
       " 'statements,',\n",
       " 'that',\n",
       " 'the',\n",
       " 'the',\n",
       " 'the',\n",
       " 'the',\n",
       " 'the',\n",
       " 'things,',\n",
       " 'to',\n",
       " 'to',\n",
       " 'to',\n",
       " 'to',\n",
       " 'to',\n",
       " 'today,',\n",
       " 'trump’s',\n",
       " 'truth',\n",
       " 'u.s.',\n",
       " 'was',\n",
       " 'washington',\n",
       " 'women',\n",
       " 'women',\n",
       " 'women',\n",
       " 'workplace',\n",
       " '“defending']"
      ]
     },
     "execution_count": 95,
     "metadata": {},
     "output_type": "execute_result"
    }
   ],
   "source": [
    "splitted"
   ]
  },
  {
   "cell_type": "code",
   "execution_count": 101,
   "id": "9be6122d-d509-4e9a-ae7e-b946bc058518",
   "metadata": {},
   "outputs": [
    {
     "name": "stdout",
     "output_type": "stream",
     "text": [
      "EGGS\n",
      "DIET COKE\n",
      "COFFEE\n",
      "CIGARETTE\n",
      "CHIA\n",
      "BANANA\n",
      "BAGEL\n"
     ]
    }
   ],
   "source": [
    "# loops\n",
    "\n",
    "for x in breakfast:\n",
    "    print(x.upper())    "
   ]
  },
  {
   "cell_type": "code",
   "execution_count": null,
   "id": "2d39a6d0-eb99-4609-b21d-c4cc5f29bdf5",
   "metadata": {},
   "outputs": [],
   "source": [
    "for each item inside of the list called breakfast:\n",
    "display that item"
   ]
  },
  {
   "cell_type": "code",
   "execution_count": 97,
   "id": "7b07dfd2-1827-4b90-8e6a-dceee4b3349f",
   "metadata": {},
   "outputs": [
    {
     "name": "stdout",
     "output_type": "stream",
     "text": [
      "h\n",
      "e\n",
      "l\n",
      "l\n",
      "o\n",
      " \n",
      "w\n",
      "o\n",
      "r\n",
      "l\n",
      "d\n",
      "!\n"
     ]
    }
   ],
   "source": [
    "for letter in 'hello world!':\n",
    "    print(letter)"
   ]
  },
  {
   "cell_type": "code",
   "execution_count": 98,
   "id": "2888d0c7-95dd-4bb8-b6b5-63c40bf916a4",
   "metadata": {},
   "outputs": [
    {
     "name": "stdout",
     "output_type": "stream",
     "text": [
      "(eeoc)\n",
      "--\n",
      "14168,\n",
      "accommodations\n",
      "acting\n",
      "administration’s\n",
      "agencies\n",
      "agency\n",
      "agenda.\n",
      "all\n",
      "among\n",
      "and\n",
      "and\n",
      "and\n",
      "and\n",
      "and\n",
      "and\n",
      "andrea\n",
      "announced\n",
      "as\n",
      "back\n",
      "biden\n",
      "biological\n",
      "biologically\n",
      "by\n",
      "chair\n",
      "commission\n",
      "communications,\n",
      "directed\n",
      "discrimination\n",
      "distinct\n",
      "employment\n",
      "enforce\n",
      "equal\n",
      "executive\n",
      "executive\n",
      "executive\n",
      "external\n",
      "extremism\n",
      "federal\n",
      "federal\n",
      "first\n",
      "forms,\n",
      "from\n",
      "from\n",
      "gender\n",
      "gender\n",
      "gender\n",
      "governing\n",
      "government.”\n",
      "harassment\n",
      "identity\n",
      "ideology\n",
      "ideology.\n",
      "in\n",
      "internal\n",
      "is\n",
      "its\n",
      "laws\n",
      "lucas\n",
      "men\n",
      "messages\n",
      "mission\n",
      "of\n",
      "of\n",
      "one\n",
      "opportunities,\n",
      "opportunity\n",
      "or\n",
      "order\n",
      "order\n",
      "orders\n",
      "other\n",
      "other\n",
      "policies,\n",
      "president\n",
      "promoting\n",
      "protect\n",
      "protecting\n",
      "protections,\n",
      "regulations,\n",
      "remove\n",
      "restoring\n",
      "returning\n",
      "rights,\n",
      "rolling\n",
      "sex-based\n",
      "sex-based\n",
      "sexes,\n",
      "sexual\n",
      "statements,\n",
      "that\n",
      "the\n",
      "the\n",
      "the\n",
      "the\n",
      "the\n",
      "things,\n",
      "to\n",
      "to\n",
      "to\n",
      "to\n",
      "to\n",
      "today,\n",
      "trump’s\n",
      "truth\n",
      "u.s.\n",
      "was\n",
      "washington\n",
      "women\n",
      "women\n",
      "women\n",
      "workplace\n",
      "“defending\n"
     ]
    }
   ],
   "source": [
    "for item in splitted: \n",
    "    print(item)"
   ]
  },
  {
   "cell_type": "code",
   "execution_count": null,
   "id": "640dc744-f0cc-417c-9962-33caaa8c2642",
   "metadata": {},
   "outputs": [],
   "source": []
  }
 ],
 "metadata": {
  "kernelspec": {
   "display_name": "Python 3 (ipykernel)",
   "language": "python",
   "name": "python3"
  },
  "language_info": {
   "codemirror_mode": {
    "name": "ipython",
    "version": 3
   },
   "file_extension": ".py",
   "mimetype": "text/x-python",
   "name": "python",
   "nbconvert_exporter": "python",
   "pygments_lexer": "ipython3",
   "version": "3.11.7"
  }
 },
 "nbformat": 4,
 "nbformat_minor": 5
}
