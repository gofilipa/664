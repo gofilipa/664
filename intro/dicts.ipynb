{
 "cells": [
  {
   "cell_type": "markdown",
   "id": "bc40999d-97dc-4426-8baa-deb93ea950fe",
   "metadata": {},
   "source": [
    "# dicts and csvs"
   ]
  },
  {
   "cell_type": "markdown",
   "id": "048b669f-6c1a-421f-ba93-46dcb537cf89",
   "metadata": {},
   "source": [
    "## what is a dictionary?\n",
    "Information organized into key:value pairs."
   ]
  },
  {
   "cell_type": "code",
   "execution_count": 42,
   "id": "34147589-9ffd-496f-b8bf-9792b3a468b2",
   "metadata": {},
   "outputs": [],
   "source": [
    "filipa = {\n",
    "    'name': ['filipa', 'da gama', 'calado'],\n",
    "    'age': 35,\n",
    "    'degree': 'literature',\n",
    "    'jobs': ['professor', 'digital scholarship specialist', 'student']\n",
    "}"
   ]
  },
  {
   "cell_type": "markdown",
   "id": "dd872b03-acfa-4f7a-ad69-f937e6cb2af4",
   "metadata": {},
   "source": [
    "How do we access items within a column? With brackets."
   ]
  },
  {
   "cell_type": "code",
   "execution_count": 24,
   "id": "f65402f2-f7da-4e93-9371-15b07897299c",
   "metadata": {},
   "outputs": [
    {
     "data": {
      "text/plain": [
       "['professor', 'digital scholarship specialist', 'student']"
      ]
     },
     "execution_count": 24,
     "metadata": {},
     "output_type": "execute_result"
    }
   ],
   "source": [
    "filipa['jobs']"
   ]
  },
  {
   "cell_type": "code",
   "execution_count": 25,
   "id": "9827a17f-ca4c-4fde-8663-0626b006c798",
   "metadata": {},
   "outputs": [
    {
     "data": {
      "text/plain": [
       "35"
      ]
     },
     "execution_count": 25,
     "metadata": {},
     "output_type": "execute_result"
    }
   ],
   "source": [
    "filipa['age']"
   ]
  },
  {
   "cell_type": "markdown",
   "id": "09bf33fd-b095-4a4f-ae81-013c02adc4bd",
   "metadata": {},
   "source": [
    "How do we access items within a column? With list indexing,"
   ]
  },
  {
   "cell_type": "code",
   "execution_count": 26,
   "id": "4f6ace89-cb82-448c-93c8-78e7996c8632",
   "metadata": {},
   "outputs": [
    {
     "data": {
      "text/plain": [
       "'filipa'"
      ]
     },
     "execution_count": 26,
     "metadata": {},
     "output_type": "execute_result"
    }
   ],
   "source": [
    "filipa['name'][0]"
   ]
  },
  {
   "cell_type": "markdown",
   "id": "78c8457c-f52a-4d03-9498-273c9c5b5b5f",
   "metadata": {},
   "source": [
    "Don't worry if this looks wonky to you now. We will have plenty of time to practice in the next few sessions on APIs."
   ]
  },
  {
   "cell_type": "markdown",
   "id": "156d8a55-bee6-478a-a9e5-438d0c6d8a83",
   "metadata": {},
   "source": [
    "## the CSV module\n",
    "The dataset we will be using consists of campaign finance violations by New York City political candidates, officially titled \"[Enforcement Actions Board Determinations and Penalties](https://data.cityofnewyork.us/City-Government/Enforcement-Actions-Board-Determinations-and-Penal/xrxs-qn95/about_data),\" which can be found on [NYC Open Data](https://opendata.cityofnewyork.us/)."
   ]
  },
  {
   "cell_type": "code",
   "execution_count": 1,
   "id": "5dd02e7d-d003-4290-a039-caf9fa6b54f6",
   "metadata": {},
   "outputs": [],
   "source": [
    "import csv"
   ]
  },
  {
   "cell_type": "markdown",
   "id": "b9adf5f5-765f-422f-b91e-3f12af4b3c09",
   "metadata": {},
   "source": [
    "The CSV module allows you to import `.csv` files into your python notebook. Then, you can use methods like `reader()` to load up the data."
   ]
  },
  {
   "cell_type": "code",
   "execution_count": 16,
   "id": "47b77108-15d5-4373-af81-c97014ba76e4",
   "metadata": {},
   "outputs": [
    {
     "name": "stdout",
     "output_type": "stream",
     "text": [
      "['\\ufeffElection Cycle ', 'Candidate', 'Board Meeting Date', 'Violation', 'Current Violation Name', 'Final Board Determination']\n",
      "['2019A', 'Espinal, Rafael', '8/31/23', 'Failing to report transactions in daily pre-election disclosure statements', 'Failing to report transactions in daily pre-election disclosure statements', '$250 ']\n",
      "['2019A', 'Espinal, Rafael', '8/31/23', 'Accepting over-the-limit contributions', 'Accepting over-the-limit contributions', '$5,050 ']\n",
      "['2019A', 'Espinal, Rafael', '8/31/23', 'Accepting contributions from corporations and a limited liabilty company', 'Accepting contributions from corporations and a limited liabilty company', '$1,000 ']\n",
      "['2019A', 'Blake, Michael', '8/31/23', 'Failing to document transactions', 'Failing to document transactions', '$100 ']\n",
      "['2019A', 'Blake, Michael', '8/31/23', 'Failing to report transactions in daily pre-election disclosure statements', 'Failing to report transactions in daily pre-election disclosure statements', '$250 ']\n",
      "['2019A', 'Blake, Michael', '9/1/23', 'Failing to demonstrate compliance with intermediary reporting and documentation requirements', 'Failing to demonstrate compliance with intermediary reporting and documentation requirements', 'VNP']\n",
      "['2019A', 'Blake, Michael', '8/31/23', 'Failing to demonstrate that spending was in furtherance of the campaign', 'Failing to demonstrate that spending was in furtherance of the campaign', '$125 ']\n",
      "['2019A', 'Blake, Michael', '8/31/23', 'Making impermissable post-election expenditures', 'Making impermissable post-election expenditures', '$1,184 ']\n",
      "['2019', 'Borelli, Joseph', '7/17/23', 'Failing to disclose a merchant account', 'Failing to disclose a merchant account', '$100 ']\n",
      "['2019', 'Borelli, Joseph', '7/17/23', 'Failing to provide bank and merchant account statements', 'Failing to provide bank and merchant account statements', '$650 ']\n",
      "['2019', 'Borelli, Joseph', '7/17/23', 'Accepting a contribution from an unregistered political committee', 'Accepting a contribution from an unregistered political committee', '$275 ']\n",
      "['2019A', 'Sheikh, Helal', '7/17/23', 'Failing to report transactions', 'Failing to report transactions', '$101 ']\n",
      "['2019A', 'Sheikh, Helal', '7/17/23', 'Failing to respond to Draft Audit Report', 'Failing to respond to Draft Audit Report', '$500 ']\n",
      "['2019B', 'Rose, Xamayla', '6/2/23', 'Failing to document transactions', 'Failing to document transactions', '$149 ']\n",
      "['2019B', 'Rose, Xamayla', '6/2/23', 'Accepting over-the-limit contributions', 'Accepting over-the-limit contributions', '$375 ']\n",
      "['2019B', 'Rose, Xamayla', '6/2/23', 'Accepting contributions from corporations, limited liability companies, or partnerships', 'Accepting contributions from corporations, limited liability companies, or partnerships', '$6,770 ']\n",
      "['2019B', 'Rose, Xamayla', '6/2/23', 'Failing to demonstrate that spending was in furtherance of the campagin', 'Failing to demonstrate that spending was in furtherance of the campagin', 'VNP']\n",
      "['2019B', 'Rose, Xamayla', '6/2/23', 'Making impermissable post-election expenditures', 'Making impermissable post-election expenditures', '$1,804 ']\n",
      "['2019A', 'Walker, Latrice', '6/2/23', 'Failing to disclose a political committee', 'Failing to disclose a political committee', '$100 ']\n"
     ]
    }
   ],
   "source": [
    "# print each row in the dataset\n",
    "with open ('violations_sample.csv', 'r') as f:\n",
    "    data = csv.reader(f)\n",
    "    for row in data:\n",
    "        print(row)"
   ]
  },
  {
   "cell_type": "code",
   "execution_count": 19,
   "id": "216e29c6-03bf-4eea-aa08-797bbdd110ec",
   "metadata": {},
   "outputs": [
    {
     "data": {
      "text/plain": [
       "_csv.reader"
      ]
     },
     "execution_count": 19,
     "metadata": {},
     "output_type": "execute_result"
    }
   ],
   "source": [
    "# check our data type\n",
    "type(data)"
   ]
  },
  {
   "cell_type": "code",
   "execution_count": 20,
   "id": "fbc98a22-5bbd-4391-ae7c-51db8bfc7929",
   "metadata": {},
   "outputs": [
    {
     "data": {
      "text/plain": [
       "list"
      ]
     },
     "execution_count": 20,
     "metadata": {},
     "output_type": "execute_result"
    }
   ],
   "source": [
    "type(row)"
   ]
  },
  {
   "cell_type": "code",
   "execution_count": 23,
   "id": "16c3b932-10aa-4c29-9804-c462a1b3e7d8",
   "metadata": {},
   "outputs": [
    {
     "name": "stdout",
     "output_type": "stream",
     "text": [
      "Candidate\n",
      "Espinal, Rafael\n",
      "Espinal, Rafael\n",
      "Espinal, Rafael\n",
      "Blake, Michael\n",
      "Blake, Michael\n",
      "Blake, Michael\n",
      "Blake, Michael\n",
      "Blake, Michael\n",
      "Borelli, Joseph\n",
      "Borelli, Joseph\n",
      "Borelli, Joseph\n",
      "Sheikh, Helal\n",
      "Sheikh, Helal\n",
      "Rose, Xamayla\n",
      "Rose, Xamayla\n",
      "Rose, Xamayla\n",
      "Rose, Xamayla\n",
      "Rose, Xamayla\n",
      "Walker, Latrice\n"
     ]
    }
   ],
   "source": [
    "# how do we get items from a list?\n",
    "# print the value for the second column (candidate) \n",
    "# on each row of the dataset\n",
    "\n",
    "with open ('violations_sample.csv', 'r') as f:\n",
    "    data = csv.reader(f)\n",
    "    for row in data:\n",
    "        print(row[1])"
   ]
  },
  {
   "cell_type": "code",
   "execution_count": 26,
   "id": "ddcb675b-a45e-4a18-a809-455b5625f1cc",
   "metadata": {},
   "outputs": [
    {
     "name": "stdout",
     "output_type": "stream",
     "text": [
      "{'\\ufeffElection Cycle ': '2019A', 'Candidate': 'Espinal, Rafael', 'Board Meeting Date': '8/31/23', 'Violation': 'Failing to report transactions in daily pre-election disclosure statements', 'Current Violation Name': 'Failing to report transactions in daily pre-election disclosure statements', 'Final Board Determination': '$250 '}\n",
      "{'\\ufeffElection Cycle ': '2019A', 'Candidate': 'Espinal, Rafael', 'Board Meeting Date': '8/31/23', 'Violation': 'Accepting over-the-limit contributions', 'Current Violation Name': 'Accepting over-the-limit contributions', 'Final Board Determination': '$5,050 '}\n",
      "{'\\ufeffElection Cycle ': '2019A', 'Candidate': 'Espinal, Rafael', 'Board Meeting Date': '8/31/23', 'Violation': 'Accepting contributions from corporations and a limited liabilty company', 'Current Violation Name': 'Accepting contributions from corporations and a limited liabilty company', 'Final Board Determination': '$1,000 '}\n",
      "{'\\ufeffElection Cycle ': '2019A', 'Candidate': 'Blake, Michael', 'Board Meeting Date': '8/31/23', 'Violation': 'Failing to document transactions', 'Current Violation Name': 'Failing to document transactions', 'Final Board Determination': '$100 '}\n",
      "{'\\ufeffElection Cycle ': '2019A', 'Candidate': 'Blake, Michael', 'Board Meeting Date': '8/31/23', 'Violation': 'Failing to report transactions in daily pre-election disclosure statements', 'Current Violation Name': 'Failing to report transactions in daily pre-election disclosure statements', 'Final Board Determination': '$250 '}\n",
      "{'\\ufeffElection Cycle ': '2019A', 'Candidate': 'Blake, Michael', 'Board Meeting Date': '9/1/23', 'Violation': 'Failing to demonstrate compliance with intermediary reporting and documentation requirements', 'Current Violation Name': 'Failing to demonstrate compliance with intermediary reporting and documentation requirements', 'Final Board Determination': 'VNP'}\n",
      "{'\\ufeffElection Cycle ': '2019A', 'Candidate': 'Blake, Michael', 'Board Meeting Date': '8/31/23', 'Violation': 'Failing to demonstrate that spending was in furtherance of the campaign', 'Current Violation Name': 'Failing to demonstrate that spending was in furtherance of the campaign', 'Final Board Determination': '$125 '}\n",
      "{'\\ufeffElection Cycle ': '2019A', 'Candidate': 'Blake, Michael', 'Board Meeting Date': '8/31/23', 'Violation': 'Making impermissable post-election expenditures', 'Current Violation Name': 'Making impermissable post-election expenditures', 'Final Board Determination': '$1,184 '}\n",
      "{'\\ufeffElection Cycle ': '2019', 'Candidate': 'Borelli, Joseph', 'Board Meeting Date': '7/17/23', 'Violation': 'Failing to disclose a merchant account', 'Current Violation Name': 'Failing to disclose a merchant account', 'Final Board Determination': '$100 '}\n",
      "{'\\ufeffElection Cycle ': '2019', 'Candidate': 'Borelli, Joseph', 'Board Meeting Date': '7/17/23', 'Violation': 'Failing to provide bank and merchant account statements', 'Current Violation Name': 'Failing to provide bank and merchant account statements', 'Final Board Determination': '$650 '}\n",
      "{'\\ufeffElection Cycle ': '2019', 'Candidate': 'Borelli, Joseph', 'Board Meeting Date': '7/17/23', 'Violation': 'Accepting a contribution from an unregistered political committee', 'Current Violation Name': 'Accepting a contribution from an unregistered political committee', 'Final Board Determination': '$275 '}\n",
      "{'\\ufeffElection Cycle ': '2019A', 'Candidate': 'Sheikh, Helal', 'Board Meeting Date': '7/17/23', 'Violation': 'Failing to report transactions', 'Current Violation Name': 'Failing to report transactions', 'Final Board Determination': '$101 '}\n",
      "{'\\ufeffElection Cycle ': '2019A', 'Candidate': 'Sheikh, Helal', 'Board Meeting Date': '7/17/23', 'Violation': 'Failing to respond to Draft Audit Report', 'Current Violation Name': 'Failing to respond to Draft Audit Report', 'Final Board Determination': '$500 '}\n",
      "{'\\ufeffElection Cycle ': '2019B', 'Candidate': 'Rose, Xamayla', 'Board Meeting Date': '6/2/23', 'Violation': 'Failing to document transactions', 'Current Violation Name': 'Failing to document transactions', 'Final Board Determination': '$149 '}\n",
      "{'\\ufeffElection Cycle ': '2019B', 'Candidate': 'Rose, Xamayla', 'Board Meeting Date': '6/2/23', 'Violation': 'Accepting over-the-limit contributions', 'Current Violation Name': 'Accepting over-the-limit contributions', 'Final Board Determination': '$375 '}\n",
      "{'\\ufeffElection Cycle ': '2019B', 'Candidate': 'Rose, Xamayla', 'Board Meeting Date': '6/2/23', 'Violation': 'Accepting contributions from corporations, limited liability companies, or partnerships', 'Current Violation Name': 'Accepting contributions from corporations, limited liability companies, or partnerships', 'Final Board Determination': '$6,770 '}\n",
      "{'\\ufeffElection Cycle ': '2019B', 'Candidate': 'Rose, Xamayla', 'Board Meeting Date': '6/2/23', 'Violation': 'Failing to demonstrate that spending was in furtherance of the campagin', 'Current Violation Name': 'Failing to demonstrate that spending was in furtherance of the campagin', 'Final Board Determination': 'VNP'}\n",
      "{'\\ufeffElection Cycle ': '2019B', 'Candidate': 'Rose, Xamayla', 'Board Meeting Date': '6/2/23', 'Violation': 'Making impermissable post-election expenditures', 'Current Violation Name': 'Making impermissable post-election expenditures', 'Final Board Determination': '$1,804 '}\n",
      "{'\\ufeffElection Cycle ': '2019A', 'Candidate': 'Walker, Latrice', 'Board Meeting Date': '6/2/23', 'Violation': 'Failing to disclose a political committee', 'Current Violation Name': 'Failing to disclose a political committee', 'Final Board Determination': '$100 '}\n"
     ]
    }
   ],
   "source": [
    "with open ('violations_sample.csv', 'r') as f:\n",
    "    dict_reader = csv.DictReader(f)\n",
    "    for row in dict_reader:\n",
    "        print(row)"
   ]
  },
  {
   "cell_type": "code",
   "execution_count": 28,
   "id": "a5df6f98-7013-47db-a406-bdbe831ae775",
   "metadata": {},
   "outputs": [
    {
     "data": {
      "text/plain": [
       "dict"
      ]
     },
     "execution_count": 28,
     "metadata": {},
     "output_type": "execute_result"
    }
   ],
   "source": [
    "# now we have a different data type for row\n",
    "type(row)"
   ]
  },
  {
   "cell_type": "code",
   "execution_count": 31,
   "id": "7dfa8cc6-46bc-4b65-8455-cdd87a74e0f1",
   "metadata": {},
   "outputs": [
    {
     "data": {
      "text/plain": [
       "{'\\ufeffElection Cycle ': '2019A',\n",
       " 'Candidate': 'Walker, Latrice',\n",
       " 'Board Meeting Date': '6/2/23',\n",
       " 'Violation': 'Failing to disclose a political committee',\n",
       " 'Current Violation Name': 'Failing to disclose a political committee',\n",
       " 'Final Board Determination': '$100 '}"
      ]
     },
     "execution_count": 31,
     "metadata": {},
     "output_type": "execute_result"
    }
   ],
   "source": [
    "row"
   ]
  },
  {
   "cell_type": "code",
   "execution_count": 35,
   "id": "b068835c-35c5-43fe-93f5-bedc4de35edd",
   "metadata": {},
   "outputs": [
    {
     "name": "stdout",
     "output_type": "stream",
     "text": [
      "05/15/2023 Failing to respond and late response to requests for information or documentation\n",
      "05/15/2023 Failing to properly wind down TIE activities\n",
      "05/15/2023 Accepting prohibited donations\n",
      "06/09/2016 Failing to provide bank, credit card, and merchant account statements\n",
      "06/09/2016 Failing to report/late reporting of transactions in daily pre-election disclosure statements\n",
      "06/09/2016 Accepting over-the-limit contributions\n",
      "06/09/2016 Accepting contributions from corporations, limited liability companies, or partnerships\n",
      "06/09/2016 Accepting contributions from unregistered political committees\n",
      "06/09/2016 Failing to demonstrate compliance with intermediary reporting and documentation requirements\n",
      "06/09/2016 Failing to document transactions\n",
      "06/09/2016 Failing to demonstrate that spending was in furtherance of the campaign\n"
     ]
    }
   ],
   "source": [
    "# combining loops and logic to search for a specific condition in the dataset\n",
    "\n",
    "with open ('violations.csv', 'r') as f:\n",
    "    dict_reader = csv.DictReader(f)\n",
    "    for row in dict_reader:\n",
    "        if row['Candidate'] == 'Adams, Eric':\n",
    "            print(row['Board Meeting Date'], row['Current Violation Name'])"
   ]
  },
  {
   "cell_type": "code",
   "execution_count": null,
   "id": "4167e248-e14b-443c-a20e-385f5985f915",
   "metadata": {},
   "outputs": [],
   "source": []
  }
 ],
 "metadata": {
  "kernelspec": {
   "display_name": "Python 3 (ipykernel)",
   "language": "python",
   "name": "python3"
  },
  "language_info": {
   "codemirror_mode": {
    "name": "ipython",
    "version": 3
   },
   "file_extension": ".py",
   "mimetype": "text/x-python",
   "name": "python",
   "nbconvert_exporter": "python",
   "pygments_lexer": "ipython3",
   "version": "3.11.7"
  }
 },
 "nbformat": 4,
 "nbformat_minor": 5
}
