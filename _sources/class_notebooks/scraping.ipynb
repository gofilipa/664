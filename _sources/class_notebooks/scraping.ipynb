{
 "cells": [
  {
   "cell_type": "code",
   "execution_count": 1,
   "id": "71714e60-368e-4c49-a635-0faa2493111b",
   "metadata": {},
   "outputs": [],
   "source": [
    "# importing our libraries, bs4, requests, lxml\n",
    "\n",
    "from bs4 import BeautifulSoup\n",
    "import requests"
   ]
  },
  {
   "cell_type": "code",
   "execution_count": 2,
   "id": "41d96970-ab06-43ea-ab45-9ef251aff43e",
   "metadata": {},
   "outputs": [],
   "source": [
    "site = requests.get('https://translegislation.com/bills/2025/TX')"
   ]
  },
  {
   "cell_type": "code",
   "execution_count": 3,
   "id": "4c14dba0-6d3e-4aef-bbae-9e62184fee42",
   "metadata": {},
   "outputs": [],
   "source": [
    "html_code = site.content"
   ]
  },
  {
   "cell_type": "code",
   "execution_count": 5,
   "id": "4d9d02f4-327d-4123-aa77-ab47a222585c",
   "metadata": {},
   "outputs": [],
   "source": [
    "soup = BeautifulSoup(html_code)"
   ]
  },
  {
   "cell_type": "code",
   "execution_count": 6,
   "id": "70484fa4-161b-4bd3-bb7e-d7b1bdec0a2f",
   "metadata": {},
   "outputs": [
    {
     "data": {
      "text/plain": [
       "<title>Texas Bills | Anti-trans legislation</title>"
      ]
     },
     "execution_count": 6,
     "metadata": {},
     "output_type": "execute_result"
    }
   ],
   "source": [
    "soup.title"
   ]
  },
  {
   "cell_type": "code",
   "execution_count": 9,
   "id": "04fa23be-1a42-41d5-93fa-27671bfbcfc6",
   "metadata": {},
   "outputs": [
    {
     "data": {
      "text/plain": [
       "<a class=\"chakra-link css-f4h6uy\" href=\"/\">Trans Legislation Tracker</a>"
      ]
     },
     "execution_count": 9,
     "metadata": {},
     "output_type": "execute_result"
    }
   ],
   "source": [
    "soup.a"
   ]
  },
  {
   "cell_type": "code",
   "execution_count": 12,
   "id": "0810b5b2-aae4-4db2-be38-5a58ea9eb040",
   "metadata": {},
   "outputs": [
    {
     "data": {
      "text/plain": [
       "<a class=\"chakra-link css-f4h6uy\" href=\"/bills/2025/TX/HB1014\">TX<!-- --> <!-- -->HB1014</a>"
      ]
     },
     "execution_count": 12,
     "metadata": {},
     "output_type": "execute_result"
    }
   ],
   "source": [
    "# use this dot syntax to get the first bill number\n",
    "soup.h3.a"
   ]
  },
  {
   "cell_type": "code",
   "execution_count": 14,
   "id": "bfc986ab-808e-4f7d-8a24-232de370cc7a",
   "metadata": {},
   "outputs": [
    {
     "data": {
      "text/plain": [
       "<title>Texas Bills | Anti-trans legislation</title>"
      ]
     },
     "execution_count": 14,
     "metadata": {},
     "output_type": "execute_result"
    }
   ],
   "source": [
    "soup.find('title')"
   ]
  },
  {
   "cell_type": "code",
   "execution_count": 24,
   "id": "73774983-fb3a-4bfc-90a5-a8cc580197eb",
   "metadata": {},
   "outputs": [
    {
     "data": {
      "text/plain": [
       "<button class=\"chakra-button css-1952nyr\" type=\"button\">View Bill</button>"
      ]
     },
     "execution_count": 24,
     "metadata": {},
     "output_type": "execute_result"
    }
   ],
   "source": [
    "soup.find('button', class_ = 'chakra-button css-1952nyr')"
   ]
  },
  {
   "cell_type": "code",
   "execution_count": 27,
   "id": "dbe2ca96-cf7f-4ffc-b112-8afb48a72d34",
   "metadata": {},
   "outputs": [
    {
     "data": {
      "text/plain": [
       "<h2 class=\"chakra-heading css-q1yqfi\">Texas</h2>"
      ]
     },
     "execution_count": 27,
     "metadata": {},
     "output_type": "execute_result"
    }
   ],
   "source": [
    "soup.find('h2')"
   ]
  },
  {
   "cell_type": "code",
   "execution_count": 28,
   "id": "0b05ccc3-9c3e-454b-b18f-1d024f5a6443",
   "metadata": {},
   "outputs": [
    {
     "data": {
      "text/plain": [
       "<h3 class=\"chakra-heading css-1vygpf9\"><style data-emotion=\"css f4h6uy\">.css-f4h6uy{transition-property:var(--chakra-transition-property-common);transition-duration:var(--chakra-transition-duration-fast);transition-timing-function:var(--chakra-transition-easing-ease-out);cursor:pointer;-webkit-text-decoration:none;text-decoration:none;outline:2px solid transparent;outline-offset:2px;color:inherit;}.css-f4h6uy:hover,.css-f4h6uy[data-hover]{-webkit-text-decoration:underline;text-decoration:underline;}.css-f4h6uy:focus,.css-f4h6uy[data-focus]{box-shadow:var(--chakra-shadows-outline);}</style><a class=\"chakra-link css-f4h6uy\" href=\"/bills/2025/TX/HB1014\">TX<!-- --> <!-- -->HB1014</a></h3>"
      ]
     },
     "execution_count": 28,
     "metadata": {},
     "output_type": "execute_result"
    }
   ],
   "source": [
    "soup.find('h3')"
   ]
  },
  {
   "cell_type": "code",
   "execution_count": 32,
   "id": "a5ccb5a7-7af4-4d55-9e6d-3f0176333333",
   "metadata": {},
   "outputs": [
    {
     "data": {
      "text/plain": [
       "[<h2 class=\"chakra-heading css-q1yqfi\">Texas</h2>,\n",
       " <h2 class=\"chakra-heading css-bp9bt3\">Relating to regulations and policies for entering or using a bathroom or changing facility in a public school; authorizing a civil penalty, authorizing a private civil right of action.</h2>,\n",
       " <h2 class=\"chakra-heading css-bp9bt3\">Relating to regulations and policies for entering or using a bathroom or changing facility in a public school.</h2>,\n",
       " <h2 class=\"chakra-heading css-bp9bt3\">Relating to a public school policy regarding multi-occupancy bathrooms or changing facilities.</h2>,\n",
       " <h2 class=\"chakra-heading css-bp9bt3\">Relating to a cause of action for drag performances performed in the presence of a minor.</h2>,\n",
       " <h2 class=\"chakra-heading css-bp9bt3\">Relating to the statute of limitations on a health care liability claim involving certain gender modification drugs provided to and procedures performed on a minor.</h2>,\n",
       " <h2 class=\"chakra-heading css-bp9bt3\">Relating to the definition of abuse or neglect of a child.</h2>,\n",
       " <h2 class=\"chakra-heading css-bp9bt3\">Relating to interscholastic athletic competition based on biological sex, requirements for physical examinations and genetic testing in interscholastic athletics, and the adoption of rules by the University Interscholastic League to implement these requirements.</h2>,\n",
       " <h2 class=\"chakra-heading css-bp9bt3\">Relating to affirmative defenses to prosecution for certain offenses involving material or conduct that is obscene or otherwise harmful to children.</h2>,\n",
       " <h2 class=\"chakra-heading css-bp9bt3\">Relating to the protection of students from sexual grooming.</h2>,\n",
       " <h2 class=\"chakra-heading css-bp9bt3\">Relating to the implementation of diversity, equity, and inclusion initiatives by certain governmental entities.</h2>,\n",
       " <h2 class=\"chakra-heading css-bp9bt3\">Relating to a policy prohibiting public school employees from assisting a student with social transitioning and to the loss of state funding for a violation by a public school.</h2>,\n",
       " <h2 class=\"chakra-heading css-bp9bt3\">Relating to the implementation of diversity, equity, and inclusion initiatives and certain prohibited considerations in contracting by governmental entities.</h2>,\n",
       " <h2 class=\"chakra-heading css-bp9bt3\">Relating to a parent's right to be notified by a school district concerning acts of self-harm by the parent's child.</h2>,\n",
       " <h2 class=\"chakra-heading css-bp9bt3\">Relating to regulations and policies for entering or using certain private spaces; authorizing a civil penalty.</h2>,\n",
       " <h2 class=\"chakra-heading css-bp9bt3\">Imposing private civil liability on anyone who causes or contributes to the social transitioning of a minor.</h2>,\n",
       " <h2 class=\"chakra-heading css-bp9bt3\">Relating to general definitions for and collection of governmental information regarding biological sex.</h2>,\n",
       " <h2 class=\"chakra-heading css-bp9bt3\">Relating to the required inclusion of a person's sex on a birth certificate and prohibited change of sex on the birth certificate of certain persons.</h2>,\n",
       " <h2 class=\"chakra-heading css-bp9bt3\">Relating to diversity, equity, and inclusion initiatives at public institutions of higher education.</h2>,\n",
       " <h2 class=\"chakra-heading css-bp9bt3\">Relating to prohibiting public institutions of higher education from offering programs or courses in LGBTQ or DEI studies.</h2>,\n",
       " <h2 class=\"chakra-heading css-bp9bt3\">Relating to protection for a public school employee's use of terms consistent with biological sex.</h2>,\n",
       " <h2 class=\"chakra-heading css-bp9bt3\">Relating to charter schools, including the admission, enrollment, and employment policies of and the applicability of certain laws to open-enrollment charter schools.</h2>,\n",
       " <h2 class=\"chakra-heading css-bp9bt3\">Relating to regulations and policies for entering or using certain private spaces; authorizing a civil penalty.</h2>,\n",
       " <h2 class=\"chakra-heading css-bp9bt3\">Relating to a prohibition on public institutions of higher education requiring students to enroll in certain courses to complete a certificate or degree program, using such courses to satisfy general education requirements, funding such courses using state appropriations, or requiring related faculty practices, and to freshman student orientation at those institutions.</h2>,\n",
       " <h2 class=\"chakra-heading css-bp9bt3\">Relating to the inclusion of a person's sex on driver's licenses, commercial driver's licenses, commercial learner's permits, and personal identification certificates.</h2>,\n",
       " <h2 class=\"chakra-heading css-bp9bt3\">Relating to affirmative defenses to prosecution for certain offenses involving material or conduct that is obscene or otherwise harmful to children.</h2>,\n",
       " <h2 class=\"chakra-heading css-bp9bt3\">Relating to general definitions regarding biological sex and the designation and use of certain spaces according to biological sex; authorizing a civil right of action.</h2>,\n",
       " <h2 class=\"chakra-heading css-bp9bt3\">Relating to municipal diversity, equity, and inclusion initiatives.</h2>,\n",
       " <h2 class=\"chakra-heading css-bp9bt3\">Relating to county diversity, equity, and inclusion initiatives.</h2>,\n",
       " <h2 class=\"chakra-heading css-bp9bt3\">Relating to parental rights in public education and prohibiting instruction regarding sexual orientation or gender identity for public school students.</h2>,\n",
       " <h2 class=\"chakra-heading css-bp9bt3\">Relating to a prohibition on instruction and certain activities regarding sexual orientation or gender identity provided or allowed by a public school.</h2>,\n",
       " <h2 class=\"chakra-heading css-bp9bt3\">Relating to eligibility of certain events under the Events Trust Fund</h2>,\n",
       " <h2 class=\"chakra-heading css-bp9bt3\">Relating to housing and placement of inmates and children according to biological sex.</h2>,\n",
       " <h2 class=\"chakra-heading css-bp9bt3\">Relating to the requirement by certain governmental entities for diversity, equity, and inclusion statements and training from employees, prospective employees, and contractors.</h2>,\n",
       " <h2 class=\"chakra-heading css-bp9bt3\">Relating to the placement of children in a detention or correctional facility according to biological sex.</h2>,\n",
       " <h2 class=\"chakra-heading css-bp9bt3\">Relating to the required inclusion of a person's sex on a birth certificate and prohibited change of sex on the birth certificate of certain minors.</h2>,\n",
       " <h2 class=\"chakra-heading css-bp9bt3\">Relating to required health benefit plan coverage for gender transition adverse effects and reversals.</h2>,\n",
       " <h2 class=\"chakra-heading css-bp9bt3\">Relating to certain general definitions in the Code Construction Act.</h2>,\n",
       " <h2 class=\"chakra-heading css-bp9bt3\">Relating to a prohibition on funding for gender reassignment.</h2>,\n",
       " <h2 class=\"chakra-heading css-bp9bt3\">Relating to a cause of action for drag performances performed in the presence of a minor.</h2>,\n",
       " <h2 class=\"chakra-heading css-bp9bt3\">Relating to affirmative defenses to prosecution for certain offenses involving material or conduct that is obscene or otherwise harmful to children.</h2>,\n",
       " <h2 class=\"chakra-heading css-bp9bt3\">Relating to prohibiting a court, administrative agency, or other tribunal from requiring certain amendments to a public school student's permanent record.</h2>,\n",
       " <h2 class=\"chakra-heading css-bp9bt3\">Relating to parental rights in public education and prohibiting certain instruction regarding sexual orientation or gender identity; authorizing a civil penalty.</h2>,\n",
       " <h2 class=\"chakra-heading css-bp9bt3\">Relating to the required inclusion of a person's sex on a birth certificate.</h2>,\n",
       " <h2 class=\"chakra-heading css-bp9bt3\">Relating to defenses to prosecution for certain criminal offenses involving material or conduct that may be obscene or is otherwise harmful to children.</h2>,\n",
       " <h2 class=\"chakra-heading css-bp9bt3\">Adopting the Housekeeping Resolution for the House of Representatives of the 89th Legislature.</h2>,\n",
       " <h2 class=\"chakra-heading css-bp9bt3\">Relating to intercollegiate athletic competitions based on biological sex.</h2>,\n",
       " <h2 class=\"chakra-heading css-bp9bt3\">Relating to civil liability for, governmental health plan coverage of, and public funding for gender modification procedures and treatments.</h2>,\n",
       " <h2 class=\"chakra-heading css-bp9bt3\">Relating to the statute of limitations on a health care liability claim involving certain gender modification drugs provided to and procedures performed on a minor.</h2>,\n",
       " <h2 class=\"chakra-heading css-bp9bt3\">Relating to electronic health record requirements.</h2>,\n",
       " <h2 class=\"chakra-heading css-bp9bt3\">Relating to required health benefit plan coverage for gender transition adverse effects and reversals.</h2>,\n",
       " <h2 class=\"chakra-heading css-bp9bt3\">Relating to regulations and policies for entering or using certain private spaces; authorizing a civil penalty.</h2>,\n",
       " <h2 class=\"chakra-heading css-bp9bt3\">Relating to affirmative defenses to prosecution for certain criminal offenses involving material or conduct that may be obscene or is otherwise harmful to children.</h2>,\n",
       " <h2 class=\"chakra-heading css-bp9bt3\">Relating to the required inclusion of a person's sex on a birth certificate and prohibited change of sex on the birth certificate of certain persons.</h2>,\n",
       " <h2 class=\"chakra-heading css-bp9bt3\">Relating to affirmative defenses to prosecution for certain offenses involving material or conduct that is obscene or otherwise harmful to children.</h2>,\n",
       " <h2 class=\"chakra-heading css-bp9bt3\">Relating to protection of persons from participation in a health care service for reasons of conscience; providing a civil remedy; authorizing disciplinary action.</h2>,\n",
       " <h2 class=\"chakra-heading css-bp9bt3\">Relating to the implementation of diversity, equity, and inclusion initiatives by certain governmental entities.</h2>,\n",
       " <h2 class=\"chakra-heading css-bp9bt3\">Relating to prohibiting certain conduct by physicians and health care providers involving gender transitioning and gender reassignment procedures and treatments for children; creating a criminal offense.</h2>,\n",
       " <h2 class=\"chakra-heading css-bp9bt3\">Relating to protection for a public school employee's use of terms consistent with biological sex.</h2>,\n",
       " <h2 class=\"chakra-heading css-bp9bt3\">Relating to the definition and use of the terms \"male\" and \"female\" for purposes of certain government documents.</h2>,\n",
       " <h2 class=\"chakra-heading css-bp9bt3\">Relating to parental rights in public education and prohibiting instruction regarding sexual orientation or gender identity for public school students.</h2>,\n",
       " <h2 class=\"chakra-heading css-bp9bt3\">Relating to defenses to prosecution for certain criminal offenses involving material or conduct that may be obscene or is otherwise harmful to children.</h2>,\n",
       " <h2 class=\"chakra-heading css-bp9bt3\">Relating to prohibitions on deceptive and unfair practices related to financial institutions discriminating in the provision of financial services to consumers and other persons.</h2>,\n",
       " <h2 class=\"chakra-heading css-bp9bt3\">Relating to local school health advisory councils and instruction regarding human sexuality, sexual orientation, and gender identity provided by public schools.</h2>]"
      ]
     },
     "execution_count": 32,
     "metadata": {},
     "output_type": "execute_result"
    }
   ],
   "source": [
    "# dot syntax - get html by elements\n",
    "# find() function - get html by elements and attribute 'class_'\n",
    "\n",
    "soup.find_all('h2')"
   ]
  },
  {
   "cell_type": "code",
   "execution_count": 35,
   "id": "57f2d0f2-1e3b-4b29-abc3-2b9cba394539",
   "metadata": {},
   "outputs": [
    {
     "data": {
      "text/plain": [
       "[<a class=\"chakra-link css-f4h6uy\" href=\"/\">Trans Legislation Tracker</a>,\n",
       " <a aria-controls=\"popover-content-1\" aria-expanded=\"false\" aria-haspopup=\"dialog\" class=\"chakra-link css-1yt6u0r\" href=\"/learn\" id=\"popover-trigger-1\">The Rise of Anti-trans Bills</a>,\n",
       " <a aria-controls=\"popover-content-1\" aria-expanded=\"false\" aria-haspopup=\"dialog\" class=\"chakra-link css-1yt6u0r\" href=\"/bills/recent-updates\" id=\"popover-trigger-1\">Recent Updates</a>,\n",
       " <a aria-controls=\"popover-content-1\" aria-expanded=\"false\" aria-haspopup=\"dialog\" class=\"chakra-link css-1yt6u0r\" href=\"/legislative-sessions\" id=\"popover-trigger-1\">Events</a>,\n",
       " <a aria-controls=\"popover-content-1\" aria-expanded=\"false\" aria-haspopup=\"dialog\" class=\"chakra-link css-1yt6u0r\" href=\"/further-reading\" id=\"popover-trigger-1\">Further Reading</a>,\n",
       " <a aria-controls=\"popover-content-1\" aria-expanded=\"false\" aria-haspopup=\"dialog\" class=\"chakra-link css-1yt6u0r\" href=\"#\" id=\"popover-trigger-1\">Previous Years</a>,\n",
       " <a class=\"chakra-link css-1m792uo\" href=\"/bills/2024\" role=\"group\"><style data-emotion=\"css 84zodg\">.css-84zodg{display:-webkit-box;display:-webkit-flex;display:-ms-flexbox;display:flex;-webkit-align-items:center;-webkit-box-align:center;-ms-flex-align:center;align-items:center;-webkit-flex-direction:row;-ms-flex-direction:row;flex-direction:row;}.css-84zodg>*:not(style)~*:not(style){margin-top:0px;-webkit-margin-end:0px;margin-inline-end:0px;margin-bottom:0px;-webkit-margin-start:0.5rem;margin-inline-start:0.5rem;}</style><div class=\"chakra-stack css-84zodg\"><div class=\"css-0\"><style data-emotion=\"css sc37ud\">.css-sc37ud{-webkit-transition:all .3s ease;transition:all .3s ease;font-weight:500;}[role=group]:hover .css-sc37ud,[role=group][data-hover] .css-sc37ud,[data-group]:hover .css-sc37ud,[data-group][data-hover] .css-sc37ud,.group:hover .css-sc37ud,.group[data-hover] .css-sc37ud{color:var(--chakra-colors-pink-400);}</style><p class=\"chakra-text css-sc37ud\">2024</p><style data-emotion=\"css itvw0n\">.css-itvw0n{font-size:var(--chakra-fontSizes-sm);}</style><p class=\"chakra-text css-itvw0n\"></p></div><style data-emotion=\"css 2gz105\">.css-2gz105{display:-webkit-box;display:-webkit-flex;display:-ms-flexbox;display:flex;-webkit-align-items:center;-webkit-box-align:center;-ms-flex-align:center;align-items:center;-webkit-box-pack:end;-ms-flex-pack:end;-webkit-justify-content:flex-end;justify-content:flex-end;-webkit-transition:all .3s ease;transition:all .3s ease;-webkit-transform:translateX(-10px);-moz-transform:translateX(-10px);-ms-transform:translateX(-10px);transform:translateX(-10px);opacity:0;-webkit-flex:1;-ms-flex:1;flex:1;}[role=group]:hover .css-2gz105,[role=group][data-hover] .css-2gz105,[data-group]:hover .css-2gz105,[data-group][data-hover] .css-2gz105,.group:hover .css-2gz105,.group[data-hover] .css-2gz105{opacity:100%;-webkit-transform:translateX(0);-moz-transform:translateX(0);-ms-transform:translateX(0);transform:translateX(0);}</style><div class=\"css-2gz105\"><style data-emotion=\"css swb7g\">.css-swb7g{width:var(--chakra-sizes-5);height:var(--chakra-sizes-5);display:inline-block;line-height:1em;-webkit-flex-shrink:0;-ms-flex-negative:0;flex-shrink:0;color:var(--chakra-colors-pink-400);}</style><style data-emotion=\"css gmltyl\">.css-gmltyl{width:1em;height:1em;display:inline-block;line-height:1em;-webkit-flex-shrink:0;-ms-flex-negative:0;flex-shrink:0;color:currentColor;vertical-align:middle;width:var(--chakra-sizes-5);height:var(--chakra-sizes-5);display:inline-block;line-height:1em;-webkit-flex-shrink:0;-ms-flex-negative:0;flex-shrink:0;color:var(--chakra-colors-pink-400);}</style><svg class=\"chakra-icon chakra-icon css-gmltyl\" focusable=\"false\" viewbox=\"0 0 24 24\"><path d=\"M10 6L8.59 7.41 13.17 12l-4.58 4.59L10 18l6-6z\" fill=\"currentColor\"></path></svg></div></div></a>,\n",
       " <a class=\"chakra-link css-1m792uo\" href=\"/bills/2023\" role=\"group\"><div class=\"chakra-stack css-84zodg\"><div class=\"css-0\"><p class=\"chakra-text css-sc37ud\">2023</p><p class=\"chakra-text css-itvw0n\"></p></div><div class=\"css-2gz105\"><svg class=\"chakra-icon chakra-icon css-gmltyl\" focusable=\"false\" viewbox=\"0 0 24 24\"><path d=\"M10 6L8.59 7.41 13.17 12l-4.58 4.59L10 18l6-6z\" fill=\"currentColor\"></path></svg></div></div></a>,\n",
       " <a class=\"chakra-link css-1m792uo\" href=\"/bills/2022\" role=\"group\"><div class=\"chakra-stack css-84zodg\"><div class=\"css-0\"><p class=\"chakra-text css-sc37ud\">2022</p><p class=\"chakra-text css-itvw0n\"></p></div><div class=\"css-2gz105\"><svg class=\"chakra-icon chakra-icon css-gmltyl\" focusable=\"false\" viewbox=\"0 0 24 24\"><path d=\"M10 6L8.59 7.41 13.17 12l-4.58 4.59L10 18l6-6z\" fill=\"currentColor\"></path></svg></div></div></a>,\n",
       " <a aria-controls=\"popover-content-1\" aria-expanded=\"false\" aria-haspopup=\"dialog\" class=\"chakra-link css-1yt6u0r\" href=\"/about\" id=\"popover-trigger-1\">About</a>,\n",
       " <a class=\"chakra-link css-ryc07z\" href=\"/\"><style data-emotion=\"css 9y4vnp\">.css-9y4vnp{font-weight:600;color:var(--chakra-colors-gray-600);}</style><p class=\"chakra-text css-9y4vnp\">Home</p></a>,\n",
       " <a class=\"chakra-link css-ryc07z\" href=\"/learn\"><p class=\"chakra-text css-9y4vnp\">The Rise of Anti-trans Bills</p></a>,\n",
       " <a class=\"chakra-link css-ryc07z\" href=\"/bills/recent-updates\"><p class=\"chakra-text css-9y4vnp\">Recent Updates</p></a>,\n",
       " <a class=\"chakra-link css-ryc07z\" href=\"/legislative-sessions\"><p class=\"chakra-text css-9y4vnp\">Events</p></a>,\n",
       " <a class=\"chakra-link css-ryc07z\" href=\"/further-reading\"><p class=\"chakra-text css-9y4vnp\">Further Reading</p></a>,\n",
       " <a class=\"chakra-link css-ryc07z\" href=\"#\"><p class=\"chakra-text css-9y4vnp\">Previous Years</p><style data-emotion=\"css q9erop\">.css-q9erop{width:var(--chakra-sizes-6);height:var(--chakra-sizes-6);display:inline-block;line-height:1em;-webkit-flex-shrink:0;-ms-flex-negative:0;flex-shrink:0;color:currentColor;-webkit-transition:all .25s ease-in-out;transition:all .25s ease-in-out;}</style><style data-emotion=\"css 1twc07j\">.css-1twc07j{width:1em;height:1em;display:inline-block;line-height:1em;-webkit-flex-shrink:0;-ms-flex-negative:0;flex-shrink:0;color:currentColor;vertical-align:middle;width:var(--chakra-sizes-6);height:var(--chakra-sizes-6);display:inline-block;line-height:1em;-webkit-flex-shrink:0;-ms-flex-negative:0;flex-shrink:0;color:currentColor;-webkit-transition:all .25s ease-in-out;transition:all .25s ease-in-out;}</style><svg class=\"chakra-icon chakra-icon css-1twc07j\" focusable=\"false\" viewbox=\"0 0 24 24\"><path d=\"M16.59 8.59L12 13.17 7.41 8.59 6 10l6 6 6-6z\" fill=\"currentColor\"></path></svg></a>,\n",
       " <a class=\"chakra-link css-1i05af6\" href=\"/bills/2024\">2024</a>,\n",
       " <a class=\"chakra-link css-1i05af6\" href=\"/bills/2023\">2023</a>,\n",
       " <a class=\"chakra-link css-1i05af6\" href=\"/bills/2022\">2022</a>,\n",
       " <a class=\"chakra-link css-ryc07z\" href=\"/about\"><p class=\"chakra-text css-9y4vnp\">About</p></a>,\n",
       " <a class=\"chakra-link css-f4h6uy\" href=\"/bills/2025/TX/HB1014\">TX<!-- --> <!-- -->HB1014</a>,\n",
       " <a class=\"chakra-link css-f4h6uy\" href=\"/bills/2025/TX/HB1014\"><style data-emotion=\"css 1952nyr\">.css-1952nyr{display:-webkit-inline-box;display:-webkit-inline-flex;display:-ms-inline-flexbox;display:inline-flex;-webkit-appearance:none;-moz-appearance:none;-ms-appearance:none;appearance:none;-webkit-align-items:center;-webkit-box-align:center;-ms-flex-align:center;align-items:center;-webkit-box-pack:center;-ms-flex-pack:center;-webkit-justify-content:center;justify-content:center;-webkit-user-select:none;-moz-user-select:none;-ms-user-select:none;user-select:none;position:relative;white-space:nowrap;vertical-align:middle;outline:2px solid transparent;outline-offset:2px;width:auto;line-height:1.2;border-radius:0px;font-weight:var(--chakra-fontWeights-semibold);transition-property:var(--chakra-transition-property-common);transition-duration:var(--chakra-transition-duration-normal);height:var(--chakra-sizes-10);min-width:var(--chakra-sizes-10);font-size:var(--chakra-fontSizes-md);-webkit-padding-start:var(--chakra-space-4);padding-inline-start:var(--chakra-space-4);-webkit-padding-end:var(--chakra-space-4);padding-inline-end:var(--chakra-space-4);background:var(--chakra-colors-gray-100);border:1px solid #181818;background-color:var(--chakra-colors-white);}.css-1952nyr:focus,.css-1952nyr[data-focus]{box-shadow:var(--chakra-shadows-outline);}.css-1952nyr[disabled],.css-1952nyr[aria-disabled=true],.css-1952nyr[data-disabled]{opacity:0.4;cursor:not-allowed;box-shadow:var(--chakra-shadows-none);}.css-1952nyr:hover,.css-1952nyr[data-hover]{background:var(--chakra-colors-gray-200);}.css-1952nyr:hover[disabled],.css-1952nyr[data-hover][disabled],.css-1952nyr:hover[aria-disabled=true],.css-1952nyr[data-hover][aria-disabled=true],.css-1952nyr:hover[data-disabled],.css-1952nyr[data-hover][data-disabled]{background:var(--chakra-colors-gray-100);}.css-1952nyr:active,.css-1952nyr[data-active]{background:var(--chakra-colors-gray-300);}</style><button class=\"chakra-button css-1952nyr\" type=\"button\">View Bill</button></a>,\n",
       " <a class=\"chakra-link css-f4h6uy\" href=\"/bills/2025/TX/HB1015\">TX<!-- --> <!-- -->HB1015</a>,\n",
       " <a class=\"chakra-link css-f4h6uy\" href=\"/bills/2025/TX/HB1015\"><button class=\"chakra-button css-1952nyr\" type=\"button\">View Bill</button></a>,\n",
       " <a class=\"chakra-link css-f4h6uy\" href=\"/bills/2025/TX/HB1016\">TX<!-- --> <!-- -->HB1016</a>,\n",
       " <a class=\"chakra-link css-f4h6uy\" href=\"/bills/2025/TX/HB1016\"><button class=\"chakra-button css-1952nyr\" type=\"button\">View Bill</button></a>,\n",
       " <a class=\"chakra-link css-f4h6uy\" href=\"/bills/2025/TX/HB1075\">TX<!-- --> <!-- -->HB1075</a>,\n",
       " <a class=\"chakra-link css-f4h6uy\" href=\"/bills/2025/TX/HB1075\"><button class=\"chakra-button css-1952nyr\" type=\"button\">View Bill</button></a>,\n",
       " <a class=\"chakra-link css-f4h6uy\" href=\"/bills/2025/TX/HB1088\">TX<!-- --> <!-- -->HB1088</a>,\n",
       " <a class=\"chakra-link css-f4h6uy\" href=\"/bills/2025/TX/HB1088\"><button class=\"chakra-button css-1952nyr\" type=\"button\">View Bill</button></a>,\n",
       " <a class=\"chakra-link css-f4h6uy\" href=\"/bills/2025/TX/HB1106\">TX<!-- --> <!-- -->HB1106</a>,\n",
       " <a class=\"chakra-link css-f4h6uy\" href=\"/bills/2025/TX/HB1106\"><button class=\"chakra-button css-1952nyr\" type=\"button\">View Bill</button></a>,\n",
       " <a class=\"chakra-link css-f4h6uy\" href=\"/bills/2025/TX/HB1123\">TX<!-- --> <!-- -->HB1123</a>,\n",
       " <a class=\"chakra-link css-f4h6uy\" href=\"/bills/2025/TX/HB1123\"><button class=\"chakra-button css-1952nyr\" type=\"button\">View Bill</button></a>,\n",
       " <a class=\"chakra-link css-f4h6uy\" href=\"/bills/2025/TX/HB1434\">TX<!-- --> <!-- -->HB1434</a>,\n",
       " <a class=\"chakra-link css-f4h6uy\" href=\"/bills/2025/TX/HB1434\"><button class=\"chakra-button css-1952nyr\" type=\"button\">View Bill</button></a>,\n",
       " <a class=\"chakra-link css-f4h6uy\" href=\"/bills/2025/TX/HB1484\">TX<!-- --> <!-- -->HB1484</a>,\n",
       " <a class=\"chakra-link css-f4h6uy\" href=\"/bills/2025/TX/HB1484\"><button class=\"chakra-button css-1952nyr\" type=\"button\">View Bill</button></a>,\n",
       " <a class=\"chakra-link css-f4h6uy\" href=\"/bills/2025/TX/HB1521\">TX<!-- --> <!-- -->HB1521</a>,\n",
       " <a class=\"chakra-link css-f4h6uy\" href=\"/bills/2025/TX/HB1521\"><button class=\"chakra-button css-1952nyr\" type=\"button\">View Bill</button></a>,\n",
       " <a class=\"chakra-link css-f4h6uy\" href=\"/bills/2025/TX/HB1655\">TX<!-- --> <!-- -->HB1655</a>,\n",
       " <a class=\"chakra-link css-f4h6uy\" href=\"/bills/2025/TX/HB1655\"><button class=\"chakra-button css-1952nyr\" type=\"button\">View Bill</button></a>,\n",
       " <a class=\"chakra-link css-f4h6uy\" href=\"/bills/2025/TX/HB167\">TX<!-- --> <!-- -->HB167</a>,\n",
       " <a class=\"chakra-link css-f4h6uy\" href=\"/bills/2025/TX/HB167\"><button class=\"chakra-button css-1952nyr\" type=\"button\">View Bill</button></a>,\n",
       " <a class=\"chakra-link css-f4h6uy\" href=\"/bills/2025/TX/HB1704\">TX<!-- --> <!-- -->HB1704</a>,\n",
       " <a class=\"chakra-link css-f4h6uy\" href=\"/bills/2025/TX/HB1704\"><button class=\"chakra-button css-1952nyr\" type=\"button\">View Bill</button></a>,\n",
       " <a class=\"chakra-link css-f4h6uy\" href=\"/bills/2025/TX/HB2062\">TX<!-- --> <!-- -->HB2062</a>,\n",
       " <a class=\"chakra-link css-f4h6uy\" href=\"/bills/2025/TX/HB2062\"><button class=\"chakra-button css-1952nyr\" type=\"button\">View Bill</button></a>,\n",
       " <a class=\"chakra-link css-f4h6uy\" href=\"/bills/2025/TX/HB2258\">TX<!-- --> <!-- -->HB2258</a>,\n",
       " <a class=\"chakra-link css-f4h6uy\" href=\"/bills/2025/TX/HB2258\"><button class=\"chakra-button css-1952nyr\" type=\"button\">View Bill</button></a>,\n",
       " <a class=\"chakra-link css-f4h6uy\" href=\"/bills/2025/TX/HB229\">TX<!-- --> <!-- -->HB229</a>,\n",
       " <a class=\"chakra-link css-f4h6uy\" href=\"/bills/2025/TX/HB229\"><button class=\"chakra-button css-1952nyr\" type=\"button\">View Bill</button></a>,\n",
       " <a class=\"chakra-link css-f4h6uy\" href=\"/bills/2025/TX/HB2291\">TX<!-- --> <!-- -->HB2291</a>,\n",
       " <a class=\"chakra-link css-f4h6uy\" href=\"/bills/2025/TX/HB2291\"><button class=\"chakra-button css-1952nyr\" type=\"button\">View Bill</button></a>,\n",
       " <a class=\"chakra-link css-f4h6uy\" href=\"/bills/2025/TX/HB2311\">TX<!-- --> <!-- -->HB2311</a>,\n",
       " <a class=\"chakra-link css-f4h6uy\" href=\"/bills/2025/TX/HB2311\"><button class=\"chakra-button css-1952nyr\" type=\"button\">View Bill</button></a>,\n",
       " <a class=\"chakra-link css-f4h6uy\" href=\"/bills/2025/TX/HB2339\">TX<!-- --> <!-- -->HB2339</a>,\n",
       " <a class=\"chakra-link css-f4h6uy\" href=\"/bills/2025/TX/HB2339\"><button class=\"chakra-button css-1952nyr\" type=\"button\">View Bill</button></a>,\n",
       " <a class=\"chakra-link css-f4h6uy\" href=\"/bills/2025/TX/HB2342\">TX<!-- --> <!-- -->HB2342</a>,\n",
       " <a class=\"chakra-link css-f4h6uy\" href=\"/bills/2025/TX/HB2342\"><button class=\"chakra-button css-1952nyr\" type=\"button\">View Bill</button></a>,\n",
       " <a class=\"chakra-link css-f4h6uy\" href=\"/bills/2025/TX/HB2354\">TX<!-- --> <!-- -->HB2354</a>,\n",
       " <a class=\"chakra-link css-f4h6uy\" href=\"/bills/2025/TX/HB2354\"><button class=\"chakra-button css-1952nyr\" type=\"button\">View Bill</button></a>,\n",
       " <a class=\"chakra-link css-f4h6uy\" href=\"/bills/2025/TX/HB239\">TX<!-- --> <!-- -->HB239</a>,\n",
       " <a class=\"chakra-link css-f4h6uy\" href=\"/bills/2025/TX/HB239\"><button class=\"chakra-button css-1952nyr\" type=\"button\">View Bill</button></a>,\n",
       " <a class=\"chakra-link css-f4h6uy\" href=\"/bills/2025/TX/HB2548\">TX<!-- --> <!-- -->HB2548</a>,\n",
       " <a class=\"chakra-link css-f4h6uy\" href=\"/bills/2025/TX/HB2548\"><button class=\"chakra-button css-1952nyr\" type=\"button\">View Bill</button></a>,\n",
       " <a class=\"chakra-link css-f4h6uy\" href=\"/bills/2025/TX/HB2549\">TX<!-- --> <!-- -->HB2549</a>,\n",
       " <a class=\"chakra-link css-f4h6uy\" href=\"/bills/2025/TX/HB2549\"><button class=\"chakra-button css-1952nyr\" type=\"button\">View Bill</button></a>,\n",
       " <a class=\"chakra-link css-f4h6uy\" href=\"/bills/2025/TX/HB267\">TX<!-- --> <!-- -->HB267</a>,\n",
       " <a class=\"chakra-link css-f4h6uy\" href=\"/bills/2025/TX/HB267\"><button class=\"chakra-button css-1952nyr\" type=\"button\">View Bill</button></a>,\n",
       " <a class=\"chakra-link css-f4h6uy\" href=\"/bills/2025/TX/HB2704\">TX<!-- --> <!-- -->HB2704</a>,\n",
       " <a class=\"chakra-link css-f4h6uy\" href=\"/bills/2025/TX/HB2704\"><button class=\"chakra-button css-1952nyr\" type=\"button\">View Bill</button></a>,\n",
       " <a class=\"chakra-link css-f4h6uy\" href=\"/bills/2025/TX/HB2770\">TX<!-- --> <!-- -->HB2770</a>,\n",
       " <a class=\"chakra-link css-f4h6uy\" href=\"/bills/2025/TX/HB2770\"><button class=\"chakra-button css-1952nyr\" type=\"button\">View Bill</button></a>,\n",
       " <a class=\"chakra-link css-f4h6uy\" href=\"/bills/2025/TX/HB2821\">TX<!-- --> <!-- -->HB2821</a>,\n",
       " <a class=\"chakra-link css-f4h6uy\" href=\"/bills/2025/TX/HB2821\"><button class=\"chakra-button css-1952nyr\" type=\"button\">View Bill</button></a>,\n",
       " <a class=\"chakra-link css-f4h6uy\" href=\"/bills/2025/TX/HB2846\">TX<!-- --> <!-- -->HB2846</a>,\n",
       " <a class=\"chakra-link css-f4h6uy\" href=\"/bills/2025/TX/HB2846\"><button class=\"chakra-button css-1952nyr\" type=\"button\">View Bill</button></a>,\n",
       " <a class=\"chakra-link css-f4h6uy\" href=\"/bills/2025/TX/HB344\">TX<!-- --> <!-- -->HB344</a>,\n",
       " <a class=\"chakra-link css-f4h6uy\" href=\"/bills/2025/TX/HB344\"><button class=\"chakra-button css-1952nyr\" type=\"button\">View Bill</button></a>,\n",
       " <a class=\"chakra-link css-f4h6uy\" href=\"/bills/2025/TX/HB370\">TX<!-- --> <!-- -->HB370</a>,\n",
       " <a class=\"chakra-link css-f4h6uy\" href=\"/bills/2025/TX/HB370\"><button class=\"chakra-button css-1952nyr\" type=\"button\">View Bill</button></a>,\n",
       " <a class=\"chakra-link css-f4h6uy\" href=\"/bills/2025/TX/HB403\">TX<!-- --> <!-- -->HB403</a>,\n",
       " <a class=\"chakra-link css-f4h6uy\" href=\"/bills/2025/TX/HB403\"><button class=\"chakra-button css-1952nyr\" type=\"button\">View Bill</button></a>,\n",
       " <a class=\"chakra-link css-f4h6uy\" href=\"/bills/2025/TX/HB436\">TX<!-- --> <!-- -->HB436</a>,\n",
       " <a class=\"chakra-link css-f4h6uy\" href=\"/bills/2025/TX/HB436\"><button class=\"chakra-button css-1952nyr\" type=\"button\">View Bill</button></a>,\n",
       " <a class=\"chakra-link css-f4h6uy\" href=\"/bills/2025/TX/HB437\">TX<!-- --> <!-- -->HB437</a>,\n",
       " <a class=\"chakra-link css-f4h6uy\" href=\"/bills/2025/TX/HB437\"><button class=\"chakra-button css-1952nyr\" type=\"button\">View Bill</button></a>,\n",
       " <a class=\"chakra-link css-f4h6uy\" href=\"/bills/2025/TX/HB477\">TX<!-- --> <!-- -->HB477</a>,\n",
       " <a class=\"chakra-link css-f4h6uy\" href=\"/bills/2025/TX/HB477\"><button class=\"chakra-button css-1952nyr\" type=\"button\">View Bill</button></a>,\n",
       " <a class=\"chakra-link css-f4h6uy\" href=\"/bills/2025/TX/HB778\">TX<!-- --> <!-- -->HB778</a>,\n",
       " <a class=\"chakra-link css-f4h6uy\" href=\"/bills/2025/TX/HB778\"><button class=\"chakra-button css-1952nyr\" type=\"button\">View Bill</button></a>,\n",
       " <a class=\"chakra-link css-f4h6uy\" href=\"/bills/2025/TX/HB843\">TX<!-- --> <!-- -->HB843</a>,\n",
       " <a class=\"chakra-link css-f4h6uy\" href=\"/bills/2025/TX/HB843\"><button class=\"chakra-button css-1952nyr\" type=\"button\">View Bill</button></a>,\n",
       " <a class=\"chakra-link css-f4h6uy\" href=\"/bills/2025/TX/HB847\">TX<!-- --> <!-- -->HB847</a>,\n",
       " <a class=\"chakra-link css-f4h6uy\" href=\"/bills/2025/TX/HB847\"><button class=\"chakra-button css-1952nyr\" type=\"button\">View Bill</button></a>,\n",
       " <a class=\"chakra-link css-f4h6uy\" href=\"/bills/2025/TX/HB938\">TX<!-- --> <!-- -->HB938</a>,\n",
       " <a class=\"chakra-link css-f4h6uy\" href=\"/bills/2025/TX/HB938\"><button class=\"chakra-button css-1952nyr\" type=\"button\">View Bill</button></a>,\n",
       " <a class=\"chakra-link css-f4h6uy\" href=\"/bills/2025/TX/HB947\">TX<!-- --> <!-- -->HB947</a>,\n",
       " <a class=\"chakra-link css-f4h6uy\" href=\"/bills/2025/TX/HB947\"><button class=\"chakra-button css-1952nyr\" type=\"button\">View Bill</button></a>,\n",
       " <a class=\"chakra-link css-f4h6uy\" href=\"/bills/2025/TX/HB973\">TX<!-- --> <!-- -->HB973</a>,\n",
       " <a class=\"chakra-link css-f4h6uy\" href=\"/bills/2025/TX/HB973\"><button class=\"chakra-button css-1952nyr\" type=\"button\">View Bill</button></a>,\n",
       " <a class=\"chakra-link css-f4h6uy\" href=\"/bills/2025/TX/HB976\">TX<!-- --> <!-- -->HB976</a>,\n",
       " <a class=\"chakra-link css-f4h6uy\" href=\"/bills/2025/TX/HB976\"><button class=\"chakra-button css-1952nyr\" type=\"button\">View Bill</button></a>,\n",
       " <a class=\"chakra-link css-f4h6uy\" href=\"/bills/2025/TX/HB980\">TX<!-- --> <!-- -->HB980</a>,\n",
       " <a class=\"chakra-link css-f4h6uy\" href=\"/bills/2025/TX/HB980\"><button class=\"chakra-button css-1952nyr\" type=\"button\">View Bill</button></a>,\n",
       " <a class=\"chakra-link css-f4h6uy\" href=\"/bills/2025/TX/HB995\">TX<!-- --> <!-- -->HB995</a>,\n",
       " <a class=\"chakra-link css-f4h6uy\" href=\"/bills/2025/TX/HB995\"><button class=\"chakra-button css-1952nyr\" type=\"button\">View Bill</button></a>,\n",
       " <a class=\"chakra-link css-f4h6uy\" href=\"/bills/2025/TX/HR144\">TX<!-- --> <!-- -->HR144</a>,\n",
       " <a class=\"chakra-link css-f4h6uy\" href=\"/bills/2025/TX/HR144\"><button class=\"chakra-button css-1952nyr\" type=\"button\">View Bill</button></a>,\n",
       " <a class=\"chakra-link css-f4h6uy\" href=\"/bills/2025/TX/SB1068\">TX<!-- --> <!-- -->SB1068</a>,\n",
       " <a class=\"chakra-link css-f4h6uy\" href=\"/bills/2025/TX/SB1068\"><button class=\"chakra-button css-1952nyr\" type=\"button\">View Bill</button></a>,\n",
       " <a class=\"chakra-link css-f4h6uy\" href=\"/bills/2025/TX/SB115\">TX<!-- --> <!-- -->SB115</a>,\n",
       " <a class=\"chakra-link css-f4h6uy\" href=\"/bills/2025/TX/SB115\"><button class=\"chakra-button css-1952nyr\" type=\"button\">View Bill</button></a>,\n",
       " <a class=\"chakra-link css-f4h6uy\" href=\"/bills/2025/TX/SB116\">TX<!-- --> <!-- -->SB116</a>,\n",
       " <a class=\"chakra-link css-f4h6uy\" href=\"/bills/2025/TX/SB116\"><button class=\"chakra-button css-1952nyr\" type=\"button\">View Bill</button></a>,\n",
       " <a class=\"chakra-link css-f4h6uy\" href=\"/bills/2025/TX/SB1188\">TX<!-- --> <!-- -->SB1188</a>,\n",
       " <a class=\"chakra-link css-f4h6uy\" href=\"/bills/2025/TX/SB1188\"><button class=\"chakra-button css-1952nyr\" type=\"button\">View Bill</button></a>,\n",
       " <a class=\"chakra-link css-f4h6uy\" href=\"/bills/2025/TX/SB1257\">TX<!-- --> <!-- -->SB1257</a>,\n",
       " <a class=\"chakra-link css-f4h6uy\" href=\"/bills/2025/TX/SB1257\"><button class=\"chakra-button css-1952nyr\" type=\"button\">View Bill</button></a>,\n",
       " <a class=\"chakra-link css-f4h6uy\" href=\"/bills/2025/TX/SB240\">TX<!-- --> <!-- -->SB240</a>,\n",
       " <a class=\"chakra-link css-f4h6uy\" href=\"/bills/2025/TX/SB240\"><button class=\"chakra-button css-1952nyr\" type=\"button\">View Bill</button></a>,\n",
       " <a class=\"chakra-link css-f4h6uy\" href=\"/bills/2025/TX/SB242\">TX<!-- --> <!-- -->SB242</a>,\n",
       " <a class=\"chakra-link css-f4h6uy\" href=\"/bills/2025/TX/SB242\"><button class=\"chakra-button css-1952nyr\" type=\"button\">View Bill</button></a>,\n",
       " <a class=\"chakra-link css-f4h6uy\" href=\"/bills/2025/TX/SB406\">TX<!-- --> <!-- -->SB406</a>,\n",
       " <a class=\"chakra-link css-f4h6uy\" href=\"/bills/2025/TX/SB406\"><button class=\"chakra-button css-1952nyr\" type=\"button\">View Bill</button></a>,\n",
       " <a class=\"chakra-link css-f4h6uy\" href=\"/bills/2025/TX/SB412\">TX<!-- --> <!-- -->SB412</a>,\n",
       " <a class=\"chakra-link css-f4h6uy\" href=\"/bills/2025/TX/SB412\"><button class=\"chakra-button css-1952nyr\" type=\"button\">View Bill</button></a>,\n",
       " <a class=\"chakra-link css-f4h6uy\" href=\"/bills/2025/TX/SB619\">TX<!-- --> <!-- -->SB619</a>,\n",
       " <a class=\"chakra-link css-f4h6uy\" href=\"/bills/2025/TX/SB619\"><button class=\"chakra-button css-1952nyr\" type=\"button\">View Bill</button></a>,\n",
       " <a class=\"chakra-link css-f4h6uy\" href=\"/bills/2025/TX/SB689\">TX<!-- --> <!-- -->SB689</a>,\n",
       " <a class=\"chakra-link css-f4h6uy\" href=\"/bills/2025/TX/SB689\"><button class=\"chakra-button css-1952nyr\" type=\"button\">View Bill</button></a>,\n",
       " <a class=\"chakra-link css-f4h6uy\" href=\"/bills/2025/TX/SB753\">TX<!-- --> <!-- -->SB753</a>,\n",
       " <a class=\"chakra-link css-f4h6uy\" href=\"/bills/2025/TX/SB753\"><button class=\"chakra-button css-1952nyr\" type=\"button\">View Bill</button></a>,\n",
       " <a class=\"chakra-link css-f4h6uy\" href=\"/bills/2025/TX/SB810\">TX<!-- --> <!-- -->SB810</a>,\n",
       " <a class=\"chakra-link css-f4h6uy\" href=\"/bills/2025/TX/SB810\"><button class=\"chakra-button css-1952nyr\" type=\"button\">View Bill</button></a>,\n",
       " <a class=\"chakra-link css-f4h6uy\" href=\"/bills/2025/TX/SB84\">TX<!-- --> <!-- -->SB84</a>,\n",
       " <a class=\"chakra-link css-f4h6uy\" href=\"/bills/2025/TX/SB84\"><button class=\"chakra-button css-1952nyr\" type=\"button\">View Bill</button></a>,\n",
       " <a class=\"chakra-link css-f4h6uy\" href=\"/bills/2025/TX/SB86\">TX<!-- --> <!-- -->SB86</a>,\n",
       " <a class=\"chakra-link css-f4h6uy\" href=\"/bills/2025/TX/SB86\"><button class=\"chakra-button css-1952nyr\" type=\"button\">View Bill</button></a>,\n",
       " <a class=\"chakra-link css-f4h6uy\" href=\"/bills/2025/TX/SB89\">TX<!-- --> <!-- -->SB89</a>,\n",
       " <a class=\"chakra-link css-f4h6uy\" href=\"/bills/2025/TX/SB89\"><button class=\"chakra-button css-1952nyr\" type=\"button\">View Bill</button></a>,\n",
       " <a class=\"chakra-link css-f4h6uy\" href=\"/bills/2025/TX/SB949\">TX<!-- --> <!-- -->SB949</a>,\n",
       " <a class=\"chakra-link css-f4h6uy\" href=\"/bills/2025/TX/SB949\"><button class=\"chakra-button css-1952nyr\" type=\"button\">View Bill</button></a>,\n",
       " <a class=\"chakra-link css-f4h6uy\" href=\"/bills/2025/TX/SB983\">TX<!-- --> <!-- -->SB983</a>,\n",
       " <a class=\"chakra-link css-f4h6uy\" href=\"/bills/2025/TX/SB983\"><button class=\"chakra-button css-1952nyr\" type=\"button\">View Bill</button></a>]"
      ]
     },
     "execution_count": 35,
     "metadata": {},
     "output_type": "execute_result"
    }
   ],
   "source": [
    "soup.find_all('a')"
   ]
  },
  {
   "cell_type": "code",
   "execution_count": 37,
   "id": "aacdf76d-3675-4efd-9dbb-adf29247f050",
   "metadata": {},
   "outputs": [
    {
     "data": {
      "text/plain": [
       "'Texas'"
      ]
     },
     "execution_count": 37,
     "metadata": {},
     "output_type": "execute_result"
    }
   ],
   "source": [
    "soup.h2.text"
   ]
  },
  {
   "cell_type": "code",
   "execution_count": 38,
   "id": "5dc81893-d833-48c5-a321-9daf5e1eb9c9",
   "metadata": {},
   "outputs": [
    {
     "data": {
      "text/plain": [
       "'Trans Legislation Tracker'"
      ]
     },
     "execution_count": 38,
     "metadata": {},
     "output_type": "execute_result"
    }
   ],
   "source": [
    "soup.a.text"
   ]
  },
  {
   "cell_type": "code",
   "execution_count": 40,
   "id": "d6f8d965-b6a7-41e6-9c65-9d267a695b70",
   "metadata": {},
   "outputs": [],
   "source": [
    "page_text = soup.body.text"
   ]
  },
  {
   "cell_type": "code",
   "execution_count": 42,
   "id": "a97a5bd7-525c-4f27-920e-40cb07cd5731",
   "metadata": {},
   "outputs": [
    {
     "data": {
      "text/plain": [
       "str"
      ]
     },
     "execution_count": 42,
     "metadata": {},
     "output_type": "execute_result"
    }
   ],
   "source": [
    "type(page_text)"
   ]
  },
  {
   "cell_type": "code",
   "execution_count": 43,
   "id": "7a201e73-4655-4b46-8053-06027a58bd08",
   "metadata": {},
   "outputs": [],
   "source": [
    "sentences = page_text.split('.')"
   ]
  },
  {
   "cell_type": "code",
   "execution_count": 48,
   "id": "90533cab-4464-4669-9bde-7b66733a572f",
   "metadata": {},
   "outputs": [
    {
     "name": "stdout",
     "output_type": "stream",
     "text": [
      " (16) \"Female\" and \"woman\" mean an individual whose biological reproductive system is developed to produce ova\n",
      " (16) \"Female\" and \"woman\" mean an individual whose biological reproductive system is developed to produce ova\n"
     ]
    }
   ],
   "source": [
    "for item in sentences:\n",
    "    if 'woman' in item:\n",
    "        print(item)"
   ]
  },
  {
   "cell_type": "code",
   "execution_count": 61,
   "id": "4bd74148-d1db-4dd7-b6ca-ba593c52e40a",
   "metadata": {},
   "outputs": [
    {
     "data": {
      "text/plain": [
       "'/bills/2025/TX/HB1014'"
      ]
     },
     "execution_count": 61,
     "metadata": {},
     "output_type": "execute_result"
    }
   ],
   "source": [
    "soup.find('h3').a['href']"
   ]
  },
  {
   "cell_type": "code",
   "execution_count": 62,
   "id": "2c0c502b-66f5-4ead-9b52-6eeb53975039",
   "metadata": {},
   "outputs": [
    {
     "data": {
      "text/plain": [
       "[<div class=\"css-1ftdpv0\"><style data-emotion=\"css 4rck61\">.css-4rck61{max-width:var(--chakra-sizes-2xl);border:1px solid #181818;padding:var(--chakra-space-6);border-left:4px solid #181818;}</style><div class=\"css-4rck61\"><style data-emotion=\"css 1dvz6tu\">.css-1dvz6tu{display:-webkit-box;display:-webkit-flex;display:-ms-flexbox;display:flex;-webkit-align-items:baseline;-webkit-box-align:baseline;-ms-flex-align:baseline;align-items:baseline;-webkit-box-pack:justify;-webkit-justify-content:space-between;justify-content:space-between;-webkit-box-flex-wrap:wrap;-webkit-flex-wrap:wrap;-ms-flex-wrap:wrap;flex-wrap:wrap;gap:var(--chakra-space-2);margin-left:inherit;margin-right:inherit;margin-bottom:var(--chakra-space-2);}</style><div class=\"css-1dvz6tu\"><style data-emotion=\"css wd7aku\">.css-wd7aku{font-weight:var(--chakra-fontWeights-semibold);letter-spacing:var(--chakra-letterSpacings-wide);margin-bottom:var(--chakra-space-2);}</style><div class=\"css-wd7aku\"><style data-emotion=\"css 1vygpf9\">.css-1vygpf9{font-family:var(--chakra-fonts-heading);font-weight:var(--chakra-fontWeights-bold);font-size:var(--chakra-fontSizes-2xl);line-height:1.33;color:#181818;text-align:left;margin-bottom:var(--chakra-space-1);}@media screen and (min-width: 48em){.css-1vygpf9{font-size:var(--chakra-fontSizes-3xl);line-height:1.2;}}</style><h3 class=\"chakra-heading css-1vygpf9\"><style data-emotion=\"css f4h6uy\">.css-f4h6uy{transition-property:var(--chakra-transition-property-common);transition-duration:var(--chakra-transition-duration-fast);transition-timing-function:var(--chakra-transition-easing-ease-out);cursor:pointer;-webkit-text-decoration:none;text-decoration:none;outline:2px solid transparent;outline-offset:2px;color:inherit;}.css-f4h6uy:hover,.css-f4h6uy[data-hover]{-webkit-text-decoration:underline;text-decoration:underline;}.css-f4h6uy:focus,.css-f4h6uy[data-focus]{box-shadow:var(--chakra-shadows-outline);}</style><a class=\"chakra-link css-f4h6uy\" href=\"/bills/2025/TX/HB1014\">TX<!-- --> <!-- -->HB1014</a></h3><style data-emotion=\"css bvx26t\">.css-bvx26t{display:-webkit-inline-box;display:-webkit-inline-flex;display:-ms-inline-flexbox;display:inline-flex;vertical-align:top;-webkit-align-items:center;-webkit-box-align:center;-ms-flex-align:center;align-items:center;max-width:100%;font-weight:var(--chakra-fontWeights-medium);line-height:1.2;outline:2px solid transparent;outline-offset:2px;min-height:1.5rem;min-width:1.5rem;font-size:var(--chakra-fontSizes-sm);border-radius:0px;-webkit-padding-start:var(--chakra-space-2);padding-inline-start:var(--chakra-space-2);-webkit-padding-end:var(--chakra-space-2);padding-inline-end:var(--chakra-space-2);background:#A33469;color:var(--chakra-colors-white);}.css-bvx26t:focus,.css-bvx26t[data-focus]{box-shadow:var(--chakra-shadows-outline);}</style><span class=\"css-bvx26t\">BATHROOM</span></div><style data-emotion=\"css spvtcf\">.css-spvtcf{display:-webkit-inline-box;display:-webkit-inline-flex;display:-ms-inline-flexbox;display:inline-flex;vertical-align:top;-webkit-align-items:center;-webkit-box-align:center;-ms-flex-align:center;align-items:center;max-width:100%;font-weight:var(--chakra-fontWeights-medium);line-height:1.2;outline:2px solid transparent;outline-offset:2px;min-height:1.25rem;min-width:1.25rem;font-size:var(--chakra-fontSizes-xs);-webkit-padding-start:var(--chakra-space-2);padding-inline-start:var(--chakra-space-2);-webkit-padding-end:var(--chakra-space-2);padding-inline-end:var(--chakra-space-2);border-radius:0px;background:var(--chakra-colors-blue-100);color:var(--chakra-colors-gray-800);}.css-spvtcf:focus,.css-spvtcf[data-focus]{box-shadow:var(--chakra-shadows-outline);}</style><span class=\"css-spvtcf\">INTRODUCED</span></div><style data-emotion=\"css bp9bt3\">.css-bp9bt3{font-family:var(--chakra-fonts-heading);font-weight:var(--chakra-fontWeights-semibold);font-size:var(--chakra-fontSizes-xl);line-height:1.2;margin-left:inherit;margin-right:inherit;overflow:hidden;text-overflow:ellipsis;display:-webkit-box;-webkit-box-orient:vertical;-webkit-line-clamp:var(--chakra-line-clamp);--chakra-line-clamp:3;margin-bottom:var(--chakra-space-2);}</style><h2 class=\"chakra-heading css-bp9bt3\">Relating to regulations and policies for entering or using a bathroom or changing facility in a public school; authorizing a civil penalty, authorizing a private civil right of action.</h2><style data-emotion=\"css bxak8j\">.css-bxak8j{margin-bottom:var(--chakra-space-2);}</style><div class=\"css-bxak8j\"><style data-emotion=\"css 3vjk35\">.css-3vjk35{display:-webkit-box;display:-webkit-flex;display:-ms-flexbox;display:flex;margin-bottom:var(--chakra-space-4);}</style><div class=\"css-3vjk35\"><style data-emotion=\"css zfp3v8\">.css-zfp3v8{width:45px;height:45px;display:inline-block;line-height:1em;-webkit-flex-shrink:0;-ms-flex-negative:0;flex-shrink:0;color:currentColor;vertical-align:middle;}</style><svg class=\"chakra-icon css-zfp3v8\" focusable=\"false\" viewbox=\"0 0 200 200\"><svg fill=\"none\" viewbox=\"0 0 59 59\" xmlns=\"http://www.w3.org/2000/svg\"><path d=\"M26.0421 29.7075V48.38H7.50793V43.539C7.50793 35.9777 8.06119 30.3529 9.16771 26.6645C10.3664 22.8839 13.4555 17.5357 18.4348 10.62L26.3188 15.0461C22.1693 22.1462 19.7719 27.0334 19.1264 29.7075H26.0421ZM51.2155 29.7075V48.38H32.6813V43.539C32.6813 35.9777 33.2345 30.3529 34.341 26.6645C35.5398 22.8839 38.6288 17.5357 43.6082 10.62L51.4921 15.0461C47.3427 22.1462 44.9452 27.0334 44.2997 29.7075H51.2155Z\" fill=\"#4A5568\"></path></svg></svg><style data-emotion=\"css 1vlkgh2\">.css-1vlkgh2{font-family:Courier;margin:var(--chakra-space-2);margin-left:var(--chakra-space-4);text-align:justify;overflow:hidden;text-overflow:ellipsis;display:-webkit-box;-webkit-box-orient:vertical;-webkit-line-clamp:var(--chakra-line-clamp);--chakra-line-clamp:6;}</style><p class=\"chakra-text css-1vlkgh2\">Sec. 38.452. DETERMINATION OF BIOLOGICAL SEX. (a) For purposes of this subchapter, a person's biological sex is the biological sex correctly stated on the person's official birth certificate as described by Subsection (b).</p></div></div><a class=\"chakra-link css-f4h6uy\" href=\"/bills/2025/TX/HB1014\"><style data-emotion=\"css 1952nyr\">.css-1952nyr{display:-webkit-inline-box;display:-webkit-inline-flex;display:-ms-inline-flexbox;display:inline-flex;-webkit-appearance:none;-moz-appearance:none;-ms-appearance:none;appearance:none;-webkit-align-items:center;-webkit-box-align:center;-ms-flex-align:center;align-items:center;-webkit-box-pack:center;-ms-flex-pack:center;-webkit-justify-content:center;justify-content:center;-webkit-user-select:none;-moz-user-select:none;-ms-user-select:none;user-select:none;position:relative;white-space:nowrap;vertical-align:middle;outline:2px solid transparent;outline-offset:2px;width:auto;line-height:1.2;border-radius:0px;font-weight:var(--chakra-fontWeights-semibold);transition-property:var(--chakra-transition-property-common);transition-duration:var(--chakra-transition-duration-normal);height:var(--chakra-sizes-10);min-width:var(--chakra-sizes-10);font-size:var(--chakra-fontSizes-md);-webkit-padding-start:var(--chakra-space-4);padding-inline-start:var(--chakra-space-4);-webkit-padding-end:var(--chakra-space-4);padding-inline-end:var(--chakra-space-4);background:var(--chakra-colors-gray-100);border:1px solid #181818;background-color:var(--chakra-colors-white);}.css-1952nyr:focus,.css-1952nyr[data-focus]{box-shadow:var(--chakra-shadows-outline);}.css-1952nyr[disabled],.css-1952nyr[aria-disabled=true],.css-1952nyr[data-disabled]{opacity:0.4;cursor:not-allowed;box-shadow:var(--chakra-shadows-none);}.css-1952nyr:hover,.css-1952nyr[data-hover]{background:var(--chakra-colors-gray-200);}.css-1952nyr:hover[disabled],.css-1952nyr[data-hover][disabled],.css-1952nyr:hover[aria-disabled=true],.css-1952nyr[data-hover][aria-disabled=true],.css-1952nyr:hover[data-disabled],.css-1952nyr[data-hover][data-disabled]{background:var(--chakra-colors-gray-100);}.css-1952nyr:active,.css-1952nyr[data-active]{background:var(--chakra-colors-gray-300);}</style><button class=\"chakra-button css-1952nyr\" type=\"button\">View Bill</button></a></div><div class=\"css-4rck61\"><div class=\"css-1dvz6tu\"><div class=\"css-wd7aku\"><h3 class=\"chakra-heading css-1vygpf9\"><a class=\"chakra-link css-f4h6uy\" href=\"/bills/2025/TX/HB1015\">TX<!-- --> <!-- -->HB1015</a></h3><span class=\"css-bvx26t\">BATHROOM</span></div><span class=\"css-spvtcf\">INTRODUCED</span></div><h2 class=\"chakra-heading css-bp9bt3\">Relating to regulations and policies for entering or using a bathroom or changing facility in a public school.</h2><div class=\"css-bxak8j\"><div class=\"css-3vjk35\"><svg class=\"chakra-icon css-zfp3v8\" focusable=\"false\" viewbox=\"0 0 200 200\"><svg fill=\"none\" viewbox=\"0 0 59 59\" xmlns=\"http://www.w3.org/2000/svg\"><path d=\"M26.0421 29.7075V48.38H7.50793V43.539C7.50793 35.9777 8.06119 30.3529 9.16771 26.6645C10.3664 22.8839 13.4555 17.5357 18.4348 10.62L26.3188 15.0461C22.1693 22.1462 19.7719 27.0334 19.1264 29.7075H26.0421ZM51.2155 29.7075V48.38H32.6813V43.539C32.6813 35.9777 33.2345 30.3529 34.341 26.6645C35.5398 22.8839 38.6288 17.5357 43.6082 10.62L51.4921 15.0461C47.3427 22.1462 44.9452 27.0334 44.2997 29.7075H51.2155Z\" fill=\"#4A5568\"></path></svg></svg><p class=\"chakra-text css-1vlkgh2\">DETERMINATION OF BIOLOGICAL SEX. (a) For purposes of this subchapter, a person's biological sex is the biological sex correctly stated on the person's official birth certificate as described by Subsection (b).</p></div></div><a class=\"chakra-link css-f4h6uy\" href=\"/bills/2025/TX/HB1015\"><button class=\"chakra-button css-1952nyr\" type=\"button\">View Bill</button></a></div><div class=\"css-4rck61\"><div class=\"css-1dvz6tu\"><div class=\"css-wd7aku\"><h3 class=\"chakra-heading css-1vygpf9\"><a class=\"chakra-link css-f4h6uy\" href=\"/bills/2025/TX/HB1016\">TX<!-- --> <!-- -->HB1016</a></h3><span class=\"css-bvx26t\">BATHROOM</span></div><span class=\"css-spvtcf\">INTRODUCED</span></div><h2 class=\"chakra-heading css-bp9bt3\">Relating to a public school policy regarding multi-occupancy bathrooms or changing facilities.</h2><div class=\"css-bxak8j\"><div class=\"css-3vjk35\"><svg class=\"chakra-icon css-zfp3v8\" focusable=\"false\" viewbox=\"0 0 200 200\"><svg fill=\"none\" viewbox=\"0 0 59 59\" xmlns=\"http://www.w3.org/2000/svg\"><path d=\"M26.0421 29.7075V48.38H7.50793V43.539C7.50793 35.9777 8.06119 30.3529 9.16771 26.6645C10.3664 22.8839 13.4555 17.5357 18.4348 10.62L26.3188 15.0461C22.1693 22.1462 19.7719 27.0334 19.1264 29.7075H26.0421ZM51.2155 29.7075V48.38H32.6813V43.539C32.6813 35.9777 33.2345 30.3529 34.341 26.6645C35.5398 22.8839 38.6288 17.5357 43.6082 10.62L51.4921 15.0461C47.3427 22.1462 44.9452 27.0334 44.2997 29.7075H51.2155Z\" fill=\"#4A5568\"></path></svg></svg><p class=\"chakra-text css-1vlkgh2\">(a) In this section, \"multi-occupancy bathroom or changing facility\" [...] includes a restroom, locker room, changing room, or shower room. [...] (c) If a school district adopts a policy that allows for separation of multi-occupancy bathrooms or changing facilities according to a criterion other than a person's biological sex assigned at birth, the policy must: (1) include: (A) a description of: (i) which multi-occupancy bathrooms or changing facilities are not separated by biological sex assigned at birth; and (ii) if a multi-occupancy bathroom or changing facility is not separated by biological sex assigned at birth, the method by which students will be supervised in that facility and the manner in which that method of supervision ensures the safety and privacy of students; and (B) accommodations or modifications for students who wish to use a multi-occupancy bathroom or changing facility separated by biological sex assigned at birth; and (2) be: (A) posted on the district's Internet website; and (B) provided at the beginning of each school year by mail to each parent of a student enrolled in the district.</p></div></div><a class=\"chakra-link css-f4h6uy\" href=\"/bills/2025/TX/HB1016\"><button class=\"chakra-button css-1952nyr\" type=\"button\">View Bill</button></a></div><div class=\"css-4rck61\"><div class=\"css-1dvz6tu\"><div class=\"css-wd7aku\"><h3 class=\"chakra-heading css-1vygpf9\"><a class=\"chakra-link css-f4h6uy\" href=\"/bills/2025/TX/HB1075\">TX<!-- --> <!-- -->HB1075</a></h3><style data-emotion=\"css 1j95h6q\">.css-1j95h6q{display:-webkit-inline-box;display:-webkit-inline-flex;display:-ms-inline-flexbox;display:inline-flex;vertical-align:top;-webkit-align-items:center;-webkit-box-align:center;-ms-flex-align:center;align-items:center;max-width:100%;font-weight:var(--chakra-fontWeights-medium);line-height:1.2;outline:2px solid transparent;outline-offset:2px;min-height:1.5rem;min-width:1.5rem;font-size:var(--chakra-fontSizes-sm);border-radius:0px;-webkit-padding-start:var(--chakra-space-2);padding-inline-start:var(--chakra-space-2);-webkit-padding-end:var(--chakra-space-2);padding-inline-end:var(--chakra-space-2);background:#713999;color:var(--chakra-colors-white);}.css-1j95h6q:focus,.css-1j95h6q[data-focus]{box-shadow:var(--chakra-shadows-outline);}</style><span class=\"css-1j95h6q\">PERFORMANCE</span></div><span class=\"css-spvtcf\">INTRODUCED</span></div><h2 class=\"chakra-heading css-bp9bt3\">Relating to a cause of action for drag performances performed in the presence of a minor.</h2><div class=\"css-bxak8j\"><div class=\"css-3vjk35\"><svg class=\"chakra-icon css-zfp3v8\" focusable=\"false\" viewbox=\"0 0 200 200\"><svg fill=\"none\" viewbox=\"0 0 59 59\" xmlns=\"http://www.w3.org/2000/svg\"><path d=\"M26.0421 29.7075V48.38H7.50793V43.539C7.50793 35.9777 8.06119 30.3529 9.16771 26.6645C10.3664 22.8839 13.4555 17.5357 18.4348 10.62L26.3188 15.0461C22.1693 22.1462 19.7719 27.0334 19.1264 29.7075H26.0421ZM51.2155 29.7075V48.38H32.6813V43.539C32.6813 35.9777 33.2345 30.3529 34.341 26.6645C35.5398 22.8839 38.6288 17.5357 43.6082 10.62L51.4921 15.0461C47.3427 22.1462 44.9452 27.0334 44.2997 29.7075H51.2155Z\" fill=\"#4A5568\"></path></svg></svg><p class=\"chakra-text css-1vlkgh2\">LIABILITY FOR DRAG PERFORMANCE IN PRESENCE OF MINOR [...] (1) \"Drag performance\" means a performance in which a performer exhibits a gender that is different than the performer's gender recorded at birth using clothing, makeup, or other physical markers and sings, lip syncs, dances, or otherwise performs in a lascivious manner before an audience.</p></div></div><a class=\"chakra-link css-f4h6uy\" href=\"/bills/2025/TX/HB1075\"><button class=\"chakra-button css-1952nyr\" type=\"button\">View Bill</button></a></div><div class=\"css-4rck61\"><div class=\"css-1dvz6tu\"><div class=\"css-wd7aku\"><h3 class=\"chakra-heading css-1vygpf9\"><a class=\"chakra-link css-f4h6uy\" href=\"/bills/2025/TX/HB1088\">TX<!-- --> <!-- -->HB1088</a></h3><style data-emotion=\"css p7xsfh\">.css-p7xsfh{display:-webkit-inline-box;display:-webkit-inline-flex;display:-ms-inline-flexbox;display:inline-flex;vertical-align:top;-webkit-align-items:center;-webkit-box-align:center;-ms-flex-align:center;align-items:center;max-width:100%;font-weight:var(--chakra-fontWeights-medium);line-height:1.2;outline:2px solid transparent;outline-offset:2px;min-height:1.5rem;min-width:1.5rem;font-size:var(--chakra-fontSizes-sm);border-radius:0px;-webkit-padding-start:var(--chakra-space-2);padding-inline-start:var(--chakra-space-2);-webkit-padding-end:var(--chakra-space-2);padding-inline-end:var(--chakra-space-2);background:#005B99;color:var(--chakra-colors-white);}.css-p7xsfh:focus,.css-p7xsfh[data-focus]{box-shadow:var(--chakra-shadows-outline);}</style><span class=\"css-p7xsfh\">HEALTHCARE</span></div><span class=\"css-spvtcf\">INTRODUCED</span></div><h2 class=\"chakra-heading css-bp9bt3\">Relating to the statute of limitations on a health care liability claim involving certain gender modification drugs provided to and procedures performed on a minor.</h2><div class=\"css-bxak8j\"><div class=\"css-3vjk35\"><svg class=\"chakra-icon css-zfp3v8\" focusable=\"false\" viewbox=\"0 0 200 200\"><svg fill=\"none\" viewbox=\"0 0 59 59\" xmlns=\"http://www.w3.org/2000/svg\"><path d=\"M26.0421 29.7075V48.38H7.50793V43.539C7.50793 35.9777 8.06119 30.3529 9.16771 26.6645C10.3664 22.8839 13.4555 17.5357 18.4348 10.62L26.3188 15.0461C22.1693 22.1462 19.7719 27.0334 19.1264 29.7075H26.0421ZM51.2155 29.7075V48.38H32.6813V43.539C32.6813 35.9777 33.2345 30.3529 34.341 26.6645C35.5398 22.8839 38.6288 17.5357 43.6082 10.62L51.4921 15.0461C47.3427 22.1462 44.9452 27.0334 44.2997 29.7075H51.2155Z\" fill=\"#4A5568\"></path></svg></svg><p class=\"chakra-text css-1vlkgh2\">Sec. 74.252.  STATUTE OF LIMITATIONS ON HEALTH CARE LIABILITY CLAIMS INVOLVING CERTAIN GENDER MODIFICATION DRUGS AND PROCEDURES. A claimant must bring a health care liability claim not later than the claimant's 30th birthday if: (1)  the claimant is a minor at the time the cause of action accrues; and (2) the basis for the claim is malpractice in the provision of a puberty suppression prescription drug or cross-sex hormone to or the performance of surgery or another medical procedure on the minor for the purpose of gender transitioning or gender reassignment.</p></div></div><a class=\"chakra-link css-f4h6uy\" href=\"/bills/2025/TX/HB1088\"><button class=\"chakra-button css-1952nyr\" type=\"button\">View Bill</button></a></div><div class=\"css-4rck61\"><div class=\"css-1dvz6tu\"><div class=\"css-wd7aku\"><h3 class=\"chakra-heading css-1vygpf9\"><a class=\"chakra-link css-f4h6uy\" href=\"/bills/2025/TX/HB1106\">TX<!-- --> <!-- -->HB1106</a></h3><style data-emotion=\"css b9ehg4\">.css-b9ehg4{display:-webkit-inline-box;display:-webkit-inline-flex;display:-ms-inline-flexbox;display:inline-flex;vertical-align:top;-webkit-align-items:center;-webkit-box-align:center;-ms-flex-align:center;align-items:center;max-width:100%;font-weight:var(--chakra-fontWeights-medium);line-height:1.2;outline:2px solid transparent;outline-offset:2px;min-height:1.5rem;min-width:1.5rem;font-size:var(--chakra-fontSizes-sm);border-radius:0px;-webkit-padding-start:var(--chakra-space-2);padding-inline-start:var(--chakra-space-2);-webkit-padding-end:var(--chakra-space-2);padding-inline-end:var(--chakra-space-2);background:#DE5167;color:var(--chakra-colors-white);}.css-b9ehg4:focus,.css-b9ehg4[data-focus]{box-shadow:var(--chakra-shadows-outline);}</style><span class=\"css-b9ehg4\">CHILD ABUSE</span></div><span class=\"css-spvtcf\">INTRODUCED</span></div><h2 class=\"chakra-heading css-bp9bt3\">Relating to the definition of abuse or neglect of a child.</h2><div class=\"css-bxak8j\"><div class=\"css-3vjk35\"><svg class=\"chakra-icon css-zfp3v8\" focusable=\"false\" viewbox=\"0 0 200 200\"><svg fill=\"none\" viewbox=\"0 0 59 59\" xmlns=\"http://www.w3.org/2000/svg\"><path d=\"M26.0421 29.7075V48.38H7.50793V43.539C7.50793 35.9777 8.06119 30.3529 9.16771 26.6645C10.3664 22.8839 13.4555 17.5357 18.4348 10.62L26.3188 15.0461C22.1693 22.1462 19.7719 27.0334 19.1264 29.7075H26.0421ZM51.2155 29.7075V48.38H32.6813V43.539C32.6813 35.9777 33.2345 30.3529 34.341 26.6645C35.5398 22.8839 38.6288 17.5357 43.6082 10.62L51.4921 15.0461C47.3427 22.1462 44.9452 27.0334 44.2997 29.7075H51.2155Z\" fill=\"#4A5568\"></path></svg></svg><p class=\"chakra-text css-1vlkgh2\">In this chapter, “abuse” and “ neglect,” as defined in Sec. 261.001, do not include the refusal of the child’s parent, legal guardian, or other person responsible for a child’s care, custody, or welfare to: (a)  affirm the child’s expressed sexual orientation or gender identity; or (b)  address the child according to the child’s preferred name or pronoun(s), regardless of whether the child has legally changed their name.</p></div></div><a class=\"chakra-link css-f4h6uy\" href=\"/bills/2025/TX/HB1106\"><button class=\"chakra-button css-1952nyr\" type=\"button\">View Bill</button></a></div><div class=\"css-4rck61\"><div class=\"css-1dvz6tu\"><div class=\"css-wd7aku\"><h3 class=\"chakra-heading css-1vygpf9\"><a class=\"chakra-link css-f4h6uy\" href=\"/bills/2025/TX/HB1123\">TX<!-- --> <!-- -->HB1123</a></h3><style data-emotion=\"css bu60l4\">.css-bu60l4{display:-webkit-inline-box;display:-webkit-inline-flex;display:-ms-inline-flexbox;display:inline-flex;vertical-align:top;-webkit-align-items:center;-webkit-box-align:center;-ms-flex-align:center;align-items:center;max-width:100%;font-weight:var(--chakra-fontWeights-medium);line-height:1.2;outline:2px solid transparent;outline-offset:2px;min-height:1.5rem;min-width:1.5rem;font-size:var(--chakra-fontSizes-sm);border-radius:0px;-webkit-padding-start:var(--chakra-space-2);padding-inline-start:var(--chakra-space-2);-webkit-padding-end:var(--chakra-space-2);padding-inline-end:var(--chakra-space-2);background:#b55202;color:var(--chakra-colors-white);}.css-bu60l4:focus,.css-bu60l4[data-focus]{box-shadow:var(--chakra-shadows-outline);}</style><span class=\"css-bu60l4\">SPORTS</span></div><span class=\"css-spvtcf\">INTRODUCED</span></div><h2 class=\"chakra-heading css-bp9bt3\">Relating to interscholastic athletic competition based on biological sex, requirements for physical examinations and genetic testing in interscholastic athletics, and the adoption of rules by the University Interscholastic League to implement these requirements.</h2><div class=\"css-bxak8j\"><div class=\"css-3vjk35\"><svg class=\"chakra-icon css-zfp3v8\" focusable=\"false\" viewbox=\"0 0 200 200\"><svg fill=\"none\" viewbox=\"0 0 59 59\" xmlns=\"http://www.w3.org/2000/svg\"><path d=\"M26.0421 29.7075V48.38H7.50793V43.539C7.50793 35.9777 8.06119 30.3529 9.16771 26.6645C10.3664 22.8839 13.4555 17.5357 18.4348 10.62L26.3188 15.0461C22.1693 22.1462 19.7719 27.0334 19.1264 29.7075H26.0421ZM51.2155 29.7075V48.38H32.6813V43.539C32.6813 35.9777 33.2345 30.3529 34.341 26.6645C35.5398 22.8839 38.6288 17.5357 43.6082 10.62L51.4921 15.0461C47.3427 22.1462 44.9452 27.0334 44.2997 29.7075H51.2155Z\" fill=\"#4A5568\"></path></svg></svg><p class=\"chakra-text css-1vlkgh2\">A student may not compete in an interscholastic athletic competition designated for a particular biological sex if the student's chromosomal sex does not match the biological sex assigned at birth as described in subsection (a). This determination shall be made based on clinical evidence, including genetic testing results provided by a licensed medical professional under Section 33.098.</p></div></div><a class=\"chakra-link css-f4h6uy\" href=\"/bills/2025/TX/HB1123\"><button class=\"chakra-button css-1952nyr\" type=\"button\">View Bill</button></a></div><div class=\"css-4rck61\"><div class=\"css-1dvz6tu\"><div class=\"css-wd7aku\"><h3 class=\"chakra-heading css-1vygpf9\"><a class=\"chakra-link css-f4h6uy\" href=\"/bills/2025/TX/HB1434\">TX<!-- --> <!-- -->HB1434</a></h3><style data-emotion=\"css 9x1vkf\">.css-9x1vkf{display:-webkit-inline-box;display:-webkit-inline-flex;display:-ms-inline-flexbox;display:inline-flex;vertical-align:top;-webkit-align-items:center;-webkit-box-align:center;-ms-flex-align:center;align-items:center;max-width:100%;font-weight:var(--chakra-fontWeights-medium);line-height:1.2;outline:2px solid transparent;outline-offset:2px;min-height:1.5rem;min-width:1.5rem;font-size:var(--chakra-fontSizes-sm);border-radius:0px;-webkit-padding-start:var(--chakra-space-2);padding-inline-start:var(--chakra-space-2);-webkit-padding-end:var(--chakra-space-2);padding-inline-end:var(--chakra-space-2);background:#005649;color:var(--chakra-colors-white);}.css-9x1vkf:focus,.css-9x1vkf[data-focus]{box-shadow:var(--chakra-shadows-outline);}</style><span class=\"css-9x1vkf\">EDUCATION</span></div><span class=\"css-spvtcf\">INTRODUCED</span></div><h2 class=\"chakra-heading css-bp9bt3\">Relating to affirmative defenses to prosecution for certain offenses involving material or conduct that is obscene or otherwise harmful to children.</h2><div class=\"css-bxak8j\"></div><a class=\"chakra-link css-f4h6uy\" href=\"/bills/2025/TX/HB1434\"><button class=\"chakra-button css-1952nyr\" type=\"button\">View Bill</button></a></div><div class=\"css-4rck61\"><div class=\"css-1dvz6tu\"><div class=\"css-wd7aku\"><h3 class=\"chakra-heading css-1vygpf9\"><a class=\"chakra-link css-f4h6uy\" href=\"/bills/2025/TX/HB1484\">TX<!-- --> <!-- -->HB1484</a></h3><span class=\"css-9x1vkf\">EDUCATION</span></div><span class=\"css-spvtcf\">INTRODUCED</span></div><h2 class=\"chakra-heading css-bp9bt3\">Relating to the protection of students from sexual grooming.</h2><div class=\"css-bxak8j\"><div class=\"css-3vjk35\"><svg class=\"chakra-icon css-zfp3v8\" focusable=\"false\" viewbox=\"0 0 200 200\"><svg fill=\"none\" viewbox=\"0 0 59 59\" xmlns=\"http://www.w3.org/2000/svg\"><path d=\"M26.0421 29.7075V48.38H7.50793V43.539C7.50793 35.9777 8.06119 30.3529 9.16771 26.6645C10.3664 22.8839 13.4555 17.5357 18.4348 10.62L26.3188 15.0461C22.1693 22.1462 19.7719 27.0334 19.1264 29.7075H26.0421ZM51.2155 29.7075V48.38H32.6813V43.539C32.6813 35.9777 33.2345 30.3529 34.341 26.6645C35.5398 22.8839 38.6288 17.5357 43.6082 10.62L51.4921 15.0461C47.3427 22.1462 44.9452 27.0334 44.2997 29.7075H51.2155Z\" fill=\"#4A5568\"></path></svg></svg><p class=\"chakra-text css-1vlkgh2\">Notwithstanding any other provision of this code, as provided by this subchapter a parent who determines that their child is subjected to sexual grooming at a public school is entitled to the right to protect their child from such sexual grooming by selecting another school, public or private, for their child in which event Chapter 48 funding for the education of that child shall flow with the child to the new school selected by the parents.</p></div></div><a class=\"chakra-link css-f4h6uy\" href=\"/bills/2025/TX/HB1484\"><button class=\"chakra-button css-1952nyr\" type=\"button\">View Bill</button></a></div><div class=\"css-4rck61\"><div class=\"css-1dvz6tu\"><div class=\"css-wd7aku\"><h3 class=\"chakra-heading css-1vygpf9\"><a class=\"chakra-link css-f4h6uy\" href=\"/bills/2025/TX/HB1521\">TX<!-- --> <!-- -->HB1521</a></h3><span class=\"css-9x1vkf\">EDUCATION</span></div><span class=\"css-spvtcf\">INTRODUCED</span></div><h2 class=\"chakra-heading css-bp9bt3\">Relating to the implementation of diversity, equity, and inclusion initiatives by certain governmental entities.</h2><div class=\"css-bxak8j\"><div class=\"css-3vjk35\"><svg class=\"chakra-icon css-zfp3v8\" focusable=\"false\" viewbox=\"0 0 200 200\"><svg fill=\"none\" viewbox=\"0 0 59 59\" xmlns=\"http://www.w3.org/2000/svg\"><path d=\"M26.0421 29.7075V48.38H7.50793V43.539C7.50793 35.9777 8.06119 30.3529 9.16771 26.6645C10.3664 22.8839 13.4555 17.5357 18.4348 10.62L26.3188 15.0461C22.1693 22.1462 19.7719 27.0334 19.1264 29.7075H26.0421ZM51.2155 29.7075V48.38H32.6813V43.539C32.6813 35.9777 33.2345 30.3529 34.341 26.6645C35.5398 22.8839 38.6288 17.5357 43.6082 10.62L51.4921 15.0461C47.3427 22.1462 44.9452 27.0334 44.2997 29.7075H51.2155Z\" fill=\"#4A5568\"></path></svg></svg><p class=\"chakra-text css-1vlkgh2\">A governmental entity shall ensure that each unit of the entity does not, except as required by federal law: (1)  establish or maintain a diversity, equity, and inclusion office; or (2)  hire or assign an employee of the entity or contract with a third party to perform the duties of a diversity, equity, and inclusion office.</p></div></div><a class=\"chakra-link css-f4h6uy\" href=\"/bills/2025/TX/HB1521\"><button class=\"chakra-button css-1952nyr\" type=\"button\">View Bill</button></a></div><div class=\"css-4rck61\"><div class=\"css-1dvz6tu\"><div class=\"css-wd7aku\"><h3 class=\"chakra-heading css-1vygpf9\"><a class=\"chakra-link css-f4h6uy\" href=\"/bills/2025/TX/HB1655\">TX<!-- --> <!-- -->HB1655</a></h3><span class=\"css-9x1vkf\">EDUCATION</span></div><span class=\"css-spvtcf\">INTRODUCED</span></div><h2 class=\"chakra-heading css-bp9bt3\">Relating to a policy prohibiting public school employees from assisting a student with social transitioning and to the loss of state funding for a violation by a public school.</h2><div class=\"css-bxak8j\"><div class=\"css-3vjk35\"><svg class=\"chakra-icon css-zfp3v8\" focusable=\"false\" viewbox=\"0 0 200 200\"><svg fill=\"none\" viewbox=\"0 0 59 59\" xmlns=\"http://www.w3.org/2000/svg\"><path d=\"M26.0421 29.7075V48.38H7.50793V43.539C7.50793 35.9777 8.06119 30.3529 9.16771 26.6645C10.3664 22.8839 13.4555 17.5357 18.4348 10.62L26.3188 15.0461C22.1693 22.1462 19.7719 27.0334 19.1264 29.7075H26.0421ZM51.2155 29.7075V48.38H32.6813V43.539C32.6813 35.9777 33.2345 30.3529 34.341 26.6645C35.5398 22.8839 38.6288 17.5357 43.6082 10.62L51.4921 15.0461C47.3427 22.1462 44.9452 27.0334 44.2997 29.7075H51.2155Z\" fill=\"#4A5568\"></path></svg></svg><p class=\"chakra-text css-1vlkgh2\">ASSISTANCE WITH SOCIAL TRANSITIONING PROHIBITED. (a) In this subchapter, \"social transitioning\" means a person's [...] adoption of a different name, different pronouns, or other expressions of gender, including clothing and hairstyles</p></div></div><a class=\"chakra-link css-f4h6uy\" href=\"/bills/2025/TX/HB1655\"><button class=\"chakra-button css-1952nyr\" type=\"button\">View Bill</button></a></div><div class=\"css-4rck61\"><div class=\"css-1dvz6tu\"><div class=\"css-wd7aku\"><h3 class=\"chakra-heading css-1vygpf9\"><a class=\"chakra-link css-f4h6uy\" href=\"/bills/2025/TX/HB167\">TX<!-- --> <!-- -->HB167</a></h3><style data-emotion=\"css iyw6hm\">.css-iyw6hm{display:-webkit-inline-box;display:-webkit-inline-flex;display:-ms-inline-flexbox;display:inline-flex;vertical-align:top;-webkit-align-items:center;-webkit-box-align:center;-ms-flex-align:center;align-items:center;max-width:100%;font-weight:var(--chakra-fontWeights-medium);line-height:1.2;outline:2px solid transparent;outline-offset:2px;min-height:1.5rem;min-width:1.5rem;font-size:var(--chakra-fontSizes-sm);border-radius:0px;-webkit-padding-start:var(--chakra-space-2);padding-inline-start:var(--chakra-space-2);-webkit-padding-end:var(--chakra-space-2);padding-inline-end:var(--chakra-space-2);background:#3E3F30;color:var(--chakra-colors-white);}.css-iyw6hm:focus,.css-iyw6hm[data-focus]{box-shadow:var(--chakra-shadows-outline);}</style><span class=\"css-iyw6hm\">OTHER</span></div><span class=\"css-spvtcf\">INTRODUCED</span></div><h2 class=\"chakra-heading css-bp9bt3\">Relating to the implementation of diversity, equity, and inclusion initiatives and certain prohibited considerations in contracting by governmental entities.</h2><div class=\"css-bxak8j\"><div class=\"css-3vjk35\"><svg class=\"chakra-icon css-zfp3v8\" focusable=\"false\" viewbox=\"0 0 200 200\"><svg fill=\"none\" viewbox=\"0 0 59 59\" xmlns=\"http://www.w3.org/2000/svg\"><path d=\"M26.0421 29.7075V48.38H7.50793V43.539C7.50793 35.9777 8.06119 30.3529 9.16771 26.6645C10.3664 22.8839 13.4555 17.5357 18.4348 10.62L26.3188 15.0461C22.1693 22.1462 19.7719 27.0334 19.1264 29.7075H26.0421ZM51.2155 29.7075V48.38H32.6813V43.539C32.6813 35.9777 33.2345 30.3529 34.341 26.6645C35.5398 22.8839 38.6288 17.5357 43.6082 10.62L51.4921 15.0461C47.3427 22.1462 44.9452 27.0334 44.2997 29.7075H51.2155Z\" fill=\"#4A5568\"></path></svg></svg><p class=\"chakra-text css-1vlkgh2\">PROHIBITION ON CERTAIN DIVERSITY, EQUITY, AND INCLUSION INITIATIVES [...] (a) A governmental entity shall ensure that each unit of the entity: (1) does not, except as required by federal law: (A) establish or maintain a diversity, equity, and inclusion office; (B) hire or assign an employee of the entity or contract with a third party to perform the duties of a diversity, equity, and inclusion office; (C) compel, require, induce, or solicit any person to provide a diversity, equity, and inclusion statement or give preferential consideration to any person based on the provision of a diversity, equity, and inclusion statement; (D) give preference on the basis of race, sex, color, ethnicity, or national origin to an applicant for employment, an employee, or a participant in any function of the entity; or (E) require as a condition of employment any person to participate in diversity, equity, and inclusion training, which: (i) includes a training, program, or activity designed or implemented in reference to race, color, ethnicity, gender identity, or sexual orientation; and (ii) does not include a training, program, or activity developed for the purpose of ensuring compliance with any applicable federal law; and (2) adopts policies and procedures for appropriately disciplining, including by termination, an employee or contractor of the entity who engages in conduct in violation of Subdivision (1).</p></div></div><a class=\"chakra-link css-f4h6uy\" href=\"/bills/2025/TX/HB167\"><button class=\"chakra-button css-1952nyr\" type=\"button\">View Bill</button></a></div><div class=\"css-4rck61\"><div class=\"css-1dvz6tu\"><div class=\"css-wd7aku\"><h3 class=\"chakra-heading css-1vygpf9\"><a class=\"chakra-link css-f4h6uy\" href=\"/bills/2025/TX/HB1704\">TX<!-- --> <!-- -->HB1704</a></h3><span class=\"css-9x1vkf\">EDUCATION</span></div><span class=\"css-spvtcf\">INTRODUCED</span></div><h2 class=\"chakra-heading css-bp9bt3\">Relating to a parent's right to be notified by a school district concerning acts of self-harm by the parent's child.</h2><div class=\"css-bxak8j\"><div class=\"css-3vjk35\"><svg class=\"chakra-icon css-zfp3v8\" focusable=\"false\" viewbox=\"0 0 200 200\"><svg fill=\"none\" viewbox=\"0 0 59 59\" xmlns=\"http://www.w3.org/2000/svg\"><path d=\"M26.0421 29.7075V48.38H7.50793V43.539C7.50793 35.9777 8.06119 30.3529 9.16771 26.6645C10.3664 22.8839 13.4555 17.5357 18.4348 10.62L26.3188 15.0461C22.1693 22.1462 19.7719 27.0334 19.1264 29.7075H26.0421ZM51.2155 29.7075V48.38H32.6813V43.539C32.6813 35.9777 33.2345 30.3529 34.341 26.6645C35.5398 22.8839 38.6288 17.5357 43.6082 10.62L51.4921 15.0461C47.3427 22.1462 44.9452 27.0334 44.2997 29.7075H51.2155Z\" fill=\"#4A5568\"></path></svg></svg><p class=\"chakra-text css-1vlkgh2\">(b) A school district shall immediately notify a parent if the parent's child engages in or expresses a desire to engage in an act of self-harm, or otherwise indicates by words or behavior a likelihood of engaging in an act of self-harm, including words or behavior expressing gender dysphoria or other distress relating to the child's biological sex.</p></div></div><a class=\"chakra-link css-f4h6uy\" href=\"/bills/2025/TX/HB1704\"><button class=\"chakra-button css-1952nyr\" type=\"button\">View Bill</button></a></div><div class=\"css-4rck61\"><div class=\"css-1dvz6tu\"><div class=\"css-wd7aku\"><h3 class=\"chakra-heading css-1vygpf9\"><a class=\"chakra-link css-f4h6uy\" href=\"/bills/2025/TX/HB2062\">TX<!-- --> <!-- -->HB2062</a></h3><style data-emotion=\"css cfam9x\">.css-cfam9x{display:-webkit-inline-box;display:-webkit-inline-flex;display:-ms-inline-flexbox;display:inline-flex;vertical-align:top;-webkit-align-items:center;-webkit-box-align:center;-ms-flex-align:center;align-items:center;max-width:100%;font-weight:var(--chakra-fontWeights-medium);line-height:1.2;outline:2px solid transparent;outline-offset:2px;min-height:1.5rem;min-width:1.5rem;font-size:var(--chakra-fontSizes-sm);border-radius:0px;-webkit-padding-start:var(--chakra-space-2);padding-inline-start:var(--chakra-space-2);-webkit-padding-end:var(--chakra-space-2);padding-inline-end:var(--chakra-space-2);background:#3F2A56;color:var(--chakra-colors-white);}.css-cfam9x:focus,.css-cfam9x[data-focus]{box-shadow:var(--chakra-shadows-outline);}</style><span class=\"css-cfam9x\">INCARCERATION</span></div><span class=\"css-spvtcf\">INTRODUCED</span></div><h2 class=\"chakra-heading css-bp9bt3\">Relating to regulations and policies for entering or using certain private spaces; authorizing a civil penalty.</h2><div class=\"css-bxak8j\"><div class=\"css-3vjk35\"><svg class=\"chakra-icon css-zfp3v8\" focusable=\"false\" viewbox=\"0 0 200 200\"><svg fill=\"none\" viewbox=\"0 0 59 59\" xmlns=\"http://www.w3.org/2000/svg\"><path d=\"M26.0421 29.7075V48.38H7.50793V43.539C7.50793 35.9777 8.06119 30.3529 9.16771 26.6645C10.3664 22.8839 13.4555 17.5357 18.4348 10.62L26.3188 15.0461C22.1693 22.1462 19.7719 27.0334 19.1264 29.7075H26.0421ZM51.2155 29.7075V48.38H32.6813V43.539C32.6813 35.9777 33.2345 30.3529 34.341 26.6645C35.5398 22.8839 38.6288 17.5357 43.6082 10.62L51.4921 15.0461C47.3427 22.1462 44.9452 27.0334 44.2997 29.7075H51.2155Z\" fill=\"#4A5568\"></path></svg></svg><p class=\"chakra-text css-1vlkgh2\">(a) A political subdivision or state agency shall require each private space located within a facility owned, operated, or controlled by the political subdivision or state agency be designated for and used only by persons based on the person's biological sex.</p></div></div><a class=\"chakra-link css-f4h6uy\" href=\"/bills/2025/TX/HB2062\"><button class=\"chakra-button css-1952nyr\" type=\"button\">View Bill</button></a></div><div class=\"css-4rck61\"><div class=\"css-1dvz6tu\"><div class=\"css-wd7aku\"><h3 class=\"chakra-heading css-1vygpf9\"><a class=\"chakra-link css-f4h6uy\" href=\"/bills/2025/TX/HB2258\">TX<!-- --> <!-- -->HB2258</a></h3><span class=\"css-p7xsfh\">HEALTHCARE</span></div><span class=\"css-spvtcf\">INTRODUCED</span></div><h2 class=\"chakra-heading css-bp9bt3\">Imposing private civil liability on anyone who causes or contributes to the social transitioning of a minor.</h2><div class=\"css-bxak8j\"><div class=\"css-3vjk35\"><svg class=\"chakra-icon css-zfp3v8\" focusable=\"false\" viewbox=\"0 0 200 200\"><svg fill=\"none\" viewbox=\"0 0 59 59\" xmlns=\"http://www.w3.org/2000/svg\"><path d=\"M26.0421 29.7075V48.38H7.50793V43.539C7.50793 35.9777 8.06119 30.3529 9.16771 26.6645C10.3664 22.8839 13.4555 17.5357 18.4348 10.62L26.3188 15.0461C22.1693 22.1462 19.7719 27.0334 19.1264 29.7075H26.0421ZM51.2155 29.7075V48.38H32.6813V43.539C32.6813 35.9777 33.2345 30.3529 34.341 26.6645C35.5398 22.8839 38.6288 17.5357 43.6082 10.62L51.4921 15.0461C47.3427 22.1462 44.9452 27.0334 44.2997 29.7075H51.2155Z\" fill=\"#4A5568\"></path></svg></svg><p class=\"chakra-text css-1vlkgh2\">Sec. 161.712. CAUSING OR CONTRIBUTING TO THE TRANSITIONING OF A MINOR. (a) Any person who causes or contributes to: (1) The social transitioning of a minor; or (2) The castration, sterilization, or mutilation of a minor, shall be strictly, absolutely, and jointly and severally liable to the child and the child's parents for any personal injuries or harm resulting from the conduct described in this subsection.</p></div></div><a class=\"chakra-link css-f4h6uy\" href=\"/bills/2025/TX/HB2258\"><button class=\"chakra-button css-1952nyr\" type=\"button\">View Bill</button></a></div><div class=\"css-4rck61\"><div class=\"css-1dvz6tu\"><div class=\"css-wd7aku\"><h3 class=\"chakra-heading css-1vygpf9\"><a class=\"chakra-link css-f4h6uy\" href=\"/bills/2025/TX/HB229\">TX<!-- --> <!-- -->HB229</a></h3><span class=\"css-iyw6hm\">OTHER</span></div><span class=\"css-spvtcf\">INTRODUCED</span></div><h2 class=\"chakra-heading css-bp9bt3\">Relating to general definitions for and collection of governmental information regarding biological sex.</h2><div class=\"css-bxak8j\"><div class=\"css-3vjk35\"><svg class=\"chakra-icon css-zfp3v8\" focusable=\"false\" viewbox=\"0 0 200 200\"><svg fill=\"none\" viewbox=\"0 0 59 59\" xmlns=\"http://www.w3.org/2000/svg\"><path d=\"M26.0421 29.7075V48.38H7.50793V43.539C7.50793 35.9777 8.06119 30.3529 9.16771 26.6645C10.3664 22.8839 13.4555 17.5357 18.4348 10.62L26.3188 15.0461C22.1693 22.1462 19.7719 27.0334 19.1264 29.7075H26.0421ZM51.2155 29.7075V48.38H32.6813V43.539C32.6813 35.9777 33.2345 30.3529 34.341 26.6645C35.5398 22.8839 38.6288 17.5357 43.6082 10.62L51.4921 15.0461C47.3427 22.1462 44.9452 27.0334 44.2997 29.7075H51.2155Z\" fill=\"#4A5568\"></path></svg></svg><p class=\"chakra-text css-1vlkgh2\">(14) \"Boy\" means a child of the male sex. (15) \"Father\" means a parent of the male sex. (16) \"Female\" and \"woman\" mean an individual whose biological reproductive system is developed to produce ova. (17) \"Girl\" means a child of the female sex. (18) \"Male\" and \"man\" mean an individual whose biological reproductive system is developed to fertilize the ova of a female. (19) \"Mother\" means a parent of the female sex. (20) \"Sex\" means an individual's biological sex, either male or female.</p></div></div><a class=\"chakra-link css-f4h6uy\" href=\"/bills/2025/TX/HB229\"><button class=\"chakra-button css-1952nyr\" type=\"button\">View Bill</button></a></div><div class=\"css-4rck61\"><div class=\"css-1dvz6tu\"><div class=\"css-wd7aku\"><h3 class=\"chakra-heading css-1vygpf9\"><a class=\"chakra-link css-f4h6uy\" href=\"/bills/2025/TX/HB2291\">TX<!-- --> <!-- -->HB2291</a></h3><style data-emotion=\"css 15ear9v\">.css-15ear9v{display:-webkit-inline-box;display:-webkit-inline-flex;display:-ms-inline-flexbox;display:inline-flex;vertical-align:top;-webkit-align-items:center;-webkit-box-align:center;-ms-flex-align:center;align-items:center;max-width:100%;font-weight:var(--chakra-fontWeights-medium);line-height:1.2;outline:2px solid transparent;outline-offset:2px;min-height:1.5rem;min-width:1.5rem;font-size:var(--chakra-fontSizes-sm);border-radius:0px;-webkit-padding-start:var(--chakra-space-2);padding-inline-start:var(--chakra-space-2);-webkit-padding-end:var(--chakra-space-2);padding-inline-end:var(--chakra-space-2);background:#C89F46;color:var(--chakra-colors-white);}.css-15ear9v:focus,.css-15ear9v[data-focus]{box-shadow:var(--chakra-shadows-outline);}</style><span class=\"css-15ear9v\">BIRTH CERTIFICATES</span></div><span class=\"css-spvtcf\">INTRODUCED</span></div><h2 class=\"chakra-heading css-bp9bt3\">Relating to the required inclusion of a person's sex on a birth certificate and prohibited change of sex on the birth certificate of certain persons.</h2><div class=\"css-bxak8j\"><div class=\"css-3vjk35\"><svg class=\"chakra-icon css-zfp3v8\" focusable=\"false\" viewbox=\"0 0 200 200\"><svg fill=\"none\" viewbox=\"0 0 59 59\" xmlns=\"http://www.w3.org/2000/svg\"><path d=\"M26.0421 29.7075V48.38H7.50793V43.539C7.50793 35.9777 8.06119 30.3529 9.16771 26.6645C10.3664 22.8839 13.4555 17.5357 18.4348 10.62L26.3188 15.0461C22.1693 22.1462 19.7719 27.0334 19.1264 29.7075H26.0421ZM51.2155 29.7075V48.38H32.6813V43.539C32.6813 35.9777 33.2345 30.3529 34.341 26.6645C35.5398 22.8839 38.6288 17.5357 43.6082 10.62L51.4921 15.0461C47.3427 22.1462 44.9452 27.0334 44.2997 29.7075H51.2155Z\" fill=\"#4A5568\"></path></svg></svg><p class=\"chakra-text css-1vlkgh2\">Relating to the required inclusion of a person's sex on a birth certificate and prohibited change of sex on the birth certificate of certain persons. [...] (c-1)  The form must include a space for recording the biological sex of a person as either male or female. [...] a person required to file a birth certificate under this section shall ensure the biological sex of a child, as determined by the sex organs, chromosomes, or endogenous profile of the child, is listed in the appropriate space on the child's birth certificate.</p></div></div><a class=\"chakra-link css-f4h6uy\" href=\"/bills/2025/TX/HB2291\"><button class=\"chakra-button css-1952nyr\" type=\"button\">View Bill</button></a></div><div class=\"css-4rck61\"><div class=\"css-1dvz6tu\"><div class=\"css-wd7aku\"><h3 class=\"chakra-heading css-1vygpf9\"><a class=\"chakra-link css-f4h6uy\" href=\"/bills/2025/TX/HB2311\">TX<!-- --> <!-- -->HB2311</a></h3><span class=\"css-9x1vkf\">EDUCATION</span></div><span class=\"css-spvtcf\">INTRODUCED</span></div><h2 class=\"chakra-heading css-bp9bt3\">Relating to diversity, equity, and inclusion initiatives at public institutions of higher education.</h2><div class=\"css-bxak8j\"></div><a class=\"chakra-link css-f4h6uy\" href=\"/bills/2025/TX/HB2311\"><button class=\"chakra-button css-1952nyr\" type=\"button\">View Bill</button></a></div><div class=\"css-4rck61\"><div class=\"css-1dvz6tu\"><div class=\"css-wd7aku\"><h3 class=\"chakra-heading css-1vygpf9\"><a class=\"chakra-link css-f4h6uy\" href=\"/bills/2025/TX/HB2339\">TX<!-- --> <!-- -->HB2339</a></h3><span class=\"css-9x1vkf\">EDUCATION</span></div><span class=\"css-spvtcf\">INTRODUCED</span></div><h2 class=\"chakra-heading css-bp9bt3\">Relating to prohibiting public institutions of higher education from offering programs or courses in LGBTQ or DEI studies.</h2><div class=\"css-bxak8j\"><div class=\"css-3vjk35\"><svg class=\"chakra-icon css-zfp3v8\" focusable=\"false\" viewbox=\"0 0 200 200\"><svg fill=\"none\" viewbox=\"0 0 59 59\" xmlns=\"http://www.w3.org/2000/svg\"><path d=\"M26.0421 29.7075V48.38H7.50793V43.539C7.50793 35.9777 8.06119 30.3529 9.16771 26.6645C10.3664 22.8839 13.4555 17.5357 18.4348 10.62L26.3188 15.0461C22.1693 22.1462 19.7719 27.0334 19.1264 29.7075H26.0421ZM51.2155 29.7075V48.38H32.6813V43.539C32.6813 35.9777 33.2345 30.3529 34.341 26.6645C35.5398 22.8839 38.6288 17.5357 43.6082 10.62L51.4921 15.0461C47.3427 22.1462 44.9452 27.0334 44.2997 29.7075H51.2155Z\" fill=\"#4A5568\"></path></svg></svg><p class=\"chakra-text css-1vlkgh2\">PROHIBITION ON LGBTQ PROGRAMS AND COURSES. [...] (b) An institution of higher education may not offer a certificate or degree program, including any major or minor, or course in lesbian, gay, bisexual, transgender, or queer studies. (c) All certificate or degree programs, including any major or minor, or courses, at an institute of higher education must comply with the biological reality that there are only two sexes, male and female, and these sexes are not changeable.</p></div></div><a class=\"chakra-link css-f4h6uy\" href=\"/bills/2025/TX/HB2339\"><button class=\"chakra-button css-1952nyr\" type=\"button\">View Bill</button></a></div><div class=\"css-4rck61\"><div class=\"css-1dvz6tu\"><div class=\"css-wd7aku\"><h3 class=\"chakra-heading css-1vygpf9\"><a class=\"chakra-link css-f4h6uy\" href=\"/bills/2025/TX/HB2342\">TX<!-- --> <!-- -->HB2342</a></h3><span class=\"css-9x1vkf\">EDUCATION</span></div><span class=\"css-spvtcf\">INTRODUCED</span></div><h2 class=\"chakra-heading css-bp9bt3\">Relating to protection for a public school employee's use of terms consistent with biological sex.</h2><div class=\"css-bxak8j\"><div class=\"css-3vjk35\"><svg class=\"chakra-icon css-zfp3v8\" focusable=\"false\" viewbox=\"0 0 200 200\"><svg fill=\"none\" viewbox=\"0 0 59 59\" xmlns=\"http://www.w3.org/2000/svg\"><path d=\"M26.0421 29.7075V48.38H7.50793V43.539C7.50793 35.9777 8.06119 30.3529 9.16771 26.6645C10.3664 22.8839 13.4555 17.5357 18.4348 10.62L26.3188 15.0461C22.1693 22.1462 19.7719 27.0334 19.1264 29.7075H26.0421ZM51.2155 29.7075V48.38H32.6813V43.539C32.6813 35.9777 33.2345 30.3529 34.341 26.6645C35.5398 22.8839 38.6288 17.5357 43.6082 10.62L51.4921 15.0461C47.3427 22.1462 44.9452 27.0334 44.2997 29.7075H51.2155Z\" fill=\"#4A5568\"></path></svg></svg><p class=\"chakra-text css-1vlkgh2\">PROTECTION FOR USE OF TERMS CONSISTENT WITH BIOLOGICAL SEX. A school district or open-enrollment charter school may not terminate, discipline, retaliate against, or otherwise discriminate against a district or school employee who addresses a student or another district or school employee in terms consistent with the biological sex of the student or employee.</p></div></div><a class=\"chakra-link css-f4h6uy\" href=\"/bills/2025/TX/HB2342\"><button class=\"chakra-button css-1952nyr\" type=\"button\">View Bill</button></a></div><div class=\"css-4rck61\"><div class=\"css-1dvz6tu\"><div class=\"css-wd7aku\"><h3 class=\"chakra-heading css-1vygpf9\"><a class=\"chakra-link css-f4h6uy\" href=\"/bills/2025/TX/HB2354\">TX<!-- --> <!-- -->HB2354</a></h3><span class=\"css-9x1vkf\">EDUCATION</span></div><span class=\"css-spvtcf\">INTRODUCED</span></div><h2 class=\"chakra-heading css-bp9bt3\">Relating to charter schools, including the admission, enrollment, and employment policies of and the applicability of certain laws to open-enrollment charter schools.</h2><div class=\"css-bxak8j\"><div class=\"css-3vjk35\"><svg class=\"chakra-icon css-zfp3v8\" focusable=\"false\" viewbox=\"0 0 200 200\"><svg fill=\"none\" viewbox=\"0 0 59 59\" xmlns=\"http://www.w3.org/2000/svg\"><path d=\"M26.0421 29.7075V48.38H7.50793V43.539C7.50793 35.9777 8.06119 30.3529 9.16771 26.6645C10.3664 22.8839 13.4555 17.5357 18.4348 10.62L26.3188 15.0461C22.1693 22.1462 19.7719 27.0334 19.1264 29.7075H26.0421ZM51.2155 29.7075V48.38H32.6813V43.539C32.6813 35.9777 33.2345 30.3529 34.341 26.6645C35.5398 22.8839 38.6288 17.5357 43.6082 10.62L51.4921 15.0461C47.3427 22.1462 44.9452 27.0334 44.2997 29.7075H51.2155Z\" fill=\"#4A5568\"></path></svg></svg><p class=\"chakra-text css-1vlkgh2\">Each charter granted under this subchapter must: [...] (5) prohibit discrimination in admission policy on the basis of sex, national origin, ethnicity, religion, disability, academic, artistic, or athletic ability [...] although the charter may [...] provide for an admission policy that limits admission to students of a single biological sex as correctly stated on the student's official birth certificate.</p></div></div><a class=\"chakra-link css-f4h6uy\" href=\"/bills/2025/TX/HB2354\"><button class=\"chakra-button css-1952nyr\" type=\"button\">View Bill</button></a></div><div class=\"css-4rck61\"><div class=\"css-1dvz6tu\"><div class=\"css-wd7aku\"><h3 class=\"chakra-heading css-1vygpf9\"><a class=\"chakra-link css-f4h6uy\" href=\"/bills/2025/TX/HB239\">TX<!-- --> <!-- -->HB239</a></h3><span class=\"css-bvx26t\">BATHROOM</span></div><span class=\"css-spvtcf\">INTRODUCED</span></div><h2 class=\"chakra-heading css-bp9bt3\">Relating to regulations and policies for entering or using certain private spaces; authorizing a civil penalty.</h2><div class=\"css-bxak8j\"><div class=\"css-3vjk35\"><svg class=\"chakra-icon css-zfp3v8\" focusable=\"false\" viewbox=\"0 0 200 200\"><svg fill=\"none\" viewbox=\"0 0 59 59\" xmlns=\"http://www.w3.org/2000/svg\"><path d=\"M26.0421 29.7075V48.38H7.50793V43.539C7.50793 35.9777 8.06119 30.3529 9.16771 26.6645C10.3664 22.8839 13.4555 17.5357 18.4348 10.62L26.3188 15.0461C22.1693 22.1462 19.7719 27.0334 19.1264 29.7075H26.0421ZM51.2155 29.7075V48.38H32.6813V43.539C32.6813 35.9777 33.2345 30.3529 34.341 26.6645C35.5398 22.8839 38.6288 17.5357 43.6082 10.62L51.4921 15.0461C47.3427 22.1462 44.9452 27.0334 44.2997 29.7075H51.2155Z\" fill=\"#4A5568\"></path></svg></svg><p class=\"chakra-text css-1vlkgh2\">\"Biological sex\" means the physical condition of being male or female, as determined by: (A) the sex organs, chromosomes, and endogenous profiles of a person; and (B) a person's original birth certificate, if the biological sex is correctly stated on the birth certificate, as indicated by the biological sex being: (1) entered at or near the time of birth; or (2) modified only to correct a scrivener or clerical error in the biological sex.</p></div></div><a class=\"chakra-link css-f4h6uy\" href=\"/bills/2025/TX/HB239\"><button class=\"chakra-button css-1952nyr\" type=\"button\">View Bill</button></a></div><div class=\"css-4rck61\"><div class=\"css-1dvz6tu\"><div class=\"css-wd7aku\"><h3 class=\"chakra-heading css-1vygpf9\"><a class=\"chakra-link css-f4h6uy\" href=\"/bills/2025/TX/HB2548\">TX<!-- --> <!-- -->HB2548</a></h3><span class=\"css-9x1vkf\">EDUCATION</span></div><span class=\"css-spvtcf\">INTRODUCED</span></div><h2 class=\"chakra-heading css-bp9bt3\">Relating to a prohibition on public institutions of higher education requiring students to enroll in certain courses to complete a certificate or degree program, using such courses to satisfy general education requirements, funding such courses using state appropriations, or requiring related faculty practices, and to freshman student orientation at those institutions.</h2><div class=\"css-bxak8j\"><div class=\"css-3vjk35\"><svg class=\"chakra-icon css-zfp3v8\" focusable=\"false\" viewbox=\"0 0 200 200\"><svg fill=\"none\" viewbox=\"0 0 59 59\" xmlns=\"http://www.w3.org/2000/svg\"><path d=\"M26.0421 29.7075V48.38H7.50793V43.539C7.50793 35.9777 8.06119 30.3529 9.16771 26.6645C10.3664 22.8839 13.4555 17.5357 18.4348 10.62L26.3188 15.0461C22.1693 22.1462 19.7719 27.0334 19.1264 29.7075H26.0421ZM51.2155 29.7075V48.38H32.6813V43.539C32.6813 35.9777 33.2345 30.3529 34.341 26.6645C35.5398 22.8839 38.6288 17.5357 43.6082 10.62L51.4921 15.0461C47.3427 22.1462 44.9452 27.0334 44.2997 29.7075H51.2155Z\" fill=\"#4A5568\"></path></svg></svg><p class=\"chakra-text css-1vlkgh2\">The governing board of an institution of higher education shall [...] not require [...] as part of any program or degree requirement, a course [...] for which the student will receive a grade do any of the following: (1) relate to contemporary American society the topic of [...] gender identity, social justice, [...] allyship, [...] gender-based diversity, [...] equity, or [...] inclusion.</p></div></div><a class=\"chakra-link css-f4h6uy\" href=\"/bills/2025/TX/HB2548\"><button class=\"chakra-button css-1952nyr\" type=\"button\">View Bill</button></a></div><div class=\"css-4rck61\"><div class=\"css-1dvz6tu\"><div class=\"css-wd7aku\"><h3 class=\"chakra-heading css-1vygpf9\"><a class=\"chakra-link css-f4h6uy\" href=\"/bills/2025/TX/HB2549\">TX<!-- --> <!-- -->HB2549</a></h3><span class=\"css-iyw6hm\">OTHER</span></div><span class=\"css-spvtcf\">INTRODUCED</span></div><h2 class=\"chakra-heading css-bp9bt3\">Relating to the inclusion of a person's sex on driver's licenses, commercial driver's licenses, commercial learner's permits, and personal identification certificates.</h2><div class=\"css-bxak8j\"><div class=\"css-3vjk35\"><svg class=\"chakra-icon css-zfp3v8\" focusable=\"false\" viewbox=\"0 0 200 200\"><svg fill=\"none\" viewbox=\"0 0 59 59\" xmlns=\"http://www.w3.org/2000/svg\"><path d=\"M26.0421 29.7075V48.38H7.50793V43.539C7.50793 35.9777 8.06119 30.3529 9.16771 26.6645C10.3664 22.8839 13.4555 17.5357 18.4348 10.62L26.3188 15.0461C22.1693 22.1462 19.7719 27.0334 19.1264 29.7075H26.0421ZM51.2155 29.7075V48.38H32.6813V43.539C32.6813 35.9777 33.2345 30.3529 34.341 26.6645C35.5398 22.8839 38.6288 17.5357 43.6082 10.62L51.4921 15.0461C47.3427 22.1462 44.9452 27.0334 44.2997 29.7075H51.2155Z\" fill=\"#4A5568\"></path></svg></svg><p class=\"chakra-text css-1vlkgh2\">Section 521.142(c), Transportation Code, is amended to read as follows: (c) The application must state: (1) the applicant's biological sex as either male or female as determined at birth</p></div></div><a class=\"chakra-link css-f4h6uy\" href=\"/bills/2025/TX/HB2549\"><button class=\"chakra-button css-1952nyr\" type=\"button\">View Bill</button></a></div><div class=\"css-4rck61\"><div class=\"css-1dvz6tu\"><div class=\"css-wd7aku\"><h3 class=\"chakra-heading css-1vygpf9\"><a class=\"chakra-link css-f4h6uy\" href=\"/bills/2025/TX/HB267\">TX<!-- --> <!-- -->HB267</a></h3><span class=\"css-9x1vkf\">EDUCATION</span></div><span class=\"css-spvtcf\">INTRODUCED</span></div><h2 class=\"chakra-heading css-bp9bt3\">Relating to affirmative defenses to prosecution for certain offenses involving material or conduct that is obscene or otherwise harmful to children.</h2><div class=\"css-bxak8j\"></div><a class=\"chakra-link css-f4h6uy\" href=\"/bills/2025/TX/HB267\"><button class=\"chakra-button css-1952nyr\" type=\"button\">View Bill</button></a></div><div class=\"css-4rck61\"><div class=\"css-1dvz6tu\"><div class=\"css-wd7aku\"><h3 class=\"chakra-heading css-1vygpf9\"><a class=\"chakra-link css-f4h6uy\" href=\"/bills/2025/TX/HB2704\">TX<!-- --> <!-- -->HB2704</a></h3><span class=\"css-bvx26t\">BATHROOM</span></div><span class=\"css-spvtcf\">INTRODUCED</span></div><h2 class=\"chakra-heading css-bp9bt3\">Relating to general definitions regarding biological sex and the designation and use of certain spaces according to biological sex; authorizing a civil right of action.</h2><div class=\"css-bxak8j\"><div class=\"css-3vjk35\"><svg class=\"chakra-icon css-zfp3v8\" focusable=\"false\" viewbox=\"0 0 200 200\"><svg fill=\"none\" viewbox=\"0 0 59 59\" xmlns=\"http://www.w3.org/2000/svg\"><path d=\"M26.0421 29.7075V48.38H7.50793V43.539C7.50793 35.9777 8.06119 30.3529 9.16771 26.6645C10.3664 22.8839 13.4555 17.5357 18.4348 10.62L26.3188 15.0461C22.1693 22.1462 19.7719 27.0334 19.1264 29.7075H26.0421ZM51.2155 29.7075V48.38H32.6813V43.539C32.6813 35.9777 33.2345 30.3529 34.341 26.6645C35.5398 22.8839 38.6288 17.5357 43.6082 10.62L51.4921 15.0461C47.3427 22.1462 44.9452 27.0334 44.2997 29.7075H51.2155Z\" fill=\"#4A5568\"></path></svg></svg><p class=\"chakra-text css-1vlkgh2\">The owner or operator of a covered facility shall designate each multi-occupancy private space in the facility for the exclusive use of either females or males. [...] A multi-occupancy private space [...] for the exclusive use of either females or males may only be used by an individual of the designated sex.</p></div></div><a class=\"chakra-link css-f4h6uy\" href=\"/bills/2025/TX/HB2704\"><button class=\"chakra-button css-1952nyr\" type=\"button\">View Bill</button></a></div><div class=\"css-4rck61\"><div class=\"css-1dvz6tu\"><div class=\"css-wd7aku\"><h3 class=\"chakra-heading css-1vygpf9\"><a class=\"chakra-link css-f4h6uy\" href=\"/bills/2025/TX/HB2770\">TX<!-- --> <!-- -->HB2770</a></h3><span class=\"css-iyw6hm\">OTHER</span></div><span class=\"css-spvtcf\">INTRODUCED</span></div><h2 class=\"chakra-heading css-bp9bt3\">Relating to municipal diversity, equity, and inclusion initiatives.</h2><div class=\"css-bxak8j\"><div class=\"css-3vjk35\"><svg class=\"chakra-icon css-zfp3v8\" focusable=\"false\" viewbox=\"0 0 200 200\"><svg fill=\"none\" viewbox=\"0 0 59 59\" xmlns=\"http://www.w3.org/2000/svg\"><path d=\"M26.0421 29.7075V48.38H7.50793V43.539C7.50793 35.9777 8.06119 30.3529 9.16771 26.6645C10.3664 22.8839 13.4555 17.5357 18.4348 10.62L26.3188 15.0461C22.1693 22.1462 19.7719 27.0334 19.1264 29.7075H26.0421ZM51.2155 29.7075V48.38H32.6813V43.539C32.6813 35.9777 33.2345 30.3529 34.341 26.6645C35.5398 22.8839 38.6288 17.5357 43.6082 10.62L51.4921 15.0461C47.3427 22.1462 44.9452 27.0334 44.2997 29.7075H51.2155Z\" fill=\"#4A5568\"></path></svg></svg><p class=\"chakra-text css-1vlkgh2\">A municipality may not spend public money or provide compensation in any manner to directly or indirectly: (1) fund a department, program, or committee, or pay compensation to a person associated with a department, program, or committee, that is focused on formulating, promoting, or implementing a diversity, equity, and inclusion initiative; (2) hire or contract with an independent vendor or contractor to formulate, promote, or implement a diversity, equity, and inclusion initiative; (3) promote an event, meeting, or club that excludes the participation of a person on the basis of the person's identity classification or that advocates for the preferential treatment of the person on the basis of the person's identity classification; (4) require or encourage an employee of the municipality to participate in a workforce training or professional development training that promotes a diversity, equity, and inclusion initiative;</p></div></div><a class=\"chakra-link css-f4h6uy\" href=\"/bills/2025/TX/HB2770\"><button class=\"chakra-button css-1952nyr\" type=\"button\">View Bill</button></a></div><div class=\"css-4rck61\"><div class=\"css-1dvz6tu\"><div class=\"css-wd7aku\"><h3 class=\"chakra-heading css-1vygpf9\"><a class=\"chakra-link css-f4h6uy\" href=\"/bills/2025/TX/HB2821\">TX<!-- --> <!-- -->HB2821</a></h3><span class=\"css-9x1vkf\">EDUCATION</span></div><span class=\"css-spvtcf\">INTRODUCED</span></div><h2 class=\"chakra-heading css-bp9bt3\">Relating to county diversity, equity, and inclusion initiatives.</h2><div class=\"css-bxak8j\"><div class=\"css-3vjk35\"><svg class=\"chakra-icon css-zfp3v8\" focusable=\"false\" viewbox=\"0 0 200 200\"><svg fill=\"none\" viewbox=\"0 0 59 59\" xmlns=\"http://www.w3.org/2000/svg\"><path d=\"M26.0421 29.7075V48.38H7.50793V43.539C7.50793 35.9777 8.06119 30.3529 9.16771 26.6645C10.3664 22.8839 13.4555 17.5357 18.4348 10.62L26.3188 15.0461C22.1693 22.1462 19.7719 27.0334 19.1264 29.7075H26.0421ZM51.2155 29.7075V48.38H32.6813V43.539C32.6813 35.9777 33.2345 30.3529 34.341 26.6645C35.5398 22.8839 38.6288 17.5357 43.6082 10.62L51.4921 15.0461C47.3427 22.1462 44.9452 27.0334 44.2997 29.7075H51.2155Z\" fill=\"#4A5568\"></path></svg></svg><p class=\"chakra-text css-1vlkgh2\">A county may not spend public money or provide compensation in any manner to [...] (1)  fund a department, program, or committee [...] that is focused on formulating, promoting, or implementing a diversity, equity, and inclusion initiative; (2) hire or contract with an independent vendor or contractor to formulate, promote, or implement a diversity, equity, and inclusion initiative; (3) promote an event, meeting, or club that excludes the participation of a person on the basis of the person's identity classification [...] (4) require or encourage an employee of the county to participate in a workforce training or professional development training that promotes a diversity, equity, and inclusion initiative; (5) provide funding to enable an employee or a member of the commissioners court of the county to attend a conference that promotes or teaches a diversity, equity, and inclusion initiative; [...] (9) promote or seek to implement a diversity, equity, and inclusion initiative when working with a business or other organization whose purpose is to provide or attract economic development or tourism to the county.</p></div></div><a class=\"chakra-link css-f4h6uy\" href=\"/bills/2025/TX/HB2821\"><button class=\"chakra-button css-1952nyr\" type=\"button\">View Bill</button></a></div><div class=\"css-4rck61\"><div class=\"css-1dvz6tu\"><div class=\"css-wd7aku\"><h3 class=\"chakra-heading css-1vygpf9\"><a class=\"chakra-link css-f4h6uy\" href=\"/bills/2025/TX/HB2846\">TX<!-- --> <!-- -->HB2846</a></h3><span class=\"css-9x1vkf\">EDUCATION</span></div><span class=\"css-spvtcf\">INTRODUCED</span></div><h2 class=\"chakra-heading css-bp9bt3\">Relating to parental rights in public education and prohibiting instruction regarding sexual orientation or gender identity for public school students.</h2><div class=\"css-bxak8j\"><div class=\"css-3vjk35\"><svg class=\"chakra-icon css-zfp3v8\" focusable=\"false\" viewbox=\"0 0 200 200\"><svg fill=\"none\" viewbox=\"0 0 59 59\" xmlns=\"http://www.w3.org/2000/svg\"><path d=\"M26.0421 29.7075V48.38H7.50793V43.539C7.50793 35.9777 8.06119 30.3529 9.16771 26.6645C10.3664 22.8839 13.4555 17.5357 18.4348 10.62L26.3188 15.0461C22.1693 22.1462 19.7719 27.0334 19.1264 29.7075H26.0421ZM51.2155 29.7075V48.38H32.6813V43.539C32.6813 35.9777 33.2345 30.3529 34.341 26.6645C35.5398 22.8839 38.6288 17.5357 43.6082 10.62L51.4921 15.0461C47.3427 22.1462 44.9452 27.0334 44.2997 29.7075H51.2155Z\" fill=\"#4A5568\"></path></svg></svg><p class=\"chakra-text css-1vlkgh2\">CONSENT REQUIRED FOR PARTICIPATION IN CERTAIN STUDENT CLUBS. (a) In this section, \"student club\" means any student organization sponsored or sanctioned by a school district. (b) A school district shall require written parental consent as a condition of a student's participation in a student club that promotes themes of sexuality, gender, or gender identity.</p></div></div><a class=\"chakra-link css-f4h6uy\" href=\"/bills/2025/TX/HB2846\"><button class=\"chakra-button css-1952nyr\" type=\"button\">View Bill</button></a></div><div class=\"css-4rck61\"><div class=\"css-1dvz6tu\"><div class=\"css-wd7aku\"><h3 class=\"chakra-heading css-1vygpf9\"><a class=\"chakra-link css-f4h6uy\" href=\"/bills/2025/TX/HB344\">TX<!-- --> <!-- -->HB344</a></h3><span class=\"css-9x1vkf\">EDUCATION</span></div><span class=\"css-spvtcf\">INTRODUCED</span></div><h2 class=\"chakra-heading css-bp9bt3\">Relating to a prohibition on instruction and certain activities regarding sexual orientation or gender identity provided or allowed by a public school.</h2><div class=\"css-bxak8j\"><div class=\"css-3vjk35\"><svg class=\"chakra-icon css-zfp3v8\" focusable=\"false\" viewbox=\"0 0 200 200\"><svg fill=\"none\" viewbox=\"0 0 59 59\" xmlns=\"http://www.w3.org/2000/svg\"><path d=\"M26.0421 29.7075V48.38H7.50793V43.539C7.50793 35.9777 8.06119 30.3529 9.16771 26.6645C10.3664 22.8839 13.4555 17.5357 18.4348 10.62L26.3188 15.0461C22.1693 22.1462 19.7719 27.0334 19.1264 29.7075H26.0421ZM51.2155 29.7075V48.38H32.6813V43.539C32.6813 35.9777 33.2345 30.3529 34.341 26.6645C35.5398 22.8839 38.6288 17.5357 43.6082 10.62L51.4921 15.0461C47.3427 22.1462 44.9452 27.0334 44.2997 29.7075H51.2155Z\" fill=\"#4A5568\"></path></svg></svg><p class=\"chakra-text css-1vlkgh2\">PROHIBITION ON INSTRUCTION AND CERTAIN ACTIVITIES REGARDING SEXUAL ORIENTATION OR GENDER IDENTITY. (a) Except as provided by Subsection (b), a school district, open-enrollment charter school, or district or charter school employee may not provide or allow a third party to provide instruction, guidance, activities, or programming regarding sexual orientation or gender identity to students enrolled in prekindergarten through 12th grade.</p></div></div><a class=\"chakra-link css-f4h6uy\" href=\"/bills/2025/TX/HB344\"><button class=\"chakra-button css-1952nyr\" type=\"button\">View Bill</button></a></div><div class=\"css-4rck61\"><div class=\"css-1dvz6tu\"><div class=\"css-wd7aku\"><h3 class=\"chakra-heading css-1vygpf9\"><a class=\"chakra-link css-f4h6uy\" href=\"/bills/2025/TX/HB370\">TX<!-- --> <!-- -->HB370</a></h3><span class=\"css-bu60l4\">SPORTS</span></div><span class=\"css-spvtcf\">INTRODUCED</span></div><h2 class=\"chakra-heading css-bp9bt3\">Relating to eligibility of certain events under the Events Trust Fund</h2><div class=\"css-bxak8j\"><div class=\"css-3vjk35\"><svg class=\"chakra-icon css-zfp3v8\" focusable=\"false\" viewbox=\"0 0 200 200\"><svg fill=\"none\" viewbox=\"0 0 59 59\" xmlns=\"http://www.w3.org/2000/svg\"><path d=\"M26.0421 29.7075V48.38H7.50793V43.539C7.50793 35.9777 8.06119 30.3529 9.16771 26.6645C10.3664 22.8839 13.4555 17.5357 18.4348 10.62L26.3188 15.0461C22.1693 22.1462 19.7719 27.0334 19.1264 29.7075H26.0421ZM51.2155 29.7075V48.38H32.6813V43.539C32.6813 35.9777 33.2345 30.3529 34.341 26.6645C35.5398 22.8839 38.6288 17.5357 43.6082 10.62L51.4921 15.0461C47.3427 22.1462 44.9452 27.0334 44.2997 29.7075H51.2155Z\" fill=\"#4A5568\"></path></svg></svg><p class=\"chakra-text css-1vlkgh2\">(d) An event is not eligible for funding under this chapter if the event allows for a biological male to compete in a sport designated by rule or procedure for female athletes. (e) For purposes of this section: (1) An athlete's status as a biological male is determined by the biological sex correctly stated on: (A) the athlete's official birth certificate; or (B) if the athlete's official birth certificate described by Paragraph (A) is unobtainable, another government record that accurately states the athlete's biological sex; and (2) a statement of an athlete's biological sex on the athlete's official birth certificate is considered to have correctly stated the athlete's biological sex only if the statement was: (A) entered at or near the time of the athlete's birth; or (B) modified to correct a scrivener or clerical error in the student's biological sex.</p></div></div><a class=\"chakra-link css-f4h6uy\" href=\"/bills/2025/TX/HB370\"><button class=\"chakra-button css-1952nyr\" type=\"button\">View Bill</button></a></div><div class=\"css-4rck61\"><div class=\"css-1dvz6tu\"><div class=\"css-wd7aku\"><h3 class=\"chakra-heading css-1vygpf9\"><a class=\"chakra-link css-f4h6uy\" href=\"/bills/2025/TX/HB403\">TX<!-- --> <!-- -->HB403</a></h3><span class=\"css-cfam9x\">INCARCERATION</span></div><span class=\"css-spvtcf\">INTRODUCED</span></div><h2 class=\"chakra-heading css-bp9bt3\">Relating to housing and placement of inmates and children according to biological sex.</h2><div class=\"css-bxak8j\"><div class=\"css-3vjk35\"><svg class=\"chakra-icon css-zfp3v8\" focusable=\"false\" viewbox=\"0 0 200 200\"><svg fill=\"none\" viewbox=\"0 0 59 59\" xmlns=\"http://www.w3.org/2000/svg\"><path d=\"M26.0421 29.7075V48.38H7.50793V43.539C7.50793 35.9777 8.06119 30.3529 9.16771 26.6645C10.3664 22.8839 13.4555 17.5357 18.4348 10.62L26.3188 15.0461C22.1693 22.1462 19.7719 27.0334 19.1264 29.7075H26.0421ZM51.2155 29.7075V48.38H32.6813V43.539C32.6813 35.9777 33.2345 30.3529 34.341 26.6645C35.5398 22.8839 38.6288 17.5357 43.6082 10.62L51.4921 15.0461C47.3427 22.1462 44.9452 27.0334 44.2997 29.7075H51.2155Z\" fill=\"#4A5568\"></path></svg></svg><p class=\"chakra-text css-1vlkgh2\">PLACEMENT OF JUVENILES BASED ON BIOLOGICAL SEX. (a) In this section, \"department\" means the Texas Juvenile Justice Department. (b) A juvenile board created under Chapter 152, Human Resources Code, or the department, as applicable, shall place a child in a detention or correctional facility according to the child's biological sex, as determined by: (1) the child's official birth certificate, if the child's biological sex is correctly stated on the certificate as described by Subsection (c); or (2) if the child's official birth certificate described by Subdivision (1) is unobtainable, another government record that states the child's biological sex.</p></div></div><a class=\"chakra-link css-f4h6uy\" href=\"/bills/2025/TX/HB403\"><button class=\"chakra-button css-1952nyr\" type=\"button\">View Bill</button></a></div><div class=\"css-4rck61\"><div class=\"css-1dvz6tu\"><div class=\"css-wd7aku\"><h3 class=\"chakra-heading css-1vygpf9\"><a class=\"chakra-link css-f4h6uy\" href=\"/bills/2025/TX/HB436\">TX<!-- --> <!-- -->HB436</a></h3><span class=\"css-iyw6hm\">OTHER</span></div><span class=\"css-spvtcf\">INTRODUCED</span></div><h2 class=\"chakra-heading css-bp9bt3\">Relating to the requirement by certain governmental entities for diversity, equity, and inclusion statements and training from employees, prospective employees, and contractors.</h2><div class=\"css-bxak8j\"><div class=\"css-3vjk35\"><svg class=\"chakra-icon css-zfp3v8\" focusable=\"false\" viewbox=\"0 0 200 200\"><svg fill=\"none\" viewbox=\"0 0 59 59\" xmlns=\"http://www.w3.org/2000/svg\"><path d=\"M26.0421 29.7075V48.38H7.50793V43.539C7.50793 35.9777 8.06119 30.3529 9.16771 26.6645C10.3664 22.8839 13.4555 17.5357 18.4348 10.62L26.3188 15.0461C22.1693 22.1462 19.7719 27.0334 19.1264 29.7075H26.0421ZM51.2155 29.7075V48.38H32.6813V43.539C32.6813 35.9777 33.2345 30.3529 34.341 26.6645C35.5398 22.8839 38.6288 17.5357 43.6082 10.62L51.4921 15.0461C47.3427 22.1462 44.9452 27.0334 44.2997 29.7075H51.2155Z\" fill=\"#4A5568\"></path></svg></svg><p class=\"chakra-text css-1vlkgh2\">(a) A governmental entity shall ensure that each unit of the entity: (1) does not [...] (A) compel, require, induce, or solicit any employee or applicant for employment to provide a diversity, equity, and inclusion statement [...] or (B) require as a condition of hiring or continued employment any employee or applicant for employment to participate in diversity, equity, and inclusion training, which: (i) includes a training, program, or activity designed or implemented in reference to race, color, ethnicity, gender identity, or sexual orientation;</p></div></div><a class=\"chakra-link css-f4h6uy\" href=\"/bills/2025/TX/HB436\"><button class=\"chakra-button css-1952nyr\" type=\"button\">View Bill</button></a></div><div class=\"css-4rck61\"><div class=\"css-1dvz6tu\"><div class=\"css-wd7aku\"><h3 class=\"chakra-heading css-1vygpf9\"><a class=\"chakra-link css-f4h6uy\" href=\"/bills/2025/TX/HB437\">TX<!-- --> <!-- -->HB437</a></h3><span class=\"css-cfam9x\">INCARCERATION</span></div><span class=\"css-spvtcf\">INTRODUCED</span></div><h2 class=\"chakra-heading css-bp9bt3\">Relating to the placement of children in a detention or correctional facility according to biological sex.</h2><div class=\"css-bxak8j\"><div class=\"css-3vjk35\"><svg class=\"chakra-icon css-zfp3v8\" focusable=\"false\" viewbox=\"0 0 200 200\"><svg fill=\"none\" viewbox=\"0 0 59 59\" xmlns=\"http://www.w3.org/2000/svg\"><path d=\"M26.0421 29.7075V48.38H7.50793V43.539C7.50793 35.9777 8.06119 30.3529 9.16771 26.6645C10.3664 22.8839 13.4555 17.5357 18.4348 10.62L26.3188 15.0461C22.1693 22.1462 19.7719 27.0334 19.1264 29.7075H26.0421ZM51.2155 29.7075V48.38H32.6813V43.539C32.6813 35.9777 33.2345 30.3529 34.341 26.6645C35.5398 22.8839 38.6288 17.5357 43.6082 10.62L51.4921 15.0461C47.3427 22.1462 44.9452 27.0334 44.2997 29.7075H51.2155Z\" fill=\"#4A5568\"></path></svg></svg><p class=\"chakra-text css-1vlkgh2\">PLACEMENT OF JUVENILES BASED ON BIOLOGICAL SEX. (a) In this section, \"department\" means the Texas Juvenile Justice Department. (b) A juvenile board created under Chapter 152, Human Resources Code, or the department, as applicable, shall place a child in a detention or correctional facility according to the child's biological sex, as determined by: (1) the child's official birth certificate, if the child's biological sex is correctly stated on the certificate as described by Subsection (c); or (2) if the child's official birth certificate described by Subdivision (1) is unobtainable, another government record that states the child's biological sex. (c) For purposes of this section, a statement of a child's biological sex on the child's official birth certificate is considered to have correctly stated the child's biological sex only if the statement was: (1) entered at or near the time of the child's birth; and (2) not modified except as necessary to correct any type of scrivener or clerical error in the child's biological sex. (d) The vital statistics unit of the Department of State Health Services may not charge a juvenile board or the department a fee to issue a birth certificate for use under this section.</p></div></div><a class=\"chakra-link css-f4h6uy\" href=\"/bills/2025/TX/HB437\"><button class=\"chakra-button css-1952nyr\" type=\"button\">View Bill</button></a></div><div class=\"css-4rck61\"><div class=\"css-1dvz6tu\"><div class=\"css-wd7aku\"><h3 class=\"chakra-heading css-1vygpf9\"><a class=\"chakra-link css-f4h6uy\" href=\"/bills/2025/TX/HB477\">TX<!-- --> <!-- -->HB477</a></h3><span class=\"css-15ear9v\">BIRTH CERTIFICATES</span></div><span class=\"css-spvtcf\">INTRODUCED</span></div><h2 class=\"chakra-heading css-bp9bt3\">Relating to the required inclusion of a person's sex on a birth certificate and prohibited change of sex on the birth certificate of certain minors.</h2><div class=\"css-bxak8j\"><div class=\"css-3vjk35\"><svg class=\"chakra-icon css-zfp3v8\" focusable=\"false\" viewbox=\"0 0 200 200\"><svg fill=\"none\" viewbox=\"0 0 59 59\" xmlns=\"http://www.w3.org/2000/svg\"><path d=\"M26.0421 29.7075V48.38H7.50793V43.539C7.50793 35.9777 8.06119 30.3529 9.16771 26.6645C10.3664 22.8839 13.4555 17.5357 18.4348 10.62L26.3188 15.0461C22.1693 22.1462 19.7719 27.0334 19.1264 29.7075H26.0421ZM51.2155 29.7075V48.38H32.6813V43.539C32.6813 35.9777 33.2345 30.3529 34.341 26.6645C35.5398 22.8839 38.6288 17.5357 43.6082 10.62L51.4921 15.0461C47.3427 22.1462 44.9452 27.0334 44.2997 29.7075H51.2155Z\" fill=\"#4A5568\"></path></svg></svg><p class=\"chakra-text css-1vlkgh2\">(c-1) The form must include a space for recording the biological sex of a child as either male or female.</p></div></div><a class=\"chakra-link css-f4h6uy\" href=\"/bills/2025/TX/HB477\"><button class=\"chakra-button css-1952nyr\" type=\"button\">View Bill</button></a></div><div class=\"css-4rck61\"><div class=\"css-1dvz6tu\"><div class=\"css-wd7aku\"><h3 class=\"chakra-heading css-1vygpf9\"><a class=\"chakra-link css-f4h6uy\" href=\"/bills/2025/TX/HB778\">TX<!-- --> <!-- -->HB778</a></h3><span class=\"css-p7xsfh\">HEALTHCARE</span></div><span class=\"css-spvtcf\">INTRODUCED</span></div><h2 class=\"chakra-heading css-bp9bt3\">Relating to required health benefit plan coverage for gender transition adverse effects and reversals.</h2><div class=\"css-bxak8j\"><div class=\"css-3vjk35\"><svg class=\"chakra-icon css-zfp3v8\" focusable=\"false\" viewbox=\"0 0 200 200\"><svg fill=\"none\" viewbox=\"0 0 59 59\" xmlns=\"http://www.w3.org/2000/svg\"><path d=\"M26.0421 29.7075V48.38H7.50793V43.539C7.50793 35.9777 8.06119 30.3529 9.16771 26.6645C10.3664 22.8839 13.4555 17.5357 18.4348 10.62L26.3188 15.0461C22.1693 22.1462 19.7719 27.0334 19.1264 29.7075H26.0421ZM51.2155 29.7075V48.38H32.6813V43.539C32.6813 35.9777 33.2345 30.3529 34.341 26.6645C35.5398 22.8839 38.6288 17.5357 43.6082 10.62L51.4921 15.0461C47.3427 22.1462 44.9452 27.0334 44.2997 29.7075H51.2155Z\" fill=\"#4A5568\"></path></svg></svg><p class=\"chakra-text css-1vlkgh2\">(a) A health benefit plan that provides coverage for an enrollee's gender transition procedure or treatment shall provide coverage for: (1) all possible adverse consequences related to the enrollee's gender transition procedure or treatment, including any short- or long-term side effects of the procedure or treatment; (2) any testing or screening necessary to monitor the mental and physical health of the enrollee on at least an annual basis; and (3) any procedure or treatment necessary to reverse the enrollee's gender transition procedure or treatment. (b) A health benefit plan that offers coverage for a gender transition procedure or treatment shall also provide the coverage described by Subsection (a)to any enrollee who has undergone a gender transition procedure or treatment regardless of whether the enrollee was enrolled in the plan at the time of the procedure or treatment.</p></div></div><a class=\"chakra-link css-f4h6uy\" href=\"/bills/2025/TX/HB778\"><button class=\"chakra-button css-1952nyr\" type=\"button\">View Bill</button></a></div><div class=\"css-4rck61\"><div class=\"css-1dvz6tu\"><div class=\"css-wd7aku\"><h3 class=\"chakra-heading css-1vygpf9\"><a class=\"chakra-link css-f4h6uy\" href=\"/bills/2025/TX/HB843\">TX<!-- --> <!-- -->HB843</a></h3><span class=\"css-b9ehg4\">CHILD ABUSE</span></div><span class=\"css-spvtcf\">INTRODUCED</span></div><h2 class=\"chakra-heading css-bp9bt3\">Relating to certain general definitions in the Code Construction Act.</h2><div class=\"css-bxak8j\"><div class=\"css-3vjk35\"><svg class=\"chakra-icon css-zfp3v8\" focusable=\"false\" viewbox=\"0 0 200 200\"><svg fill=\"none\" viewbox=\"0 0 59 59\" xmlns=\"http://www.w3.org/2000/svg\"><path d=\"M26.0421 29.7075V48.38H7.50793V43.539C7.50793 35.9777 8.06119 30.3529 9.16771 26.6645C10.3664 22.8839 13.4555 17.5357 18.4348 10.62L26.3188 15.0461C22.1693 22.1462 19.7719 27.0334 19.1264 29.7075H26.0421ZM51.2155 29.7075V48.38H32.6813V43.539C32.6813 35.9777 33.2345 30.3529 34.341 26.6645C35.5398 22.8839 38.6288 17.5357 43.6082 10.62L51.4921 15.0461C47.3427 22.1462 44.9452 27.0334 44.2997 29.7075H51.2155Z\" fill=\"#4A5568\"></path></svg></svg><p class=\"chakra-text css-1vlkgh2\">(14) \"Boy\" means a child of the male sex. (15) \"Father\" means a parent of the male sex. (16) \"Female\" and \"woman\" mean an individual whose biological reproductive system is developed to produce ova. (17) \"Girl\" means a child of the female sex. (18) \"Male\" and \"man\" mean an individual whose biological reproductive system is developed to fertilize the ova of a female. (19) \"Mother\" means a parent of the female sex. (20) \"Sex\" means an individual's biological sex, either male or female.</p></div></div><a class=\"chakra-link css-f4h6uy\" href=\"/bills/2025/TX/HB843\"><button class=\"chakra-button css-1952nyr\" type=\"button\">View Bill</button></a></div><div class=\"css-4rck61\"><div class=\"css-1dvz6tu\"><div class=\"css-wd7aku\"><h3 class=\"chakra-heading css-1vygpf9\"><a class=\"chakra-link css-f4h6uy\" href=\"/bills/2025/TX/HB847\">TX<!-- --> <!-- -->HB847</a></h3><span class=\"css-p7xsfh\">HEALTHCARE</span></div><span class=\"css-spvtcf\">INTRODUCED</span></div><h2 class=\"chakra-heading css-bp9bt3\">Relating to a prohibition on funding for gender reassignment.</h2><div class=\"css-bxak8j\"><div class=\"css-3vjk35\"><svg class=\"chakra-icon css-zfp3v8\" focusable=\"false\" viewbox=\"0 0 200 200\"><svg fill=\"none\" viewbox=\"0 0 59 59\" xmlns=\"http://www.w3.org/2000/svg\"><path d=\"M26.0421 29.7075V48.38H7.50793V43.539C7.50793 35.9777 8.06119 30.3529 9.16771 26.6645C10.3664 22.8839 13.4555 17.5357 18.4348 10.62L26.3188 15.0461C22.1693 22.1462 19.7719 27.0334 19.1264 29.7075H26.0421ZM51.2155 29.7075V48.38H32.6813V43.539C32.6813 35.9777 33.2345 30.3529 34.341 26.6645C35.5398 22.8839 38.6288 17.5357 43.6082 10.62L51.4921 15.0461C47.3427 22.1462 44.9452 27.0334 44.2997 29.7075H51.2155Z\" fill=\"#4A5568\"></path></svg></svg><p class=\"chakra-text css-1vlkgh2\">Sec. 2278.002. PROHIBITION ON USE OF TAXPAYER RESOURCES FOR GENDER REASSIGNMENT. (a) No funds authorized or appropriated by State law shall be expended for any gender reassignment. (b) No funds authorized or appropriated by State law shall be expended for health benefits that covers gender reassignment. (c) The prohibition in subsection (a) and (b) does not apply to gender reassignment to be performed on an intersex person.</p></div></div><a class=\"chakra-link css-f4h6uy\" href=\"/bills/2025/TX/HB847\"><button class=\"chakra-button css-1952nyr\" type=\"button\">View Bill</button></a></div><div class=\"css-4rck61\"><div class=\"css-1dvz6tu\"><div class=\"css-wd7aku\"><h3 class=\"chakra-heading css-1vygpf9\"><a class=\"chakra-link css-f4h6uy\" href=\"/bills/2025/TX/HB938\">TX<!-- --> <!-- -->HB938</a></h3><span class=\"css-1j95h6q\">PERFORMANCE</span></div><span class=\"css-spvtcf\">INTRODUCED</span></div><h2 class=\"chakra-heading css-bp9bt3\">Relating to a cause of action for drag performances performed in the presence of a minor.</h2><div class=\"css-bxak8j\"><div class=\"css-3vjk35\"><svg class=\"chakra-icon css-zfp3v8\" focusable=\"false\" viewbox=\"0 0 200 200\"><svg fill=\"none\" viewbox=\"0 0 59 59\" xmlns=\"http://www.w3.org/2000/svg\"><path d=\"M26.0421 29.7075V48.38H7.50793V43.539C7.50793 35.9777 8.06119 30.3529 9.16771 26.6645C10.3664 22.8839 13.4555 17.5357 18.4348 10.62L26.3188 15.0461C22.1693 22.1462 19.7719 27.0334 19.1264 29.7075H26.0421ZM51.2155 29.7075V48.38H32.6813V43.539C32.6813 35.9777 33.2345 30.3529 34.341 26.6645C35.5398 22.8839 38.6288 17.5357 43.6082 10.62L51.4921 15.0461C47.3427 22.1462 44.9452 27.0334 44.2997 29.7075H51.2155Z\" fill=\"#4A5568\"></path></svg></svg><p class=\"chakra-text css-1vlkgh2\">\"Drag performance\" means a performance in which a performer exhibits a gender that is different than the performer's gender recorded at birth using clothing, makeup, or other physical markers and sings, lip syncs, dances, or otherwise performs in a lascivious manner before an audience.</p></div></div><a class=\"chakra-link css-f4h6uy\" href=\"/bills/2025/TX/HB938\"><button class=\"chakra-button css-1952nyr\" type=\"button\">View Bill</button></a></div><div class=\"css-4rck61\"><div class=\"css-1dvz6tu\"><div class=\"css-wd7aku\"><h3 class=\"chakra-heading css-1vygpf9\"><a class=\"chakra-link css-f4h6uy\" href=\"/bills/2025/TX/HB947\">TX<!-- --> <!-- -->HB947</a></h3><span class=\"css-9x1vkf\">EDUCATION</span></div><span class=\"css-spvtcf\">INTRODUCED</span></div><h2 class=\"chakra-heading css-bp9bt3\">Relating to affirmative defenses to prosecution for certain offenses involving material or conduct that is obscene or otherwise harmful to children.</h2><div class=\"css-bxak8j\"></div><a class=\"chakra-link css-f4h6uy\" href=\"/bills/2025/TX/HB947\"><button class=\"chakra-button css-1952nyr\" type=\"button\">View Bill</button></a></div><div class=\"css-4rck61\"><div class=\"css-1dvz6tu\"><div class=\"css-wd7aku\"><h3 class=\"chakra-heading css-1vygpf9\"><a class=\"chakra-link css-f4h6uy\" href=\"/bills/2025/TX/HB973\">TX<!-- --> <!-- -->HB973</a></h3><span class=\"css-9x1vkf\">EDUCATION</span></div><span class=\"css-spvtcf\">INTRODUCED</span></div><h2 class=\"chakra-heading css-bp9bt3\">Relating to prohibiting a court, administrative agency, or other tribunal from requiring certain amendments to a public school student's permanent record.</h2><div class=\"css-bxak8j\"><div class=\"css-3vjk35\"><svg class=\"chakra-icon css-zfp3v8\" focusable=\"false\" viewbox=\"0 0 200 200\"><svg fill=\"none\" viewbox=\"0 0 59 59\" xmlns=\"http://www.w3.org/2000/svg\"><path d=\"M26.0421 29.7075V48.38H7.50793V43.539C7.50793 35.9777 8.06119 30.3529 9.16771 26.6645C10.3664 22.8839 13.4555 17.5357 18.4348 10.62L26.3188 15.0461C22.1693 22.1462 19.7719 27.0334 19.1264 29.7075H26.0421ZM51.2155 29.7075V48.38H32.6813V43.539C32.6813 35.9777 33.2345 30.3529 34.341 26.6645C35.5398 22.8839 38.6288 17.5357 43.6082 10.62L51.4921 15.0461C47.3427 22.1462 44.9452 27.0334 44.2997 29.7075H51.2155Z\" fill=\"#4A5568\"></path></svg></svg><p class=\"chakra-text css-1vlkgh2\">AMENDMENT OF STUDENT PERMANENT RECORD. (a) In this section, \"biological sex\" means the physical condition of being male or female as determined by the sex organs, chromosomes, and endogenous profile of the individual at birth. (b) A court, administrative agency, or other tribunal may not order or otherwise require a school district employee to amend a student's permanent record to reflect the student's sex to be different than the student's biological sex.</p></div></div><a class=\"chakra-link css-f4h6uy\" href=\"/bills/2025/TX/HB973\"><button class=\"chakra-button css-1952nyr\" type=\"button\">View Bill</button></a></div><div class=\"css-4rck61\"><div class=\"css-1dvz6tu\"><div class=\"css-wd7aku\"><h3 class=\"chakra-heading css-1vygpf9\"><a class=\"chakra-link css-f4h6uy\" href=\"/bills/2025/TX/HB976\">TX<!-- --> <!-- -->HB976</a></h3><span class=\"css-9x1vkf\">EDUCATION</span></div><span class=\"css-spvtcf\">INTRODUCED</span></div><h2 class=\"chakra-heading css-bp9bt3\">Relating to parental rights in public education and prohibiting certain instruction regarding sexual orientation or gender identity; authorizing a civil penalty.</h2><div class=\"css-bxak8j\"><div class=\"css-3vjk35\"><svg class=\"chakra-icon css-zfp3v8\" focusable=\"false\" viewbox=\"0 0 200 200\"><svg fill=\"none\" viewbox=\"0 0 59 59\" xmlns=\"http://www.w3.org/2000/svg\"><path d=\"M26.0421 29.7075V48.38H7.50793V43.539C7.50793 35.9777 8.06119 30.3529 9.16771 26.6645C10.3664 22.8839 13.4555 17.5357 18.4348 10.62L26.3188 15.0461C22.1693 22.1462 19.7719 27.0334 19.1264 29.7075H26.0421ZM51.2155 29.7075V48.38H32.6813V43.539C32.6813 35.9777 33.2345 30.3529 34.341 26.6645C35.5398 22.8839 38.6288 17.5357 43.6082 10.62L51.4921 15.0461C47.3427 22.1462 44.9452 27.0334 44.2997 29.7075H51.2155Z\" fill=\"#4A5568\"></path></svg></svg><p class=\"chakra-text css-1vlkgh2\">RESTRICTION ON INSTRUCTION REGARDING SEXUAL ORIENTATION AND GENDER IDENTITY. [...] (b) A school district, open-enrollment charter school, or district or charter school employee may not provide or allow a third party to provide instruction regarding sexual orientation or gender identity: (1) to students enrolled in prekindergarten through eighth grade</p></div></div><a class=\"chakra-link css-f4h6uy\" href=\"/bills/2025/TX/HB976\"><button class=\"chakra-button css-1952nyr\" type=\"button\">View Bill</button></a></div><div class=\"css-4rck61\"><div class=\"css-1dvz6tu\"><div class=\"css-wd7aku\"><h3 class=\"chakra-heading css-1vygpf9\"><a class=\"chakra-link css-f4h6uy\" href=\"/bills/2025/TX/HB980\">TX<!-- --> <!-- -->HB980</a></h3><span class=\"css-15ear9v\">BIRTH CERTIFICATES</span></div><span class=\"css-spvtcf\">INTRODUCED</span></div><h2 class=\"chakra-heading css-bp9bt3\">Relating to the required inclusion of a person's sex on a birth certificate.</h2><div class=\"css-bxak8j\"><div class=\"css-3vjk35\"><svg class=\"chakra-icon css-zfp3v8\" focusable=\"false\" viewbox=\"0 0 200 200\"><svg fill=\"none\" viewbox=\"0 0 59 59\" xmlns=\"http://www.w3.org/2000/svg\"><path d=\"M26.0421 29.7075V48.38H7.50793V43.539C7.50793 35.9777 8.06119 30.3529 9.16771 26.6645C10.3664 22.8839 13.4555 17.5357 18.4348 10.62L26.3188 15.0461C22.1693 22.1462 19.7719 27.0334 19.1264 29.7075H26.0421ZM51.2155 29.7075V48.38H32.6813V43.539C32.6813 35.9777 33.2345 30.3529 34.341 26.6645C35.5398 22.8839 38.6288 17.5357 43.6082 10.62L51.4921 15.0461C47.3427 22.1462 44.9452 27.0334 44.2997 29.7075H51.2155Z\" fill=\"#4A5568\"></path></svg></svg><p class=\"chakra-text css-1vlkgh2\">(c-1) The form must include a space for recording the biological sex of a child as either male or female. A child born with a Y chromosome must be classified as male and a child born without a Y chromosome must be classified as female. The method of classifying a child's biological sex used under this section applies to other laws of this state with respect to the determination of a person's sex or gender.</p></div></div><a class=\"chakra-link css-f4h6uy\" href=\"/bills/2025/TX/HB980\"><button class=\"chakra-button css-1952nyr\" type=\"button\">View Bill</button></a></div><div class=\"css-4rck61\"><div class=\"css-1dvz6tu\"><div class=\"css-wd7aku\"><h3 class=\"chakra-heading css-1vygpf9\"><a class=\"chakra-link css-f4h6uy\" href=\"/bills/2025/TX/HB995\">TX<!-- --> <!-- -->HB995</a></h3><span class=\"css-9x1vkf\">EDUCATION</span></div><span class=\"css-spvtcf\">INTRODUCED</span></div><h2 class=\"chakra-heading css-bp9bt3\">Relating to defenses to prosecution for certain criminal offenses involving material or conduct that may be obscene or is otherwise harmful to children.</h2><div class=\"css-bxak8j\"></div><a class=\"chakra-link css-f4h6uy\" href=\"/bills/2025/TX/HB995\"><button class=\"chakra-button css-1952nyr\" type=\"button\">View Bill</button></a></div><div class=\"css-4rck61\"><div class=\"css-1dvz6tu\"><div class=\"css-wd7aku\"><h3 class=\"chakra-heading css-1vygpf9\"><a class=\"chakra-link css-f4h6uy\" href=\"/bills/2025/TX/HR144\">TX<!-- --> <!-- -->HR144</a></h3><span class=\"css-bvx26t\">BATHROOM</span></div><span class=\"css-spvtcf\">INTRODUCED</span></div><h2 class=\"chakra-heading css-bp9bt3\">Adopting the Housekeeping Resolution for the House of Representatives of the 89th Legislature.</h2><div class=\"css-bxak8j\"><div class=\"css-3vjk35\"><svg class=\"chakra-icon css-zfp3v8\" focusable=\"false\" viewbox=\"0 0 200 200\"><svg fill=\"none\" viewbox=\"0 0 59 59\" xmlns=\"http://www.w3.org/2000/svg\"><path d=\"M26.0421 29.7075V48.38H7.50793V43.539C7.50793 35.9777 8.06119 30.3529 9.16771 26.6645C10.3664 22.8839 13.4555 17.5357 18.4348 10.62L26.3188 15.0461C22.1693 22.1462 19.7719 27.0334 19.1264 29.7075H26.0421ZM51.2155 29.7075V48.38H32.6813V43.539C32.6813 35.9777 33.2345 30.3529 34.341 26.6645C35.5398 22.8839 38.6288 17.5357 43.6082 10.62L51.4921 15.0461C47.3427 22.1462 44.9452 27.0334 44.2997 29.7075H51.2155Z\" fill=\"#4A5568\"></path></svg></svg><p class=\"chakra-text css-1vlkgh2\">MULTI-USE RESTROOM POLICY. (a) The Committee on House Administration shall adopt a policy limiting access to each multi-use restroom [...] to persons of the same biological sex.</p></div></div><a class=\"chakra-link css-f4h6uy\" href=\"/bills/2025/TX/HR144\"><button class=\"chakra-button css-1952nyr\" type=\"button\">View Bill</button></a></div><div class=\"css-4rck61\"><div class=\"css-1dvz6tu\"><div class=\"css-wd7aku\"><h3 class=\"chakra-heading css-1vygpf9\"><a class=\"chakra-link css-f4h6uy\" href=\"/bills/2025/TX/SB1068\">TX<!-- --> <!-- -->SB1068</a></h3><span class=\"css-bu60l4\">SPORTS</span></div><span class=\"css-spvtcf\">INTRODUCED</span></div><h2 class=\"chakra-heading css-bp9bt3\">Relating to intercollegiate athletic competitions based on biological sex.</h2><div class=\"css-bxak8j\"><div class=\"css-3vjk35\"><svg class=\"chakra-icon css-zfp3v8\" focusable=\"false\" viewbox=\"0 0 200 200\"><svg fill=\"none\" viewbox=\"0 0 59 59\" xmlns=\"http://www.w3.org/2000/svg\"><path d=\"M26.0421 29.7075V48.38H7.50793V43.539C7.50793 35.9777 8.06119 30.3529 9.16771 26.6645C10.3664 22.8839 13.4555 17.5357 18.4348 10.62L26.3188 15.0461C22.1693 22.1462 19.7719 27.0334 19.1264 29.7075H26.0421ZM51.2155 29.7075V48.38H32.6813V43.539C32.6813 35.9777 33.2345 30.3529 34.341 26.6645C35.5398 22.8839 38.6288 17.5357 43.6082 10.62L51.4921 15.0461C47.3427 22.1462 44.9452 27.0334 44.2997 29.7075H51.2155Z\" fill=\"#4A5568\"></path></svg></svg><p class=\"chakra-text css-1vlkgh2\">An intercollegiate athletic team sponsored or authorized by an out-of-state postsecondary educational institution may not compete in an intercollegiate athletic competition against an intercollegiate athletic team sponsored or authorized by an institution of higher education unless the out-of-state institution, not later than the 30th day before the date of the athletic competition, certifies to the institution of higher education that the out-of-state institution will comply with the requirements of Subsection (b) during the athletic competition.</p></div></div><a class=\"chakra-link css-f4h6uy\" href=\"/bills/2025/TX/SB1068\"><button class=\"chakra-button css-1952nyr\" type=\"button\">View Bill</button></a></div><div class=\"css-4rck61\"><div class=\"css-1dvz6tu\"><div class=\"css-wd7aku\"><h3 class=\"chakra-heading css-1vygpf9\"><a class=\"chakra-link css-f4h6uy\" href=\"/bills/2025/TX/SB115\">TX<!-- --> <!-- -->SB115</a></h3><span class=\"css-p7xsfh\">HEALTHCARE</span></div><span class=\"css-spvtcf\">INTRODUCED</span></div><h2 class=\"chakra-heading css-bp9bt3\">Relating to civil liability for, governmental health plan coverage of, and public funding for gender modification procedures and treatments.</h2><div class=\"css-bxak8j\"><div class=\"css-3vjk35\"><svg class=\"chakra-icon css-zfp3v8\" focusable=\"false\" viewbox=\"0 0 200 200\"><svg fill=\"none\" viewbox=\"0 0 59 59\" xmlns=\"http://www.w3.org/2000/svg\"><path d=\"M26.0421 29.7075V48.38H7.50793V43.539C7.50793 35.9777 8.06119 30.3529 9.16771 26.6645C10.3664 22.8839 13.4555 17.5357 18.4348 10.62L26.3188 15.0461C22.1693 22.1462 19.7719 27.0334 19.1264 29.7075H26.0421ZM51.2155 29.7075V48.38H32.6813V43.539C32.6813 35.9777 33.2345 30.3529 34.341 26.6645C35.5398 22.8839 38.6288 17.5357 43.6082 10.62L51.4921 15.0461C47.3427 22.1462 44.9452 27.0334 44.2997 29.7075H51.2155Z\" fill=\"#4A5568\"></path></svg></svg><p class=\"chakra-text css-1vlkgh2\">(a) A health benefit plan that provides coverage for an enrollee's gender transition procedure or treatment shall provide coverage for: (1) all possible adverse consequences related to the enrollee's gender transition procedure or treatment, including any short- or long-term side effects of the procedure or treatment; (2) any testing or screening necessary to monitor the mental and physical health of the enrollee on at least an annual basis; and (3) any procedure or treatment necessary to reverse the enrollee's gender transition procedure or treatment. (b) A health benefit plan that offers coverage for a gender transition procedure or treatment shall also provide the coverage described by Subsection (a)to any enrollee who has undergone a gender transition procedure or treatment regardless of whether the enrollee was enrolled in the plan at the time of the procedure or treatment.</p></div></div><a class=\"chakra-link css-f4h6uy\" href=\"/bills/2025/TX/SB115\"><button class=\"chakra-button css-1952nyr\" type=\"button\">View Bill</button></a></div><div class=\"css-4rck61\"><div class=\"css-1dvz6tu\"><div class=\"css-wd7aku\"><h3 class=\"chakra-heading css-1vygpf9\"><a class=\"chakra-link css-f4h6uy\" href=\"/bills/2025/TX/SB116\">TX<!-- --> <!-- -->SB116</a></h3><span class=\"css-p7xsfh\">HEALTHCARE</span></div><span class=\"css-spvtcf\">INTRODUCED</span></div><h2 class=\"chakra-heading css-bp9bt3\">Relating to the statute of limitations on a health care liability claim involving certain gender modification drugs provided to and procedures performed on a minor.</h2><div class=\"css-bxak8j\"><div class=\"css-3vjk35\"><svg class=\"chakra-icon css-zfp3v8\" focusable=\"false\" viewbox=\"0 0 200 200\"><svg fill=\"none\" viewbox=\"0 0 59 59\" xmlns=\"http://www.w3.org/2000/svg\"><path d=\"M26.0421 29.7075V48.38H7.50793V43.539C7.50793 35.9777 8.06119 30.3529 9.16771 26.6645C10.3664 22.8839 13.4555 17.5357 18.4348 10.62L26.3188 15.0461C22.1693 22.1462 19.7719 27.0334 19.1264 29.7075H26.0421ZM51.2155 29.7075V48.38H32.6813V43.539C32.6813 35.9777 33.2345 30.3529 34.341 26.6645C35.5398 22.8839 38.6288 17.5357 43.6082 10.62L51.4921 15.0461C47.3427 22.1462 44.9452 27.0334 44.2997 29.7075H51.2155Z\" fill=\"#4A5568\"></path></svg></svg><p class=\"chakra-text css-1vlkgh2\">Sec. 74.252.  STATUTE OF LIMITATIONS ON HEALTH CARE LIABILITY CLAIMS INVOLVING CERTAIN GENDER MODIFICATION DRUGS AND PROCEDURES. A claimant must bring a health care liability claim not later than the claimant's 30th birthday if: (1)  the claimant is a minor at the time the cause of action accrues; and (2) the basis for the claim is malpractice in the provision of a puberty suppression prescription drug or cross-sex hormone to or the performance of surgery or another medical procedure on the minor for the purpose of gender transitioning or gender reassignment.</p></div></div><a class=\"chakra-link css-f4h6uy\" href=\"/bills/2025/TX/SB116\"><button class=\"chakra-button css-1952nyr\" type=\"button\">View Bill</button></a></div><div class=\"css-4rck61\"><div class=\"css-1dvz6tu\"><div class=\"css-wd7aku\"><h3 class=\"chakra-heading css-1vygpf9\"><a class=\"chakra-link css-f4h6uy\" href=\"/bills/2025/TX/SB1188\">TX<!-- --> <!-- -->SB1188</a></h3><span class=\"css-p7xsfh\">HEALTHCARE</span></div><span class=\"css-spvtcf\">INTRODUCED</span></div><h2 class=\"chakra-heading css-bp9bt3\">Relating to electronic health record requirements.</h2><div class=\"css-bxak8j\"><div class=\"css-3vjk35\"><svg class=\"chakra-icon css-zfp3v8\" focusable=\"false\" viewbox=\"0 0 200 200\"><svg fill=\"none\" viewbox=\"0 0 59 59\" xmlns=\"http://www.w3.org/2000/svg\"><path d=\"M26.0421 29.7075V48.38H7.50793V43.539C7.50793 35.9777 8.06119 30.3529 9.16771 26.6645C10.3664 22.8839 13.4555 17.5357 18.4348 10.62L26.3188 15.0461C22.1693 22.1462 19.7719 27.0334 19.1264 29.7075H26.0421ZM51.2155 29.7075V48.38H32.6813V43.539C32.6813 35.9777 33.2345 30.3529 34.341 26.6645C35.5398 22.8839 38.6288 17.5357 43.6082 10.62L51.4921 15.0461C47.3427 22.1462 44.9452 27.0334 44.2997 29.7075H51.2155Z\" fill=\"#4A5568\"></path></svg></svg><p class=\"chakra-text css-1vlkgh2\">\"Female\" means an individual whose reproductive system is developed to produce ova. [...] \"Male\" means an individual whose reproductive system is developed to produce sperm.</p></div></div><a class=\"chakra-link css-f4h6uy\" href=\"/bills/2025/TX/SB1188\"><button class=\"chakra-button css-1952nyr\" type=\"button\">View Bill</button></a></div><div class=\"css-4rck61\"><div class=\"css-1dvz6tu\"><div class=\"css-wd7aku\"><h3 class=\"chakra-heading css-1vygpf9\"><a class=\"chakra-link css-f4h6uy\" href=\"/bills/2025/TX/SB1257\">TX<!-- --> <!-- -->SB1257</a></h3><span class=\"css-p7xsfh\">HEALTHCARE</span></div><span class=\"css-spvtcf\">INTRODUCED</span></div><h2 class=\"chakra-heading css-bp9bt3\">Relating to required health benefit plan coverage for gender transition adverse effects and reversals.</h2><div class=\"css-bxak8j\"><div class=\"css-3vjk35\"><svg class=\"chakra-icon css-zfp3v8\" focusable=\"false\" viewbox=\"0 0 200 200\"><svg fill=\"none\" viewbox=\"0 0 59 59\" xmlns=\"http://www.w3.org/2000/svg\"><path d=\"M26.0421 29.7075V48.38H7.50793V43.539C7.50793 35.9777 8.06119 30.3529 9.16771 26.6645C10.3664 22.8839 13.4555 17.5357 18.4348 10.62L26.3188 15.0461C22.1693 22.1462 19.7719 27.0334 19.1264 29.7075H26.0421ZM51.2155 29.7075V48.38H32.6813V43.539C32.6813 35.9777 33.2345 30.3529 34.341 26.6645C35.5398 22.8839 38.6288 17.5357 43.6082 10.62L51.4921 15.0461C47.3427 22.1462 44.9452 27.0334 44.2997 29.7075H51.2155Z\" fill=\"#4A5568\"></path></svg></svg><p class=\"chakra-text css-1vlkgh2\">A health benefit plan that provides coverage for an enrollee's gender transition procedure or treatment shall provide coverage for, including for any applicable diagnostic or billing code: (1) all possible adverse consequences related to the enrollee's gender transition procedure or treatment, including any short- or long-term side effects of the procedure or treatment; (2) any baseline and follow-up testing or screening necessary to monitor the mental and physical health of the enrollee on at least an annual basis without regard to the sex or gender identity designation in the enrollee's medical record; and (3) any procedure, treatment, or therapy necessary to manage, reverse, reconstruct from, or recover from the enrollee's gender transition procedure or treatment. (b) A health benefit plan that offers coverage for a gender transition procedure or treatment shall also provide the coverage [...] to any enrollee who has undergone a gender transition procedure or treatment regardless of whether the enrollee was enrolled in the plan at the time of the procedure or treatment.</p></div></div><a class=\"chakra-link css-f4h6uy\" href=\"/bills/2025/TX/SB1257\"><button class=\"chakra-button css-1952nyr\" type=\"button\">View Bill</button></a></div><div class=\"css-4rck61\"><div class=\"css-1dvz6tu\"><div class=\"css-wd7aku\"><h3 class=\"chakra-heading css-1vygpf9\"><a class=\"chakra-link css-f4h6uy\" href=\"/bills/2025/TX/SB240\">TX<!-- --> <!-- -->SB240</a></h3><span class=\"css-bvx26t\">BATHROOM</span></div><span class=\"css-spvtcf\">INTRODUCED</span></div><h2 class=\"chakra-heading css-bp9bt3\">Relating to regulations and policies for entering or using certain private spaces; authorizing a civil penalty.</h2><div class=\"css-bxak8j\"><div class=\"css-3vjk35\"><svg class=\"chakra-icon css-zfp3v8\" focusable=\"false\" viewbox=\"0 0 200 200\"><svg fill=\"none\" viewbox=\"0 0 59 59\" xmlns=\"http://www.w3.org/2000/svg\"><path d=\"M26.0421 29.7075V48.38H7.50793V43.539C7.50793 35.9777 8.06119 30.3529 9.16771 26.6645C10.3664 22.8839 13.4555 17.5357 18.4348 10.62L26.3188 15.0461C22.1693 22.1462 19.7719 27.0334 19.1264 29.7075H26.0421ZM51.2155 29.7075V48.38H32.6813V43.539C32.6813 35.9777 33.2345 30.3529 34.341 26.6645C35.5398 22.8839 38.6288 17.5357 43.6082 10.62L51.4921 15.0461C47.3427 22.1462 44.9452 27.0334 44.2997 29.7075H51.2155Z\" fill=\"#4A5568\"></path></svg></svg><p class=\"chakra-text css-1vlkgh2\">\"Biological sex\" means the physical condition of being male or female, as determined by: (A) the sex organs, chromosomes, and endogenous profiles of a person; and (B) a person's original birth certificate, if the biological sex is correctly stated on the birth certificate, as indicated by the biological sex being: (1) entered at or near the time of birth; or (2) modified only to correct a scrivener or clerical error in the biological sex.</p></div></div><a class=\"chakra-link css-f4h6uy\" href=\"/bills/2025/TX/SB240\"><button class=\"chakra-button css-1952nyr\" type=\"button\">View Bill</button></a></div><div class=\"css-4rck61\"><div class=\"css-1dvz6tu\"><div class=\"css-wd7aku\"><h3 class=\"chakra-heading css-1vygpf9\"><a class=\"chakra-link css-f4h6uy\" href=\"/bills/2025/TX/SB242\">TX<!-- --> <!-- -->SB242</a></h3><span class=\"css-9x1vkf\">EDUCATION</span></div><span class=\"css-spvtcf\">INTRODUCED</span></div><h2 class=\"chakra-heading css-bp9bt3\">Relating to affirmative defenses to prosecution for certain criminal offenses involving material or conduct that may be obscene or is otherwise harmful to children.</h2><div class=\"css-bxak8j\"></div><a class=\"chakra-link css-f4h6uy\" href=\"/bills/2025/TX/SB242\"><button class=\"chakra-button css-1952nyr\" type=\"button\">View Bill</button></a></div><div class=\"css-4rck61\"><div class=\"css-1dvz6tu\"><div class=\"css-wd7aku\"><h3 class=\"chakra-heading css-1vygpf9\"><a class=\"chakra-link css-f4h6uy\" href=\"/bills/2025/TX/SB406\">TX<!-- --> <!-- -->SB406</a></h3><span class=\"css-15ear9v\">BIRTH CERTIFICATES</span></div><span class=\"css-spvtcf\">INTRODUCED</span></div><h2 class=\"chakra-heading css-bp9bt3\">Relating to the required inclusion of a person's sex on a birth certificate and prohibited change of sex on the birth certificate of certain persons.</h2><div class=\"css-bxak8j\"><div class=\"css-3vjk35\"><svg class=\"chakra-icon css-zfp3v8\" focusable=\"false\" viewbox=\"0 0 200 200\"><svg fill=\"none\" viewbox=\"0 0 59 59\" xmlns=\"http://www.w3.org/2000/svg\"><path d=\"M26.0421 29.7075V48.38H7.50793V43.539C7.50793 35.9777 8.06119 30.3529 9.16771 26.6645C10.3664 22.8839 13.4555 17.5357 18.4348 10.62L26.3188 15.0461C22.1693 22.1462 19.7719 27.0334 19.1264 29.7075H26.0421ZM51.2155 29.7075V48.38H32.6813V43.539C32.6813 35.9777 33.2345 30.3529 34.341 26.6645C35.5398 22.8839 38.6288 17.5357 43.6082 10.62L51.4921 15.0461C47.3427 22.1462 44.9452 27.0334 44.2997 29.7075H51.2155Z\" fill=\"#4A5568\"></path></svg></svg><p class=\"chakra-text css-1vlkgh2\">(c-1) The form must include a space for recording the biological sex of a person as either male or female.</p></div></div><a class=\"chakra-link css-f4h6uy\" href=\"/bills/2025/TX/SB406\"><button class=\"chakra-button css-1952nyr\" type=\"button\">View Bill</button></a></div><div class=\"css-4rck61\"><div class=\"css-1dvz6tu\"><div class=\"css-wd7aku\"><h3 class=\"chakra-heading css-1vygpf9\"><a class=\"chakra-link css-f4h6uy\" href=\"/bills/2025/TX/SB412\">TX<!-- --> <!-- -->SB412</a></h3><span class=\"css-9x1vkf\">EDUCATION</span></div><span class=\"css-spvtcf\">INTRODUCED</span></div><h2 class=\"chakra-heading css-bp9bt3\">Relating to affirmative defenses to prosecution for certain offenses involving material or conduct that is obscene or otherwise harmful to children.</h2><div class=\"css-bxak8j\"></div><a class=\"chakra-link css-f4h6uy\" href=\"/bills/2025/TX/SB412\"><button class=\"chakra-button css-1952nyr\" type=\"button\">View Bill</button></a></div><div class=\"css-4rck61\"><div class=\"css-1dvz6tu\"><div class=\"css-wd7aku\"><h3 class=\"chakra-heading css-1vygpf9\"><a class=\"chakra-link css-f4h6uy\" href=\"/bills/2025/TX/SB619\">TX<!-- --> <!-- -->SB619</a></h3><span class=\"css-p7xsfh\">HEALTHCARE</span></div><span class=\"css-spvtcf\">INTRODUCED</span></div><h2 class=\"chakra-heading css-bp9bt3\">Relating to protection of persons from participation in a health care service for reasons of conscience; providing a civil remedy; authorizing disciplinary action.</h2><div class=\"css-bxak8j\"><div class=\"css-3vjk35\"><svg class=\"chakra-icon css-zfp3v8\" focusable=\"false\" viewbox=\"0 0 200 200\"><svg fill=\"none\" viewbox=\"0 0 59 59\" xmlns=\"http://www.w3.org/2000/svg\"><path d=\"M26.0421 29.7075V48.38H7.50793V43.539C7.50793 35.9777 8.06119 30.3529 9.16771 26.6645C10.3664 22.8839 13.4555 17.5357 18.4348 10.62L26.3188 15.0461C22.1693 22.1462 19.7719 27.0334 19.1264 29.7075H26.0421ZM51.2155 29.7075V48.38H32.6813V43.539C32.6813 35.9777 33.2345 30.3529 34.341 26.6645C35.5398 22.8839 38.6288 17.5357 43.6082 10.62L51.4921 15.0461C47.3427 22.1462 44.9452 27.0334 44.2997 29.7075H51.2155Z\" fill=\"#4A5568\"></path></svg></svg><p class=\"chakra-text css-1vlkgh2\">RIGHT TO DECLINE PARTICIPATION IN HEALTH CARE SERVICE FOR REASONS OF CONSCIENCE; CONSTRUCTION OF SUBCHAPTER. (a) Except as provided by Subsection (b), a person may decline to participate in a health care service for reasons of conscience.</p></div></div><a class=\"chakra-link css-f4h6uy\" href=\"/bills/2025/TX/SB619\"><button class=\"chakra-button css-1952nyr\" type=\"button\">View Bill</button></a></div><div class=\"css-4rck61\"><div class=\"css-1dvz6tu\"><div class=\"css-wd7aku\"><h3 class=\"chakra-heading css-1vygpf9\"><a class=\"chakra-link css-f4h6uy\" href=\"/bills/2025/TX/SB689\">TX<!-- --> <!-- -->SB689</a></h3><span class=\"css-9x1vkf\">EDUCATION</span></div><span class=\"css-spvtcf\">INTRODUCED</span></div><h2 class=\"chakra-heading css-bp9bt3\">Relating to the implementation of diversity, equity, and inclusion initiatives by certain governmental entities.</h2><div class=\"css-bxak8j\"><div class=\"css-3vjk35\"><svg class=\"chakra-icon css-zfp3v8\" focusable=\"false\" viewbox=\"0 0 200 200\"><svg fill=\"none\" viewbox=\"0 0 59 59\" xmlns=\"http://www.w3.org/2000/svg\"><path d=\"M26.0421 29.7075V48.38H7.50793V43.539C7.50793 35.9777 8.06119 30.3529 9.16771 26.6645C10.3664 22.8839 13.4555 17.5357 18.4348 10.62L26.3188 15.0461C22.1693 22.1462 19.7719 27.0334 19.1264 29.7075H26.0421ZM51.2155 29.7075V48.38H32.6813V43.539C32.6813 35.9777 33.2345 30.3529 34.341 26.6645C35.5398 22.8839 38.6288 17.5357 43.6082 10.62L51.4921 15.0461C47.3427 22.1462 44.9452 27.0334 44.2997 29.7075H51.2155Z\" fill=\"#4A5568\"></path></svg></svg><p class=\"chakra-text css-1vlkgh2\">A governmental entity shall ensure that each unit of the entity does not, except as required by federal law: (1)  establish or maintain a diversity, equity, and inclusion office; or (2)  hire or assign an employee of the entity or contract with a third party to perform the duties of a diversity, equity, and inclusion office.</p></div></div><a class=\"chakra-link css-f4h6uy\" href=\"/bills/2025/TX/SB689\"><button class=\"chakra-button css-1952nyr\" type=\"button\">View Bill</button></a></div><div class=\"css-4rck61\"><div class=\"css-1dvz6tu\"><div class=\"css-wd7aku\"><h3 class=\"chakra-heading css-1vygpf9\"><a class=\"chakra-link css-f4h6uy\" href=\"/bills/2025/TX/SB753\">TX<!-- --> <!-- -->SB753</a></h3><span class=\"css-p7xsfh\">HEALTHCARE</span></div><span class=\"css-spvtcf\">INTRODUCED</span></div><h2 class=\"chakra-heading css-bp9bt3\">Relating to prohibiting certain conduct by physicians and health care providers involving gender transitioning and gender reassignment procedures and treatments for children; creating a criminal offense.</h2><div class=\"css-bxak8j\"><div class=\"css-3vjk35\"><svg class=\"chakra-icon css-zfp3v8\" focusable=\"false\" viewbox=\"0 0 200 200\"><svg fill=\"none\" viewbox=\"0 0 59 59\" xmlns=\"http://www.w3.org/2000/svg\"><path d=\"M26.0421 29.7075V48.38H7.50793V43.539C7.50793 35.9777 8.06119 30.3529 9.16771 26.6645C10.3664 22.8839 13.4555 17.5357 18.4348 10.62L26.3188 15.0461C22.1693 22.1462 19.7719 27.0334 19.1264 29.7075H26.0421ZM51.2155 29.7075V48.38H32.6813V43.539C32.6813 35.9777 33.2345 30.3529 34.341 26.6645C35.5398 22.8839 38.6288 17.5357 43.6082 10.62L51.4921 15.0461C47.3427 22.1462 44.9452 27.0334 44.2997 29.7075H51.2155Z\" fill=\"#4A5568\"></path></svg></svg><p class=\"chakra-text css-1vlkgh2\">A physician or health care provider may not knowingly: [...] (5)  refer a child to a health care practitioner who is licensed or otherwise authorized to provide health care in another state, to facilitate the child's ability to receive in the other state a procedure or treatment that would otherwise be prohibited by this section if the procedure or treatment occurred in this state.</p></div></div><a class=\"chakra-link css-f4h6uy\" href=\"/bills/2025/TX/SB753\"><button class=\"chakra-button css-1952nyr\" type=\"button\">View Bill</button></a></div><div class=\"css-4rck61\"><div class=\"css-1dvz6tu\"><div class=\"css-wd7aku\"><h3 class=\"chakra-heading css-1vygpf9\"><a class=\"chakra-link css-f4h6uy\" href=\"/bills/2025/TX/SB810\">TX<!-- --> <!-- -->SB810</a></h3><span class=\"css-9x1vkf\">EDUCATION</span></div><span class=\"css-spvtcf\">INTRODUCED</span></div><h2 class=\"chakra-heading css-bp9bt3\">Relating to protection for a public school employee's use of terms consistent with biological sex.</h2><div class=\"css-bxak8j\"><div class=\"css-3vjk35\"><svg class=\"chakra-icon css-zfp3v8\" focusable=\"false\" viewbox=\"0 0 200 200\"><svg fill=\"none\" viewbox=\"0 0 59 59\" xmlns=\"http://www.w3.org/2000/svg\"><path d=\"M26.0421 29.7075V48.38H7.50793V43.539C7.50793 35.9777 8.06119 30.3529 9.16771 26.6645C10.3664 22.8839 13.4555 17.5357 18.4348 10.62L26.3188 15.0461C22.1693 22.1462 19.7719 27.0334 19.1264 29.7075H26.0421ZM51.2155 29.7075V48.38H32.6813V43.539C32.6813 35.9777 33.2345 30.3529 34.341 26.6645C35.5398 22.8839 38.6288 17.5357 43.6082 10.62L51.4921 15.0461C47.3427 22.1462 44.9452 27.0334 44.2997 29.7075H51.2155Z\" fill=\"#4A5568\"></path></svg></svg><p class=\"chakra-text css-1vlkgh2\">PROTECTION FOR USE OF TERMS CONSISTENT WITH BIOLOGICAL SEX. A school district or open-enrollment charter school may not discipline, retaliate against, or otherwise discriminate against a district or school employee who addresses a student or another district or school employee in terms consistent with the biological sex of the student or employee.</p></div></div><a class=\"chakra-link css-f4h6uy\" href=\"/bills/2025/TX/SB810\"><button class=\"chakra-button css-1952nyr\" type=\"button\">View Bill</button></a></div><div class=\"css-4rck61\"><div class=\"css-1dvz6tu\"><div class=\"css-wd7aku\"><h3 class=\"chakra-heading css-1vygpf9\"><a class=\"chakra-link css-f4h6uy\" href=\"/bills/2025/TX/SB84\">TX<!-- --> <!-- -->SB84</a></h3><style data-emotion=\"css 1lgty6a\">.css-1lgty6a{display:-webkit-inline-box;display:-webkit-inline-flex;display:-ms-inline-flexbox;display:inline-flex;vertical-align:top;-webkit-align-items:center;-webkit-box-align:center;-ms-flex-align:center;align-items:center;max-width:100%;font-weight:var(--chakra-fontWeights-medium);line-height:1.2;outline:2px solid transparent;outline-offset:2px;min-height:1.5rem;min-width:1.5rem;font-size:var(--chakra-fontSizes-sm);border-radius:0px;-webkit-padding-start:var(--chakra-space-2);padding-inline-start:var(--chakra-space-2);-webkit-padding-end:var(--chakra-space-2);padding-inline-end:var(--chakra-space-2);background:#269686;color:var(--chakra-colors-white);}.css-1lgty6a:focus,.css-1lgty6a[data-focus]{box-shadow:var(--chakra-shadows-outline);}</style><span class=\"css-1lgty6a\">CIVIL RIGHTS</span></div><span class=\"css-spvtcf\">INTRODUCED</span></div><h2 class=\"chakra-heading css-bp9bt3\">Relating to the definition and use of the terms \"male\" and \"female\" for purposes of certain government documents.</h2><div class=\"css-bxak8j\"><div class=\"css-3vjk35\"><svg class=\"chakra-icon css-zfp3v8\" focusable=\"false\" viewbox=\"0 0 200 200\"><svg fill=\"none\" viewbox=\"0 0 59 59\" xmlns=\"http://www.w3.org/2000/svg\"><path d=\"M26.0421 29.7075V48.38H7.50793V43.539C7.50793 35.9777 8.06119 30.3529 9.16771 26.6645C10.3664 22.8839 13.4555 17.5357 18.4348 10.62L26.3188 15.0461C22.1693 22.1462 19.7719 27.0334 19.1264 29.7075H26.0421ZM51.2155 29.7075V48.38H32.6813V43.539C32.6813 35.9777 33.2345 30.3529 34.341 26.6645C35.5398 22.8839 38.6288 17.5357 43.6082 10.62L51.4921 15.0461C47.3427 22.1462 44.9452 27.0334 44.2997 29.7075H51.2155Z\" fill=\"#4A5568\"></path></svg></svg><p class=\"chakra-text css-1vlkgh2\">(1) \"Female\" means an individual whose biological reproductive system is developed to produce ova. [...] (3) \"Male\" means an individual whose biological reproductive system is developed to fertilize the ova of a female.</p></div></div><a class=\"chakra-link css-f4h6uy\" href=\"/bills/2025/TX/SB84\"><button class=\"chakra-button css-1952nyr\" type=\"button\">View Bill</button></a></div><div class=\"css-4rck61\"><div class=\"css-1dvz6tu\"><div class=\"css-wd7aku\"><h3 class=\"chakra-heading css-1vygpf9\"><a class=\"chakra-link css-f4h6uy\" href=\"/bills/2025/TX/SB86\">TX<!-- --> <!-- -->SB86</a></h3><span class=\"css-9x1vkf\">EDUCATION</span></div><span class=\"css-spvtcf\">INTRODUCED</span></div><h2 class=\"chakra-heading css-bp9bt3\">Relating to parental rights in public education and prohibiting instruction regarding sexual orientation or gender identity for public school students.</h2><div class=\"css-bxak8j\"><div class=\"css-3vjk35\"><svg class=\"chakra-icon css-zfp3v8\" focusable=\"false\" viewbox=\"0 0 200 200\"><svg fill=\"none\" viewbox=\"0 0 59 59\" xmlns=\"http://www.w3.org/2000/svg\"><path d=\"M26.0421 29.7075V48.38H7.50793V43.539C7.50793 35.9777 8.06119 30.3529 9.16771 26.6645C10.3664 22.8839 13.4555 17.5357 18.4348 10.62L26.3188 15.0461C22.1693 22.1462 19.7719 27.0334 19.1264 29.7075H26.0421ZM51.2155 29.7075V48.38H32.6813V43.539C32.6813 35.9777 33.2345 30.3529 34.341 26.6645C35.5398 22.8839 38.6288 17.5357 43.6082 10.62L51.4921 15.0461C47.3427 22.1462 44.9452 27.0334 44.2997 29.7075H51.2155Z\" fill=\"#4A5568\"></path></svg></svg><p class=\"chakra-text css-1vlkgh2\">INSTRUCTION REGARDING SEXUAL ORIENTATION AND GENDER IDENTITY PROHIBITED. A school district, open-enrollment charter school, or district or charter school employee may not provide or allow a third party to provide instruction regarding sexual orientation or gender identity to students enrolled in the district or school.</p></div></div><a class=\"chakra-link css-f4h6uy\" href=\"/bills/2025/TX/SB86\"><button class=\"chakra-button css-1952nyr\" type=\"button\">View Bill</button></a></div><div class=\"css-4rck61\"><div class=\"css-1dvz6tu\"><div class=\"css-wd7aku\"><h3 class=\"chakra-heading css-1vygpf9\"><a class=\"chakra-link css-f4h6uy\" href=\"/bills/2025/TX/SB89\">TX<!-- --> <!-- -->SB89</a></h3><span class=\"css-9x1vkf\">EDUCATION</span></div><span class=\"css-spvtcf\">INTRODUCED</span></div><h2 class=\"chakra-heading css-bp9bt3\">Relating to defenses to prosecution for certain criminal offenses involving material or conduct that may be obscene or is otherwise harmful to children.</h2><div class=\"css-bxak8j\"></div><a class=\"chakra-link css-f4h6uy\" href=\"/bills/2025/TX/SB89\"><button class=\"chakra-button css-1952nyr\" type=\"button\">View Bill</button></a></div><div class=\"css-4rck61\"><div class=\"css-1dvz6tu\"><div class=\"css-wd7aku\"><h3 class=\"chakra-heading css-1vygpf9\"><a class=\"chakra-link css-f4h6uy\" href=\"/bills/2025/TX/SB949\">TX<!-- --> <!-- -->SB949</a></h3><span class=\"css-iyw6hm\">OTHER</span></div><span class=\"css-spvtcf\">INTRODUCED</span></div><h2 class=\"chakra-heading css-bp9bt3\">Relating to prohibitions on deceptive and unfair practices related to financial institutions discriminating in the provision of financial services to consumers and other persons.</h2><div class=\"css-bxak8j\"><div class=\"css-3vjk35\"><svg class=\"chakra-icon css-zfp3v8\" focusable=\"false\" viewbox=\"0 0 200 200\"><svg fill=\"none\" viewbox=\"0 0 59 59\" xmlns=\"http://www.w3.org/2000/svg\"><path d=\"M26.0421 29.7075V48.38H7.50793V43.539C7.50793 35.9777 8.06119 30.3529 9.16771 26.6645C10.3664 22.8839 13.4555 17.5357 18.4348 10.62L26.3188 15.0461C22.1693 22.1462 19.7719 27.0334 19.1264 29.7075H26.0421ZM51.2155 29.7075V48.38H32.6813V43.539C32.6813 35.9777 33.2345 30.3529 34.341 26.6645C35.5398 22.8839 38.6288 17.5357 43.6082 10.62L51.4921 15.0461C47.3427 22.1462 44.9452 27.0334 44.2997 29.7075H51.2155Z\" fill=\"#4A5568\"></path></svg></svg><p class=\"chakra-text css-1vlkgh2\">\"Discriminate in the provision of financial services\" means utilizing a social credit score to directly or indirectly decline to provide full and equal enjoyment in the provision of financial services, and includes refusing to provide, terminating, or restricting financial services. [...] \"Social credit score\" means any analysis, rating, scoring, list, or tabulation that evaluates any of the following: [...] (D) failure or refusal to conduct any type of racial, diversity, or gender audit or disclosure or to provide any sort of quota, preference, or benefit based, in whole or in part, on race, diversity, or gender; (E) failure or refusal to facilitate or assist employees in obtaining abortions or gender transition services;</p></div></div><a class=\"chakra-link css-f4h6uy\" href=\"/bills/2025/TX/SB949\"><button class=\"chakra-button css-1952nyr\" type=\"button\">View Bill</button></a></div><div class=\"css-4rck61\"><div class=\"css-1dvz6tu\"><div class=\"css-wd7aku\"><h3 class=\"chakra-heading css-1vygpf9\"><a class=\"chakra-link css-f4h6uy\" href=\"/bills/2025/TX/SB983\">TX<!-- --> <!-- -->SB983</a></h3><span class=\"css-9x1vkf\">EDUCATION</span></div><span class=\"css-spvtcf\">INTRODUCED</span></div><h2 class=\"chakra-heading css-bp9bt3\">Relating to local school health advisory councils and instruction regarding human sexuality, sexual orientation, and gender identity provided by public schools.</h2><div class=\"css-bxak8j\"><div class=\"css-3vjk35\"><svg class=\"chakra-icon css-zfp3v8\" focusable=\"false\" viewbox=\"0 0 200 200\"><svg fill=\"none\" viewbox=\"0 0 59 59\" xmlns=\"http://www.w3.org/2000/svg\"><path d=\"M26.0421 29.7075V48.38H7.50793V43.539C7.50793 35.9777 8.06119 30.3529 9.16771 26.6645C10.3664 22.8839 13.4555 17.5357 18.4348 10.62L26.3188 15.0461C22.1693 22.1462 19.7719 27.0334 19.1264 29.7075H26.0421ZM51.2155 29.7075V48.38H32.6813V43.539C32.6813 35.9777 33.2345 30.3529 34.341 26.6645C35.5398 22.8839 38.6288 17.5357 43.6082 10.62L51.4921 15.0461C47.3427 22.1462 44.9452 27.0334 44.2997 29.7075H51.2155Z\" fill=\"#4A5568\"></path></svg></svg><p class=\"chakra-text css-1vlkgh2\">Sec. 28.0043. RESTRICTION ON INSTRUCTION REGARDING SEXUAL ORIENTATION AND GENDER IDENTITY. (a) A school district, open-enrollment charter school, or district or charter school employee may not provide or allow a third party to provide instruction, guidance, activities, or programming regarding sexual orientation or gender identity to students enrolled in prekindergarten through 12th grade.</p></div></div><a class=\"chakra-link css-f4h6uy\" href=\"/bills/2025/TX/SB983\"><button class=\"chakra-button css-1952nyr\" type=\"button\">View Bill</button></a></div></div>]"
      ]
     },
     "execution_count": 62,
     "metadata": {},
     "output_type": "execute_result"
    }
   ],
   "source": [
    "soup.find_all('div', class_= 'css-1ftdpv0')"
   ]
  },
  {
   "cell_type": "code",
   "execution_count": 68,
   "id": "dd34aad3-c604-4074-a8db-7ba720b7853f",
   "metadata": {},
   "outputs": [],
   "source": [
    "bill_cards = soup.find_all('div', class_= 'css-4rck61')"
   ]
  },
  {
   "cell_type": "code",
   "execution_count": 86,
   "id": "591c5108-34d2-4009-8f84-0d1449a3bf0e",
   "metadata": {},
   "outputs": [
    {
     "name": "stdout",
     "output_type": "stream",
     "text": [
      "TX HB1014\n",
      "Relating to regulations and policies for entering or using a bathroom or changing facility in a public school; authorizing a civil penalty, authorizing a private civil right of action.\n",
      "TX HB1014BATHROOMINTRODUCED\n",
      "BATHROOM\n",
      "\n",
      "TX HB1015\n",
      "Relating to regulations and policies for entering or using a bathroom or changing facility in a public school.\n",
      "TX HB1015BATHROOMINTRODUCED\n",
      "BATHROOM\n",
      "\n",
      "TX HB1016\n",
      "Relating to a public school policy regarding multi-occupancy bathrooms or changing facilities.\n",
      "TX HB1016BATHROOMINTRODUCED\n",
      "BATHROOM\n",
      "\n",
      "TX HB1075\n",
      "Relating to a cause of action for drag performances performed in the presence of a minor.\n",
      "TX HB1075PERFORMANCEINTRODUCED\n",
      "PERFORMANCE\n",
      "\n",
      "TX HB1088\n",
      "Relating to the statute of limitations on a health care liability claim involving certain gender modification drugs provided to and procedures performed on a minor.\n",
      "TX HB1088HEALTHCAREINTRODUCED\n",
      "HEALTHCARE\n",
      "\n",
      "TX HB1106\n",
      "Relating to the definition of abuse or neglect of a child.\n",
      "TX HB1106CHILD ABUSEINTRODUCED\n",
      "CHILD ABUSE\n",
      "\n",
      "TX HB1123\n",
      "Relating to interscholastic athletic competition based on biological sex, requirements for physical examinations and genetic testing in interscholastic athletics, and the adoption of rules by the University Interscholastic League to implement these requirements.\n",
      "TX HB1123SPORTSINTRODUCED\n",
      "SPORTS\n",
      "\n",
      "TX HB1434\n",
      "Relating to affirmative defenses to prosecution for certain offenses involving material or conduct that is obscene or otherwise harmful to children.\n",
      "TX HB1434EDUCATIONINTRODUCED\n",
      "EDUCATION\n",
      "\n",
      "TX HB1484\n",
      "Relating to the protection of students from sexual grooming.\n",
      "TX HB1484EDUCATIONINTRODUCED\n",
      "EDUCATION\n",
      "\n",
      "TX HB1521\n",
      "Relating to the implementation of diversity, equity, and inclusion initiatives by certain governmental entities.\n",
      "TX HB1521EDUCATIONINTRODUCED\n",
      "EDUCATION\n",
      "\n",
      "TX HB1655\n",
      "Relating to a policy prohibiting public school employees from assisting a student with social transitioning and to the loss of state funding for a violation by a public school.\n",
      "TX HB1655EDUCATIONINTRODUCED\n",
      "EDUCATION\n",
      "\n",
      "TX HB167\n",
      "Relating to the implementation of diversity, equity, and inclusion initiatives and certain prohibited considerations in contracting by governmental entities.\n",
      "TX HB167OTHERINTRODUCED\n",
      "OTHER\n",
      "\n",
      "TX HB1704\n",
      "Relating to a parent's right to be notified by a school district concerning acts of self-harm by the parent's child.\n",
      "TX HB1704EDUCATIONINTRODUCED\n",
      "EDUCATION\n",
      "\n",
      "TX HB2062\n",
      "Relating to regulations and policies for entering or using certain private spaces; authorizing a civil penalty.\n",
      "TX HB2062INCARCERATIONINTRODUCED\n",
      "INCARCERATION\n",
      "\n",
      "TX HB2258\n",
      "Imposing private civil liability on anyone who causes or contributes to the social transitioning of a minor.\n",
      "TX HB2258HEALTHCAREINTRODUCED\n",
      "HEALTHCARE\n",
      "\n",
      "TX HB229\n",
      "Relating to general definitions for and collection of governmental information regarding biological sex.\n",
      "TX HB229OTHERINTRODUCED\n",
      "OTHER\n",
      "\n",
      "TX HB2291\n",
      "Relating to the required inclusion of a person's sex on a birth certificate and prohibited change of sex on the birth certificate of certain persons.\n",
      "TX HB2291BIRTH CERTIFICATESINTRODUCED\n",
      "BIRTH CERTIFICATES\n",
      "\n",
      "TX HB2311\n",
      "Relating to diversity, equity, and inclusion initiatives at public institutions of higher education.\n",
      "TX HB2311EDUCATIONINTRODUCED\n",
      "EDUCATION\n",
      "\n",
      "TX HB2339\n",
      "Relating to prohibiting public institutions of higher education from offering programs or courses in LGBTQ or DEI studies.\n",
      "TX HB2339EDUCATIONINTRODUCED\n",
      "EDUCATION\n",
      "\n",
      "TX HB2342\n",
      "Relating to protection for a public school employee's use of terms consistent with biological sex.\n",
      "TX HB2342EDUCATIONINTRODUCED\n",
      "EDUCATION\n",
      "\n",
      "TX HB2354\n",
      "Relating to charter schools, including the admission, enrollment, and employment policies of and the applicability of certain laws to open-enrollment charter schools.\n",
      "TX HB2354EDUCATIONINTRODUCED\n",
      "EDUCATION\n",
      "\n",
      "TX HB239\n",
      "Relating to regulations and policies for entering or using certain private spaces; authorizing a civil penalty.\n",
      "TX HB239BATHROOMINTRODUCED\n",
      "BATHROOM\n",
      "\n",
      "TX HB2548\n",
      "Relating to a prohibition on public institutions of higher education requiring students to enroll in certain courses to complete a certificate or degree program, using such courses to satisfy general education requirements, funding such courses using state appropriations, or requiring related faculty practices, and to freshman student orientation at those institutions.\n",
      "TX HB2548EDUCATIONINTRODUCED\n",
      "EDUCATION\n",
      "\n",
      "TX HB2549\n",
      "Relating to the inclusion of a person's sex on driver's licenses, commercial driver's licenses, commercial learner's permits, and personal identification certificates.\n",
      "TX HB2549OTHERINTRODUCED\n",
      "OTHER\n",
      "\n",
      "TX HB267\n",
      "Relating to affirmative defenses to prosecution for certain offenses involving material or conduct that is obscene or otherwise harmful to children.\n",
      "TX HB267EDUCATIONINTRODUCED\n",
      "EDUCATION\n",
      "\n",
      "TX HB2704\n",
      "Relating to general definitions regarding biological sex and the designation and use of certain spaces according to biological sex; authorizing a civil right of action.\n",
      "TX HB2704BATHROOMINTRODUCED\n",
      "BATHROOM\n",
      "\n",
      "TX HB2770\n",
      "Relating to municipal diversity, equity, and inclusion initiatives.\n",
      "TX HB2770OTHERINTRODUCED\n",
      "OTHER\n",
      "\n",
      "TX HB2821\n",
      "Relating to county diversity, equity, and inclusion initiatives.\n",
      "TX HB2821EDUCATIONINTRODUCED\n",
      "EDUCATION\n",
      "\n",
      "TX HB2846\n",
      "Relating to parental rights in public education and prohibiting instruction regarding sexual orientation or gender identity for public school students.\n",
      "TX HB2846EDUCATIONINTRODUCED\n",
      "EDUCATION\n",
      "\n",
      "TX HB344\n",
      "Relating to a prohibition on instruction and certain activities regarding sexual orientation or gender identity provided or allowed by a public school.\n",
      "TX HB344EDUCATIONINTRODUCED\n",
      "EDUCATION\n",
      "\n",
      "TX HB370\n",
      "Relating to eligibility of certain events under the Events Trust Fund\n",
      "TX HB370SPORTSINTRODUCED\n",
      "SPORTS\n",
      "\n",
      "TX HB403\n",
      "Relating to housing and placement of inmates and children according to biological sex.\n",
      "TX HB403INCARCERATIONINTRODUCED\n",
      "INCARCERATION\n",
      "\n",
      "TX HB436\n",
      "Relating to the requirement by certain governmental entities for diversity, equity, and inclusion statements and training from employees, prospective employees, and contractors.\n",
      "TX HB436OTHERINTRODUCED\n",
      "OTHER\n",
      "\n",
      "TX HB437\n",
      "Relating to the placement of children in a detention or correctional facility according to biological sex.\n",
      "TX HB437INCARCERATIONINTRODUCED\n",
      "INCARCERATION\n",
      "\n",
      "TX HB477\n",
      "Relating to the required inclusion of a person's sex on a birth certificate and prohibited change of sex on the birth certificate of certain minors.\n",
      "TX HB477BIRTH CERTIFICATESINTRODUCED\n",
      "BIRTH CERTIFICATES\n",
      "\n",
      "TX HB778\n",
      "Relating to required health benefit plan coverage for gender transition adverse effects and reversals.\n",
      "TX HB778HEALTHCAREINTRODUCED\n",
      "HEALTHCARE\n",
      "\n",
      "TX HB843\n",
      "Relating to certain general definitions in the Code Construction Act.\n",
      "TX HB843CHILD ABUSEINTRODUCED\n",
      "CHILD ABUSE\n",
      "\n",
      "TX HB847\n",
      "Relating to a prohibition on funding for gender reassignment.\n",
      "TX HB847HEALTHCAREINTRODUCED\n",
      "HEALTHCARE\n",
      "\n",
      "TX HB938\n",
      "Relating to a cause of action for drag performances performed in the presence of a minor.\n",
      "TX HB938PERFORMANCEINTRODUCED\n",
      "PERFORMANCE\n",
      "\n",
      "TX HB947\n",
      "Relating to affirmative defenses to prosecution for certain offenses involving material or conduct that is obscene or otherwise harmful to children.\n",
      "TX HB947EDUCATIONINTRODUCED\n",
      "EDUCATION\n",
      "\n",
      "TX HB973\n",
      "Relating to prohibiting a court, administrative agency, or other tribunal from requiring certain amendments to a public school student's permanent record.\n",
      "TX HB973EDUCATIONINTRODUCED\n",
      "EDUCATION\n",
      "\n",
      "TX HB976\n",
      "Relating to parental rights in public education and prohibiting certain instruction regarding sexual orientation or gender identity; authorizing a civil penalty.\n",
      "TX HB976EDUCATIONINTRODUCED\n",
      "EDUCATION\n",
      "\n",
      "TX HB980\n",
      "Relating to the required inclusion of a person's sex on a birth certificate.\n",
      "TX HB980BIRTH CERTIFICATESINTRODUCED\n",
      "BIRTH CERTIFICATES\n",
      "\n",
      "TX HB995\n",
      "Relating to defenses to prosecution for certain criminal offenses involving material or conduct that may be obscene or is otherwise harmful to children.\n",
      "TX HB995EDUCATIONINTRODUCED\n",
      "EDUCATION\n",
      "\n",
      "TX HR144\n",
      "Adopting the Housekeeping Resolution for the House of Representatives of the 89th Legislature.\n",
      "TX HR144BATHROOMINTRODUCED\n",
      "BATHROOM\n",
      "\n",
      "TX SB1068\n",
      "Relating to intercollegiate athletic competitions based on biological sex.\n",
      "TX SB1068SPORTSINTRODUCED\n",
      "SPORTS\n",
      "\n",
      "TX SB115\n",
      "Relating to civil liability for, governmental health plan coverage of, and public funding for gender modification procedures and treatments.\n",
      "TX SB115HEALTHCAREINTRODUCED\n",
      "HEALTHCARE\n",
      "\n",
      "TX SB116\n",
      "Relating to the statute of limitations on a health care liability claim involving certain gender modification drugs provided to and procedures performed on a minor.\n",
      "TX SB116HEALTHCAREINTRODUCED\n",
      "HEALTHCARE\n",
      "\n",
      "TX SB1188\n",
      "Relating to electronic health record requirements.\n",
      "TX SB1188HEALTHCAREINTRODUCED\n",
      "HEALTHCARE\n",
      "\n",
      "TX SB1257\n",
      "Relating to required health benefit plan coverage for gender transition adverse effects and reversals.\n",
      "TX SB1257HEALTHCAREINTRODUCED\n",
      "HEALTHCARE\n",
      "\n",
      "TX SB240\n",
      "Relating to regulations and policies for entering or using certain private spaces; authorizing a civil penalty.\n",
      "TX SB240BATHROOMINTRODUCED\n",
      "BATHROOM\n",
      "\n",
      "TX SB242\n",
      "Relating to affirmative defenses to prosecution for certain criminal offenses involving material or conduct that may be obscene or is otherwise harmful to children.\n",
      "TX SB242EDUCATIONINTRODUCED\n",
      "EDUCATION\n",
      "\n",
      "TX SB406\n",
      "Relating to the required inclusion of a person's sex on a birth certificate and prohibited change of sex on the birth certificate of certain persons.\n",
      "TX SB406BIRTH CERTIFICATESINTRODUCED\n",
      "BIRTH CERTIFICATES\n",
      "\n",
      "TX SB412\n",
      "Relating to affirmative defenses to prosecution for certain offenses involving material or conduct that is obscene or otherwise harmful to children.\n",
      "TX SB412EDUCATIONINTRODUCED\n",
      "EDUCATION\n",
      "\n",
      "TX SB619\n",
      "Relating to protection of persons from participation in a health care service for reasons of conscience; providing a civil remedy; authorizing disciplinary action.\n",
      "TX SB619HEALTHCAREINTRODUCED\n",
      "HEALTHCARE\n",
      "\n",
      "TX SB689\n",
      "Relating to the implementation of diversity, equity, and inclusion initiatives by certain governmental entities.\n",
      "TX SB689EDUCATIONINTRODUCED\n",
      "EDUCATION\n",
      "\n",
      "TX SB753\n",
      "Relating to prohibiting certain conduct by physicians and health care providers involving gender transitioning and gender reassignment procedures and treatments for children; creating a criminal offense.\n",
      "TX SB753HEALTHCAREINTRODUCED\n",
      "HEALTHCARE\n",
      "\n",
      "TX SB810\n",
      "Relating to protection for a public school employee's use of terms consistent with biological sex.\n",
      "TX SB810EDUCATIONINTRODUCED\n",
      "EDUCATION\n",
      "\n",
      "TX SB84\n",
      "Relating to the definition and use of the terms \"male\" and \"female\" for purposes of certain government documents.\n",
      "TX SB84CIVIL RIGHTSINTRODUCED\n",
      "CIVIL RIGHTS\n",
      "\n",
      "TX SB86\n",
      "Relating to parental rights in public education and prohibiting instruction regarding sexual orientation or gender identity for public school students.\n",
      "TX SB86EDUCATIONINTRODUCED\n",
      "EDUCATION\n",
      "\n",
      "TX SB89\n",
      "Relating to defenses to prosecution for certain criminal offenses involving material or conduct that may be obscene or is otherwise harmful to children.\n",
      "TX SB89EDUCATIONINTRODUCED\n",
      "EDUCATION\n",
      "\n",
      "TX SB949\n",
      "Relating to prohibitions on deceptive and unfair practices related to financial institutions discriminating in the provision of financial services to consumers and other persons.\n",
      "TX SB949OTHERINTRODUCED\n",
      "OTHER\n",
      "\n",
      "TX SB983\n",
      "Relating to local school health advisory councils and instruction regarding human sexuality, sexual orientation, and gender identity provided by public schools.\n",
      "TX SB983EDUCATIONINTRODUCED\n",
      "EDUCATION\n",
      "\n"
     ]
    }
   ],
   "source": [
    "# go through each card, and print: bill number, title, description, category\n",
    "\n",
    "for item in bill_cards:\n",
    "    print(item.h3.text)\n",
    "    print(item.h2.text) # title\n",
    "    print(item.div.text) # description\n",
    "    print(item.span.text) # category\n",
    "    print()"
   ]
  },
  {
   "cell_type": "code",
   "execution_count": 87,
   "id": "d893e53e-dbf2-41c2-95c0-36a657b57c78",
   "metadata": {},
   "outputs": [
    {
     "name": "stdout",
     "output_type": "stream",
     "text": [
      "TX HB1014\n",
      "Relating to regulations and policies for entering or using a bathroom or changing facility in a public school; authorizing a civil penalty, authorizing a private civil right of action.\n",
      "Sec. 38.452. DETERMINATION OF BIOLOGICAL SEX. (a) For purposes of this subchapter, a person's biological sex is the biological sex correctly stated on the person's official birth certificate as described by Subsection (b).\n",
      "BATHROOM\n",
      "\n",
      "TX HB1015\n",
      "Relating to regulations and policies for entering or using a bathroom or changing facility in a public school.\n",
      "DETERMINATION OF BIOLOGICAL SEX. (a) For purposes of this subchapter, a person's biological sex is the biological sex correctly stated on the person's official birth certificate as described by Subsection (b).\n",
      "BATHROOM\n",
      "\n",
      "TX HB1016\n",
      "Relating to a public school policy regarding multi-occupancy bathrooms or changing facilities.\n",
      "(a) In this section, \"multi-occupancy bathroom or changing facility\" [...] includes a restroom, locker room, changing room, or shower room. [...] (c) If a school district adopts a policy that allows for separation of multi-occupancy bathrooms or changing facilities according to a criterion other than a person's biological sex assigned at birth, the policy must: (1) include: (A) a description of: (i) which multi-occupancy bathrooms or changing facilities are not separated by biological sex assigned at birth; and (ii) if a multi-occupancy bathroom or changing facility is not separated by biological sex assigned at birth, the method by which students will be supervised in that facility and the manner in which that method of supervision ensures the safety and privacy of students; and (B) accommodations or modifications for students who wish to use a multi-occupancy bathroom or changing facility separated by biological sex assigned at birth; and (2) be: (A) posted on the district's Internet website; and (B) provided at the beginning of each school year by mail to each parent of a student enrolled in the district.\n",
      "BATHROOM\n",
      "\n",
      "TX HB1075\n",
      "Relating to a cause of action for drag performances performed in the presence of a minor.\n",
      "LIABILITY FOR DRAG PERFORMANCE IN PRESENCE OF MINOR [...] (1) \"Drag performance\" means a performance in which a performer exhibits a gender that is different than the performer's gender recorded at birth using clothing, makeup, or other physical markers and sings, lip syncs, dances, or otherwise performs in a lascivious manner before an audience.\n",
      "PERFORMANCE\n",
      "\n",
      "TX HB1088\n",
      "Relating to the statute of limitations on a health care liability claim involving certain gender modification drugs provided to and procedures performed on a minor.\n",
      "Sec. 74.252.  STATUTE OF LIMITATIONS ON HEALTH CARE LIABILITY CLAIMS INVOLVING CERTAIN GENDER MODIFICATION DRUGS AND PROCEDURES. A claimant must bring a health care liability claim not later than the claimant's 30th birthday if: (1)  the claimant is a minor at the time the cause of action accrues; and (2) the basis for the claim is malpractice in the provision of a puberty suppression prescription drug or cross-sex hormone to or the performance of surgery or another medical procedure on the minor for the purpose of gender transitioning or gender reassignment.\n",
      "HEALTHCARE\n",
      "\n",
      "TX HB1106\n",
      "Relating to the definition of abuse or neglect of a child.\n",
      "In this chapter, “abuse” and “ neglect,” as defined in Sec. 261.001, do not include the refusal of the child’s parent, legal guardian, or other person responsible for a child’s care, custody, or welfare to: (a)  affirm the child’s expressed sexual orientation or gender identity; or (b)  address the child according to the child’s preferred name or pronoun(s), regardless of whether the child has legally changed their name.\n",
      "CHILD ABUSE\n",
      "\n",
      "TX HB1123\n",
      "Relating to interscholastic athletic competition based on biological sex, requirements for physical examinations and genetic testing in interscholastic athletics, and the adoption of rules by the University Interscholastic League to implement these requirements.\n",
      "A student may not compete in an interscholastic athletic competition designated for a particular biological sex if the student's chromosomal sex does not match the biological sex assigned at birth as described in subsection (a). This determination shall be made based on clinical evidence, including genetic testing results provided by a licensed medical professional under Section 33.098.\n",
      "SPORTS\n",
      "\n",
      "TX HB1434\n",
      "Relating to affirmative defenses to prosecution for certain offenses involving material or conduct that is obscene or otherwise harmful to children.\n"
     ]
    },
    {
     "ename": "AttributeError",
     "evalue": "'NoneType' object has no attribute 'text'",
     "output_type": "error",
     "traceback": [
      "\u001b[0;31m---------------------------------------------------------------------------\u001b[0m",
      "\u001b[0;31mAttributeError\u001b[0m                            Traceback (most recent call last)",
      "Cell \u001b[0;32mIn[87], line 4\u001b[0m\n\u001b[1;32m      2\u001b[0m \u001b[38;5;28mprint\u001b[39m(item\u001b[38;5;241m.\u001b[39mh3\u001b[38;5;241m.\u001b[39mtext)\n\u001b[1;32m      3\u001b[0m \u001b[38;5;28mprint\u001b[39m(item\u001b[38;5;241m.\u001b[39mh2\u001b[38;5;241m.\u001b[39mtext) \u001b[38;5;66;03m# title\u001b[39;00m\n\u001b[0;32m----> 4\u001b[0m \u001b[38;5;28mprint\u001b[39m(item\u001b[38;5;241m.\u001b[39mp\u001b[38;5;241m.\u001b[39mtext) \u001b[38;5;66;03m# description\u001b[39;00m\n\u001b[1;32m      5\u001b[0m \u001b[38;5;28mprint\u001b[39m(item\u001b[38;5;241m.\u001b[39mspan\u001b[38;5;241m.\u001b[39mtext) \u001b[38;5;66;03m# category\u001b[39;00m\n\u001b[1;32m      6\u001b[0m \u001b[38;5;28mprint\u001b[39m()\n",
      "\u001b[0;31mAttributeError\u001b[0m: 'NoneType' object has no attribute 'text'"
     ]
    }
   ],
   "source": [
    "for item in bill_cards:\n",
    "    print(item.h3.text)\n",
    "    print(item.h2.text) # title\n",
    "    print(item.p.text) # description\n",
    "    print(item.span.text) # category\n",
    "    print()"
   ]
  },
  {
   "cell_type": "code",
   "execution_count": 93,
   "id": "d73ad07f-9373-4742-9159-0ec3583b37c3",
   "metadata": {},
   "outputs": [],
   "source": [
    "site = requests.get('https://www.nytimes.com/')\n",
    "html = site.content\n",
    "soup = BeautifulSoup(html)"
   ]
  },
  {
   "cell_type": "code",
   "execution_count": 94,
   "id": "d8fbd04e-0131-4514-9d87-9744618c808a",
   "metadata": {},
   "outputs": [
    {
     "data": {
      "text/plain": [
       "<title data-rh=\"true\">The New York Times - Breaking News, US News, World News and Videos</title>"
      ]
     },
     "execution_count": 94,
     "metadata": {},
     "output_type": "execute_result"
    }
   ],
   "source": [
    "soup.title"
   ]
  },
  {
   "cell_type": "code",
   "execution_count": 92,
   "id": "3cb54b9b-558f-4dc5-9114-2de76d74294f",
   "metadata": {},
   "outputs": [
    {
     "data": {
      "text/plain": [
       "'Just a moment...Enable JavaScript and cookies to continue'"
      ]
     },
     "execution_count": 92,
     "metadata": {},
     "output_type": "execute_result"
    }
   ],
   "source": [
    "soup.text"
   ]
  },
  {
   "cell_type": "code",
   "execution_count": 95,
   "id": "cad937dd-faab-416d-91ef-9623d1913796",
   "metadata": {},
   "outputs": [],
   "source": [
    "sections = soup.find_all('section')"
   ]
  },
  {
   "cell_type": "code",
   "execution_count": 99,
   "id": "da532a73-3400-488b-ba68-d639772a3860",
   "metadata": {},
   "outputs": [
    {
     "name": "stdout",
     "output_type": "stream",
     "text": [
      "\n",
      " Today’s Paper\n",
      "LIVE\n",
      "LIVEFeb. 19, 2025, 5:29 p.m. ETIn Adams Hearing, Justice Dept. Official Suggests Helping Trump Is a Priority\n",
      "‘Time for Him to Go’: New Yorkers Sour on Eric Adams\n",
      "\n",
      "\n",
      "Trump AdministrationTracking Major MovesLawsuits TrackerIn Trump’s Cross HairsFederal Worker CutsConfirmations Tracker\n",
      "LIVEFeb. 19, 2025, 5:38 p.m. ETI.R.S. Is Said to Be Laying Off 6,000 Newer Hires\n",
      "Trump Team Finds Loophole to Defy Spirit of Orders Blocking Spending Freezes\n",
      "Citing ‘Biological Truth,’ Kennedy Issues Guidance Recognizing Only Two Sexes\n",
      "‘Long Live the King’: Trump Likens Himself to Royalty on Truth Social\n"
     ]
    },
    {
     "ename": "AttributeError",
     "evalue": "'NoneType' object has no attribute 'text'",
     "output_type": "error",
     "traceback": [
      "\u001b[0;31m---------------------------------------------------------------------------\u001b[0m",
      "\u001b[0;31mAttributeError\u001b[0m                            Traceback (most recent call last)",
      "Cell \u001b[0;32mIn[99], line 2\u001b[0m\n\u001b[1;32m      1\u001b[0m \u001b[38;5;28;01mfor\u001b[39;00m item \u001b[38;5;129;01min\u001b[39;00m sections:\n\u001b[0;32m----> 2\u001b[0m     \u001b[38;5;28mprint\u001b[39m(item\u001b[38;5;241m.\u001b[39mdiv\u001b[38;5;241m.\u001b[39mtext)\n",
      "\u001b[0;31mAttributeError\u001b[0m: 'NoneType' object has no attribute 'text'"
     ]
    }
   ],
   "source": [
    "for item in sections:\n",
    "    print(item.div.text)"
   ]
  },
  {
   "cell_type": "code",
   "execution_count": null,
   "id": "ef5514c3-a5e8-453c-a264-34cb439a4046",
   "metadata": {},
   "outputs": [],
   "source": []
  }
 ],
 "metadata": {
  "kernelspec": {
   "display_name": "Python 3 (ipykernel)",
   "language": "python",
   "name": "python3"
  },
  "language_info": {
   "codemirror_mode": {
    "name": "ipython",
    "version": 3
   },
   "file_extension": ".py",
   "mimetype": "text/x-python",
   "name": "python",
   "nbconvert_exporter": "python",
   "pygments_lexer": "ipython3",
   "version": "3.11.7"
  }
 },
 "nbformat": 4,
 "nbformat_minor": 5
}
